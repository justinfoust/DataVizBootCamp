{
 "cells": [
  {
   "cell_type": "code",
   "execution_count": 1,
   "metadata": {},
   "outputs": [],
   "source": [
    "# Dependencies\n",
    "from bs4 import BeautifulSoup\n",
    "import requests\n",
    "import os"
   ]
  },
  {
   "cell_type": "code",
   "execution_count": null,
   "metadata": {},
   "outputs": [],
   "source": [
    "# URL of Python reddit\n",
    "# url = 'https://www.reddit.com/r/Python/'\n",
    "# url = 'https://www.reddit.com/r/ProgrammingHumor/'"
   ]
  },
  {
   "cell_type": "code",
   "execution_count": null,
   "metadata": {},
   "outputs": [],
   "source": [
    "# Retrieve page with the requests module\n",
    "# html = requests.get(url)"
   ]
  },
  {
   "cell_type": "code",
   "execution_count": 2,
   "metadata": {},
   "outputs": [],
   "source": [
    "filepath = os.path.join(\"Programmer-Humor.html\")\n",
    "with open(filepath, encoding='utf-8') as file:\n",
    "    html = file.read()"
   ]
  },
  {
   "cell_type": "code",
   "execution_count": 3,
   "metadata": {},
   "outputs": [],
   "source": [
    "# Create BeautifulSoup object; parse with 'html.parser'\n",
    "soup = BeautifulSoup(html, 'html.parser')"
   ]
  },
  {
   "cell_type": "code",
   "execution_count": 9,
   "metadata": {},
   "outputs": [
    {
     "data": {
      "text/plain": [
       "<span class=\"selected title\">my subreddits</span>"
      ]
     },
     "execution_count": 9,
     "metadata": {},
     "output_type": "execute_result"
    }
   ],
   "source": [
    "soup.find('span', class_)"
   ]
  },
  {
   "cell_type": "code",
   "execution_count": 13,
   "metadata": {},
   "outputs": [
    {
     "data": {
      "text/plain": [
       "'422,381'"
      ]
     },
     "execution_count": 13,
     "metadata": {},
     "output_type": "execute_result"
    }
   ],
   "source": [
    "# Find the number of subscribers\n",
    "soup.find_all('span', class_=\"number\")[0].text"
   ]
  },
  {
   "cell_type": "code",
   "execution_count": 50,
   "metadata": {},
   "outputs": [],
   "source": [
    "results = soup.find_all('div', class_='top-matter')"
   ]
  },
  {
   "cell_type": "code",
   "execution_count": 44,
   "metadata": {},
   "outputs": [
    {
     "data": {
      "text/plain": [
       "\"Hi, I’m Mike, an engineer at Triplebyte. Talk with me or one of the other interviewers here over Google Hangouts. We'll personally match you to top tech companies and hundreds of the most exciting startups. We're re-engineering the technical job search. Take our online coding quiz to begin. (triplebyte.com)\""
      ]
     },
     "execution_count": 44,
     "metadata": {},
     "output_type": "execute_result"
    }
   ],
   "source": [
    "soup.find(\"p\", class_=\"title\").text"
   ]
  },
  {
   "cell_type": "code",
   "execution_count": 52,
   "metadata": {
    "scrolled": false
   },
   "outputs": [
    {
     "name": "stdout",
     "output_type": "stream",
     "text": [
      "Hi, I’m Mike, an engineer at Triplebyte. Talk with me or one of the other interviewers here over Google Hangouts. We'll personally match you to top tech companies and hundreds of the most exciting startups. We're re-engineering the technical job search. Take our online coding quiz to begin. (triplebyte.com)\n",
      "[Meta] Clarification on rules (self.ProgrammerHumor)\n",
      "Doing conditionals (i.redd.it)\n",
      "Perfect date (i.redd.it)\n",
      "The truth about java. (i.redd.it)\n",
      "Interviewing a Data Scientist (i.redd.it)\n",
      "An Iphone found on a body of an worker from the bug reporting department for Visual Studio (i.redd.it)\n",
      "Google has the original programmer humour jokes. (i.redd.it)\n",
      "Parser-Tongue (i.imgur.com)\n",
      "How to fix production bug in a party (i.redd.it)\n",
      "Scratch for professionals (i.redd.it)\n",
      "Start them off early (i.redd.it)\n",
      "Somebody coded a picture of Guy Fieri into a Babel library (i.redd.it)\n",
      "God damnit, just compile. You know I meant to put a semicolon there. You even said you're expecting it. (self.ProgrammerHumor)\n",
      "We got new phones at work and we can set custom backgrounds (i.imgur.com)\n",
      "Spotted in Subway Station (i.redd.it)\n",
      "beatles.js (i.redd.it)\n",
      "An eternity later.... (i.redd.it)\n",
      "It all makes sense now. (i.imgur.com)\n",
      "This is where US's bandwidth going. (i.redd.it)\n",
      "cool sign (i.redd.it)\n",
      "That's a lot of commits (i.redd.it)\n",
      "Arrays start at 0. (i.imgur.com)\n",
      "Sassy destructor (i.redd.it)\n",
      "Well, that's one way to do it I guess (i.redd.it)\n",
      "Unit testing but 0 integration testing (imgur.com)\n",
      "no arguments (i.redd.it)\n"
     ]
    }
   ],
   "source": [
    "# Examine the results, then determine element that contains sought info\n",
    "# results are returned as an iterable list\n",
    "for i in results:\n",
    "    print(i.find(\"p\", class_=\"title\").text)"
   ]
  },
  {
   "cell_type": "code",
   "execution_count": null,
   "metadata": {},
   "outputs": [],
   "source": [
    "# Loop through returned results\n",
    "for i in soup    \n",
    "    # Retrieve the thread title\n",
    "    \n",
    "    \n",
    "    # Access the thread's text content\n",
    "\n",
    "    try:\n",
    "        # Access the thread with CSS selectors\n",
    "\n",
    "        # The number of comments made in the thread\n",
    "\n",
    "        # Parse string, e.g. '47 comments' for possible numeric manipulation\n",
    "\n",
    "        # Access the href attribute with bracket notation\n",
    "\n",
    "        # Run if the thread has comments\n",
    "        if (comments_num):\n",
    "            print('\\n-----------------\\n')\n",
    "            print(title_text)\n",
    "            print('Comments:', comments_num)\n",
    "            print(link)\n",
    "    except AttributeError as e:\n",
    "        print(e)"
   ]
  }
 ],
 "metadata": {
  "hide_input": false,
  "kernelspec": {
   "display_name": "Python 3",
   "language": "python",
   "name": "python3"
  },
  "language_info": {
   "codemirror_mode": {
    "name": "ipython",
    "version": 3
   },
   "file_extension": ".py",
   "mimetype": "text/x-python",
   "name": "python",
   "nbconvert_exporter": "python",
   "pygments_lexer": "ipython3",
   "version": "3.7.3"
  },
  "toc": {
   "base_numbering": 1,
   "nav_menu": {},
   "number_sections": true,
   "sideBar": true,
   "skip_h1_title": false,
   "title_cell": "Table of Contents",
   "title_sidebar": "Contents",
   "toc_cell": false,
   "toc_position": {},
   "toc_section_display": true,
   "toc_window_display": false
  },
  "varInspector": {
   "cols": {
    "lenName": 16,
    "lenType": 16,
    "lenVar": 40
   },
   "kernels_config": {
    "python": {
     "delete_cmd_postfix": "",
     "delete_cmd_prefix": "del ",
     "library": "var_list.py",
     "varRefreshCmd": "print(var_dic_list())"
    },
    "r": {
     "delete_cmd_postfix": ") ",
     "delete_cmd_prefix": "rm(",
     "library": "var_list.r",
     "varRefreshCmd": "cat(var_dic_list()) "
    }
   },
   "types_to_exclude": [
    "module",
    "function",
    "builtin_function_or_method",
    "instance",
    "_Feature"
   ],
   "window_display": false
  }
 },
 "nbformat": 4,
 "nbformat_minor": 2
}
