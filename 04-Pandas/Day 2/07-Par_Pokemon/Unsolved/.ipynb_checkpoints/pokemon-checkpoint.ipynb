{
 "cells": [
  {
   "cell_type": "code",
   "execution_count": 1,
   "metadata": {},
   "outputs": [],
   "source": [
    "# Dependencies\n",
    "import os\n",
    "import pandas as pd\n",
    "import numpy as np"
   ]
  },
  {
   "cell_type": "code",
   "execution_count": 2,
   "metadata": {},
   "outputs": [],
   "source": [
    "# Save file path to variable\n",
    "filePath = os.path.join('Resources','Pokemon.csv')"
   ]
  },
  {
   "cell_type": "code",
   "execution_count": 6,
   "metadata": {},
   "outputs": [
    {
     "name": "stdout",
     "output_type": "stream",
     "text": [
      "<class 'pandas.core.frame.DataFrame'>\n",
      "RangeIndex: 800 entries, 0 to 799\n",
      "Data columns (total 13 columns):\n",
      "#             800 non-null int64\n",
      "Name          800 non-null object\n",
      "Type 1        800 non-null object\n",
      "Type 2        414 non-null object\n",
      "Total         800 non-null int64\n",
      "HP            800 non-null int64\n",
      "Attack        800 non-null int64\n",
      "Defense       800 non-null int64\n",
      "Sp. Atk       800 non-null int64\n",
      "Sp. Def       800 non-null int64\n",
      "Speed         800 non-null int64\n",
      "Generation    800 non-null int64\n",
      "Legendary     800 non-null bool\n",
      "dtypes: bool(1), int64(9), object(3)\n",
      "memory usage: 75.9+ KB\n"
     ]
    }
   ],
   "source": [
    "# Read with Pandas\n",
    "pokedex = pd.read_csv(filePath)\n",
    "\n",
    "pokedex.columns\n",
    "pokedex.info()"
   ]
  },
  {
   "cell_type": "code",
   "execution_count": 15,
   "metadata": {},
   "outputs": [],
   "source": [
    "# Extract the following columns: \"Type 1\", \"HP\", \"Attack\", \"Sp. Atk\", \"Sp. Def\", and \"Speed\"\n",
    "pokedex1= pokedex[['Type 1','HP','Attack','Sp. Atk','Sp. Def','Speed']]"
   ]
  },
  {
   "cell_type": "code",
   "execution_count": 18,
   "metadata": {},
   "outputs": [
    {
     "data": {
      "text/html": [
       "<div>\n",
       "<style scoped>\n",
       "    .dataframe tbody tr th:only-of-type {\n",
       "        vertical-align: middle;\n",
       "    }\n",
       "\n",
       "    .dataframe tbody tr th {\n",
       "        vertical-align: top;\n",
       "    }\n",
       "\n",
       "    .dataframe thead th {\n",
       "        text-align: right;\n",
       "    }\n",
       "</style>\n",
       "<table border=\"1\" class=\"dataframe\">\n",
       "  <thead>\n",
       "    <tr style=\"text-align: right;\">\n",
       "      <th></th>\n",
       "      <th>HP</th>\n",
       "      <th>Attack</th>\n",
       "      <th>Sp. Atk</th>\n",
       "      <th>Sp. Def</th>\n",
       "      <th>Speed</th>\n",
       "    </tr>\n",
       "    <tr>\n",
       "      <th>Type 1</th>\n",
       "      <th></th>\n",
       "      <th></th>\n",
       "      <th></th>\n",
       "      <th></th>\n",
       "      <th></th>\n",
       "    </tr>\n",
       "  </thead>\n",
       "  <tbody>\n",
       "    <tr>\n",
       "      <td>Bug</td>\n",
       "      <td>56.884058</td>\n",
       "      <td>70.971014</td>\n",
       "      <td>53.869565</td>\n",
       "      <td>64.797101</td>\n",
       "      <td>61.681159</td>\n",
       "    </tr>\n",
       "    <tr>\n",
       "      <td>Dark</td>\n",
       "      <td>66.806452</td>\n",
       "      <td>88.387097</td>\n",
       "      <td>74.645161</td>\n",
       "      <td>69.516129</td>\n",
       "      <td>76.161290</td>\n",
       "    </tr>\n",
       "    <tr>\n",
       "      <td>Dragon</td>\n",
       "      <td>83.312500</td>\n",
       "      <td>112.125000</td>\n",
       "      <td>96.843750</td>\n",
       "      <td>88.843750</td>\n",
       "      <td>83.031250</td>\n",
       "    </tr>\n",
       "    <tr>\n",
       "      <td>Electric</td>\n",
       "      <td>59.795455</td>\n",
       "      <td>69.090909</td>\n",
       "      <td>90.022727</td>\n",
       "      <td>73.704545</td>\n",
       "      <td>84.500000</td>\n",
       "    </tr>\n",
       "    <tr>\n",
       "      <td>Fairy</td>\n",
       "      <td>74.117647</td>\n",
       "      <td>61.529412</td>\n",
       "      <td>78.529412</td>\n",
       "      <td>84.705882</td>\n",
       "      <td>48.588235</td>\n",
       "    </tr>\n",
       "  </tbody>\n",
       "</table>\n",
       "</div>"
      ],
      "text/plain": [
       "                 HP      Attack    Sp. Atk    Sp. Def      Speed\n",
       "Type 1                                                          \n",
       "Bug       56.884058   70.971014  53.869565  64.797101  61.681159\n",
       "Dark      66.806452   88.387097  74.645161  69.516129  76.161290\n",
       "Dragon    83.312500  112.125000  96.843750  88.843750  83.031250\n",
       "Electric  59.795455   69.090909  90.022727  73.704545  84.500000\n",
       "Fairy     74.117647   61.529412  78.529412  84.705882  48.588235"
      ]
     },
     "execution_count": 18,
     "metadata": {},
     "output_type": "execute_result"
    }
   ],
   "source": [
    "# Create a dataframe of the average stats for each type of pokemon.\n",
    "pokedex1Avg = pokedex1.groupby(['Type 1']).mean()\n",
    "\n",
    "pokedex1Avg.head()"
   ]
  },
  {
   "cell_type": "code",
   "execution_count": 23,
   "metadata": {},
   "outputs": [
    {
     "data": {
      "text/html": [
       "<div>\n",
       "<style scoped>\n",
       "    .dataframe tbody tr th:only-of-type {\n",
       "        vertical-align: middle;\n",
       "    }\n",
       "\n",
       "    .dataframe tbody tr th {\n",
       "        vertical-align: top;\n",
       "    }\n",
       "\n",
       "    .dataframe thead th {\n",
       "        text-align: right;\n",
       "    }\n",
       "</style>\n",
       "<table border=\"1\" class=\"dataframe\">\n",
       "  <thead>\n",
       "    <tr style=\"text-align: right;\">\n",
       "      <th></th>\n",
       "      <th>HP</th>\n",
       "      <th>Attack</th>\n",
       "      <th>Sp. Atk</th>\n",
       "      <th>Sp. Def</th>\n",
       "      <th>Speed</th>\n",
       "      <th>Total</th>\n",
       "    </tr>\n",
       "    <tr>\n",
       "      <th>Type 1</th>\n",
       "      <th></th>\n",
       "      <th></th>\n",
       "      <th></th>\n",
       "      <th></th>\n",
       "      <th></th>\n",
       "      <th></th>\n",
       "    </tr>\n",
       "  </thead>\n",
       "  <tbody>\n",
       "    <tr>\n",
       "      <td>Bug</td>\n",
       "      <td>56.884058</td>\n",
       "      <td>70.971014</td>\n",
       "      <td>53.869565</td>\n",
       "      <td>64.797101</td>\n",
       "      <td>61.681159</td>\n",
       "      <td>616.405797</td>\n",
       "    </tr>\n",
       "    <tr>\n",
       "      <td>Dark</td>\n",
       "      <td>66.806452</td>\n",
       "      <td>88.387097</td>\n",
       "      <td>74.645161</td>\n",
       "      <td>69.516129</td>\n",
       "      <td>76.161290</td>\n",
       "      <td>751.032258</td>\n",
       "    </tr>\n",
       "    <tr>\n",
       "      <td>Dragon</td>\n",
       "      <td>83.312500</td>\n",
       "      <td>112.125000</td>\n",
       "      <td>96.843750</td>\n",
       "      <td>88.843750</td>\n",
       "      <td>83.031250</td>\n",
       "      <td>928.312500</td>\n",
       "    </tr>\n",
       "    <tr>\n",
       "      <td>Electric</td>\n",
       "      <td>59.795455</td>\n",
       "      <td>69.090909</td>\n",
       "      <td>90.022727</td>\n",
       "      <td>73.704545</td>\n",
       "      <td>84.500000</td>\n",
       "      <td>754.227273</td>\n",
       "    </tr>\n",
       "    <tr>\n",
       "      <td>Fairy</td>\n",
       "      <td>74.117647</td>\n",
       "      <td>61.529412</td>\n",
       "      <td>78.529412</td>\n",
       "      <td>84.705882</td>\n",
       "      <td>48.588235</td>\n",
       "      <td>694.941176</td>\n",
       "    </tr>\n",
       "  </tbody>\n",
       "</table>\n",
       "</div>"
      ],
      "text/plain": [
       "                 HP      Attack    Sp. Atk    Sp. Def      Speed       Total\n",
       "Type 1                                                                      \n",
       "Bug       56.884058   70.971014  53.869565  64.797101  61.681159  616.405797\n",
       "Dark      66.806452   88.387097  74.645161  69.516129  76.161290  751.032258\n",
       "Dragon    83.312500  112.125000  96.843750  88.843750  83.031250  928.312500\n",
       "Electric  59.795455   69.090909  90.022727  73.704545  84.500000  754.227273\n",
       "Fairy     74.117647   61.529412  78.529412  84.705882  48.588235  694.941176"
      ]
     },
     "execution_count": 23,
     "metadata": {},
     "output_type": "execute_result"
    }
   ],
   "source": [
    "# Calculate the total power level of each type of pokemon by summing all of the stats together.\n",
    "# Place the results into a new column.\n",
    "# Hint: Research the sum method from pandas.\n",
    "\n",
    "pokedex1Avg['Total'] = pokedex1Avg.sum(axis=1)\n",
    "\n",
    "pokedex1Avg.head()"
   ]
  },
  {
   "cell_type": "code",
   "execution_count": null,
   "metadata": {
    "collapsed": true,
    "jupyter": {
     "outputs_hidden": true
    }
   },
   "outputs": [],
   "source": [
    "# Bonus: Sort the table by strongest type and export the resulting table to a new CSV.\n"
   ]
  }
 ],
 "metadata": {
  "anaconda-cloud": {},
  "kernelspec": {
   "display_name": "Python 3",
   "language": "python",
   "name": "python3"
  },
  "language_info": {
   "codemirror_mode": {
    "name": "ipython",
    "version": 3
   },
   "file_extension": ".py",
   "mimetype": "text/x-python",
   "name": "python",
   "nbconvert_exporter": "python",
   "pygments_lexer": "ipython3",
   "version": "3.7.3"
  }
 },
 "nbformat": 4,
 "nbformat_minor": 4
}
