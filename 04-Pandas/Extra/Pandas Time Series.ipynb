{
 "cells": [
  {
   "cell_type": "markdown",
   "metadata": {},
   "source": [
    "# Time Series Data and Pandas\n",
    "> A time series is a series of data points indexed (or listed or graphed) in time order (wikipedia)\n",
    "\n",
    "> A time series is a sequence of numerical data points in successive order. In investing, a time series tracks the movement of the chosen data points, such as a security’s price, over a specified period of time with data points recorded at regular intervals (Investopedia)"
   ]
  },
  {
   "cell_type": "code",
   "execution_count": 1,
   "metadata": {},
   "outputs": [],
   "source": [
    "import pandas as pd\n",
    "import numpy as np\n",
    "import matplotlib.pyplot as plt\n",
    "plt.style.use('ggplot')"
   ]
  },
  {
   "cell_type": "markdown",
   "metadata": {},
   "source": [
    "### Create a DateTimeIndex with `date_range()`"
   ]
  },
  {
   "cell_type": "code",
   "execution_count": 2,
   "metadata": {},
   "outputs": [
    {
     "data": {
      "text/plain": [
       "DatetimeIndex(['2019-01-01', '2019-01-02', '2019-01-03', '2019-01-04',\n",
       "               '2019-01-05', '2019-01-06', '2019-01-07', '2019-01-08',\n",
       "               '2019-01-09', '2019-01-10'],\n",
       "              dtype='datetime64[ns]', freq='D')"
      ]
     },
     "execution_count": 2,
     "metadata": {},
     "output_type": "execute_result"
    }
   ],
   "source": [
    "pd.date_range('2019/1/1', periods=10, freq='D')"
   ]
  },
  {
   "cell_type": "code",
   "execution_count": 3,
   "metadata": {},
   "outputs": [
    {
     "data": {
      "text/plain": [
       "DatetimeIndex(['2019-01-06', '2019-01-13', '2019-01-20', '2019-01-27',\n",
       "               '2019-02-03', '2019-02-10', '2019-02-17', '2019-02-24',\n",
       "               '2019-03-03', '2019-03-10'],\n",
       "              dtype='datetime64[ns]', freq='W-SUN')"
      ]
     },
     "execution_count": 3,
     "metadata": {},
     "output_type": "execute_result"
    }
   ],
   "source": [
    "pd.date_range('2019/1/1', periods=10, freq='W')"
   ]
  },
  {
   "cell_type": "code",
   "execution_count": 4,
   "metadata": {},
   "outputs": [
    {
     "data": {
      "text/plain": [
       "DatetimeIndex(['2019-01-31', '2019-02-28', '2019-03-31', '2019-04-30',\n",
       "               '2019-05-31', '2019-06-30', '2019-07-31', '2019-08-31',\n",
       "               '2019-09-30', '2019-10-31'],\n",
       "              dtype='datetime64[ns]', freq='M')"
      ]
     },
     "execution_count": 4,
     "metadata": {},
     "output_type": "execute_result"
    }
   ],
   "source": [
    "pd.date_range('2019/1/1', periods=10, freq='M')"
   ]
  },
  {
   "cell_type": "code",
   "execution_count": 5,
   "metadata": {},
   "outputs": [
    {
     "data": {
      "text/plain": [
       "DatetimeIndex(['2019-12-31', '2020-12-31', '2021-12-31', '2022-12-31',\n",
       "               '2023-12-31', '2024-12-31', '2025-12-31', '2026-12-31',\n",
       "               '2027-12-31', '2028-12-31'],\n",
       "              dtype='datetime64[ns]', freq='A-DEC')"
      ]
     },
     "execution_count": 5,
     "metadata": {},
     "output_type": "execute_result"
    }
   ],
   "source": [
    "pd.date_range('2019/1/1', periods=10, freq='Y')"
   ]
  },
  {
   "cell_type": "code",
   "execution_count": 6,
   "metadata": {},
   "outputs": [
    {
     "data": {
      "text/html": [
       "<div>\n",
       "<style scoped>\n",
       "    .dataframe tbody tr th:only-of-type {\n",
       "        vertical-align: middle;\n",
       "    }\n",
       "\n",
       "    .dataframe tbody tr th {\n",
       "        vertical-align: top;\n",
       "    }\n",
       "\n",
       "    .dataframe thead th {\n",
       "        text-align: right;\n",
       "    }\n",
       "</style>\n",
       "<table border=\"1\" class=\"dataframe\">\n",
       "  <thead>\n",
       "    <tr style=\"text-align: right;\">\n",
       "      <th></th>\n",
       "      <th>Close</th>\n",
       "      <th>Volume</th>\n",
       "    </tr>\n",
       "  </thead>\n",
       "  <tbody>\n",
       "    <tr>\n",
       "      <td>0</td>\n",
       "      <td>168</td>\n",
       "      <td>95746</td>\n",
       "    </tr>\n",
       "    <tr>\n",
       "      <td>1</td>\n",
       "      <td>156</td>\n",
       "      <td>95544</td>\n",
       "    </tr>\n",
       "    <tr>\n",
       "      <td>2</td>\n",
       "      <td>158</td>\n",
       "      <td>98520</td>\n",
       "    </tr>\n",
       "    <tr>\n",
       "      <td>3</td>\n",
       "      <td>132</td>\n",
       "      <td>27377</td>\n",
       "    </tr>\n",
       "    <tr>\n",
       "      <td>4</td>\n",
       "      <td>168</td>\n",
       "      <td>63091</td>\n",
       "    </tr>\n",
       "  </tbody>\n",
       "</table>\n",
       "</div>"
      ],
      "text/plain": [
       "   Close  Volume\n",
       "0    168   95746\n",
       "1    156   95544\n",
       "2    158   98520\n",
       "3    132   27377\n",
       "4    168   63091"
      ]
     },
     "execution_count": 6,
     "metadata": {},
     "output_type": "execute_result"
    }
   ],
   "source": [
    "df = pd.DataFrame()\n",
    "df['Close'] = np.random.randint(low=120, high=200, size=10)\n",
    "df['Volume'] = np.random.randint(low=10000, high=100000, size=10)\n",
    "\n",
    "df.head()"
   ]
  },
  {
   "cell_type": "code",
   "execution_count": 7,
   "metadata": {},
   "outputs": [
    {
     "data": {
      "text/html": [
       "<div>\n",
       "<style scoped>\n",
       "    .dataframe tbody tr th:only-of-type {\n",
       "        vertical-align: middle;\n",
       "    }\n",
       "\n",
       "    .dataframe tbody tr th {\n",
       "        vertical-align: top;\n",
       "    }\n",
       "\n",
       "    .dataframe thead th {\n",
       "        text-align: right;\n",
       "    }\n",
       "</style>\n",
       "<table border=\"1\" class=\"dataframe\">\n",
       "  <thead>\n",
       "    <tr style=\"text-align: right;\">\n",
       "      <th></th>\n",
       "      <th>Close</th>\n",
       "      <th>Volume</th>\n",
       "    </tr>\n",
       "  </thead>\n",
       "  <tbody>\n",
       "    <tr>\n",
       "      <td>2019-01-01</td>\n",
       "      <td>168</td>\n",
       "      <td>95746</td>\n",
       "    </tr>\n",
       "    <tr>\n",
       "      <td>2019-01-02</td>\n",
       "      <td>156</td>\n",
       "      <td>95544</td>\n",
       "    </tr>\n",
       "    <tr>\n",
       "      <td>2019-01-03</td>\n",
       "      <td>158</td>\n",
       "      <td>98520</td>\n",
       "    </tr>\n",
       "    <tr>\n",
       "      <td>2019-01-04</td>\n",
       "      <td>132</td>\n",
       "      <td>27377</td>\n",
       "    </tr>\n",
       "    <tr>\n",
       "      <td>2019-01-05</td>\n",
       "      <td>168</td>\n",
       "      <td>63091</td>\n",
       "    </tr>\n",
       "  </tbody>\n",
       "</table>\n",
       "</div>"
      ],
      "text/plain": [
       "            Close  Volume\n",
       "2019-01-01    168   95746\n",
       "2019-01-02    156   95544\n",
       "2019-01-03    158   98520\n",
       "2019-01-04    132   27377\n",
       "2019-01-05    168   63091"
      ]
     },
     "execution_count": 7,
     "metadata": {},
     "output_type": "execute_result"
    }
   ],
   "source": [
    "idx = pd.date_range('2019/1/1', periods=10, freq='D')\n",
    "df.set_index(idx, inplace=True)\n",
    "df.head()"
   ]
  },
  {
   "cell_type": "markdown",
   "metadata": {},
   "source": [
    "# Working with Time Series Data"
   ]
  },
  {
   "cell_type": "code",
   "execution_count": 8,
   "metadata": {},
   "outputs": [],
   "source": [
    "amazon = pd.read_csv(\"Data/amzn_stock.csv\")"
   ]
  },
  {
   "cell_type": "code",
   "execution_count": 9,
   "metadata": {},
   "outputs": [
    {
     "data": {
      "text/html": [
       "<div>\n",
       "<style scoped>\n",
       "    .dataframe tbody tr th:only-of-type {\n",
       "        vertical-align: middle;\n",
       "    }\n",
       "\n",
       "    .dataframe tbody tr th {\n",
       "        vertical-align: top;\n",
       "    }\n",
       "\n",
       "    .dataframe thead th {\n",
       "        text-align: right;\n",
       "    }\n",
       "</style>\n",
       "<table border=\"1\" class=\"dataframe\">\n",
       "  <thead>\n",
       "    <tr style=\"text-align: right;\">\n",
       "      <th></th>\n",
       "      <th>Date</th>\n",
       "      <th>Open</th>\n",
       "      <th>High</th>\n",
       "      <th>Low</th>\n",
       "      <th>Close</th>\n",
       "      <th>Volume</th>\n",
       "    </tr>\n",
       "  </thead>\n",
       "  <tbody>\n",
       "    <tr>\n",
       "      <td>0</td>\n",
       "      <td>2010-01-04</td>\n",
       "      <td>136.25</td>\n",
       "      <td>136.61</td>\n",
       "      <td>133.14</td>\n",
       "      <td>133.90</td>\n",
       "      <td>7600543</td>\n",
       "    </tr>\n",
       "    <tr>\n",
       "      <td>1</td>\n",
       "      <td>2010-01-05</td>\n",
       "      <td>133.43</td>\n",
       "      <td>135.48</td>\n",
       "      <td>131.81</td>\n",
       "      <td>134.69</td>\n",
       "      <td>8856456</td>\n",
       "    </tr>\n",
       "    <tr>\n",
       "      <td>2</td>\n",
       "      <td>2010-01-06</td>\n",
       "      <td>134.60</td>\n",
       "      <td>134.73</td>\n",
       "      <td>131.65</td>\n",
       "      <td>132.25</td>\n",
       "      <td>7180977</td>\n",
       "    </tr>\n",
       "    <tr>\n",
       "      <td>3</td>\n",
       "      <td>2010-01-07</td>\n",
       "      <td>132.01</td>\n",
       "      <td>132.32</td>\n",
       "      <td>128.80</td>\n",
       "      <td>130.00</td>\n",
       "      <td>11030124</td>\n",
       "    </tr>\n",
       "    <tr>\n",
       "      <td>4</td>\n",
       "      <td>2010-01-08</td>\n",
       "      <td>130.56</td>\n",
       "      <td>133.68</td>\n",
       "      <td>129.03</td>\n",
       "      <td>133.52</td>\n",
       "      <td>9833829</td>\n",
       "    </tr>\n",
       "  </tbody>\n",
       "</table>\n",
       "</div>"
      ],
      "text/plain": [
       "         Date    Open    High     Low   Close    Volume\n",
       "0  2010-01-04  136.25  136.61  133.14  133.90   7600543\n",
       "1  2010-01-05  133.43  135.48  131.81  134.69   8856456\n",
       "2  2010-01-06  134.60  134.73  131.65  132.25   7180977\n",
       "3  2010-01-07  132.01  132.32  128.80  130.00  11030124\n",
       "4  2010-01-08  130.56  133.68  129.03  133.52   9833829"
      ]
     },
     "execution_count": 9,
     "metadata": {},
     "output_type": "execute_result"
    }
   ],
   "source": [
    "amazon.head()"
   ]
  },
  {
   "cell_type": "code",
   "execution_count": 11,
   "metadata": {},
   "outputs": [
    {
     "data": {
      "text/plain": [
       "RangeIndex(start=0, stop=1896, step=1)"
      ]
     },
     "execution_count": 11,
     "metadata": {},
     "output_type": "execute_result"
    }
   ],
   "source": [
    "amazon.index"
   ]
  },
  {
   "cell_type": "code",
   "execution_count": 12,
   "metadata": {},
   "outputs": [
    {
     "name": "stdout",
     "output_type": "stream",
     "text": [
      "<class 'pandas.core.frame.DataFrame'>\n",
      "RangeIndex: 1896 entries, 0 to 1895\n",
      "Data columns (total 6 columns):\n",
      "Date      1896 non-null object\n",
      "Open      1896 non-null float64\n",
      "High      1896 non-null float64\n",
      "Low       1896 non-null float64\n",
      "Close     1896 non-null float64\n",
      "Volume    1896 non-null int64\n",
      "dtypes: float64(4), int64(1), object(1)\n",
      "memory usage: 89.0+ KB\n"
     ]
    }
   ],
   "source": [
    "amazon.info()"
   ]
  },
  {
   "cell_type": "code",
   "execution_count": 13,
   "metadata": {},
   "outputs": [
    {
     "name": "stdout",
     "output_type": "stream",
     "text": [
      "<class 'pandas.core.frame.DataFrame'>\n",
      "RangeIndex: 1896 entries, 0 to 1895\n",
      "Data columns (total 6 columns):\n",
      "Date      1896 non-null datetime64[ns]\n",
      "Open      1896 non-null float64\n",
      "High      1896 non-null float64\n",
      "Low       1896 non-null float64\n",
      "Close     1896 non-null float64\n",
      "Volume    1896 non-null int64\n",
      "dtypes: datetime64[ns](1), float64(4), int64(1)\n",
      "memory usage: 89.0 KB\n"
     ]
    }
   ],
   "source": [
    "amazon[\"Date\"] = pd.to_datetime(amazon['Date'])\n",
    "amazon.info()"
   ]
  },
  {
   "cell_type": "markdown",
   "metadata": {},
   "source": [
    "### Create an Index from date"
   ]
  },
  {
   "cell_type": "code",
   "execution_count": 14,
   "metadata": {},
   "outputs": [
    {
     "data": {
      "text/html": [
       "<div>\n",
       "<style scoped>\n",
       "    .dataframe tbody tr th:only-of-type {\n",
       "        vertical-align: middle;\n",
       "    }\n",
       "\n",
       "    .dataframe tbody tr th {\n",
       "        vertical-align: top;\n",
       "    }\n",
       "\n",
       "    .dataframe thead th {\n",
       "        text-align: right;\n",
       "    }\n",
       "</style>\n",
       "<table border=\"1\" class=\"dataframe\">\n",
       "  <thead>\n",
       "    <tr style=\"text-align: right;\">\n",
       "      <th></th>\n",
       "      <th>Open</th>\n",
       "      <th>High</th>\n",
       "      <th>Low</th>\n",
       "      <th>Close</th>\n",
       "      <th>Volume</th>\n",
       "    </tr>\n",
       "    <tr>\n",
       "      <th>Date</th>\n",
       "      <th></th>\n",
       "      <th></th>\n",
       "      <th></th>\n",
       "      <th></th>\n",
       "      <th></th>\n",
       "    </tr>\n",
       "  </thead>\n",
       "  <tbody>\n",
       "    <tr>\n",
       "      <td>2010-01-04</td>\n",
       "      <td>136.25</td>\n",
       "      <td>136.61</td>\n",
       "      <td>133.14</td>\n",
       "      <td>133.90</td>\n",
       "      <td>7600543</td>\n",
       "    </tr>\n",
       "    <tr>\n",
       "      <td>2010-01-05</td>\n",
       "      <td>133.43</td>\n",
       "      <td>135.48</td>\n",
       "      <td>131.81</td>\n",
       "      <td>134.69</td>\n",
       "      <td>8856456</td>\n",
       "    </tr>\n",
       "    <tr>\n",
       "      <td>2010-01-06</td>\n",
       "      <td>134.60</td>\n",
       "      <td>134.73</td>\n",
       "      <td>131.65</td>\n",
       "      <td>132.25</td>\n",
       "      <td>7180977</td>\n",
       "    </tr>\n",
       "    <tr>\n",
       "      <td>2010-01-07</td>\n",
       "      <td>132.01</td>\n",
       "      <td>132.32</td>\n",
       "      <td>128.80</td>\n",
       "      <td>130.00</td>\n",
       "      <td>11030124</td>\n",
       "    </tr>\n",
       "    <tr>\n",
       "      <td>2010-01-08</td>\n",
       "      <td>130.56</td>\n",
       "      <td>133.68</td>\n",
       "      <td>129.03</td>\n",
       "      <td>133.52</td>\n",
       "      <td>9833829</td>\n",
       "    </tr>\n",
       "  </tbody>\n",
       "</table>\n",
       "</div>"
      ],
      "text/plain": [
       "              Open    High     Low   Close    Volume\n",
       "Date                                                \n",
       "2010-01-04  136.25  136.61  133.14  133.90   7600543\n",
       "2010-01-05  133.43  135.48  131.81  134.69   8856456\n",
       "2010-01-06  134.60  134.73  131.65  132.25   7180977\n",
       "2010-01-07  132.01  132.32  128.80  130.00  11030124\n",
       "2010-01-08  130.56  133.68  129.03  133.52   9833829"
      ]
     },
     "execution_count": 14,
     "metadata": {},
     "output_type": "execute_result"
    }
   ],
   "source": [
    "amazon.set_index(\"Date\", inplace=True)\n",
    "amazon.head()"
   ]
  },
  {
   "cell_type": "code",
   "execution_count": 15,
   "metadata": {},
   "outputs": [
    {
     "data": {
      "text/plain": [
       "DatetimeIndex(['2010-01-04', '2010-01-05', '2010-01-06', '2010-01-07',\n",
       "               '2010-01-08', '2010-01-11', '2010-01-12', '2010-01-13',\n",
       "               '2010-01-14', '2010-01-15',\n",
       "               ...\n",
       "               '2017-07-03', '2017-07-05', '2017-07-06', '2017-07-07',\n",
       "               '2017-07-10', '2017-07-11', '2017-07-12', '2017-07-13',\n",
       "               '2017-07-14', '2017-07-17'],\n",
       "              dtype='datetime64[ns]', name='Date', length=1896, freq=None)"
      ]
     },
     "execution_count": 15,
     "metadata": {},
     "output_type": "execute_result"
    }
   ],
   "source": [
    "amazon.index"
   ]
  },
  {
   "cell_type": "code",
   "execution_count": 16,
   "metadata": {},
   "outputs": [
    {
     "data": {
      "text/html": [
       "<div>\n",
       "<style scoped>\n",
       "    .dataframe tbody tr th:only-of-type {\n",
       "        vertical-align: middle;\n",
       "    }\n",
       "\n",
       "    .dataframe tbody tr th {\n",
       "        vertical-align: top;\n",
       "    }\n",
       "\n",
       "    .dataframe thead th {\n",
       "        text-align: right;\n",
       "    }\n",
       "</style>\n",
       "<table border=\"1\" class=\"dataframe\">\n",
       "  <thead>\n",
       "    <tr style=\"text-align: right;\">\n",
       "      <th></th>\n",
       "      <th>Open</th>\n",
       "      <th>High</th>\n",
       "      <th>Low</th>\n",
       "      <th>Close</th>\n",
       "      <th>Volume</th>\n",
       "    </tr>\n",
       "    <tr>\n",
       "      <th>Date</th>\n",
       "      <th></th>\n",
       "      <th></th>\n",
       "      <th></th>\n",
       "      <th></th>\n",
       "      <th></th>\n",
       "    </tr>\n",
       "  </thead>\n",
       "  <tbody>\n",
       "    <tr>\n",
       "      <td>2017-07-11</td>\n",
       "      <td>993.00</td>\n",
       "      <td>995.99</td>\n",
       "      <td>983.72</td>\n",
       "      <td>994.13</td>\n",
       "      <td>2982726</td>\n",
       "    </tr>\n",
       "    <tr>\n",
       "      <td>2017-07-12</td>\n",
       "      <td>1000.65</td>\n",
       "      <td>1008.55</td>\n",
       "      <td>998.10</td>\n",
       "      <td>1006.51</td>\n",
       "      <td>3608574</td>\n",
       "    </tr>\n",
       "    <tr>\n",
       "      <td>2017-07-13</td>\n",
       "      <td>1004.62</td>\n",
       "      <td>1006.88</td>\n",
       "      <td>995.90</td>\n",
       "      <td>1000.63</td>\n",
       "      <td>2880769</td>\n",
       "    </tr>\n",
       "    <tr>\n",
       "      <td>2017-07-14</td>\n",
       "      <td>1002.40</td>\n",
       "      <td>1004.45</td>\n",
       "      <td>996.89</td>\n",
       "      <td>1001.81</td>\n",
       "      <td>2102469</td>\n",
       "    </tr>\n",
       "    <tr>\n",
       "      <td>2017-07-17</td>\n",
       "      <td>1004.69</td>\n",
       "      <td>1014.75</td>\n",
       "      <td>1003.81</td>\n",
       "      <td>1010.04</td>\n",
       "      <td>3668721</td>\n",
       "    </tr>\n",
       "  </tbody>\n",
       "</table>\n",
       "</div>"
      ],
      "text/plain": [
       "               Open     High      Low    Close   Volume\n",
       "Date                                                   \n",
       "2017-07-11   993.00   995.99   983.72   994.13  2982726\n",
       "2017-07-12  1000.65  1008.55   998.10  1006.51  3608574\n",
       "2017-07-13  1004.62  1006.88   995.90  1000.63  2880769\n",
       "2017-07-14  1002.40  1004.45   996.89  1001.81  2102469\n",
       "2017-07-17  1004.69  1014.75  1003.81  1010.04  3668721"
      ]
     },
     "execution_count": 16,
     "metadata": {},
     "output_type": "execute_result"
    }
   ],
   "source": [
    "amazon.tail()"
   ]
  },
  {
   "cell_type": "code",
   "execution_count": 17,
   "metadata": {},
   "outputs": [
    {
     "data": {
      "text/html": [
       "<div>\n",
       "<style scoped>\n",
       "    .dataframe tbody tr th:only-of-type {\n",
       "        vertical-align: middle;\n",
       "    }\n",
       "\n",
       "    .dataframe tbody tr th {\n",
       "        vertical-align: top;\n",
       "    }\n",
       "\n",
       "    .dataframe thead th {\n",
       "        text-align: right;\n",
       "    }\n",
       "</style>\n",
       "<table border=\"1\" class=\"dataframe\">\n",
       "  <thead>\n",
       "    <tr style=\"text-align: right;\">\n",
       "      <th></th>\n",
       "      <th>Open</th>\n",
       "      <th>High</th>\n",
       "      <th>Low</th>\n",
       "      <th>Close</th>\n",
       "      <th>Volume</th>\n",
       "    </tr>\n",
       "    <tr>\n",
       "      <th>Date</th>\n",
       "      <th></th>\n",
       "      <th></th>\n",
       "      <th></th>\n",
       "      <th></th>\n",
       "      <th></th>\n",
       "    </tr>\n",
       "  </thead>\n",
       "  <tbody>\n",
       "    <tr>\n",
       "      <td>2011-01-03</td>\n",
       "      <td>181.37</td>\n",
       "      <td>186.00</td>\n",
       "      <td>181.21</td>\n",
       "      <td>184.22</td>\n",
       "      <td>5333813</td>\n",
       "    </tr>\n",
       "    <tr>\n",
       "      <td>2011-01-04</td>\n",
       "      <td>186.15</td>\n",
       "      <td>187.70</td>\n",
       "      <td>183.78</td>\n",
       "      <td>185.01</td>\n",
       "      <td>5034775</td>\n",
       "    </tr>\n",
       "    <tr>\n",
       "      <td>2011-01-05</td>\n",
       "      <td>184.10</td>\n",
       "      <td>187.45</td>\n",
       "      <td>184.07</td>\n",
       "      <td>187.42</td>\n",
       "      <td>3418779</td>\n",
       "    </tr>\n",
       "    <tr>\n",
       "      <td>2011-01-06</td>\n",
       "      <td>186.50</td>\n",
       "      <td>187.41</td>\n",
       "      <td>185.25</td>\n",
       "      <td>185.86</td>\n",
       "      <td>3179610</td>\n",
       "    </tr>\n",
       "    <tr>\n",
       "      <td>2011-01-07</td>\n",
       "      <td>187.88</td>\n",
       "      <td>188.45</td>\n",
       "      <td>183.74</td>\n",
       "      <td>185.49</td>\n",
       "      <td>5222815</td>\n",
       "    </tr>\n",
       "  </tbody>\n",
       "</table>\n",
       "</div>"
      ],
      "text/plain": [
       "              Open    High     Low   Close   Volume\n",
       "Date                                               \n",
       "2011-01-03  181.37  186.00  181.21  184.22  5333813\n",
       "2011-01-04  186.15  187.70  183.78  185.01  5034775\n",
       "2011-01-05  184.10  187.45  184.07  187.42  3418779\n",
       "2011-01-06  186.50  187.41  185.25  185.86  3179610\n",
       "2011-01-07  187.88  188.45  183.74  185.49  5222815"
      ]
     },
     "execution_count": 17,
     "metadata": {},
     "output_type": "execute_result"
    }
   ],
   "source": [
    "amazon = amazon.truncate(before='2011/01/01')\n",
    "amazon.head()"
   ]
  },
  {
   "cell_type": "code",
   "execution_count": 19,
   "metadata": {},
   "outputs": [
    {
     "data": {
      "text/plain": [
       "<matplotlib.axes._subplots.AxesSubplot at 0x274c5e7a470>"
      ]
     },
     "execution_count": 19,
     "metadata": {},
     "output_type": "execute_result"
    },
    {
     "data": {
      "image/png": "[encoded data removed]",
      "text/plain": [
       "<Figure size 1152x576 with 1 Axes>"
      ]
     },
     "metadata": {
      "needs_background": "light"
     },
     "output_type": "display_data"
    }
   ],
   "source": [
    "amazon[\"Close\"].plot(label=\"Amazon\",legend=True, figsize=(16,8))"
   ]
  },
  {
   "cell_type": "code",
   "execution_count": 20,
   "metadata": {},
   "outputs": [
    {
     "data": {
      "text/html": [
       "<div>\n",
       "<style scoped>\n",
       "    .dataframe tbody tr th:only-of-type {\n",
       "        vertical-align: middle;\n",
       "    }\n",
       "\n",
       "    .dataframe tbody tr th {\n",
       "        vertical-align: top;\n",
       "    }\n",
       "\n",
       "    .dataframe thead th {\n",
       "        text-align: right;\n",
       "    }\n",
       "</style>\n",
       "<table border=\"1\" class=\"dataframe\">\n",
       "  <thead>\n",
       "    <tr style=\"text-align: right;\">\n",
       "      <th></th>\n",
       "      <th>Open</th>\n",
       "      <th>High</th>\n",
       "      <th>Low</th>\n",
       "      <th>Close</th>\n",
       "      <th>Volume</th>\n",
       "    </tr>\n",
       "    <tr>\n",
       "      <th>Date</th>\n",
       "      <th></th>\n",
       "      <th></th>\n",
       "      <th></th>\n",
       "      <th></th>\n",
       "      <th></th>\n",
       "    </tr>\n",
       "  </thead>\n",
       "  <tbody>\n",
       "    <tr>\n",
       "      <td>2011-01-03</td>\n",
       "      <td>181.37</td>\n",
       "      <td>186.00</td>\n",
       "      <td>181.21</td>\n",
       "      <td>184.22</td>\n",
       "      <td>5333813</td>\n",
       "    </tr>\n",
       "    <tr>\n",
       "      <td>2011-01-04</td>\n",
       "      <td>186.15</td>\n",
       "      <td>187.70</td>\n",
       "      <td>183.78</td>\n",
       "      <td>185.01</td>\n",
       "      <td>5034775</td>\n",
       "    </tr>\n",
       "    <tr>\n",
       "      <td>2011-01-05</td>\n",
       "      <td>184.10</td>\n",
       "      <td>187.45</td>\n",
       "      <td>184.07</td>\n",
       "      <td>187.42</td>\n",
       "      <td>3418779</td>\n",
       "    </tr>\n",
       "    <tr>\n",
       "      <td>2011-01-06</td>\n",
       "      <td>186.50</td>\n",
       "      <td>187.41</td>\n",
       "      <td>185.25</td>\n",
       "      <td>185.86</td>\n",
       "      <td>3179610</td>\n",
       "    </tr>\n",
       "    <tr>\n",
       "      <td>2011-01-07</td>\n",
       "      <td>187.88</td>\n",
       "      <td>188.45</td>\n",
       "      <td>183.74</td>\n",
       "      <td>185.49</td>\n",
       "      <td>5222815</td>\n",
       "    </tr>\n",
       "    <tr>\n",
       "      <td>2011-01-10</td>\n",
       "      <td>185.04</td>\n",
       "      <td>185.29</td>\n",
       "      <td>182.51</td>\n",
       "      <td>184.68</td>\n",
       "      <td>3376678</td>\n",
       "    </tr>\n",
       "    <tr>\n",
       "      <td>2011-01-11</td>\n",
       "      <td>185.42</td>\n",
       "      <td>186.00</td>\n",
       "      <td>183.21</td>\n",
       "      <td>184.34</td>\n",
       "      <td>2815814</td>\n",
       "    </tr>\n",
       "    <tr>\n",
       "      <td>2011-01-12</td>\n",
       "      <td>185.36</td>\n",
       "      <td>185.38</td>\n",
       "      <td>183.30</td>\n",
       "      <td>184.08</td>\n",
       "      <td>2679087</td>\n",
       "    </tr>\n",
       "    <tr>\n",
       "      <td>2011-01-13</td>\n",
       "      <td>183.60</td>\n",
       "      <td>186.45</td>\n",
       "      <td>183.51</td>\n",
       "      <td>185.53</td>\n",
       "      <td>3368768</td>\n",
       "    </tr>\n",
       "    <tr>\n",
       "      <td>2011-01-14</td>\n",
       "      <td>185.50</td>\n",
       "      <td>188.94</td>\n",
       "      <td>184.92</td>\n",
       "      <td>188.75</td>\n",
       "      <td>3664965</td>\n",
       "    </tr>\n",
       "    <tr>\n",
       "      <td>2011-01-18</td>\n",
       "      <td>188.66</td>\n",
       "      <td>191.60</td>\n",
       "      <td>188.25</td>\n",
       "      <td>191.25</td>\n",
       "      <td>3901726</td>\n",
       "    </tr>\n",
       "    <tr>\n",
       "      <td>2011-01-19</td>\n",
       "      <td>190.90</td>\n",
       "      <td>191.00</td>\n",
       "      <td>186.21</td>\n",
       "      <td>186.87</td>\n",
       "      <td>3889410</td>\n",
       "    </tr>\n",
       "    <tr>\n",
       "      <td>2011-01-20</td>\n",
       "      <td>185.29</td>\n",
       "      <td>186.85</td>\n",
       "      <td>181.00</td>\n",
       "      <td>181.96</td>\n",
       "      <td>5717568</td>\n",
       "    </tr>\n",
       "    <tr>\n",
       "      <td>2011-01-21</td>\n",
       "      <td>183.00</td>\n",
       "      <td>183.25</td>\n",
       "      <td>176.84</td>\n",
       "      <td>177.42</td>\n",
       "      <td>6812240</td>\n",
       "    </tr>\n",
       "    <tr>\n",
       "      <td>2011-01-24</td>\n",
       "      <td>177.95</td>\n",
       "      <td>178.49</td>\n",
       "      <td>174.15</td>\n",
       "      <td>176.85</td>\n",
       "      <td>5602345</td>\n",
       "    </tr>\n",
       "    <tr>\n",
       "      <td>2011-01-25</td>\n",
       "      <td>175.50</td>\n",
       "      <td>176.75</td>\n",
       "      <td>174.28</td>\n",
       "      <td>176.70</td>\n",
       "      <td>4653276</td>\n",
       "    </tr>\n",
       "    <tr>\n",
       "      <td>2011-01-26</td>\n",
       "      <td>177.51</td>\n",
       "      <td>177.89</td>\n",
       "      <td>174.63</td>\n",
       "      <td>175.39</td>\n",
       "      <td>3762167</td>\n",
       "    </tr>\n",
       "    <tr>\n",
       "      <td>2011-01-27</td>\n",
       "      <td>177.48</td>\n",
       "      <td>185.00</td>\n",
       "      <td>177.31</td>\n",
       "      <td>184.45</td>\n",
       "      <td>14594320</td>\n",
       "    </tr>\n",
       "    <tr>\n",
       "      <td>2011-01-28</td>\n",
       "      <td>171.45</td>\n",
       "      <td>173.71</td>\n",
       "      <td>166.90</td>\n",
       "      <td>171.14</td>\n",
       "      <td>19914851</td>\n",
       "    </tr>\n",
       "    <tr>\n",
       "      <td>2011-01-31</td>\n",
       "      <td>170.16</td>\n",
       "      <td>171.44</td>\n",
       "      <td>167.41</td>\n",
       "      <td>169.64</td>\n",
       "      <td>6721545</td>\n",
       "    </tr>\n",
       "  </tbody>\n",
       "</table>\n",
       "</div>"
      ],
      "text/plain": [
       "              Open    High     Low   Close    Volume\n",
       "Date                                                \n",
       "2011-01-03  181.37  186.00  181.21  184.22   5333813\n",
       "2011-01-04  186.15  187.70  183.78  185.01   5034775\n",
       "2011-01-05  184.10  187.45  184.07  187.42   3418779\n",
       "2011-01-06  186.50  187.41  185.25  185.86   3179610\n",
       "2011-01-07  187.88  188.45  183.74  185.49   5222815\n",
       "2011-01-10  185.04  185.29  182.51  184.68   3376678\n",
       "2011-01-11  185.42  186.00  183.21  184.34   2815814\n",
       "2011-01-12  185.36  185.38  183.30  184.08   2679087\n",
       "2011-01-13  183.60  186.45  183.51  185.53   3368768\n",
       "2011-01-14  185.50  188.94  184.92  188.75   3664965\n",
       "2011-01-18  188.66  191.60  188.25  191.25   3901726\n",
       "2011-01-19  190.90  191.00  186.21  186.87   3889410\n",
       "2011-01-20  185.29  186.85  181.00  181.96   5717568\n",
       "2011-01-21  183.00  183.25  176.84  177.42   6812240\n",
       "2011-01-24  177.95  178.49  174.15  176.85   5602345\n",
       "2011-01-25  175.50  176.75  174.28  176.70   4653276\n",
       "2011-01-26  177.51  177.89  174.63  175.39   3762167\n",
       "2011-01-27  177.48  185.00  177.31  184.45  14594320\n",
       "2011-01-28  171.45  173.71  166.90  171.14  19914851\n",
       "2011-01-31  170.16  171.44  167.41  169.64   6721545"
      ]
     },
     "execution_count": 20,
     "metadata": {},
     "output_type": "execute_result"
    }
   ],
   "source": [
    "amazon.head(20)"
   ]
  },
  {
   "cell_type": "code",
   "execution_count": 21,
   "metadata": {},
   "outputs": [
    {
     "data": {
      "text/html": [
       "<div>\n",
       "<style scoped>\n",
       "    .dataframe tbody tr th:only-of-type {\n",
       "        vertical-align: middle;\n",
       "    }\n",
       "\n",
       "    .dataframe tbody tr th {\n",
       "        vertical-align: top;\n",
       "    }\n",
       "\n",
       "    .dataframe thead th {\n",
       "        text-align: right;\n",
       "    }\n",
       "</style>\n",
       "<table border=\"1\" class=\"dataframe\">\n",
       "  <thead>\n",
       "    <tr style=\"text-align: right;\">\n",
       "      <th></th>\n",
       "      <th>Open</th>\n",
       "      <th>High</th>\n",
       "      <th>Low</th>\n",
       "      <th>Close</th>\n",
       "      <th>Volume</th>\n",
       "    </tr>\n",
       "    <tr>\n",
       "      <th>Date</th>\n",
       "      <th></th>\n",
       "      <th></th>\n",
       "      <th></th>\n",
       "      <th></th>\n",
       "      <th></th>\n",
       "    </tr>\n",
       "  </thead>\n",
       "  <tbody>\n",
       "    <tr>\n",
       "      <td>2011-01-31</td>\n",
       "      <td>3648.82</td>\n",
       "      <td>3685.05</td>\n",
       "      <td>3602.48</td>\n",
       "      <td>3647.05</td>\n",
       "      <td>113664552</td>\n",
       "    </tr>\n",
       "    <tr>\n",
       "      <td>2011-02-28</td>\n",
       "      <td>3430.06</td>\n",
       "      <td>3475.77</td>\n",
       "      <td>3399.58</td>\n",
       "      <td>3441.24</td>\n",
       "      <td>95851995</td>\n",
       "    </tr>\n",
       "    <tr>\n",
       "      <td>2011-03-31</td>\n",
       "      <td>3878.50</td>\n",
       "      <td>3928.68</td>\n",
       "      <td>3831.88</td>\n",
       "      <td>3882.49</td>\n",
       "      <td>119022379</td>\n",
       "    </tr>\n",
       "    <tr>\n",
       "      <td>2011-04-30</td>\n",
       "      <td>3678.27</td>\n",
       "      <td>3724.00</td>\n",
       "      <td>3636.11</td>\n",
       "      <td>3691.53</td>\n",
       "      <td>116805379</td>\n",
       "    </tr>\n",
       "    <tr>\n",
       "      <td>2011-05-31</td>\n",
       "      <td>4157.74</td>\n",
       "      <td>4208.72</td>\n",
       "      <td>4111.23</td>\n",
       "      <td>4161.50</td>\n",
       "      <td>106355804</td>\n",
       "    </tr>\n",
       "  </tbody>\n",
       "</table>\n",
       "</div>"
      ],
      "text/plain": [
       "               Open     High      Low    Close     Volume\n",
       "Date                                                     \n",
       "2011-01-31  3648.82  3685.05  3602.48  3647.05  113664552\n",
       "2011-02-28  3430.06  3475.77  3399.58  3441.24   95851995\n",
       "2011-03-31  3878.50  3928.68  3831.88  3882.49  119022379\n",
       "2011-04-30  3678.27  3724.00  3636.11  3691.53  116805379\n",
       "2011-05-31  4157.74  4208.72  4111.23  4161.50  106355804"
      ]
     },
     "execution_count": 21,
     "metadata": {},
     "output_type": "execute_result"
    }
   ],
   "source": [
    "amazon.resample('M').sum().head()"
   ]
  },
  {
   "cell_type": "code",
   "execution_count": 22,
   "metadata": {},
   "outputs": [
    {
     "data": {
      "text/html": [
       "<div>\n",
       "<style scoped>\n",
       "    .dataframe tbody tr th:only-of-type {\n",
       "        vertical-align: middle;\n",
       "    }\n",
       "\n",
       "    .dataframe tbody tr th {\n",
       "        vertical-align: top;\n",
       "    }\n",
       "\n",
       "    .dataframe thead th {\n",
       "        text-align: right;\n",
       "    }\n",
       "</style>\n",
       "<table border=\"1\" class=\"dataframe\">\n",
       "  <thead>\n",
       "    <tr style=\"text-align: right;\">\n",
       "      <th></th>\n",
       "      <th>Open</th>\n",
       "      <th>High</th>\n",
       "      <th>Low</th>\n",
       "      <th>Close</th>\n",
       "      <th>Volume</th>\n",
       "    </tr>\n",
       "    <tr>\n",
       "      <th>Date</th>\n",
       "      <th></th>\n",
       "      <th></th>\n",
       "      <th></th>\n",
       "      <th></th>\n",
       "      <th></th>\n",
       "    </tr>\n",
       "  </thead>\n",
       "  <tbody>\n",
       "    <tr>\n",
       "      <td>2011-01-31</td>\n",
       "      <td>182.441000</td>\n",
       "      <td>184.252500</td>\n",
       "      <td>180.124000</td>\n",
       "      <td>182.352500</td>\n",
       "      <td>5.683228e+06</td>\n",
       "    </tr>\n",
       "    <tr>\n",
       "      <td>2011-02-28</td>\n",
       "      <td>180.529474</td>\n",
       "      <td>182.935263</td>\n",
       "      <td>178.925263</td>\n",
       "      <td>181.117895</td>\n",
       "      <td>5.044842e+06</td>\n",
       "    </tr>\n",
       "    <tr>\n",
       "      <td>2011-03-31</td>\n",
       "      <td>168.630435</td>\n",
       "      <td>170.812174</td>\n",
       "      <td>166.603478</td>\n",
       "      <td>168.803913</td>\n",
       "      <td>5.174886e+06</td>\n",
       "    </tr>\n",
       "    <tr>\n",
       "      <td>2011-04-30</td>\n",
       "      <td>183.913500</td>\n",
       "      <td>186.200000</td>\n",
       "      <td>181.805500</td>\n",
       "      <td>184.576500</td>\n",
       "      <td>5.840269e+06</td>\n",
       "    </tr>\n",
       "    <tr>\n",
       "      <td>2011-05-31</td>\n",
       "      <td>197.987619</td>\n",
       "      <td>200.415238</td>\n",
       "      <td>195.772857</td>\n",
       "      <td>198.166667</td>\n",
       "      <td>5.064562e+06</td>\n",
       "    </tr>\n",
       "  </tbody>\n",
       "</table>\n",
       "</div>"
      ],
      "text/plain": [
       "                  Open        High         Low       Close        Volume\n",
       "Date                                                                    \n",
       "2011-01-31  182.441000  184.252500  180.124000  182.352500  5.683228e+06\n",
       "2011-02-28  180.529474  182.935263  178.925263  181.117895  5.044842e+06\n",
       "2011-03-31  168.630435  170.812174  166.603478  168.803913  5.174886e+06\n",
       "2011-04-30  183.913500  186.200000  181.805500  184.576500  5.840269e+06\n",
       "2011-05-31  197.987619  200.415238  195.772857  198.166667  5.064562e+06"
      ]
     },
     "execution_count": 22,
     "metadata": {},
     "output_type": "execute_result"
    }
   ],
   "source": [
    "amazon.resample('M').mean().head()"
   ]
  },
  {
   "cell_type": "code",
   "execution_count": 23,
   "metadata": {},
   "outputs": [
    {
     "data": {
      "text/html": [
       "<div>\n",
       "<style scoped>\n",
       "    .dataframe tbody tr th:only-of-type {\n",
       "        vertical-align: middle;\n",
       "    }\n",
       "\n",
       "    .dataframe tbody tr th {\n",
       "        vertical-align: top;\n",
       "    }\n",
       "\n",
       "    .dataframe thead th {\n",
       "        text-align: right;\n",
       "    }\n",
       "</style>\n",
       "<table border=\"1\" class=\"dataframe\">\n",
       "  <thead>\n",
       "    <tr style=\"text-align: right;\">\n",
       "      <th></th>\n",
       "      <th>Open</th>\n",
       "      <th>High</th>\n",
       "      <th>Low</th>\n",
       "      <th>Close</th>\n",
       "      <th>Volume</th>\n",
       "    </tr>\n",
       "    <tr>\n",
       "      <th>Date</th>\n",
       "      <th></th>\n",
       "      <th></th>\n",
       "      <th></th>\n",
       "      <th></th>\n",
       "      <th></th>\n",
       "    </tr>\n",
       "  </thead>\n",
       "  <tbody>\n",
       "    <tr>\n",
       "      <td>2011-01-31</td>\n",
       "      <td>181.37</td>\n",
       "      <td>186.00</td>\n",
       "      <td>181.21</td>\n",
       "      <td>184.22</td>\n",
       "      <td>5333813</td>\n",
       "    </tr>\n",
       "    <tr>\n",
       "      <td>2011-02-28</td>\n",
       "      <td>170.52</td>\n",
       "      <td>173.10</td>\n",
       "      <td>169.51</td>\n",
       "      <td>172.11</td>\n",
       "      <td>5089748</td>\n",
       "    </tr>\n",
       "    <tr>\n",
       "      <td>2011-03-31</td>\n",
       "      <td>173.53</td>\n",
       "      <td>173.96</td>\n",
       "      <td>168.67</td>\n",
       "      <td>169.44</td>\n",
       "      <td>5847443</td>\n",
       "    </tr>\n",
       "    <tr>\n",
       "      <td>2011-04-30</td>\n",
       "      <td>181.58</td>\n",
       "      <td>183.25</td>\n",
       "      <td>178.59</td>\n",
       "      <td>180.13</td>\n",
       "      <td>5686427</td>\n",
       "    </tr>\n",
       "    <tr>\n",
       "      <td>2011-05-31</td>\n",
       "      <td>196.57</td>\n",
       "      <td>203.42</td>\n",
       "      <td>196.18</td>\n",
       "      <td>201.19</td>\n",
       "      <td>9399303</td>\n",
       "    </tr>\n",
       "  </tbody>\n",
       "</table>\n",
       "</div>"
      ],
      "text/plain": [
       "              Open    High     Low   Close   Volume\n",
       "Date                                               \n",
       "2011-01-31  181.37  186.00  181.21  184.22  5333813\n",
       "2011-02-28  170.52  173.10  169.51  172.11  5089748\n",
       "2011-03-31  173.53  173.96  168.67  169.44  5847443\n",
       "2011-04-30  181.58  183.25  178.59  180.13  5686427\n",
       "2011-05-31  196.57  203.42  196.18  201.19  9399303"
      ]
     },
     "execution_count": 23,
     "metadata": {},
     "output_type": "execute_result"
    }
   ],
   "source": [
    "amazon.resample('M').first().head()"
   ]
  },
  {
   "cell_type": "code",
   "execution_count": 24,
   "metadata": {},
   "outputs": [
    {
     "data": {
      "text/html": [
       "<div>\n",
       "<style scoped>\n",
       "    .dataframe tbody tr th:only-of-type {\n",
       "        vertical-align: middle;\n",
       "    }\n",
       "\n",
       "    .dataframe tbody tr th {\n",
       "        vertical-align: top;\n",
       "    }\n",
       "\n",
       "    .dataframe thead th {\n",
       "        text-align: right;\n",
       "    }\n",
       "</style>\n",
       "<table border=\"1\" class=\"dataframe\">\n",
       "  <thead>\n",
       "    <tr style=\"text-align: right;\">\n",
       "      <th></th>\n",
       "      <th>Open</th>\n",
       "      <th>High</th>\n",
       "      <th>Low</th>\n",
       "      <th>Close</th>\n",
       "      <th>Volume</th>\n",
       "    </tr>\n",
       "    <tr>\n",
       "      <th>Date</th>\n",
       "      <th></th>\n",
       "      <th></th>\n",
       "      <th></th>\n",
       "      <th></th>\n",
       "      <th></th>\n",
       "    </tr>\n",
       "  </thead>\n",
       "  <tbody>\n",
       "    <tr>\n",
       "      <td>2011-01-31</td>\n",
       "      <td>170.16</td>\n",
       "      <td>171.44</td>\n",
       "      <td>167.41</td>\n",
       "      <td>169.64</td>\n",
       "      <td>6721545</td>\n",
       "    </tr>\n",
       "    <tr>\n",
       "      <td>2011-02-28</td>\n",
       "      <td>173.91</td>\n",
       "      <td>175.89</td>\n",
       "      <td>172.15</td>\n",
       "      <td>173.29</td>\n",
       "      <td>6788009</td>\n",
       "    </tr>\n",
       "    <tr>\n",
       "      <td>2011-03-31</td>\n",
       "      <td>179.31</td>\n",
       "      <td>181.57</td>\n",
       "      <td>178.50</td>\n",
       "      <td>180.13</td>\n",
       "      <td>4828345</td>\n",
       "    </tr>\n",
       "    <tr>\n",
       "      <td>2011-04-30</td>\n",
       "      <td>194.38</td>\n",
       "      <td>196.59</td>\n",
       "      <td>193.78</td>\n",
       "      <td>195.81</td>\n",
       "      <td>6640873</td>\n",
       "    </tr>\n",
       "    <tr>\n",
       "      <td>2011-05-31</td>\n",
       "      <td>195.94</td>\n",
       "      <td>198.44</td>\n",
       "      <td>195.03</td>\n",
       "      <td>196.69</td>\n",
       "      <td>3412945</td>\n",
       "    </tr>\n",
       "  </tbody>\n",
       "</table>\n",
       "</div>"
      ],
      "text/plain": [
       "              Open    High     Low   Close   Volume\n",
       "Date                                               \n",
       "2011-01-31  170.16  171.44  167.41  169.64  6721545\n",
       "2011-02-28  173.91  175.89  172.15  173.29  6788009\n",
       "2011-03-31  179.31  181.57  178.50  180.13  4828345\n",
       "2011-04-30  194.38  196.59  193.78  195.81  6640873\n",
       "2011-05-31  195.94  198.44  195.03  196.69  3412945"
      ]
     },
     "execution_count": 24,
     "metadata": {},
     "output_type": "execute_result"
    }
   ],
   "source": [
    "amazon.resample('M').last().head()"
   ]
  },
  {
   "cell_type": "code",
   "execution_count": null,
   "metadata": {},
   "outputs": [],
   "source": [
    "amazon.head()"
   ]
  },
  {
   "cell_type": "code",
   "execution_count": null,
   "metadata": {},
   "outputs": [],
   "source": [
    "amazon.shift(1).head()"
   ]
  },
  {
   "cell_type": "code",
   "execution_count": null,
   "metadata": {},
   "outputs": [],
   "source": [
    "amazon.shift(-1).head()"
   ]
  },
  {
   "cell_type": "code",
   "execution_count": null,
   "metadata": {},
   "outputs": [],
   "source": [
    "plt.figure(figsize=(16,8))\n",
    "plt.plot(amazon[\"Close\"].head(30).shift(1), label='Original')\n",
    "plt.plot(amazon[\"Close\"].head(30), label='Shifted')\n",
    "plt.legend()\n",
    "plt.show()"
   ]
  },
  {
   "cell_type": "code",
   "execution_count": null,
   "metadata": {},
   "outputs": [],
   "source": [
    "plt.figure(figsize=(16,8))\n",
    "plt.plot(amazon[\"Close\"].head(30).shift(-1), label='Original')\n",
    "plt.plot(amazon[\"Close\"].head(30), label='Shifted')\n",
    "plt.legend()\n",
    "plt.show()"
   ]
  },
  {
   "cell_type": "markdown",
   "metadata": {},
   "source": [
    "### Percent Change"
   ]
  },
  {
   "cell_type": "code",
   "execution_count": null,
   "metadata": {},
   "outputs": [],
   "source": [
    "(amazon.head()/amazon.shift(1).head() - 1)"
   ]
  },
  {
   "cell_type": "code",
   "execution_count": null,
   "metadata": {},
   "outputs": [],
   "source": [
    "amazon.head().pct_change()"
   ]
  },
  {
   "cell_type": "code",
   "execution_count": null,
   "metadata": {},
   "outputs": [],
   "source": []
  },
  {
   "cell_type": "code",
   "execution_count": null,
   "metadata": {},
   "outputs": [],
   "source": []
  }
 ],
 "metadata": {
  "kernelspec": {
   "display_name": "Python 3",
   "language": "python",
   "name": "python3"
  },
  "language_info": {
   "codemirror_mode": {
    "name": "ipython",
    "version": 3
   },
   "file_extension": ".py",
   "mimetype": "text/x-python",
   "name": "python",
   "nbconvert_exporter": "python",
   "pygments_lexer": "ipython3",
   "version": "3.7.3"
  }
 },
 "nbformat": 4,
 "nbformat_minor": 4
}
