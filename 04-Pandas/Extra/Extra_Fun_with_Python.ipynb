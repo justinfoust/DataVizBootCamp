{
 "cells": [
  {
   "cell_type": "markdown",
   "metadata": {},
   "source": [
    "# Extra Content"
   ]
  },
  {
   "cell_type": "code",
   "execution_count": 22,
   "metadata": {},
   "outputs": [],
   "source": [
    "import pandas as pd\n",
    "import numpy as np"
   ]
  },
  {
   "cell_type": "markdown",
   "metadata": {},
   "source": [
    "# Python: One More Data Structure  \n",
    "\n",
    "## Collections Data Structures (standard):\n",
    "\n",
    "\n",
    "Data Structure| Desc\n",
    "----|------|\n",
    "Lists| Heterogeneous **ordered** sequence of elements|\n",
    "Tuples|Heterogeneous **Immutable ordered** sequence of elements\n",
    "Dictionaries| Unordered collection stored as **Key-Value** pair\n",
    "Set| Unordered collection of **unique** elements \n",
    "\n",
    "## Collections Data Structures (Additional):\n",
    "\n",
    "Data Structure| Desc\n",
    "----|------|\n",
    "Numpy Arrays| Homogeneous sequence of elements in N-dimensional (arrays, matrices operations)|\n",
    "Pandas Series| One dimensional **labeled** indexed array \n",
    "Pandas DataFrame| Multi-Index two-dimensional array (rows and columns)\n",
    "\n"
   ]
  },
  {
   "cell_type": "markdown",
   "metadata": {},
   "source": [
    "# Set - Unordered collections of unique elements"
   ]
  },
  {
   "cell_type": "code",
   "execution_count": 1,
   "metadata": {
    "scrolled": true
   },
   "outputs": [
    {
     "name": "stdout",
     "output_type": "stream",
     "text": [
      "['Melvin', 'Jack', 'Smith', 'Susan', 'Samantha', 'Mary', 'Smith', 'Melvin']\n",
      "Melvin\n",
      "Jack\n",
      "Smith\n",
      "Susan\n",
      "Samantha\n",
      "Mary\n",
      "Smith\n",
      "Melvin\n"
     ]
    }
   ],
   "source": [
    "# Example of a list\n",
    "names = [\"Melvin\", \"Jack\", \"Smith\", \"Susan\", \"Samantha\", \"Mary\", \"Smith\", \"Melvin\"]\n",
    "print(names)\n",
    "for person in names:\n",
    "    print(person, end=\"\\n\")"
   ]
  },
  {
   "cell_type": "code",
   "execution_count": 3,
   "metadata": {},
   "outputs": [
    {
     "name": "stdout",
     "output_type": "stream",
     "text": [
      "{'Jack', 'Susan', 'Mary', 'Samantha', 'Smith', 'Melvin'}\n"
     ]
    }
   ],
   "source": [
    "# Convert a list to a set with set()\n",
    "name_set = set(names)\n",
    "print(name_set)"
   ]
  },
  {
   "cell_type": "markdown",
   "metadata": {},
   "source": [
    "#### More `set` examples"
   ]
  },
  {
   "cell_type": "code",
   "execution_count": 4,
   "metadata": {},
   "outputs": [
    {
     "name": "stdout",
     "output_type": "stream",
     "text": [
      "number of students in Class Data = 8\n",
      "number of students in Class Coding = 6\n"
     ]
    }
   ],
   "source": [
    "class_data = [\"Melvin\", \"Jack\", \"Smith\", \"Susan\", \"Samantha\", \"Mary\", \"Smith\", \"Melvin\"]\n",
    "class_coding = [\"Jack\", \"Smith\", \"Ali\", \"Anish\", \"Hilary\", \"Cesar\"]\n",
    "\n",
    "print(f\"number of students in Class Data = {len(class_data)}\\nnumber of students in Class Coding = {len(class_coding)}\")"
   ]
  },
  {
   "cell_type": "code",
   "execution_count": 5,
   "metadata": {},
   "outputs": [
    {
     "name": "stdout",
     "output_type": "stream",
     "text": [
      "number of students in Class Data = 6\n",
      "number of students in Class Coding = 6\n"
     ]
    }
   ],
   "source": [
    "class_data = set(class_data)\n",
    "class_coding = set(class_coding)\n",
    "\n",
    "print(f\"number of students in Class Data = {len(class_data)}\\nnumber of students in Class Coding = {len(class_coding)}\")\n"
   ]
  },
  {
   "cell_type": "code",
   "execution_count": 6,
   "metadata": {},
   "outputs": [
    {
     "data": {
      "text/plain": [
       "{'Ali',\n",
       " 'Anish',\n",
       " 'Cesar',\n",
       " 'Hilary',\n",
       " 'Jack',\n",
       " 'Mary',\n",
       " 'Melvin',\n",
       " 'Samantha',\n",
       " 'Smith',\n",
       " 'Susan'}"
      ]
     },
     "execution_count": 6,
     "metadata": {},
     "output_type": "execute_result"
    }
   ],
   "source": [
    "combine_uniqe = set.union(class_data, class_coding)\n",
    "combine_uniqe"
   ]
  },
  {
   "cell_type": "code",
   "execution_count": 7,
   "metadata": {},
   "outputs": [
    {
     "data": {
      "text/plain": [
       "{'Ali',\n",
       " 'Anish',\n",
       " 'Cesar',\n",
       " 'Hilary',\n",
       " 'Jack',\n",
       " 'Mary',\n",
       " 'Melvin',\n",
       " 'Samantha',\n",
       " 'Smith',\n",
       " 'Susan'}"
      ]
     },
     "execution_count": 7,
     "metadata": {},
     "output_type": "execute_result"
    }
   ],
   "source": [
    "class_data.union(class_coding)"
   ]
  },
  {
   "cell_type": "code",
   "execution_count": 8,
   "metadata": {},
   "outputs": [
    {
     "data": {
      "text/plain": [
       "{'Jack', 'Smith'}"
      ]
     },
     "execution_count": 8,
     "metadata": {},
     "output_type": "execute_result"
    }
   ],
   "source": [
    "class_intersection = set.intersection(class_data, class_coding)\n",
    "class_intersection"
   ]
  },
  {
   "cell_type": "code",
   "execution_count": 9,
   "metadata": {},
   "outputs": [
    {
     "data": {
      "text/plain": [
       "{'Jack', 'Smith'}"
      ]
     },
     "execution_count": 9,
     "metadata": {},
     "output_type": "execute_result"
    }
   ],
   "source": [
    "class_data.intersection(class_coding)"
   ]
  },
  {
   "cell_type": "code",
   "execution_count": 10,
   "metadata": {},
   "outputs": [
    {
     "data": {
      "text/plain": [
       "{'Mary', 'Melvin', 'Samantha', 'Susan'}"
      ]
     },
     "execution_count": 10,
     "metadata": {},
     "output_type": "execute_result"
    }
   ],
   "source": [
    "class_data.difference(class_coding)"
   ]
  },
  {
   "cell_type": "markdown",
   "metadata": {},
   "source": [
    "## Unpacking "
   ]
  },
  {
   "cell_type": "markdown",
   "metadata": {},
   "source": [
    "This is a technique of quickly assigning values, it does not matter what type of itteration you use"
   ]
  },
  {
   "cell_type": "code",
   "execution_count": 11,
   "metadata": {},
   "outputs": [
    {
     "name": "stdout",
     "output_type": "stream",
     "text": [
      "Jack\n",
      "<class 'str'>\n"
     ]
    }
   ],
   "source": [
    "# with Sets\n",
    "first_name, last_name = [\"Jack\", \"Smith\"]\n",
    "print(first_name)\n",
    "print(type(last_name))"
   ]
  },
  {
   "cell_type": "code",
   "execution_count": 14,
   "metadata": {},
   "outputs": [
    {
     "name": "stdout",
     "output_type": "stream",
     "text": [
      "Jack\n",
      "<class 'str'>\n"
     ]
    }
   ],
   "source": [
    "# with Tuples\n",
    "first_name, last_name = (\"Jack\", \"Smith\")\n",
    "print(first_name)\n",
    "print(type(last_name))"
   ]
  },
  {
   "cell_type": "code",
   "execution_count": 15,
   "metadata": {},
   "outputs": [
    {
     "name": "stdout",
     "output_type": "stream",
     "text": [
      "0012 store had a total sale of $183\n",
      "<class 'str'>\n"
     ]
    }
   ],
   "source": [
    "store, sales = [\"0012\", [23,45,6,19,90]]\n",
    "\n",
    "print(f\"{store} store had a total sale of ${sum(sales)}\")\n",
    "print(type(store))"
   ]
  },
  {
   "cell_type": "code",
   "execution_count": 16,
   "metadata": {},
   "outputs": [
    {
     "data": {
      "text/plain": [
       "12"
      ]
     },
     "execution_count": 16,
     "metadata": {},
     "output_type": "execute_result"
    }
   ],
   "source": [
    "def multiply(x,y):\n",
    "    \"\"\"\n",
    "    x: numeric value\n",
    "    y: numeric value\n",
    "    returns x * y\n",
    "    \"\"\"\n",
    "    return x*y\n",
    "\n",
    "multiply(3,4)"
   ]
  },
  {
   "cell_type": "code",
   "execution_count": null,
   "metadata": {},
   "outputs": [],
   "source": [
    "multiply([5,6])"
   ]
  },
  {
   "cell_type": "code",
   "execution_count": 18,
   "metadata": {},
   "outputs": [
    {
     "data": {
      "text/plain": [
       "30"
      ]
     },
     "execution_count": 18,
     "metadata": {},
     "output_type": "execute_result"
    }
   ],
   "source": [
    "multiply(*[5,6])"
   ]
  },
  {
   "cell_type": "markdown",
   "metadata": {},
   "source": [
    "The * symbol unpacks the list for use in the function"
   ]
  },
  {
   "cell_type": "code",
   "execution_count": 18,
   "metadata": {},
   "outputs": [
    {
     "data": {
      "text/plain": [
       "24"
      ]
     },
     "execution_count": 18,
     "metadata": {},
     "output_type": "execute_result"
    }
   ],
   "source": [
    "def multiply(x,y,z):\n",
    "    return x*y*z\n",
    "\n",
    "foo = [2,3,4]\n",
    "multiply(*foo)"
   ]
  },
  {
   "cell_type": "markdown",
   "metadata": {},
   "source": [
    "## `zip()` Function"
   ]
  },
  {
   "cell_type": "code",
   "execution_count": 26,
   "metadata": {},
   "outputs": [
    {
     "name": "stdout",
     "output_type": "stream",
     "text": [
      "[('James', 98, 'A+'), ('Smith', 100, 'A+'), ('Mark', 80, 'B-'), ('Mike', 79, 'C+'), ('Justing', 88, 'B+')]\n"
     ]
    }
   ],
   "source": [
    "students = [\"James\", \"Smith\", \"Mark\", \"Mike\", \"Justing\"]\n",
    "score = [98,100,80,79,88]\n",
    "grade = [\"A+\", \"A+\", \"B-\", \"C+\", \"B+\"]\n",
    "\n",
    "class_combined = list(zip(students, score, grade))\n",
    "\n",
    "print(class_combined)\n",
    "    "
   ]
  },
  {
   "cell_type": "code",
   "execution_count": 32,
   "metadata": {},
   "outputs": [
    {
     "name": "stdout",
     "output_type": "stream",
     "text": [
      "98\n",
      "100\n",
      "80\n",
      "79\n",
      "88\n"
     ]
    }
   ],
   "source": [
    "for i in class_combined:\n",
    "    print(i[1])"
   ]
  },
  {
   "cell_type": "code",
   "execution_count": 23,
   "metadata": {},
   "outputs": [
    {
     "data": {
      "text/html": [
       "<div>\n",
       "<style scoped>\n",
       "    .dataframe tbody tr th:only-of-type {\n",
       "        vertical-align: middle;\n",
       "    }\n",
       "\n",
       "    .dataframe tbody tr th {\n",
       "        vertical-align: top;\n",
       "    }\n",
       "\n",
       "    .dataframe thead th {\n",
       "        text-align: right;\n",
       "    }\n",
       "</style>\n",
       "<table border=\"1\" class=\"dataframe\">\n",
       "  <thead>\n",
       "    <tr style=\"text-align: right;\">\n",
       "      <th></th>\n",
       "      <th>0</th>\n",
       "      <th>1</th>\n",
       "      <th>2</th>\n",
       "    </tr>\n",
       "  </thead>\n",
       "  <tbody>\n",
       "    <tr>\n",
       "      <td>0</td>\n",
       "      <td>James</td>\n",
       "      <td>98</td>\n",
       "      <td>A+</td>\n",
       "    </tr>\n",
       "    <tr>\n",
       "      <td>1</td>\n",
       "      <td>Smith</td>\n",
       "      <td>100</td>\n",
       "      <td>A+</td>\n",
       "    </tr>\n",
       "    <tr>\n",
       "      <td>2</td>\n",
       "      <td>Mark</td>\n",
       "      <td>80</td>\n",
       "      <td>B-</td>\n",
       "    </tr>\n",
       "    <tr>\n",
       "      <td>3</td>\n",
       "      <td>Mike</td>\n",
       "      <td>79</td>\n",
       "      <td>C+</td>\n",
       "    </tr>\n",
       "    <tr>\n",
       "      <td>4</td>\n",
       "      <td>Justing</td>\n",
       "      <td>88</td>\n",
       "      <td>B+</td>\n",
       "    </tr>\n",
       "  </tbody>\n",
       "</table>\n",
       "</div>"
      ],
      "text/plain": [
       "         0    1   2\n",
       "0    James   98  A+\n",
       "1    Smith  100  A+\n",
       "2     Mark   80  B-\n",
       "3     Mike   79  C+\n",
       "4  Justing   88  B+"
      ]
     },
     "execution_count": 23,
     "metadata": {},
     "output_type": "execute_result"
    }
   ],
   "source": [
    "df = pd.DataFrame(class_combined)\n",
    "df"
   ]
  },
  {
   "cell_type": "code",
   "execution_count": 24,
   "metadata": {},
   "outputs": [
    {
     "data": {
      "text/html": [
       "<div>\n",
       "<style scoped>\n",
       "    .dataframe tbody tr th:only-of-type {\n",
       "        vertical-align: middle;\n",
       "    }\n",
       "\n",
       "    .dataframe tbody tr th {\n",
       "        vertical-align: top;\n",
       "    }\n",
       "\n",
       "    .dataframe thead th {\n",
       "        text-align: right;\n",
       "    }\n",
       "</style>\n",
       "<table border=\"1\" class=\"dataframe\">\n",
       "  <thead>\n",
       "    <tr style=\"text-align: right;\">\n",
       "      <th></th>\n",
       "      <th>Name</th>\n",
       "      <th>Score</th>\n",
       "      <th>Grade</th>\n",
       "    </tr>\n",
       "  </thead>\n",
       "  <tbody>\n",
       "    <tr>\n",
       "      <td>0</td>\n",
       "      <td>James</td>\n",
       "      <td>98</td>\n",
       "      <td>A+</td>\n",
       "    </tr>\n",
       "    <tr>\n",
       "      <td>1</td>\n",
       "      <td>Smith</td>\n",
       "      <td>100</td>\n",
       "      <td>A+</td>\n",
       "    </tr>\n",
       "    <tr>\n",
       "      <td>2</td>\n",
       "      <td>Mark</td>\n",
       "      <td>80</td>\n",
       "      <td>B-</td>\n",
       "    </tr>\n",
       "    <tr>\n",
       "      <td>3</td>\n",
       "      <td>Mike</td>\n",
       "      <td>79</td>\n",
       "      <td>C+</td>\n",
       "    </tr>\n",
       "    <tr>\n",
       "      <td>4</td>\n",
       "      <td>Justing</td>\n",
       "      <td>88</td>\n",
       "      <td>B+</td>\n",
       "    </tr>\n",
       "  </tbody>\n",
       "</table>\n",
       "</div>"
      ],
      "text/plain": [
       "      Name  Score Grade\n",
       "0    James     98    A+\n",
       "1    Smith    100    A+\n",
       "2     Mark     80    B-\n",
       "3     Mike     79    C+\n",
       "4  Justing     88    B+"
      ]
     },
     "execution_count": 24,
     "metadata": {},
     "output_type": "execute_result"
    }
   ],
   "source": [
    "df = pd.DataFrame(class_combined, columns=[\"Name\", \"Score\", \"Grade\"])\n",
    "df"
   ]
  },
  {
   "cell_type": "markdown",
   "metadata": {},
   "source": [
    "# For Loops One More time: Looping with `Enumerate()`"
   ]
  },
  {
   "cell_type": "markdown",
   "metadata": {},
   "source": [
    "This will return an index inaddition to looping through a list"
   ]
  },
  {
   "cell_type": "code",
   "execution_count": 33,
   "metadata": {
    "scrolled": true
   },
   "outputs": [
    {
     "name": "stdout",
     "output_type": "stream",
     "text": [
      "0 James\n",
      "1 Smith\n",
      "2 Mark\n",
      "3 Mike\n",
      "4 Justing\n"
     ]
    }
   ],
   "source": [
    "# To get index and value from a list we can use enumerate\n",
    "names = [\"James\", \"Smith\", \"Mark\", \"Mike\", \"Justing\"]\n",
    "\n",
    "for i, name in enumerate(names):\n",
    "    print(i, name)"
   ]
  },
  {
   "cell_type": "code",
   "execution_count": 34,
   "metadata": {},
   "outputs": [
    {
     "name": "stdout",
     "output_type": "stream",
     "text": [
      "1 James\n",
      "2 Smith\n",
      "3 Mark\n",
      "4 Mike\n",
      "5 Justing\n"
     ]
    }
   ],
   "source": [
    "# We can change inital starting point for enumerate, default is zero\n",
    "for i, name in enumerate(names, 1):\n",
    "    print(i, name)"
   ]
  },
  {
   "cell_type": "code",
   "execution_count": 35,
   "metadata": {},
   "outputs": [
    {
     "data": {
      "text/plain": [
       "2"
      ]
     },
     "execution_count": 35,
     "metadata": {},
     "output_type": "execute_result"
    }
   ],
   "source": [
    "indx = names.index(\"Mark\")\n",
    "indx"
   ]
  },
  {
   "cell_type": "markdown",
   "metadata": {},
   "source": [
    "# Pands Creating a DataFrame with `read_clipboard()`"
   ]
  },
  {
   "cell_type": "code",
   "execution_count": 36,
   "metadata": {},
   "outputs": [
    {
     "data": {
      "text/plain": [
       "True"
      ]
     },
     "execution_count": 36,
     "metadata": {},
     "output_type": "execute_result"
    }
   ],
   "source": [
    "import webbrowser\n",
    "website = \"https://en.wikipedia.org/wiki/List_of_all-time_NFL_win–loss_records\"\n",
    "webbrowser.open(website)"
   ]
  },
  {
   "cell_type": "code",
   "execution_count": 42,
   "metadata": {},
   "outputs": [],
   "source": [
    "df_wikipedia = pd.read_clipboard()"
   ]
  },
  {
   "cell_type": "code",
   "execution_count": 43,
   "metadata": {},
   "outputs": [
    {
     "data": {
      "text/plain": [
       "pandas.core.frame.DataFrame"
      ]
     },
     "execution_count": 43,
     "metadata": {},
     "output_type": "execute_result"
    }
   ],
   "source": [
    "type(df_wikipedia)"
   ]
  },
  {
   "cell_type": "code",
   "execution_count": 44,
   "metadata": {},
   "outputs": [
    {
     "data": {
      "text/html": [
       "<div>\n",
       "<style scoped>\n",
       "    .dataframe tbody tr th:only-of-type {\n",
       "        vertical-align: middle;\n",
       "    }\n",
       "\n",
       "    .dataframe tbody tr th {\n",
       "        vertical-align: top;\n",
       "    }\n",
       "\n",
       "    .dataframe thead th {\n",
       "        text-align: right;\n",
       "    }\n",
       "</style>\n",
       "<table border=\"1\" class=\"dataframe\">\n",
       "  <thead>\n",
       "    <tr style=\"text-align: right;\">\n",
       "      <th></th>\n",
       "      <th>Rank</th>\n",
       "      <th>Team</th>\n",
       "      <th>GP</th>\n",
       "      <th>Won</th>\n",
       "      <th>Lost</th>\n",
       "      <th>Tied</th>\n",
       "      <th>Pct.</th>\n",
       "      <th>First NFL Season</th>\n",
       "      <th>Division</th>\n",
       "    </tr>\n",
       "  </thead>\n",
       "  <tbody>\n",
       "    <tr>\n",
       "      <td>0</td>\n",
       "      <td>32</td>\n",
       "      <td>Tampa Bay Buccaneers</td>\n",
       "      <td>676</td>\n",
       "      <td>260</td>\n",
       "      <td>415</td>\n",
       "      <td>1</td>\n",
       "      <td>0.385</td>\n",
       "      <td>1976</td>\n",
       "      <td>NFC South</td>\n",
       "    </tr>\n",
       "    <tr>\n",
       "      <td>1</td>\n",
       "      <td>31</td>\n",
       "      <td>Arizona Cardinals</td>\n",
       "      <td>1,346</td>\n",
       "      <td>553</td>\n",
       "      <td>753</td>\n",
       "      <td>40</td>\n",
       "      <td>0.426</td>\n",
       "      <td>1920</td>\n",
       "      <td>NFC West</td>\n",
       "    </tr>\n",
       "    <tr>\n",
       "      <td>2</td>\n",
       "      <td>30</td>\n",
       "      <td>Atlanta Falcons</td>\n",
       "      <td>816</td>\n",
       "      <td>358</td>\n",
       "      <td>452</td>\n",
       "      <td>6</td>\n",
       "      <td>0.442</td>\n",
       "      <td>1966</td>\n",
       "      <td>NFC South</td>\n",
       "    </tr>\n",
       "    <tr>\n",
       "      <td>3</td>\n",
       "      <td>29</td>\n",
       "      <td>Jacksonville Jaguars</td>\n",
       "      <td>384</td>\n",
       "      <td>170</td>\n",
       "      <td>214</td>\n",
       "      <td>0</td>\n",
       "      <td>0.443</td>\n",
       "      <td>1995</td>\n",
       "      <td>AFC South</td>\n",
       "    </tr>\n",
       "    <tr>\n",
       "      <td>4</td>\n",
       "      <td>28</td>\n",
       "      <td>Houston Texans</td>\n",
       "      <td>272</td>\n",
       "      <td>121</td>\n",
       "      <td>151</td>\n",
       "      <td>0</td>\n",
       "      <td>0.445</td>\n",
       "      <td>2002</td>\n",
       "      <td>AFC South</td>\n",
       "    </tr>\n",
       "  </tbody>\n",
       "</table>\n",
       "</div>"
      ],
      "text/plain": [
       "   Rank                  Team     GP  Won  Lost  Tied   Pct.  \\\n",
       "0    32  Tampa Bay Buccaneers    676  260   415     1  0.385   \n",
       "1    31     Arizona Cardinals  1,346  553   753    40  0.426   \n",
       "2    30       Atlanta Falcons    816  358   452     6  0.442   \n",
       "3    29  Jacksonville Jaguars    384  170   214     0  0.443   \n",
       "4    28        Houston Texans    272  121   151     0  0.445   \n",
       "\n",
       "   First NFL Season   Division  \n",
       "0              1976  NFC South  \n",
       "1              1920   NFC West  \n",
       "2              1966  NFC South  \n",
       "3              1995  AFC South  \n",
       "4              2002  AFC South  "
      ]
     },
     "execution_count": 44,
     "metadata": {},
     "output_type": "execute_result"
    }
   ],
   "source": [
    "df_wikipedia.head()"
   ]
  },
  {
   "cell_type": "code",
   "execution_count": 45,
   "metadata": {},
   "outputs": [
    {
     "data": {
      "text/plain": [
       "0    Tampa Bay Buccaneers\n",
       "1       Arizona Cardinals\n",
       "2         Atlanta Falcons\n",
       "3    Jacksonville Jaguars\n",
       "4          Houston Texans\n",
       "Name: Team, dtype: object"
      ]
     },
     "execution_count": 45,
     "metadata": {},
     "output_type": "execute_result"
    }
   ],
   "source": [
    "df_wikipedia[\"Team\"].head()"
   ]
  },
  {
   "cell_type": "code",
   "execution_count": 46,
   "metadata": {},
   "outputs": [
    {
     "data": {
      "text/plain": [
       "0    Tampa Bay Buccaneers\n",
       "1       Arizona Cardinals\n",
       "2         Atlanta Falcons\n",
       "3    Jacksonville Jaguars\n",
       "4          Houston Texans\n",
       "Name: Team, dtype: object"
      ]
     },
     "execution_count": 46,
     "metadata": {},
     "output_type": "execute_result"
    }
   ],
   "source": [
    "df_wikipedia.Team.head()"
   ]
  },
  {
   "cell_type": "code",
   "execution_count": 47,
   "metadata": {},
   "outputs": [
    {
     "data": {
      "text/plain": [
       "RangeIndex(start=0, stop=32, step=1)"
      ]
     },
     "execution_count": 47,
     "metadata": {},
     "output_type": "execute_result"
    }
   ],
   "source": [
    "# DataFrame Index is a sequence (range) from 0 to 31 similar to using range(0,32,1)\n",
    "df_wikipedia.index"
   ]
  },
  {
   "cell_type": "code",
   "execution_count": 48,
   "metadata": {},
   "outputs": [
    {
     "data": {
      "text/html": [
       "<div>\n",
       "<style scoped>\n",
       "    .dataframe tbody tr th:only-of-type {\n",
       "        vertical-align: middle;\n",
       "    }\n",
       "\n",
       "    .dataframe tbody tr th {\n",
       "        vertical-align: top;\n",
       "    }\n",
       "\n",
       "    .dataframe thead th {\n",
       "        text-align: right;\n",
       "    }\n",
       "</style>\n",
       "<table border=\"1\" class=\"dataframe\">\n",
       "  <thead>\n",
       "    <tr style=\"text-align: right;\">\n",
       "      <th></th>\n",
       "      <th>Rank</th>\n",
       "      <th>GP</th>\n",
       "      <th>Won</th>\n",
       "      <th>Lost</th>\n",
       "      <th>Tied</th>\n",
       "      <th>Pct.</th>\n",
       "      <th>First NFL Season</th>\n",
       "      <th>Division</th>\n",
       "    </tr>\n",
       "    <tr>\n",
       "      <th>Team</th>\n",
       "      <th></th>\n",
       "      <th></th>\n",
       "      <th></th>\n",
       "      <th></th>\n",
       "      <th></th>\n",
       "      <th></th>\n",
       "      <th></th>\n",
       "      <th></th>\n",
       "    </tr>\n",
       "  </thead>\n",
       "  <tbody>\n",
       "    <tr>\n",
       "      <td>Tampa Bay Buccaneers</td>\n",
       "      <td>32</td>\n",
       "      <td>676</td>\n",
       "      <td>260</td>\n",
       "      <td>415</td>\n",
       "      <td>1</td>\n",
       "      <td>0.385</td>\n",
       "      <td>1976</td>\n",
       "      <td>NFC South</td>\n",
       "    </tr>\n",
       "    <tr>\n",
       "      <td>Arizona Cardinals</td>\n",
       "      <td>31</td>\n",
       "      <td>1,346</td>\n",
       "      <td>553</td>\n",
       "      <td>753</td>\n",
       "      <td>40</td>\n",
       "      <td>0.426</td>\n",
       "      <td>1920</td>\n",
       "      <td>NFC West</td>\n",
       "    </tr>\n",
       "    <tr>\n",
       "      <td>Atlanta Falcons</td>\n",
       "      <td>30</td>\n",
       "      <td>816</td>\n",
       "      <td>358</td>\n",
       "      <td>452</td>\n",
       "      <td>6</td>\n",
       "      <td>0.442</td>\n",
       "      <td>1966</td>\n",
       "      <td>NFC South</td>\n",
       "    </tr>\n",
       "    <tr>\n",
       "      <td>Jacksonville Jaguars</td>\n",
       "      <td>29</td>\n",
       "      <td>384</td>\n",
       "      <td>170</td>\n",
       "      <td>214</td>\n",
       "      <td>0</td>\n",
       "      <td>0.443</td>\n",
       "      <td>1995</td>\n",
       "      <td>AFC South</td>\n",
       "    </tr>\n",
       "    <tr>\n",
       "      <td>Houston Texans</td>\n",
       "      <td>28</td>\n",
       "      <td>272</td>\n",
       "      <td>121</td>\n",
       "      <td>151</td>\n",
       "      <td>0</td>\n",
       "      <td>0.445</td>\n",
       "      <td>2002</td>\n",
       "      <td>AFC South</td>\n",
       "    </tr>\n",
       "  </tbody>\n",
       "</table>\n",
       "</div>"
      ],
      "text/plain": [
       "                      Rank     GP  Won  Lost  Tied   Pct.  First NFL Season  \\\n",
       "Team                                                                          \n",
       "Tampa Bay Buccaneers    32    676  260   415     1  0.385              1976   \n",
       "Arizona Cardinals       31  1,346  553   753    40  0.426              1920   \n",
       "Atlanta Falcons         30    816  358   452     6  0.442              1966   \n",
       "Jacksonville Jaguars    29    384  170   214     0  0.443              1995   \n",
       "Houston Texans          28    272  121   151     0  0.445              2002   \n",
       "\n",
       "                       Division  \n",
       "Team                             \n",
       "Tampa Bay Buccaneers  NFC South  \n",
       "Arizona Cardinals      NFC West  \n",
       "Atlanta Falcons       NFC South  \n",
       "Jacksonville Jaguars  AFC South  \n",
       "Houston Texans        AFC South  "
      ]
     },
     "execution_count": 48,
     "metadata": {},
     "output_type": "execute_result"
    }
   ],
   "source": [
    "df_wikipedia.set_index('Team', inplace=True)\n",
    "df_wikipedia.head()"
   ]
  },
  {
   "cell_type": "code",
   "execution_count": 49,
   "metadata": {},
   "outputs": [
    {
     "data": {
      "text/plain": [
       "Index(['Tampa Bay Buccaneers', 'Arizona Cardinals', 'Atlanta Falcons',\n",
       "       'Jacksonville Jaguars', 'Houston Texans', 'New York Jets',\n",
       "       'New Orleans Saints', 'Cincinnati Bengals', 'Detroit Lions',\n",
       "       'Buffalo Bills', 'Tennessee Titans', 'Cleveland Browns',\n",
       "       'Philadelphia Eagles', 'Carolina Panthers', 'Los Angeles Rams',\n",
       "       'Los Angeles Chargers[d]', 'Washington Redskins', 'Seattle Seahawks',\n",
       "       'Oakland Raiders', 'Kansas City Chiefs', 'Pittsburgh Steelers',\n",
       "       'Indianapolis Colts[c]', 'San Francisco 49ers', 'Denver Broncos',\n",
       "       'New York Giants', 'Baltimore Ravens', 'Minnesota Vikings',\n",
       "       'Miami Dolphins', 'New England Patriots[b]', 'Green Bay Packers',\n",
       "       'Chicago Bears', 'Dallas Cowboys'],\n",
       "      dtype='object', name='Team')"
      ]
     },
     "execution_count": 49,
     "metadata": {},
     "output_type": "execute_result"
    }
   ],
   "source": [
    "# List DataFrame Index\n",
    "df_wikipedia.index"
   ]
  },
  {
   "cell_type": "code",
   "execution_count": 50,
   "metadata": {},
   "outputs": [
    {
     "data": {
      "text/plain": [
       "Rank                       1\n",
       "GP                       898\n",
       "Won                      512\n",
       "Lost                     380\n",
       "Tied                       6\n",
       "Pct.                   0.573\n",
       "First NFL Season        1960\n",
       "Division            NFC East\n",
       "Name: Dallas Cowboys, dtype: object"
      ]
     },
     "execution_count": 50,
     "metadata": {},
     "output_type": "execute_result"
    }
   ],
   "source": [
    "df_wikipedia.loc[\"Dallas Cowboys\"]"
   ]
  },
  {
   "cell_type": "code",
   "execution_count": 51,
   "metadata": {},
   "outputs": [
    {
     "data": {
      "text/plain": [
       "512"
      ]
     },
     "execution_count": 51,
     "metadata": {},
     "output_type": "execute_result"
    }
   ],
   "source": [
    "df_wikipedia.loc[\"Dallas Cowboys\", \"Won\"]"
   ]
  },
  {
   "cell_type": "markdown",
   "metadata": {},
   "source": [
    "**Another example using `read_clipboard()` with excel data**"
   ]
  },
  {
   "cell_type": "code",
   "execution_count": 52,
   "metadata": {},
   "outputs": [
    {
     "data": {
      "text/html": [
       "<div>\n",
       "<style scoped>\n",
       "    .dataframe tbody tr th:only-of-type {\n",
       "        vertical-align: middle;\n",
       "    }\n",
       "\n",
       "    .dataframe tbody tr th {\n",
       "        vertical-align: top;\n",
       "    }\n",
       "\n",
       "    .dataframe thead th {\n",
       "        text-align: right;\n",
       "    }\n",
       "</style>\n",
       "<table border=\"1\" class=\"dataframe\">\n",
       "  <thead>\n",
       "    <tr style=\"text-align: right;\">\n",
       "      <th></th>\n",
       "      <th>Rank</th>\n",
       "      <th>Team</th>\n",
       "      <th>GP</th>\n",
       "      <th>Won</th>\n",
       "      <th>Lost</th>\n",
       "      <th>Tied</th>\n",
       "      <th>Pct.</th>\n",
       "      <th>First NFL Season</th>\n",
       "      <th>Division</th>\n",
       "    </tr>\n",
       "  </thead>\n",
       "  <tbody>\n",
       "    <tr>\n",
       "      <td>0</td>\n",
       "      <td>32</td>\n",
       "      <td>Tampa Bay Buccaneers</td>\n",
       "      <td>676</td>\n",
       "      <td>260</td>\n",
       "      <td>415</td>\n",
       "      <td>1</td>\n",
       "      <td>0.385</td>\n",
       "      <td>1976</td>\n",
       "      <td>NFC South</td>\n",
       "    </tr>\n",
       "    <tr>\n",
       "      <td>1</td>\n",
       "      <td>31</td>\n",
       "      <td>Arizona Cardinals</td>\n",
       "      <td>1,346</td>\n",
       "      <td>553</td>\n",
       "      <td>753</td>\n",
       "      <td>40</td>\n",
       "      <td>0.426</td>\n",
       "      <td>1920</td>\n",
       "      <td>NFC West</td>\n",
       "    </tr>\n",
       "    <tr>\n",
       "      <td>2</td>\n",
       "      <td>30</td>\n",
       "      <td>Atlanta Falcons</td>\n",
       "      <td>816</td>\n",
       "      <td>358</td>\n",
       "      <td>452</td>\n",
       "      <td>6</td>\n",
       "      <td>0.442</td>\n",
       "      <td>1966</td>\n",
       "      <td>NFC South</td>\n",
       "    </tr>\n",
       "    <tr>\n",
       "      <td>3</td>\n",
       "      <td>29</td>\n",
       "      <td>Jacksonville Jaguars</td>\n",
       "      <td>384</td>\n",
       "      <td>170</td>\n",
       "      <td>214</td>\n",
       "      <td>0</td>\n",
       "      <td>0.443</td>\n",
       "      <td>1995</td>\n",
       "      <td>AFC South</td>\n",
       "    </tr>\n",
       "    <tr>\n",
       "      <td>4</td>\n",
       "      <td>28</td>\n",
       "      <td>Houston Texans</td>\n",
       "      <td>272</td>\n",
       "      <td>121</td>\n",
       "      <td>151</td>\n",
       "      <td>0</td>\n",
       "      <td>0.445</td>\n",
       "      <td>2002</td>\n",
       "      <td>AFC South</td>\n",
       "    </tr>\n",
       "  </tbody>\n",
       "</table>\n",
       "</div>"
      ],
      "text/plain": [
       "   Rank                  Team     GP  Won  Lost  Tied   Pct.  \\\n",
       "0    32  Tampa Bay Buccaneers    676  260   415     1  0.385   \n",
       "1    31     Arizona Cardinals  1,346  553   753    40  0.426   \n",
       "2    30       Atlanta Falcons    816  358   452     6  0.442   \n",
       "3    29  Jacksonville Jaguars    384  170   214     0  0.443   \n",
       "4    28        Houston Texans    272  121   151     0  0.445   \n",
       "\n",
       "   First NFL Season   Division  \n",
       "0              1976  NFC South  \n",
       "1              1920   NFC West  \n",
       "2              1966  NFC South  \n",
       "3              1995  AFC South  \n",
       "4              2002  AFC South  "
      ]
     },
     "execution_count": 52,
     "metadata": {},
     "output_type": "execute_result"
    }
   ],
   "source": [
    "df_excel = pd.read_clipboard()\n",
    "df_excel.head()"
   ]
  },
  {
   "cell_type": "code",
   "execution_count": 53,
   "metadata": {},
   "outputs": [
    {
     "data": {
      "text/plain": [
       "Index(['Rank', 'Team', 'GP', 'Won', 'Lost', 'Tied', 'Pct.', 'First NFL Season',\n",
       "       'Division'],\n",
       "      dtype='object')"
      ]
     },
     "execution_count": 53,
     "metadata": {},
     "output_type": "execute_result"
    }
   ],
   "source": [
    "df_excel.columns"
   ]
  },
  {
   "cell_type": "code",
   "execution_count": 54,
   "metadata": {},
   "outputs": [
    {
     "ename": "AttributeError",
     "evalue": "'DataFrame' object has no attribute 'Utilities'",
     "output_type": "error",
     "traceback": [
      "\u001b[1;31m---------------------------------------------------------------------------\u001b[0m",
      "\u001b[1;31mAttributeError\u001b[0m                            Traceback (most recent call last)",
      "\u001b[1;32m<ipython-input-54-d7567e14fe22>\u001b[0m in \u001b[0;36m<module>\u001b[1;34m\u001b[0m\n\u001b[1;32m----> 1\u001b[1;33m \u001b[0mdf_excel\u001b[0m\u001b[1;33m.\u001b[0m\u001b[0mUtilities\u001b[0m\u001b[1;33m.\u001b[0m\u001b[0mvalue_counts\u001b[0m\u001b[1;33m(\u001b[0m\u001b[1;33m)\u001b[0m\u001b[1;33m\u001b[0m\u001b[1;33m\u001b[0m\u001b[0m\n\u001b[0m",
      "\u001b[1;32m~\\AppData\\Local\\Continuum\\anaconda3\\envs\\PythonData\\lib\\site-packages\\pandas\\core\\generic.py\u001b[0m in \u001b[0;36m__getattr__\u001b[1;34m(self, name)\u001b[0m\n\u001b[0;32m   5177\u001b[0m             \u001b[1;32mif\u001b[0m \u001b[0mself\u001b[0m\u001b[1;33m.\u001b[0m\u001b[0m_info_axis\u001b[0m\u001b[1;33m.\u001b[0m\u001b[0m_can_hold_identifiers_and_holds_name\u001b[0m\u001b[1;33m(\u001b[0m\u001b[0mname\u001b[0m\u001b[1;33m)\u001b[0m\u001b[1;33m:\u001b[0m\u001b[1;33m\u001b[0m\u001b[1;33m\u001b[0m\u001b[0m\n\u001b[0;32m   5178\u001b[0m                 \u001b[1;32mreturn\u001b[0m \u001b[0mself\u001b[0m\u001b[1;33m[\u001b[0m\u001b[0mname\u001b[0m\u001b[1;33m]\u001b[0m\u001b[1;33m\u001b[0m\u001b[1;33m\u001b[0m\u001b[0m\n\u001b[1;32m-> 5179\u001b[1;33m             \u001b[1;32mreturn\u001b[0m \u001b[0mobject\u001b[0m\u001b[1;33m.\u001b[0m\u001b[0m__getattribute__\u001b[0m\u001b[1;33m(\u001b[0m\u001b[0mself\u001b[0m\u001b[1;33m,\u001b[0m \u001b[0mname\u001b[0m\u001b[1;33m)\u001b[0m\u001b[1;33m\u001b[0m\u001b[1;33m\u001b[0m\u001b[0m\n\u001b[0m\u001b[0;32m   5180\u001b[0m \u001b[1;33m\u001b[0m\u001b[0m\n\u001b[0;32m   5181\u001b[0m     \u001b[1;32mdef\u001b[0m \u001b[0m__setattr__\u001b[0m\u001b[1;33m(\u001b[0m\u001b[0mself\u001b[0m\u001b[1;33m,\u001b[0m \u001b[0mname\u001b[0m\u001b[1;33m,\u001b[0m \u001b[0mvalue\u001b[0m\u001b[1;33m)\u001b[0m\u001b[1;33m:\u001b[0m\u001b[1;33m\u001b[0m\u001b[1;33m\u001b[0m\u001b[0m\n",
      "\u001b[1;31mAttributeError\u001b[0m: 'DataFrame' object has no attribute 'Utilities'"
     ]
    }
   ],
   "source": [
    "df_excel.Utilities.value_counts()"
   ]
  },
  {
   "cell_type": "markdown",
   "metadata": {},
   "source": [
    "## Creating Series with an Index"
   ]
  },
  {
   "cell_type": "code",
   "execution_count": null,
   "metadata": {},
   "outputs": [],
   "source": []
  },
  {
   "cell_type": "code",
   "execution_count": 68,
   "metadata": {},
   "outputs": [],
   "source": [
    "gdp_per_capita = pd.Series([59939,8612,38214,44680,1980,39532,39827,9881,32038,44841,10846,29958], \n",
    "                           index=[\"United States\", \"China\", \"Japan\", \"Germany\", \"India\", \"United Kingdom\", \"France\",\"Brazil\", \"Italy\", \"Canada\", \"Russia\", \"South Korea\"])"
   ]
  },
  {
   "cell_type": "code",
   "execution_count": 56,
   "metadata": {},
   "outputs": [
    {
     "data": {
      "text/plain": [
       "United States     59939\n",
       "China              8612\n",
       "Japan             38214\n",
       "Germany           44680\n",
       "India              1980\n",
       "United Kingdom    39532\n",
       "France            39827\n",
       "Brazil             9881\n",
       "Italy             32038\n",
       "Canada            44841\n",
       "Russia            10846\n",
       "South Korea       29958\n",
       "dtype: int64"
      ]
     },
     "execution_count": 56,
     "metadata": {},
     "output_type": "execute_result"
    }
   ],
   "source": [
    "gdp_per_capita"
   ]
  },
  {
   "cell_type": "code",
   "execution_count": 57,
   "metadata": {},
   "outputs": [
    {
     "data": {
      "text/plain": [
       "1980"
      ]
     },
     "execution_count": 57,
     "metadata": {},
     "output_type": "execute_result"
    }
   ],
   "source": [
    "gdp_per_capita.min()"
   ]
  },
  {
   "cell_type": "code",
   "execution_count": 58,
   "metadata": {},
   "outputs": [
    {
     "data": {
      "text/plain": [
       "'India'"
      ]
     },
     "execution_count": 58,
     "metadata": {},
     "output_type": "execute_result"
    }
   ],
   "source": [
    "gdp_per_capita.idxmin()"
   ]
  },
  {
   "cell_type": "code",
   "execution_count": 59,
   "metadata": {},
   "outputs": [
    {
     "data": {
      "text/plain": [
       "8612"
      ]
     },
     "execution_count": 59,
     "metadata": {},
     "output_type": "execute_result"
    }
   ],
   "source": [
    "gdp_per_capita[\"China\"]"
   ]
  },
  {
   "cell_type": "code",
   "execution_count": 60,
   "metadata": {},
   "outputs": [
    {
     "data": {
      "text/plain": [
       "8612"
      ]
     },
     "execution_count": 60,
     "metadata": {},
     "output_type": "execute_result"
    }
   ],
   "source": [
    "gdp_per_capita[1]"
   ]
  },
  {
   "cell_type": "code",
   "execution_count": 61,
   "metadata": {},
   "outputs": [
    {
     "data": {
      "text/plain": [
       "(12,)"
      ]
     },
     "execution_count": 61,
     "metadata": {},
     "output_type": "execute_result"
    }
   ],
   "source": [
    "gdp_per_capita.shape"
   ]
  },
  {
   "cell_type": "code",
   "execution_count": 62,
   "metadata": {},
   "outputs": [
    {
     "data": {
      "text/plain": [
       "Index(['United States', 'China', 'Japan', 'Germany', 'India', 'United Kingdom',\n",
       "       'France', 'Brazil', 'Italy', 'Canada', 'Russia', 'South Korea'],\n",
       "      dtype='object')"
      ]
     },
     "execution_count": 62,
     "metadata": {},
     "output_type": "execute_result"
    }
   ],
   "source": [
    "gdp_per_capita.index"
   ]
  },
  {
   "cell_type": "code",
   "execution_count": 63,
   "metadata": {},
   "outputs": [
    {
     "data": {
      "text/plain": [
       "array([59939,  8612, 38214, 44680,  1980, 39532, 39827,  9881, 32038,\n",
       "       44841, 10846, 29958], dtype=int64)"
      ]
     },
     "execution_count": 63,
     "metadata": {},
     "output_type": "execute_result"
    }
   ],
   "source": [
    "gdp_per_capita.values"
   ]
  },
  {
   "cell_type": "code",
   "execution_count": 64,
   "metadata": {},
   "outputs": [
    {
     "data": {
      "text/plain": [
       "pandas.core.indexes.base.Index"
      ]
     },
     "execution_count": 64,
     "metadata": {},
     "output_type": "execute_result"
    }
   ],
   "source": [
    "type(gdp_per_capita.index)"
   ]
  },
  {
   "cell_type": "code",
   "execution_count": 65,
   "metadata": {},
   "outputs": [
    {
     "data": {
      "text/plain": [
       "numpy.ndarray"
      ]
     },
     "execution_count": 65,
     "metadata": {},
     "output_type": "execute_result"
    }
   ],
   "source": [
    "type(gdp_per_capita.values)"
   ]
  },
  {
   "cell_type": "code",
   "execution_count": null,
   "metadata": {},
   "outputs": [],
   "source": []
  },
  {
   "cell_type": "code",
   "execution_count": null,
   "metadata": {},
   "outputs": [],
   "source": []
  }
 ],
 "metadata": {
  "kernelspec": {
   "display_name": "Python 3",
   "language": "python",
   "name": "python3"
  },
  "language_info": {
   "codemirror_mode": {
    "name": "ipython",
    "version": 3
   },
   "file_extension": ".py",
   "mimetype": "text/x-python",
   "name": "python",
   "nbconvert_exporter": "python",
   "pygments_lexer": "ipython3",
   "version": "3.6.9"
  }
 },
 "nbformat": 4,
 "nbformat_minor": 4
}
