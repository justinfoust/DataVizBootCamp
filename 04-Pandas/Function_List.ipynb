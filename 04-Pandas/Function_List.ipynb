{
 "cells": [
  {
   "cell_type": "code",
   "execution_count": 2,
   "metadata": {},
   "outputs": [],
   "source": [
    "import pandas as pd"
   ]
  },
  {
   "cell_type": "markdown",
   "metadata": {},
   "source": [
    "### df.dropna()"
   ]
  },
  {
   "cell_type": "code",
   "execution_count": null,
   "metadata": {},
   "outputs": [],
   "source": [
    "pd.DataFrame.dropna?"
   ]
  },
  {
   "cell_type": "markdown",
   "metadata": {},
   "source": [
    "### to_numeric"
   ]
  },
  {
   "cell_type": "code",
   "execution_count": 6,
   "metadata": {},
   "outputs": [],
   "source": [
    "pd.to_numeric?"
   ]
  },
  {
   "cell_type": "markdown",
   "metadata": {},
   "source": [
    "### DataFrame"
   ]
  },
  {
   "cell_type": "code",
   "execution_count": 2,
   "metadata": {},
   "outputs": [],
   "source": [
    "pd.DataFrame?"
   ]
  },
  {
   "cell_type": "markdown",
   "metadata": {},
   "source": [
    "### Series"
   ]
  },
  {
   "cell_type": "code",
   "execution_count": 3,
   "metadata": {},
   "outputs": [],
   "source": [
    "pd.Series?"
   ]
  },
  {
   "cell_type": "markdown",
   "metadata": {},
   "source": [
    "### df.shape"
   ]
  },
  {
   "cell_type": "code",
   "execution_count": 5,
   "metadata": {},
   "outputs": [],
   "source": [
    "pd.DataFrame.shape?"
   ]
  },
  {
   "cell_type": "markdown",
   "metadata": {},
   "source": [
    "### df.head"
   ]
  },
  {
   "cell_type": "code",
   "execution_count": 6,
   "metadata": {},
   "outputs": [],
   "source": [
    "pd.DataFrame.head?"
   ]
  },
  {
   "cell_type": "markdown",
   "metadata": {},
   "source": [
    "### df.tail"
   ]
  },
  {
   "cell_type": "code",
   "execution_count": 7,
   "metadata": {},
   "outputs": [],
   "source": [
    "pd.DataFrame.tail?"
   ]
  },
  {
   "cell_type": "markdown",
   "metadata": {},
   "source": [
    "### df.columns"
   ]
  },
  {
   "cell_type": "code",
   "execution_count": 8,
   "metadata": {},
   "outputs": [],
   "source": [
    "pd.DataFrame.columns?"
   ]
  },
  {
   "cell_type": "markdown",
   "metadata": {},
   "source": [
    "### df.dtypes"
   ]
  },
  {
   "cell_type": "code",
   "execution_count": 9,
   "metadata": {},
   "outputs": [],
   "source": [
    "pd.DataFrame.dtypes?"
   ]
  },
  {
   "cell_type": "markdown",
   "metadata": {},
   "source": [
    "### df.info"
   ]
  },
  {
   "cell_type": "code",
   "execution_count": 10,
   "metadata": {},
   "outputs": [],
   "source": [
    "pd.DataFrame.info?"
   ]
  },
  {
   "cell_type": "markdown",
   "metadata": {},
   "source": [
    "### df.duplicated"
   ]
  },
  {
   "cell_type": "code",
   "execution_count": 11,
   "metadata": {},
   "outputs": [],
   "source": [
    "pd.DataFrame.duplicated?\n",
    "\n",
    "#pd.DataFrame.duplicated().sum()  #Gives total duplicates in data"
   ]
  },
  {
   "cell_type": "markdown",
   "metadata": {},
   "source": [
    "### df.isna()"
   ]
  },
  {
   "cell_type": "code",
   "execution_count": 13,
   "metadata": {},
   "outputs": [],
   "source": [
    "pd.DataFrame.isna?\n",
    "\n",
    "#pd.DataFrame.isna().sum()  #Give total of NAN in each column"
   ]
  },
  {
   "cell_type": "markdown",
   "metadata": {},
   "source": [
    "### df.isnull()"
   ]
  },
  {
   "cell_type": "code",
   "execution_count": 14,
   "metadata": {},
   "outputs": [],
   "source": [
    "pd.DataFrame.isnull?\n",
    "\n",
    "#pd.DataFrame.isnull().sum()  #Gives total of null in each column"
   ]
  },
  {
   "cell_type": "markdown",
   "metadata": {},
   "source": [
    "### df.loc()"
   ]
  },
  {
   "cell_type": "code",
   "execution_count": 15,
   "metadata": {},
   "outputs": [],
   "source": [
    "pd.DataFrame.loc?"
   ]
  },
  {
   "cell_type": "markdown",
   "metadata": {},
   "source": [
    "### df.describe()"
   ]
  },
  {
   "cell_type": "code",
   "execution_count": 16,
   "metadata": {},
   "outputs": [],
   "source": [
    "pd.DataFrame.describe?\n",
    "\n",
    "#pd.DataFrame.describe(include='object | int64 | float64 | etc')\n",
    "#Descriptive info for that type of data only within the DF"
   ]
  },
  {
   "cell_type": "markdown",
   "metadata": {},
   "source": [
    "### s.value_counts()"
   ]
  },
  {
   "cell_type": "code",
   "execution_count": 18,
   "metadata": {},
   "outputs": [],
   "source": [
    "pd.Series.value_counts?"
   ]
  },
  {
   "cell_type": "markdown",
   "metadata": {},
   "source": [
    "### df.dropna()"
   ]
  },
  {
   "cell_type": "code",
   "execution_count": 19,
   "metadata": {},
   "outputs": [],
   "source": [
    "pd.DataFrame.dropna?"
   ]
  },
  {
   "cell_type": "markdown",
   "metadata": {},
   "source": []
  },
  {
   "cell_type": "code",
   "execution_count": 20,
   "metadata": {},
   "outputs": [],
   "source": [
    "pd.DataFrame.fillna?\n",
    "\n",
    "#pd.DataFrame.fillna(method='backfill | pad | forwardfill | etc')\n",
    "#Uses surrounding data to fill in emptpy/Null values"
   ]
  },
  {
   "cell_type": "markdown",
   "metadata": {},
   "source": []
  },
  {
   "cell_type": "code",
   "execution_count": 21,
   "metadata": {},
   "outputs": [],
   "source": [
    "pd.DataFrame.groupby?"
   ]
  },
  {
   "cell_type": "markdown",
   "metadata": {},
   "source": []
  },
  {
   "cell_type": "code",
   "execution_count": 23,
   "metadata": {},
   "outputs": [],
   "source": [
    "pd.DataFrame.transform?"
   ]
  },
  {
   "cell_type": "markdown",
   "metadata": {},
   "source": [
    "### date_range()"
   ]
  },
  {
   "cell_type": "code",
   "execution_count": 26,
   "metadata": {},
   "outputs": [],
   "source": [
    "pd.date_range?"
   ]
  },
  {
   "cell_type": "markdown",
   "metadata": {},
   "source": [
    "### df.set_index()"
   ]
  },
  {
   "cell_type": "code",
   "execution_count": 27,
   "metadata": {},
   "outputs": [],
   "source": [
    "pd.DataFrame.set_index?"
   ]
  },
  {
   "cell_type": "markdown",
   "metadata": {},
   "source": [
    "### df.truncate()"
   ]
  },
  {
   "cell_type": "code",
   "execution_count": 28,
   "metadata": {},
   "outputs": [],
   "source": [
    "pd.DataFrame.truncate?"
   ]
  },
  {
   "cell_type": "markdown",
   "metadata": {},
   "source": [
    "### df.resample()"
   ]
  },
  {
   "cell_type": "code",
   "execution_count": 29,
   "metadata": {},
   "outputs": [],
   "source": [
    "pd.DataFrame.resample?"
   ]
  },
  {
   "cell_type": "markdown",
   "metadata": {},
   "source": [
    "### df.shift()"
   ]
  },
  {
   "cell_type": "code",
   "execution_count": 30,
   "metadata": {},
   "outputs": [],
   "source": [
    "pd.DataFrame.shift?"
   ]
  },
  {
   "cell_type": "markdown",
   "metadata": {},
   "source": [
    "### df.sort_values()"
   ]
  },
  {
   "cell_type": "code",
   "execution_count": 31,
   "metadata": {},
   "outputs": [],
   "source": [
    "pd.DataFrame.sort_values?"
   ]
  },
  {
   "cell_type": "markdown",
   "metadata": {},
   "source": [
    "### df.reset_index()"
   ]
  },
  {
   "cell_type": "code",
   "execution_count": 32,
   "metadata": {},
   "outputs": [],
   "source": [
    "pd.DataFrame.reset_index?"
   ]
  },
  {
   "cell_type": "markdown",
   "metadata": {},
   "source": [
    "### merge()"
   ]
  },
  {
   "cell_type": "code",
   "execution_count": 39,
   "metadata": {},
   "outputs": [],
   "source": [
    "pd.merge?\n",
    "\n",
    "#Also, pd.DataFrame.merge()"
   ]
  },
  {
   "cell_type": "markdown",
   "metadata": {},
   "source": [
    "### cut()"
   ]
  },
  {
   "cell_type": "code",
   "execution_count": 8,
   "metadata": {},
   "outputs": [
    {
     "data": {
      "text/plain": [
       "\u001b[1;31mSignature:\u001b[0m\n",
       "\u001b[0mpd\u001b[0m\u001b[1;33m.\u001b[0m\u001b[0mcut\u001b[0m\u001b[1;33m(\u001b[0m\u001b[1;33m\n",
       "\u001b[0m    \u001b[0mx\u001b[0m\u001b[1;33m,\u001b[0m\u001b[1;33m\n",
       "\u001b[0m    \u001b[0mbins\u001b[0m\u001b[1;33m,\u001b[0m\u001b[1;33m\n",
       "\u001b[0m    \u001b[0mright\u001b[0m\u001b[1;33m=\u001b[0m\u001b[1;32mTrue\u001b[0m\u001b[1;33m,\u001b[0m\u001b[1;33m\n",
       "\u001b[0m    \u001b[0mlabels\u001b[0m\u001b[1;33m=\u001b[0m\u001b[1;32mNone\u001b[0m\u001b[1;33m,\u001b[0m\u001b[1;33m\n",
       "\u001b[0m    \u001b[0mretbins\u001b[0m\u001b[1;33m=\u001b[0m\u001b[1;32mFalse\u001b[0m\u001b[1;33m,\u001b[0m\u001b[1;33m\n",
       "\u001b[0m    \u001b[0mprecision\u001b[0m\u001b[1;33m=\u001b[0m\u001b[1;36m3\u001b[0m\u001b[1;33m,\u001b[0m\u001b[1;33m\n",
       "\u001b[0m    \u001b[0minclude_lowest\u001b[0m\u001b[1;33m=\u001b[0m\u001b[1;32mFalse\u001b[0m\u001b[1;33m,\u001b[0m\u001b[1;33m\n",
       "\u001b[0m    \u001b[0mduplicates\u001b[0m\u001b[1;33m=\u001b[0m\u001b[1;34m'raise'\u001b[0m\u001b[1;33m,\u001b[0m\u001b[1;33m\n",
       "\u001b[0m\u001b[1;33m)\u001b[0m\u001b[1;33m\u001b[0m\u001b[1;33m\u001b[0m\u001b[0m\n",
       "\u001b[1;31mDocstring:\u001b[0m\n",
       "Bin values into discrete intervals.\n",
       "\n",
       "Use `cut` when you need to segment and sort data values into bins. This\n",
       "function is also useful for going from a continuous variable to a\n",
       "categorical variable. For example, `cut` could convert ages to groups of\n",
       "age ranges. Supports binning into an equal number of bins, or a\n",
       "pre-specified array of bins.\n",
       "\n",
       "Parameters\n",
       "----------\n",
       "x : array-like\n",
       "    The input array to be binned. Must be 1-dimensional.\n",
       "bins : int, sequence of scalars, or IntervalIndex\n",
       "    The criteria to bin by.\n",
       "\n",
       "    * int : Defines the number of equal-width bins in the range of `x`. The\n",
       "      range of `x` is extended by .1% on each side to include the minimum\n",
       "      and maximum values of `x`.\n",
       "    * sequence of scalars : Defines the bin edges allowing for non-uniform\n",
       "      width. No extension of the range of `x` is done.\n",
       "    * IntervalIndex : Defines the exact bins to be used. Note that\n",
       "      IntervalIndex for `bins` must be non-overlapping.\n",
       "\n",
       "right : bool, default True\n",
       "    Indicates whether `bins` includes the rightmost edge or not. If\n",
       "    ``right == True`` (the default), then the `bins` ``[1, 2, 3, 4]``\n",
       "    indicate (1,2], (2,3], (3,4]. This argument is ignored when\n",
       "    `bins` is an IntervalIndex.\n",
       "labels : array or bool, optional\n",
       "    Specifies the labels for the returned bins. Must be the same length as\n",
       "    the resulting bins. If False, returns only integer indicators of the\n",
       "    bins. This affects the type of the output container (see below).\n",
       "    This argument is ignored when `bins` is an IntervalIndex.\n",
       "retbins : bool, default False\n",
       "    Whether to return the bins or not. Useful when bins is provided\n",
       "    as a scalar.\n",
       "precision : int, default 3\n",
       "    The precision at which to store and display the bins labels.\n",
       "include_lowest : bool, default False\n",
       "    Whether the first interval should be left-inclusive or not.\n",
       "duplicates : {default 'raise', 'drop'}, optional\n",
       "    If bin edges are not unique, raise ValueError or drop non-uniques.\n",
       "\n",
       "    .. versionadded:: 0.23.0\n",
       "\n",
       "Returns\n",
       "-------\n",
       "out : Categorical, Series, or ndarray\n",
       "    An array-like object representing the respective bin for each value\n",
       "    of `x`. The type depends on the value of `labels`.\n",
       "\n",
       "    * True (default) : returns a Series for Series `x` or a\n",
       "      Categorical for all other inputs. The values stored within\n",
       "      are Interval dtype.\n",
       "\n",
       "    * sequence of scalars : returns a Series for Series `x` or a\n",
       "      Categorical for all other inputs. The values stored within\n",
       "      are whatever the type in the sequence is.\n",
       "\n",
       "    * False : returns an ndarray of integers.\n",
       "\n",
       "bins : numpy.ndarray or IntervalIndex.\n",
       "    The computed or specified bins. Only returned when `retbins=True`.\n",
       "    For scalar or sequence `bins`, this is an ndarray with the computed\n",
       "    bins. If set `duplicates=drop`, `bins` will drop non-unique bin. For\n",
       "    an IntervalIndex `bins`, this is equal to `bins`.\n",
       "\n",
       "See Also\n",
       "--------\n",
       "qcut : Discretize variable into equal-sized buckets based on rank\n",
       "    or based on sample quantiles.\n",
       "Categorical : Array type for storing data that come from a\n",
       "    fixed set of values.\n",
       "Series : One-dimensional array with axis labels (including time series).\n",
       "IntervalIndex : Immutable Index implementing an ordered, sliceable set.\n",
       "\n",
       "Notes\n",
       "-----\n",
       "Any NA values will be NA in the result. Out of bounds values will be NA in\n",
       "the resulting Series or Categorical object.\n",
       "\n",
       "Examples\n",
       "--------\n",
       "Discretize into three equal-sized bins.\n",
       "\n",
       ">>> pd.cut(np.array([1, 7, 5, 4, 6, 3]), 3)\n",
       "... # doctest: +ELLIPSIS\n",
       "[(0.994, 3.0], (5.0, 7.0], (3.0, 5.0], (3.0, 5.0], (5.0, 7.0], ...\n",
       "Categories (3, interval[float64]): [(0.994, 3.0] < (3.0, 5.0] ...\n",
       "\n",
       ">>> pd.cut(np.array([1, 7, 5, 4, 6, 3]), 3, retbins=True)\n",
       "... # doctest: +ELLIPSIS\n",
       "([(0.994, 3.0], (5.0, 7.0], (3.0, 5.0], (3.0, 5.0], (5.0, 7.0], ...\n",
       "Categories (3, interval[float64]): [(0.994, 3.0] < (3.0, 5.0] ...\n",
       "array([0.994, 3.   , 5.   , 7.   ]))\n",
       "\n",
       "Discovers the same bins, but assign them specific labels. Notice that\n",
       "the returned Categorical's categories are `labels` and is ordered.\n",
       "\n",
       ">>> pd.cut(np.array([1, 7, 5, 4, 6, 3]),\n",
       "...        3, labels=[\"bad\", \"medium\", \"good\"])\n",
       "[bad, good, medium, medium, good, bad]\n",
       "Categories (3, object): [bad < medium < good]\n",
       "\n",
       "``labels=False`` implies you just want the bins back.\n",
       "\n",
       ">>> pd.cut([0, 1, 1, 2], bins=4, labels=False)\n",
       "array([0, 1, 1, 3])\n",
       "\n",
       "Passing a Series as an input returns a Series with categorical dtype:\n",
       "\n",
       ">>> s = pd.Series(np.array([2, 4, 6, 8, 10]),\n",
       "...               index=['a', 'b', 'c', 'd', 'e'])\n",
       ">>> pd.cut(s, 3)\n",
       "... # doctest: +ELLIPSIS\n",
       "a    (1.992, 4.667]\n",
       "b    (1.992, 4.667]\n",
       "c    (4.667, 7.333]\n",
       "d     (7.333, 10.0]\n",
       "e     (7.333, 10.0]\n",
       "dtype: category\n",
       "Categories (3, interval[float64]): [(1.992, 4.667] < (4.667, ...\n",
       "\n",
       "Passing a Series as an input returns a Series with mapping value.\n",
       "It is used to map numerically to intervals based on bins.\n",
       "\n",
       ">>> s = pd.Series(np.array([2, 4, 6, 8, 10]),\n",
       "...               index=['a', 'b', 'c', 'd', 'e'])\n",
       ">>> pd.cut(s, [0, 2, 4, 6, 8, 10], labels=False, retbins=True, right=False)\n",
       "... # doctest: +ELLIPSIS\n",
       "(a    0.0\n",
       " b    1.0\n",
       " c    2.0\n",
       " d    3.0\n",
       " e    4.0\n",
       " dtype: float64, array([0, 2, 4, 6, 8]))\n",
       "\n",
       "Use `drop` optional when bins is not unique\n",
       "\n",
       ">>> pd.cut(s, [0, 2, 4, 6, 10, 10], labels=False, retbins=True,\n",
       "...        right=False, duplicates='drop')\n",
       "... # doctest: +ELLIPSIS\n",
       "(a    0.0\n",
       " b    1.0\n",
       " c    2.0\n",
       " d    3.0\n",
       " e    3.0\n",
       " dtype: float64, array([0, 2, 4, 6, 8]))\n",
       "\n",
       "Passing an IntervalIndex for `bins` results in those categories exactly.\n",
       "Notice that values not covered by the IntervalIndex are set to NaN. 0\n",
       "is to the left of the first bin (which is closed on the right), and 1.5\n",
       "falls between two bins.\n",
       "\n",
       ">>> bins = pd.IntervalIndex.from_tuples([(0, 1), (2, 3), (4, 5)])\n",
       ">>> pd.cut([0, 0.5, 1.5, 2.5, 4.5], bins)\n",
       "[NaN, (0, 1], NaN, (2, 3], (4, 5]]\n",
       "Categories (3, interval[int64]): [(0, 1] < (2, 3] < (4, 5]]\n",
       "\u001b[1;31mFile:\u001b[0m      c:\\users\\jfoust\\appdata\\local\\continuum\\anaconda3\\lib\\site-packages\\pandas\\core\\reshape\\tile.py\n",
       "\u001b[1;31mType:\u001b[0m      function\n"
      ]
     },
     "metadata": {},
     "output_type": "display_data"
    }
   ],
   "source": [
    "pd.cut?"
   ]
  },
  {
   "cell_type": "markdown",
   "metadata": {},
   "source": [
    "### df.max()"
   ]
  },
  {
   "cell_type": "code",
   "execution_count": 40,
   "metadata": {},
   "outputs": [],
   "source": [
    "pd.DataFrame.max?"
   ]
  },
  {
   "cell_type": "markdown",
   "metadata": {},
   "source": [
    "### s.map()"
   ]
  },
  {
   "cell_type": "code",
   "execution_count": 42,
   "metadata": {},
   "outputs": [],
   "source": [
    "pd.Series.map?"
   ]
  },
  {
   "cell_type": "markdown",
   "metadata": {},
   "source": []
  },
  {
   "cell_type": "code",
   "execution_count": 44,
   "metadata": {},
   "outputs": [
    {
     "name": "stdout",
     "output_type": "stream",
     "text": [
      "Object `dp.apply` not found.\n"
     ]
    }
   ],
   "source": []
  },
  {
   "cell_type": "markdown",
   "metadata": {},
   "source": []
  },
  {
   "cell_type": "code",
   "execution_count": null,
   "metadata": {},
   "outputs": [],
   "source": []
  },
  {
   "cell_type": "markdown",
   "metadata": {},
   "source": []
  },
  {
   "cell_type": "code",
   "execution_count": null,
   "metadata": {},
   "outputs": [],
   "source": []
  },
  {
   "cell_type": "markdown",
   "metadata": {},
   "source": []
  },
  {
   "cell_type": "code",
   "execution_count": null,
   "metadata": {},
   "outputs": [],
   "source": []
  },
  {
   "cell_type": "markdown",
   "metadata": {},
   "source": []
  },
  {
   "cell_type": "code",
   "execution_count": null,
   "metadata": {},
   "outputs": [],
   "source": []
  },
  {
   "cell_type": "markdown",
   "metadata": {},
   "source": []
  },
  {
   "cell_type": "code",
   "execution_count": null,
   "metadata": {},
   "outputs": [],
   "source": []
  },
  {
   "cell_type": "markdown",
   "metadata": {},
   "source": []
  },
  {
   "cell_type": "code",
   "execution_count": null,
   "metadata": {},
   "outputs": [],
   "source": []
  },
  {
   "cell_type": "markdown",
   "metadata": {},
   "source": []
  },
  {
   "cell_type": "code",
   "execution_count": null,
   "metadata": {},
   "outputs": [],
   "source": []
  },
  {
   "cell_type": "markdown",
   "metadata": {},
   "source": []
  },
  {
   "cell_type": "code",
   "execution_count": null,
   "metadata": {},
   "outputs": [],
   "source": []
  },
  {
   "cell_type": "markdown",
   "metadata": {},
   "source": []
  },
  {
   "cell_type": "code",
   "execution_count": null,
   "metadata": {},
   "outputs": [],
   "source": []
  }
 ],
 "metadata": {
  "kernelspec": {
   "display_name": "Python 3",
   "language": "python",
   "name": "python3"
  },
  "language_info": {
   "codemirror_mode": {
    "name": "ipython",
    "version": 3
   },
   "file_extension": ".py",
   "mimetype": "text/x-python",
   "name": "python",
   "nbconvert_exporter": "python",
   "pygments_lexer": "ipython3",
   "version": "3.7.3"
  }
 },
 "nbformat": 4,
 "nbformat_minor": 4
}
