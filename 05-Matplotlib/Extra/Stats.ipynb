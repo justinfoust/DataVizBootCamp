{
 "cells": [
  {
   "cell_type": "markdown",
   "metadata": {},
   "source": [
    "# <font color=\"red\">Introduction to Statistics</font>\n",
    "\n",
    "* Descriptive Statistics: includes techniques that are used to summarize and describe numerical data\n",
    "* Inferential Statistics: includes techniques by which decisios about a statistical population or process are made based only on a sample having been observed.\n",
    "\n"
   ]
  },
  {
   "cell_type": "markdown",
   "metadata": {},
   "source": [
    "# <font color=\"green\">Descriptive Statistics</font>\n",
    "\n",
    "## <font color=\"green\">Measures of Location (Center)</font>\n",
    "\n",
    "The most common way to summarize a numerical data set is to describe where the center is. We can use **Mean and Median** are the most commonly used. \n",
    "\n",
    "### Mean\n",
    "\n",
    "The sum of all values divided by the number of values. The Mean is most useful for describing data that are close together.\n",
    "\n",
    "### $Mean = \\bar{x} = \\frac{1}{n}\\sum\\limits_{i}^{n}x_i$ or $ \\frac{\\sum x_i}{n}$\n",
    "\n",
    "where $n$ is total number of records.\n",
    "\n",
    "\n",
    "\n",
    "> Note: The mean is strongly affected by outliers and is not a robust estimator for central location\n",
    "\n",
    "\n",
    "\n",
    "### Median\n",
    "\n",
    "The value such that one-half of the data lies above and below.\n",
    "\n",
    "The *median* is the middle number on a sorted list of the data. If there is an even number of data values,the middle value is one that is not actually in the data set, but rather the average of the two values that divide the sorted data into upper and lower halves.\n",
    "\n",
    "\n",
    "\n",
    "### Outlier\n",
    "\n",
    "A data value that is very different from most of the data. \n",
    "\n",
    "> Note: The median is referred to as a *robust* estimate of location since it is not influenced by *outliers* (extreme cases) that could skew the results. An outlier is any value that is very distant from the other values in a data set\n",
    "\n",
    "### Mode\n",
    "\n",
    " Most frequently occuring values in a data set.\n",
    "\n",
    "\n",
    "\n",
    "### Percentile a.k.a Quantile\n",
    "\n",
    "The value such that *P* percent of the values take on this value or less and (100–P) percent take on this value or more. Think of it as a way to divide our data into well-defined regions.\n",
    "\n",
    "> Note: The Median is also known as the 50% percentile. \n",
    "\n",
    "\n",
    "\n",
    "![img](boxplot.png)\n",
    "\n",
    "\n",
    "\n",
    "![img](boxplot2.png)\n",
    "\n",
    "\n",
    "\n",
    "\n",
    "\n",
    "\n",
    "\n",
    "\n",
    "\n",
    "\n"
   ]
  },
  {
   "cell_type": "markdown",
   "metadata": {},
   "source": [
    "---\n",
    "\n",
    "### Examples"
   ]
  },
  {
   "cell_type": "code",
   "execution_count": 38,
   "metadata": {},
   "outputs": [],
   "source": [
    "import numpy as np\n",
    "import statistics as stats\n",
    "from scipy.stats import mode\n",
    "\n",
    "np.random.seed(32)\n",
    "incomes = np.random.normal(27000, 15000, 10000)"
   ]
  },
  {
   "cell_type": "code",
   "execution_count": 45,
   "metadata": {},
   "outputs": [
    {
     "data": {
      "image/png": "[encoded data removed]",
      "text/plain": [
       "<Figure size 864x432 with 1 Axes>"
      ]
     },
     "metadata": {
      "needs_background": "light"
     },
     "output_type": "display_data"
    }
   ],
   "source": [
    "%matplotlib inline\n",
    "import matplotlib.pyplot as plt\n",
    "plt.figure(figsize=(12,6))\n",
    "plt.style.use(\"ggplot\")\n",
    "plt.vlines(np.mean(incomes), 0, 600)\n",
    "plt.hist(incomes, 50)\n",
    "plt.show()"
   ]
  },
  {
   "cell_type": "code",
   "execution_count": 40,
   "metadata": {},
   "outputs": [
    {
     "data": {
      "text/plain": [
       "-26102.08145224476"
      ]
     },
     "execution_count": 40,
     "metadata": {},
     "output_type": "execute_result"
    }
   ],
   "source": [
    "incomes.min()"
   ]
  },
  {
   "cell_type": "code",
   "execution_count": 41,
   "metadata": {},
   "outputs": [
    {
     "data": {
      "text/plain": [
       "83785.52283296568"
      ]
     },
     "execution_count": 41,
     "metadata": {},
     "output_type": "execute_result"
    }
   ],
   "source": [
    "incomes.max()"
   ]
  },
  {
   "cell_type": "code",
   "execution_count": 12,
   "metadata": {},
   "outputs": [
    {
     "data": {
      "text/plain": [
       "27142.441051190937"
      ]
     },
     "execution_count": 12,
     "metadata": {},
     "output_type": "execute_result"
    }
   ],
   "source": [
    "np.mean(incomes)"
   ]
  },
  {
   "cell_type": "code",
   "execution_count": 13,
   "metadata": {},
   "outputs": [
    {
     "data": {
      "text/plain": [
       "27142.44105119094"
      ]
     },
     "execution_count": 13,
     "metadata": {},
     "output_type": "execute_result"
    }
   ],
   "source": [
    "stats.mean(incomes)"
   ]
  },
  {
   "cell_type": "code",
   "execution_count": 17,
   "metadata": {},
   "outputs": [
    {
     "data": {
      "text/plain": [
       "27142.441051190937"
      ]
     },
     "execution_count": 17,
     "metadata": {},
     "output_type": "execute_result"
    }
   ],
   "source": [
    "incomes.mean()"
   ]
  },
  {
   "cell_type": "code",
   "execution_count": 18,
   "metadata": {},
   "outputs": [
    {
     "data": {
      "text/plain": [
       "27209.099863071016"
      ]
     },
     "execution_count": 18,
     "metadata": {},
     "output_type": "execute_result"
    }
   ],
   "source": [
    "np.median(incomes)"
   ]
  },
  {
   "cell_type": "code",
   "execution_count": 19,
   "metadata": {},
   "outputs": [
    {
     "data": {
      "text/plain": [
       "27209.099863071016"
      ]
     },
     "execution_count": 19,
     "metadata": {},
     "output_type": "execute_result"
    }
   ],
   "source": [
    "stats.median(incomes)"
   ]
  },
  {
   "cell_type": "code",
   "execution_count": 20,
   "metadata": {},
   "outputs": [
    {
     "data": {
      "text/plain": [
       "array([21766.58323516, 41755.55150028, 35713.84246076, ...,\n",
       "       18186.1931759 , 33139.91153264, 31765.88296716])"
      ]
     },
     "execution_count": 20,
     "metadata": {},
     "output_type": "execute_result"
    }
   ],
   "source": [
    "incomes"
   ]
  },
  {
   "cell_type": "code",
   "execution_count": 29,
   "metadata": {},
   "outputs": [
    {
     "data": {
      "text/plain": [
       "array([61, 37, 59, 60, 57, 26, 18, 53, 50, 40, 77, 57, 59, 28, 81, 34, 80,\n",
       "       42, 80, 65, 51, 20, 27, 50, 81, 41, 62, 84, 50, 87, 58, 63, 57, 37,\n",
       "       68, 75, 48, 82, 81, 70, 43, 45, 25, 74, 76, 72, 61, 59, 21, 84, 79,\n",
       "       83, 85, 69, 65, 22, 39, 42, 42, 61, 44, 55, 82, 52, 63, 42, 55, 72,\n",
       "       66, 89, 24, 18, 38, 82, 77, 79, 51, 79, 29, 54, 67, 53, 66, 25, 53,\n",
       "       52, 32, 24, 58, 82, 55, 83, 77, 79, 52, 26, 31, 37, 69, 53, 35, 81,\n",
       "       34, 75, 89, 48, 20, 85, 22, 89, 72, 59, 27, 85, 19, 37, 79, 31, 76,\n",
       "       52, 66, 34, 62, 65, 26, 21, 71, 46, 77, 54, 51, 83, 36, 77, 77, 36,\n",
       "       67, 40, 20, 33, 76, 61, 56, 31, 25, 65, 57, 63, 50, 79, 80, 72, 29,\n",
       "       81, 81, 54, 18, 34, 31, 61, 52, 41, 65, 81, 83, 49, 42, 55, 35, 55,\n",
       "       74, 25, 51, 47, 55, 69, 38, 61, 57, 76, 35, 59, 58, 69, 52, 85, 74,\n",
       "       47, 89, 52, 20, 44, 40, 74, 30, 24, 53, 27, 89, 80, 50, 43, 78, 18,\n",
       "       38, 63, 54, 27, 65, 63, 45, 19, 87, 58, 32, 81, 44, 31, 57, 63, 84,\n",
       "       21, 81, 47, 46, 47, 20, 80, 26, 33, 41, 28, 78, 80, 45, 68, 24, 86,\n",
       "       36, 44, 55, 58, 58, 84, 41, 24, 81, 47, 49, 58, 39, 60, 65, 41, 80,\n",
       "       37, 30, 18, 33, 49, 43, 73, 64, 24, 50, 41, 26, 36, 78, 42, 54, 65,\n",
       "       33, 26, 78, 80, 24, 79, 40, 49, 48, 18, 27, 35, 47, 78, 27, 84, 46,\n",
       "       59, 22, 69, 53, 28, 51, 63, 71, 69, 19, 57, 65, 63, 28, 22, 40, 82,\n",
       "       28, 20, 20, 65, 45, 68, 45, 38, 47, 24, 68, 40, 45, 58, 22, 74, 19,\n",
       "       20, 30, 74, 42, 74, 42, 53, 45, 60, 33, 63, 23, 80, 33, 54, 52, 44,\n",
       "       79, 42, 52, 84, 23, 40, 45, 51, 76, 68, 79, 43, 28, 57, 42, 22, 53,\n",
       "       85, 57, 32, 81, 77, 25, 23, 65, 34, 38, 83, 34, 81, 71, 42, 42, 60,\n",
       "       54, 32, 88, 36, 84, 45, 81, 42, 69, 27, 89, 79, 79, 56, 39, 27, 41,\n",
       "       40, 67, 74, 33, 39, 79, 37, 28, 42, 30, 43, 21, 68, 27, 71, 87, 84,\n",
       "       35, 73, 20, 56, 48, 18, 86, 77, 52, 28, 82, 25, 34, 19, 66, 27, 74,\n",
       "       80, 58, 62, 29, 66, 46, 34, 38, 40, 71, 20, 28, 87, 58, 43, 45, 64,\n",
       "       31, 67, 39, 81, 24, 71, 72, 58, 35, 78, 52, 29, 46, 33, 85, 79, 48,\n",
       "       65, 79, 19, 57, 69, 73, 25, 45, 68, 82, 61, 39, 64, 45, 20, 83, 18,\n",
       "       61, 64, 47, 25, 69, 63, 29, 25, 32, 68, 62, 51, 45, 36, 88, 34, 37,\n",
       "       70, 67, 48, 80, 51, 50, 64])"
      ]
     },
     "execution_count": 29,
     "metadata": {},
     "output_type": "execute_result"
    }
   ],
   "source": [
    "ages = np.random.randint(18, high=90, size=500)\n",
    "ages"
   ]
  },
  {
   "cell_type": "code",
   "execution_count": 32,
   "metadata": {},
   "outputs": [],
   "source": [
    "# stats.mode(ages)"
   ]
  },
  {
   "cell_type": "code",
   "execution_count": 31,
   "metadata": {},
   "outputs": [
    {
     "data": {
      "text/plain": [
       "ModeResult(mode=array([42]), count=array([14]))"
      ]
     },
     "execution_count": 31,
     "metadata": {},
     "output_type": "execute_result"
    }
   ],
   "source": [
    "# from scipy import stats\n",
    "mode(ages)"
   ]
  },
  {
   "cell_type": "code",
   "execution_count": 33,
   "metadata": {},
   "outputs": [
    {
     "data": {
      "text/plain": [
       "46664.17682887945"
      ]
     },
     "execution_count": 33,
     "metadata": {},
     "output_type": "execute_result"
    }
   ],
   "source": [
    "np.percentile(incomes, 90)"
   ]
  },
  {
   "cell_type": "code",
   "execution_count": 34,
   "metadata": {},
   "outputs": [
    {
     "data": {
      "text/plain": [
       "27209.099863071016"
      ]
     },
     "execution_count": 34,
     "metadata": {},
     "output_type": "execute_result"
    }
   ],
   "source": [
    "np.percentile(incomes, 50)"
   ]
  },
  {
   "cell_type": "code",
   "execution_count": 35,
   "metadata": {},
   "outputs": [
    {
     "name": "stdout",
     "output_type": "stream",
     "text": [
      "16798.337250486948\n",
      "27209.099863071016\n",
      "37248.05739204506\n"
     ]
    }
   ],
   "source": [
    "print(np.percentile(incomes, 25))\n",
    "print(np.percentile(incomes, 50))\n",
    "print(np.percentile(incomes, 75))"
   ]
  },
  {
   "cell_type": "code",
   "execution_count": 42,
   "metadata": {},
   "outputs": [
    {
     "data": {
      "image/png": "[encoded data removed]",
      "text/plain": [
       "<Figure size 864x432 with 1 Axes>"
      ]
     },
     "metadata": {},
     "output_type": "display_data"
    }
   ],
   "source": [
    "plt.figure(figsize=(12,6))\n",
    "plt.boxplot(incomes)\n",
    "plt.show()"
   ]
  },
  {
   "cell_type": "code",
   "execution_count": 49,
   "metadata": {},
   "outputs": [
    {
     "data": {
      "image/png": "[encoded data removed]",
      "text/plain": [
       "<Figure size 864x432 with 1 Axes>"
      ]
     },
     "metadata": {},
     "output_type": "display_data"
    }
   ],
   "source": [
    "incomes = np.append(incomes, [100000000])\n",
    "plt.figure(figsize=(12,6))\n",
    "plt.style.use(\"ggplot\")\n",
    "plt.hist(incomes, 50)\n",
    "plt.show()"
   ]
  },
  {
   "cell_type": "code",
   "execution_count": 50,
   "metadata": {},
   "outputs": [
    {
     "name": "stdout",
     "output_type": "stream",
     "text": [
      "Mean :  67115.59481326565\n",
      "Median:  27213.134163620212\n"
     ]
    }
   ],
   "source": [
    "print(\"Mean : \",np.mean(incomes))\n",
    "print(\"Median: \", np.median(incomes))"
   ]
  },
  {
   "cell_type": "markdown",
   "metadata": {},
   "source": [
    "## <font color=\"green\">Measures of Variability (dispersion)</font>\n",
    "\n",
    "### Standard Deviation\n",
    "\n",
    "The most widely used estimates of variation are based on the differences, or *deviations*, between the estimate of location (i.e. Mean) and the observed data. It is calculated as the $\\sqrt{\\text{Variance}}$\n",
    "\n",
    "\n",
    "\n",
    ">  A low standard deviation indicates that the values tend to be close to the mean\n",
    "\n",
    "### $\\text{Standard Deviation} =  \\sigma = \\sqrt{\\frac{\\sum (x - \\bar{x})^2}{n-1}}$\n",
    "\n",
    "\n",
    "\n",
    "### Variance\n",
    "\n",
    "The sum of squared deviations from the mean divided by *n* – 1 where *n* is the number of data values.\n",
    "\n",
    "### $\\text{Var} = \\sigma^2 =  \\frac{\\sum (x - \\bar{x})^2}{n-1}$\n",
    "\n",
    "\n",
    "\n",
    "### Range\n",
    "\n",
    "The difference between the largest and the smallest value in a data set.\n",
    "\n",
    "\n",
    "### Z-Score\n",
    "\n",
    "Location of data compared to the mean in other words, how far away from the mean. The distance, or how far, is expressed by how many standard deviations away from the mean. \n",
    "\n",
    "\n",
    "\n",
    "### $z = \\frac{\\text{value - mean}}{\\text{standard deviation}}= \\frac{x-\\bar{x}}{\\sigma} $\n",
    "\n",
    "How to interprest Z-score, Examples:\n",
    "\n",
    "- A positive z-score means the data value is larger than the mean. If a data value has a z-score of `2`, that tells us that this data value is `2` standard deviations *larger* than the mean.\n",
    "- A negative z-score means the data value is smaller than the mean. If a data value has a z-score of `–3`, then this data value is `3` standard deviations *smaller* than the mean.\n",
    "- A z-score of zero means that the data value *equals* the mean.\n",
    "\n",
    "\n",
    "\n",
    "\n",
    "## <font color=\"green\">Estimates of Confidence</font>\n",
    "\n",
    "### Standard Error\n",
    "\n",
    "The variability (standard deviation) of a sample statistic over many samples (not to be confused with standard deviation, which, by itself, refers to variability of individual data values).\n",
    "\n",
    "The *standard error* is a single metric that sums up the variability in the sampling distribution for a statistic. The standard error can be estimated using a statistic based on the standard deviation $\\sigma$ of the sample values, and the sample size $n$\n",
    "\n",
    "### $SE = \\frac{\\sigma}{\\sqrt{n}}$\n",
    "\n",
    "\n",
    "\n",
    "### t-Test a.k.a Student’s T-Test\n",
    "\n",
    "The t test tells you how significant the differences between groups are; In other words it lets you know if those differences (measured in means/averages) could have happened by chance.\n",
    "\n",
    "> T-score is a ratio between the difference between two groups and the difference within the groups. It tells us how significant is the difference. The higher the more significant. \n",
    "\n",
    "\n",
    "\n",
    "### P-Value\n",
    "\n",
    "Measures the strength of the evidence that the result is not a likely chance occurance. \n",
    "\n",
    "\n",
    "\n",
    "\n"
   ]
  },
  {
   "cell_type": "markdown",
   "metadata": {},
   "source": [
    "---\n",
    "### Examples"
   ]
  },
  {
   "cell_type": "code",
   "execution_count": 53,
   "metadata": {},
   "outputs": [],
   "source": [
    "np.random.seed(32)\n",
    "incomes = np.random.normal(27000, 15000, 10000)"
   ]
  },
  {
   "cell_type": "code",
   "execution_count": 54,
   "metadata": {},
   "outputs": [
    {
     "data": {
      "image/png": "[encoded data removed]",
      "text/plain": [
       "<Figure size 864x432 with 1 Axes>"
      ]
     },
     "metadata": {},
     "output_type": "display_data"
    }
   ],
   "source": [
    "plt.figure(figsize=(12,6))\n",
    "plt.style.use(\"ggplot\")\n",
    "plt.hist(incomes, 50)\n",
    "plt.vlines(incomes.mean(),0, 600)\n",
    "plt.show()"
   ]
  },
  {
   "cell_type": "code",
   "execution_count": 55,
   "metadata": {},
   "outputs": [
    {
     "data": {
      "text/plain": [
       "27142.441051190937"
      ]
     },
     "execution_count": 55,
     "metadata": {},
     "output_type": "execute_result"
    }
   ],
   "source": [
    "incomes.mean()"
   ]
  },
  {
   "cell_type": "code",
   "execution_count": 56,
   "metadata": {},
   "outputs": [
    {
     "data": {
      "text/plain": [
       "27142.441051190937"
      ]
     },
     "execution_count": 56,
     "metadata": {},
     "output_type": "execute_result"
    }
   ],
   "source": [
    "np.mean(incomes)"
   ]
  },
  {
   "cell_type": "code",
   "execution_count": 57,
   "metadata": {},
   "outputs": [
    {
     "data": {
      "text/plain": [
       "27209.099863071016"
      ]
     },
     "execution_count": 57,
     "metadata": {},
     "output_type": "execute_result"
    }
   ],
   "source": [
    "np.median(incomes)"
   ]
  },
  {
   "cell_type": "code",
   "execution_count": 58,
   "metadata": {},
   "outputs": [
    {
     "data": {
      "text/plain": [
       "15057.954417507885"
      ]
     },
     "execution_count": 58,
     "metadata": {},
     "output_type": "execute_result"
    }
   ],
   "source": [
    "incomes.std()"
   ]
  },
  {
   "cell_type": "code",
   "execution_count": 61,
   "metadata": {},
   "outputs": [
    {
     "data": {
      "text/plain": [
       "15057.954417507885"
      ]
     },
     "execution_count": 61,
     "metadata": {},
     "output_type": "execute_result"
    }
   ],
   "source": [
    "np.std(incomes)"
   ]
  },
  {
   "cell_type": "code",
   "execution_count": 62,
   "metadata": {},
   "outputs": [
    {
     "data": {
      "text/plain": [
       "15058.707371700795"
      ]
     },
     "execution_count": 62,
     "metadata": {},
     "output_type": "execute_result"
    }
   ],
   "source": [
    "stats.stdev(incomes)"
   ]
  },
  {
   "cell_type": "code",
   "execution_count": 63,
   "metadata": {},
   "outputs": [
    {
     "data": {
      "text/plain": [
       "226741991.23974523"
      ]
     },
     "execution_count": 63,
     "metadata": {},
     "output_type": "execute_result"
    }
   ],
   "source": [
    "incomes.var()"
   ]
  },
  {
   "cell_type": "code",
   "execution_count": 50,
   "metadata": {},
   "outputs": [
    {
     "data": {
      "text/plain": [
       "226762496.82143104"
      ]
     },
     "execution_count": 50,
     "metadata": {},
     "output_type": "execute_result"
    }
   ],
   "source": [
    "# stats.variance(incomes)"
   ]
  },
  {
   "cell_type": "code",
   "execution_count": null,
   "metadata": {},
   "outputs": [],
   "source": []
  }
 ],
 "metadata": {
  "kernelspec": {
   "display_name": "base",
   "language": "python",
   "name": "base"
  },
  "language_info": {
   "codemirror_mode": {
    "name": "ipython",
    "version": 3
   },
   "file_extension": ".py",
   "mimetype": "text/x-python",
   "name": "python",
   "nbconvert_exporter": "python",
   "pygments_lexer": "ipython3",
   "version": "3.6.7"
  }
 },
 "nbformat": 4,
 "nbformat_minor": 4
}
