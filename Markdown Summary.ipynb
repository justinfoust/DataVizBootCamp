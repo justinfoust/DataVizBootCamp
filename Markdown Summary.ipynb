{
 "cells": [
  {
   "cell_type": "markdown",
   "metadata": {},
   "source": [
    "# Markdown Summary"
   ]
  },
  {
   "cell_type": "markdown",
   "metadata": {},
   "source": [
    "---\n",
    "### Headings\n",
    "\n",
    "`#` title  \n",
    "`##` major headings  \n",
    "`###` subheading  \n",
    "`####`  "
   ]
  },
  {
   "cell_type": "markdown",
   "metadata": {},
   "source": [
    "---\n",
    "### Emphasis:\n",
    "\n",
    "**Bold:** `__string__` or `**string**`  \n",
    "*Italic:* `_string_` or `*string*`  \n",
    "~~Strikethrough~~ `~~string~~`"
   ]
  },
  {
   "cell_type": "markdown",
   "metadata": {},
   "source": [
    "---\n",
    "### Mathematical Symbols:\n",
    "\n",
    "Inline: `$ expression $`  \n",
    "ex. `$e^{i/pi} + 1 = 0$`  \n",
    "\n",
    "$e^{i/pi} + 1 = 0$\n",
    "\n",
    "Own Line:  `$$ expression $$`  \n",
    "ex. `$$e^x=\\sum_{i=0}^\\infty \\frac{1}{i!}x^i$$`  \n",
    "\n",
    "$$e^x=\\sum_{i=0}^\\infty \\frac{1}{i!}x^i$$"
   ]
  },
  {
   "cell_type": "markdown",
   "metadata": {},
   "source": [
    "---\n",
    "### Monospace Font:\n",
    "\n",
    "Surround text with back single quotation mark. (\\`) Use monospace for file path and file names and for text that users enter or message text that users see."
   ]
  },
  {
   "cell_type": "markdown",
   "metadata": {},
   "source": [
    "---\n",
    "### Colors:\n",
    "\n",
    "`<font color=blue|red|green|pink|yellow>Text</font>`  \n",
    "This word is <font color=pink>pink</font>."
   ]
  },
  {
   "cell_type": "markdown",
   "metadata": {},
   "source": [
    "---\n",
    "### Indented Quoting:\n",
    "\n",
    "Use greater than sign (>) followed by space to indent text until carriage return.\n",
    "> Here is some text\n",
    "will this work?  \n",
    "Not this though\n",
    "\n"
   ]
  },
  {
   "cell_type": "markdown",
   "metadata": {},
   "source": [
    "---\n",
    "### Bullets:\n",
    "\n",
    "Use `-` or `*` to create a bulleted list.  Tab followed by `-` or `*` will create a sub bullet.  \n",
    "  \n",
    "- List item _1_\n",
    "    - List item _a_\n",
    "        - List item _i_"
   ]
  },
  {
   "cell_type": "markdown",
   "metadata": {},
   "source": [
    "---\n",
    "### Numbered Lists:\n",
    "\n",
    "Similar to bulleted lists except using a number followed by a period, instead of symbol.  \n",
    "  \n",
    "1. List item _1_\n",
    "    1. List item _a_\n",
    "        1. List item _i_"
   ]
  },
  {
   "cell_type": "markdown",
   "metadata": {},
   "source": [
    "---\n",
    "### Graphics:\n",
    "\n",
    "Images can be added by dragging the file to the cell or via the _Insert_ menu at the top of the window.  Additionally it can be added from the web using code:  \n",
    "`<img src=\"url.gif\" alt=\"Alt text that describes the graphic\" title=\"Title text\" />`\n",
    "\n",
    "<img src=\"https://www.google.com/images/branding/googlelogo/2x/googlelogo_color_92x30dp.png\"/>"
   ]
  },
  {
   "cell_type": "markdown",
   "metadata": {},
   "source": [
    "---\n",
    "### Geometric Shapes:\n",
    "\n",
    "Use decimal or hex reference numbers from here: [UTF-8 Geometric Shapes](http://www.w3schools.com/charsets/ref_utf_geometric.asp)\n",
    "\n",
    "`&#9641;` = &#9641;"
   ]
  },
  {
   "cell_type": "markdown",
   "metadata": {},
   "source": [
    "---\n",
    "### Horizontal Lines:\n",
    "\n",
    "`***` or `---` or `___` will draw a light grey horizontal line.\n",
    "\n",
    "***"
   ]
  },
  {
   "cell_type": "markdown",
   "metadata": {},
   "source": [
    "---\n",
    "### Tables:\n",
    "\n",
    "Use `|` to separate cells in a table\n",
    "\n",
    "`\n",
    "Here | is | a | table\n",
    "--- | :---: | :---: | ---:\n",
    "it | does | not | have\n",
    "to | be | aligned | .\n",
    "Just | need | to | have\n",
    "--- | to | separate | heads\n",
    "`\n",
    "\n",
    "Here | is | a | table\n",
    "--- | :---: | :---: | ---:\n",
    "it | does | not | have\n",
    "to | be | aligned | .\n",
    "Just | need | to | have\n",
    "`---` | to | separate | heads"
   ]
  },
  {
   "cell_type": "markdown",
   "metadata": {},
   "source": [
    "---\n",
    "### Syntax Highlighting:\n",
    "\n",
    "Text can be highlighted appropriatly by indicating the language name after three back ticks (\\`\\`\\`)\n",
    "\n",
    "```python\n",
    "s = \"Python syntax highlighting\"\n",
    "print s\n",
    "```"
   ]
  },
  {
   "cell_type": "markdown",
   "metadata": {},
   "source": [
    "---\n",
    "### Links:\n",
    "\n",
    "Use brackets to indicate a link:\n",
    "`[link text](URL)\n",
    "[link text](URL \"URL tool tip\")\n",
    "[link text][link to URL] ... elsewhere ... [link to URL]: URL\n",
    "[link text][1] ... elsewhere ... [1]: URL\n",
    "link text[link to URL] ... elsewhere ... [link to URL]: URL`\n",
    "\n",
    "[Here is a link that is referenced elsewhere][1]\n",
    "\n",
    "[1]: https://www.google.com"
   ]
  }
 ],
 "metadata": {
  "kernelspec": {
   "display_name": "Python 3",
   "language": "python",
   "name": "python3"
  },
  "language_info": {
   "codemirror_mode": {
    "name": "ipython",
    "version": 3
   },
   "file_extension": ".py",
   "mimetype": "text/x-python",
   "name": "python",
   "nbconvert_exporter": "python",
   "pygments_lexer": "ipython3",
   "version": "3.6.9"
  }
 },
 "nbformat": 4,
 "nbformat_minor": 2
}
