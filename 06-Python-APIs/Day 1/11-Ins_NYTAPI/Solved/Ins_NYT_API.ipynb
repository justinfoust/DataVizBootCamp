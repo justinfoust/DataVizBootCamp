{
 "cells": [
  {
   "cell_type": "code",
   "execution_count": 1,
   "metadata": {},
   "outputs": [],
   "source": [
    "# Dependencies\n",
    "import requests\n",
    "from pprint import pprint\n",
    "from config import api_key\n",
    "\n",
    "url = \"https://api.nytimes.com/svc/search/v2/articlesearch.json?\""
   ]
  },
  {
   "cell_type": "code",
   "execution_count": 2,
   "metadata": {},
   "outputs": [
    {
     "data": {
      "text/plain": [
       "'dcdk0wq27nNcffYA6JssSQjWI2gxjNrA'"
      ]
     },
     "execution_count": 2,
     "metadata": {},
     "output_type": "execute_result"
    }
   ],
   "source": [
    "api_key"
   ]
  },
  {
   "cell_type": "code",
   "execution_count": 3,
   "metadata": {},
   "outputs": [],
   "source": [
    "# Search for articles that mention granola\n",
    "query = \"granola\""
   ]
  },
  {
   "cell_type": "code",
   "execution_count": 6,
   "metadata": {},
   "outputs": [
    {
     "data": {
      "text/plain": [
       "'https://api.nytimes.com/svc/search/v2/articlesearch.json?api-key=dcdk0wq27nNcffYA6JssSQjWI2gxjNrA&q=granola'"
      ]
     },
     "execution_count": 6,
     "metadata": {},
     "output_type": "execute_result"
    }
   ],
   "source": [
    "# Build query URL\n",
    "query_url = url + \"api-key=\" + api_key + \"&q=\" + query\n",
    "query_url"
   ]
  },
  {
   "cell_type": "code",
   "execution_count": 8,
   "metadata": {},
   "outputs": [
    {
     "name": "stdout",
     "output_type": "stream",
     "text": [
      "10\n"
     ]
    }
   ],
   "source": [
    "# Request articles\n",
    "articles = requests.get(query_url).json()\n",
    "\n",
    "# The \"response\" property in articles contains the actual articles\n",
    "# list comprehension.\n",
    "articles_list = [article for article in articles[\"response\"][\"docs\"]]\n",
    "#pprint(articles_list)\n",
    "print(len(articles_list))"
   ]
  },
  {
   "cell_type": "code",
   "execution_count": 15,
   "metadata": {},
   "outputs": [
    {
     "name": "stdout",
     "output_type": "stream",
     "text": [
      "dict_keys(['web_url', 'snippet', 'lead_paragraph', 'abstract', 'print_page', 'source', 'multimedia', 'headline', 'keywords', 'pub_date', 'document_type', 'news_desk', 'section_name', 'subsection_name', 'byline', 'type_of_material', '_id', 'word_count', 'uri'])\n"
     ]
    },
    {
     "data": {
      "text/plain": [
       "False"
      ]
     },
     "execution_count": 15,
     "metadata": {},
     "output_type": "execute_result"
    }
   ],
   "source": [
    "print(requests.get(query_url).json()[\"response\"][\"docs\"][1].keys() )\n",
    "requests.get(query_url).json()[\"response\"][\"docs\"][1].keys() == requests.get(query_url).json()[\"response\"][\"docs\"][2].keys() "
   ]
  },
  {
   "cell_type": "code",
   "execution_count": 7,
   "metadata": {},
   "outputs": [
    {
     "name": "stdout",
     "output_type": "stream",
     "text": [
      "Your Reading List\n",
      "https://cooking.nytimes.com/recipes/1019514-granola-bites\n",
      "https://www.nytimes.com/2018/02/14/books/review/hippie-food-jonathan-kauffman.html\n",
      "https://www.nytimes.com/2019/08/21/dining/cook-for-others.html\n",
      "https://www.nytimes.com/2019/08/27/learning/looking-for-graphs-to-use-in-the-classroom-here-are-34.html\n",
      "https://www.nytimes.com/2019/08/17/fashion/weddings/a-spark-from-the-moment-they-met.html\n",
      "https://www.nytimes.com/2019/09/04/dining/back-to-school-recipes.html\n",
      "https://www.nytimes.com/2019/01/07/dining/silan-syrup.html\n",
      "https://cooking.nytimes.com/recipes/1020173-creamy-cauliflower-pasta-with-pecorino-bread-crumbs\n",
      "https://www.nytimes.com/2019/09/15/dining/how-to-cook-every-day-this-week.html\n",
      "https://www.nytimes.com/2016/08/30/well/eat/why-your-granola-is-really-a-dessert.html\n"
     ]
    }
   ],
   "source": [
    "# Print the web_url of each stored article\n",
    "print(\"Your Reading List\")\n",
    "for article in articles_list:\n",
    "    print(article[\"web_url\"])"
   ]
  },
  {
   "cell_type": "code",
   "execution_count": null,
   "metadata": {},
   "outputs": [],
   "source": []
  }
 ],
 "metadata": {
  "kernelspec": {
   "display_name": "Python 3",
   "language": "python",
   "name": "python3"
  },
  "language_info": {
   "codemirror_mode": {
    "name": "ipython",
    "version": 3
   },
   "file_extension": ".py",
   "mimetype": "text/x-python",
   "name": "python",
   "nbconvert_exporter": "python",
   "pygments_lexer": "ipython3",
   "version": "3.7.3"
  },
  "varInspector": {
   "cols": {
    "lenName": 16,
    "lenType": 16,
    "lenVar": 40
   },
   "kernels_config": {
    "python": {
     "delete_cmd_postfix": "",
     "delete_cmd_prefix": "del ",
     "library": "var_list.py",
     "varRefreshCmd": "print(var_dic_list())"
    },
    "r": {
     "delete_cmd_postfix": ") ",
     "delete_cmd_prefix": "rm(",
     "library": "var_list.r",
     "varRefreshCmd": "cat(var_dic_list()) "
    }
   },
   "types_to_exclude": [
    "module",
    "function",
    "builtin_function_or_method",
    "instance",
    "_Feature"
   ],
   "window_display": false
  }
 },
 "nbformat": 4,
 "nbformat_minor": 4
}
