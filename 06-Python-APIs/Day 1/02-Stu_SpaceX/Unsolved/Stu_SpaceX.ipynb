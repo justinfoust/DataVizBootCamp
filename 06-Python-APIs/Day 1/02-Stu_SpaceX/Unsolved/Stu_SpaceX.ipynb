{
 "cells": [
  {
   "cell_type": "code",
   "execution_count": 21,
   "metadata": {},
   "outputs": [],
   "source": [
    "# Dependencies\n",
    "import requests\n",
    "import json\n",
    "import pandas as pd"
   ]
  },
  {
   "cell_type": "code",
   "execution_count": 14,
   "metadata": {},
   "outputs": [],
   "source": [
    "# URL for GET requests to retrieve vehicle data\n",
    "url = \"https://api.spacexdata.com/v3/launchpads\""
   ]
  },
  {
   "cell_type": "code",
   "execution_count": null,
   "metadata": {},
   "outputs": [],
   "source": [
    "# Pretty print JSON for all launchpads\n",
    "response = requests.get(url).json()\n",
    "print(json.dumps(response, indent=4, sort_keys=True))"
   ]
  },
  {
   "cell_type": "code",
   "execution_count": 27,
   "metadata": {},
   "outputs": [
    {
     "ename": "AttributeError",
     "evalue": "'list' object has no attribute 'OK'",
     "output_type": "error",
     "traceback": [
      "\u001b[1;31m---------------------------------------------------------------------------\u001b[0m",
      "\u001b[1;31mAttributeError\u001b[0m                            Traceback (most recent call last)",
      "\u001b[1;32m<ipython-input-27-10a03d40299d>\u001b[0m in \u001b[0;36m<module>\u001b[1;34m\u001b[0m\n\u001b[1;32m----> 1\u001b[1;33m \u001b[0mresponse\u001b[0m\u001b[1;33m.\u001b[0m\u001b[0mOK\u001b[0m\u001b[1;33m\u001b[0m\u001b[1;33m\u001b[0m\u001b[0m\n\u001b[0m",
      "\u001b[1;31mAttributeError\u001b[0m: 'list' object has no attribute 'OK'"
     ]
    }
   ],
   "source": [
    "requests.Response()"
   ]
  },
  {
   "cell_type": "code",
   "execution_count": 20,
   "metadata": {},
   "outputs": [
    {
     "name": "stdout",
     "output_type": "stream",
     "text": [
      "{\n",
      "    \"attempted_launches\": 0,\n",
      "    \"details\": \"SpaceX original west coast launch pad for Falcon 1. Performed a static fire but was never used for a launch and abandoned due to scheduling conflicts.\",\n",
      "    \"id\": 5,\n",
      "    \"location\": {\n",
      "        \"latitude\": 34.6440904,\n",
      "        \"longitude\": -120.5931438,\n",
      "        \"name\": \"Vandenberg Air Force Base\",\n",
      "        \"region\": \"California\"\n",
      "    },\n",
      "    \"name\": \"VAFB SLC 3W\",\n",
      "    \"site_id\": \"vafb_slc_3w\",\n",
      "    \"site_name_long\": \"Vandenberg Air Force Base Space Launch Complex 3W\",\n",
      "    \"status\": \"retired\",\n",
      "    \"successful_launches\": 0,\n",
      "    \"vehicles_launched\": [\n",
      "        \"Falcon 1\"\n",
      "    ],\n",
      "    \"wikipedia\": \"https://en.wikipedia.org/wiki/Vandenberg_AFB_Space_Launch_Complex_3\"\n",
      "}\n"
     ]
    }
   ],
   "source": [
    "# Pretty print JSON for a specific launchpad\n",
    "one_response = requests.get(url + '/vafb_slc_3w').json()\n",
    "#print(one_response)\n",
    "print(json.dumps(one_response, indent=4, sort_keys=True))"
   ]
  },
  {
   "cell_type": "code",
   "execution_count": 25,
   "metadata": {},
   "outputs": [
    {
     "data": {
      "text/html": [
       "<div>\n",
       "<style scoped>\n",
       "    .dataframe tbody tr th:only-of-type {\n",
       "        vertical-align: middle;\n",
       "    }\n",
       "\n",
       "    .dataframe tbody tr th {\n",
       "        vertical-align: top;\n",
       "    }\n",
       "\n",
       "    .dataframe thead th {\n",
       "        text-align: right;\n",
       "    }\n",
       "</style>\n",
       "<table border=\"1\" class=\"dataframe\">\n",
       "  <thead>\n",
       "    <tr style=\"text-align: right;\">\n",
       "      <th></th>\n",
       "      <th>id</th>\n",
       "      <th>name</th>\n",
       "      <th>status</th>\n",
       "      <th>location</th>\n",
       "      <th>vehicles_launched</th>\n",
       "      <th>attempted_launches</th>\n",
       "      <th>successful_launches</th>\n",
       "      <th>wikipedia</th>\n",
       "      <th>details</th>\n",
       "      <th>site_id</th>\n",
       "      <th>site_name_long</th>\n",
       "    </tr>\n",
       "  </thead>\n",
       "  <tbody>\n",
       "    <tr>\n",
       "      <td>0</td>\n",
       "      <td>5</td>\n",
       "      <td>VAFB SLC 3W</td>\n",
       "      <td>retired</td>\n",
       "      <td>{'name': 'Vandenberg Air Force Base', 'region'...</td>\n",
       "      <td>[Falcon 1]</td>\n",
       "      <td>0</td>\n",
       "      <td>0</td>\n",
       "      <td>https://en.wikipedia.org/wiki/Vandenberg_AFB_S...</td>\n",
       "      <td>SpaceX original west coast launch pad for Falc...</td>\n",
       "      <td>vafb_slc_3w</td>\n",
       "      <td>Vandenberg Air Force Base Space Launch Complex 3W</td>\n",
       "    </tr>\n",
       "    <tr>\n",
       "      <td>1</td>\n",
       "      <td>2</td>\n",
       "      <td>CCAFS SLC 40</td>\n",
       "      <td>active</td>\n",
       "      <td>{'name': 'Cape Canaveral', 'region': 'Florida'...</td>\n",
       "      <td>[Falcon 9]</td>\n",
       "      <td>45</td>\n",
       "      <td>43</td>\n",
       "      <td>https://en.wikipedia.org/wiki/Cape_Canaveral_A...</td>\n",
       "      <td>SpaceX primary Falcon 9 launch pad, where all ...</td>\n",
       "      <td>ccafs_slc_40</td>\n",
       "      <td>Cape Canaveral Air Force Station Space Launch ...</td>\n",
       "    </tr>\n",
       "    <tr>\n",
       "      <td>2</td>\n",
       "      <td>8</td>\n",
       "      <td>STLS</td>\n",
       "      <td>under construction</td>\n",
       "      <td>{'name': 'Boca Chica Village', 'region': 'Texa...</td>\n",
       "      <td>[Falcon 9]</td>\n",
       "      <td>0</td>\n",
       "      <td>0</td>\n",
       "      <td>https://en.wikipedia.org/wiki/SpaceX_South_Tex...</td>\n",
       "      <td>SpaceX new launch site currently under constru...</td>\n",
       "      <td>stls</td>\n",
       "      <td>SpaceX South Texas Launch Site</td>\n",
       "    </tr>\n",
       "    <tr>\n",
       "      <td>3</td>\n",
       "      <td>1</td>\n",
       "      <td>Kwajalein Atoll</td>\n",
       "      <td>retired</td>\n",
       "      <td>{'name': 'Omelek Island', 'region': 'Marshall ...</td>\n",
       "      <td>[Falcon 1]</td>\n",
       "      <td>5</td>\n",
       "      <td>2</td>\n",
       "      <td>https://en.wikipedia.org/wiki/Omelek_Island</td>\n",
       "      <td>SpaceX original launch site, where all of the ...</td>\n",
       "      <td>kwajalein_atoll</td>\n",
       "      <td>Kwajalein Atoll Omelek Island</td>\n",
       "    </tr>\n",
       "    <tr>\n",
       "      <td>4</td>\n",
       "      <td>6</td>\n",
       "      <td>VAFB SLC 4E</td>\n",
       "      <td>active</td>\n",
       "      <td>{'name': 'Vandenberg Air Force Base', 'region'...</td>\n",
       "      <td>[Falcon 9]</td>\n",
       "      <td>15</td>\n",
       "      <td>15</td>\n",
       "      <td>https://en.wikipedia.org/wiki/Vandenberg_AFB_S...</td>\n",
       "      <td>SpaceX primary west coast launch pad for polar...</td>\n",
       "      <td>vafb_slc_4e</td>\n",
       "      <td>Vandenberg Air Force Base Space Launch Complex 4E</td>\n",
       "    </tr>\n",
       "    <tr>\n",
       "      <td>5</td>\n",
       "      <td>4</td>\n",
       "      <td>KSC LC 39A</td>\n",
       "      <td>active</td>\n",
       "      <td>{'name': 'Cape Canaveral', 'region': 'Florida'...</td>\n",
       "      <td>[Falcon 9, Falcon Heavy]</td>\n",
       "      <td>18</td>\n",
       "      <td>18</td>\n",
       "      <td>https://en.wikipedia.org/wiki/Kennedy_Space_Ce...</td>\n",
       "      <td>NASA historic launch pad that launched most of...</td>\n",
       "      <td>ksc_lc_39a</td>\n",
       "      <td>Kennedy Space Center Historic Launch Complex 39A</td>\n",
       "    </tr>\n",
       "  </tbody>\n",
       "</table>\n",
       "</div>"
      ],
      "text/plain": [
       "   id             name              status  \\\n",
       "0   5      VAFB SLC 3W             retired   \n",
       "1   2     CCAFS SLC 40              active   \n",
       "2   8             STLS  under construction   \n",
       "3   1  Kwajalein Atoll             retired   \n",
       "4   6      VAFB SLC 4E              active   \n",
       "5   4       KSC LC 39A              active   \n",
       "\n",
       "                                            location  \\\n",
       "0  {'name': 'Vandenberg Air Force Base', 'region'...   \n",
       "1  {'name': 'Cape Canaveral', 'region': 'Florida'...   \n",
       "2  {'name': 'Boca Chica Village', 'region': 'Texa...   \n",
       "3  {'name': 'Omelek Island', 'region': 'Marshall ...   \n",
       "4  {'name': 'Vandenberg Air Force Base', 'region'...   \n",
       "5  {'name': 'Cape Canaveral', 'region': 'Florida'...   \n",
       "\n",
       "          vehicles_launched  attempted_launches  successful_launches  \\\n",
       "0                [Falcon 1]                   0                    0   \n",
       "1                [Falcon 9]                  45                   43   \n",
       "2                [Falcon 9]                   0                    0   \n",
       "3                [Falcon 1]                   5                    2   \n",
       "4                [Falcon 9]                  15                   15   \n",
       "5  [Falcon 9, Falcon Heavy]                  18                   18   \n",
       "\n",
       "                                           wikipedia  \\\n",
       "0  https://en.wikipedia.org/wiki/Vandenberg_AFB_S...   \n",
       "1  https://en.wikipedia.org/wiki/Cape_Canaveral_A...   \n",
       "2  https://en.wikipedia.org/wiki/SpaceX_South_Tex...   \n",
       "3        https://en.wikipedia.org/wiki/Omelek_Island   \n",
       "4  https://en.wikipedia.org/wiki/Vandenberg_AFB_S...   \n",
       "5  https://en.wikipedia.org/wiki/Kennedy_Space_Ce...   \n",
       "\n",
       "                                             details          site_id  \\\n",
       "0  SpaceX original west coast launch pad for Falc...      vafb_slc_3w   \n",
       "1  SpaceX primary Falcon 9 launch pad, where all ...     ccafs_slc_40   \n",
       "2  SpaceX new launch site currently under constru...             stls   \n",
       "3  SpaceX original launch site, where all of the ...  kwajalein_atoll   \n",
       "4  SpaceX primary west coast launch pad for polar...      vafb_slc_4e   \n",
       "5  NASA historic launch pad that launched most of...       ksc_lc_39a   \n",
       "\n",
       "                                      site_name_long  \n",
       "0  Vandenberg Air Force Base Space Launch Complex 3W  \n",
       "1  Cape Canaveral Air Force Station Space Launch ...  \n",
       "2                     SpaceX South Texas Launch Site  \n",
       "3                      Kwajalein Atoll Omelek Island  \n",
       "4  Vandenberg Air Force Base Space Launch Complex 4E  \n",
       "5   Kennedy Space Center Historic Launch Complex 39A  "
      ]
     },
     "execution_count": 25,
     "metadata": {},
     "output_type": "execute_result"
    }
   ],
   "source": [
    "foo = pd.DataFrame(response)\n",
    "foo"
   ]
  }
 ],
 "metadata": {
  "kernelspec": {
   "display_name": "Python 3",
   "language": "python",
   "name": "python3"
  },
  "language_info": {
   "codemirror_mode": {
    "name": "ipython",
    "version": 3
   },
   "file_extension": ".py",
   "mimetype": "text/x-python",
   "name": "python",
   "nbconvert_exporter": "python",
   "pygments_lexer": "ipython3",
   "version": "3.7.3"
  },
  "varInspector": {
   "cols": {
    "lenName": 16,
    "lenType": 16,
    "lenVar": 40
   },
   "kernels_config": {
    "python": {
     "delete_cmd_postfix": "",
     "delete_cmd_prefix": "del ",
     "library": "var_list.py",
     "varRefreshCmd": "print(var_dic_list())"
    },
    "r": {
     "delete_cmd_postfix": ") ",
     "delete_cmd_prefix": "rm(",
     "library": "var_list.r",
     "varRefreshCmd": "cat(var_dic_list()) "
    }
   },
   "types_to_exclude": [
    "module",
    "function",
    "builtin_function_or_method",
    "instance",
    "_Feature"
   ],
   "window_display": false
  }
 },
 "nbformat": 4,
 "nbformat_minor": 4
}
