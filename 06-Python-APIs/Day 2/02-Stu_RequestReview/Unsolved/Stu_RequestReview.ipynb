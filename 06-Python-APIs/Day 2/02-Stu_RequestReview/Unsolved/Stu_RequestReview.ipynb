{
 "cells": [
  {
   "cell_type": "code",
   "execution_count": 41,
   "metadata": {},
   "outputs": [],
   "source": [
    "# Dependencies\n",
    "import json\n",
    "import requests \n",
    "from pprint import pprint"
   ]
  },
  {
   "cell_type": "code",
   "execution_count": 42,
   "metadata": {},
   "outputs": [
    {
     "data": {
      "text/plain": [
       "<Response [200]>"
      ]
     },
     "execution_count": 42,
     "metadata": {},
     "output_type": "execute_result"
    }
   ],
   "source": [
    "# Specify the URL\n",
    "url = \"http://nyt-mongo-scraper.herokuapp.com/api/headlines\"\n",
    "# Make request and store response\n",
    "response = requests.get(url)\n",
    "response"
   ]
  },
  {
   "cell_type": "code",
   "execution_count": 43,
   "metadata": {},
   "outputs": [
    {
     "name": "stdout",
     "output_type": "stream",
     "text": [
      "200\n"
     ]
    }
   ],
   "source": [
    "print(response.status_code)"
   ]
  },
  {
   "cell_type": "code",
   "execution_count": 44,
   "metadata": {},
   "outputs": [
    {
     "name": "stdout",
     "output_type": "stream",
     "text": [
      "[{'__v': 0,\n",
      "  '_id': '5da1e3dbe913880015168d44',\n",
      "  'date': '2019-10-12T14:31:55.633Z',\n",
      "  'headline': 'Reconsidering the Advice in 3 Popular Personal Finance Books',\n",
      "  'saved': True,\n",
      "  'summary': 'Books by Suze Orman, Dave Ramsey and Robert Kiyosaki don’t tell '\n",
      "             'us much about investing, our reviewer says, but their counsel '\n",
      "             'still has value.',\n",
      "  'url': 'https://www.nytimes.com/2019/10/11/business/suze-orman-robert-kiyosaki-dave-ramsey-books.html'},\n",
      " {'__v': 0,\n",
      "  '_id': '5da1e3dbe913880015168d41',\n",
      "  'date': '2019-10-12T14:31:55.633Z',\n",
      "  'headline': '11 of Our Best Weekend ReadsDid you stay up-to-date this week? '\n",
      "              'Take our news quiz to find out.',\n",
      "  'saved': False,\n",
      "  'summary': 'A detailed auto emissions map. Reviews of the new MoMA and Ronan '\n",
      "             'Farrow’s book. Will Smith and Ang Lee. The headless horseman '\n",
      "             'industrial complex. And more.',\n",
      "  'url': 'https://www.nytimes.com/2019/10/11/arts/11-of-our-best-weekend-reads.html'},\n",
      " {'__v': 0,\n",
      "  '_id': '5da1e3dbe913880015168d42',\n",
      "  'date': '2019-10-12T14:31:55.633Z',\n",
      "  'headline': 'All the President’s Henchmen',\n",
      "  'saved': False,\n",
      "  'summary': 'Mr. Trump has assembled a colorful cast of characters who are '\n",
      "             'having trouble keeping their stories straight.',\n",
      "  'url': 'https://www.nytimes.com/2019/10/11/opinion/trump-giuliani-ukraine.html'},\n",
      " {'__v': 0,\n",
      "  '_id': '5da1e3dbe913880015168d43',\n",
      "  'date': '2019-10-12T14:31:55.633Z',\n",
      "  'headline': 'Can the Rebirth of a Negro League Stadium Revive a Distressed '\n",
      "              'City?',\n",
      "  'saved': False,\n",
      "  'summary': 'Paterson, N.J., plans to restore Hinchliffe Stadium and turn it '\n",
      "             'into a museum and a multisport facility.',\n",
      "  'url': 'https://www.nytimes.com/2019/10/11/sports/baseball/negro-leagues-stadium-paterson-nj.html'},\n",
      " {'__v': 0,\n",
      "  '_id': '5da1e3dbe913880015168d40',\n",
      "  'date': '2019-10-12T14:31:55.632Z',\n",
      "  'headline': 'Tinker, Tailor, Writer, Spy',\n",
      "  'saved': False,\n",
      "  'summary': 'John le Carré takes aim at Brexit and Boris Johnson in his new '\n",
      "             'novel, “Agent Running in the Field.”',\n",
      "  'url': 'https://www.nytimes.com/2019/10/12/books/john-le-carre-agent-running-in-the-field.html'},\n",
      " {'__v': 0,\n",
      "  '_id': '5da1e3dbe913880015168d3d',\n",
      "  'date': '2019-10-12T14:31:55.632Z',\n",
      "  'headline': 'Turkish-Led Troops Invade Strategic Syrian Town',\n",
      "  'saved': False,\n",
      "  'summary': 'It was the first significant breakthrough in the invasion of the '\n",
      "             'Kurdish-held region, an incursion that entered its fourth day on '\n",
      "             'Saturday.',\n",
      "  'url': 'https://www.nytimes.com/2019/10/12/world/middleeast/turkey-invasion-syria-kurds.html'},\n",
      " {'__v': 0,\n",
      "  '_id': '5da1e3dbe913880015168d3f',\n",
      "  'date': '2019-10-12T14:31:55.632Z',\n",
      "  'headline': 'What, Exactly, Is Tulsi Gabbard Up To?Here’s what happened on '\n",
      "              'the presidential campaign trail this week.',\n",
      "  'saved': False,\n",
      "  'summary': 'She has accused her own party of “rigging” the election, and an '\n",
      "             'array of alt-right internet stars, white nationalists and '\n",
      "             'Russians have praised her.',\n",
      "  'url': 'https://www.nytimes.com/2019/10/12/us/politics/tulsi-gabbard.html'},\n",
      " {'__v': 0,\n",
      "  '_id': '5da1e3dbe913880015168d3e',\n",
      "  'date': '2019-10-12T14:31:55.632Z',\n",
      "  'headline': 'Who’s Got the Biggest 2020 Ground Game in the Early States',\n",
      "  'saved': False,\n",
      "  'summary': 'Elizabeth Warren and Pete Buttigieg are dominant, with more '\n",
      "             'campaign offices in the first four states than any other 2020 '\n",
      "             'Democrat.',\n",
      "  'url': 'https://www.nytimes.com/interactive/2019/10/12/us/politics/democratic-candidates-campaigns.html'},\n",
      " {'__v': 0,\n",
      "  '_id': '5da1e3dbe913880015168d3a',\n",
      "  'date': '2019-10-12T14:31:55.631Z',\n",
      "  'headline': 'James Comey Would Like to Help',\n",
      "  'saved': False,\n",
      "  'summary': 'The former F.B.I. director wants an end to the Trump presidency. '\n",
      "             'And yes, he knows you might think he caused it.',\n",
      "  'url': 'https://www.nytimes.com/2019/10/12/us/politics/james-comey-trump.html'},\n",
      " {'__v': 0,\n",
      "  '_id': '5da1e3dbe913880015168d3b',\n",
      "  'date': '2019-10-12T14:31:55.631Z',\n",
      "  'headline': 'A Spice Company Spent $92,000 on Pro-Impeachment Ads in a '\n",
      "              'WeekWhat happened in the Trump impeachment inquiry this week? '\n",
      "              'Here’s a quick rundown.',\n",
      "  'saved': False,\n",
      "  'summary': 'Penzeys Spices, a Wisconsin-based purveyor, spent more on '\n",
      "             'impeachment-related Facebook ads than any entity besides '\n",
      "             'President Trump.',\n",
      "  'url': 'https://www.nytimes.com/2019/10/11/business/penzeys-spices-impeach-ads.html'}]\n"
     ]
    }
   ],
   "source": [
    "# JSON-ify response\n",
    "response = response.json()\n",
    "pprint(response)"
   ]
  },
  {
   "cell_type": "code",
   "execution_count": 49,
   "metadata": {
    "scrolled": true
   },
   "outputs": [
    {
     "name": "stdout",
     "output_type": "stream",
     "text": [
      "{\n",
      "  \"saved\": true,\n",
      "  \"_id\": \"5da1e3dbe913880015168d44\",\n",
      "  \"headline\": \"Reconsidering the Advice in 3 Popular Personal Finance Books\",\n",
      "  \"summary\": \"Books by Suze Orman, Dave Ramsey and Robert Kiyosaki don\\u2019t tell us much about investing, our reviewer says, but their counsel still has value.\",\n",
      "  \"url\": \"https://www.nytimes.com/2019/10/11/business/suze-orman-robert-kiyosaki-dave-ramsey-books.html\",\n",
      "  \"date\": \"2019-10-12T14:31:55.633Z\",\n",
      "  \"__v\": 0\n",
      "} \n",
      "====================================\n",
      "{\n",
      "  \"saved\": false,\n",
      "  \"_id\": \"5da1e3dbe913880015168d3b\",\n",
      "  \"headline\": \"A Spice Company Spent $92,000 on Pro-Impeachment Ads in a WeekWhat happened in the Trump impeachment inquiry this week? Here\\u2019s a quick rundown.\",\n",
      "  \"summary\": \"Penzeys Spices, a Wisconsin-based purveyor, spent more on impeachment-related Facebook ads than any entity besides President Trump.\",\n",
      "  \"url\": \"https://www.nytimes.com/2019/10/11/business/penzeys-spices-impeach-ads.html\",\n",
      "  \"date\": \"2019-10-12T14:31:55.631Z\",\n",
      "  \"__v\": 0\n",
      "}\n"
     ]
    }
   ],
   "source": [
    "# Print first and last articles\n",
    "print(f'{json.dumps(response[0], indent=2)} \\n====================================')\n",
    "print(f'{json.dumps(response[-1], indent=2)}')"
   ]
  },
  {
   "cell_type": "code",
   "execution_count": 23,
   "metadata": {},
   "outputs": [
    {
     "name": "stdout",
     "output_type": "stream",
     "text": [
      "10\n"
     ]
    }
   ],
   "source": [
    "#Print the number of responses received.\n",
    "print(len(response))"
   ]
  },
  {
   "cell_type": "code",
   "execution_count": null,
   "metadata": {},
   "outputs": [],
   "source": []
  }
 ],
 "metadata": {
  "kernelspec": {
   "display_name": "Python 3",
   "language": "python",
   "name": "python3"
  },
  "language_info": {
   "codemirror_mode": {
    "name": "ipython",
    "version": 3
   },
   "file_extension": ".py",
   "mimetype": "text/x-python",
   "name": "python",
   "nbconvert_exporter": "python",
   "pygments_lexer": "ipython3",
   "version": "3.7.3"
  },
  "varInspector": {
   "cols": {
    "lenName": 16,
    "lenType": 16,
    "lenVar": 40
   },
   "kernels_config": {
    "python": {
     "delete_cmd_postfix": "",
     "delete_cmd_prefix": "del ",
     "library": "var_list.py",
     "varRefreshCmd": "print(var_dic_list())"
    },
    "r": {
     "delete_cmd_postfix": ") ",
     "delete_cmd_prefix": "rm(",
     "library": "var_list.r",
     "varRefreshCmd": "cat(var_dic_list()) "
    }
   },
   "types_to_exclude": [
    "module",
    "function",
    "builtin_function_or_method",
    "instance",
    "_Feature"
   ],
   "window_display": false
  }
 },
 "nbformat": 4,
 "nbformat_minor": 4
}
