{
 "cells": [
  {
   "cell_type": "code",
   "execution_count": 20,
   "metadata": {},
   "outputs": [
    {
     "name": "stdout",
     "output_type": "stream",
     "text": [
      "<class 'list'>\n"
     ]
    }
   ],
   "source": [
    "# Dependencies\n",
    "import requests\n",
    "from pprint import pprint\n",
    "import pandas as pd\n",
    "\n",
    "url = \"http://api.worldbank.org/v2/\"\n",
    "\n",
    "countries_response = requests.get(f'{url}countries?format=json').json()\n",
    "#pprint(countries_response)\n",
    "print(type(countries_response[1]))"
   ]
  },
  {
   "cell_type": "code",
   "execution_count": null,
   "metadata": {},
   "outputs": [],
   "source": [
    "response_df = pd.DataFrame(countries_response[1])\n",
    "response_df.head()"
   ]
  },
  {
   "cell_type": "code",
   "execution_count": 31,
   "metadata": {},
   "outputs": [
    {
     "name": "stdout",
     "output_type": "stream",
     "text": [
      "<class 'list'>\n"
     ]
    }
   ],
   "source": [
    "foo = list(response_df['region'])\n",
    "print(type(foo))\n",
    "\n",
    "test_df = pd.DataFrame(foo)#, columns=('region_id','region_iso2code','region_value'))\n",
    "test_df = test_df.rename(columns={'id':'region_id','iso2code':'region_iso2code','value':'region_value'})"
   ]
  },
  {
   "cell_type": "code",
   "execution_count": 3,
   "metadata": {},
   "outputs": [
    {
     "name": "stdout",
     "output_type": "stream",
     "text": [
      "50\n"
     ]
    }
   ],
   "source": [
    "print(len(countries_response[1]))"
   ]
  },
  {
   "cell_type": "code",
   "execution_count": 14,
   "metadata": {},
   "outputs": [
    {
     "name": "stdout",
     "output_type": "stream",
     "text": [
      "50\n",
      "['LNX', 'IDX', 'IBD']\n"
     ]
    }
   ],
   "source": [
    "# Get the list of lending types the world bank has\n",
    "\n",
    "lend_type = []   # Define empty list for unique \n",
    "\n",
    "for city in countries_response[1]:\n",
    "    ltype = city[\"lendingType\"][\"id\"]\n",
    "    if ((ltype not in lend_type) & (ltype != '')):\n",
    "        lend_type.append(ltype)\n",
    "        \n",
    "print(lend_type)"
   ]
  },
  {
   "cell_type": "code",
   "execution_count": 41,
   "metadata": {},
   "outputs": [
    {
     "data": {
      "text/plain": [
       "{'LNX': 15, 'IDX': 7, 'IBD': 15, 'None': 13}"
      ]
     },
     "execution_count": 41,
     "metadata": {},
     "output_type": "execute_result"
    }
   ],
   "source": [
    "# Next, determine how many countries fall into each lending type.\n",
    "count = {\n",
    "    'LNX': 0,\n",
    "    'IDX': 0,\n",
    "    'IBD': 0,\n",
    "    'None': 0\n",
    "}\n",
    "\n",
    "for city in countries_response[1]:\n",
    "    ltype = city[\"lendingType\"][\"id\"]\n",
    "    if ltype != '':\n",
    "        count[ltype] += 1\n",
    "    else:\n",
    "        count['None'] += 1\n",
    "\n",
    "count\n",
    "# Hint: Look at the first element of the response array."
   ]
  },
  {
   "cell_type": "code",
   "execution_count": 52,
   "metadata": {},
   "outputs": [
    {
     "data": {
      "text/plain": [
       "dict_keys(['LNX', 'IDX', 'IBD', 'None'])"
      ]
     },
     "execution_count": 52,
     "metadata": {},
     "output_type": "execute_result"
    }
   ],
   "source": [
    "# Print the number of countries of each lending type\n",
    "count.keys()"
   ]
  }
 ],
 "metadata": {
  "kernelspec": {
   "display_name": "Python 3",
   "language": "python",
   "name": "python3"
  },
  "language_info": {
   "codemirror_mode": {
    "name": "ipython",
    "version": 3
   },
   "file_extension": ".py",
   "mimetype": "text/x-python",
   "name": "python",
   "nbconvert_exporter": "python",
   "pygments_lexer": "ipython3",
   "version": "3.7.3"
  },
  "varInspector": {
   "cols": {
    "lenName": 16,
    "lenType": 16,
    "lenVar": 40
   },
   "kernels_config": {
    "python": {
     "delete_cmd_postfix": "",
     "delete_cmd_prefix": "del ",
     "library": "var_list.py",
     "varRefreshCmd": "print(var_dic_list())"
    },
    "r": {
     "delete_cmd_postfix": ") ",
     "delete_cmd_prefix": "rm(",
     "library": "var_list.r",
     "varRefreshCmd": "cat(var_dic_list()) "
    }
   },
   "types_to_exclude": [
    "module",
    "function",
    "builtin_function_or_method",
    "instance",
    "_Feature"
   ],
   "window_display": false
  }
 },
 "nbformat": 4,
 "nbformat_minor": 4
}
