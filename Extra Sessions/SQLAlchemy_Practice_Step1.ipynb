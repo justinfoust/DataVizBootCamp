{
 "cells": [
  {
   "cell_type": "markdown",
   "metadata": {},
   "source": [
    "# GitHub API and SQlAlchemy\n",
    "We will be using GitHub API to query GitHub repos, and store the data to a SQLite DB."
   ]
  },
  {
   "cell_type": "code",
   "execution_count": null,
   "metadata": {},
   "outputs": [],
   "source": [
    "import requests\n",
    "from requests.auth import HTTPBasicAuth\n",
    "import json"
   ]
  },
  {
   "cell_type": "code",
   "execution_count": null,
   "metadata": {},
   "outputs": [],
   "source": [
    "# We will be searching two topics for both Python and JavaScript\n",
    "search_topics = ['machine+learning', 'web+framework']\n",
    "search_languages = ['python', 'javascript']"
   ]
  },
  {
   "cell_type": "code",
   "execution_count": null,
   "metadata": {},
   "outputs": [],
   "source": [
    "# Check out Github API documentation at https://developer.github.com/v3/search/#constructing-a-search-query\n",
    "baseURL = 'https://api.github.com/search/repositories?q='"
   ]
  },
  {
   "cell_type": "code",
   "execution_count": null,
   "metadata": {},
   "outputs": [],
   "source": [
    "# Import sqlalchemy methods that we will need \n",
    "from sqlalchemy import create_engine\n",
    "from sqlalchemy import Column, Integer, String, Float\n",
    "from sqlalchemy.ext.declarative import declarative_base\n",
    "from sqlalchemy.orm import Session"
   ]
  },
  {
   "cell_type": "code",
   "execution_count": null,
   "metadata": {},
   "outputs": [],
   "source": [
    "# your github username and password to authenticate \n",
    "user = \n",
    "password = "
   ]
  },
  {
   "cell_type": "code",
   "execution_count": null,
   "metadata": {},
   "outputs": [],
   "source": [
    "# Create Database Connection\n",
    "# ----------------------------------\n",
    "# Creates a connection to our DB which we will name 'gitdb' and it is a SQLite database\n",
    "engine = "
   ]
  },
  {
   "cell_type": "code",
   "execution_count": null,
   "metadata": {},
   "outputs": [],
   "source": [
    "# Create a Base to utilize declarative base in SQLAlchemy\n",
    "Base = "
   ]
  },
  {
   "cell_type": "code",
   "execution_count": null,
   "metadata": {},
   "outputs": [],
   "source": [
    "# Creates a Class which will serve as the anchor points for our Table\n",
    "# name the class GitHubRepos and the table name to be 'gitrepos'\n",
    "#\n",
    "# List of columns:\n",
    "#  id (this is the primary key), name, html_url, description, updated_at, created_at, git_url, stargazers_count,\n",
    "#     watchers_count, language, forks, search_topic, search_language\n",
    "\n",
    "class GitHubRepos(Base):\n",
    "    __tablename__ = 'gitrepos'\n",
    "    # finish it up"
   ]
  },
  {
   "cell_type": "code",
   "execution_count": null,
   "metadata": {},
   "outputs": [],
   "source": [
    "# display tables in local metadata \n"
   ]
  },
  {
   "cell_type": "code",
   "execution_count": null,
   "metadata": {},
   "outputs": [],
   "source": [
    "# Create a \"Metadata\" Layer That Abstracts our SQL Database. \n",
    "# Hint: this is when we reference engine to create the tables that currently reside localy in our code layer\n"
   ]
  },
  {
   "cell_type": "code",
   "execution_count": null,
   "metadata": {},
   "outputs": [],
   "source": [
    "# Create a session that binds to our DB\n",
    "session = "
   ]
  },
  {
   "cell_type": "code",
   "execution_count": null,
   "metadata": {},
   "outputs": [],
   "source": [
    "# make requests and add rows into the DBs\n",
    "# Hint: maybe you can leverage nested loops since we have two lists ?! \n",
    "# Hint: remember you need to write specific data to the DB based on our table structure\n",
    "# Hint: remember how we parse our data when we make an API request \n",
    "# Hint: use the example URL below and check out where the variables are placed\n",
    "#       url = f'https://api.github.com/search/repositories?q={topic}+language:{lang}&sort=stars&order=desc'\n",
    "# Hint: to pass authentication infomration \n",
    "#       r = requests.get(url, auth=HTTPBasicAuth(user,password))\n"
   ]
  },
  {
   "cell_type": "code",
   "execution_count": null,
   "metadata": {},
   "outputs": [],
   "source": [
    "# to verify: Display first row,  all columns in dictionary format\n",
    "session.query(GitHubRepos).first().__dict__"
   ]
  },
  {
   "cell_type": "code",
   "execution_count": null,
   "metadata": {},
   "outputs": [],
   "source": [
    "# write you query to display first 5 reocrds and just display name and description\n"
   ]
  },
  {
   "cell_type": "code",
   "execution_count": null,
   "metadata": {},
   "outputs": [],
   "source": []
  },
  {
   "cell_type": "code",
   "execution_count": null,
   "metadata": {},
   "outputs": [],
   "source": []
  },
  {
   "cell_type": "code",
   "execution_count": null,
   "metadata": {},
   "outputs": [],
   "source": []
  },
  {
   "cell_type": "code",
   "execution_count": null,
   "metadata": {},
   "outputs": [],
   "source": []
  },
  {
   "cell_type": "code",
   "execution_count": null,
   "metadata": {},
   "outputs": [],
   "source": []
  },
  {
   "cell_type": "code",
   "execution_count": null,
   "metadata": {},
   "outputs": [],
   "source": []
  },
  {
   "cell_type": "code",
   "execution_count": null,
   "metadata": {},
   "outputs": [],
   "source": []
  }
 ],
 "metadata": {
  "kernelspec": {
   "display_name": "base",
   "language": "python",
   "name": "base"
  },
  "language_info": {
   "codemirror_mode": {
    "name": "ipython",
    "version": 3
   },
   "file_extension": ".py",
   "mimetype": "text/x-python",
   "name": "python",
   "nbconvert_exporter": "python",
   "pygments_lexer": "ipython3",
   "version": "3.6.7"
  }
 },
 "nbformat": 4,
 "nbformat_minor": 4
}
