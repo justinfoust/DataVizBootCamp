{
 "cells": [
  {
   "cell_type": "markdown",
   "metadata": {},
   "source": [
    "## Raw Strings"
   ]
  },
  {
   "cell_type": "code",
   "execution_count": null,
   "metadata": {},
   "outputs": [],
   "source": [
    "print(\"Hello\\nWorld\")"
   ]
  },
  {
   "cell_type": "code",
   "execution_count": null,
   "metadata": {},
   "outputs": [],
   "source": [
    "print(r\"Hello\\nWorld\")"
   ]
  },
  {
   "cell_type": "markdown",
   "metadata": {},
   "source": [
    "We will use the `re.compile()` function from the `re` module. The `re.compile(pattern)` function converts a regular expression pattern into a regular expression object. This allows us to save our regular expressions into objects that can be used later to perform pattern matching using various methods, such as `.match()`, `.search()`, `.findall()`, and `.finditer()`"
   ]
  },
  {
   "cell_type": "markdown",
   "metadata": {},
   "source": [
    "### List Comprehension vs Generator Expression"
   ]
  },
  {
   "cell_type": "code",
   "execution_count": null,
   "metadata": {},
   "outputs": [],
   "source": [
    "name = \"John Smith\"\n",
    "listA = [c for c in name if c not in ['i', ' ']]\n",
    "listA"
   ]
  },
  {
   "cell_type": "code",
   "execution_count": null,
   "metadata": {},
   "outputs": [],
   "source": [
    "name = \"John Smith\"\n",
    "listB = (c for c in name if c not in ['i', ' '])\n",
    "listB"
   ]
  },
  {
   "cell_type": "code",
   "execution_count": null,
   "metadata": {},
   "outputs": [],
   "source": [
    "next(listB)"
   ]
  },
  {
   "cell_type": "code",
   "execution_count": null,
   "metadata": {},
   "outputs": [],
   "source": [
    "next(listB)"
   ]
  },
  {
   "cell_type": "code",
   "execution_count": null,
   "metadata": {},
   "outputs": [],
   "source": [
    "for i in listB:\n",
    "    print(i, end=\" \")"
   ]
  },
  {
   "cell_type": "markdown",
   "metadata": {},
   "source": [
    "### Regular Expressions"
   ]
  },
  {
   "cell_type": "code",
   "execution_count": null,
   "metadata": {},
   "outputs": [],
   "source": [
    "import re"
   ]
  },
  {
   "cell_type": "code",
   "execution_count": null,
   "metadata": {},
   "outputs": [],
   "source": [
    "with open('Data/email.txt') as f:\n",
    "    content = f.read()"
   ]
  },
  {
   "cell_type": "code",
   "execution_count": null,
   "metadata": {},
   "outputs": [],
   "source": [
    "print(content)"
   ]
  },
  {
   "cell_type": "code",
   "execution_count": null,
   "metadata": {
    "scrolled": true
   },
   "outputs": [],
   "source": [
    "regex = re.compile('A')\n",
    "matches = regex.finditer(content)\n",
    "for match in matches:\n",
    "    print(match)"
   ]
  },
  {
   "cell_type": "markdown",
   "metadata": {},
   "source": [
    "### MetaCharaters\n",
    "\n",
    "`. ^ $ * + ? { } [ ] \\ | ( )`\n"
   ]
  },
  {
   "cell_type": "markdown",
   "metadata": {},
   "source": [
    "#### `/`\n",
    "\n",
    "- `\\d` - Matches any decimal digit; this is equivalent to the set [0-9]\n",
    "\n",
    "- `\\D` - Matches any non-digit character; this is equivalent to the set [^0-9]\n",
    "\n",
    "- `\\s` - Matches any whitespace character, this is equivalent to the set [ \\t\\n\\r\\f\\v]\n",
    "\n",
    "- `\\S` - Matches any non-whitespace character; this is equivalent to the set [^ \\t\\n\\r\\f\\v]\n",
    "\n",
    "- `\\w` - Matches any alphanumeric character and the underscore; this is equivalent to the set [a-zA-Z0-9_]\n",
    "\n",
    "- `\\W` - Matches any non-alphanumeric character; this is equivalent to the set [^a-zA-Z0-9_]\n"
   ]
  },
  {
   "cell_type": "code",
   "execution_count": null,
   "metadata": {
    "scrolled": true
   },
   "outputs": [],
   "source": [
    "regex = re.compile(r'\\d')\n",
    "\n",
    "matches = regex.finditer(content)\n",
    "\n",
    "counter = 0\n",
    "for match in matches:\n",
    "    print(match)\n",
    "    counter+= 1"
   ]
  },
  {
   "cell_type": "code",
   "execution_count": null,
   "metadata": {},
   "outputs": [],
   "source": [
    "print(counter)"
   ]
  },
  {
   "cell_type": "code",
   "execution_count": null,
   "metadata": {
    "scrolled": true
   },
   "outputs": [],
   "source": [
    "regex = re.compile(r'\\D')\n",
    "\n",
    "matches = regex.finditer(content)\n",
    "\n",
    "counter = 0\n",
    "for match in matches:\n",
    "    print(match)\n",
    "    counter+= 1"
   ]
  },
  {
   "cell_type": "code",
   "execution_count": null,
   "metadata": {},
   "outputs": [],
   "source": [
    "print(counter)"
   ]
  },
  {
   "cell_type": "code",
   "execution_count": null,
   "metadata": {
    "scrolled": true
   },
   "outputs": [],
   "source": [
    "regex = re.compile(r'\\s')\n",
    "\n",
    "matches = regex.finditer(content)\n",
    "\n",
    "counter = 0\n",
    "for match in matches:\n",
    "    print(match)\n",
    "    counter+= 1"
   ]
  },
  {
   "cell_type": "code",
   "execution_count": null,
   "metadata": {},
   "outputs": [],
   "source": [
    "print(counter)"
   ]
  },
  {
   "cell_type": "code",
   "execution_count": null,
   "metadata": {},
   "outputs": [],
   "source": [
    "regex = re.compile(r'\\S')\n",
    "\n",
    "matches = regex.finditer(content)\n",
    "\n",
    "counter = 0\n",
    "for match in matches:\n",
    "    print(match)\n",
    "    counter+= 1"
   ]
  },
  {
   "cell_type": "code",
   "execution_count": null,
   "metadata": {},
   "outputs": [],
   "source": [
    "print(counter)"
   ]
  },
  {
   "cell_type": "code",
   "execution_count": null,
   "metadata": {},
   "outputs": [],
   "source": [
    "regex = re.compile(r'\\w')\n",
    "\n",
    "matches = regex.finditer(content)\n",
    "\n",
    "counter = 0\n",
    "for match in matches:\n",
    "    print(match)\n",
    "    counter+= 1"
   ]
  },
  {
   "cell_type": "code",
   "execution_count": null,
   "metadata": {},
   "outputs": [],
   "source": [
    "print(counter)"
   ]
  },
  {
   "cell_type": "code",
   "execution_count": null,
   "metadata": {},
   "outputs": [],
   "source": [
    "regex = re.compile(r'\\W')\n",
    "\n",
    "matches = regex.finditer(content)\n",
    "\n",
    "counter = 0\n",
    "for match in matches:\n",
    "    print(match)\n",
    "    counter+= 1"
   ]
  },
  {
   "cell_type": "code",
   "execution_count": null,
   "metadata": {},
   "outputs": [],
   "source": [
    "print(counter)"
   ]
  },
  {
   "cell_type": "markdown",
   "metadata": {},
   "source": [
    "### Finding Phone Numbers"
   ]
  },
  {
   "cell_type": "code",
   "execution_count": null,
   "metadata": {},
   "outputs": [],
   "source": [
    "regex = re.compile(r'\\(\\d\\d\\d\\)-\\d\\d\\d-\\d\\d\\d\\d')\n",
    "\n",
    "matches = regex.finditer(content)\n",
    "\n",
    "counter = 0\n",
    "for match in matches:\n",
    "    print(match)\n",
    "    counter+= 1"
   ]
  },
  {
   "cell_type": "code",
   "execution_count": null,
   "metadata": {},
   "outputs": [],
   "source": [
    "regex = re.compile(r'\\(\\d\\d\\d\\)\\d\\d\\d-\\d\\d\\d\\d')\n",
    "\n",
    "matches = regex.finditer(content)\n",
    "\n",
    "counter = 0\n",
    "for match in matches:\n",
    "    print(match)\n",
    "    counter+= 1"
   ]
  },
  {
   "cell_type": "code",
   "execution_count": null,
   "metadata": {},
   "outputs": [],
   "source": [
    "regex = re.compile(r'\\d\\d\\d\\.\\d\\d\\d\\.\\d\\d\\d\\d')\n",
    "\n",
    "matches = regex.finditer(content)\n",
    "\n",
    "counter = 0\n",
    "for match in matches:\n",
    "    print(match)\n",
    "    counter+= 1"
   ]
  },
  {
   "cell_type": "code",
   "execution_count": null,
   "metadata": {},
   "outputs": [],
   "source": [
    "content[810:822]"
   ]
  },
  {
   "cell_type": "markdown",
   "metadata": {},
   "source": [
    "### Character Sets\n",
    "\n",
    "`{} []`\n",
    "* The sequence `{m}` specifies that exactly m copies of the previous regular expression should be matched. For example, the sequence `\\d{3}` specifies that exactly 3 copies of the `\\d` regular expression should be matched. Therefore, the sequence `\\d{3}` is equivalent to the sequence `\\d\\d\\d`\n",
    "* Character sets are specified using the `[]` metacharacters and are used to indicate a set of characters that you wish to match\n",
    "* `.` is a wild card"
   ]
  },
  {
   "cell_type": "code",
   "execution_count": null,
   "metadata": {},
   "outputs": [],
   "source": [
    "regex = re.compile(r'\\d{3}.\\d{3}.\\d{4}')\n",
    "\n",
    "matches = regex.finditer(content)\n",
    "\n",
    "counter = 0\n",
    "for match in matches:\n",
    "    print(match)\n",
    "    counter+= 1"
   ]
  },
  {
   "cell_type": "code",
   "execution_count": null,
   "metadata": {},
   "outputs": [],
   "source": [
    "regex = re.compile(r'\\d{3}[)\\.-]+\\d{3}.\\d{4}')\n",
    "\n",
    "matches = regex.finditer(content)\n",
    "\n",
    "counter = 0\n",
    "for match in matches:\n",
    "    print(match)\n",
    "    counter+= 1"
   ]
  },
  {
   "cell_type": "markdown",
   "metadata": {},
   "source": [
    "### Finding Complex Patterns\n",
    "\n",
    "* What if a character is optional? We can do this by using the `?` metacharacter in our regular expression. The `?` will match 0 or 1 repetitions of the preceding regular expression. For example, the regular expression `ab?` will match either `a` or `ab`. In other words, the `?` after the `b` indicates that the `b` after the `a` is optional. \n",
    "\n",
    "* The `*` metacharacter, matches 0 or more repetitions of the preceding regular expression. In other words, it matches 0 or as many repetitions as possible of the preceding regular expression. For example, the regular expression `ab*` will match `a` or a followed by any number of `b`'s, such as `ab` or `abbbbb`.\n",
    "\n",
    "* The `+` metacharacter, matches 1 or more "
   ]
  },
  {
   "cell_type": "code",
   "execution_count": null,
   "metadata": {},
   "outputs": [],
   "source": [
    "regex = re.compile(r'[)\\.-]?\\d{3}[)\\.-]+\\d{3}.\\d{4}')\n",
    "\n",
    "matches = regex.finditer(content)\n",
    "\n",
    "counter = 0\n",
    "for match in matches:\n",
    "    print(match)\n",
    "    counter+= 1"
   ]
  },
  {
   "cell_type": "markdown",
   "metadata": {},
   "source": [
    "### Flags\n",
    "\n",
    "The `re.compile(pattern, flags)` function, has a `flag` keyword that can be used to allow more flexibility. For example, the `re.IGNORECASE` flag can be used to perform case-insensitive matching. In the code below we have a string that contains the name Walter written in two different combinations of upper and lower case letters"
   ]
  },
  {
   "cell_type": "code",
   "execution_count": null,
   "metadata": {},
   "outputs": [],
   "source": [
    "regex = re.compile(r'Henry')\n",
    "\n",
    "matches = regex.finditer(content)\n",
    "\n",
    "counter = 0\n",
    "for match in matches:\n",
    "    print(match)\n",
    "    counter+= 1"
   ]
  },
  {
   "cell_type": "code",
   "execution_count": null,
   "metadata": {},
   "outputs": [],
   "source": [
    "regex = re.compile(r'henry')\n",
    "\n",
    "matches = regex.finditer(content)\n",
    "\n",
    "counter = 0\n",
    "for match in matches:\n",
    "    print(match)\n",
    "    counter+= 1"
   ]
  },
  {
   "cell_type": "code",
   "execution_count": null,
   "metadata": {},
   "outputs": [],
   "source": [
    "regex = re.compile(r'Henry', re.IGNORECASE)\n",
    "\n",
    "matches = regex.finditer(content)\n",
    "\n",
    "counter = 0\n",
    "for match in matches:\n",
    "    print(match)\n",
    "    counter+= 1"
   ]
  },
  {
   "cell_type": "markdown",
   "metadata": {},
   "source": [
    "### Finding Emails"
   ]
  },
  {
   "cell_type": "code",
   "execution_count": null,
   "metadata": {},
   "outputs": [],
   "source": [
    "regex = re.compile(r'\\w+\\.\\w+@\\w+\\.com')\n",
    "\n",
    "matches = regex.finditer(content)\n",
    "\n",
    "counter = 0\n",
    "for match in matches:\n",
    "    print(match)\n",
    "    counter+= 1"
   ]
  },
  {
   "cell_type": "code",
   "execution_count": null,
   "metadata": {},
   "outputs": [],
   "source": [
    "regex = re.compile(r'\\w+[\\.\\w+]?@\\w+\\.com')\n",
    "\n",
    "matches = regex.finditer(content)\n",
    "\n",
    "counter = 0\n",
    "for match in matches:\n",
    "    print(match)\n",
    "    counter+= 1"
   ]
  },
  {
   "cell_type": "markdown",
   "metadata": {},
   "source": [
    "### Finding Dates"
   ]
  },
  {
   "cell_type": "code",
   "execution_count": null,
   "metadata": {},
   "outputs": [],
   "source": [
    "regex = re.compile(r'\\d{2}/\\d{2}/\\d{4}')\n",
    "\n",
    "matches = regex.finditer(content)\n",
    "\n",
    "counter = 0\n",
    "for match in matches:\n",
    "    print(match)\n",
    "    counter+= 1"
   ]
  },
  {
   "cell_type": "code",
   "execution_count": null,
   "metadata": {},
   "outputs": [],
   "source": [
    "regex = re.compile(r'[0-9][0-2]\\/[0-3][0-9]\\/20[0-8]+')\n",
    "\n",
    "matches = regex.finditer(content)\n",
    "\n",
    "counter = 0\n",
    "for match in matches:\n",
    "    print(match)\n",
    "    counter+= 1"
   ]
  },
  {
   "cell_type": "code",
   "execution_count": null,
   "metadata": {},
   "outputs": [],
   "source": []
  }
 ],
 "metadata": {
  "kernelspec": {
   "display_name": "Python 3",
   "language": "python",
   "name": "python3"
  },
  "language_info": {
   "codemirror_mode": {
    "name": "ipython",
    "version": 3
   },
   "file_extension": ".py",
   "mimetype": "text/x-python",
   "name": "python",
   "nbconvert_exporter": "python",
   "pygments_lexer": "ipython3",
   "version": "3.6.7"
  }
 },
 "nbformat": 4,
 "nbformat_minor": 2
}
