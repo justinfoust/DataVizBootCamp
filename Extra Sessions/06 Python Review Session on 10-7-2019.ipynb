{
 "cells": [
  {
   "cell_type": "markdown",
   "metadata": {},
   "source": [
    "## Using `zip()` in Python\n",
    "\n",
    "The `zip()` function returns a zip object, which is an **iterator of tuples** where the first item in each passed iterator is paired together, and then the second item in each passed iterator are paired together etc."
   ]
  },
  {
   "cell_type": "code",
   "execution_count": 1,
   "metadata": {},
   "outputs": [],
   "source": [
    "listA = [\"Arthur\", \"Mark\", \"Jacbo\", \"Shanon\"]\n",
    "listB = [98, 50, 76, 40]"
   ]
  },
  {
   "cell_type": "code",
   "execution_count": 2,
   "metadata": {},
   "outputs": [],
   "source": [
    "combinedList = zip(listA, listB)"
   ]
  },
  {
   "cell_type": "markdown",
   "metadata": {},
   "source": [
    "`combinedList` has a special type called `zip` that we can use in a loop or using `next()` to iterate through the content"
   ]
  },
  {
   "cell_type": "code",
   "execution_count": 3,
   "metadata": {},
   "outputs": [
    {
     "data": {
      "text/plain": [
       "zip"
      ]
     },
     "execution_count": 3,
     "metadata": {},
     "output_type": "execute_result"
    }
   ],
   "source": [
    "type(combinedList)"
   ]
  },
  {
   "cell_type": "code",
   "execution_count": 175,
   "metadata": {},
   "outputs": [
    {
     "name": "stdout",
     "output_type": "stream",
     "text": [
      "<zip object at 0x11f203188>\n"
     ]
    }
   ],
   "source": [
    "print(combinedList)"
   ]
  },
  {
   "cell_type": "markdown",
   "metadata": {},
   "source": [
    "We can also convert the `zip` object to another data structure such as a list or tuple using `list()` or `tuple()` as examples."
   ]
  },
  {
   "cell_type": "code",
   "execution_count": 176,
   "metadata": {},
   "outputs": [
    {
     "name": "stdout",
     "output_type": "stream",
     "text": [
      "<class 'tuple'>\n",
      "(('Arthur', 98), ('Mark', 50), ('Jacbo', 76), ('Shanon', 40))\n"
     ]
    }
   ],
   "source": [
    "# converting to a tuple\n",
    "combinedListTuple = tuple(combinedList)\n",
    "print(type(combinedListTuple))\n",
    "print(combinedListTuple)"
   ]
  },
  {
   "cell_type": "markdown",
   "metadata": {},
   "source": [
    "We can also iterate through the `zip` object via a for loop. In the example below, `i` represents each tuple in side. "
   ]
  },
  {
   "cell_type": "code",
   "execution_count": 178,
   "metadata": {},
   "outputs": [
    {
     "name": "stdout",
     "output_type": "stream",
     "text": [
      "('Arthur', 98)\n",
      "('Mark', 50)\n",
      "('Jacbo', 76)\n",
      "('Shanon', 40)\n"
     ]
    }
   ],
   "source": [
    "# iterate through the zip object which is an iterator of tuples. Each i pass represents a tuple.\n",
    "combinedList = zip(listA, listB)\n",
    "for i in combinedList:\n",
    "    print(i)"
   ]
  },
  {
   "cell_type": "markdown",
   "metadata": {},
   "source": [
    "You can use the `.zip()` directly inside a for loop, and we can use to for example to create a new list."
   ]
  },
  {
   "cell_type": "code",
   "execution_count": 179,
   "metadata": {},
   "outputs": [
    {
     "name": "stdout",
     "output_type": "stream",
     "text": [
      "[('Arthur', 98), ('Mark', 50), ('Jacbo', 76), ('Shanon', 40)]\n"
     ]
    }
   ],
   "source": [
    "combList = []\n",
    "for i in zip(listA, listB):\n",
    "    combList.append(i)\n",
    "    \n",
    "print(combList)"
   ]
  },
  {
   "cell_type": "markdown",
   "metadata": {},
   "source": [
    "Here is an example using `zip` inside a list comprehension. "
   ]
  },
  {
   "cell_type": "code",
   "execution_count": 180,
   "metadata": {},
   "outputs": [
    {
     "name": "stdout",
     "output_type": "stream",
     "text": [
      "[('Arthur', 98), ('Mark', 50), ('Jacbo', 76), ('Shanon', 40)]\n"
     ]
    }
   ],
   "source": [
    "combList2 = [i for i in zip(listA, listB)]\n",
    "print(combList2)"
   ]
  },
  {
   "cell_type": "markdown",
   "metadata": {},
   "source": [
    "One other use case for when to use `zip` is if I needed to loop through the two lists, in which I have a condition from one, then I want to the related data from the other (assuming they have the corecct order). \n",
    "\n",
    "In the example below, we are unpacking the tuple values into two variables `a` and `b`. So, if the first tuple from the zip contains (`listA[0]`,`listB[0]`) then `a` = 'Arthur' and `b` = 98."
   ]
  },
  {
   "cell_type": "code",
   "execution_count": 181,
   "metadata": {},
   "outputs": [
    {
     "name": "stdout",
     "output_type": "stream",
     "text": [
      "98\n"
     ]
    }
   ],
   "source": [
    "for a,b in zip(listA, listB):\n",
    "    if a == \"Arthur\":\n",
    "        print(b)"
   ]
  },
  {
   "cell_type": "markdown",
   "metadata": {},
   "source": [
    "## Another example using `Zip()`"
   ]
  },
  {
   "cell_type": "code",
   "execution_count": 189,
   "metadata": {},
   "outputs": [],
   "source": [
    "a = [1,2,3,4,5]\n",
    "b = [99,100,76,88,100]\n",
    "c = [475, 789, 908, 787]\n",
    "\n",
    "combAll = zip(a,b,c)"
   ]
  },
  {
   "cell_type": "code",
   "execution_count": 190,
   "metadata": {},
   "outputs": [
    {
     "data": {
      "text/plain": [
       "<zip at 0x11f203588>"
      ]
     },
     "execution_count": 190,
     "metadata": {},
     "output_type": "execute_result"
    }
   ],
   "source": [
    "# remember zip() creates a zip object. You can't just print the content. \n",
    "#You need to iterate through the zip object with a loop, using next() or convert to a list or tuple ..etc.\n",
    "combAll"
   ]
  },
  {
   "cell_type": "code",
   "execution_count": 192,
   "metadata": {},
   "outputs": [
    {
     "name": "stdout",
     "output_type": "stream",
     "text": [
      "(1, 99, 475)\n",
      "(2, 100, 789)\n",
      "(3, 76, 908)\n",
      "(4, 88, 787)\n"
     ]
    }
   ],
   "source": [
    "combAll = zip(a,b,c)\n",
    "for i in combAll:\n",
    "    print(i)"
   ]
  },
  {
   "cell_type": "code",
   "execution_count": 193,
   "metadata": {},
   "outputs": [
    {
     "data": {
      "text/plain": [
       "[(1, 99, 475), (2, 100, 789), (3, 76, 908), (4, 88, 787)]"
      ]
     },
     "execution_count": 193,
     "metadata": {},
     "output_type": "execute_result"
    }
   ],
   "source": [
    "combAll = zip(a,b,c)\n",
    "combAllList = list(combAll)\n",
    "combAllList"
   ]
  },
  {
   "cell_type": "markdown",
   "metadata": {},
   "source": [
    "## from `Zip()` to `Pandas`"
   ]
  },
  {
   "cell_type": "code",
   "execution_count": 5,
   "metadata": {},
   "outputs": [],
   "source": [
    "import pandas as pd\n",
    "import numpy as np\n",
    "import matplotlib.pyplot as plt"
   ]
  },
  {
   "cell_type": "code",
   "execution_count": 43,
   "metadata": {},
   "outputs": [
    {
     "data": {
      "text/plain": [
       "[('Arthur', 98), ('Mark', 50), ('Jacbo', 76), ('Shanon', 40)]"
      ]
     },
     "execution_count": 43,
     "metadata": {},
     "output_type": "execute_result"
    }
   ],
   "source": [
    "listA = [\"Arthur\", \"Mark\", \"Jacbo\", \"Shanon\"]\n",
    "listB = [98, 50, 76, 40]\n",
    "\n",
    "listC = list(zip(listA, listB))\n",
    "listC"
   ]
  },
  {
   "cell_type": "code",
   "execution_count": 45,
   "metadata": {},
   "outputs": [
    {
     "data": {
      "text/html": [
       "<div>\n",
       "<style scoped>\n",
       "    .dataframe tbody tr th:only-of-type {\n",
       "        vertical-align: middle;\n",
       "    }\n",
       "\n",
       "    .dataframe tbody tr th {\n",
       "        vertical-align: top;\n",
       "    }\n",
       "\n",
       "    .dataframe thead th {\n",
       "        text-align: right;\n",
       "    }\n",
       "</style>\n",
       "<table border=\"1\" class=\"dataframe\">\n",
       "  <thead>\n",
       "    <tr style=\"text-align: right;\">\n",
       "      <th></th>\n",
       "      <th>Name</th>\n",
       "      <th>Score</th>\n",
       "    </tr>\n",
       "  </thead>\n",
       "  <tbody>\n",
       "    <tr>\n",
       "      <th>0</th>\n",
       "      <td>Arthur</td>\n",
       "      <td>98</td>\n",
       "    </tr>\n",
       "    <tr>\n",
       "      <th>1</th>\n",
       "      <td>Mark</td>\n",
       "      <td>50</td>\n",
       "    </tr>\n",
       "    <tr>\n",
       "      <th>2</th>\n",
       "      <td>Jacbo</td>\n",
       "      <td>76</td>\n",
       "    </tr>\n",
       "    <tr>\n",
       "      <th>3</th>\n",
       "      <td>Shanon</td>\n",
       "      <td>40</td>\n",
       "    </tr>\n",
       "  </tbody>\n",
       "</table>\n",
       "</div>"
      ],
      "text/plain": [
       "     Name  Score\n",
       "0  Arthur     98\n",
       "1    Mark     50\n",
       "2   Jacbo     76\n",
       "3  Shanon     40"
      ]
     },
     "execution_count": 45,
     "metadata": {},
     "output_type": "execute_result"
    }
   ],
   "source": [
    "pd.DataFrame(listC, columns=[\"Name\", \"Score\"])"
   ]
  },
  {
   "cell_type": "markdown",
   "metadata": {},
   "source": [
    "from `zip()` to `Pandas` again with three lists"
   ]
  },
  {
   "cell_type": "code",
   "execution_count": 56,
   "metadata": {},
   "outputs": [],
   "source": [
    "listA = [\"Arthur\", \"Mark\", \"Jacbo\", \"Shanon\"]\n",
    "listB = [98, 50, 76, 40]\n",
    "listD = ['Los Angeles', 'Corona','Seattle', 'Phoenix']\n",
    "listE = [21, 22, 23, 59, 100]\n",
    "\n",
    "motherofalllists = list(zip(listA, listB, listD, listE))"
   ]
  },
  {
   "cell_type": "code",
   "execution_count": 57,
   "metadata": {},
   "outputs": [
    {
     "data": {
      "text/plain": [
       "[('Arthur', 98, 'Los Angeles', 21),\n",
       " ('Mark', 50, 'Corona', 22),\n",
       " ('Jacbo', 76, 'Seattle', 23),\n",
       " ('Shanon', 40, 'Phoenix', 59)]"
      ]
     },
     "execution_count": 57,
     "metadata": {},
     "output_type": "execute_result"
    }
   ],
   "source": [
    "motherofalllists"
   ]
  },
  {
   "cell_type": "code",
   "execution_count": 58,
   "metadata": {},
   "outputs": [
    {
     "data": {
      "text/html": [
       "<div>\n",
       "<style scoped>\n",
       "    .dataframe tbody tr th:only-of-type {\n",
       "        vertical-align: middle;\n",
       "    }\n",
       "\n",
       "    .dataframe tbody tr th {\n",
       "        vertical-align: top;\n",
       "    }\n",
       "\n",
       "    .dataframe thead th {\n",
       "        text-align: right;\n",
       "    }\n",
       "</style>\n",
       "<table border=\"1\" class=\"dataframe\">\n",
       "  <thead>\n",
       "    <tr style=\"text-align: right;\">\n",
       "      <th></th>\n",
       "      <th>Name</th>\n",
       "      <th>Score</th>\n",
       "      <th>City</th>\n",
       "      <th>Age</th>\n",
       "    </tr>\n",
       "  </thead>\n",
       "  <tbody>\n",
       "    <tr>\n",
       "      <th>0</th>\n",
       "      <td>Arthur</td>\n",
       "      <td>98</td>\n",
       "      <td>Los Angeles</td>\n",
       "      <td>21</td>\n",
       "    </tr>\n",
       "    <tr>\n",
       "      <th>1</th>\n",
       "      <td>Mark</td>\n",
       "      <td>50</td>\n",
       "      <td>Corona</td>\n",
       "      <td>22</td>\n",
       "    </tr>\n",
       "    <tr>\n",
       "      <th>2</th>\n",
       "      <td>Jacbo</td>\n",
       "      <td>76</td>\n",
       "      <td>Seattle</td>\n",
       "      <td>23</td>\n",
       "    </tr>\n",
       "    <tr>\n",
       "      <th>3</th>\n",
       "      <td>Shanon</td>\n",
       "      <td>40</td>\n",
       "      <td>Phoenix</td>\n",
       "      <td>59</td>\n",
       "    </tr>\n",
       "  </tbody>\n",
       "</table>\n",
       "</div>"
      ],
      "text/plain": [
       "     Name  Score         City  Age\n",
       "0  Arthur     98  Los Angeles   21\n",
       "1    Mark     50       Corona   22\n",
       "2   Jacbo     76      Seattle   23\n",
       "3  Shanon     40      Phoenix   59"
      ]
     },
     "execution_count": 58,
     "metadata": {},
     "output_type": "execute_result"
    }
   ],
   "source": [
    "df = pd.DataFrame(motherofalllists, columns=[\"Name\", \"Score\", \"City\", \"Age\"])\n",
    "df"
   ]
  },
  {
   "cell_type": "code",
   "execution_count": 96,
   "metadata": {},
   "outputs": [],
   "source": [
    "bins = [0,50,80,100]\n",
    "labels = [\"Fail\", \"OK\", \"Excellent\"]\n",
    "\n",
    "df[\"Comment\"] = pd.cut(df[\"Score\"], bins= bins, labels= labels)"
   ]
  },
  {
   "cell_type": "code",
   "execution_count": 97,
   "metadata": {},
   "outputs": [
    {
     "data": {
      "text/html": [
       "<div>\n",
       "<style scoped>\n",
       "    .dataframe tbody tr th:only-of-type {\n",
       "        vertical-align: middle;\n",
       "    }\n",
       "\n",
       "    .dataframe tbody tr th {\n",
       "        vertical-align: top;\n",
       "    }\n",
       "\n",
       "    .dataframe thead th {\n",
       "        text-align: right;\n",
       "    }\n",
       "</style>\n",
       "<table border=\"1\" class=\"dataframe\">\n",
       "  <thead>\n",
       "    <tr style=\"text-align: right;\">\n",
       "      <th></th>\n",
       "      <th>Name</th>\n",
       "      <th>Score</th>\n",
       "      <th>City</th>\n",
       "      <th>Age</th>\n",
       "      <th>Comment</th>\n",
       "    </tr>\n",
       "  </thead>\n",
       "  <tbody>\n",
       "    <tr>\n",
       "      <th>0</th>\n",
       "      <td>Arthur</td>\n",
       "      <td>98</td>\n",
       "      <td>Los Angeles</td>\n",
       "      <td>21</td>\n",
       "      <td>Excellent</td>\n",
       "    </tr>\n",
       "    <tr>\n",
       "      <th>1</th>\n",
       "      <td>Mark</td>\n",
       "      <td>50</td>\n",
       "      <td>Corona</td>\n",
       "      <td>22</td>\n",
       "      <td>Fail</td>\n",
       "    </tr>\n",
       "    <tr>\n",
       "      <th>2</th>\n",
       "      <td>Jacbo</td>\n",
       "      <td>76</td>\n",
       "      <td>Seattle</td>\n",
       "      <td>23</td>\n",
       "      <td>OK</td>\n",
       "    </tr>\n",
       "    <tr>\n",
       "      <th>3</th>\n",
       "      <td>Shanon</td>\n",
       "      <td>40</td>\n",
       "      <td>Phoenix</td>\n",
       "      <td>59</td>\n",
       "      <td>Fail</td>\n",
       "    </tr>\n",
       "  </tbody>\n",
       "</table>\n",
       "</div>"
      ],
      "text/plain": [
       "     Name  Score         City  Age    Comment\n",
       "0  Arthur     98  Los Angeles   21  Excellent\n",
       "1    Mark     50       Corona   22       Fail\n",
       "2   Jacbo     76      Seattle   23         OK\n",
       "3  Shanon     40      Phoenix   59       Fail"
      ]
     },
     "execution_count": 97,
     "metadata": {},
     "output_type": "execute_result"
    }
   ],
   "source": [
    "df"
   ]
  },
  {
   "cell_type": "code",
   "execution_count": 98,
   "metadata": {},
   "outputs": [
    {
     "data": {
      "text/html": [
       "<div>\n",
       "<style scoped>\n",
       "    .dataframe tbody tr th:only-of-type {\n",
       "        vertical-align: middle;\n",
       "    }\n",
       "\n",
       "    .dataframe tbody tr th {\n",
       "        vertical-align: top;\n",
       "    }\n",
       "\n",
       "    .dataframe thead th {\n",
       "        text-align: right;\n",
       "    }\n",
       "</style>\n",
       "<table border=\"1\" class=\"dataframe\">\n",
       "  <thead>\n",
       "    <tr style=\"text-align: right;\">\n",
       "      <th></th>\n",
       "      <th>Score</th>\n",
       "      <th>Age</th>\n",
       "    </tr>\n",
       "    <tr>\n",
       "      <th>Comment</th>\n",
       "      <th></th>\n",
       "      <th></th>\n",
       "    </tr>\n",
       "  </thead>\n",
       "  <tbody>\n",
       "    <tr>\n",
       "      <th>Fail</th>\n",
       "      <td>45.0</td>\n",
       "      <td>40.5</td>\n",
       "    </tr>\n",
       "    <tr>\n",
       "      <th>OK</th>\n",
       "      <td>76.0</td>\n",
       "      <td>23.0</td>\n",
       "    </tr>\n",
       "    <tr>\n",
       "      <th>Excellent</th>\n",
       "      <td>98.0</td>\n",
       "      <td>21.0</td>\n",
       "    </tr>\n",
       "  </tbody>\n",
       "</table>\n",
       "</div>"
      ],
      "text/plain": [
       "           Score   Age\n",
       "Comment               \n",
       "Fail        45.0  40.5\n",
       "OK          76.0  23.0\n",
       "Excellent   98.0  21.0"
      ]
     },
     "execution_count": 98,
     "metadata": {},
     "output_type": "execute_result"
    }
   ],
   "source": [
    "df.groupby(by=\"Comment\").mean()"
   ]
  },
  {
   "cell_type": "code",
   "execution_count": 93,
   "metadata": {},
   "outputs": [
    {
     "data": {
      "text/plain": [
       "<matplotlib.axes._subplots.AxesSubplot at 0x10622a048>"
      ]
     },
     "execution_count": 93,
     "metadata": {},
     "output_type": "execute_result"
    },
    {
     "data": {
      "image/png": "[encoded data removed]",
      "text/plain": [
       "<Figure size 432x288 with 1 Axes>"
      ]
     },
     "metadata": {
      "needs_background": "light"
     },
     "output_type": "display_data"
    }
   ],
   "source": [
    "df.groupby(by=\"Comment\").mean().plot(kind=\"bar\")"
   ]
  },
  {
   "cell_type": "code",
   "execution_count": 6,
   "metadata": {},
   "outputs": [
    {
     "data": {
      "text/html": [
       "<div>\n",
       "<style scoped>\n",
       "    .dataframe tbody tr th:only-of-type {\n",
       "        vertical-align: middle;\n",
       "    }\n",
       "\n",
       "    .dataframe tbody tr th {\n",
       "        vertical-align: top;\n",
       "    }\n",
       "\n",
       "    .dataframe thead th {\n",
       "        text-align: right;\n",
       "    }\n",
       "</style>\n",
       "<table border=\"1\" class=\"dataframe\">\n",
       "  <thead>\n",
       "    <tr style=\"text-align: right;\">\n",
       "      <th></th>\n",
       "      <th>INSTNM</th>\n",
       "      <th>CITY</th>\n",
       "      <th>STABBR</th>\n",
       "      <th>HBCU</th>\n",
       "      <th>MENONLY</th>\n",
       "      <th>WOMENONLY</th>\n",
       "      <th>RELAFFIL</th>\n",
       "      <th>SATVRMID</th>\n",
       "      <th>SATMTMID</th>\n",
       "      <th>DISTANCEONLY</th>\n",
       "      <th>...</th>\n",
       "      <th>UGDS_2MOR</th>\n",
       "      <th>UGDS_NRA</th>\n",
       "      <th>UGDS_UNKN</th>\n",
       "      <th>PPTUG_EF</th>\n",
       "      <th>CURROPER</th>\n",
       "      <th>PCTPELL</th>\n",
       "      <th>PCTFLOAN</th>\n",
       "      <th>UG25ABV</th>\n",
       "      <th>MD_EARN_WNE_P10</th>\n",
       "      <th>GRAD_DEBT_MDN_SUPP</th>\n",
       "    </tr>\n",
       "  </thead>\n",
       "  <tbody>\n",
       "    <tr>\n",
       "      <td>0</td>\n",
       "      <td>Alabama A &amp; M University</td>\n",
       "      <td>Normal</td>\n",
       "      <td>AL</td>\n",
       "      <td>1.0</td>\n",
       "      <td>0.0</td>\n",
       "      <td>0.0</td>\n",
       "      <td>0</td>\n",
       "      <td>424.0</td>\n",
       "      <td>420.0</td>\n",
       "      <td>0.0</td>\n",
       "      <td>...</td>\n",
       "      <td>0.0000</td>\n",
       "      <td>0.0059</td>\n",
       "      <td>0.0138</td>\n",
       "      <td>0.0656</td>\n",
       "      <td>1</td>\n",
       "      <td>0.7356</td>\n",
       "      <td>0.8284</td>\n",
       "      <td>0.1049</td>\n",
       "      <td>30300</td>\n",
       "      <td>33888</td>\n",
       "    </tr>\n",
       "    <tr>\n",
       "      <td>1</td>\n",
       "      <td>University of Alabama at Birmingham</td>\n",
       "      <td>Birmingham</td>\n",
       "      <td>AL</td>\n",
       "      <td>0.0</td>\n",
       "      <td>0.0</td>\n",
       "      <td>0.0</td>\n",
       "      <td>0</td>\n",
       "      <td>570.0</td>\n",
       "      <td>565.0</td>\n",
       "      <td>0.0</td>\n",
       "      <td>...</td>\n",
       "      <td>0.0368</td>\n",
       "      <td>0.0179</td>\n",
       "      <td>0.0100</td>\n",
       "      <td>0.2607</td>\n",
       "      <td>1</td>\n",
       "      <td>0.3460</td>\n",
       "      <td>0.5214</td>\n",
       "      <td>0.2422</td>\n",
       "      <td>39700</td>\n",
       "      <td>21941.5</td>\n",
       "    </tr>\n",
       "    <tr>\n",
       "      <td>2</td>\n",
       "      <td>Amridge University</td>\n",
       "      <td>Montgomery</td>\n",
       "      <td>AL</td>\n",
       "      <td>0.0</td>\n",
       "      <td>0.0</td>\n",
       "      <td>0.0</td>\n",
       "      <td>1</td>\n",
       "      <td>NaN</td>\n",
       "      <td>NaN</td>\n",
       "      <td>1.0</td>\n",
       "      <td>...</td>\n",
       "      <td>0.0000</td>\n",
       "      <td>0.0000</td>\n",
       "      <td>0.2715</td>\n",
       "      <td>0.4536</td>\n",
       "      <td>1</td>\n",
       "      <td>0.6801</td>\n",
       "      <td>0.7795</td>\n",
       "      <td>0.8540</td>\n",
       "      <td>40100</td>\n",
       "      <td>23370</td>\n",
       "    </tr>\n",
       "    <tr>\n",
       "      <td>3</td>\n",
       "      <td>University of Alabama in Huntsville</td>\n",
       "      <td>Huntsville</td>\n",
       "      <td>AL</td>\n",
       "      <td>0.0</td>\n",
       "      <td>0.0</td>\n",
       "      <td>0.0</td>\n",
       "      <td>0</td>\n",
       "      <td>595.0</td>\n",
       "      <td>590.0</td>\n",
       "      <td>0.0</td>\n",
       "      <td>...</td>\n",
       "      <td>0.0172</td>\n",
       "      <td>0.0332</td>\n",
       "      <td>0.0350</td>\n",
       "      <td>0.2146</td>\n",
       "      <td>1</td>\n",
       "      <td>0.3072</td>\n",
       "      <td>0.4596</td>\n",
       "      <td>0.2640</td>\n",
       "      <td>45500</td>\n",
       "      <td>24097</td>\n",
       "    </tr>\n",
       "    <tr>\n",
       "      <td>4</td>\n",
       "      <td>Alabama State University</td>\n",
       "      <td>Montgomery</td>\n",
       "      <td>AL</td>\n",
       "      <td>1.0</td>\n",
       "      <td>0.0</td>\n",
       "      <td>0.0</td>\n",
       "      <td>0</td>\n",
       "      <td>425.0</td>\n",
       "      <td>430.0</td>\n",
       "      <td>0.0</td>\n",
       "      <td>...</td>\n",
       "      <td>0.0098</td>\n",
       "      <td>0.0243</td>\n",
       "      <td>0.0137</td>\n",
       "      <td>0.0892</td>\n",
       "      <td>1</td>\n",
       "      <td>0.7347</td>\n",
       "      <td>0.7554</td>\n",
       "      <td>0.1270</td>\n",
       "      <td>26600</td>\n",
       "      <td>33118.5</td>\n",
       "    </tr>\n",
       "  </tbody>\n",
       "</table>\n",
       "<p>5 rows × 27 columns</p>\n",
       "</div>"
      ],
      "text/plain": [
       "                                INSTNM        CITY STABBR  HBCU  MENONLY  \\\n",
       "0             Alabama A & M University      Normal     AL   1.0      0.0   \n",
       "1  University of Alabama at Birmingham  Birmingham     AL   0.0      0.0   \n",
       "2                   Amridge University  Montgomery     AL   0.0      0.0   \n",
       "3  University of Alabama in Huntsville  Huntsville     AL   0.0      0.0   \n",
       "4             Alabama State University  Montgomery     AL   1.0      0.0   \n",
       "\n",
       "   WOMENONLY  RELAFFIL  SATVRMID  SATMTMID  DISTANCEONLY  ...  UGDS_2MOR  \\\n",
       "0        0.0         0     424.0     420.0           0.0  ...     0.0000   \n",
       "1        0.0         0     570.0     565.0           0.0  ...     0.0368   \n",
       "2        0.0         1       NaN       NaN           1.0  ...     0.0000   \n",
       "3        0.0         0     595.0     590.0           0.0  ...     0.0172   \n",
       "4        0.0         0     425.0     430.0           0.0  ...     0.0098   \n",
       "\n",
       "   UGDS_NRA  UGDS_UNKN  PPTUG_EF  CURROPER  PCTPELL  PCTFLOAN  UG25ABV  \\\n",
       "0    0.0059     0.0138    0.0656         1   0.7356    0.8284   0.1049   \n",
       "1    0.0179     0.0100    0.2607         1   0.3460    0.5214   0.2422   \n",
       "2    0.0000     0.2715    0.4536         1   0.6801    0.7795   0.8540   \n",
       "3    0.0332     0.0350    0.2146         1   0.3072    0.4596   0.2640   \n",
       "4    0.0243     0.0137    0.0892         1   0.7347    0.7554   0.1270   \n",
       "\n",
       "   MD_EARN_WNE_P10  GRAD_DEBT_MDN_SUPP  \n",
       "0            30300               33888  \n",
       "1            39700             21941.5  \n",
       "2            40100               23370  \n",
       "3            45500               24097  \n",
       "4            26600             33118.5  \n",
       "\n",
       "[5 rows x 27 columns]"
      ]
     },
     "execution_count": 6,
     "metadata": {},
     "output_type": "execute_result"
    }
   ],
   "source": [
    "college = pd.read_csv(\"Data/college.csv\")\n",
    "college.head()"
   ]
  },
  {
   "cell_type": "code",
   "execution_count": 100,
   "metadata": {},
   "outputs": [
    {
     "name": "stdout",
     "output_type": "stream",
     "text": [
      "<class 'pandas.core.frame.DataFrame'>\n",
      "RangeIndex: 7535 entries, 0 to 7534\n",
      "Data columns (total 27 columns):\n",
      "INSTNM                7535 non-null object\n",
      "CITY                  7535 non-null object\n",
      "STABBR                7535 non-null object\n",
      "HBCU                  7164 non-null float64\n",
      "MENONLY               7164 non-null float64\n",
      "WOMENONLY             7164 non-null float64\n",
      "RELAFFIL              7535 non-null int64\n",
      "SATVRMID              1185 non-null float64\n",
      "SATMTMID              1196 non-null float64\n",
      "DISTANCEONLY          7164 non-null float64\n",
      "UGDS                  6874 non-null float64\n",
      "UGDS_WHITE            6874 non-null float64\n",
      "UGDS_BLACK            6874 non-null float64\n",
      "UGDS_HISP             6874 non-null float64\n",
      "UGDS_ASIAN            6874 non-null float64\n",
      "UGDS_AIAN             6874 non-null float64\n",
      "UGDS_NHPI             6874 non-null float64\n",
      "UGDS_2MOR             6874 non-null float64\n",
      "UGDS_NRA              6874 non-null float64\n",
      "UGDS_UNKN             6874 non-null float64\n",
      "PPTUG_EF              6853 non-null float64\n",
      "CURROPER              7535 non-null int64\n",
      "PCTPELL               6849 non-null float64\n",
      "PCTFLOAN              6849 non-null float64\n",
      "UG25ABV               6718 non-null float64\n",
      "MD_EARN_WNE_P10       6413 non-null object\n",
      "GRAD_DEBT_MDN_SUPP    7503 non-null object\n",
      "dtypes: float64(20), int64(2), object(5)\n",
      "memory usage: 1.6+ MB\n"
     ]
    }
   ],
   "source": [
    "college.info()"
   ]
  },
  {
   "cell_type": "code",
   "execution_count": 101,
   "metadata": {},
   "outputs": [
    {
     "data": {
      "text/html": [
       "<div>\n",
       "<style scoped>\n",
       "    .dataframe tbody tr th:only-of-type {\n",
       "        vertical-align: middle;\n",
       "    }\n",
       "\n",
       "    .dataframe tbody tr th {\n",
       "        vertical-align: top;\n",
       "    }\n",
       "\n",
       "    .dataframe thead th {\n",
       "        text-align: right;\n",
       "    }\n",
       "</style>\n",
       "<table border=\"1\" class=\"dataframe\">\n",
       "  <thead>\n",
       "    <tr style=\"text-align: right;\">\n",
       "      <th></th>\n",
       "      <th>HBCU</th>\n",
       "      <th>MENONLY</th>\n",
       "      <th>WOMENONLY</th>\n",
       "      <th>RELAFFIL</th>\n",
       "      <th>SATVRMID</th>\n",
       "      <th>SATMTMID</th>\n",
       "      <th>DISTANCEONLY</th>\n",
       "      <th>UGDS</th>\n",
       "      <th>UGDS_WHITE</th>\n",
       "      <th>UGDS_BLACK</th>\n",
       "      <th>...</th>\n",
       "      <th>UGDS_AIAN</th>\n",
       "      <th>UGDS_NHPI</th>\n",
       "      <th>UGDS_2MOR</th>\n",
       "      <th>UGDS_NRA</th>\n",
       "      <th>UGDS_UNKN</th>\n",
       "      <th>PPTUG_EF</th>\n",
       "      <th>CURROPER</th>\n",
       "      <th>PCTPELL</th>\n",
       "      <th>PCTFLOAN</th>\n",
       "      <th>UG25ABV</th>\n",
       "    </tr>\n",
       "  </thead>\n",
       "  <tbody>\n",
       "    <tr>\n",
       "      <th>count</th>\n",
       "      <td>7164.000000</td>\n",
       "      <td>7164.000000</td>\n",
       "      <td>7164.000000</td>\n",
       "      <td>7535.000000</td>\n",
       "      <td>1185.000000</td>\n",
       "      <td>1196.000000</td>\n",
       "      <td>7164.000000</td>\n",
       "      <td>6874.000000</td>\n",
       "      <td>6874.000000</td>\n",
       "      <td>6874.000000</td>\n",
       "      <td>...</td>\n",
       "      <td>6874.000000</td>\n",
       "      <td>6874.000000</td>\n",
       "      <td>6874.000000</td>\n",
       "      <td>6874.000000</td>\n",
       "      <td>6874.000000</td>\n",
       "      <td>6853.000000</td>\n",
       "      <td>7535.000000</td>\n",
       "      <td>6849.000000</td>\n",
       "      <td>6849.000000</td>\n",
       "      <td>6718.000000</td>\n",
       "    </tr>\n",
       "    <tr>\n",
       "      <th>mean</th>\n",
       "      <td>0.014238</td>\n",
       "      <td>0.009213</td>\n",
       "      <td>0.005304</td>\n",
       "      <td>0.190975</td>\n",
       "      <td>522.819409</td>\n",
       "      <td>530.765050</td>\n",
       "      <td>0.005583</td>\n",
       "      <td>2356.837940</td>\n",
       "      <td>0.510207</td>\n",
       "      <td>0.189997</td>\n",
       "      <td>...</td>\n",
       "      <td>0.013813</td>\n",
       "      <td>0.004569</td>\n",
       "      <td>0.023950</td>\n",
       "      <td>0.016086</td>\n",
       "      <td>0.045181</td>\n",
       "      <td>0.226639</td>\n",
       "      <td>0.923291</td>\n",
       "      <td>0.530643</td>\n",
       "      <td>0.522211</td>\n",
       "      <td>0.410021</td>\n",
       "    </tr>\n",
       "    <tr>\n",
       "      <th>std</th>\n",
       "      <td>0.118478</td>\n",
       "      <td>0.095546</td>\n",
       "      <td>0.072642</td>\n",
       "      <td>0.393096</td>\n",
       "      <td>68.578862</td>\n",
       "      <td>73.469767</td>\n",
       "      <td>0.074519</td>\n",
       "      <td>5474.275871</td>\n",
       "      <td>0.286958</td>\n",
       "      <td>0.224587</td>\n",
       "      <td>...</td>\n",
       "      <td>0.070196</td>\n",
       "      <td>0.033125</td>\n",
       "      <td>0.031288</td>\n",
       "      <td>0.050172</td>\n",
       "      <td>0.093440</td>\n",
       "      <td>0.246470</td>\n",
       "      <td>0.266146</td>\n",
       "      <td>0.225544</td>\n",
       "      <td>0.283616</td>\n",
       "      <td>0.228939</td>\n",
       "    </tr>\n",
       "    <tr>\n",
       "      <th>min</th>\n",
       "      <td>0.000000</td>\n",
       "      <td>0.000000</td>\n",
       "      <td>0.000000</td>\n",
       "      <td>0.000000</td>\n",
       "      <td>290.000000</td>\n",
       "      <td>310.000000</td>\n",
       "      <td>0.000000</td>\n",
       "      <td>0.000000</td>\n",
       "      <td>0.000000</td>\n",
       "      <td>0.000000</td>\n",
       "      <td>...</td>\n",
       "      <td>0.000000</td>\n",
       "      <td>0.000000</td>\n",
       "      <td>0.000000</td>\n",
       "      <td>0.000000</td>\n",
       "      <td>0.000000</td>\n",
       "      <td>0.000000</td>\n",
       "      <td>0.000000</td>\n",
       "      <td>0.000000</td>\n",
       "      <td>0.000000</td>\n",
       "      <td>0.000000</td>\n",
       "    </tr>\n",
       "    <tr>\n",
       "      <th>25%</th>\n",
       "      <td>0.000000</td>\n",
       "      <td>0.000000</td>\n",
       "      <td>0.000000</td>\n",
       "      <td>0.000000</td>\n",
       "      <td>475.000000</td>\n",
       "      <td>482.000000</td>\n",
       "      <td>0.000000</td>\n",
       "      <td>117.000000</td>\n",
       "      <td>0.267500</td>\n",
       "      <td>0.036125</td>\n",
       "      <td>...</td>\n",
       "      <td>0.000000</td>\n",
       "      <td>0.000000</td>\n",
       "      <td>0.000000</td>\n",
       "      <td>0.000000</td>\n",
       "      <td>0.000000</td>\n",
       "      <td>0.000000</td>\n",
       "      <td>1.000000</td>\n",
       "      <td>0.357800</td>\n",
       "      <td>0.332900</td>\n",
       "      <td>0.241500</td>\n",
       "    </tr>\n",
       "    <tr>\n",
       "      <th>50%</th>\n",
       "      <td>0.000000</td>\n",
       "      <td>0.000000</td>\n",
       "      <td>0.000000</td>\n",
       "      <td>0.000000</td>\n",
       "      <td>510.000000</td>\n",
       "      <td>520.000000</td>\n",
       "      <td>0.000000</td>\n",
       "      <td>412.500000</td>\n",
       "      <td>0.555700</td>\n",
       "      <td>0.100050</td>\n",
       "      <td>...</td>\n",
       "      <td>0.002600</td>\n",
       "      <td>0.000000</td>\n",
       "      <td>0.017500</td>\n",
       "      <td>0.000000</td>\n",
       "      <td>0.014300</td>\n",
       "      <td>0.150400</td>\n",
       "      <td>1.000000</td>\n",
       "      <td>0.521500</td>\n",
       "      <td>0.583300</td>\n",
       "      <td>0.400750</td>\n",
       "    </tr>\n",
       "    <tr>\n",
       "      <th>75%</th>\n",
       "      <td>0.000000</td>\n",
       "      <td>0.000000</td>\n",
       "      <td>0.000000</td>\n",
       "      <td>0.000000</td>\n",
       "      <td>555.000000</td>\n",
       "      <td>565.000000</td>\n",
       "      <td>0.000000</td>\n",
       "      <td>1929.500000</td>\n",
       "      <td>0.747875</td>\n",
       "      <td>0.257700</td>\n",
       "      <td>...</td>\n",
       "      <td>0.007300</td>\n",
       "      <td>0.002500</td>\n",
       "      <td>0.033900</td>\n",
       "      <td>0.011700</td>\n",
       "      <td>0.045400</td>\n",
       "      <td>0.376900</td>\n",
       "      <td>1.000000</td>\n",
       "      <td>0.712900</td>\n",
       "      <td>0.745000</td>\n",
       "      <td>0.572275</td>\n",
       "    </tr>\n",
       "    <tr>\n",
       "      <th>max</th>\n",
       "      <td>1.000000</td>\n",
       "      <td>1.000000</td>\n",
       "      <td>1.000000</td>\n",
       "      <td>1.000000</td>\n",
       "      <td>765.000000</td>\n",
       "      <td>785.000000</td>\n",
       "      <td>1.000000</td>\n",
       "      <td>151558.000000</td>\n",
       "      <td>1.000000</td>\n",
       "      <td>1.000000</td>\n",
       "      <td>...</td>\n",
       "      <td>1.000000</td>\n",
       "      <td>0.998300</td>\n",
       "      <td>0.533300</td>\n",
       "      <td>0.928600</td>\n",
       "      <td>0.902700</td>\n",
       "      <td>1.000000</td>\n",
       "      <td>1.000000</td>\n",
       "      <td>1.000000</td>\n",
       "      <td>1.000000</td>\n",
       "      <td>1.000000</td>\n",
       "    </tr>\n",
       "  </tbody>\n",
       "</table>\n",
       "<p>8 rows × 22 columns</p>\n",
       "</div>"
      ],
      "text/plain": [
       "              HBCU      MENONLY    WOMENONLY     RELAFFIL     SATVRMID  \\\n",
       "count  7164.000000  7164.000000  7164.000000  7535.000000  1185.000000   \n",
       "mean      0.014238     0.009213     0.005304     0.190975   522.819409   \n",
       "std       0.118478     0.095546     0.072642     0.393096    68.578862   \n",
       "min       0.000000     0.000000     0.000000     0.000000   290.000000   \n",
       "25%       0.000000     0.000000     0.000000     0.000000   475.000000   \n",
       "50%       0.000000     0.000000     0.000000     0.000000   510.000000   \n",
       "75%       0.000000     0.000000     0.000000     0.000000   555.000000   \n",
       "max       1.000000     1.000000     1.000000     1.000000   765.000000   \n",
       "\n",
       "          SATMTMID  DISTANCEONLY           UGDS   UGDS_WHITE   UGDS_BLACK  \\\n",
       "count  1196.000000   7164.000000    6874.000000  6874.000000  6874.000000   \n",
       "mean    530.765050      0.005583    2356.837940     0.510207     0.189997   \n",
       "std      73.469767      0.074519    5474.275871     0.286958     0.224587   \n",
       "min     310.000000      0.000000       0.000000     0.000000     0.000000   \n",
       "25%     482.000000      0.000000     117.000000     0.267500     0.036125   \n",
       "50%     520.000000      0.000000     412.500000     0.555700     0.100050   \n",
       "75%     565.000000      0.000000    1929.500000     0.747875     0.257700   \n",
       "max     785.000000      1.000000  151558.000000     1.000000     1.000000   \n",
       "\n",
       "       ...    UGDS_AIAN    UGDS_NHPI    UGDS_2MOR     UGDS_NRA    UGDS_UNKN  \\\n",
       "count  ...  6874.000000  6874.000000  6874.000000  6874.000000  6874.000000   \n",
       "mean   ...     0.013813     0.004569     0.023950     0.016086     0.045181   \n",
       "std    ...     0.070196     0.033125     0.031288     0.050172     0.093440   \n",
       "min    ...     0.000000     0.000000     0.000000     0.000000     0.000000   \n",
       "25%    ...     0.000000     0.000000     0.000000     0.000000     0.000000   \n",
       "50%    ...     0.002600     0.000000     0.017500     0.000000     0.014300   \n",
       "75%    ...     0.007300     0.002500     0.033900     0.011700     0.045400   \n",
       "max    ...     1.000000     0.998300     0.533300     0.928600     0.902700   \n",
       "\n",
       "          PPTUG_EF     CURROPER      PCTPELL     PCTFLOAN      UG25ABV  \n",
       "count  6853.000000  7535.000000  6849.000000  6849.000000  6718.000000  \n",
       "mean      0.226639     0.923291     0.530643     0.522211     0.410021  \n",
       "std       0.246470     0.266146     0.225544     0.283616     0.228939  \n",
       "min       0.000000     0.000000     0.000000     0.000000     0.000000  \n",
       "25%       0.000000     1.000000     0.357800     0.332900     0.241500  \n",
       "50%       0.150400     1.000000     0.521500     0.583300     0.400750  \n",
       "75%       0.376900     1.000000     0.712900     0.745000     0.572275  \n",
       "max       1.000000     1.000000     1.000000     1.000000     1.000000  \n",
       "\n",
       "[8 rows x 22 columns]"
      ]
     },
     "execution_count": 101,
     "metadata": {},
     "output_type": "execute_result"
    }
   ],
   "source": [
    "college.describe()"
   ]
  },
  {
   "cell_type": "code",
   "execution_count": 111,
   "metadata": {},
   "outputs": [],
   "source": [
    "cs = college[\"CITY\"].value_counts()"
   ]
  },
  {
   "cell_type": "code",
   "execution_count": 112,
   "metadata": {},
   "outputs": [
    {
     "data": {
      "text/plain": [
       "pandas.core.series.Series"
      ]
     },
     "execution_count": 112,
     "metadata": {},
     "output_type": "execute_result"
    }
   ],
   "source": [
    "type(cs)"
   ]
  },
  {
   "cell_type": "code",
   "execution_count": 116,
   "metadata": {},
   "outputs": [
    {
     "data": {
      "text/plain": [
       "(2514,)"
      ]
     },
     "execution_count": 116,
     "metadata": {},
     "output_type": "execute_result"
    }
   ],
   "source": [
    "cs.shape"
   ]
  },
  {
   "cell_type": "code",
   "execution_count": 118,
   "metadata": {},
   "outputs": [],
   "source": [
    "college = college.dropna()"
   ]
  },
  {
   "cell_type": "code",
   "execution_count": 122,
   "metadata": {},
   "outputs": [],
   "source": [
    "collegeslice = college[[\"INSTNM\", \"CITY\", \"SATVRMID\", \"GRAD_DEBT_MDN_SUPP\"]]"
   ]
  },
  {
   "cell_type": "code",
   "execution_count": 123,
   "metadata": {},
   "outputs": [
    {
     "name": "stderr",
     "output_type": "stream",
     "text": [
      "/anaconda3/envs/turi3/lib/python3.6/site-packages/ipykernel_launcher.py:4: SettingWithCopyWarning: \n",
      "A value is trying to be set on a copy of a slice from a DataFrame.\n",
      "Try using .loc[row_indexer,col_indexer] = value instead\n",
      "\n",
      "See the caveats in the documentation: http://pandas.pydata.org/pandas-docs/stable/indexing.html#indexing-view-versus-copy\n",
      "  after removing the cwd from sys.path.\n"
     ]
    }
   ],
   "source": [
    "satbins = [290,400,600,700,800]\n",
    "satlabels = [\"Poor\", \"OK\", \"Good\", \"Excellent\"]\n",
    "\n",
    "collegeslice[\"Comments\"] = pd.cut(college[\"SATVRMID\"], bins= satbins, labels = satlabels)"
   ]
  },
  {
   "cell_type": "code",
   "execution_count": 124,
   "metadata": {},
   "outputs": [
    {
     "data": {
      "text/html": [
       "<div>\n",
       "<style scoped>\n",
       "    .dataframe tbody tr th:only-of-type {\n",
       "        vertical-align: middle;\n",
       "    }\n",
       "\n",
       "    .dataframe tbody tr th {\n",
       "        vertical-align: top;\n",
       "    }\n",
       "\n",
       "    .dataframe thead th {\n",
       "        text-align: right;\n",
       "    }\n",
       "</style>\n",
       "<table border=\"1\" class=\"dataframe\">\n",
       "  <thead>\n",
       "    <tr style=\"text-align: right;\">\n",
       "      <th></th>\n",
       "      <th>INSTNM</th>\n",
       "      <th>CITY</th>\n",
       "      <th>SATVRMID</th>\n",
       "      <th>GRAD_DEBT_MDN_SUPP</th>\n",
       "      <th>Comments</th>\n",
       "    </tr>\n",
       "  </thead>\n",
       "  <tbody>\n",
       "    <tr>\n",
       "      <th>0</th>\n",
       "      <td>Alabama A &amp; M University</td>\n",
       "      <td>Normal</td>\n",
       "      <td>424.0</td>\n",
       "      <td>33888</td>\n",
       "      <td>OK</td>\n",
       "    </tr>\n",
       "    <tr>\n",
       "      <th>1</th>\n",
       "      <td>University of Alabama at Birmingham</td>\n",
       "      <td>Birmingham</td>\n",
       "      <td>570.0</td>\n",
       "      <td>21941.5</td>\n",
       "      <td>OK</td>\n",
       "    </tr>\n",
       "    <tr>\n",
       "      <th>3</th>\n",
       "      <td>University of Alabama in Huntsville</td>\n",
       "      <td>Huntsville</td>\n",
       "      <td>595.0</td>\n",
       "      <td>24097</td>\n",
       "      <td>OK</td>\n",
       "    </tr>\n",
       "    <tr>\n",
       "      <th>4</th>\n",
       "      <td>Alabama State University</td>\n",
       "      <td>Montgomery</td>\n",
       "      <td>425.0</td>\n",
       "      <td>33118.5</td>\n",
       "      <td>OK</td>\n",
       "    </tr>\n",
       "    <tr>\n",
       "      <th>5</th>\n",
       "      <td>The University of Alabama</td>\n",
       "      <td>Tuscaloosa</td>\n",
       "      <td>555.0</td>\n",
       "      <td>23750</td>\n",
       "      <td>OK</td>\n",
       "    </tr>\n",
       "  </tbody>\n",
       "</table>\n",
       "</div>"
      ],
      "text/plain": [
       "                                INSTNM        CITY  SATVRMID  \\\n",
       "0             Alabama A & M University      Normal     424.0   \n",
       "1  University of Alabama at Birmingham  Birmingham     570.0   \n",
       "3  University of Alabama in Huntsville  Huntsville     595.0   \n",
       "4             Alabama State University  Montgomery     425.0   \n",
       "5            The University of Alabama  Tuscaloosa     555.0   \n",
       "\n",
       "  GRAD_DEBT_MDN_SUPP Comments  \n",
       "0              33888       OK  \n",
       "1            21941.5       OK  \n",
       "3              24097       OK  \n",
       "4            33118.5       OK  \n",
       "5              23750       OK  "
      ]
     },
     "execution_count": 124,
     "metadata": {},
     "output_type": "execute_result"
    }
   ],
   "source": [
    "collegeslice.head()"
   ]
  },
  {
   "cell_type": "code",
   "execution_count": 128,
   "metadata": {},
   "outputs": [
    {
     "data": {
      "text/plain": [
       "<matplotlib.axes._subplots.AxesSubplot at 0x11b3140f0>"
      ]
     },
     "execution_count": 128,
     "metadata": {},
     "output_type": "execute_result"
    },
    {
     "data": {
      "image/png": "[encoded data removed]",
      "text/plain": [
       "<Figure size 432x288 with 1 Axes>"
      ]
     },
     "metadata": {
      "needs_background": "light"
     },
     "output_type": "display_data"
    }
   ],
   "source": [
    "college.groupby(by=\"INSTNM\").mean()[\"SATVRMID\"].plot(kind=\"bar\")"
   ]
  },
  {
   "cell_type": "code",
   "execution_count": 135,
   "metadata": {},
   "outputs": [
    {
     "data": {
      "text/plain": [
       "<matplotlib.axes._subplots.AxesSubplot at 0x11cee1860>"
      ]
     },
     "execution_count": 135,
     "metadata": {},
     "output_type": "execute_result"
    },
    {
     "data": {
      "image/png": "[encoded data removed]",
      "text/plain": [
       "<Figure size 432x288 with 1 Axes>"
      ]
     },
     "metadata": {
      "needs_background": "light"
     },
     "output_type": "display_data"
    }
   ],
   "source": [
    "collegeslice.groupby(by=\"Comments\").mean().plot(kind=\"bar\")"
   ]
  },
  {
   "cell_type": "code",
   "execution_count": 138,
   "metadata": {},
   "outputs": [
    {
     "name": "stderr",
     "output_type": "stream",
     "text": [
      "/anaconda3/envs/turi3/lib/python3.6/site-packages/ipykernel_launcher.py:4: SettingWithCopyWarning: \n",
      "A value is trying to be set on a copy of a slice from a DataFrame.\n",
      "Try using .loc[row_indexer,col_indexer] = value instead\n",
      "\n",
      "See the caveats in the documentation: http://pandas.pydata.org/pandas-docs/stable/indexing.html#indexing-view-versus-copy\n",
      "  after removing the cwd from sys.path.\n"
     ]
    },
    {
     "data": {
      "text/html": [
       "<div>\n",
       "<style scoped>\n",
       "    .dataframe tbody tr th:only-of-type {\n",
       "        vertical-align: middle;\n",
       "    }\n",
       "\n",
       "    .dataframe tbody tr th {\n",
       "        vertical-align: top;\n",
       "    }\n",
       "\n",
       "    .dataframe thead th {\n",
       "        text-align: right;\n",
       "    }\n",
       "</style>\n",
       "<table border=\"1\" class=\"dataframe\">\n",
       "  <thead>\n",
       "    <tr style=\"text-align: right;\">\n",
       "      <th></th>\n",
       "      <th>INSTNM</th>\n",
       "      <th>CITY</th>\n",
       "      <th>SATVRMID</th>\n",
       "      <th>GRAD_DEBT_MDN_SUPP</th>\n",
       "      <th>Comments</th>\n",
       "      <th>Decision</th>\n",
       "    </tr>\n",
       "  </thead>\n",
       "  <tbody>\n",
       "    <tr>\n",
       "      <th>0</th>\n",
       "      <td>Alabama A &amp; M University</td>\n",
       "      <td>Normal</td>\n",
       "      <td>424.0</td>\n",
       "      <td>33888</td>\n",
       "      <td>OK</td>\n",
       "      <td>In</td>\n",
       "    </tr>\n",
       "    <tr>\n",
       "      <th>1</th>\n",
       "      <td>University of Alabama at Birmingham</td>\n",
       "      <td>Birmingham</td>\n",
       "      <td>570.0</td>\n",
       "      <td>21941.5</td>\n",
       "      <td>OK</td>\n",
       "      <td>In</td>\n",
       "    </tr>\n",
       "    <tr>\n",
       "      <th>3</th>\n",
       "      <td>University of Alabama in Huntsville</td>\n",
       "      <td>Huntsville</td>\n",
       "      <td>595.0</td>\n",
       "      <td>24097</td>\n",
       "      <td>OK</td>\n",
       "      <td>In</td>\n",
       "    </tr>\n",
       "    <tr>\n",
       "      <th>4</th>\n",
       "      <td>Alabama State University</td>\n",
       "      <td>Montgomery</td>\n",
       "      <td>425.0</td>\n",
       "      <td>33118.5</td>\n",
       "      <td>OK</td>\n",
       "      <td>In</td>\n",
       "    </tr>\n",
       "    <tr>\n",
       "      <th>5</th>\n",
       "      <td>The University of Alabama</td>\n",
       "      <td>Tuscaloosa</td>\n",
       "      <td>555.0</td>\n",
       "      <td>23750</td>\n",
       "      <td>OK</td>\n",
       "      <td>In</td>\n",
       "    </tr>\n",
       "  </tbody>\n",
       "</table>\n",
       "</div>"
      ],
      "text/plain": [
       "                                INSTNM        CITY  SATVRMID  \\\n",
       "0             Alabama A & M University      Normal     424.0   \n",
       "1  University of Alabama at Birmingham  Birmingham     570.0   \n",
       "3  University of Alabama in Huntsville  Huntsville     595.0   \n",
       "4             Alabama State University  Montgomery     425.0   \n",
       "5            The University of Alabama  Tuscaloosa     555.0   \n",
       "\n",
       "  GRAD_DEBT_MDN_SUPP Comments Decision  \n",
       "0              33888       OK       In  \n",
       "1            21941.5       OK       In  \n",
       "3              24097       OK       In  \n",
       "4            33118.5       OK       In  \n",
       "5              23750       OK       In  "
      ]
     },
     "execution_count": 138,
     "metadata": {},
     "output_type": "execute_result"
    }
   ],
   "source": [
    "newbins = [300, 600, 1000]\n",
    "labels = [\"In\", \"Out\"]\n",
    "\n",
    "collegeslice[\"Decision\"] = pd.cut(collegeslice[\"SATVRMID\"], bins=newbins, labels = labels)\n",
    "collegeslice.head()"
   ]
  },
  {
   "cell_type": "code",
   "execution_count": 148,
   "metadata": {},
   "outputs": [
    {
     "data": {
      "text/plain": [
       "<matplotlib.axes._subplots.AxesSubplot at 0x11d61cda0>"
      ]
     },
     "execution_count": 148,
     "metadata": {},
     "output_type": "execute_result"
    },
    {
     "data": {
      "image/png": "[encoded data removed]",
      "text/plain": [
       "<Figure size 432x288 with 1 Axes>"
      ]
     },
     "metadata": {
      "needs_background": "light"
     },
     "output_type": "display_data"
    }
   ],
   "source": [
    "collegeslice.groupby(by=\"Decision\")[\"SATVRMID\"].count().plot(kind=\"bar\")"
   ]
  },
  {
   "cell_type": "code",
   "execution_count": 151,
   "metadata": {},
   "outputs": [
    {
     "data": {
      "text/plain": [
       "<matplotlib.axes._subplots.AxesSubplot at 0x11d6c66a0>"
      ]
     },
     "execution_count": 151,
     "metadata": {},
     "output_type": "execute_result"
    },
    {
     "data": {
      "image/png": "[encoded data removed]",
      "text/plain": [
       "<Figure size 432x288 with 1 Axes>"
      ]
     },
     "metadata": {
      "needs_background": "light"
     },
     "output_type": "display_data"
    }
   ],
   "source": [
    "collegeslice[\"Decision\"].value_counts().plot(kind='bar')"
   ]
  },
  {
   "cell_type": "code",
   "execution_count": 157,
   "metadata": {},
   "outputs": [
    {
     "data": {
      "text/plain": [
       "<matplotlib.axes._subplots.AxesSubplot at 0x11f310470>"
      ]
     },
     "execution_count": 157,
     "metadata": {},
     "output_type": "execute_result"
    },
    {
     "data": {
      "image/png": "[encoded data removed]",
      "text/plain": [
       "<Figure size 432x288 with 1 Axes>"
      ]
     },
     "metadata": {
      "needs_background": "light"
     },
     "output_type": "display_data"
    }
   ],
   "source": [
    "collegeslice[\"SATVRMID\"].value_counts(bins=5).plot(kind=\"bar\")"
   ]
  },
  {
   "cell_type": "code",
   "execution_count": 162,
   "metadata": {},
   "outputs": [
    {
     "data": {
      "text/plain": [
       "In     1040\n",
       "Out     130\n",
       "Name: Decision, dtype: int64"
      ]
     },
     "execution_count": 162,
     "metadata": {},
     "output_type": "execute_result"
    }
   ],
   "source": [
    "collegeslice[\"Decision\"].value_counts()"
   ]
  },
  {
   "cell_type": "code",
   "execution_count": null,
   "metadata": {},
   "outputs": [],
   "source": []
  }
 ],
 "metadata": {
  "kernelspec": {
   "display_name": "Python 3",
   "language": "python",
   "name": "python3"
  },
  "language_info": {
   "codemirror_mode": {
    "name": "ipython",
    "version": 3
   },
   "file_extension": ".py",
   "mimetype": "text/x-python",
   "name": "python",
   "nbconvert_exporter": "python",
   "pygments_lexer": "ipython3",
   "version": "3.6.7"
  }
 },
 "nbformat": 4,
 "nbformat_minor": 4
}
