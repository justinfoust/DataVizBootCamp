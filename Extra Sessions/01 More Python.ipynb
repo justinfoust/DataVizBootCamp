{
 "cells": [
  {
   "cell_type": "markdown",
   "metadata": {},
   "source": [
    "# Extra Content"
   ]
  },
  {
   "cell_type": "code",
   "execution_count": 1,
   "metadata": {},
   "outputs": [],
   "source": [
    "import pandas as pd\n",
    "import numpy as np"
   ]
  },
  {
   "cell_type": "markdown",
   "metadata": {},
   "source": [
    "# Python: One More Data Structure  \n",
    "\n",
    "## Collections Data Structures (standard):\n",
    "\n",
    "\n",
    "Data Structure| Desc\n",
    "----|------|\n",
    "Lists| Heterogeneous **ordered** sequence of elements|\n",
    "Tuples|Heterogeneous **Immutable ordered** sequence of elements\n",
    "Dictionaries| Unordered collection stored as **Key-Value** pair\n",
    "Set| Unordered collection of **unique** elements \n",
    "\n",
    "## Collections Data Structures (Additional):\n",
    "\n",
    "Data Structure| Desc\n",
    "----|------|\n",
    "Numpy Arrays| Homogeneous sequence of elements in N-dimensional (arrays, matrices operations)|\n",
    "Pandas Series| One dimensional **labeled** indexed array \n",
    "Pandas DataFrame| Multi-Index two-dimensional array (rows and columns)\n",
    "\n"
   ]
  },
  {
   "cell_type": "markdown",
   "metadata": {},
   "source": [
    "# Set - Unordered collections of unique elements"
   ]
  },
  {
   "cell_type": "markdown",
   "metadata": {},
   "source": [
    "Revisiting Lists"
   ]
  },
  {
   "cell_type": "code",
   "execution_count": 2,
   "metadata": {
    "scrolled": true
   },
   "outputs": [
    {
     "name": "stdout",
     "output_type": "stream",
     "text": [
      "Melvin Jack Smith Susan Samantha Mary Smith Melvin "
     ]
    }
   ],
   "source": [
    "# Example of a list\n",
    "names = [\"Melvin\", \"Jack\", \"Smith\", \"Susan\", \"Samantha\", \"Mary\", \"Smith\", \"Melvin\"]\n",
    "for person in names:\n",
    "    print(person, end=\" \")"
   ]
  },
  {
   "cell_type": "markdown",
   "metadata": {},
   "source": [
    "When we convert the `names` list to a `set` we notice that duplicate values are removed."
   ]
  },
  {
   "cell_type": "code",
   "execution_count": 3,
   "metadata": {},
   "outputs": [
    {
     "name": "stdout",
     "output_type": "stream",
     "text": [
      "{'Jack', 'Samantha', 'Melvin', 'Smith', 'Susan', 'Mary'}\n"
     ]
    }
   ],
   "source": [
    "# Convert a list to a set with set()\n",
    "name_set = set(names)\n",
    "print(name_set)"
   ]
  },
  {
   "cell_type": "markdown",
   "metadata": {},
   "source": [
    "#### More `set` examples\n",
    "Two lists `class_data` and `class_coding`. `class_data` has duplicate values/names."
   ]
  },
  {
   "cell_type": "code",
   "execution_count": 4,
   "metadata": {},
   "outputs": [
    {
     "name": "stdout",
     "output_type": "stream",
     "text": [
      "number of students in Class Data = 8\n",
      "number of students in Class Coding = 6\n"
     ]
    }
   ],
   "source": [
    "class_data = [\"Melvin\", \"Jack\", \"Smith\", \"Susan\", \"Samantha\", \"Mary\", \"Smith\", \"Melvin\"]\n",
    "class_coding = [\"Jack\", \"Smith\", \"Ali\", \"Anish\", \"Hilary\", \"Cesar\"]\n",
    "\n",
    "print(f\"number of students in Class Data = {len(class_data)}\\nnumber of students in Class Coding = {len(class_coding)}\")"
   ]
  },
  {
   "cell_type": "markdown",
   "metadata": {},
   "source": [
    "Casting the two lists to sets using `set()`"
   ]
  },
  {
   "cell_type": "code",
   "execution_count": 6,
   "metadata": {},
   "outputs": [
    {
     "name": "stdout",
     "output_type": "stream",
     "text": [
      "number of students in Class Data = 6\n",
      "number of students in Class Coding = 6\n"
     ]
    }
   ],
   "source": [
    "class_data = set(class_data)\n",
    "class_coding = set(class_coding)\n",
    "\n",
    "print(f\"number of students in Class Data = {len(class_data)}\\nnumber of students in Class Coding = {len(class_coding)}\")\n"
   ]
  },
  {
   "cell_type": "markdown",
   "metadata": {},
   "source": [
    "### Set Operations: `union`, `intersection` and `difference`"
   ]
  },
  {
   "cell_type": "code",
   "execution_count": 7,
   "metadata": {},
   "outputs": [
    {
     "data": {
      "text/plain": [
       "{'Ali',\n",
       " 'Anish',\n",
       " 'Cesar',\n",
       " 'Hilary',\n",
       " 'Jack',\n",
       " 'Mary',\n",
       " 'Melvin',\n",
       " 'Samantha',\n",
       " 'Smith',\n",
       " 'Susan'}"
      ]
     },
     "execution_count": 7,
     "metadata": {},
     "output_type": "execute_result"
    }
   ],
   "source": [
    "combine_uniqe = set.union(class_data, class_coding)\n",
    "combine_uniqe"
   ]
  },
  {
   "cell_type": "code",
   "execution_count": 8,
   "metadata": {},
   "outputs": [
    {
     "data": {
      "text/plain": [
       "{'Ali',\n",
       " 'Anish',\n",
       " 'Cesar',\n",
       " 'Hilary',\n",
       " 'Jack',\n",
       " 'Mary',\n",
       " 'Melvin',\n",
       " 'Samantha',\n",
       " 'Smith',\n",
       " 'Susan'}"
      ]
     },
     "execution_count": 8,
     "metadata": {},
     "output_type": "execute_result"
    }
   ],
   "source": [
    "class_data.union(class_coding)"
   ]
  },
  {
   "cell_type": "code",
   "execution_count": 9,
   "metadata": {},
   "outputs": [
    {
     "data": {
      "text/plain": [
       "{'Jack', 'Smith'}"
      ]
     },
     "execution_count": 9,
     "metadata": {},
     "output_type": "execute_result"
    }
   ],
   "source": [
    "class_intersection = set.intersection(class_data, class_coding)\n",
    "class_intersection"
   ]
  },
  {
   "cell_type": "code",
   "execution_count": 10,
   "metadata": {},
   "outputs": [
    {
     "data": {
      "text/plain": [
       "{'Jack', 'Smith'}"
      ]
     },
     "execution_count": 10,
     "metadata": {},
     "output_type": "execute_result"
    }
   ],
   "source": [
    "class_data.intersection(class_coding)"
   ]
  },
  {
   "cell_type": "code",
   "execution_count": 11,
   "metadata": {},
   "outputs": [
    {
     "data": {
      "text/plain": [
       "{'Mary', 'Melvin', 'Samantha', 'Susan'}"
      ]
     },
     "execution_count": 11,
     "metadata": {},
     "output_type": "execute_result"
    }
   ],
   "source": [
    "class_data.difference(class_coding)"
   ]
  },
  {
   "cell_type": "markdown",
   "metadata": {},
   "source": [
    "## Unpacking\n",
    "#### Examples"
   ]
  },
  {
   "cell_type": "code",
   "execution_count": 12,
   "metadata": {},
   "outputs": [
    {
     "name": "stdout",
     "output_type": "stream",
     "text": [
      "Jack\n",
      "Smith\n"
     ]
    }
   ],
   "source": [
    "# with Sets\n",
    "first_name, last_name = [\"Jack\", \"Smith\"]\n",
    "print(first_name)\n",
    "print(last_name)"
   ]
  },
  {
   "cell_type": "code",
   "execution_count": 13,
   "metadata": {},
   "outputs": [
    {
     "name": "stdout",
     "output_type": "stream",
     "text": [
      "Jack\n",
      "Smith\n"
     ]
    }
   ],
   "source": [
    "# with Tuples\n",
    "first_name, last_name = (\"Jack\", \"Smith\")\n",
    "print(first_name)\n",
    "print(last_name)"
   ]
  },
  {
   "cell_type": "code",
   "execution_count": 14,
   "metadata": {},
   "outputs": [
    {
     "data": {
      "text/plain": [
       "23"
      ]
     },
     "execution_count": 14,
     "metadata": {},
     "output_type": "execute_result"
    }
   ],
   "source": [
    "x, y = 23, 50\n",
    "x"
   ]
  },
  {
   "cell_type": "code",
   "execution_count": 15,
   "metadata": {},
   "outputs": [
    {
     "data": {
      "text/plain": [
       "23"
      ]
     },
     "execution_count": 15,
     "metadata": {},
     "output_type": "execute_result"
    }
   ],
   "source": [
    "grade, name = [23, \"smith\"]\n",
    "grade"
   ]
  },
  {
   "cell_type": "code",
   "execution_count": 19,
   "metadata": {},
   "outputs": [
    {
     "name": "stdout",
     "output_type": "stream",
     "text": [
      "0012 store had a total sale of $183\n"
     ]
    }
   ],
   "source": [
    "store, sales = [\"0012\", [23,45,6,19,90]]\n",
    "\n",
    "print(f\"{store} store had a total sale of ${sum(sales)}\")"
   ]
  },
  {
   "cell_type": "code",
   "execution_count": 20,
   "metadata": {},
   "outputs": [
    {
     "data": {
      "text/plain": [
       "12"
      ]
     },
     "execution_count": 20,
     "metadata": {},
     "output_type": "execute_result"
    }
   ],
   "source": [
    "def multiply(x,y):\n",
    "    \"\"\"\n",
    "    x: numeric value\n",
    "    y: numeric value\n",
    "    returns x * y\n",
    "    \"\"\"\n",
    "    return x*y\n",
    "\n",
    "multiply(3,4)"
   ]
  },
  {
   "cell_type": "markdown",
   "metadata": {},
   "source": [
    "The function `multiply` expects two variables (two paremeters) and if we pass it a list (one object) we will get an error."
   ]
  },
  {
   "cell_type": "code",
   "execution_count": 21,
   "metadata": {},
   "outputs": [
    {
     "ename": "TypeError",
     "evalue": "multiply() missing 1 required positional argument: 'y'",
     "output_type": "error",
     "traceback": [
      "\u001b[0;31m---------------------------------------------------------------------------\u001b[0m",
      "\u001b[0;31mTypeError\u001b[0m                                 Traceback (most recent call last)",
      "\u001b[0;32m<ipython-input-21-618d89852833>\u001b[0m in \u001b[0;36m<module>\u001b[0;34m\u001b[0m\n\u001b[0;32m----> 1\u001b[0;31m \u001b[0mmultiply\u001b[0m\u001b[0;34m(\u001b[0m\u001b[0;34m[\u001b[0m\u001b[0;36m5\u001b[0m\u001b[0;34m,\u001b[0m\u001b[0;36m6\u001b[0m\u001b[0;34m]\u001b[0m\u001b[0;34m)\u001b[0m\u001b[0;34m\u001b[0m\u001b[0;34m\u001b[0m\u001b[0m\n\u001b[0m",
      "\u001b[0;31mTypeError\u001b[0m: multiply() missing 1 required positional argument: 'y'"
     ]
    }
   ],
   "source": [
    "multiply([5,6])"
   ]
  },
  {
   "cell_type": "code",
   "execution_count": 22,
   "metadata": {},
   "outputs": [
    {
     "data": {
      "text/plain": [
       "30"
      ]
     },
     "execution_count": 22,
     "metadata": {},
     "output_type": "execute_result"
    }
   ],
   "source": [
    "multiply(*[5,6])"
   ]
  },
  {
   "cell_type": "markdown",
   "metadata": {},
   "source": [
    "**Note** using the `*` to unpack the list into it's component values. In this case the `multiply` function expects three arguemtns/objects to be passed, and using `*` will unpack the list into three values representing `x`, `y` and `z`"
   ]
  },
  {
   "cell_type": "code",
   "execution_count": 23,
   "metadata": {},
   "outputs": [
    {
     "data": {
      "text/plain": [
       "24"
      ]
     },
     "execution_count": 23,
     "metadata": {},
     "output_type": "execute_result"
    }
   ],
   "source": [
    "def multiply(x,y,z):\n",
    "    return x*y*z\n",
    "\n",
    "multiply(*[2,3,4])"
   ]
  },
  {
   "cell_type": "markdown",
   "metadata": {},
   "source": [
    "## `zip()` Function\n",
    "The `zip()` function returns a zip object, which is an iterator of tuples where the first item in each passed iterator is paired together, and then the second item in each passed iterator are paired together etc."
   ]
  },
  {
   "cell_type": "code",
   "execution_count": 31,
   "metadata": {},
   "outputs": [
    {
     "name": "stdout",
     "output_type": "stream",
     "text": [
      "[('James', 98, 'A+'), ('Smith', 100, 'A+'), ('Mark', 80, 'B-'), ('Mike', 79, 'C+'), ('Justing', 88, 'B+')]\n"
     ]
    }
   ],
   "source": [
    "students = [\"James\", \"Smith\", \"Mark\", \"Mike\", \"Justing\"]\n",
    "score = [98,100,80,79,88]\n",
    "grade = [\"A+\", \"A+\", \"B-\", \"C+\", \"B+\"]\n",
    "\n",
    "class_combined = list(zip(students, score, grade))\n",
    "\n",
    "print(class_combined)"
   ]
  },
  {
   "cell_type": "code",
   "execution_count": 25,
   "metadata": {},
   "outputs": [
    {
     "data": {
      "text/plain": [
       "('James', 98, 'A+')"
      ]
     },
     "execution_count": 25,
     "metadata": {},
     "output_type": "execute_result"
    }
   ],
   "source": [
    "class_combined[0]"
   ]
  },
  {
   "cell_type": "markdown",
   "metadata": {},
   "source": [
    "**I can pass convert the `zip` object to a Pandas DataFrame**"
   ]
  },
  {
   "cell_type": "code",
   "execution_count": 26,
   "metadata": {},
   "outputs": [
    {
     "data": {
      "text/html": [
       "<div>\n",
       "<style scoped>\n",
       "    .dataframe tbody tr th:only-of-type {\n",
       "        vertical-align: middle;\n",
       "    }\n",
       "\n",
       "    .dataframe tbody tr th {\n",
       "        vertical-align: top;\n",
       "    }\n",
       "\n",
       "    .dataframe thead th {\n",
       "        text-align: right;\n",
       "    }\n",
       "</style>\n",
       "<table border=\"1\" class=\"dataframe\">\n",
       "  <thead>\n",
       "    <tr style=\"text-align: right;\">\n",
       "      <th></th>\n",
       "      <th>0</th>\n",
       "      <th>1</th>\n",
       "      <th>2</th>\n",
       "    </tr>\n",
       "  </thead>\n",
       "  <tbody>\n",
       "    <tr>\n",
       "      <th>0</th>\n",
       "      <td>James</td>\n",
       "      <td>98</td>\n",
       "      <td>A+</td>\n",
       "    </tr>\n",
       "    <tr>\n",
       "      <th>1</th>\n",
       "      <td>Smith</td>\n",
       "      <td>100</td>\n",
       "      <td>A+</td>\n",
       "    </tr>\n",
       "    <tr>\n",
       "      <th>2</th>\n",
       "      <td>Mark</td>\n",
       "      <td>80</td>\n",
       "      <td>B-</td>\n",
       "    </tr>\n",
       "    <tr>\n",
       "      <th>3</th>\n",
       "      <td>Mike</td>\n",
       "      <td>79</td>\n",
       "      <td>C+</td>\n",
       "    </tr>\n",
       "    <tr>\n",
       "      <th>4</th>\n",
       "      <td>Justing</td>\n",
       "      <td>88</td>\n",
       "      <td>B+</td>\n",
       "    </tr>\n",
       "  </tbody>\n",
       "</table>\n",
       "</div>"
      ],
      "text/plain": [
       "         0    1   2\n",
       "0    James   98  A+\n",
       "1    Smith  100  A+\n",
       "2     Mark   80  B-\n",
       "3     Mike   79  C+\n",
       "4  Justing   88  B+"
      ]
     },
     "execution_count": 26,
     "metadata": {},
     "output_type": "execute_result"
    }
   ],
   "source": [
    "df = pd.DataFrame(class_combined)\n",
    "df"
   ]
  },
  {
   "cell_type": "code",
   "execution_count": 27,
   "metadata": {},
   "outputs": [
    {
     "data": {
      "text/html": [
       "<div>\n",
       "<style scoped>\n",
       "    .dataframe tbody tr th:only-of-type {\n",
       "        vertical-align: middle;\n",
       "    }\n",
       "\n",
       "    .dataframe tbody tr th {\n",
       "        vertical-align: top;\n",
       "    }\n",
       "\n",
       "    .dataframe thead th {\n",
       "        text-align: right;\n",
       "    }\n",
       "</style>\n",
       "<table border=\"1\" class=\"dataframe\">\n",
       "  <thead>\n",
       "    <tr style=\"text-align: right;\">\n",
       "      <th></th>\n",
       "      <th>Name</th>\n",
       "      <th>Score</th>\n",
       "      <th>Grade</th>\n",
       "    </tr>\n",
       "  </thead>\n",
       "  <tbody>\n",
       "    <tr>\n",
       "      <th>0</th>\n",
       "      <td>James</td>\n",
       "      <td>98</td>\n",
       "      <td>A+</td>\n",
       "    </tr>\n",
       "    <tr>\n",
       "      <th>1</th>\n",
       "      <td>Smith</td>\n",
       "      <td>100</td>\n",
       "      <td>A+</td>\n",
       "    </tr>\n",
       "    <tr>\n",
       "      <th>2</th>\n",
       "      <td>Mark</td>\n",
       "      <td>80</td>\n",
       "      <td>B-</td>\n",
       "    </tr>\n",
       "    <tr>\n",
       "      <th>3</th>\n",
       "      <td>Mike</td>\n",
       "      <td>79</td>\n",
       "      <td>C+</td>\n",
       "    </tr>\n",
       "    <tr>\n",
       "      <th>4</th>\n",
       "      <td>Justing</td>\n",
       "      <td>88</td>\n",
       "      <td>B+</td>\n",
       "    </tr>\n",
       "  </tbody>\n",
       "</table>\n",
       "</div>"
      ],
      "text/plain": [
       "      Name  Score Grade\n",
       "0    James     98    A+\n",
       "1    Smith    100    A+\n",
       "2     Mark     80    B-\n",
       "3     Mike     79    C+\n",
       "4  Justing     88    B+"
      ]
     },
     "execution_count": 27,
     "metadata": {},
     "output_type": "execute_result"
    }
   ],
   "source": [
    "df = pd.DataFrame(class_combined, columns=[\"Name\", \"Score\", \"Grade\"])\n",
    "df"
   ]
  },
  {
   "cell_type": "markdown",
   "metadata": {},
   "source": [
    "# For Loops One More time: Looping with `Enumerate()`"
   ]
  },
  {
   "cell_type": "code",
   "execution_count": 32,
   "metadata": {
    "scrolled": true
   },
   "outputs": [
    {
     "name": "stdout",
     "output_type": "stream",
     "text": [
      "0 James\n",
      "1 Smith\n",
      "2 Mark\n",
      "3 Mike\n",
      "4 Justing\n"
     ]
    }
   ],
   "source": [
    "# To get index and value from a list we can use enumerate\n",
    "names = [\"James\", \"Smith\", \"Mark\", \"Mike\", \"Justing\"]\n",
    "\n",
    "for i, name in enumerate(names):\n",
    "    print(i, name)"
   ]
  },
  {
   "cell_type": "code",
   "execution_count": 33,
   "metadata": {},
   "outputs": [
    {
     "name": "stdout",
     "output_type": "stream",
     "text": [
      "1 James\n",
      "2 Smith\n",
      "3 Mark\n",
      "4 Mike\n",
      "5 Justing\n"
     ]
    }
   ],
   "source": [
    "# We can change inital starting point for enumerate, default is zero\n",
    "for i, name in enumerate(names, 1):\n",
    "    print(i, name)"
   ]
  },
  {
   "cell_type": "code",
   "execution_count": 34,
   "metadata": {},
   "outputs": [
    {
     "data": {
      "text/plain": [
       "2"
      ]
     },
     "execution_count": 34,
     "metadata": {},
     "output_type": "execute_result"
    }
   ],
   "source": [
    "indx = names.index(\"Mark\")\n",
    "indx"
   ]
  },
  {
   "cell_type": "markdown",
   "metadata": {},
   "source": [
    "# Pands Creating a DataFrame with `read_clipboard()`"
   ]
  },
  {
   "cell_type": "code",
   "execution_count": 35,
   "metadata": {},
   "outputs": [
    {
     "data": {
      "text/plain": [
       "True"
      ]
     },
     "execution_count": 35,
     "metadata": {},
     "output_type": "execute_result"
    }
   ],
   "source": [
    "import webbrowser\n",
    "website = \"https://en.wikipedia.org/wiki/List_of_all-time_NFL_win–loss_records\"\n",
    "webbrowser.open(website)"
   ]
  },
  {
   "cell_type": "code",
   "execution_count": 36,
   "metadata": {},
   "outputs": [],
   "source": [
    "df_wikipedia = pd.read_clipboard()"
   ]
  },
  {
   "cell_type": "code",
   "execution_count": 37,
   "metadata": {},
   "outputs": [
    {
     "data": {
      "text/plain": [
       "pandas.core.frame.DataFrame"
      ]
     },
     "execution_count": 37,
     "metadata": {},
     "output_type": "execute_result"
    }
   ],
   "source": [
    "type(df_wikipedia)"
   ]
  },
  {
   "cell_type": "code",
   "execution_count": 38,
   "metadata": {},
   "outputs": [
    {
     "data": {
      "text/html": [
       "<div>\n",
       "<style scoped>\n",
       "    .dataframe tbody tr th:only-of-type {\n",
       "        vertical-align: middle;\n",
       "    }\n",
       "\n",
       "    .dataframe tbody tr th {\n",
       "        vertical-align: top;\n",
       "    }\n",
       "\n",
       "    .dataframe thead th {\n",
       "        text-align: right;\n",
       "    }\n",
       "</style>\n",
       "<table border=\"1\" class=\"dataframe\">\n",
       "  <thead>\n",
       "    <tr style=\"text-align: right;\">\n",
       "      <th></th>\n",
       "      <th>Rank</th>\n",
       "      <th>Team</th>\n",
       "      <th>GP</th>\n",
       "      <th>Won</th>\n",
       "      <th>Lost</th>\n",
       "      <th>Tied</th>\n",
       "      <th>Pct.</th>\n",
       "      <th>First NFL Season</th>\n",
       "      <th>Division</th>\n",
       "    </tr>\n",
       "  </thead>\n",
       "  <tbody>\n",
       "    <tr>\n",
       "      <th>0</th>\n",
       "      <td>1</td>\n",
       "      <td>Dallas Cowboys</td>\n",
       "      <td>898</td>\n",
       "      <td>512</td>\n",
       "      <td>380</td>\n",
       "      <td>6</td>\n",
       "      <td>0.573</td>\n",
       "      <td>1960</td>\n",
       "      <td>NFC East</td>\n",
       "    </tr>\n",
       "    <tr>\n",
       "      <th>1</th>\n",
       "      <td>2</td>\n",
       "      <td>Chicago Bears</td>\n",
       "      <td>1,386</td>\n",
       "      <td>761</td>\n",
       "      <td>583</td>\n",
       "      <td>42</td>\n",
       "      <td>0.564</td>\n",
       "      <td>1920</td>\n",
       "      <td>NFC North</td>\n",
       "    </tr>\n",
       "    <tr>\n",
       "      <th>2</th>\n",
       "      <td>3</td>\n",
       "      <td>Green Bay Packers</td>\n",
       "      <td>1,352</td>\n",
       "      <td>743</td>\n",
       "      <td>571</td>\n",
       "      <td>38</td>\n",
       "      <td>0.564</td>\n",
       "      <td>1921</td>\n",
       "      <td>NFC North</td>\n",
       "    </tr>\n",
       "    <tr>\n",
       "      <th>3</th>\n",
       "      <td>4</td>\n",
       "      <td>New England Patriots[b]</td>\n",
       "      <td>900</td>\n",
       "      <td>500</td>\n",
       "      <td>391</td>\n",
       "      <td>9</td>\n",
       "      <td>0.561</td>\n",
       "      <td>1960</td>\n",
       "      <td>AFC East</td>\n",
       "    </tr>\n",
       "    <tr>\n",
       "      <th>4</th>\n",
       "      <td>5</td>\n",
       "      <td>Miami Dolphins</td>\n",
       "      <td>816</td>\n",
       "      <td>452</td>\n",
       "      <td>360</td>\n",
       "      <td>4</td>\n",
       "      <td>0.556</td>\n",
       "      <td>1966</td>\n",
       "      <td>AFC East</td>\n",
       "    </tr>\n",
       "  </tbody>\n",
       "</table>\n",
       "</div>"
      ],
      "text/plain": [
       "   Rank                     Team     GP  Won  Lost  Tied   Pct.  \\\n",
       "0     1           Dallas Cowboys    898  512   380     6  0.573   \n",
       "1     2            Chicago Bears  1,386  761   583    42  0.564   \n",
       "2     3        Green Bay Packers  1,352  743   571    38  0.564   \n",
       "3     4  New England Patriots[b]    900  500   391     9  0.561   \n",
       "4     5           Miami Dolphins    816  452   360     4  0.556   \n",
       "\n",
       "   First NFL Season   Division  \n",
       "0              1960   NFC East  \n",
       "1              1920  NFC North  \n",
       "2              1921  NFC North  \n",
       "3              1960   AFC East  \n",
       "4              1966   AFC East  "
      ]
     },
     "execution_count": 38,
     "metadata": {},
     "output_type": "execute_result"
    }
   ],
   "source": [
    "df_wikipedia.head()"
   ]
  },
  {
   "cell_type": "code",
   "execution_count": 40,
   "metadata": {},
   "outputs": [
    {
     "data": {
      "text/plain": [
       "0             Dallas Cowboys\n",
       "1              Chicago Bears\n",
       "2          Green Bay Packers\n",
       "3    New England Patriots[b]\n",
       "4             Miami Dolphins\n",
       "Name: Team, dtype: object"
      ]
     },
     "execution_count": 40,
     "metadata": {},
     "output_type": "execute_result"
    }
   ],
   "source": [
    "df_wikipedia[\"Team\"].head()"
   ]
  },
  {
   "cell_type": "code",
   "execution_count": 39,
   "metadata": {},
   "outputs": [
    {
     "data": {
      "text/plain": [
       "0             Dallas Cowboys\n",
       "1              Chicago Bears\n",
       "2          Green Bay Packers\n",
       "3    New England Patriots[b]\n",
       "4             Miami Dolphins\n",
       "Name: Team, dtype: object"
      ]
     },
     "execution_count": 39,
     "metadata": {},
     "output_type": "execute_result"
    }
   ],
   "source": [
    "df_wikipedia.Team.head()"
   ]
  },
  {
   "cell_type": "code",
   "execution_count": 41,
   "metadata": {},
   "outputs": [
    {
     "data": {
      "text/plain": [
       "RangeIndex(start=0, stop=31, step=1)"
      ]
     },
     "execution_count": 41,
     "metadata": {},
     "output_type": "execute_result"
    }
   ],
   "source": [
    "# DataFrame Index is a sequence (range) from 0 to 31 similar to using range(0,32,1)\n",
    "df_wikipedia.index"
   ]
  },
  {
   "cell_type": "code",
   "execution_count": 42,
   "metadata": {},
   "outputs": [
    {
     "data": {
      "text/html": [
       "<div>\n",
       "<style scoped>\n",
       "    .dataframe tbody tr th:only-of-type {\n",
       "        vertical-align: middle;\n",
       "    }\n",
       "\n",
       "    .dataframe tbody tr th {\n",
       "        vertical-align: top;\n",
       "    }\n",
       "\n",
       "    .dataframe thead th {\n",
       "        text-align: right;\n",
       "    }\n",
       "</style>\n",
       "<table border=\"1\" class=\"dataframe\">\n",
       "  <thead>\n",
       "    <tr style=\"text-align: right;\">\n",
       "      <th></th>\n",
       "      <th>Rank</th>\n",
       "      <th>GP</th>\n",
       "      <th>Won</th>\n",
       "      <th>Lost</th>\n",
       "      <th>Tied</th>\n",
       "      <th>Pct.</th>\n",
       "      <th>First NFL Season</th>\n",
       "      <th>Division</th>\n",
       "    </tr>\n",
       "    <tr>\n",
       "      <th>Team</th>\n",
       "      <th></th>\n",
       "      <th></th>\n",
       "      <th></th>\n",
       "      <th></th>\n",
       "      <th></th>\n",
       "      <th></th>\n",
       "      <th></th>\n",
       "      <th></th>\n",
       "    </tr>\n",
       "  </thead>\n",
       "  <tbody>\n",
       "    <tr>\n",
       "      <th>Dallas Cowboys</th>\n",
       "      <td>1</td>\n",
       "      <td>898</td>\n",
       "      <td>512</td>\n",
       "      <td>380</td>\n",
       "      <td>6</td>\n",
       "      <td>0.573</td>\n",
       "      <td>1960</td>\n",
       "      <td>NFC East</td>\n",
       "    </tr>\n",
       "    <tr>\n",
       "      <th>Chicago Bears</th>\n",
       "      <td>2</td>\n",
       "      <td>1,386</td>\n",
       "      <td>761</td>\n",
       "      <td>583</td>\n",
       "      <td>42</td>\n",
       "      <td>0.564</td>\n",
       "      <td>1920</td>\n",
       "      <td>NFC North</td>\n",
       "    </tr>\n",
       "    <tr>\n",
       "      <th>Green Bay Packers</th>\n",
       "      <td>3</td>\n",
       "      <td>1,352</td>\n",
       "      <td>743</td>\n",
       "      <td>571</td>\n",
       "      <td>38</td>\n",
       "      <td>0.564</td>\n",
       "      <td>1921</td>\n",
       "      <td>NFC North</td>\n",
       "    </tr>\n",
       "    <tr>\n",
       "      <th>New England Patriots[b]</th>\n",
       "      <td>4</td>\n",
       "      <td>900</td>\n",
       "      <td>500</td>\n",
       "      <td>391</td>\n",
       "      <td>9</td>\n",
       "      <td>0.561</td>\n",
       "      <td>1960</td>\n",
       "      <td>AFC East</td>\n",
       "    </tr>\n",
       "    <tr>\n",
       "      <th>Miami Dolphins</th>\n",
       "      <td>5</td>\n",
       "      <td>816</td>\n",
       "      <td>452</td>\n",
       "      <td>360</td>\n",
       "      <td>4</td>\n",
       "      <td>0.556</td>\n",
       "      <td>1966</td>\n",
       "      <td>AFC East</td>\n",
       "    </tr>\n",
       "  </tbody>\n",
       "</table>\n",
       "</div>"
      ],
      "text/plain": [
       "                         Rank     GP  Won  Lost  Tied   Pct.  \\\n",
       "Team                                                           \n",
       "Dallas Cowboys              1    898  512   380     6  0.573   \n",
       "Chicago Bears               2  1,386  761   583    42  0.564   \n",
       "Green Bay Packers           3  1,352  743   571    38  0.564   \n",
       "New England Patriots[b]     4    900  500   391     9  0.561   \n",
       "Miami Dolphins              5    816  452   360     4  0.556   \n",
       "\n",
       "                         First NFL Season   Division  \n",
       "Team                                                  \n",
       "Dallas Cowboys                       1960   NFC East  \n",
       "Chicago Bears                        1920  NFC North  \n",
       "Green Bay Packers                    1921  NFC North  \n",
       "New England Patriots[b]              1960   AFC East  \n",
       "Miami Dolphins                       1966   AFC East  "
      ]
     },
     "execution_count": 42,
     "metadata": {},
     "output_type": "execute_result"
    }
   ],
   "source": [
    "df_wikipedia.set_index('Team', inplace=True)\n",
    "df_wikipedia.head()"
   ]
  },
  {
   "cell_type": "code",
   "execution_count": 43,
   "metadata": {},
   "outputs": [
    {
     "data": {
      "text/plain": [
       "Index(['Dallas Cowboys', 'Chicago Bears', 'Green Bay Packers',\n",
       "       'New England Patriots[b]', 'Miami Dolphins', 'Minnesota Vikings',\n",
       "       'Baltimore Ravens', 'New York Giants', 'Denver Broncos',\n",
       "       'San Francisco 49ers', 'Indianapolis Colts[c]', 'Pittsburgh Steelers',\n",
       "       'Kansas City Chiefs', 'Oakland Raiders', 'Seattle Seahawks',\n",
       "       'Washington Redskins', 'Los Angeles Chargers[d]', 'Los Angeles Rams',\n",
       "       'Carolina Panthers', 'Philadelphia Eagles', 'Cleveland Browns',\n",
       "       'Tennessee Titans', 'Buffalo Bills', 'Detroit Lions',\n",
       "       'Cincinnati Bengals', 'New Orleans Saints', 'New York Jets',\n",
       "       'Houston Texans', 'Jacksonville Jaguars', 'Atlanta Falcons',\n",
       "       'Arizona Cardinals'],\n",
       "      dtype='object', name='Team')"
      ]
     },
     "execution_count": 43,
     "metadata": {},
     "output_type": "execute_result"
    }
   ],
   "source": [
    "# List DataFrame Index\n",
    "df_wikipedia.index"
   ]
  },
  {
   "cell_type": "code",
   "execution_count": 44,
   "metadata": {},
   "outputs": [
    {
     "data": {
      "text/plain": [
       "Rank                       1\n",
       "GP                       898\n",
       "Won                      512\n",
       "Lost                     380\n",
       "Tied                       6\n",
       "Pct.                   0.573\n",
       "First NFL Season        1960\n",
       "Division            NFC East\n",
       "Name: Dallas Cowboys, dtype: object"
      ]
     },
     "execution_count": 44,
     "metadata": {},
     "output_type": "execute_result"
    }
   ],
   "source": [
    "df_wikipedia.loc[\"Dallas Cowboys\"]"
   ]
  },
  {
   "cell_type": "code",
   "execution_count": 45,
   "metadata": {},
   "outputs": [
    {
     "data": {
      "text/plain": [
       "512"
      ]
     },
     "execution_count": 45,
     "metadata": {},
     "output_type": "execute_result"
    }
   ],
   "source": [
    "df_wikipedia.loc[\"Dallas Cowboys\", \"Won\"]"
   ]
  },
  {
   "cell_type": "code",
   "execution_count": 48,
   "metadata": {},
   "outputs": [
    {
     "data": {
      "text/html": [
       "<div>\n",
       "<style scoped>\n",
       "    .dataframe tbody tr th:only-of-type {\n",
       "        vertical-align: middle;\n",
       "    }\n",
       "\n",
       "    .dataframe tbody tr th {\n",
       "        vertical-align: top;\n",
       "    }\n",
       "\n",
       "    .dataframe thead th {\n",
       "        text-align: right;\n",
       "    }\n",
       "</style>\n",
       "<table border=\"1\" class=\"dataframe\">\n",
       "  <thead>\n",
       "    <tr style=\"text-align: right;\">\n",
       "      <th></th>\n",
       "      <th>Rank</th>\n",
       "      <th>GP</th>\n",
       "      <th>Won</th>\n",
       "      <th>Lost</th>\n",
       "      <th>Tied</th>\n",
       "      <th>Pct.</th>\n",
       "      <th>First NFL Season</th>\n",
       "      <th>Division</th>\n",
       "    </tr>\n",
       "    <tr>\n",
       "      <th>Team</th>\n",
       "      <th></th>\n",
       "      <th></th>\n",
       "      <th></th>\n",
       "      <th></th>\n",
       "      <th></th>\n",
       "      <th></th>\n",
       "      <th></th>\n",
       "      <th></th>\n",
       "    </tr>\n",
       "  </thead>\n",
       "  <tbody>\n",
       "    <tr>\n",
       "      <th>New York Jets</th>\n",
       "      <td>27</td>\n",
       "      <td>900</td>\n",
       "      <td>401</td>\n",
       "      <td>491</td>\n",
       "      <td>8</td>\n",
       "      <td>0.450</td>\n",
       "      <td>1960</td>\n",
       "      <td>AFC East</td>\n",
       "    </tr>\n",
       "    <tr>\n",
       "      <th>Houston Texans</th>\n",
       "      <td>28</td>\n",
       "      <td>272</td>\n",
       "      <td>121</td>\n",
       "      <td>151</td>\n",
       "      <td>0</td>\n",
       "      <td>0.445</td>\n",
       "      <td>2002</td>\n",
       "      <td>AFC South</td>\n",
       "    </tr>\n",
       "    <tr>\n",
       "      <th>Jacksonville Jaguars</th>\n",
       "      <td>29</td>\n",
       "      <td>384</td>\n",
       "      <td>170</td>\n",
       "      <td>214</td>\n",
       "      <td>0</td>\n",
       "      <td>0.443</td>\n",
       "      <td>1995</td>\n",
       "      <td>AFC South</td>\n",
       "    </tr>\n",
       "    <tr>\n",
       "      <th>Atlanta Falcons</th>\n",
       "      <td>30</td>\n",
       "      <td>816</td>\n",
       "      <td>358</td>\n",
       "      <td>452</td>\n",
       "      <td>6</td>\n",
       "      <td>0.442</td>\n",
       "      <td>1966</td>\n",
       "      <td>NFC South</td>\n",
       "    </tr>\n",
       "    <tr>\n",
       "      <th>Arizona Cardinals</th>\n",
       "      <td>31</td>\n",
       "      <td>1,346</td>\n",
       "      <td>553</td>\n",
       "      <td>753</td>\n",
       "      <td>40</td>\n",
       "      <td>0.426</td>\n",
       "      <td>1920</td>\n",
       "      <td>NFC West</td>\n",
       "    </tr>\n",
       "  </tbody>\n",
       "</table>\n",
       "</div>"
      ],
      "text/plain": [
       "                      Rank     GP  Won  Lost  Tied   Pct.  First NFL Season  \\\n",
       "Team                                                                          \n",
       "New York Jets           27    900  401   491     8  0.450              1960   \n",
       "Houston Texans          28    272  121   151     0  0.445              2002   \n",
       "Jacksonville Jaguars    29    384  170   214     0  0.443              1995   \n",
       "Atlanta Falcons         30    816  358   452     6  0.442              1966   \n",
       "Arizona Cardinals       31  1,346  553   753    40  0.426              1920   \n",
       "\n",
       "                       Division  \n",
       "Team                             \n",
       "New York Jets          AFC East  \n",
       "Houston Texans        AFC South  \n",
       "Jacksonville Jaguars  AFC South  \n",
       "Atlanta Falcons       NFC South  \n",
       "Arizona Cardinals      NFC West  "
      ]
     },
     "execution_count": 48,
     "metadata": {},
     "output_type": "execute_result"
    }
   ],
   "source": [
    "df_wikipedia.tail()"
   ]
  },
  {
   "cell_type": "markdown",
   "metadata": {},
   "source": [
    "**Another example using `read_clipboard()` with excel data**"
   ]
  },
  {
   "cell_type": "code",
   "execution_count": 55,
   "metadata": {},
   "outputs": [
    {
     "data": {
      "text/html": [
       "<div>\n",
       "<style scoped>\n",
       "    .dataframe tbody tr th:only-of-type {\n",
       "        vertical-align: middle;\n",
       "    }\n",
       "\n",
       "    .dataframe tbody tr th {\n",
       "        vertical-align: top;\n",
       "    }\n",
       "\n",
       "    .dataframe thead th {\n",
       "        text-align: right;\n",
       "    }\n",
       "</style>\n",
       "<table border=\"1\" class=\"dataframe\">\n",
       "  <thead>\n",
       "    <tr style=\"text-align: right;\">\n",
       "      <th></th>\n",
       "      <th>id</th>\n",
       "      <th>first_name</th>\n",
       "      <th>last_name</th>\n",
       "      <th>email</th>\n",
       "      <th>gender</th>\n",
       "    </tr>\n",
       "  </thead>\n",
       "  <tbody>\n",
       "    <tr>\n",
       "      <th>0</th>\n",
       "      <td>1</td>\n",
       "      <td>David</td>\n",
       "      <td>Jordan</td>\n",
       "      <td>djordan0@home.pl</td>\n",
       "      <td>Male</td>\n",
       "    </tr>\n",
       "    <tr>\n",
       "      <th>1</th>\n",
       "      <td>2</td>\n",
       "      <td>Stephen</td>\n",
       "      <td>Riley</td>\n",
       "      <td>sriley1@hugedomains.com</td>\n",
       "      <td>Male</td>\n",
       "    </tr>\n",
       "    <tr>\n",
       "      <th>2</th>\n",
       "      <td>3</td>\n",
       "      <td>Evelyn</td>\n",
       "      <td>Grant</td>\n",
       "      <td>egrant2@livejournal.com</td>\n",
       "      <td>Female</td>\n",
       "    </tr>\n",
       "    <tr>\n",
       "      <th>3</th>\n",
       "      <td>4</td>\n",
       "      <td>Joe</td>\n",
       "      <td>Mendoza</td>\n",
       "      <td>jmendoza3@un.org</td>\n",
       "      <td>Male</td>\n",
       "    </tr>\n",
       "    <tr>\n",
       "      <th>4</th>\n",
       "      <td>5</td>\n",
       "      <td>Benjamin</td>\n",
       "      <td>Rodriguez</td>\n",
       "      <td>brodriguez4@elpais.com</td>\n",
       "      <td>Male</td>\n",
       "    </tr>\n",
       "  </tbody>\n",
       "</table>\n",
       "</div>"
      ],
      "text/plain": [
       "   id first_name  last_name                    email  gender\n",
       "0   1      David     Jordan         djordan0@home.pl    Male\n",
       "1   2    Stephen      Riley  sriley1@hugedomains.com    Male\n",
       "2   3     Evelyn      Grant  egrant2@livejournal.com  Female\n",
       "3   4        Joe    Mendoza         jmendoza3@un.org    Male\n",
       "4   5   Benjamin  Rodriguez   brodriguez4@elpais.com    Male"
      ]
     },
     "execution_count": 55,
     "metadata": {},
     "output_type": "execute_result"
    }
   ],
   "source": [
    "df_excel = pd.read_clipboard()\n",
    "df_excel.head()"
   ]
  },
  {
   "cell_type": "code",
   "execution_count": 50,
   "metadata": {},
   "outputs": [
    {
     "data": {
      "text/plain": [
       "Index(['id', 'first_name', 'last_name', 'email', 'gender'], dtype='object')"
      ]
     },
     "execution_count": 50,
     "metadata": {},
     "output_type": "execute_result"
    }
   ],
   "source": [
    "df_excel.columns"
   ]
  },
  {
   "cell_type": "code",
   "execution_count": 51,
   "metadata": {},
   "outputs": [
    {
     "data": {
      "text/plain": [
       "RangeIndex(start=0, stop=32, step=1)"
      ]
     },
     "execution_count": 51,
     "metadata": {},
     "output_type": "execute_result"
    }
   ],
   "source": [
    "df_excel.index"
   ]
  },
  {
   "cell_type": "code",
   "execution_count": 57,
   "metadata": {},
   "outputs": [
    {
     "data": {
      "text/plain": [
       "0       David\n",
       "1     Stephen\n",
       "2      Evelyn\n",
       "3         Joe\n",
       "4    Benjamin\n",
       "Name: first_name, dtype: object"
      ]
     },
     "execution_count": 57,
     "metadata": {},
     "output_type": "execute_result"
    }
   ],
   "source": [
    "df_excel.first_name.head()"
   ]
  },
  {
   "cell_type": "code",
   "execution_count": null,
   "metadata": {},
   "outputs": [],
   "source": []
  },
  {
   "cell_type": "markdown",
   "metadata": {},
   "source": [
    "## Creating Series with an Index"
   ]
  },
  {
   "cell_type": "code",
   "execution_count": null,
   "metadata": {},
   "outputs": [],
   "source": []
  },
  {
   "cell_type": "code",
   "execution_count": 61,
   "metadata": {},
   "outputs": [],
   "source": [
    "gdp_per_capita = pd.Series([59939,8612,38214,44680,1980,39532,39827,9881,32038,44841,10846,29958], \n",
    "                           index=[\"United States\", \"China\", \"Japan\", \"Germany\", \"India\", \"United Kingdom\", \"France\",\"Brazil\", \"Italy\", \"Canada\", \"Russia\", \"South Korea\"])"
   ]
  },
  {
   "cell_type": "code",
   "execution_count": 62,
   "metadata": {},
   "outputs": [
    {
     "data": {
      "text/plain": [
       "United States     59939\n",
       "China              8612\n",
       "Japan             38214\n",
       "Germany           44680\n",
       "India              1980\n",
       "United Kingdom    39532\n",
       "France            39827\n",
       "Brazil             9881\n",
       "Italy             32038\n",
       "Canada            44841\n",
       "Russia            10846\n",
       "South Korea       29958\n",
       "dtype: int64"
      ]
     },
     "execution_count": 62,
     "metadata": {},
     "output_type": "execute_result"
    }
   ],
   "source": [
    "gdp_per_capita"
   ]
  },
  {
   "cell_type": "code",
   "execution_count": 63,
   "metadata": {},
   "outputs": [
    {
     "data": {
      "text/plain": [
       "1980"
      ]
     },
     "execution_count": 63,
     "metadata": {},
     "output_type": "execute_result"
    }
   ],
   "source": [
    "gdp_per_capita.min()"
   ]
  },
  {
   "cell_type": "code",
   "execution_count": 64,
   "metadata": {},
   "outputs": [
    {
     "data": {
      "text/plain": [
       "'India'"
      ]
     },
     "execution_count": 64,
     "metadata": {},
     "output_type": "execute_result"
    }
   ],
   "source": [
    "gdp_per_capita.idxmin()"
   ]
  },
  {
   "cell_type": "code",
   "execution_count": 65,
   "metadata": {},
   "outputs": [
    {
     "data": {
      "text/plain": [
       "8612"
      ]
     },
     "execution_count": 65,
     "metadata": {},
     "output_type": "execute_result"
    }
   ],
   "source": [
    "gdp_per_capita[\"China\"]"
   ]
  },
  {
   "cell_type": "code",
   "execution_count": 66,
   "metadata": {},
   "outputs": [
    {
     "data": {
      "text/plain": [
       "8612"
      ]
     },
     "execution_count": 66,
     "metadata": {},
     "output_type": "execute_result"
    }
   ],
   "source": [
    "gdp_per_capita[1]"
   ]
  },
  {
   "cell_type": "code",
   "execution_count": 67,
   "metadata": {},
   "outputs": [
    {
     "data": {
      "text/plain": [
       "(12,)"
      ]
     },
     "execution_count": 67,
     "metadata": {},
     "output_type": "execute_result"
    }
   ],
   "source": [
    "gdp_per_capita.shape"
   ]
  },
  {
   "cell_type": "code",
   "execution_count": 73,
   "metadata": {},
   "outputs": [
    {
     "data": {
      "text/plain": [
       "Index(['United States', 'China', 'Japan', 'Germany', 'India', 'United Kingdom',\n",
       "       'France', 'Brazil', 'Italy', 'Canada', 'Russia', 'South Korea'],\n",
       "      dtype='object')"
      ]
     },
     "execution_count": 73,
     "metadata": {},
     "output_type": "execute_result"
    }
   ],
   "source": [
    "gdp_per_capita.index"
   ]
  },
  {
   "cell_type": "code",
   "execution_count": 69,
   "metadata": {},
   "outputs": [
    {
     "data": {
      "text/plain": [
       "array([59939,  8612, 38214, 44680,  1980, 39532, 39827,  9881, 32038,\n",
       "       44841, 10846, 29958])"
      ]
     },
     "execution_count": 69,
     "metadata": {},
     "output_type": "execute_result"
    }
   ],
   "source": [
    "gdp_per_capita.values"
   ]
  },
  {
   "cell_type": "code",
   "execution_count": 71,
   "metadata": {},
   "outputs": [
    {
     "data": {
      "text/plain": [
       "pandas.core.indexes.base.Index"
      ]
     },
     "execution_count": 71,
     "metadata": {},
     "output_type": "execute_result"
    }
   ],
   "source": [
    "type(gdp_per_capita.index)"
   ]
  },
  {
   "cell_type": "code",
   "execution_count": 72,
   "metadata": {},
   "outputs": [
    {
     "data": {
      "text/plain": [
       "numpy.ndarray"
      ]
     },
     "execution_count": 72,
     "metadata": {},
     "output_type": "execute_result"
    }
   ],
   "source": [
    "type(gdp_per_capita.values)"
   ]
  },
  {
   "cell_type": "code",
   "execution_count": null,
   "metadata": {},
   "outputs": [],
   "source": []
  },
  {
   "cell_type": "code",
   "execution_count": null,
   "metadata": {},
   "outputs": [],
   "source": []
  }
 ],
 "metadata": {
  "kernelspec": {
   "display_name": "Python 3",
   "language": "python",
   "name": "python3"
  },
  "language_info": {
   "codemirror_mode": {
    "name": "ipython",
    "version": 3
   },
   "file_extension": ".py",
   "mimetype": "text/x-python",
   "name": "python",
   "nbconvert_exporter": "python",
   "pygments_lexer": "ipython3",
   "version": "3.6.7"
  }
 },
 "nbformat": 4,
 "nbformat_minor": 4
}
