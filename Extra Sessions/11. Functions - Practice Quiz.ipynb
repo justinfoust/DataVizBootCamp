{
 "cells": [
  {
   "cell_type": "markdown",
   "metadata": {},
   "source": [
    "# Python Functions"
   ]
  },
  {
   "cell_type": "markdown",
   "metadata": {},
   "source": [
    "### Complete each exercise and compare to the example output"
   ]
  },
  {
   "cell_type": "markdown",
   "metadata": {},
   "source": [
    "## Exercise #1\n",
    "Complete the function below and run the tests to make sure you got it right.\n",
    "\n",
    "Hints:\n",
    "* Notice that `The` and `is` are not listed for example among other punctuation marks.\n",
    "* Notice the output has a unique format which is different than the input data\n",
    "* replace `None` with your variables\n",
    "\n",
    "Advanced Challenge:\n",
    "* Try to see if you can solve this in one List Comprehension. "
   ]
  },
  {
   "cell_type": "code",
   "execution_count": 19,
   "metadata": {},
   "outputs": [],
   "source": [
    "def listWords(words):\n",
    "    list = [i for i in words.split() if ((i != 'The') & (i != 'is') & (i != ',') & (i != 'the'))]\n",
    "    print(list)"
   ]
  },
  {
   "cell_type": "code",
   "execution_count": 20,
   "metadata": {},
   "outputs": [
    {
     "name": "stdout",
     "output_type": "stream",
     "text": [
      "['dog', 'ate', 'hotdog', 'and', 'did', 'not', 'feel', 'guilty', 'about', 'it']\n"
     ]
    }
   ],
   "source": [
    "#test 1\n",
    "sentence1 = \"The dog ate the hotdog , and did not feel guilty about it\"\n",
    "listWords(sentence1)"
   ]
  },
  {
   "cell_type": "code",
   "execution_count": 45,
   "metadata": {},
   "outputs": [
    {
     "data": {
      "text/plain": [
       "['Dog', 'Ate', 'Hotdog', 'And', 'Did', 'Not', 'Feel', 'Guilty', 'About', 'It']"
      ]
     },
     "execution_count": 45,
     "metadata": {},
     "output_type": "execute_result"
    }
   ],
   "source": [
    "#test 1 output expected"
   ]
  },
  {
   "cell_type": "code",
   "execution_count": 53,
   "metadata": {},
   "outputs": [],
   "source": [
    "# #test 2\n",
    "sentence2 = \"Where is your code ? then I realized it is everywhere on this notebook\"\n",
    "listWords(sentence2)"
   ]
  },
  {
   "cell_type": "code",
   "execution_count": 2,
   "metadata": {},
   "outputs": [
    {
     "data": {
      "text/plain": [
       "['Where',\n",
       " 'Your',\n",
       " 'Code',\n",
       " 'Then',\n",
       " 'I',\n",
       " 'Realized',\n",
       " 'It',\n",
       " 'Everywhere',\n",
       " 'On',\n",
       " 'This',\n",
       " 'Notebook']"
      ]
     },
     "execution_count": 2,
     "metadata": {},
     "output_type": "execute_result"
    }
   ],
   "source": [
    "#test 2 output expected"
   ]
  },
  {
   "cell_type": "code",
   "execution_count": null,
   "metadata": {},
   "outputs": [],
   "source": []
  },
  {
   "cell_type": "markdown",
   "metadata": {},
   "source": [
    "## Exercise #2\n",
    "Complete the function below and run the test to make sure you got it right.\n",
    "\n",
    "Hint:\n",
    "* replace `None`"
   ]
  },
  {
   "cell_type": "code",
   "execution_count": 4,
   "metadata": {},
   "outputs": [],
   "source": [
    "def sortmyitems(items):\n",
    "    \n",
    "    return None\n",
    "        "
   ]
  },
  {
   "cell_type": "code",
   "execution_count": null,
   "metadata": {},
   "outputs": [],
   "source": [
    "# test 1\n",
    "garbage = [\"socks\", 10, 4.5, 17, 3.3, 2.0, 'xbox', 'macbook']\n",
    "\n",
    "#execute the function which return a three variables \n",
    "i, s, f = sortmyitems(garbage)\n",
    "\n",
    "print(f'my integer list = {i}')\n",
    "print(f'my string list = {s}')\n",
    "print(f'my float list = {f}')"
   ]
  },
  {
   "cell_type": "code",
   "execution_count": 5,
   "metadata": {},
   "outputs": [
    {
     "name": "stdout",
     "output_type": "stream",
     "text": [
      "my integer list = [10, 17]\n",
      "my string list = ['socks', 'xbox', 'macbook']\n",
      "my float list = [4.5, 3.3, 2.0]\n"
     ]
    }
   ],
   "source": [
    "# test 1 expected output"
   ]
  },
  {
   "cell_type": "code",
   "execution_count": null,
   "metadata": {},
   "outputs": [],
   "source": []
  },
  {
   "cell_type": "code",
   "execution_count": null,
   "metadata": {},
   "outputs": [],
   "source": []
  },
  {
   "cell_type": "markdown",
   "metadata": {},
   "source": [
    "## Execise #3\n",
    "\n",
    "* Create a function `func1` that prints `Hello there`\n",
    "* Create a function `func2` that takes age as input and prints the age  example `Your age = 23` \n",
    "* Crate a function `func3` that take two variables, multiplies them then prints out as `4 times 5 = 20`\n",
    "* Create a function `masterFunc` that takes in a list of functions and executes each"
   ]
  },
  {
   "cell_type": "code",
   "execution_count": 143,
   "metadata": {},
   "outputs": [],
   "source": [
    "def func1(*age):\n",
    "    #your code here\n",
    "    \n",
    "    \n",
    "def func2(age):\n",
    "    #your code here\n",
    "    \n",
    "def func3(a,b):\n",
    "    #your code here\n",
    "          \n",
    "def masterFunc(funcs, age, a, b):\n",
    "    # your code here\n",
    "\n",
    "          \n",
    "          \n",
    "          "
   ]
  },
  {
   "cell_type": "code",
   "execution_count": null,
   "metadata": {},
   "outputs": [],
   "source": [
    "# test 1\n",
    "masterFunc([func1, func2, func3], age = 23, a = 11, b = 12)"
   ]
  },
  {
   "cell_type": "code",
   "execution_count": 144,
   "metadata": {},
   "outputs": [
    {
     "name": "stdout",
     "output_type": "stream",
     "text": [
      "Hello there\n",
      "Your age = 23\n",
      "11 times 12 = 132\n"
     ]
    }
   ],
   "source": [
    "# test 1 expected output"
   ]
  },
  {
   "cell_type": "code",
   "execution_count": null,
   "metadata": {},
   "outputs": [],
   "source": [
    "# test 2\n",
    "masterFunc([func1, func2, func3], age = 41, a = 23.0, b = 10.50)"
   ]
  },
  {
   "cell_type": "code",
   "execution_count": 145,
   "metadata": {},
   "outputs": [
    {
     "name": "stdout",
     "output_type": "stream",
     "text": [
      "Hello there\n",
      "Your age = 41\n",
      "23.0 times 10.5 = 241.5\n"
     ]
    }
   ],
   "source": [
    "# test 2 expected output"
   ]
  },
  {
   "cell_type": "code",
   "execution_count": null,
   "metadata": {},
   "outputs": [],
   "source": []
  }
 ],
 "metadata": {
  "kernelspec": {
   "display_name": "Python 3",
   "language": "python",
   "name": "python3"
  },
  "language_info": {
   "codemirror_mode": {
    "name": "ipython",
    "version": 3
   },
   "file_extension": ".py",
   "mimetype": "text/x-python",
   "name": "python",
   "nbconvert_exporter": "python",
   "pygments_lexer": "ipython3",
   "version": "3.7.3"
  }
 },
 "nbformat": 4,
 "nbformat_minor": 4
}
