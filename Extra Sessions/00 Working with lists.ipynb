{
 "cells": [
  {
   "cell_type": "markdown",
   "metadata": {},
   "source": [
    "## In Class Examples for working with lists (review)"
   ]
  },
  {
   "cell_type": "code",
   "execution_count": 5,
   "metadata": {},
   "outputs": [
    {
     "name": "stdout",
     "output_type": "stream",
     "text": [
      "['Jacob', 25, 'Ahmed', 80, 'yup']\n"
     ]
    }
   ],
   "source": [
    "# Create a variable and set it as an List\n",
    "myList = [\"Jacob\", 25, \"Ahmed\", 80, \"yup\"]\n",
    "print(myList)\n"
   ]
  },
  {
   "cell_type": "code",
   "execution_count": 6,
   "metadata": {},
   "outputs": [
    {
     "name": "stdout",
     "output_type": "stream",
     "text": [
      "['Jacob', 25, 'Ahmed', 80, 'yup', ['Matt', 'Done', 9]]\n"
     ]
    }
   ],
   "source": [
    "\n",
    "# Adds an element onto the end of a List\n",
    "myList.append([\"Matt\",\"Done\",9])\n",
    "print(myList)\n"
   ]
  },
  {
   "cell_type": "code",
   "execution_count": 7,
   "metadata": {},
   "outputs": [
    {
     "name": "stdout",
     "output_type": "stream",
     "text": [
      "3\n"
     ]
    }
   ],
   "source": [
    "# Returns the index of the first object with a matching value\n",
    "print(myList.index(80))"
   ]
  },
  {
   "cell_type": "code",
   "execution_count": 8,
   "metadata": {},
   "outputs": [
    {
     "data": {
      "text/plain": [
       "['Jacob', 25, 'Ahmed', 80, 'yup', ['Matt', 'Done', 9]]"
      ]
     },
     "execution_count": 8,
     "metadata": {},
     "output_type": "execute_result"
    }
   ],
   "source": [
    "myList"
   ]
  },
  {
   "cell_type": "code",
   "execution_count": 10,
   "metadata": {},
   "outputs": [
    {
     "name": "stdout",
     "output_type": "stream",
     "text": [
      "['Jacob', 25, 'Ahmed', 85, 'yup', ['Matt', 'Done', 9]]\n",
      "6\n",
      "['Jacob', 25, 'Ahmed', 85, 'yup', ['Done', 9]]\n",
      "['Ahmed', 85, 'yup', ['Done', 9]]\n",
      "('Python', 100, 'VBA', False)\n"
     ]
    }
   ],
   "source": [
    "# Changes a specified element within an List at the given index\n",
    "myList[3] = 85\n",
    "print(myList)\n",
    "\n",
    "# Returns the length of the List\n",
    "print(len(myList))\n",
    "\n",
    "# Removes a specified object from an List\n",
    "myList[5].remove(\"Matt\")\n",
    "print(myList)\n",
    "\n",
    "# Removes the object at the index specified\n",
    "myList.pop(0)\n",
    "myList.pop(0)\n",
    "print(myList)\n",
    "\n",
    "# Creates a tuple, a sequence of immutable Python objects that cannot be changed\n",
    "myTuple = ('Python', 100, 'VBA', False)\n",
    "print(myTuple)"
   ]
  },
  {
   "cell_type": "code",
   "execution_count": null,
   "metadata": {},
   "outputs": [],
   "source": []
  }
 ],
 "metadata": {
  "kernelspec": {
   "display_name": "Python 3",
   "language": "python",
   "name": "python3"
  },
  "language_info": {
   "codemirror_mode": {
    "name": "ipython",
    "version": 3
   },
   "file_extension": ".py",
   "mimetype": "text/x-python",
   "name": "python",
   "nbconvert_exporter": "python",
   "pygments_lexer": "ipython3",
   "version": "3.6.7"
  }
 },
 "nbformat": 4,
 "nbformat_minor": 4
}
