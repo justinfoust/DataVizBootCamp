{
 "cells": [
  {
   "cell_type": "markdown",
   "metadata": {},
   "source": [
    "# GitHub API and SQlAlchemy\n",
    "We will be using GitHub API to query GitHub repos, and store the data to a SQLite DB."
   ]
  },
  {
   "cell_type": "code",
   "execution_count": 1,
   "metadata": {},
   "outputs": [],
   "source": [
    "import requests\n",
    "from requests.auth import HTTPBasicAuth\n",
    "import json\n",
    "from githubinfo import password, username"
   ]
  },
  {
   "cell_type": "code",
   "execution_count": 2,
   "metadata": {},
   "outputs": [],
   "source": [
    "search_topics = ['machine+learning', 'web+framework']\n",
    "search_languages = ['python', 'javascript']"
   ]
  },
  {
   "cell_type": "code",
   "execution_count": 3,
   "metadata": {},
   "outputs": [],
   "source": [
    "baseURL = 'https://api.github.com/search/repositories?q='"
   ]
  },
  {
   "cell_type": "code",
   "execution_count": 4,
   "metadata": {},
   "outputs": [],
   "source": [
    "# Import sqlalchemy methods that we will need. \n",
    "from sqlalchemy import create_engine\n",
    "from sqlalchemy import Column, Integer, String, Float\n",
    "from sqlalchemy.ext.declarative import declarative_base\n",
    "from sqlalchemy.orm import Session"
   ]
  },
  {
   "cell_type": "code",
   "execution_count": 8,
   "metadata": {},
   "outputs": [],
   "source": [
    "# your github username and password\n",
    "user = 'justin.t.foust@gmail.com'\n",
    "password = '7EfQ0485Uj74'"
   ]
  },
  {
   "cell_type": "code",
   "execution_count": 9,
   "metadata": {},
   "outputs": [],
   "source": [
    "# Create Database Connection\n",
    "# ----------------------------------\n",
    "# Creates a connection to our DB\n",
    "engine = create_engine('sqlite:///gitdb.sqlite')"
   ]
  },
  {
   "cell_type": "code",
   "execution_count": 10,
   "metadata": {},
   "outputs": [],
   "source": [
    "# Create a Base to utilize declarative base in SQL Alchemy\n",
    "Base = declarative_base()"
   ]
  },
  {
   "cell_type": "code",
   "execution_count": 11,
   "metadata": {},
   "outputs": [],
   "source": [
    "# Creates a Class which will serve as the anchor points for our Table\n",
    "# name the class GitHubRepos and the table name to be 'gitrepos'\n",
    "# here are the columns:\n",
    "#  id, name, html_url, description, updated_at, created_at, git_url, stargazers_count,\n",
    "#     watchers_count, language, forks, search_topic, search_language\n",
    "\n",
    "class GitHubRepos(Base):\n",
    "    __tablename__ = 'gitrepos'\n",
    "    id = Column(Integer, primary_key=True)\n",
    "    name = Column(String)\n",
    "    html_url = Column(String)\n",
    "    description = Column(String)\n",
    "    updated_at = Column(String)\n",
    "    created_at = Column(String)\n",
    "    git_url = Column(String)\n",
    "    stargazers_count = Column(Integer)\n",
    "    watchers_count = Column(Integer)\n",
    "    language = Column(String)\n",
    "    forks = Column(Integer)\n",
    "    search_topic = Column(String)\n",
    "    search_language = Column(String)"
   ]
  },
  {
   "cell_type": "code",
   "execution_count": 12,
   "metadata": {},
   "outputs": [
    {
     "data": {
      "text/plain": [
       "immutabledict({'gitrepos': Table('gitrepos', MetaData(bind=None), Column('id', Integer(), table=<gitrepos>, primary_key=True, nullable=False), Column('name', String(), table=<gitrepos>), Column('html_url', String(), table=<gitrepos>), Column('description', String(), table=<gitrepos>), Column('updated_at', String(), table=<gitrepos>), Column('created_at', String(), table=<gitrepos>), Column('git_url', String(), table=<gitrepos>), Column('stargazers_count', Integer(), table=<gitrepos>), Column('watchers_count', Integer(), table=<gitrepos>), Column('language', String(), table=<gitrepos>), Column('forks', Integer(), table=<gitrepos>), Column('search_topic', String(), table=<gitrepos>), Column('search_language', String(), table=<gitrepos>), schema=None)})"
      ]
     },
     "execution_count": 12,
     "metadata": {},
     "output_type": "execute_result"
    }
   ],
   "source": [
    "# display tables in local metadata\n",
    "Base.metadata.tables"
   ]
  },
  {
   "cell_type": "code",
   "execution_count": 13,
   "metadata": {},
   "outputs": [],
   "source": [
    "# Create a \"Metadata\" Layer That Abstracts our SQL Database \n",
    "Base.metadata.create_all(engine)"
   ]
  },
  {
   "cell_type": "code",
   "execution_count": 14,
   "metadata": {},
   "outputs": [],
   "source": [
    "# Create a session that binds to our DB\n",
    "session = Session(bind=engine)"
   ]
  },
  {
   "cell_type": "code",
   "execution_count": 15,
   "metadata": {},
   "outputs": [],
   "source": [
    "# make requests and add rows into the DBs\n",
    "# Hint: maybe you can leverage nested loops\n",
    "# Hint: remember you need to write specific data to the DB based on our table structure\n",
    "# Hint: remember how we parse our data when we make an API request \n",
    "for topic in search_topics:\n",
    "    for lang in search_languages:\n",
    "        url = f'https://api.github.com/search/repositories?q={topic}+language:{lang}&sort=stars&order=desc'\n",
    "        r = requests.get(url, auth=HTTPBasicAuth(user,password))\n",
    "        if r.ok:\n",
    "            for i in r.json()['items']:\n",
    "                session.add(GitHubRepos(name=i['name'],\n",
    "                            html_url=i['html_url'],\n",
    "                            description=i['description'],\n",
    "                            updated_at=i['updated_at'],\n",
    "                            created_at=i['created_at'],\n",
    "                            git_url=i['git_url'],\n",
    "                            stargazers_count=i['stargazers_count'],\n",
    "                            watchers_count=i['watchers_count'],\n",
    "                            language=i['language'],\n",
    "                            search_topic=topic,\n",
    "                            search_language=lang))\n",
    "                session.commit()"
   ]
  },
  {
   "cell_type": "code",
   "execution_count": 16,
   "metadata": {},
   "outputs": [
    {
     "data": {
      "text/plain": [
       "{'_sa_instance_state': <sqlalchemy.orm.state.InstanceState at 0x1e9e7823ef0>,\n",
       " 'search_language': 'python',\n",
       " 'forks': None,\n",
       " 'watchers_count': 42535,\n",
       " 'git_url': 'git://github.com/josephmisiti/awesome-machine-learning.git',\n",
       " 'updated_at': '2019-11-16T10:30:38Z',\n",
       " 'description': 'A curated list of awesome Machine Learning frameworks, libraries and software.',\n",
       " 'name': 'awesome-machine-learning',\n",
       " 'search_topic': 'machine+learning',\n",
       " 'language': 'Python',\n",
       " 'stargazers_count': 42535,\n",
       " 'created_at': '2014-07-15T19:11:19Z',\n",
       " 'html_url': 'https://github.com/josephmisiti/awesome-machine-learning',\n",
       " 'id': 1}"
      ]
     },
     "execution_count": 16,
     "metadata": {},
     "output_type": "execute_result"
    }
   ],
   "source": [
    "# to verify: Display first row,  all columns in dictionary format\n",
    "session.query(GitHubRepos).first().__dict__"
   ]
  },
  {
   "cell_type": "code",
   "execution_count": 17,
   "metadata": {},
   "outputs": [
    {
     "data": {
      "text/plain": [
       "[('awesome-machine-learning',\n",
       "  'A curated list of awesome Machine Learning frameworks, libraries and software.'),\n",
       " ('scikit-learn', 'scikit-learn: machine learning in Python'),\n",
       " ('ML-From-Scratch',\n",
       "  'Machine Learning From Scratch. Bare bones NumPy implementations of machine learning models and algorithms with a focus on accessibility. Aims to cover everything from linear regression to deep learning.'),\n",
       " ('DeepFaceLab',\n",
       "  'DeepFaceLab is a tool that utilizes machine learning to replace faces in videos. Includes prebuilt ready to work standalone Windows 7,8,10 binary (look readme.md).'),\n",
       " ('ChatterBot',\n",
       "  'ChatterBot is a machine learning, conversational dialog engine for creating chat bots')]"
      ]
     },
     "execution_count": 17,
     "metadata": {},
     "output_type": "execute_result"
    }
   ],
   "source": [
    "# show first 5 reocrds and just display name and description\n",
    "session.query(GitHubRepos.name, GitHubRepos.description).limit(5).all()"
   ]
  },
  {
   "cell_type": "code",
   "execution_count": null,
   "metadata": {},
   "outputs": [],
   "source": []
  },
  {
   "cell_type": "code",
   "execution_count": null,
   "metadata": {},
   "outputs": [],
   "source": []
  },
  {
   "cell_type": "code",
   "execution_count": null,
   "metadata": {},
   "outputs": [],
   "source": []
  },
  {
   "cell_type": "code",
   "execution_count": null,
   "metadata": {},
   "outputs": [],
   "source": []
  },
  {
   "cell_type": "code",
   "execution_count": null,
   "metadata": {},
   "outputs": [],
   "source": []
  },
  {
   "cell_type": "code",
   "execution_count": null,
   "metadata": {},
   "outputs": [],
   "source": []
  },
  {
   "cell_type": "code",
   "execution_count": null,
   "metadata": {},
   "outputs": [],
   "source": []
  }
 ],
 "metadata": {
  "hide_input": false,
  "kernelspec": {
   "display_name": "Python 3",
   "language": "python",
   "name": "python3"
  },
  "language_info": {
   "codemirror_mode": {
    "name": "ipython",
    "version": 3
   },
   "file_extension": ".py",
   "mimetype": "text/x-python",
   "name": "python",
   "nbconvert_exporter": "python",
   "pygments_lexer": "ipython3",
   "version": "3.7.3"
  },
  "toc": {
   "base_numbering": 1,
   "nav_menu": {},
   "number_sections": true,
   "sideBar": true,
   "skip_h1_title": false,
   "title_cell": "Table of Contents",
   "title_sidebar": "Contents",
   "toc_cell": false,
   "toc_position": {},
   "toc_section_display": true,
   "toc_window_display": false
  },
  "varInspector": {
   "cols": {
    "lenName": 16,
    "lenType": 16,
    "lenVar": 40
   },
   "kernels_config": {
    "python": {
     "delete_cmd_postfix": "",
     "delete_cmd_prefix": "del ",
     "library": "var_list.py",
     "varRefreshCmd": "print(var_dic_list())"
    },
    "r": {
     "delete_cmd_postfix": ") ",
     "delete_cmd_prefix": "rm(",
     "library": "var_list.r",
     "varRefreshCmd": "cat(var_dic_list()) "
    }
   },
   "types_to_exclude": [
    "module",
    "function",
    "builtin_function_or_method",
    "instance",
    "_Feature"
   ],
   "window_display": false
  }
 },
 "nbformat": 4,
 "nbformat_minor": 4
}
