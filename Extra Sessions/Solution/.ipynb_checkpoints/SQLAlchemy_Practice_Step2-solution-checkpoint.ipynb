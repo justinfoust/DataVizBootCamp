{
 "cells": [
  {
   "cell_type": "markdown",
   "metadata": {},
   "source": [
    "# Exploring the GitHub Data inside the sqlite DB"
   ]
  },
  {
   "cell_type": "code",
   "execution_count": 1,
   "metadata": {},
   "outputs": [],
   "source": [
    "from sqlalchemy import create_engine, func, desc, inspect\n",
    "from sqlalchemy.ext.automap import automap_base\n",
    "from sqlalchemy.orm import Session\n",
    "import sqlalchemy"
   ]
  },
  {
   "cell_type": "code",
   "execution_count": 2,
   "metadata": {},
   "outputs": [],
   "source": [
    "# Create engine using the `gitlab.sqlite` database file\n",
    "engine = create_engine(\"sqlite:///gitdb.sqlite\")"
   ]
  },
  {
   "cell_type": "code",
   "execution_count": 3,
   "metadata": {},
   "outputs": [],
   "source": [
    "# Declare a Base using `automap_base()`\n",
    "Base = automap_base()"
   ]
  },
  {
   "cell_type": "code",
   "execution_count": 4,
   "metadata": {},
   "outputs": [],
   "source": [
    "# Use the Base class to reflect the database tables\n",
    "Base.prepare(engine, reflect=True)"
   ]
  },
  {
   "cell_type": "code",
   "execution_count": 5,
   "metadata": {},
   "outputs": [
    {
     "data": {
      "text/plain": [
       "['gitrepos']"
      ]
     },
     "execution_count": 5,
     "metadata": {},
     "output_type": "execute_result"
    }
   ],
   "source": [
    "# Print all of the classes mapped to the Base\n",
    "Base.classes.keys()"
   ]
  },
  {
   "cell_type": "code",
   "execution_count": 6,
   "metadata": {},
   "outputs": [],
   "source": [
    "# Create the inspector and connect it to the engine\n",
    "inspector = inspect(engine)"
   ]
  },
  {
   "cell_type": "code",
   "execution_count": 7,
   "metadata": {},
   "outputs": [
    {
     "data": {
      "text/plain": [
       "['gitrepos']"
      ]
     },
     "execution_count": 7,
     "metadata": {},
     "output_type": "execute_result"
    }
   ],
   "source": [
    "# Collect the names of tables within the database\n",
    "inspector.get_table_names()"
   ]
  },
  {
   "cell_type": "code",
   "execution_count": 8,
   "metadata": {},
   "outputs": [
    {
     "name": "stdout",
     "output_type": "stream",
     "text": [
      "id INTEGER\n",
      "name VARCHAR\n",
      "html_url VARCHAR\n",
      "description VARCHAR\n",
      "updated_at VARCHAR\n",
      "created_at VARCHAR\n",
      "git_url VARCHAR\n",
      "stargazers_count INTEGER\n",
      "watchers_count INTEGER\n",
      "language VARCHAR\n",
      "forks INTEGER\n",
      "search_topic VARCHAR\n",
      "search_language VARCHAR\n"
     ]
    }
   ],
   "source": [
    "# use inspector to remind yourself of the table structure. Display columns name and type\n",
    "for i in inspector.get_columns('gitrepos'):\n",
    "    print(i['name'], i['type'])"
   ]
  },
  {
   "cell_type": "code",
   "execution_count": 9,
   "metadata": {},
   "outputs": [],
   "source": [
    "# Assign the dow class to a variable called `Git` \n",
    "# hint: Base.something.something\n",
    "\n",
    "Git = Base.classes.gitrepos"
   ]
  },
  {
   "cell_type": "code",
   "execution_count": 10,
   "metadata": {},
   "outputs": [],
   "source": [
    "# Create a session that binds to the DB\n",
    "session = Session(engine)"
   ]
  },
  {
   "cell_type": "code",
   "execution_count": 11,
   "metadata": {},
   "outputs": [
    {
     "data": {
      "text/plain": [
       "{'_sa_instance_state': <sqlalchemy.orm.state.InstanceState at 0x104980eb8>,\n",
       " 'html_url': 'https://github.com/josephmisiti/awesome-machine-learning',\n",
       " 'search_language': 'python',\n",
       " 'forks': None,\n",
       " 'id': 1,\n",
       " 'stargazers_count': 42531,\n",
       " 'created_at': '2014-07-15T19:11:19Z',\n",
       " 'description': 'A curated list of awesome Machine Learning frameworks, libraries and software.',\n",
       " 'name': 'awesome-machine-learning',\n",
       " 'language': 'Python',\n",
       " 'search_topic': 'machine+learning',\n",
       " 'watchers_count': 42531,\n",
       " 'git_url': 'git://github.com/josephmisiti/awesome-machine-learning.git',\n",
       " 'updated_at': '2019-11-16T06:48:37Z'}"
      ]
     },
     "execution_count": 11,
     "metadata": {},
     "output_type": "execute_result"
    }
   ],
   "source": [
    "# Display the row's columns and data in dictionary format\n",
    " session.query(Git).first().__dict__"
   ]
  },
  {
   "cell_type": "code",
   "execution_count": 12,
   "metadata": {},
   "outputs": [
    {
     "data": {
      "text/plain": [
       "[('JavaScript', 60), ('Python', 60)]"
      ]
     },
     "execution_count": 12,
     "metadata": {},
     "output_type": "execute_result"
    }
   ],
   "source": [
    "# Count number of records by language\n",
    "session.query(Git.language, func.count(Git.id)).group_by(Git.language).all()"
   ]
  },
  {
   "cell_type": "code",
   "execution_count": 13,
   "metadata": {},
   "outputs": [
    {
     "data": {
      "text/plain": [
       "[('javascript', 60), ('python', 60)]"
      ]
     },
     "execution_count": 13,
     "metadata": {},
     "output_type": "execute_result"
    }
   ],
   "source": [
    "# compare this with the search_lang you used. So, count number of records by search_language\n",
    "session.query(Git.search_language, func.count(Git.id)).group_by(Git.search_language).all()"
   ]
  },
  {
   "cell_type": "code",
   "execution_count": 14,
   "metadata": {},
   "outputs": [
    {
     "data": {
      "text/plain": [
       "[('vue', 152240),\n",
       " ('bootstrap', 136856),\n",
       " ('flask', 47524),\n",
       " ('express', 46178),\n",
       " ('django', 45246),\n",
       " ('awesome-machine-learning', 42531),\n",
       " ('scikit-learn', 38010),\n",
       " ('scrapy', 35081),\n",
       " ('serverless', 32813),\n",
       " ('phaser', 26074)]"
      ]
     },
     "execution_count": 14,
     "metadata": {},
     "output_type": "execute_result"
    }
   ],
   "source": [
    "# show top 10 by stargazer count, display repo name, and stargazer counts\n",
    "session.query(Git.name, Git.stargazers_count).\\\n",
    "                order_by(desc(Git.stargazers_count)).\\\n",
    "                limit(10).all()"
   ]
  },
  {
   "cell_type": "code",
   "execution_count": 77,
   "metadata": {},
   "outputs": [],
   "source": [
    "# show top 10 by language and sort by stargazer count. You should Display repo name, repo language, description, and star count.\n",
    "subq1 = session.query(Git.name, Git.description, Git.stargazers_count, Git.language).\\\n",
    "                filter(Git.language == 'Python').\\\n",
    "                order_by(desc(Git.stargazers_count)).\\\n",
    "                limit(10).subquery()\n",
    "\n",
    "subq2 = session.query(Git.name, Git.description, Git.stargazers_count, Git.language).\\\n",
    "                filter(Git.language == 'JavaScript').\\\n",
    "                order_by(desc(Git.stargazers_count)).\\\n",
    "                limit(10).subquery()"
   ]
  },
  {
   "cell_type": "code",
   "execution_count": 78,
   "metadata": {},
   "outputs": [
    {
     "data": {
      "text/plain": [
       "[('vue',\n",
       "  '🖖 Vue.js is a progressive, incrementally-adoptable JavaScript framework for building UI on the web.',\n",
       "  152240,\n",
       "  'JavaScript'),\n",
       " ('bootstrap',\n",
       "  'The most popular HTML, CSS, and JavaScript framework for developing responsive, mobile first projects on the web.',\n",
       "  136856,\n",
       "  'JavaScript'),\n",
       " ('flask',\n",
       "  'The Python micro framework for building web applications.',\n",
       "  47524,\n",
       "  'Python'),\n",
       " ('express',\n",
       "  'Fast, unopinionated, minimalist web framework for node.',\n",
       "  46178,\n",
       "  'JavaScript'),\n",
       " ('django',\n",
       "  'The Web framework for perfectionists with deadlines.',\n",
       "  45246,\n",
       "  'Python'),\n",
       " ('awesome-machine-learning',\n",
       "  'A curated list of awesome Machine Learning frameworks, libraries and software.',\n",
       "  42531,\n",
       "  'Python'),\n",
       " ('scikit-learn', 'scikit-learn: machine learning in Python', 38010, 'Python'),\n",
       " ('scrapy',\n",
       "  'Scrapy, a fast high-level web crawling & scraping framework for Python.',\n",
       "  35081,\n",
       "  'Python'),\n",
       " ('serverless',\n",
       "  'Serverless Framework – Build web, mobile and IoT applications with serverless architectures using AWS Lambda, Azure Functions, Google CloudFunctions & more! – ',\n",
       "  32813,\n",
       "  'JavaScript'),\n",
       " ('phaser',\n",
       "  'Phaser is a fun, free and fast 2D game framework for making HTML5 games for desktop and mobile web browsers, supporting Canvas and WebGL rendering.',\n",
       "  26074,\n",
       "  'JavaScript'),\n",
       " ('ember.js',\n",
       "  'Ember.js - A JavaScript framework for creating ambitious web applications',\n",
       "  21259,\n",
       "  'JavaScript'),\n",
       " ('tornado',\n",
       "  'Tornado is a Python web framework and asynchronous networking library, originally developed at FriendFeed.',\n",
       "  18541,\n",
       "  'Python'),\n",
       " ('hyperapp',\n",
       "  'The tiny framework for building web interfaces.',\n",
       "  17029,\n",
       "  'JavaScript'),\n",
       " ('django-rest-framework', 'Web APIs for Django. 🎸', 15822, 'Python'),\n",
       " ('keystone-classic',\n",
       "  'Node.js CMS and web app framework',\n",
       "  14879,\n",
       "  'JavaScript'),\n",
       " ('ML-From-Scratch',\n",
       "  'Machine Learning From Scratch. Bare bones NumPy implementations of machine learning models and algorithms with a focus on accessibility. Aims to cover everything from linear regression to deep learning.',\n",
       "  13741,\n",
       "  'Python'),\n",
       " ('amphtml', 'The AMP web component framework.', 13233, 'JavaScript'),\n",
       " ('sanic',\n",
       "  'Async Python 3.6+ web server/framework | Build fast. Run fast.',\n",
       "  13076,\n",
       "  'Python'),\n",
       " ('fastify',\n",
       "  'Fast and low overhead web framework, for Node.js',\n",
       "  12513,\n",
       "  'JavaScript'),\n",
       " ('DeepFaceLab',\n",
       "  'DeepFaceLab is a tool that utilizes machine learning to replace faces in videos. Includes prebuilt ready to work standalone Windows 7,8,10 binary (look readme.md).',\n",
       "  10948,\n",
       "  'Python')]"
      ]
     },
     "execution_count": 78,
     "metadata": {},
     "output_type": "execute_result"
    }
   ],
   "source": [
    "session.query(subq1.c.name, subq1.c.description, subq1.c.stargazers_count, subq1.c.language).\\\n",
    "            union(session.query(subq2.c.name, subq2.c.description, subq2.c.stargazers_count, subq2.c.language)).\\\n",
    "            order_by(desc(subq1.c.stargazers_count)).all()\n"
   ]
  },
  {
   "cell_type": "code",
   "execution_count": null,
   "metadata": {},
   "outputs": [],
   "source": []
  },
  {
   "cell_type": "code",
   "execution_count": null,
   "metadata": {},
   "outputs": [],
   "source": []
  }
 ],
 "metadata": {
  "hide_input": false,
  "kernelspec": {
   "display_name": "Python 3",
   "language": "python",
   "name": "python3"
  },
  "language_info": {
   "codemirror_mode": {
    "name": "ipython",
    "version": 3
   },
   "file_extension": ".py",
   "mimetype": "text/x-python",
   "name": "python",
   "nbconvert_exporter": "python",
   "pygments_lexer": "ipython3",
   "version": "3.7.3"
  },
  "toc": {
   "base_numbering": 1,
   "nav_menu": {},
   "number_sections": true,
   "sideBar": true,
   "skip_h1_title": false,
   "title_cell": "Table of Contents",
   "title_sidebar": "Contents",
   "toc_cell": false,
   "toc_position": {},
   "toc_section_display": true,
   "toc_window_display": false
  },
  "varInspector": {
   "cols": {
    "lenName": 16,
    "lenType": 16,
    "lenVar": 40
   },
   "kernels_config": {
    "python": {
     "delete_cmd_postfix": "",
     "delete_cmd_prefix": "del ",
     "library": "var_list.py",
     "varRefreshCmd": "print(var_dic_list())"
    },
    "r": {
     "delete_cmd_postfix": ") ",
     "delete_cmd_prefix": "rm(",
     "library": "var_list.r",
     "varRefreshCmd": "cat(var_dic_list()) "
    }
   },
   "types_to_exclude": [
    "module",
    "function",
    "builtin_function_or_method",
    "instance",
    "_Feature"
   ],
   "window_display": false
  }
 },
 "nbformat": 4,
 "nbformat_minor": 4
}
