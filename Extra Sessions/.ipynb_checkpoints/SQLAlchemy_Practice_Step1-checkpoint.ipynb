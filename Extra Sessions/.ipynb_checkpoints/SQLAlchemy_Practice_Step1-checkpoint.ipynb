{
 "cells": [
  {
   "cell_type": "markdown",
   "metadata": {},
   "source": [
    "# GitHub API and SQlAlchemy\n",
    "We will be using GitHub API to query GitHub repos, and store the data to a SQLite DB."
   ]
  },
  {
   "cell_type": "code",
   "execution_count": 37,
   "metadata": {},
   "outputs": [],
   "source": [
    "import requests\n",
    "from requests.auth import HTTPBasicAuth\n",
    "import json"
   ]
  },
  {
   "cell_type": "code",
   "execution_count": 38,
   "metadata": {},
   "outputs": [],
   "source": [
    "# We will be searching two topics for both Python and JavaScript\n",
    "search_topics = ['machine+learning', 'web+framework']\n",
    "search_languages = ['python', 'javascript']"
   ]
  },
  {
   "cell_type": "code",
   "execution_count": 39,
   "metadata": {},
   "outputs": [],
   "source": [
    "# Check out Github API documentation at https://developer.github.com/v3/search/#constructing-a-search-query\n",
    "baseURL = 'https://api.github.com/search/repositories?q='"
   ]
  },
  {
   "cell_type": "code",
   "execution_count": 40,
   "metadata": {},
   "outputs": [],
   "source": [
    "# Import sqlalchemy methods that we will need \n",
    "from sqlalchemy import create_engine\n",
    "from sqlalchemy import Column, Integer, String, Float\n",
    "from sqlalchemy.ext.declarative import declarative_base\n",
    "from sqlalchemy.orm import Session"
   ]
  },
  {
   "cell_type": "code",
   "execution_count": 41,
   "metadata": {},
   "outputs": [],
   "source": [
    "# your github username and password to authenticate \n",
    "user = 'justin.t.foust@gmail.com'\n",
    "password = '7EfQ0485Uj74'"
   ]
  },
  {
   "cell_type": "code",
   "execution_count": 42,
   "metadata": {},
   "outputs": [],
   "source": [
    "# Create Database Connection\n",
    "# ----------------------------------\n",
    "# Creates a connection to our DB which we will name 'gitdb' and it is a SQLite database\n",
    "engine = create_engine('sqlite:///Data/gitdb.sqlite')"
   ]
  },
  {
   "cell_type": "code",
   "execution_count": 43,
   "metadata": {},
   "outputs": [],
   "source": [
    "# Create a Base to utilize declarative base in SQLAlchemy\n",
    "Base = declarative_base()"
   ]
  },
  {
   "cell_type": "code",
   "execution_count": 44,
   "metadata": {},
   "outputs": [],
   "source": [
    "# Creates a Class which will serve as the anchor points for our Table\n",
    "# name the class GitHubRepos and the table name to be 'gitrepos'\n",
    "#\n",
    "# List of columns:\n",
    "#  id (this is the primary key), name, html_url, description, updated_at, created_at, git_url, stargazers_count,\n",
    "#     watchers_count, language, forks, search_topic, search_language\n",
    "\n",
    "class GitHubRepos(Base):\n",
    "    __tablename__ = 'gitrepos'\n",
    "    id = Column(Integer, primary_key=True)\n",
    "    name = Column(String)\n",
    "    html_url = Column(String)\n",
    "    description = Column(String)\n",
    "    updated_at = Column(String)\n",
    "    created_at = Column(String)\n",
    "    git_url = Column(String)\n",
    "    stargazers_count = Column(Integer)\n",
    "    watchers_count = Column(Integer)\n",
    "    language = Column(String)\n",
    "    forks = Column(String)\n",
    "    search_topic = Column(String)\n",
    "    search_language = Column(String)\n",
    "    # finish it up"
   ]
  },
  {
   "cell_type": "code",
   "execution_count": 45,
   "metadata": {},
   "outputs": [
    {
     "data": {
      "text/plain": [
       "immutabledict({'gitrepos': Table('gitrepos', MetaData(bind=None), Column('id', Integer(), table=<gitrepos>, primary_key=True, nullable=False), Column('name', String(), table=<gitrepos>), Column('html_url', String(), table=<gitrepos>), Column('description', String(), table=<gitrepos>), Column('updated_at', String(), table=<gitrepos>), Column('created_at', String(), table=<gitrepos>), Column('git_url', String(), table=<gitrepos>), Column('stargazers_count', Integer(), table=<gitrepos>), Column('watchers_count', Integer(), table=<gitrepos>), Column('language', String(), table=<gitrepos>), Column('forks', String(), table=<gitrepos>), Column('search_topic', String(), table=<gitrepos>), Column('search_language', String(), table=<gitrepos>), schema=None)})"
      ]
     },
     "execution_count": 45,
     "metadata": {},
     "output_type": "execute_result"
    }
   ],
   "source": [
    "# display tables in local metadata \n",
    "Base.metadata.tables"
   ]
  },
  {
   "cell_type": "code",
   "execution_count": 46,
   "metadata": {},
   "outputs": [],
   "source": [
    "# Create a \"Metadata\" Layer That Abstracts our SQL Database. \n",
    "# Hint: this is when we reference engine to create the tables that currently reside localy in our code layer\n",
    "Base.metadata.create_all(engine)"
   ]
  },
  {
   "cell_type": "code",
   "execution_count": 47,
   "metadata": {},
   "outputs": [],
   "source": [
    "# Create a session that binds to our DB\n",
    "session = Session(bind=engine)"
   ]
  },
  {
   "cell_type": "code",
   "execution_count": 90,
   "metadata": {},
   "outputs": [],
   "source": [
    "# make requests and add rows into the DBs\n",
    "# Hint: maybe you can leverage nested loops since we have two lists ?! \n",
    "# Hint: remember you need to write specific data to the DB based on our table structure\n",
    "# Hint: remember how we parse our data when we make an API request \n",
    "# Hint: use the example URL below and check out where the variables are placed\n",
    "#url = f'https://api.github.com/search/repositories?q={search_topics}+language:{search_languages}&sort=stars&order=desc'\n",
    "# Hint: to pass authentication infomration \n",
    "#r = requests.get(url, auth=HTTPBasicAuth(user,password)).json()\n",
    "\n",
    "for topic in search_topics:\n",
    "    for lan in search_languages:\n",
    "        url = f'https://api.github.com/search/repositories?q={topic}+language:{lan}&sort=stars&order=desc'\n",
    "        r = requests.get(url, auth=HTTPBasicAuth(user,password))\n",
    "        if r.ok:\n",
    "            for i in r.json()['items']:\n",
    "                                session.add(GitHubRepos(name=i['name'],\n",
    "                                                       html_url=i['html_url'],\n",
    "                                                       description=i['description'],\n",
    "                                                       updated_at=i['updated_at'],\n",
    "                                                       created_at=i['created_at'],\n",
    "                                                       git_url=i['git_url'],\n",
    "                                                       stargazers_count=i['stargazers_count'],\n",
    "                                                       watchers_count=i['watchers_count'],\n",
    "                                                       language=i['language'],\n",
    "                                                       forks=i['forks'],\n",
    "                                                       search_topic=topic,\n",
    "                                                       search_language=lan))\n",
    "                               \n",
    "                                session.commit()"
   ]
  },
  {
   "cell_type": "code",
   "execution_count": 75,
   "metadata": {},
   "outputs": [
    {
     "ename": "KeyError",
     "evalue": "'search_topic'",
     "output_type": "error",
     "traceback": [
      "\u001b[1;31m---------------------------------------------------------------------------\u001b[0m",
      "\u001b[1;31mKeyError\u001b[0m                                  Traceback (most recent call last)",
      "\u001b[1;32m<ipython-input-75-c0ac993752ef>\u001b[0m in \u001b[0;36m<module>\u001b[1;34m\u001b[0m\n\u001b[1;32m----> 1\u001b[1;33m \u001b[0mentry\u001b[0m \u001b[1;33m=\u001b[0m \u001b[0mGitHubRepos\u001b[0m\u001b[1;33m(\u001b[0m\u001b[0mname\u001b[0m\u001b[1;33m=\u001b[0m\u001b[0mr\u001b[0m\u001b[1;33m[\u001b[0m\u001b[1;34m'items'\u001b[0m\u001b[1;33m]\u001b[0m\u001b[1;33m[\u001b[0m\u001b[1;36m0\u001b[0m\u001b[1;33m]\u001b[0m\u001b[1;33m[\u001b[0m\u001b[1;34m'name'\u001b[0m\u001b[1;33m]\u001b[0m\u001b[1;33m,\u001b[0m \u001b[0mhtml_url\u001b[0m\u001b[1;33m=\u001b[0m\u001b[0mr\u001b[0m\u001b[1;33m[\u001b[0m\u001b[1;34m'items'\u001b[0m\u001b[1;33m]\u001b[0m\u001b[1;33m[\u001b[0m\u001b[1;36m0\u001b[0m\u001b[1;33m]\u001b[0m\u001b[1;33m[\u001b[0m\u001b[1;34m'html_url'\u001b[0m\u001b[1;33m]\u001b[0m\u001b[1;33m,\u001b[0m \u001b[0mdescription\u001b[0m\u001b[1;33m=\u001b[0m\u001b[0mr\u001b[0m\u001b[1;33m[\u001b[0m\u001b[1;34m'items'\u001b[0m\u001b[1;33m]\u001b[0m\u001b[1;33m[\u001b[0m\u001b[1;36m0\u001b[0m\u001b[1;33m]\u001b[0m\u001b[1;33m[\u001b[0m\u001b[1;34m'description'\u001b[0m\u001b[1;33m]\u001b[0m\u001b[1;33m,\u001b[0m \u001b[0mupdated_at\u001b[0m\u001b[1;33m=\u001b[0m\u001b[0mr\u001b[0m\u001b[1;33m[\u001b[0m\u001b[1;34m'items'\u001b[0m\u001b[1;33m]\u001b[0m\u001b[1;33m[\u001b[0m\u001b[1;36m0\u001b[0m\u001b[1;33m]\u001b[0m\u001b[1;33m[\u001b[0m\u001b[1;34m'updated_at'\u001b[0m\u001b[1;33m]\u001b[0m\u001b[1;33m,\u001b[0m \u001b[0mcreated_at\u001b[0m\u001b[1;33m=\u001b[0m\u001b[0mr\u001b[0m\u001b[1;33m[\u001b[0m\u001b[1;34m'items'\u001b[0m\u001b[1;33m]\u001b[0m\u001b[1;33m[\u001b[0m\u001b[1;36m0\u001b[0m\u001b[1;33m]\u001b[0m\u001b[1;33m[\u001b[0m\u001b[1;34m'created_at'\u001b[0m\u001b[1;33m]\u001b[0m\u001b[1;33m,\u001b[0m \u001b[0mgit_url\u001b[0m\u001b[1;33m=\u001b[0m\u001b[0mr\u001b[0m\u001b[1;33m[\u001b[0m\u001b[1;34m'items'\u001b[0m\u001b[1;33m]\u001b[0m\u001b[1;33m[\u001b[0m\u001b[1;36m0\u001b[0m\u001b[1;33m]\u001b[0m\u001b[1;33m[\u001b[0m\u001b[1;34m'git_url'\u001b[0m\u001b[1;33m]\u001b[0m\u001b[1;33m,\u001b[0m \u001b[0mstargazers_count\u001b[0m\u001b[1;33m=\u001b[0m\u001b[0mr\u001b[0m\u001b[1;33m[\u001b[0m\u001b[1;34m'items'\u001b[0m\u001b[1;33m]\u001b[0m\u001b[1;33m[\u001b[0m\u001b[1;36m0\u001b[0m\u001b[1;33m]\u001b[0m\u001b[1;33m[\u001b[0m\u001b[1;34m'stargazers_count'\u001b[0m\u001b[1;33m]\u001b[0m\u001b[1;33m,\u001b[0m \u001b[0mwatchers_count\u001b[0m\u001b[1;33m=\u001b[0m\u001b[0mr\u001b[0m\u001b[1;33m[\u001b[0m\u001b[1;34m'items'\u001b[0m\u001b[1;33m]\u001b[0m\u001b[1;33m[\u001b[0m\u001b[1;36m0\u001b[0m\u001b[1;33m]\u001b[0m\u001b[1;33m[\u001b[0m\u001b[1;34m'watchers_count'\u001b[0m\u001b[1;33m]\u001b[0m\u001b[1;33m,\u001b[0m \u001b[0mlanguage\u001b[0m\u001b[1;33m=\u001b[0m\u001b[0mr\u001b[0m\u001b[1;33m[\u001b[0m\u001b[1;34m'items'\u001b[0m\u001b[1;33m]\u001b[0m\u001b[1;33m[\u001b[0m\u001b[1;36m0\u001b[0m\u001b[1;33m]\u001b[0m\u001b[1;33m[\u001b[0m\u001b[1;34m'language'\u001b[0m\u001b[1;33m]\u001b[0m\u001b[1;33m,\u001b[0m \u001b[0mforks\u001b[0m\u001b[1;33m=\u001b[0m\u001b[0mr\u001b[0m\u001b[1;33m[\u001b[0m\u001b[1;34m'items'\u001b[0m\u001b[1;33m]\u001b[0m\u001b[1;33m[\u001b[0m\u001b[1;36m0\u001b[0m\u001b[1;33m]\u001b[0m\u001b[1;33m[\u001b[0m\u001b[1;34m'forks'\u001b[0m\u001b[1;33m]\u001b[0m\u001b[1;33m,\u001b[0m \u001b[0msearch_topic\u001b[0m\u001b[1;33m=\u001b[0m\u001b[0mr\u001b[0m\u001b[1;33m[\u001b[0m\u001b[1;34m'items'\u001b[0m\u001b[1;33m]\u001b[0m\u001b[1;33m[\u001b[0m\u001b[1;36m0\u001b[0m\u001b[1;33m]\u001b[0m\u001b[1;33m[\u001b[0m\u001b[1;34m'search_topic'\u001b[0m\u001b[1;33m]\u001b[0m\u001b[1;33m,\u001b[0m \u001b[0msearch_language\u001b[0m\u001b[1;33m=\u001b[0m\u001b[0mr\u001b[0m\u001b[1;33m[\u001b[0m\u001b[1;34m'items'\u001b[0m\u001b[1;33m]\u001b[0m\u001b[1;33m[\u001b[0m\u001b[1;36m0\u001b[0m\u001b[1;33m]\u001b[0m\u001b[1;33m[\u001b[0m\u001b[1;34m'search_language'\u001b[0m\u001b[1;33m]\u001b[0m\u001b[1;33m)\u001b[0m\u001b[1;33m\u001b[0m\u001b[1;33m\u001b[0m\u001b[0m\n\u001b[0m",
      "\u001b[1;31mKeyError\u001b[0m: 'search_topic'"
     ]
    }
   ],
   "source": [
    "entry = GitHubRepos(name=r['items'][0]['name'], html_url=r['items'][0]['html_url'], description=r['items'][0]['description'], updated_at=r['items'][0]['updated_at'], created_at=r['items'][0]['created_at'], git_url=r['items'][0]['git_url'], stargazers_count=r['items'][0]['stargazers_count'], watchers_count=r['items'][0]['watchers_count'], language=r['items'][0]['language'], forks=r['items'][0]['forks'], search_topic='machine learning and Web Framework', search_language='Python and ')"
   ]
  },
  {
   "cell_type": "code",
   "execution_count": 80,
   "metadata": {
    "collapsed": true
   },
   "outputs": [
    {
     "data": {
      "text/plain": [
       "{'total_count': 2,\n",
       " 'incomplete_results': False,\n",
       " 'items': [{'id': 81451011,\n",
       "   'node_id': 'MDEwOlJlcG9zaXRvcnk4MTQ1MTAxMQ==',\n",
       "   'name': 'Detecting-Twitter-Bots-using-Machine-Learning',\n",
       "   'full_name': 'emmethanratty/Detecting-Twitter-Bots-using-Machine-Learning',\n",
       "   'private': False,\n",
       "   'owner': {'login': 'emmethanratty',\n",
       "    'id': 6748655,\n",
       "    'node_id': 'MDQ6VXNlcjY3NDg2NTU=',\n",
       "    'avatar_url': 'https://avatars1.githubusercontent.com/u/6748655?v=4',\n",
       "    'gravatar_id': '',\n",
       "    'url': 'https://api.github.com/users/emmethanratty',\n",
       "    'html_url': 'https://github.com/emmethanratty',\n",
       "    'followers_url': 'https://api.github.com/users/emmethanratty/followers',\n",
       "    'following_url': 'https://api.github.com/users/emmethanratty/following{/other_user}',\n",
       "    'gists_url': 'https://api.github.com/users/emmethanratty/gists{/gist_id}',\n",
       "    'starred_url': 'https://api.github.com/users/emmethanratty/starred{/owner}{/repo}',\n",
       "    'subscriptions_url': 'https://api.github.com/users/emmethanratty/subscriptions',\n",
       "    'organizations_url': 'https://api.github.com/users/emmethanratty/orgs',\n",
       "    'repos_url': 'https://api.github.com/users/emmethanratty/repos',\n",
       "    'events_url': 'https://api.github.com/users/emmethanratty/events{/privacy}',\n",
       "    'received_events_url': 'https://api.github.com/users/emmethanratty/received_events',\n",
       "    'type': 'User',\n",
       "    'site_admin': False},\n",
       "   'html_url': 'https://github.com/emmethanratty/Detecting-Twitter-Bots-using-Machine-Learning',\n",
       "   'description': 'Twitter is one of the most popular social networking sites currently on the market. Released in 2006 it has been steadily growing since its creation and currently sits at the 10th largest website in the world . Its main purpose is microblogging which are called tweets.  With a popularity, such as this, there is inevitability that it would become a target for spammers and scammers. A lot of these Twitter accounts are in the form of bots, automated programs that follow vast amounts of people and can spam normal Twitter accounts with links to nefarious websites. In this project, the objective is to create and teach a machine learning program to detect these bot accounts, to help expose them from normal Twitter accounts. There is a web based interface where a user can input a URL for a Twitter account to determine whether they are a real or not.  The project is a web based system developed in the Django framework, also including front-end technologies such as JavaScript, Bootstrap, HTML, and CSS. It uses a MySQL database to store and query a user’s Twitter account and display the likelihood of that user being a bot. It uses Scikit Learn Machine learning libraries to create the models used for evaluating a user.',\n",
       "   'fork': False,\n",
       "   'url': 'https://api.github.com/repos/emmethanratty/Detecting-Twitter-Bots-using-Machine-Learning',\n",
       "   'forks_url': 'https://api.github.com/repos/emmethanratty/Detecting-Twitter-Bots-using-Machine-Learning/forks',\n",
       "   'keys_url': 'https://api.github.com/repos/emmethanratty/Detecting-Twitter-Bots-using-Machine-Learning/keys{/key_id}',\n",
       "   'collaborators_url': 'https://api.github.com/repos/emmethanratty/Detecting-Twitter-Bots-using-Machine-Learning/collaborators{/collaborator}',\n",
       "   'teams_url': 'https://api.github.com/repos/emmethanratty/Detecting-Twitter-Bots-using-Machine-Learning/teams',\n",
       "   'hooks_url': 'https://api.github.com/repos/emmethanratty/Detecting-Twitter-Bots-using-Machine-Learning/hooks',\n",
       "   'issue_events_url': 'https://api.github.com/repos/emmethanratty/Detecting-Twitter-Bots-using-Machine-Learning/issues/events{/number}',\n",
       "   'events_url': 'https://api.github.com/repos/emmethanratty/Detecting-Twitter-Bots-using-Machine-Learning/events',\n",
       "   'assignees_url': 'https://api.github.com/repos/emmethanratty/Detecting-Twitter-Bots-using-Machine-Learning/assignees{/user}',\n",
       "   'branches_url': 'https://api.github.com/repos/emmethanratty/Detecting-Twitter-Bots-using-Machine-Learning/branches{/branch}',\n",
       "   'tags_url': 'https://api.github.com/repos/emmethanratty/Detecting-Twitter-Bots-using-Machine-Learning/tags',\n",
       "   'blobs_url': 'https://api.github.com/repos/emmethanratty/Detecting-Twitter-Bots-using-Machine-Learning/git/blobs{/sha}',\n",
       "   'git_tags_url': 'https://api.github.com/repos/emmethanratty/Detecting-Twitter-Bots-using-Machine-Learning/git/tags{/sha}',\n",
       "   'git_refs_url': 'https://api.github.com/repos/emmethanratty/Detecting-Twitter-Bots-using-Machine-Learning/git/refs{/sha}',\n",
       "   'trees_url': 'https://api.github.com/repos/emmethanratty/Detecting-Twitter-Bots-using-Machine-Learning/git/trees{/sha}',\n",
       "   'statuses_url': 'https://api.github.com/repos/emmethanratty/Detecting-Twitter-Bots-using-Machine-Learning/statuses/{sha}',\n",
       "   'languages_url': 'https://api.github.com/repos/emmethanratty/Detecting-Twitter-Bots-using-Machine-Learning/languages',\n",
       "   'stargazers_url': 'https://api.github.com/repos/emmethanratty/Detecting-Twitter-Bots-using-Machine-Learning/stargazers',\n",
       "   'contributors_url': 'https://api.github.com/repos/emmethanratty/Detecting-Twitter-Bots-using-Machine-Learning/contributors',\n",
       "   'subscribers_url': 'https://api.github.com/repos/emmethanratty/Detecting-Twitter-Bots-using-Machine-Learning/subscribers',\n",
       "   'subscription_url': 'https://api.github.com/repos/emmethanratty/Detecting-Twitter-Bots-using-Machine-Learning/subscription',\n",
       "   'commits_url': 'https://api.github.com/repos/emmethanratty/Detecting-Twitter-Bots-using-Machine-Learning/commits{/sha}',\n",
       "   'git_commits_url': 'https://api.github.com/repos/emmethanratty/Detecting-Twitter-Bots-using-Machine-Learning/git/commits{/sha}',\n",
       "   'comments_url': 'https://api.github.com/repos/emmethanratty/Detecting-Twitter-Bots-using-Machine-Learning/comments{/number}',\n",
       "   'issue_comment_url': 'https://api.github.com/repos/emmethanratty/Detecting-Twitter-Bots-using-Machine-Learning/issues/comments{/number}',\n",
       "   'contents_url': 'https://api.github.com/repos/emmethanratty/Detecting-Twitter-Bots-using-Machine-Learning/contents/{+path}',\n",
       "   'compare_url': 'https://api.github.com/repos/emmethanratty/Detecting-Twitter-Bots-using-Machine-Learning/compare/{base}...{head}',\n",
       "   'merges_url': 'https://api.github.com/repos/emmethanratty/Detecting-Twitter-Bots-using-Machine-Learning/merges',\n",
       "   'archive_url': 'https://api.github.com/repos/emmethanratty/Detecting-Twitter-Bots-using-Machine-Learning/{archive_format}{/ref}',\n",
       "   'downloads_url': 'https://api.github.com/repos/emmethanratty/Detecting-Twitter-Bots-using-Machine-Learning/downloads',\n",
       "   'issues_url': 'https://api.github.com/repos/emmethanratty/Detecting-Twitter-Bots-using-Machine-Learning/issues{/number}',\n",
       "   'pulls_url': 'https://api.github.com/repos/emmethanratty/Detecting-Twitter-Bots-using-Machine-Learning/pulls{/number}',\n",
       "   'milestones_url': 'https://api.github.com/repos/emmethanratty/Detecting-Twitter-Bots-using-Machine-Learning/milestones{/number}',\n",
       "   'notifications_url': 'https://api.github.com/repos/emmethanratty/Detecting-Twitter-Bots-using-Machine-Learning/notifications{?since,all,participating}',\n",
       "   'labels_url': 'https://api.github.com/repos/emmethanratty/Detecting-Twitter-Bots-using-Machine-Learning/labels{/name}',\n",
       "   'releases_url': 'https://api.github.com/repos/emmethanratty/Detecting-Twitter-Bots-using-Machine-Learning/releases{/id}',\n",
       "   'deployments_url': 'https://api.github.com/repos/emmethanratty/Detecting-Twitter-Bots-using-Machine-Learning/deployments',\n",
       "   'created_at': '2017-02-09T13:05:27Z',\n",
       "   'updated_at': '2019-02-24T20:26:24Z',\n",
       "   'pushed_at': '2017-06-10T11:34:31Z',\n",
       "   'git_url': 'git://github.com/emmethanratty/Detecting-Twitter-Bots-using-Machine-Learning.git',\n",
       "   'ssh_url': 'git@github.com:emmethanratty/Detecting-Twitter-Bots-using-Machine-Learning.git',\n",
       "   'clone_url': 'https://github.com/emmethanratty/Detecting-Twitter-Bots-using-Machine-Learning.git',\n",
       "   'svn_url': 'https://github.com/emmethanratty/Detecting-Twitter-Bots-using-Machine-Learning',\n",
       "   'homepage': '',\n",
       "   'size': 13256,\n",
       "   'stargazers_count': 2,\n",
       "   'watchers_count': 2,\n",
       "   'language': 'Python',\n",
       "   'has_issues': True,\n",
       "   'has_projects': True,\n",
       "   'has_downloads': True,\n",
       "   'has_wiki': True,\n",
       "   'has_pages': False,\n",
       "   'forks_count': 0,\n",
       "   'mirror_url': None,\n",
       "   'archived': False,\n",
       "   'disabled': False,\n",
       "   'open_issues_count': 0,\n",
       "   'license': None,\n",
       "   'forks': 0,\n",
       "   'open_issues': 0,\n",
       "   'watchers': 2,\n",
       "   'default_branch': 'master',\n",
       "   'permissions': {'admin': False, 'push': False, 'pull': True},\n",
       "   'score': 3.8418703},\n",
       "  {'id': 110314837,\n",
       "   'node_id': 'MDEwOlJlcG9zaXRvcnkxMTAzMTQ4Mzc=',\n",
       "   'name': 'JavaScriptMLFramework',\n",
       "   'full_name': 'PythonBoi/JavaScriptMLFramework',\n",
       "   'private': False,\n",
       "   'owner': {'login': 'PythonBoi',\n",
       "    'id': 33506968,\n",
       "    'node_id': 'MDQ6VXNlcjMzNTA2OTY4',\n",
       "    'avatar_url': 'https://avatars1.githubusercontent.com/u/33506968?v=4',\n",
       "    'gravatar_id': '',\n",
       "    'url': 'https://api.github.com/users/PythonBoi',\n",
       "    'html_url': 'https://github.com/PythonBoi',\n",
       "    'followers_url': 'https://api.github.com/users/PythonBoi/followers',\n",
       "    'following_url': 'https://api.github.com/users/PythonBoi/following{/other_user}',\n",
       "    'gists_url': 'https://api.github.com/users/PythonBoi/gists{/gist_id}',\n",
       "    'starred_url': 'https://api.github.com/users/PythonBoi/starred{/owner}{/repo}',\n",
       "    'subscriptions_url': 'https://api.github.com/users/PythonBoi/subscriptions',\n",
       "    'organizations_url': 'https://api.github.com/users/PythonBoi/orgs',\n",
       "    'repos_url': 'https://api.github.com/users/PythonBoi/repos',\n",
       "    'events_url': 'https://api.github.com/users/PythonBoi/events{/privacy}',\n",
       "    'received_events_url': 'https://api.github.com/users/PythonBoi/received_events',\n",
       "    'type': 'User',\n",
       "    'site_admin': False},\n",
       "   'html_url': 'https://github.com/PythonBoi/JavaScriptMLFramework',\n",
       "   'description': 'A light framework for machine learning projects on javascript for web applications',\n",
       "   'fork': False,\n",
       "   'url': 'https://api.github.com/repos/PythonBoi/JavaScriptMLFramework',\n",
       "   'forks_url': 'https://api.github.com/repos/PythonBoi/JavaScriptMLFramework/forks',\n",
       "   'keys_url': 'https://api.github.com/repos/PythonBoi/JavaScriptMLFramework/keys{/key_id}',\n",
       "   'collaborators_url': 'https://api.github.com/repos/PythonBoi/JavaScriptMLFramework/collaborators{/collaborator}',\n",
       "   'teams_url': 'https://api.github.com/repos/PythonBoi/JavaScriptMLFramework/teams',\n",
       "   'hooks_url': 'https://api.github.com/repos/PythonBoi/JavaScriptMLFramework/hooks',\n",
       "   'issue_events_url': 'https://api.github.com/repos/PythonBoi/JavaScriptMLFramework/issues/events{/number}',\n",
       "   'events_url': 'https://api.github.com/repos/PythonBoi/JavaScriptMLFramework/events',\n",
       "   'assignees_url': 'https://api.github.com/repos/PythonBoi/JavaScriptMLFramework/assignees{/user}',\n",
       "   'branches_url': 'https://api.github.com/repos/PythonBoi/JavaScriptMLFramework/branches{/branch}',\n",
       "   'tags_url': 'https://api.github.com/repos/PythonBoi/JavaScriptMLFramework/tags',\n",
       "   'blobs_url': 'https://api.github.com/repos/PythonBoi/JavaScriptMLFramework/git/blobs{/sha}',\n",
       "   'git_tags_url': 'https://api.github.com/repos/PythonBoi/JavaScriptMLFramework/git/tags{/sha}',\n",
       "   'git_refs_url': 'https://api.github.com/repos/PythonBoi/JavaScriptMLFramework/git/refs{/sha}',\n",
       "   'trees_url': 'https://api.github.com/repos/PythonBoi/JavaScriptMLFramework/git/trees{/sha}',\n",
       "   'statuses_url': 'https://api.github.com/repos/PythonBoi/JavaScriptMLFramework/statuses/{sha}',\n",
       "   'languages_url': 'https://api.github.com/repos/PythonBoi/JavaScriptMLFramework/languages',\n",
       "   'stargazers_url': 'https://api.github.com/repos/PythonBoi/JavaScriptMLFramework/stargazers',\n",
       "   'contributors_url': 'https://api.github.com/repos/PythonBoi/JavaScriptMLFramework/contributors',\n",
       "   'subscribers_url': 'https://api.github.com/repos/PythonBoi/JavaScriptMLFramework/subscribers',\n",
       "   'subscription_url': 'https://api.github.com/repos/PythonBoi/JavaScriptMLFramework/subscription',\n",
       "   'commits_url': 'https://api.github.com/repos/PythonBoi/JavaScriptMLFramework/commits{/sha}',\n",
       "   'git_commits_url': 'https://api.github.com/repos/PythonBoi/JavaScriptMLFramework/git/commits{/sha}',\n",
       "   'comments_url': 'https://api.github.com/repos/PythonBoi/JavaScriptMLFramework/comments{/number}',\n",
       "   'issue_comment_url': 'https://api.github.com/repos/PythonBoi/JavaScriptMLFramework/issues/comments{/number}',\n",
       "   'contents_url': 'https://api.github.com/repos/PythonBoi/JavaScriptMLFramework/contents/{+path}',\n",
       "   'compare_url': 'https://api.github.com/repos/PythonBoi/JavaScriptMLFramework/compare/{base}...{head}',\n",
       "   'merges_url': 'https://api.github.com/repos/PythonBoi/JavaScriptMLFramework/merges',\n",
       "   'archive_url': 'https://api.github.com/repos/PythonBoi/JavaScriptMLFramework/{archive_format}{/ref}',\n",
       "   'downloads_url': 'https://api.github.com/repos/PythonBoi/JavaScriptMLFramework/downloads',\n",
       "   'issues_url': 'https://api.github.com/repos/PythonBoi/JavaScriptMLFramework/issues{/number}',\n",
       "   'pulls_url': 'https://api.github.com/repos/PythonBoi/JavaScriptMLFramework/pulls{/number}',\n",
       "   'milestones_url': 'https://api.github.com/repos/PythonBoi/JavaScriptMLFramework/milestones{/number}',\n",
       "   'notifications_url': 'https://api.github.com/repos/PythonBoi/JavaScriptMLFramework/notifications{?since,all,participating}',\n",
       "   'labels_url': 'https://api.github.com/repos/PythonBoi/JavaScriptMLFramework/labels{/name}',\n",
       "   'releases_url': 'https://api.github.com/repos/PythonBoi/JavaScriptMLFramework/releases{/id}',\n",
       "   'deployments_url': 'https://api.github.com/repos/PythonBoi/JavaScriptMLFramework/deployments',\n",
       "   'created_at': '2017-11-11T03:28:50Z',\n",
       "   'updated_at': '2017-11-11T03:28:50Z',\n",
       "   'pushed_at': '2017-11-11T03:28:51Z',\n",
       "   'git_url': 'git://github.com/PythonBoi/JavaScriptMLFramework.git',\n",
       "   'ssh_url': 'git@github.com:PythonBoi/JavaScriptMLFramework.git',\n",
       "   'clone_url': 'https://github.com/PythonBoi/JavaScriptMLFramework.git',\n",
       "   'svn_url': 'https://github.com/PythonBoi/JavaScriptMLFramework',\n",
       "   'homepage': None,\n",
       "   'size': 0,\n",
       "   'stargazers_count': 0,\n",
       "   'watchers_count': 0,\n",
       "   'language': None,\n",
       "   'has_issues': True,\n",
       "   'has_projects': True,\n",
       "   'has_downloads': True,\n",
       "   'has_wiki': True,\n",
       "   'has_pages': False,\n",
       "   'forks_count': 0,\n",
       "   'mirror_url': None,\n",
       "   'archived': False,\n",
       "   'disabled': False,\n",
       "   'open_issues_count': 0,\n",
       "   'license': None,\n",
       "   'forks': 0,\n",
       "   'open_issues': 0,\n",
       "   'watchers': 0,\n",
       "   'default_branch': 'master',\n",
       "   'permissions': {'admin': False, 'push': False, 'pull': True},\n",
       "   'score': 16.337915}]}"
      ]
     },
     "execution_count": 80,
     "metadata": {},
     "output_type": "execute_result"
    }
   ],
   "source": [
    "r"
   ]
  },
  {
   "cell_type": "code",
   "execution_count": 73,
   "metadata": {
    "collapsed": true
   },
   "outputs": [
    {
     "data": {
      "text/plain": [
       "{'id': 81451011,\n",
       " 'node_id': 'MDEwOlJlcG9zaXRvcnk4MTQ1MTAxMQ==',\n",
       " 'name': 'Detecting-Twitter-Bots-using-Machine-Learning',\n",
       " 'full_name': 'emmethanratty/Detecting-Twitter-Bots-using-Machine-Learning',\n",
       " 'private': False,\n",
       " 'owner': {'login': 'emmethanratty',\n",
       "  'id': 6748655,\n",
       "  'node_id': 'MDQ6VXNlcjY3NDg2NTU=',\n",
       "  'avatar_url': 'https://avatars1.githubusercontent.com/u/6748655?v=4',\n",
       "  'gravatar_id': '',\n",
       "  'url': 'https://api.github.com/users/emmethanratty',\n",
       "  'html_url': 'https://github.com/emmethanratty',\n",
       "  'followers_url': 'https://api.github.com/users/emmethanratty/followers',\n",
       "  'following_url': 'https://api.github.com/users/emmethanratty/following{/other_user}',\n",
       "  'gists_url': 'https://api.github.com/users/emmethanratty/gists{/gist_id}',\n",
       "  'starred_url': 'https://api.github.com/users/emmethanratty/starred{/owner}{/repo}',\n",
       "  'subscriptions_url': 'https://api.github.com/users/emmethanratty/subscriptions',\n",
       "  'organizations_url': 'https://api.github.com/users/emmethanratty/orgs',\n",
       "  'repos_url': 'https://api.github.com/users/emmethanratty/repos',\n",
       "  'events_url': 'https://api.github.com/users/emmethanratty/events{/privacy}',\n",
       "  'received_events_url': 'https://api.github.com/users/emmethanratty/received_events',\n",
       "  'type': 'User',\n",
       "  'site_admin': False},\n",
       " 'html_url': 'https://github.com/emmethanratty/Detecting-Twitter-Bots-using-Machine-Learning',\n",
       " 'description': 'Twitter is one of the most popular social networking sites currently on the market. Released in 2006 it has been steadily growing since its creation and currently sits at the 10th largest website in the world . Its main purpose is microblogging which are called tweets.  With a popularity, such as this, there is inevitability that it would become a target for spammers and scammers. A lot of these Twitter accounts are in the form of bots, automated programs that follow vast amounts of people and can spam normal Twitter accounts with links to nefarious websites. In this project, the objective is to create and teach a machine learning program to detect these bot accounts, to help expose them from normal Twitter accounts. There is a web based interface where a user can input a URL for a Twitter account to determine whether they are a real or not.  The project is a web based system developed in the Django framework, also including front-end technologies such as JavaScript, Bootstrap, HTML, and CSS. It uses a MySQL database to store and query a user’s Twitter account and display the likelihood of that user being a bot. It uses Scikit Learn Machine learning libraries to create the models used for evaluating a user.',\n",
       " 'fork': False,\n",
       " 'url': 'https://api.github.com/repos/emmethanratty/Detecting-Twitter-Bots-using-Machine-Learning',\n",
       " 'forks_url': 'https://api.github.com/repos/emmethanratty/Detecting-Twitter-Bots-using-Machine-Learning/forks',\n",
       " 'keys_url': 'https://api.github.com/repos/emmethanratty/Detecting-Twitter-Bots-using-Machine-Learning/keys{/key_id}',\n",
       " 'collaborators_url': 'https://api.github.com/repos/emmethanratty/Detecting-Twitter-Bots-using-Machine-Learning/collaborators{/collaborator}',\n",
       " 'teams_url': 'https://api.github.com/repos/emmethanratty/Detecting-Twitter-Bots-using-Machine-Learning/teams',\n",
       " 'hooks_url': 'https://api.github.com/repos/emmethanratty/Detecting-Twitter-Bots-using-Machine-Learning/hooks',\n",
       " 'issue_events_url': 'https://api.github.com/repos/emmethanratty/Detecting-Twitter-Bots-using-Machine-Learning/issues/events{/number}',\n",
       " 'events_url': 'https://api.github.com/repos/emmethanratty/Detecting-Twitter-Bots-using-Machine-Learning/events',\n",
       " 'assignees_url': 'https://api.github.com/repos/emmethanratty/Detecting-Twitter-Bots-using-Machine-Learning/assignees{/user}',\n",
       " 'branches_url': 'https://api.github.com/repos/emmethanratty/Detecting-Twitter-Bots-using-Machine-Learning/branches{/branch}',\n",
       " 'tags_url': 'https://api.github.com/repos/emmethanratty/Detecting-Twitter-Bots-using-Machine-Learning/tags',\n",
       " 'blobs_url': 'https://api.github.com/repos/emmethanratty/Detecting-Twitter-Bots-using-Machine-Learning/git/blobs{/sha}',\n",
       " 'git_tags_url': 'https://api.github.com/repos/emmethanratty/Detecting-Twitter-Bots-using-Machine-Learning/git/tags{/sha}',\n",
       " 'git_refs_url': 'https://api.github.com/repos/emmethanratty/Detecting-Twitter-Bots-using-Machine-Learning/git/refs{/sha}',\n",
       " 'trees_url': 'https://api.github.com/repos/emmethanratty/Detecting-Twitter-Bots-using-Machine-Learning/git/trees{/sha}',\n",
       " 'statuses_url': 'https://api.github.com/repos/emmethanratty/Detecting-Twitter-Bots-using-Machine-Learning/statuses/{sha}',\n",
       " 'languages_url': 'https://api.github.com/repos/emmethanratty/Detecting-Twitter-Bots-using-Machine-Learning/languages',\n",
       " 'stargazers_url': 'https://api.github.com/repos/emmethanratty/Detecting-Twitter-Bots-using-Machine-Learning/stargazers',\n",
       " 'contributors_url': 'https://api.github.com/repos/emmethanratty/Detecting-Twitter-Bots-using-Machine-Learning/contributors',\n",
       " 'subscribers_url': 'https://api.github.com/repos/emmethanratty/Detecting-Twitter-Bots-using-Machine-Learning/subscribers',\n",
       " 'subscription_url': 'https://api.github.com/repos/emmethanratty/Detecting-Twitter-Bots-using-Machine-Learning/subscription',\n",
       " 'commits_url': 'https://api.github.com/repos/emmethanratty/Detecting-Twitter-Bots-using-Machine-Learning/commits{/sha}',\n",
       " 'git_commits_url': 'https://api.github.com/repos/emmethanratty/Detecting-Twitter-Bots-using-Machine-Learning/git/commits{/sha}',\n",
       " 'comments_url': 'https://api.github.com/repos/emmethanratty/Detecting-Twitter-Bots-using-Machine-Learning/comments{/number}',\n",
       " 'issue_comment_url': 'https://api.github.com/repos/emmethanratty/Detecting-Twitter-Bots-using-Machine-Learning/issues/comments{/number}',\n",
       " 'contents_url': 'https://api.github.com/repos/emmethanratty/Detecting-Twitter-Bots-using-Machine-Learning/contents/{+path}',\n",
       " 'compare_url': 'https://api.github.com/repos/emmethanratty/Detecting-Twitter-Bots-using-Machine-Learning/compare/{base}...{head}',\n",
       " 'merges_url': 'https://api.github.com/repos/emmethanratty/Detecting-Twitter-Bots-using-Machine-Learning/merges',\n",
       " 'archive_url': 'https://api.github.com/repos/emmethanratty/Detecting-Twitter-Bots-using-Machine-Learning/{archive_format}{/ref}',\n",
       " 'downloads_url': 'https://api.github.com/repos/emmethanratty/Detecting-Twitter-Bots-using-Machine-Learning/downloads',\n",
       " 'issues_url': 'https://api.github.com/repos/emmethanratty/Detecting-Twitter-Bots-using-Machine-Learning/issues{/number}',\n",
       " 'pulls_url': 'https://api.github.com/repos/emmethanratty/Detecting-Twitter-Bots-using-Machine-Learning/pulls{/number}',\n",
       " 'milestones_url': 'https://api.github.com/repos/emmethanratty/Detecting-Twitter-Bots-using-Machine-Learning/milestones{/number}',\n",
       " 'notifications_url': 'https://api.github.com/repos/emmethanratty/Detecting-Twitter-Bots-using-Machine-Learning/notifications{?since,all,participating}',\n",
       " 'labels_url': 'https://api.github.com/repos/emmethanratty/Detecting-Twitter-Bots-using-Machine-Learning/labels{/name}',\n",
       " 'releases_url': 'https://api.github.com/repos/emmethanratty/Detecting-Twitter-Bots-using-Machine-Learning/releases{/id}',\n",
       " 'deployments_url': 'https://api.github.com/repos/emmethanratty/Detecting-Twitter-Bots-using-Machine-Learning/deployments',\n",
       " 'created_at': '2017-02-09T13:05:27Z',\n",
       " 'updated_at': '2019-02-24T20:26:24Z',\n",
       " 'pushed_at': '2017-06-10T11:34:31Z',\n",
       " 'git_url': 'git://github.com/emmethanratty/Detecting-Twitter-Bots-using-Machine-Learning.git',\n",
       " 'ssh_url': 'git@github.com:emmethanratty/Detecting-Twitter-Bots-using-Machine-Learning.git',\n",
       " 'clone_url': 'https://github.com/emmethanratty/Detecting-Twitter-Bots-using-Machine-Learning.git',\n",
       " 'svn_url': 'https://github.com/emmethanratty/Detecting-Twitter-Bots-using-Machine-Learning',\n",
       " 'homepage': '',\n",
       " 'size': 13256,\n",
       " 'stargazers_count': 2,\n",
       " 'watchers_count': 2,\n",
       " 'language': 'Python',\n",
       " 'has_issues': True,\n",
       " 'has_projects': True,\n",
       " 'has_downloads': True,\n",
       " 'has_wiki': True,\n",
       " 'has_pages': False,\n",
       " 'forks_count': 0,\n",
       " 'mirror_url': None,\n",
       " 'archived': False,\n",
       " 'disabled': False,\n",
       " 'open_issues_count': 0,\n",
       " 'license': None,\n",
       " 'forks': 0,\n",
       " 'open_issues': 0,\n",
       " 'watchers': 2,\n",
       " 'default_branch': 'master',\n",
       " 'permissions': {'admin': False, 'push': False, 'pull': True},\n",
       " 'score': 3.8418703}"
      ]
     },
     "execution_count": 73,
     "metadata": {},
     "output_type": "execute_result"
    }
   ],
   "source": [
    "r['items'][0]"
   ]
  },
  {
   "cell_type": "code",
   "execution_count": 91,
   "metadata": {},
   "outputs": [
    {
     "data": {
      "text/plain": [
       "{'_sa_instance_state': <sqlalchemy.orm.state.InstanceState at 0x24ef04a6a58>,\n",
       " 'language': 'Python',\n",
       " 'stargazers_count': 42535,\n",
       " 'created_at': '2014-07-15T19:11:19Z',\n",
       " 'description': 'A curated list of awesome Machine Learning frameworks, libraries and software.',\n",
       " 'name': 'awesome-machine-learning',\n",
       " 'search_language': 'python',\n",
       " 'forks': '10771',\n",
       " 'watchers_count': 42535,\n",
       " 'git_url': 'git://github.com/josephmisiti/awesome-machine-learning.git',\n",
       " 'id': 1,\n",
       " 'html_url': 'https://github.com/josephmisiti/awesome-machine-learning',\n",
       " 'updated_at': '2019-11-16T10:30:38Z',\n",
       " 'search_topic': 'machine+learning'}"
      ]
     },
     "execution_count": 91,
     "metadata": {},
     "output_type": "execute_result"
    }
   ],
   "source": [
    "# to verify: Display first row,  all columns in dictionary format\n",
    "session.query(GitHubRepos).first().__dict__"
   ]
  },
  {
   "cell_type": "code",
   "execution_count": null,
   "metadata": {},
   "outputs": [],
   "source": [
    "# write you query to display first 5 reocrds and just display name and description\n"
   ]
  },
  {
   "cell_type": "code",
   "execution_count": null,
   "metadata": {},
   "outputs": [],
   "source": []
  },
  {
   "cell_type": "code",
   "execution_count": null,
   "metadata": {},
   "outputs": [],
   "source": []
  },
  {
   "cell_type": "code",
   "execution_count": null,
   "metadata": {},
   "outputs": [],
   "source": []
  },
  {
   "cell_type": "code",
   "execution_count": null,
   "metadata": {},
   "outputs": [],
   "source": []
  },
  {
   "cell_type": "code",
   "execution_count": null,
   "metadata": {},
   "outputs": [],
   "source": []
  },
  {
   "cell_type": "code",
   "execution_count": null,
   "metadata": {},
   "outputs": [],
   "source": []
  },
  {
   "cell_type": "code",
   "execution_count": null,
   "metadata": {},
   "outputs": [],
   "source": []
  }
 ],
 "metadata": {
  "hide_input": false,
  "kernelspec": {
   "display_name": "Python 3",
   "language": "python",
   "name": "python3"
  },
  "language_info": {
   "codemirror_mode": {
    "name": "ipython",
    "version": 3
   },
   "file_extension": ".py",
   "mimetype": "text/x-python",
   "name": "python",
   "nbconvert_exporter": "python",
   "pygments_lexer": "ipython3",
   "version": "3.7.3"
  },
  "toc": {
   "base_numbering": 1,
   "nav_menu": {},
   "number_sections": true,
   "sideBar": true,
   "skip_h1_title": false,
   "title_cell": "Table of Contents",
   "title_sidebar": "Contents",
   "toc_cell": false,
   "toc_position": {},
   "toc_section_display": true,
   "toc_window_display": false
  },
  "varInspector": {
   "cols": {
    "lenName": 16,
    "lenType": 16,
    "lenVar": 40
   },
   "kernels_config": {
    "python": {
     "delete_cmd_postfix": "",
     "delete_cmd_prefix": "del ",
     "library": "var_list.py",
     "varRefreshCmd": "print(var_dic_list())"
    },
    "r": {
     "delete_cmd_postfix": ") ",
     "delete_cmd_prefix": "rm(",
     "library": "var_list.r",
     "varRefreshCmd": "cat(var_dic_list()) "
    }
   },
   "types_to_exclude": [
    "module",
    "function",
    "builtin_function_or_method",
    "instance",
    "_Feature"
   ],
   "window_display": false
  }
 },
 "nbformat": 4,
 "nbformat_minor": 4
}
