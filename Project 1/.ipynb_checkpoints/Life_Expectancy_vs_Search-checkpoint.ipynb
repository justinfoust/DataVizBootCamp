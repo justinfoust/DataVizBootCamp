{
 "cells": [
  {
   "cell_type": "code",
   "execution_count": 233,
   "metadata": {},
   "outputs": [],
   "source": [
    "# Dependencies\n",
    "import pandas as pd\n",
    "import numpy as np\n",
    "import matplotlib.pyplot as plt\n",
    "import requests\n",
    "import json\n",
    "from geopy import distance\n",
    "\n",
    "#API keys\n",
    "import api_keys"
   ]
  },
  {
   "cell_type": "markdown",
   "metadata": {},
   "source": [
    "### Test geopy distance calculator"
   ]
  },
  {
   "cell_type": "code",
   "execution_count": 236,
   "metadata": {},
   "outputs": [
    {
     "data": {
      "text/plain": [
       "539.2482093692297"
      ]
     },
     "execution_count": 236,
     "metadata": {},
     "output_type": "execute_result"
    }
   ],
   "source": [
    "newport_ri = (41.5, -71.3)\n",
    "cleveland_oh = (41.5, -81.7)\n",
    "distance.distance(newport_ri, cleveland_oh).miles"
   ]
  },
  {
   "cell_type": "markdown",
   "metadata": {},
   "source": [
    "## Import Data"
   ]
  },
  {
   "cell_type": "code",
   "execution_count": 162,
   "metadata": {},
   "outputs": [],
   "source": [
    "life_exp_data = pd.read_csv('vital_zip.csv')   #Life expectancy by Zip Code\n",
    "ca_search_coords = pd.read_csv('ca_search_coords.csv')   #Coordinates within California in hexagonal pattern 25 miles away from all neighoring points\n",
    "zip_tract = pd.read_csv('tract_zip.csv')   #Zip Codes for US Census tracts\n",
    "zip_coord = pd.read_csv('zip_coord.csv')   #Coordinates of Zip Codes"
   ]
  },
  {
   "cell_type": "code",
   "execution_count": 267,
   "metadata": {},
   "outputs": [
    {
     "data": {
      "image/png": "[encoded data removed]",
      "text/plain": [
       "<Figure size 432x288 with 1 Axes>"
      ]
     },
     "metadata": {
      "needs_background": "light"
     },
     "output_type": "display_data"
    }
   ],
   "source": [
    "plt.scatter(ca_search_coords['Longitude'],ca_search_coords['Latitude'])\n",
    "\n",
    "plt.title('Search Points in California')\n",
    "plt.ylabel('Latitude (°)')\n",
    "plt.xlabel('Longitude (°)')\n",
    "\n",
    "plt.show()"
   ]
  },
  {
   "cell_type": "code",
   "execution_count": 157,
   "metadata": {},
   "outputs": [],
   "source": [
    "zip_tract = zip_tract[['tract','zip']]"
   ]
  },
  {
   "cell_type": "markdown",
   "metadata": {},
   "source": [
    "## Yelp Search"
   ]
  },
  {
   "cell_type": "code",
   "execution_count": null,
   "metadata": {},
   "outputs": [],
   "source": [
    "#Yelp searchs are limited to 50 results per search and by default return 20 hits within a 25 mile radius\n",
    "\n",
    "yelp_result = []\n",
    "\n",
    "yelp_base_url = \"https://api.yelp.com/v3/businesses/search\"\n",
    "headers = {\n",
    "    'Authorization': \"Bearer %s\" % api_keys.yelp_key,\n",
    "}\n",
    "\n",
    "#--- Set search_term for Yelp search #---\n",
    "                                     #---\n",
    "search_term = 'museum'               #---\n",
    "                                     #---\n",
    "#--- Set search_term for Yelp search #---\n",
    "\n",
    "for coord in range(ca_search_coords.shape[0]):   #Cycle through every CA search coordinate\n",
    "\n",
    "    print(f'--- {coord + 1} ---\\nlat: {ca_search_coords.loc[coord,\"Latitude\"]}\\nlon: {ca_search_coords.loc[coord,\"Longitude\"]}')\n",
    "    \n",
    "    #   Initial hits and offset values ensure at least one search cycle will occur using a while loop\n",
    "    hits = 50\n",
    "    offset = -50\n",
    "    \n",
    "    while hits == 50:\n",
    "        \n",
    "        offset += hits\n",
    "        print(f'ofset = {offset}')\n",
    "        \n",
    "        params = {\n",
    "            'latitude': ca_search_coords.loc[coord,'Latitude'],\n",
    "            'longitude': ca_search_coords.loc[coord,'Longitude'],\n",
    "            #'location': \"Los Angeles\",\n",
    "            'term': search_term,\n",
    "            'offset': offset,\n",
    "            'limit': 50\n",
    "        }\n",
    "\n",
    "        \n",
    "        #print(requests.get(yelp_base_url, headers=headers, params=params).url)\n",
    "        \n",
    "        response = requests.get(yelp_base_url, headers=headers, params=params).json()\n",
    "        \n",
    "        try:\n",
    "            for i in range(len(response['businesses'])):\n",
    "                yelp_result.append(response['businesses'][i])\n",
    "            hits = len(response['businesses'])\n",
    "            print(f'results = {len(response[\"businesses\"])}')\n",
    "        except:\n",
    "            break\n",
    "\n",
    "    print(f'Total results: {len(yelp_result)}')"
   ]
  },
  {
   "cell_type": "code",
   "execution_count": 135,
   "metadata": {},
   "outputs": [],
   "source": [
    "#   Put all search results in DataFrame and save to CSV file\n",
    "\n",
    "yelp_result_list = []\n",
    "\n",
    "for hit in range(len(yelp_result)):\n",
    "    try:\n",
    "        yelp_result_list.append \\\n",
    "        ([\n",
    "            yelp_result[hit]['id'],   #ID\n",
    "            yelp_result[hit]['name'],   #Name\n",
    "            yelp_result[hit]['categories'][0]['alias'],   #Category search alias\n",
    "            yelp_result[hit]['categories'][0]['title'],   #Category title\n",
    "            yelp_result[hit]['coordinates']['latitude'],   #Latitude\n",
    "            yelp_result[hit]['coordinates']['longitude'],   #Longitude\n",
    "            yelp_result[hit]['location']['address1'],   #Address\n",
    "            yelp_result[hit]['location']['city'],   #City\n",
    "            yelp_result[hit]['location']['state'],   #State\n",
    "            int(yelp_result[hit]['location']['zip_code']),   #Zip code\n",
    "        ])\n",
    "    except:\n",
    "        next\n",
    "        \n",
    "yelp_result_df = pd.DataFrame \\\n",
    "(\n",
    "    yelp_result_list,\n",
    "    columns = \\\n",
    "    [\n",
    "        'ID',\n",
    "        'Name',\n",
    "        'Search Alias',\n",
    "        'Category',\n",
    "        'Latitude',\n",
    "        'Longitude',\n",
    "        'Address',\n",
    "        'City',\n",
    "        'State',\n",
    "        'Zip Code'\n",
    "    ]\n",
    ")\n",
    "\n",
    "yelp_result_df.to_csv('yelp_serach_results.csv')"
   ]
  },
  {
   "cell_type": "markdown",
   "metadata": {},
   "source": [
    "## Search Results Data Cleanup"
   ]
  },
  {
   "cell_type": "code",
   "execution_count": 136,
   "metadata": {},
   "outputs": [
    {
     "data": {
      "text/plain": [
       "3558"
      ]
     },
     "execution_count": 136,
     "metadata": {},
     "output_type": "execute_result"
    }
   ],
   "source": [
    "#Number of duplicate rows due to overlap in search radius\n",
    "\n",
    "yelp_result_df.duplicated().sum()"
   ]
  },
  {
   "cell_type": "code",
   "execution_count": 137,
   "metadata": {},
   "outputs": [],
   "source": [
    "#Remove rows that are exact duplicates\n",
    "\n",
    "yelp_result_df = yelp_result_df.drop_duplicates()"
   ]
  },
  {
   "cell_type": "code",
   "execution_count": 138,
   "metadata": {},
   "outputs": [],
   "source": [
    "#Keep only results in California\n",
    "\n",
    "ca_search_result = yelp_result_df[yelp_result_df['State'] == 'CA']"
   ]
  },
  {
   "cell_type": "code",
   "execution_count": 161,
   "metadata": {},
   "outputs": [
    {
     "name": "stdout",
     "output_type": "stream",
     "text": [
      "<class 'pandas.core.frame.DataFrame'>\n",
      "Int64Index: 1698 entries, 0 to 5403\n",
      "Data columns (total 10 columns):\n",
      "ID              1698 non-null object\n",
      "Name            1698 non-null object\n",
      "Search Alias    1698 non-null object\n",
      "Category        1698 non-null object\n",
      "Latitude        1698 non-null float64\n",
      "Longitude       1698 non-null float64\n",
      "Address         1679 non-null object\n",
      "City            1698 non-null object\n",
      "State           1698 non-null object\n",
      "Zip Code        1698 non-null int64\n",
      "dtypes: float64(2), int64(1), object(7)\n",
      "memory usage: 145.9+ KB\n"
     ]
    }
   ],
   "source": [
    "ca_search_result.info()"
   ]
  },
  {
   "cell_type": "markdown",
   "metadata": {},
   "source": [
    "## Life Expectancy Data Cleanup"
   ]
  },
  {
   "cell_type": "code",
   "execution_count": 213,
   "metadata": {},
   "outputs": [],
   "source": [
    "#Rename Zip Code column\n",
    "\n",
    "life_exp_data = life_exp_data.rename(columns={'Zipcode': 'Zip Code'})"
   ]
  },
  {
   "cell_type": "code",
   "execution_count": 214,
   "metadata": {},
   "outputs": [],
   "source": [
    "#Since multiple life expectancies are given for some Zip Codes, they are averaged\n",
    "\n",
    "zip_grouped_life = life_exp_data.groupby(['Zip Code'])['Life Expectancy'].mean()"
   ]
  },
  {
   "cell_type": "code",
   "execution_count": 215,
   "metadata": {},
   "outputs": [],
   "source": [
    "#Make into DataFrame again since .groupby meathod results in series\n",
    "\n",
    "zip_life_df = pd.DataFrame(zip_grouped_life)"
   ]
  },
  {
   "cell_type": "code",
   "execution_count": 216,
   "metadata": {},
   "outputs": [],
   "source": [
    "#Make Zip Codes a column instead of index\n",
    "\n",
    "zip_life_df = zip_life_df.reset_index()"
   ]
  },
  {
   "cell_type": "code",
   "execution_count": 122,
   "metadata": {},
   "outputs": [],
   "source": [
    "#zip_life_df['Zip Code'] = zip_life_df['Zip Code'].astype('object')"
   ]
  },
  {
   "cell_type": "code",
   "execution_count": 258,
   "metadata": {},
   "outputs": [],
   "source": [
    "#Create column to mark count of search items for each zip code\n",
    "\n",
    "zip_life_df['Count'] = [0 for i in range(zip_life_df.shape[0])]\n",
    "life_v_search = zip_life_df"
   ]
  },
  {
   "cell_type": "markdown",
   "metadata": {},
   "source": [
    "## Count number of search items within specified distance of each zip code in life expectancy data"
   ]
  },
  {
   "cell_type": "code",
   "execution_count": 208,
   "metadata": {},
   "outputs": [
    {
     "name": "stdout",
     "output_type": "stream",
     "text": [
      "<class 'pandas.core.frame.DataFrame'>\n",
      "RangeIndex: 43191 entries, 0 to 43190\n",
      "Data columns (total 8 columns):\n",
      "Zip                           43191 non-null int64\n",
      "City                          43191 non-null object\n",
      "State                         43191 non-null object\n",
      "Latitude                      43191 non-null float64\n",
      "Longitude                     43191 non-null float64\n",
      "Timezone                      43191 non-null int64\n",
      "Daylight savings time flag    43191 non-null int64\n",
      "geopoint                      43191 non-null object\n",
      "dtypes: float64(2), int64(3), object(3)\n",
      "memory usage: 2.6+ MB\n"
     ]
    }
   ],
   "source": [
    "zip_coord.info()"
   ]
  },
  {
   "cell_type": "code",
   "execution_count": 209,
   "metadata": {},
   "outputs": [
    {
     "name": "stdout",
     "output_type": "stream",
     "text": [
      "<class 'pandas.core.frame.DataFrame'>\n",
      "Int64Index: 1698 entries, 0 to 5403\n",
      "Data columns (total 10 columns):\n",
      "ID              1698 non-null object\n",
      "Name            1698 non-null object\n",
      "Search Alias    1698 non-null object\n",
      "Category        1698 non-null object\n",
      "Latitude        1698 non-null float64\n",
      "Longitude       1698 non-null float64\n",
      "Address         1679 non-null object\n",
      "City            1698 non-null object\n",
      "State           1698 non-null object\n",
      "Zip Code        1698 non-null int64\n",
      "dtypes: float64(2), int64(1), object(7)\n",
      "memory usage: 145.9+ KB\n"
     ]
    }
   ],
   "source": [
    "ca_search_result.info()"
   ]
  },
  {
   "cell_type": "code",
   "execution_count": 219,
   "metadata": {},
   "outputs": [
    {
     "name": "stdout",
     "output_type": "stream",
     "text": [
      "<class 'pandas.core.frame.DataFrame'>\n",
      "RangeIndex: 307 entries, 0 to 306\n",
      "Data columns (total 3 columns):\n",
      "Zip Code           307 non-null int64\n",
      "Life Expectancy    307 non-null float64\n",
      "Museum Count       307 non-null int64\n",
      "dtypes: float64(1), int64(2)\n",
      "memory usage: 7.3 KB\n"
     ]
    }
   ],
   "source": [
    "life_v_search.info()"
   ]
  },
  {
   "cell_type": "code",
   "execution_count": null,
   "metadata": {},
   "outputs": [],
   "source": [
    "#Go through each Zip Code in life expectancy data and count how many search results are within the defined search distance\n",
    "#!!! This can take a few to several minutes depending on how many search results and life expectancy data there are !!!\n",
    "\n",
    "#Change search_radius\n",
    "search_radius = 5   #Number of miles away in order to count a search result\n",
    "life_v_search_5mi = life_v_search   #Make new DataFrame to prevent overwrite of original\n",
    "\n",
    "for index_num in range(life_v_search.shape[0]):\n",
    "    print(f'---- {index_num} ----')   #Print current index to monitor progress\n",
    "    try:   #Record latitude and longitude for each Zip Code in life expectancy data, using Zip Code/coordinate comparison data\n",
    "        lon_o = zip_coord.loc[zip_coord[zip_coord['Zip'] == life_v_search.loc[index_num, 'Zip Code']].index.values[0], 'Latitude']\n",
    "        lon_o = zip_coord.loc[zip_coord[zip_coord['Zip'] == life_v_search.loc[index_num, 'Zip Code']].index.values[0], 'Longitude']\n",
    "        origin = (lat_o, lon_o)\n",
    "    except:\n",
    "        next\n",
    "    \n",
    "    for result in ca_search_result.itertuples():   #Cycle through each search result\n",
    "        destination = (result[5], result[6])   #Record coordinates of search result\n",
    "        if distance.distance(origin, destination).miles <= search_radius:   #If distance between life expectancy Zip Code and search result are less than or equal to defined search distance...\n",
    "            life_v_search_5mi.loc[index_num, 'Count'] += 1   #... add one to count for that row"
   ]
  },
  {
   "cell_type": "code",
   "execution_count": 252,
   "metadata": {},
   "outputs": [
    {
     "data": {
      "text/html": [
       "<div>\n",
       "<style scoped>\n",
       "    .dataframe tbody tr th:only-of-type {\n",
       "        vertical-align: middle;\n",
       "    }\n",
       "\n",
       "    .dataframe tbody tr th {\n",
       "        vertical-align: top;\n",
       "    }\n",
       "\n",
       "    .dataframe thead th {\n",
       "        text-align: right;\n",
       "    }\n",
       "</style>\n",
       "<table border=\"1\" class=\"dataframe\">\n",
       "  <thead>\n",
       "    <tr style=\"text-align: right;\">\n",
       "      <th></th>\n",
       "      <th>Zip Code</th>\n",
       "      <th>Life Expectancy</th>\n",
       "      <th>Museum Count</th>\n",
       "    </tr>\n",
       "  </thead>\n",
       "  <tbody>\n",
       "    <tr>\n",
       "      <td>0</td>\n",
       "      <td>94002</td>\n",
       "      <td>82.550</td>\n",
       "      <td>293</td>\n",
       "    </tr>\n",
       "    <tr>\n",
       "      <td>1</td>\n",
       "      <td>94005</td>\n",
       "      <td>80.650</td>\n",
       "      <td>273</td>\n",
       "    </tr>\n",
       "    <tr>\n",
       "      <td>2</td>\n",
       "      <td>94010</td>\n",
       "      <td>82.655</td>\n",
       "      <td>278</td>\n",
       "    </tr>\n",
       "    <tr>\n",
       "      <td>3</td>\n",
       "      <td>94014</td>\n",
       "      <td>80.650</td>\n",
       "      <td>265</td>\n",
       "    </tr>\n",
       "    <tr>\n",
       "      <td>4</td>\n",
       "      <td>94015</td>\n",
       "      <td>81.340</td>\n",
       "      <td>264</td>\n",
       "    </tr>\n",
       "    <tr>\n",
       "      <td>...</td>\n",
       "      <td>...</td>\n",
       "      <td>...</td>\n",
       "      <td>...</td>\n",
       "    </tr>\n",
       "    <tr>\n",
       "      <td>302</td>\n",
       "      <td>95625</td>\n",
       "      <td>78.165</td>\n",
       "      <td>106</td>\n",
       "    </tr>\n",
       "    <tr>\n",
       "      <td>303</td>\n",
       "      <td>95687</td>\n",
       "      <td>78.165</td>\n",
       "      <td>119</td>\n",
       "    </tr>\n",
       "    <tr>\n",
       "      <td>304</td>\n",
       "      <td>95688</td>\n",
       "      <td>78.575</td>\n",
       "      <td>223</td>\n",
       "    </tr>\n",
       "    <tr>\n",
       "      <td>305</td>\n",
       "      <td>95690</td>\n",
       "      <td>76.470</td>\n",
       "      <td>60</td>\n",
       "    </tr>\n",
       "    <tr>\n",
       "      <td>306</td>\n",
       "      <td>95694</td>\n",
       "      <td>78.575</td>\n",
       "      <td>170</td>\n",
       "    </tr>\n",
       "  </tbody>\n",
       "</table>\n",
       "<p>307 rows × 3 columns</p>\n",
       "</div>"
      ],
      "text/plain": [
       "     Zip Code  Life Expectancy  Museum Count\n",
       "0       94002           82.550           293\n",
       "1       94005           80.650           273\n",
       "2       94010           82.655           278\n",
       "3       94014           80.650           265\n",
       "4       94015           81.340           264\n",
       "..        ...              ...           ...\n",
       "302     95625           78.165           106\n",
       "303     95687           78.165           119\n",
       "304     95688           78.575           223\n",
       "305     95690           76.470            60\n",
       "306     95694           78.575           170\n",
       "\n",
       "[307 rows x 3 columns]"
      ]
     },
     "execution_count": 252,
     "metadata": {},
     "output_type": "execute_result"
    }
   ],
   "source": [
    "life_v_search"
   ]
  },
  {
   "cell_type": "code",
   "execution_count": 257,
   "metadata": {},
   "outputs": [
    {
     "data": {
      "image/png": "[encoded data removed]",
      "text/plain": [
       "<Figure size 432x288 with 1 Axes>"
      ]
     },
     "metadata": {
      "needs_background": "light"
     },
     "output_type": "display_data"
    }
   ],
   "source": [
    "plt.scatter(life_v_search['Count'],life_v_search['Life Expectancy'])\n",
    "\n",
    "plt.title('Life Expectancy by Zip Code \\nvs. \\nNumber of Museums within a 30 Mile Radius')\n",
    "plt.ylabel('Life Expectancy (yrs)')\n",
    "plt.xlabel('Number of Museums within 30 mile radius')\n",
    "\n",
    "plt.show()"
   ]
  },
  {
   "cell_type": "code",
   "execution_count": 261,
   "metadata": {},
   "outputs": [
    {
     "data": {
      "image/png": "[encoded data removed]",
      "text/plain": [
       "<Figure size 432x288 with 1 Axes>"
      ]
     },
     "metadata": {
      "needs_background": "light"
     },
     "output_type": "display_data"
    }
   ],
   "source": [
    "plt.scatter(life_v_search_5mi['Count'],life_v_search_5mi['Life Expectancy'])\n",
    "\n",
    "plt.title('Life Expectancy by Zip Code \\nvs. \\nNumber of Museums within a 5 Mile Radius')\n",
    "plt.ylabel('Life Expectancy (yrs)')\n",
    "plt.xlabel('Number of Museums within 5 mile radius')\n",
    "\n",
    "plt.show()"
   ]
  }
 ],
 "metadata": {
  "kernelspec": {
   "display_name": "Python 3",
   "language": "python",
   "name": "python3"
  },
  "language_info": {
   "codemirror_mode": {
    "name": "ipython",
    "version": 3
   },
   "file_extension": ".py",
   "mimetype": "text/x-python",
   "name": "python",
   "nbconvert_exporter": "python",
   "pygments_lexer": "ipython3",
   "version": "3.7.3"
  }
 },
 "nbformat": 4,
 "nbformat_minor": 4
}
