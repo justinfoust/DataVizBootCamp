{
 "cells": [
  {
   "cell_type": "code",
   "execution_count": 1,
   "metadata": {},
   "outputs": [
    {
     "name": "stderr",
     "output_type": "stream",
     "text": [
      "C:\\Users\\jfoust\\AppData\\Local\\Continuum\\anaconda3\\lib\\site-packages\\statsmodels\\compat\\pandas.py:23: FutureWarning: The Panel class is removed from pandas. Accessing it from the top-level namespace will also be removed in the next version\n",
      "  data_klasses = (pandas.Series, pandas.DataFrame, pandas.Panel)\n"
     ]
    }
   ],
   "source": [
    "# Dependencies\n",
    "import pandas as pd\n",
    "import numpy as np\n",
    "import matplotlib.pyplot as plt\n",
    "from scipy.stats import linregress\n",
    "import requests\n",
    "import json\n",
    "import geopy\n",
    "from geopy import distance\n",
    "import datetime as d\n",
    "import matplotlib.pylab as plb\n",
    "from scipy import stats\n",
    "import statsmodels.api as sm\n",
    "from mpl_toolkits.mplot3d import Axes3D\n",
    "\n",
    "#API keys\n",
    "import api_keys"
   ]
  },
  {
   "cell_type": "markdown",
   "metadata": {},
   "source": [
    "---"
   ]
  },
  {
   "cell_type": "markdown",
   "metadata": {},
   "source": [
    "### General Process\n",
    "\n",
    "1) Generate map of equally spaced coordinates in California to minimize search overlap  \n",
    "\n",
    "    a)  Create arbitrary grid of coordinates using boundary latitude and longitude values that encompass California.  \n",
    "        Each point is 25 miles and 60° from neighbor, creating hexagonal patter.  \n",
    "    \n",
    "    b)  Keep only the coordinates that are in California, determined through use of geocoding API\n",
    "    \n",
    "    \n",
    "2)  Generate list of all locations in California using a specific search term\n",
    "\n",
    "    a)  Using Yelp API, search at each coordinate generated in previous step\n",
    "    \n",
    "    b)  Clean up data: remove duplicates\n",
    "    \n",
    "    \n",
    "3)  Prepare life expectancy US cencus data\n",
    "\n",
    "    a)  Match cencus life expectancy data to zip codes using data file\n",
    "    \n",
    "    b)  Group by zip code and average life expectancies\n",
    "    \n",
    "    \n",
    "4)  Count number of search results within specified distance of zip code associated with life expectancy\n",
    "\n",
    "    a)  Loop through each Zip Code and match latitude and longitude values from data file\n",
    "    \n",
    "    b)  Calculate distance between zip code and every search result using coordinates, increment count by one in within specified range\n",
    "\n",
    "\n",
    "5)  Regretion analysis of data\n",
    "     "
   ]
  },
  {
   "cell_type": "markdown",
   "metadata": {},
   "source": [
    "---"
   ]
  },
  {
   "cell_type": "markdown",
   "metadata": {},
   "source": [
    "## Import Data"
   ]
  },
  {
   "cell_type": "code",
   "execution_count": 2,
   "metadata": {},
   "outputs": [
    {
     "ename": "FileNotFoundError",
     "evalue": "[Errno 2] File b'imoprted_data/zip_coord.csv' does not exist: b'imoprted_data/zip_coord.csv'",
     "output_type": "error",
     "traceback": [
      "\u001b[1;31m---------------------------------------------------------------------------\u001b[0m",
      "\u001b[1;31mFileNotFoundError\u001b[0m                         Traceback (most recent call last)",
      "\u001b[1;32m<ipython-input-2-03b81bab82c9>\u001b[0m in \u001b[0;36m<module>\u001b[1;34m\u001b[0m\n\u001b[0;32m      2\u001b[0m \u001b[0mca_search_coords\u001b[0m \u001b[1;33m=\u001b[0m \u001b[0mpd\u001b[0m\u001b[1;33m.\u001b[0m\u001b[0mread_csv\u001b[0m\u001b[1;33m(\u001b[0m\u001b[1;34m'imported_data/ca_search_coords.csv'\u001b[0m\u001b[1;33m)\u001b[0m   \u001b[1;31m#Coordinates within California in hexagonal pattern 25 miles away from all neighboring points\u001b[0m\u001b[1;33m\u001b[0m\u001b[1;33m\u001b[0m\u001b[0m\n\u001b[0;32m      3\u001b[0m \u001b[0mzip_tract\u001b[0m \u001b[1;33m=\u001b[0m \u001b[0mpd\u001b[0m\u001b[1;33m.\u001b[0m\u001b[0mread_csv\u001b[0m\u001b[1;33m(\u001b[0m\u001b[1;34m'imported_data/tract_zip.csv'\u001b[0m\u001b[1;33m)\u001b[0m   \u001b[1;31m#Zip Codes for US Census tracts\u001b[0m\u001b[1;33m\u001b[0m\u001b[1;33m\u001b[0m\u001b[0m\n\u001b[1;32m----> 4\u001b[1;33m \u001b[0mzip_coord\u001b[0m \u001b[1;33m=\u001b[0m \u001b[0mpd\u001b[0m\u001b[1;33m.\u001b[0m\u001b[0mread_csv\u001b[0m\u001b[1;33m(\u001b[0m\u001b[1;34m'imoprted_data/zip_coord.csv'\u001b[0m\u001b[1;33m)\u001b[0m   \u001b[1;31m#Coordinates of Zip Codes\u001b[0m\u001b[1;33m\u001b[0m\u001b[1;33m\u001b[0m\u001b[0m\n\u001b[0m",
      "\u001b[1;32m~\\AppData\\Local\\Continuum\\anaconda3\\lib\\site-packages\\pandas\\io\\parsers.py\u001b[0m in \u001b[0;36mparser_f\u001b[1;34m(filepath_or_buffer, sep, delimiter, header, names, index_col, usecols, squeeze, prefix, mangle_dupe_cols, dtype, engine, converters, true_values, false_values, skipinitialspace, skiprows, skipfooter, nrows, na_values, keep_default_na, na_filter, verbose, skip_blank_lines, parse_dates, infer_datetime_format, keep_date_col, date_parser, dayfirst, cache_dates, iterator, chunksize, compression, thousands, decimal, lineterminator, quotechar, quoting, doublequote, escapechar, comment, encoding, dialect, error_bad_lines, warn_bad_lines, delim_whitespace, low_memory, memory_map, float_precision)\u001b[0m\n\u001b[0;32m    683\u001b[0m         )\n\u001b[0;32m    684\u001b[0m \u001b[1;33m\u001b[0m\u001b[0m\n\u001b[1;32m--> 685\u001b[1;33m         \u001b[1;32mreturn\u001b[0m \u001b[0m_read\u001b[0m\u001b[1;33m(\u001b[0m\u001b[0mfilepath_or_buffer\u001b[0m\u001b[1;33m,\u001b[0m \u001b[0mkwds\u001b[0m\u001b[1;33m)\u001b[0m\u001b[1;33m\u001b[0m\u001b[1;33m\u001b[0m\u001b[0m\n\u001b[0m\u001b[0;32m    686\u001b[0m \u001b[1;33m\u001b[0m\u001b[0m\n\u001b[0;32m    687\u001b[0m     \u001b[0mparser_f\u001b[0m\u001b[1;33m.\u001b[0m\u001b[0m__name__\u001b[0m \u001b[1;33m=\u001b[0m \u001b[0mname\u001b[0m\u001b[1;33m\u001b[0m\u001b[1;33m\u001b[0m\u001b[0m\n",
      "\u001b[1;32m~\\AppData\\Local\\Continuum\\anaconda3\\lib\\site-packages\\pandas\\io\\parsers.py\u001b[0m in \u001b[0;36m_read\u001b[1;34m(filepath_or_buffer, kwds)\u001b[0m\n\u001b[0;32m    455\u001b[0m \u001b[1;33m\u001b[0m\u001b[0m\n\u001b[0;32m    456\u001b[0m     \u001b[1;31m# Create the parser.\u001b[0m\u001b[1;33m\u001b[0m\u001b[1;33m\u001b[0m\u001b[1;33m\u001b[0m\u001b[0m\n\u001b[1;32m--> 457\u001b[1;33m     \u001b[0mparser\u001b[0m \u001b[1;33m=\u001b[0m \u001b[0mTextFileReader\u001b[0m\u001b[1;33m(\u001b[0m\u001b[0mfp_or_buf\u001b[0m\u001b[1;33m,\u001b[0m \u001b[1;33m**\u001b[0m\u001b[0mkwds\u001b[0m\u001b[1;33m)\u001b[0m\u001b[1;33m\u001b[0m\u001b[1;33m\u001b[0m\u001b[0m\n\u001b[0m\u001b[0;32m    458\u001b[0m \u001b[1;33m\u001b[0m\u001b[0m\n\u001b[0;32m    459\u001b[0m     \u001b[1;32mif\u001b[0m \u001b[0mchunksize\u001b[0m \u001b[1;32mor\u001b[0m \u001b[0miterator\u001b[0m\u001b[1;33m:\u001b[0m\u001b[1;33m\u001b[0m\u001b[1;33m\u001b[0m\u001b[0m\n",
      "\u001b[1;32m~\\AppData\\Local\\Continuum\\anaconda3\\lib\\site-packages\\pandas\\io\\parsers.py\u001b[0m in \u001b[0;36m__init__\u001b[1;34m(self, f, engine, **kwds)\u001b[0m\n\u001b[0;32m    893\u001b[0m             \u001b[0mself\u001b[0m\u001b[1;33m.\u001b[0m\u001b[0moptions\u001b[0m\u001b[1;33m[\u001b[0m\u001b[1;34m\"has_index_names\"\u001b[0m\u001b[1;33m]\u001b[0m \u001b[1;33m=\u001b[0m \u001b[0mkwds\u001b[0m\u001b[1;33m[\u001b[0m\u001b[1;34m\"has_index_names\"\u001b[0m\u001b[1;33m]\u001b[0m\u001b[1;33m\u001b[0m\u001b[1;33m\u001b[0m\u001b[0m\n\u001b[0;32m    894\u001b[0m \u001b[1;33m\u001b[0m\u001b[0m\n\u001b[1;32m--> 895\u001b[1;33m         \u001b[0mself\u001b[0m\u001b[1;33m.\u001b[0m\u001b[0m_make_engine\u001b[0m\u001b[1;33m(\u001b[0m\u001b[0mself\u001b[0m\u001b[1;33m.\u001b[0m\u001b[0mengine\u001b[0m\u001b[1;33m)\u001b[0m\u001b[1;33m\u001b[0m\u001b[1;33m\u001b[0m\u001b[0m\n\u001b[0m\u001b[0;32m    896\u001b[0m \u001b[1;33m\u001b[0m\u001b[0m\n\u001b[0;32m    897\u001b[0m     \u001b[1;32mdef\u001b[0m \u001b[0mclose\u001b[0m\u001b[1;33m(\u001b[0m\u001b[0mself\u001b[0m\u001b[1;33m)\u001b[0m\u001b[1;33m:\u001b[0m\u001b[1;33m\u001b[0m\u001b[1;33m\u001b[0m\u001b[0m\n",
      "\u001b[1;32m~\\AppData\\Local\\Continuum\\anaconda3\\lib\\site-packages\\pandas\\io\\parsers.py\u001b[0m in \u001b[0;36m_make_engine\u001b[1;34m(self, engine)\u001b[0m\n\u001b[0;32m   1133\u001b[0m     \u001b[1;32mdef\u001b[0m \u001b[0m_make_engine\u001b[0m\u001b[1;33m(\u001b[0m\u001b[0mself\u001b[0m\u001b[1;33m,\u001b[0m \u001b[0mengine\u001b[0m\u001b[1;33m=\u001b[0m\u001b[1;34m\"c\"\u001b[0m\u001b[1;33m)\u001b[0m\u001b[1;33m:\u001b[0m\u001b[1;33m\u001b[0m\u001b[1;33m\u001b[0m\u001b[0m\n\u001b[0;32m   1134\u001b[0m         \u001b[1;32mif\u001b[0m \u001b[0mengine\u001b[0m \u001b[1;33m==\u001b[0m \u001b[1;34m\"c\"\u001b[0m\u001b[1;33m:\u001b[0m\u001b[1;33m\u001b[0m\u001b[1;33m\u001b[0m\u001b[0m\n\u001b[1;32m-> 1135\u001b[1;33m             \u001b[0mself\u001b[0m\u001b[1;33m.\u001b[0m\u001b[0m_engine\u001b[0m \u001b[1;33m=\u001b[0m \u001b[0mCParserWrapper\u001b[0m\u001b[1;33m(\u001b[0m\u001b[0mself\u001b[0m\u001b[1;33m.\u001b[0m\u001b[0mf\u001b[0m\u001b[1;33m,\u001b[0m \u001b[1;33m**\u001b[0m\u001b[0mself\u001b[0m\u001b[1;33m.\u001b[0m\u001b[0moptions\u001b[0m\u001b[1;33m)\u001b[0m\u001b[1;33m\u001b[0m\u001b[1;33m\u001b[0m\u001b[0m\n\u001b[0m\u001b[0;32m   1136\u001b[0m         \u001b[1;32melse\u001b[0m\u001b[1;33m:\u001b[0m\u001b[1;33m\u001b[0m\u001b[1;33m\u001b[0m\u001b[0m\n\u001b[0;32m   1137\u001b[0m             \u001b[1;32mif\u001b[0m \u001b[0mengine\u001b[0m \u001b[1;33m==\u001b[0m \u001b[1;34m\"python\"\u001b[0m\u001b[1;33m:\u001b[0m\u001b[1;33m\u001b[0m\u001b[1;33m\u001b[0m\u001b[0m\n",
      "\u001b[1;32m~\\AppData\\Local\\Continuum\\anaconda3\\lib\\site-packages\\pandas\\io\\parsers.py\u001b[0m in \u001b[0;36m__init__\u001b[1;34m(self, src, **kwds)\u001b[0m\n\u001b[0;32m   1915\u001b[0m         \u001b[0mkwds\u001b[0m\u001b[1;33m[\u001b[0m\u001b[1;34m\"usecols\"\u001b[0m\u001b[1;33m]\u001b[0m \u001b[1;33m=\u001b[0m \u001b[0mself\u001b[0m\u001b[1;33m.\u001b[0m\u001b[0musecols\u001b[0m\u001b[1;33m\u001b[0m\u001b[1;33m\u001b[0m\u001b[0m\n\u001b[0;32m   1916\u001b[0m \u001b[1;33m\u001b[0m\u001b[0m\n\u001b[1;32m-> 1917\u001b[1;33m         \u001b[0mself\u001b[0m\u001b[1;33m.\u001b[0m\u001b[0m_reader\u001b[0m \u001b[1;33m=\u001b[0m \u001b[0mparsers\u001b[0m\u001b[1;33m.\u001b[0m\u001b[0mTextReader\u001b[0m\u001b[1;33m(\u001b[0m\u001b[0msrc\u001b[0m\u001b[1;33m,\u001b[0m \u001b[1;33m**\u001b[0m\u001b[0mkwds\u001b[0m\u001b[1;33m)\u001b[0m\u001b[1;33m\u001b[0m\u001b[1;33m\u001b[0m\u001b[0m\n\u001b[0m\u001b[0;32m   1918\u001b[0m         \u001b[0mself\u001b[0m\u001b[1;33m.\u001b[0m\u001b[0munnamed_cols\u001b[0m \u001b[1;33m=\u001b[0m \u001b[0mself\u001b[0m\u001b[1;33m.\u001b[0m\u001b[0m_reader\u001b[0m\u001b[1;33m.\u001b[0m\u001b[0munnamed_cols\u001b[0m\u001b[1;33m\u001b[0m\u001b[1;33m\u001b[0m\u001b[0m\n\u001b[0;32m   1919\u001b[0m \u001b[1;33m\u001b[0m\u001b[0m\n",
      "\u001b[1;32mpandas\\_libs\\parsers.pyx\u001b[0m in \u001b[0;36mpandas._libs.parsers.TextReader.__cinit__\u001b[1;34m()\u001b[0m\n",
      "\u001b[1;32mpandas\\_libs\\parsers.pyx\u001b[0m in \u001b[0;36mpandas._libs.parsers.TextReader._setup_parser_source\u001b[1;34m()\u001b[0m\n",
      "\u001b[1;31mFileNotFoundError\u001b[0m: [Errno 2] File b'imoprted_data/zip_coord.csv' does not exist: b'imoprted_data/zip_coord.csv'"
     ]
    }
   ],
   "source": [
    "life_exp_data = pd.read_csv('imported_data/ca_life_exp.csv')   #Life expectancy by Zip Code\n",
    "ca_search_coords = pd.read_csv('imported_data/ca_search_coords.csv')   #Coordinates within California in hexagonal pattern 25 miles away from all neighboring points\n",
    "zip_tract = pd.read_csv('imported_data/tract_zip.csv')   #Zip Codes for US Census tracts\n",
    "zip_coord = pd.read_csv('imoprted_data/zip_coord.csv')   #Coordinates of Zip Codes"
   ]
  },
  {
   "cell_type": "markdown",
   "metadata": {},
   "source": [
    "---"
   ]
  },
  {
   "cell_type": "markdown",
   "metadata": {},
   "source": [
    "## Generate Equidistant Search Coordinate Grid"
   ]
  },
  {
   "cell_type": "code",
   "execution_count": null,
   "metadata": {},
   "outputs": [],
   "source": [
    "#Longitude Range: -126 to -113.5\n",
    "#Latitude Range: 42.5 to 32\n",
    "\n",
    "ca_range_coords = [[-126,42.5]]   #Initial starting coordinate\n",
    "search_radius = 25   #Spacing between coordinates\n",
    "\n",
    "   #Create eastward line of coordinates between longitude range\n",
    "while ca_range_coords[-1][0] < -113.5:\n",
    "    origin = geopy.Point(ca_range_coords[-1][1], ca_range_coords[-1][0])\n",
    "    coord_dist = geopy.distance.geodesic(miles=search_radius).destination(origin, 90)\n",
    "    ca_range_coords.append([coord_dist[1],coord_dist[0]])\n",
    "    \n",
    "    #Create east-west lines of coordinates in southerly direction until latitude 32°\n",
    "while ca_range_coords[-1][1] > 32:\n",
    "\n",
    "        #Create single point southeast 60° to start next line\n",
    "    origin = geopy.Point(ca_range_coords[-1][1], ca_range_coords[-1][0])\n",
    "    coord_dist = geopy.distance.geodesic(miles=search_radius).destination(origin, 150)\n",
    "    ca_range_coords.append([coord_dist[1],coord_dist[0]])\n",
    "    \n",
    "        #Create westward line of coordinates between longitude range\n",
    "    while ca_range_coords[-1][0] >= -126:\n",
    "        origin = geopy.Point(ca_range_coords[-1][1], ca_range_coords[-1][0])\n",
    "        coord_dist = geopy.distance.geodesic(miles=search_radius).destination(origin, 270)\n",
    "        ca_range_coords.append([coord_dist[1],coord_dist[0]])\n",
    "    \n",
    "        #Create single point southeast 60° to start next line\n",
    "    origin = geopy.Point(ca_range_coords[-1][1], ca_range_coords[-1][0])\n",
    "    coord_dist = geopy.distance.geodesic(miles=search_radius).destination(origin, 150)\n",
    "    ca_range_coords.append([coord_dist[1],coord_dist[0]])\n",
    "    \n",
    "        #Create eastward line of coordinates between longitude range\n",
    "    while ca_range_coords[-1][0] < -113.5:\n",
    "        origin = geopy.Point(ca_range_coords[-1][1], ca_range_coords[-1][0])\n",
    "        coord_dist = geopy.distance.geodesic(miles=search_radius).destination(origin, 90)\n",
    "        ca_range_coords.append([coord_dist[1],coord_dist[0]])"
   ]
  },
  {
   "cell_type": "code",
   "execution_count": null,
   "metadata": {},
   "outputs": [],
   "source": [
    "#Create DataFrame\n",
    "\n",
    "ca_range_coords = pd.DataFrame(ca_range_coords, columns=('Longitude','Latitude'))"
   ]
  },
  {
   "cell_type": "code",
   "execution_count": null,
   "metadata": {},
   "outputs": [],
   "source": [
    "#If coordinate falls within California, determined by referencing API below, record that coordinate\n",
    "\n",
    "base_url = 'http://geocode.arcgis.com/arcgis/rest/services/World/GeocodeServer/reverseGeocode'\n",
    "\n",
    "ca_search_coords = []\n",
    "\n",
    "for i in range(ca_range_coords_df.shape[0]):\n",
    "    df_lat = ca_range_coords_df.loc[i,'Latitude']\n",
    "    df_lon = ca_range_coords_df.loc[i,'Longitude']\n",
    "    \n",
    "    params = {\n",
    "        'f': \"pjson\",\n",
    "        'featureTypes': \"\",\n",
    "        'location': \"{0},{1}\".format(df_lon,df_lat)\n",
    "    }\n",
    "    \n",
    "    try:\n",
    "        if requests.get(base_url, params=params).json()['address']['Region'] == 'California':\n",
    "            ca_search_coords.append([df_lon,df_lat])\n",
    "            print(ca_search_coords[-1])\n",
    "    except:\n",
    "        next\n",
    "    \n",
    "    print(i)\n",
    "    \n",
    "print(len(ca_search_coords))"
   ]
  },
  {
   "cell_type": "code",
   "execution_count": null,
   "metadata": {},
   "outputs": [],
   "source": [
    "ca_search_coords = pd.DataFrame(ca_search_coords, columns=('Longitude','Latitude'))\n",
    "\n",
    "ca_search_coords.to_csv(path_or_buf='exported_data/ca_search_coords.csv', index=False)"
   ]
  },
  {
   "cell_type": "code",
   "execution_count": null,
   "metadata": {},
   "outputs": [],
   "source": [
    "with open('ca_boundaries_geojson.json', 'r') as j:\n",
    "    json_data = json.load(j)\n",
    "    \n",
    "json_df = pd.DataFrame(json_data['geometries'][0]['coordinates'][0][0], columns=['Longitude','Latitude'])"
   ]
  },
  {
   "cell_type": "code",
   "execution_count": null,
   "metadata": {},
   "outputs": [],
   "source": [
    "ca_zips = zip_coord[(zip_coord['Zip'] <= 96100) & (zip_coord['Zip'] >= 90000)]"
   ]
  },
  {
   "cell_type": "code",
   "execution_count": null,
   "metadata": {},
   "outputs": [],
   "source": [
    "plt.figure(figsize=(9,7))\n",
    "\n",
    "plt.plot(json_df['Longitude'],json_df['Latitude'])\n",
    "plt.scatter(ca_range_coords['Longitude'],ca_range_coords['Latitude'],c='red',label='Initial Equidistant Coordinates')\n",
    "plt.scatter(ca_search_coords['Longitude'],ca_search_coords['Latitude'], c='green',label='California Equidistant Coordinates')\n",
    "\n",
    "plt.xlabel('Longitude (°)',weight='bold')\n",
    "plt.ylabel('Latitude (°)',weight='bold')\n",
    "plt.title('Equidistant Coordinate Map',size=20,weight='bold')\n",
    "\n",
    "plt.legend()\n",
    "\n",
    "plt.savefig('images/equidistant_coordinate_map.png')\n",
    "plt.show()"
   ]
  },
  {
   "cell_type": "code",
   "execution_count": 3,
   "metadata": {},
   "outputs": [
    {
     "ename": "NameError",
     "evalue": "name 'json_df' is not defined",
     "output_type": "error",
     "traceback": [
      "\u001b[1;31m---------------------------------------------------------------------------\u001b[0m",
      "\u001b[1;31mNameError\u001b[0m                                 Traceback (most recent call last)",
      "\u001b[1;32m<ipython-input-3-abdb660ee38b>\u001b[0m in \u001b[0;36m<module>\u001b[1;34m\u001b[0m\n\u001b[0;32m      1\u001b[0m \u001b[0mplt\u001b[0m\u001b[1;33m.\u001b[0m\u001b[0mfigure\u001b[0m\u001b[1;33m(\u001b[0m\u001b[0mfigsize\u001b[0m\u001b[1;33m=\u001b[0m\u001b[1;33m(\u001b[0m\u001b[1;36m9\u001b[0m\u001b[1;33m,\u001b[0m\u001b[1;36m7\u001b[0m\u001b[1;33m)\u001b[0m\u001b[1;33m)\u001b[0m\u001b[1;33m\u001b[0m\u001b[1;33m\u001b[0m\u001b[0m\n\u001b[0;32m      2\u001b[0m \u001b[1;33m\u001b[0m\u001b[0m\n\u001b[1;32m----> 3\u001b[1;33m \u001b[0mplt\u001b[0m\u001b[1;33m.\u001b[0m\u001b[0mplot\u001b[0m\u001b[1;33m(\u001b[0m\u001b[0mjson_df\u001b[0m\u001b[1;33m[\u001b[0m\u001b[1;34m'Longitude'\u001b[0m\u001b[1;33m]\u001b[0m\u001b[1;33m,\u001b[0m\u001b[0mjson_df\u001b[0m\u001b[1;33m[\u001b[0m\u001b[1;34m'Latitude'\u001b[0m\u001b[1;33m]\u001b[0m\u001b[1;33m)\u001b[0m\u001b[1;33m\u001b[0m\u001b[1;33m\u001b[0m\u001b[0m\n\u001b[0m\u001b[0;32m      4\u001b[0m \u001b[0mplt\u001b[0m\u001b[1;33m.\u001b[0m\u001b[0mscatter\u001b[0m\u001b[1;33m(\u001b[0m\u001b[0mca_zips\u001b[0m\u001b[1;33m[\u001b[0m\u001b[1;34m'Longitude'\u001b[0m\u001b[1;33m]\u001b[0m\u001b[1;33m,\u001b[0m\u001b[0mca_zips\u001b[0m\u001b[1;33m[\u001b[0m\u001b[1;34m'Latitude'\u001b[0m\u001b[1;33m]\u001b[0m\u001b[1;33m,\u001b[0m\u001b[0mc\u001b[0m\u001b[1;33m=\u001b[0m\u001b[1;34m'red'\u001b[0m\u001b[1;33m,\u001b[0m\u001b[0mlabel\u001b[0m\u001b[1;33m=\u001b[0m\u001b[1;34m'CA Zip Code Locations'\u001b[0m\u001b[1;33m)\u001b[0m\u001b[1;33m\u001b[0m\u001b[1;33m\u001b[0m\u001b[0m\n\u001b[0;32m      5\u001b[0m \u001b[0mplt\u001b[0m\u001b[1;33m.\u001b[0m\u001b[0mscatter\u001b[0m\u001b[1;33m(\u001b[0m\u001b[0mca_search_coords\u001b[0m\u001b[1;33m[\u001b[0m\u001b[1;34m'Longitude'\u001b[0m\u001b[1;33m]\u001b[0m\u001b[1;33m,\u001b[0m\u001b[0mca_search_coords\u001b[0m\u001b[1;33m[\u001b[0m\u001b[1;34m'Latitude'\u001b[0m\u001b[1;33m]\u001b[0m\u001b[1;33m,\u001b[0m \u001b[0mc\u001b[0m\u001b[1;33m=\u001b[0m\u001b[1;34m'green'\u001b[0m\u001b[1;33m,\u001b[0m\u001b[0mlabel\u001b[0m\u001b[1;33m=\u001b[0m\u001b[1;34m'Equidistant Coordinates'\u001b[0m\u001b[1;33m)\u001b[0m\u001b[1;33m\u001b[0m\u001b[1;33m\u001b[0m\u001b[0m\n",
      "\u001b[1;31mNameError\u001b[0m: name 'json_df' is not defined"
     ]
    },
    {
     "data": {
      "text/plain": [
       "<Figure size 648x504 with 0 Axes>"
      ]
     },
     "metadata": {},
     "output_type": "display_data"
    }
   ],
   "source": [
    "plt.figure(figsize=(9,7))\n",
    "\n",
    "plt.plot(json_df['Longitude'],json_df['Latitude'])\n",
    "plt.scatter(ca_zips['Longitude'],ca_zips['Latitude'],c='red',label='CA Zip Code Locations')\n",
    "plt.scatter(ca_search_coords['Longitude'],ca_search_coords['Latitude'], c='green',label='Equidistant Coordinates')\n",
    "\n",
    "plt.xlabel('Longitude (°)',weight='bold')\n",
    "plt.ylabel('Latitude (°)',weight='bold')\n",
    "plt.title('California 25 Mile Equidistant Coordinates',size=20,weight='bold')\n",
    "\n",
    "plt.legend()\n",
    "\n",
    "plt.savefig('images/ca_25mi_equidistant.png')\n",
    "plt.show()"
   ]
  },
  {
   "cell_type": "markdown",
   "metadata": {},
   "source": [
    "---"
   ]
  },
  {
   "cell_type": "markdown",
   "metadata": {},
   "source": [
    "## Yelp Search"
   ]
  },
  {
   "cell_type": "code",
   "execution_count": null,
   "metadata": {},
   "outputs": [],
   "source": [
    "#Yelp searchs are limited to 50 results per search and by default return 20 hits within a 25 mile radius\n",
    "\n",
    "yelp_result = []\n",
    "\n",
    "yelp_base_url = \"https://api.yelp.com/v3/businesses/search\"\n",
    "headers = {\n",
    "    'Authorization': \"Bearer %s\" % api_keys.yelp_key,\n",
    "}\n",
    "\n",
    "#--- Set search_term for Yelp search #---\n",
    "                                     #---\n",
    "search_term = 'museum'               #---\n",
    "                                     #---\n",
    "#--- Set search_term for Yelp search #---\n",
    "\n",
    "for coord in range(ca_search_coords.shape[0]):   #Cycle through every CA search coordinate\n",
    "\n",
    "    print(f'--- {coord + 1} ---\\nlat: {ca_search_coords.loc[coord,\"Latitude\"]}\\nlon: {ca_search_coords.loc[coord,\"Longitude\"]}')\n",
    "    \n",
    "    #   Initial hits and offset values ensure at least one search cycle will occur using a while loop\n",
    "    hits = 50\n",
    "    offset = -50\n",
    "    \n",
    "    while hits == 50:\n",
    "        \n",
    "        offset += hits\n",
    "        print(f'ofset = {offset}')\n",
    "        \n",
    "        params = {\n",
    "            'latitude': ca_search_coords.loc[coord,'Latitude'],\n",
    "            'longitude': ca_search_coords.loc[coord,'Longitude'],\n",
    "            #'location': \"Los Angeles\",\n",
    "            'term': search_term,\n",
    "            'offset': offset,\n",
    "            'limit': 50\n",
    "        }\n",
    "\n",
    "        \n",
    "        #print(requests.get(yelp_base_url, headers=headers, params=params).url)\n",
    "        \n",
    "        response = requests.get(yelp_base_url, headers=headers, params=params).json()\n",
    "        \n",
    "        try:\n",
    "            for i in range(len(response['businesses'])):\n",
    "                yelp_result.append(response['businesses'][i])\n",
    "            hits = len(response['businesses'])\n",
    "            print(f'results = {len(response[\"businesses\"])}')\n",
    "        except:\n",
    "            break\n",
    "\n",
    "    print(f'Total results: {len(yelp_result)}')"
   ]
  },
  {
   "cell_type": "code",
   "execution_count": 8,
   "metadata": {},
   "outputs": [],
   "source": [
    "#   Put all search results in DataFrame and save to CSV file\n",
    "\n",
    "yelp_result_list = []\n",
    "\n",
    "for hit in range(len(yelp_result)):\n",
    "    try:\n",
    "        yelp_result_list.append \\\n",
    "        ([\n",
    "            yelp_result[hit]['id'],   #ID\n",
    "            yelp_result[hit]['name'],   #Name\n",
    "            yelp_result[hit]['categories'][0]['alias'],   #Category search alias\n",
    "            yelp_result[hit]['categories'][0]['title'],   #Category title\n",
    "            yelp_result[hit]['coordinates']['latitude'],   #Latitude\n",
    "            yelp_result[hit]['coordinates']['longitude'],   #Longitude\n",
    "            yelp_result[hit]['location']['address1'],   #Address\n",
    "            yelp_result[hit]['location']['city'],   #City\n",
    "            yelp_result[hit]['location']['state'],   #State\n",
    "            int(yelp_result[hit]['location']['zip_code']),   #Zip code\n",
    "        ])\n",
    "    except:\n",
    "        next\n",
    "        \n",
    "yelp_result_df = pd.DataFrame \\\n",
    "(\n",
    "    yelp_result_list,\n",
    "    columns = \\\n",
    "    [\n",
    "        'ID',\n",
    "        'Name',\n",
    "        'Search Alias',\n",
    "        'Category',\n",
    "        'Latitude',\n",
    "        'Longitude',\n",
    "        'Address',\n",
    "        'City',\n",
    "        'State',\n",
    "        'Zip Code'\n",
    "    ]\n",
    ")\n",
    "\n",
    "results_file_path = 'exported_data/yelp_search_results_' + d.datetime.today().strftime(\"%Y-%m-%d-%H%M%S\") + '.csv'\n",
    "\n",
    "yelp_result_df.to_csv(results_file_path)"
   ]
  },
  {
   "cell_type": "markdown",
   "metadata": {},
   "source": [
    "---"
   ]
  },
  {
   "cell_type": "markdown",
   "metadata": {},
   "source": [
    "## Search Results Data Cleanup"
   ]
  },
  {
   "cell_type": "code",
   "execution_count": 9,
   "metadata": {},
   "outputs": [
    {
     "data": {
      "text/plain": [
       "3686"
      ]
     },
     "execution_count": 9,
     "metadata": {},
     "output_type": "execute_result"
    }
   ],
   "source": [
    "#Number of duplicate rows due to overlap in search radius\n",
    "\n",
    "yelp_result_df.duplicated().sum()"
   ]
  },
  {
   "cell_type": "code",
   "execution_count": 10,
   "metadata": {},
   "outputs": [],
   "source": [
    "#Remove rows that are exact duplicates\n",
    "\n",
    "yelp_result_df = yelp_result_df.drop_duplicates()"
   ]
  },
  {
   "cell_type": "code",
   "execution_count": 11,
   "metadata": {},
   "outputs": [],
   "source": [
    "#Keep only results in California\n",
    "#search_result = yelp_result_df[yelp_result_df['State'] == 'CA']\n",
    "\n",
    "#Keep all results\n",
    "search_result = yelp_result_df"
   ]
  },
  {
   "cell_type": "code",
   "execution_count": 12,
   "metadata": {},
   "outputs": [
    {
     "name": "stdout",
     "output_type": "stream",
     "text": [
      "<class 'pandas.core.frame.DataFrame'>\n",
      "Int64Index: 2226 entries, 0 to 5908\n",
      "Data columns (total 10 columns):\n",
      "ID              2226 non-null object\n",
      "Name            2226 non-null object\n",
      "Search Alias    2226 non-null object\n",
      "Category        2226 non-null object\n",
      "Latitude        2226 non-null float64\n",
      "Longitude       2226 non-null float64\n",
      "Address         2199 non-null object\n",
      "City            2226 non-null object\n",
      "State           2226 non-null object\n",
      "Zip Code        2226 non-null int64\n",
      "dtypes: float64(2), int64(1), object(7)\n",
      "memory usage: 191.3+ KB\n"
     ]
    }
   ],
   "source": [
    "search_result.info()"
   ]
  },
  {
   "cell_type": "markdown",
   "metadata": {},
   "source": [
    "---"
   ]
  },
  {
   "cell_type": "markdown",
   "metadata": {},
   "source": [
    "## Life Expectancy Data Cleanup"
   ]
  },
  {
   "cell_type": "code",
   "execution_count": 13,
   "metadata": {},
   "outputs": [
    {
     "name": "stdout",
     "output_type": "stream",
     "text": [
      "<class 'pandas.core.frame.DataFrame'>\n",
      "RangeIndex: 7516 entries, 0 to 7515\n",
      "Data columns (total 5 columns):\n",
      "Unnamed: 0    7516 non-null int64\n",
      "Tract ID      7516 non-null int64\n",
      "e(0)          7516 non-null float64\n",
      "se(e(0))      7516 non-null float64\n",
      "Zip Code      7516 non-null int64\n",
      "dtypes: float64(2), int64(3)\n",
      "memory usage: 293.7 KB\n"
     ]
    }
   ],
   "source": [
    "life_exp_data.info()"
   ]
  },
  {
   "cell_type": "code",
   "execution_count": 14,
   "metadata": {},
   "outputs": [],
   "source": [
    "#Remove extraneous columns\n",
    "\n",
    "life_exp_data = life_exp_data[['Tract ID','e(0)','se(e(0))','Zip Code']]"
   ]
  },
  {
   "cell_type": "code",
   "execution_count": 15,
   "metadata": {},
   "outputs": [],
   "source": [
    "#Rename columns\n",
    "\n",
    "life_exp_data = life_exp_data.rename(columns={'e(0)':'Life Expectancy','se(e(0))':'Standard Error'})"
   ]
  },
  {
   "cell_type": "code",
   "execution_count": 16,
   "metadata": {},
   "outputs": [],
   "source": [
    "#Since multiple life expectancies are given for some Zip Codes, they are averaged\n",
    "\n",
    "zip_grouped_life = life_exp_data.groupby(['Zip Code'])['Life Expectancy'].mean()"
   ]
  },
  {
   "cell_type": "code",
   "execution_count": 17,
   "metadata": {},
   "outputs": [],
   "source": [
    "#Make into DataFrame again since .groupby meathod results in series\n",
    "\n",
    "zip_life_df = pd.DataFrame(zip_grouped_life)"
   ]
  },
  {
   "cell_type": "code",
   "execution_count": 18,
   "metadata": {},
   "outputs": [],
   "source": [
    "#Make Zip Codes a column instead of index\n",
    "\n",
    "zip_life_df = zip_life_df.reset_index()"
   ]
  },
  {
   "cell_type": "code",
   "execution_count": 19,
   "metadata": {},
   "outputs": [],
   "source": [
    "#Create column to mark count of search items for each zip code\n",
    "\n",
    "zip_life_df['Count'] = [0 for i in range(zip_life_df.shape[0])]\n",
    "life_v_search = zip_life_df"
   ]
  },
  {
   "cell_type": "markdown",
   "metadata": {},
   "source": [
    "---"
   ]
  },
  {
   "cell_type": "markdown",
   "metadata": {},
   "source": [
    "## Count number of search items within specified distance of each zip code in life expectancy data"
   ]
  },
  {
   "cell_type": "code",
   "execution_count": 20,
   "metadata": {},
   "outputs": [
    {
     "name": "stdout",
     "output_type": "stream",
     "text": [
      "<class 'pandas.core.frame.DataFrame'>\n",
      "RangeIndex: 43191 entries, 0 to 43190\n",
      "Data columns (total 8 columns):\n",
      "Zip                           43191 non-null int64\n",
      "City                          43191 non-null object\n",
      "State                         43191 non-null object\n",
      "Latitude                      43191 non-null float64\n",
      "Longitude                     43191 non-null float64\n",
      "Timezone                      43191 non-null int64\n",
      "Daylight savings time flag    43191 non-null int64\n",
      "geopoint                      43191 non-null object\n",
      "dtypes: float64(2), int64(3), object(3)\n",
      "memory usage: 2.6+ MB\n"
     ]
    }
   ],
   "source": [
    "zip_coord.info()"
   ]
  },
  {
   "cell_type": "code",
   "execution_count": 21,
   "metadata": {},
   "outputs": [
    {
     "name": "stdout",
     "output_type": "stream",
     "text": [
      "<class 'pandas.core.frame.DataFrame'>\n",
      "Int64Index: 2226 entries, 0 to 5908\n",
      "Data columns (total 10 columns):\n",
      "ID              2226 non-null object\n",
      "Name            2226 non-null object\n",
      "Search Alias    2226 non-null object\n",
      "Category        2226 non-null object\n",
      "Latitude        2226 non-null float64\n",
      "Longitude       2226 non-null float64\n",
      "Address         2199 non-null object\n",
      "City            2226 non-null object\n",
      "State           2226 non-null object\n",
      "Zip Code        2226 non-null int64\n",
      "dtypes: float64(2), int64(1), object(7)\n",
      "memory usage: 191.3+ KB\n"
     ]
    }
   ],
   "source": [
    "search_result.info()"
   ]
  },
  {
   "cell_type": "code",
   "execution_count": 22,
   "metadata": {},
   "outputs": [
    {
     "name": "stdout",
     "output_type": "stream",
     "text": [
      "<class 'pandas.core.frame.DataFrame'>\n",
      "RangeIndex: 1527 entries, 0 to 1526\n",
      "Data columns (total 3 columns):\n",
      "Zip Code           1527 non-null int64\n",
      "Life Expectancy    1527 non-null float64\n",
      "Count              1527 non-null int64\n",
      "dtypes: float64(1), int64(2)\n",
      "memory usage: 35.9 KB\n"
     ]
    }
   ],
   "source": [
    "life_v_search.info()"
   ]
  },
  {
   "cell_type": "code",
   "execution_count": null,
   "metadata": {},
   "outputs": [],
   "source": [
    "#Go through each Zip Code in life expectancy data and count how many search results are within the defined search distance\n",
    "#!!! This can take a few to several minutes depending on how many search results and life expectancy data there are !!!\n",
    "\n",
    "#Change search_radius\n",
    "search_radius = 25   #Number of miles away in order to count a search result\n",
    "life_v_search_result = life_v_search   #Make new DataFrame to prevent overwrite of original\n",
    "\n",
    "for index_num in range(life_v_search.shape[0]):\n",
    "    print(f'---- {index_num} ----')   #Print current index to monitor progress\n",
    "    try:   #Record latitude and longitude for each Zip Code in life expectancy data, using Zip Code/coordinate comparison data\n",
    "        lat_o = zip_coord.loc[zip_coord[zip_coord['Zip'] == life_v_search.loc[index_num, 'Zip Code']].index.values[0], 'Latitude']\n",
    "        lon_o = zip_coord.loc[zip_coord[zip_coord['Zip'] == life_v_search.loc[index_num, 'Zip Code']].index.values[0], 'Longitude']\n",
    "        origin = (lat_o, lon_o)\n",
    "        \n",
    "        for result in search_result.itertuples():   #Cycle through each search result\n",
    "            destination = (result[5], result[6])   #Record coordinates of search result\n",
    "            if distance.distance(origin, destination).miles <= search_radius:   #If distance between life expectancy Zip Code and search result are less than or equal to defined search distance...\n",
    "                life_v_search_result.loc[index_num, 'Count'] += 1   #... add one to count for that row\n",
    "    except:\n",
    "        next\n",
    "            \n",
    "\n",
    "count_file_path = 'exported_data/life_expectancy_vs_museum_' + str(search_radius) + 'mi_' + d.datetime.today().strftime(\"%Y-%m-%d-%H%M%S\") + '.csv'\n",
    "life_v_search_result.to_csv(count_file_path)"
   ]
  },
  {
   "cell_type": "markdown",
   "metadata": {},
   "source": [
    "---"
   ]
  },
  {
   "cell_type": "markdown",
   "metadata": {},
   "source": [
    "## Regresion Analysis"
   ]
  },
  {
   "cell_type": "code",
   "execution_count": 30,
   "metadata": {},
   "outputs": [
    {
     "name": "stdout",
     "output_type": "stream",
     "text": [
      "Correlation Coefficient: 0.2927973453057407\n",
      "t-statistic = 22.417435570087964\n",
      "p-value = 3.6627631634578735e-103\n",
      "                            OLS Regression Results                            \n",
      "==============================================================================\n",
      "Dep. Variable:                      y   R-squared:                       0.086\n",
      "Model:                            OLS   Adj. R-squared:                  0.085\n",
      "Method:                 Least Squares   F-statistic:                     143.0\n",
      "Date:                Mon, 28 Oct 2019   Prob (F-statistic):           1.44e-31\n",
      "Time:                        19:07:49   Log-Likelihood:                -3727.9\n",
      "No. Observations:                1527   AIC:                             7460.\n",
      "Df Residuals:                    1525   BIC:                             7470.\n",
      "Df Model:                           1                                         \n",
      "Covariance Type:            nonrobust                                         \n",
      "==============================================================================\n",
      "                 coef    std err          t      P>|t|      [0.025      0.975]\n",
      "------------------------------------------------------------------------------\n",
      "const         79.3065      0.102    780.298      0.000      79.107      79.506\n",
      "x1             0.0047      0.000     11.958      0.000       0.004       0.006\n",
      "==============================================================================\n",
      "Omnibus:                       40.178   Durbin-Watson:                   1.285\n",
      "Prob(Omnibus):                  0.000   Jarque-Bera (JB):               51.213\n",
      "Skew:                          -0.309   Prob(JB):                     7.57e-12\n",
      "Kurtosis:                       3.651   Cond. No.                         367.\n",
      "==============================================================================\n",
      "\n",
      "Warnings:\n",
      "[1] Standard Errors assume that the covariance matrix of the errors is correctly specified.\n"
     ]
    }
   ],
   "source": [
    "#----------------------------------- ALL ZIP CODES, ALL PARKS --------------------------------------------\n",
    "\n",
    "# Correlation Coefficient:\n",
    "r = np.corrcoef(life_v_search['Count'].values,life_v_search['Life Expectancy'].values)\n",
    "corr_coeff_all = r[1,0]\n",
    "print(f'Correlation Coefficient: {corr_coeff_all}')\n",
    "\n",
    "x_count = life_v_search['Count'].values\n",
    "y_life = life_v_search['Life Expectancy'].values\n",
    "\n",
    "## Cross Checking with the internal scipy function\n",
    "t2_all, p2_all = stats.ttest_ind(x_count,y_life)\n",
    "print(\"t-statistic = \" + str(t2_all))\n",
    "print(\"p-value = \" + str(p2_all))\n",
    "\n",
    "# Print the OLS Regression Results:\n",
    "results = sm.OLS(y_life,sm.add_constant(x_count)).fit()\n",
    "print(results.summary())"
   ]
  },
  {
   "cell_type": "code",
   "execution_count": 120,
   "metadata": {},
   "outputs": [
    {
     "data": {
      "image/png": "[encoded data removed]",
      "text/plain": [
       "<Figure size 720x432 with 1 Axes>"
      ]
     },
     "metadata": {
      "needs_background": "light"
     },
     "output_type": "display_data"
    }
   ],
   "source": [
    "# Set figure size\n",
    "fig, ax = plt.subplots(figsize=(10,6))\n",
    "\n",
    "# Scatter plot of life expectancy verses number of parks, set marker size to 4\n",
    "ax.scatter(life_v_search['Count'].values,life_v_search['Life Expectancy'].values,4,edgecolor='darkblue')\n",
    "\n",
    "# Label axes, add title\n",
    "ax.set_xlabel('Museum Count (25 Mile Radius)', weight='bold')\n",
    "ax.set_ylabel('Life Expectancy (Years)', weight='bold')\n",
    "ax.set_title('Life Expectancy by Zip Code\\nvs.\\nNumber of Museums within a 25 Mile Radius',size=20, weight='bold')\n",
    "ax.set_xlim(0,550)\n",
    "#plt.xticks(np.arange(0,100,5))\n",
    "#plt.yticks(np.arange(0,1000,100))\n",
    "ax.grid()\n",
    "\n",
    "\n",
    "# Calculate and add trendline\n",
    "z = np.polyfit(life_v_search['Count'].values, life_v_search['Life Expectancy'].values, 1)\n",
    "\n",
    "p = np.poly1d(z)\n",
    "\n",
    "props = dict(boxstyle='round', facecolor='lightgrey', alpha=0.5)\n",
    "\n",
    "# Plot the trendline equation to graph\n",
    "ax.text(330,74,\"y=%.5fx - %.1f\"%(z[0],abs(z[1])), ha='right',size=12, bbox=props)\n",
    "\n",
    "# plot the p-value and correlation coefficient to graph\n",
    "ax.text(215,70,f\"p-value = {'{:.2e}'.format(p2_all)}\\n $R^2$ = {'{:.3f}'.format(corr_coeff_all)}\",size=12,bbox=props)\n",
    "\n",
    "# Plot trendline\n",
    "plb.plot(life_v_search['Count'].values, p(life_v_search['Count'].values), 'm-',linewidth=.75)\n",
    "\n",
    "# Add legend\n",
    "ax.legend(['Trendline'],fontsize=12)\n",
    "\n",
    "# Save the figure\n",
    "figure_file_path = 'images/life_expectancy_vs_museum_' + str(search_radius) + 'mi_' + d.datetime.today().strftime(\"%Y-%m-%d-%H%M%S\") + '.png'\n",
    "plt.savefig(figure_file_path,bbox_inches=\"tight\")\n",
    "plt.show()"
   ]
  }
 ],
 "metadata": {
  "hide_input": false,
  "kernelspec": {
   "display_name": "Python 3",
   "language": "python",
   "name": "python3"
  },
  "language_info": {
   "codemirror_mode": {
    "name": "ipython",
    "version": 3
   },
   "file_extension": ".py",
   "mimetype": "text/x-python",
   "name": "python",
   "nbconvert_exporter": "python",
   "pygments_lexer": "ipython3",
   "version": "3.7.3"
  },
  "toc": {
   "base_numbering": 1,
   "nav_menu": {},
   "number_sections": true,
   "sideBar": true,
   "skip_h1_title": false,
   "title_cell": "Table of Contents",
   "title_sidebar": "Contents",
   "toc_cell": false,
   "toc_position": {},
   "toc_section_display": true,
   "toc_window_display": false
  },
  "varInspector": {
   "cols": {
    "lenName": 16,
    "lenType": 16,
    "lenVar": 40
   },
   "kernels_config": {
    "python": {
     "delete_cmd_postfix": "",
     "delete_cmd_prefix": "del ",
     "library": "var_list.py",
     "varRefreshCmd": "print(var_dic_list())"
    },
    "r": {
     "delete_cmd_postfix": ") ",
     "delete_cmd_prefix": "rm(",
     "library": "var_list.r",
     "varRefreshCmd": "cat(var_dic_list()) "
    }
   },
   "types_to_exclude": [
    "module",
    "function",
    "builtin_function_or_method",
    "instance",
    "_Feature"
   ],
   "window_display": false
  }
 },
 "nbformat": 4,
 "nbformat_minor": 4
}
