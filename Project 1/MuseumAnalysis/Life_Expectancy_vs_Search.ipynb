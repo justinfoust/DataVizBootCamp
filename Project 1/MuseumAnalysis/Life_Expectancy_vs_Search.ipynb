{
 "cells": [
  {
   "cell_type": "code",
   "execution_count": 1,
   "metadata": {},
   "outputs": [
    {
     "name": "stderr",
     "output_type": "stream",
     "text": [
      "C:\\Users\\jfoust\\AppData\\Local\\Continuum\\anaconda3\\lib\\site-packages\\statsmodels\\compat\\pandas.py:23: FutureWarning: The Panel class is removed from pandas. Accessing it from the top-level namespace will also be removed in the next version\n",
      "  data_klasses = (pandas.Series, pandas.DataFrame, pandas.Panel)\n"
     ]
    }
   ],
   "source": [
    "# Dependencies\n",
    "import pandas as pd\n",
    "import numpy as np\n",
    "import matplotlib.pyplot as plt\n",
    "from scipy.stats import linregress\n",
    "import requests\n",
    "import json\n",
    "import geopy\n",
    "from geopy import distance\n",
    "import datetime as d\n",
    "import matplotlib.pylab as plb\n",
    "from scipy import stats\n",
    "import statsmodels.api as sm\n",
    "from mpl_toolkits.mplot3d import Axes3D\n",
    "\n",
    "#API keys\n",
    "import api_keys"
   ]
  },
  {
   "cell_type": "markdown",
   "metadata": {},
   "source": [
    "---"
   ]
  },
  {
   "cell_type": "markdown",
   "metadata": {},
   "source": [
    "### General Process\n",
    "\n",
    "1) Generate map of equally spaced coordinates in California to minimize search overlap  \n",
    "\n",
    "    a)  Create arbitrary grid of coordinates using boundary latitude and longitude values that encompass California.  \n",
    "        Each point is 25 miles and 60° from neighbor, creating hexagonal patter.  \n",
    "    \n",
    "    b)  Keep only the coordinates that are in California, determined through use of geocoding API\n",
    "    \n",
    "    \n",
    "2)  Generate list of all locations in California using a specific search term\n",
    "\n",
    "    a)  Using Yelp API, search at each coordinate generated in previous step\n",
    "    \n",
    "    b)  Clean up data: remove duplicates\n",
    "    \n",
    "    \n",
    "3)  Prepare life expectancy US cencus data\n",
    "\n",
    "    a)  Match cencus life expectancy data to zip codes using data file\n",
    "    \n",
    "    b)  Group by zip code and average life expectancies\n",
    "    \n",
    "    \n",
    "4)  Count number of search results within specified distance of zip code associated with life expectancy\n",
    "\n",
    "    a)  Loop through each Zip Code and match latitude and longitude values from data file\n",
    "    \n",
    "    b)  Calculate distance between zip code and every search result using coordinates, increment count by one in within specified range\n",
    "\n",
    "\n",
    "5)  Regretion analysis of data\n",
    "     "
   ]
  },
  {
   "cell_type": "markdown",
   "metadata": {},
   "source": [
    "---"
   ]
  },
  {
   "cell_type": "markdown",
   "metadata": {},
   "source": [
    "## Import Data"
   ]
  },
  {
   "cell_type": "code",
   "execution_count": 4,
   "metadata": {},
   "outputs": [],
   "source": [
    "life_exp_data = pd.read_csv('imported_data/ca_life_exp.csv')   #Life expectancy by Zip Code\n",
    "ca_search_coords = pd.read_csv('imported_data/ca_search_coords.csv')   #Coordinates within California in hexagonal pattern 25 miles away from all neighboring points\n",
    "zip_tract = pd.read_csv('imported_data/tract_zip.csv')   #Zip Codes for US Census tracts\n",
    "zip_coord = pd.read_csv('imported_data/zip_coord.csv')   #Coordinates of Zip Codes"
   ]
  },
  {
   "cell_type": "markdown",
   "metadata": {},
   "source": [
    "---"
   ]
  },
  {
   "cell_type": "markdown",
   "metadata": {},
   "source": [
    "## Generate Equidistant Search Coordinate Grid"
   ]
  },
  {
   "cell_type": "code",
   "execution_count": 6,
   "metadata": {},
   "outputs": [],
   "source": [
    "#Longitude Range: -126 to -113.5\n",
    "#Latitude Range: 42.5 to 32\n",
    "\n",
    "ca_range_coords = [[-126,42.5]]   #Initial starting coordinate\n",
    "search_radius = 25   #Spacing between coordinates\n",
    "\n",
    "   #Create eastward line of coordinates between longitude range\n",
    "while ca_range_coords[-1][0] < -113.5:\n",
    "    origin = geopy.Point(ca_range_coords[-1][1], ca_range_coords[-1][0])\n",
    "    coord_dist = geopy.distance.geodesic(miles=search_radius).destination(origin, 90)\n",
    "    ca_range_coords.append([coord_dist[1],coord_dist[0]])\n",
    "    \n",
    "    #Create east-west lines of coordinates in southerly direction until latitude 32°\n",
    "while ca_range_coords[-1][1] > 32:\n",
    "\n",
    "        #Create single point southeast 60° to start next line\n",
    "    origin = geopy.Point(ca_range_coords[-1][1], ca_range_coords[-1][0])\n",
    "    coord_dist = geopy.distance.geodesic(miles=search_radius).destination(origin, 150)\n",
    "    ca_range_coords.append([coord_dist[1],coord_dist[0]])\n",
    "    \n",
    "        #Create westward line of coordinates between longitude range\n",
    "    while ca_range_coords[-1][0] >= -126:\n",
    "        origin = geopy.Point(ca_range_coords[-1][1], ca_range_coords[-1][0])\n",
    "        coord_dist = geopy.distance.geodesic(miles=search_radius).destination(origin, 270)\n",
    "        ca_range_coords.append([coord_dist[1],coord_dist[0]])\n",
    "    \n",
    "        #Create single point southeast 60° to start next line\n",
    "    origin = geopy.Point(ca_range_coords[-1][1], ca_range_coords[-1][0])\n",
    "    coord_dist = geopy.distance.geodesic(miles=search_radius).destination(origin, 150)\n",
    "    ca_range_coords.append([coord_dist[1],coord_dist[0]])\n",
    "    \n",
    "        #Create eastward line of coordinates between longitude range\n",
    "    while ca_range_coords[-1][0] < -113.5:\n",
    "        origin = geopy.Point(ca_range_coords[-1][1], ca_range_coords[-1][0])\n",
    "        coord_dist = geopy.distance.geodesic(miles=search_radius).destination(origin, 90)\n",
    "        ca_range_coords.append([coord_dist[1],coord_dist[0]])"
   ]
  },
  {
   "cell_type": "code",
   "execution_count": 7,
   "metadata": {},
   "outputs": [],
   "source": [
    "#Create DataFrame\n",
    "\n",
    "ca_range_coords = pd.DataFrame(ca_range_coords, columns=('Longitude','Latitude'))"
   ]
  },
  {
   "cell_type": "code",
   "execution_count": null,
   "metadata": {},
   "outputs": [
    {
     "name": "stdout",
     "output_type": "stream",
     "text": [
      "0\n",
      "1\n",
      "2\n",
      "3\n",
      "4\n",
      "5\n",
      "6\n",
      "7\n",
      "8\n",
      "9\n",
      "10\n",
      "11\n",
      "12\n",
      "13\n",
      "14\n",
      "15\n",
      "16\n",
      "17\n",
      "18\n",
      "19\n",
      "20\n",
      "21\n",
      "22\n",
      "23\n",
      "24\n",
      "25\n",
      "26\n",
      "27\n",
      "28\n",
      "29\n",
      "30\n",
      "31\n",
      "32\n",
      "33\n",
      "34\n",
      "35\n",
      "36\n",
      "37\n",
      "38\n",
      "39\n",
      "40\n",
      "41\n",
      "42\n",
      "43\n",
      "44\n",
      "45\n",
      "46\n",
      "47\n",
      "48\n",
      "49\n",
      "50\n",
      "51\n",
      "52\n",
      "53\n",
      "54\n",
      "55\n",
      "56\n",
      "57\n",
      "58\n",
      "[-123.99574116436668, 41.812989278171464]\n",
      "59\n",
      "[-123.51154608940516, 41.81196882667569]\n",
      "60\n",
      "[-123.02735869903923, 41.810948411511276]\n",
      "61\n",
      "[-122.54317899259703, 41.809928032675785]\n",
      "62\n",
      "[-122.0590069694068, 41.80890769016678]\n",
      "63\n",
      "[-121.57484262879683, 41.80788738398181]\n",
      "64\n",
      "[-121.09068597009552, 41.80686711411845]\n",
      "65\n",
      "[-120.60653699263136, 41.80584688057424]\n",
      "66\n",
      "[-120.1223956957329, 41.80482668334677]\n",
      "67\n",
      "68\n",
      "69\n",
      "70\n",
      "71\n",
      "72\n",
      "73\n",
      "74\n",
      "75\n",
      "76\n",
      "77\n",
      "78\n",
      "79\n",
      "80\n",
      "81\n",
      "82\n",
      "83\n",
      "84\n",
      "85\n",
      "86\n",
      "87\n",
      "88\n",
      "89\n",
      "90\n",
      "91\n",
      "92\n",
      "93\n",
      "94\n",
      "95\n",
      "96\n",
      "[-120.32884383276583, 41.46145350140994]\n",
      "97\n",
      "[-120.81041504190645, 41.46044549838973]\n",
      "98\n",
      "[-121.29197879433966, 41.459437530871945]\n",
      "99\n",
      "[-121.77353509070875, 41.458429598854224]\n",
      "100\n",
      "[-122.25508393165696, 41.45742170233424]\n",
      "101\n",
      "[-122.73662531782742, 41.45641384130964]\n",
      "102\n",
      "[-123.21815924986322, 41.45540601577808]\n",
      "103\n",
      "[-123.69968572840733, 41.45439822573723]\n",
      "104\n",
      "105\n",
      "106\n",
      "107\n",
      "108\n",
      "109\n",
      "110\n",
      "111\n",
      "112\n",
      "113\n",
      "[-123.95094385936075, 41.13138810935446]\n",
      "114\n",
      "[-123.47179409254967, 41.13039167341446]\n",
      "115\n",
      "[-122.99265157482509, 41.129395272219476]\n",
      "116\n",
      "[-122.5135163055693, 41.128398905767256]\n",
      "117\n",
      "[-122.03438828416468, 41.127402574055544]\n",
      "118\n",
      "[-121.55526750999368, 41.12640627708209]\n",
      "119\n",
      "[-121.07615398243884, 41.12541001484463]\n",
      "120\n",
      "[-120.59704770088275, 41.124413787340906]\n",
      "121\n",
      "[-120.11794866470811, 41.12341759456867]\n",
      "122\n",
      "123\n",
      "124\n",
      "125\n",
      "126\n",
      "127\n",
      "128\n",
      "129\n",
      "130\n",
      "131\n",
      "132\n",
      "133\n",
      "134\n",
      "135\n",
      "136\n",
      "137\n",
      "138\n",
      "139\n",
      "140\n",
      "141\n",
      "142\n",
      "143\n",
      "144\n",
      "145\n",
      "146\n",
      "147\n",
      "148\n",
      "149\n",
      "150\n",
      "151\n",
      "[-120.3231164049204, 40.78070515453345]\n",
      "152\n",
      "[-120.79973733443636, 40.77972088261883]\n",
      "153\n",
      "[-121.27635122895691, 40.778736644665955]\n",
      "154\n",
      "[-121.75295808907377, 40.77775244067266]\n",
      "155\n",
      "[-122.22955791537855, 40.77676827063675]\n",
      "156\n",
      "[-122.7061507084628, 40.77578413455608]\n",
      "157\n",
      "[-123.182736468918, 40.774800032428494]\n",
      "158\n",
      "[-123.65931519733554, 40.7738159642518]\n",
      "159\n",
      "[-124.1358868943068, 40.77283193002385]\n",
      "160\n",
      "161\n",
      "162\n",
      "163\n",
      "164\n",
      "165\n",
      "166\n",
      "167\n",
      "[-124.38203379645499, 40.45196009598363]\n",
      "168\n",
      "[-123.90774325662728, 40.45098711221805]\n",
      "169\n",
      "[-123.43345955696873, 40.450014161699286]\n",
      "170\n",
      "[-122.95918269691094, 40.44904124442526]\n",
      "171\n",
      "[-122.48491267588561, 40.448068360393876]\n",
      "172\n",
      "[-122.01064949332448, 40.44709550960305]\n",
      "173\n",
      "[-121.53639314865936, 40.44612269205069]\n",
      "174\n",
      "[-121.06214364132214, 40.4451499077347]\n",
      "175\n",
      "[-120.58790097074477, 40.444177156653]\n",
      "176\n",
      "[-120.11366513635926, 40.44320443880349]\n",
      "177\n",
      "178\n",
      "179\n",
      "180\n",
      "181\n",
      "182\n",
      "183\n",
      "184\n",
      "185\n",
      "186\n",
      "187\n",
      "188\n",
      "189\n",
      "190\n",
      "191\n",
      "192\n",
      "193\n",
      "194\n",
      "195\n",
      "196\n",
      "197\n",
      "198\n",
      "199\n",
      "200\n",
      "201\n",
      "202\n",
      "203\n",
      "204\n",
      "205\n",
      "206\n",
      "[-120.31759052806426, 40.10113763583165]\n",
      "207\n",
      "[-120.78943630467741, 40.10017657836282]\n",
      "208\n",
      "[-121.26127544298204, 40.09921555339784]\n",
      "209\n",
      "[-121.73310794352275, 40.09825456093469]\n",
      "210\n",
      "[-122.20493380684408, 40.097293600971355]\n",
      "211\n",
      "[-122.67675303349051, 40.09633267350583]\n",
      "212\n",
      "[-123.14856562400645, 40.09537177853612]\n",
      "213\n",
      "[-123.62037157893624, 40.09441091606021]\n",
      "214\n"
     ]
    }
   ],
   "source": [
    "#If coordinate falls within California, determined by referencing API below, record that coordinate\n",
    "\n",
    "base_url = 'http://geocode.arcgis.com/arcgis/rest/services/World/GeocodeServer/reverseGeocode'\n",
    "\n",
    "ca_search_coords = []\n",
    "\n",
    "for i in range(ca_range_coords.shape[0]):\n",
    "    df_lat = ca_range_coords.loc[i,'Latitude']\n",
    "    df_lon = ca_range_coords.loc[i,'Longitude']\n",
    "    \n",
    "    params = {\n",
    "        'f': \"pjson\",\n",
    "        'featureTypes': \"\",\n",
    "        'location': \"{0},{1}\".format(df_lon,df_lat)\n",
    "    }\n",
    "    \n",
    "    try:\n",
    "        if requests.get(base_url, params=params).json()['address']['Region'] == 'California':\n",
    "            ca_search_coords.append([df_lon,df_lat])\n",
    "            print(ca_search_coords[-1])\n",
    "    except:\n",
    "        next\n",
    "    \n",
    "    print(i)\n",
    "    \n",
    "print(len(ca_search_coords))"
   ]
  },
  {
   "cell_type": "code",
   "execution_count": null,
   "metadata": {},
   "outputs": [],
   "source": [
    "ca_search_coords = pd.DataFrame(ca_search_coords, columns=('Longitude','Latitude'))\n",
    "\n",
    "ca_search_coords.to_csv(path_or_buf='exported_data/ca_search_coords.csv', index=False)"
   ]
  },
  {
   "cell_type": "code",
   "execution_count": 5,
   "metadata": {},
   "outputs": [],
   "source": [
    "with open('ca_boundaries_geojson.json', 'r') as j:\n",
    "    json_data = json.load(j)\n",
    "    \n",
    "json_df = pd.DataFrame(json_data['geometries'][0]['coordinates'][0][0], columns=['Longitude','Latitude'])"
   ]
  },
  {
   "cell_type": "code",
   "execution_count": 6,
   "metadata": {},
   "outputs": [],
   "source": [
    "ca_zips = zip_coord[(zip_coord['Zip'] <= 96100) & (zip_coord['Zip'] >= 90000)]"
   ]
  },
  {
   "cell_type": "code",
   "execution_count": 7,
   "metadata": {},
   "outputs": [
    {
     "ename": "NameError",
     "evalue": "name 'ca_range_coords' is not defined",
     "output_type": "error",
     "traceback": [
      "\u001b[1;31m---------------------------------------------------------------------------\u001b[0m",
      "\u001b[1;31mNameError\u001b[0m                                 Traceback (most recent call last)",
      "\u001b[1;32m<ipython-input-7-3e320b9454ed>\u001b[0m in \u001b[0;36m<module>\u001b[1;34m\u001b[0m\n\u001b[0;32m      2\u001b[0m \u001b[1;33m\u001b[0m\u001b[0m\n\u001b[0;32m      3\u001b[0m \u001b[0mplt\u001b[0m\u001b[1;33m.\u001b[0m\u001b[0mplot\u001b[0m\u001b[1;33m(\u001b[0m\u001b[0mjson_df\u001b[0m\u001b[1;33m[\u001b[0m\u001b[1;34m'Longitude'\u001b[0m\u001b[1;33m]\u001b[0m\u001b[1;33m,\u001b[0m\u001b[0mjson_df\u001b[0m\u001b[1;33m[\u001b[0m\u001b[1;34m'Latitude'\u001b[0m\u001b[1;33m]\u001b[0m\u001b[1;33m)\u001b[0m\u001b[1;33m\u001b[0m\u001b[1;33m\u001b[0m\u001b[0m\n\u001b[1;32m----> 4\u001b[1;33m \u001b[0mplt\u001b[0m\u001b[1;33m.\u001b[0m\u001b[0mscatter\u001b[0m\u001b[1;33m(\u001b[0m\u001b[0mca_range_coords\u001b[0m\u001b[1;33m[\u001b[0m\u001b[1;34m'Longitude'\u001b[0m\u001b[1;33m]\u001b[0m\u001b[1;33m,\u001b[0m\u001b[0mca_range_coords\u001b[0m\u001b[1;33m[\u001b[0m\u001b[1;34m'Latitude'\u001b[0m\u001b[1;33m]\u001b[0m\u001b[1;33m,\u001b[0m\u001b[0mc\u001b[0m\u001b[1;33m=\u001b[0m\u001b[1;34m'red'\u001b[0m\u001b[1;33m,\u001b[0m\u001b[0mlabel\u001b[0m\u001b[1;33m=\u001b[0m\u001b[1;34m'Initial Equidistant Coordinates'\u001b[0m\u001b[1;33m)\u001b[0m\u001b[1;33m\u001b[0m\u001b[1;33m\u001b[0m\u001b[0m\n\u001b[0m\u001b[0;32m      5\u001b[0m \u001b[0mplt\u001b[0m\u001b[1;33m.\u001b[0m\u001b[0mscatter\u001b[0m\u001b[1;33m(\u001b[0m\u001b[0mca_search_coords\u001b[0m\u001b[1;33m[\u001b[0m\u001b[1;34m'Longitude'\u001b[0m\u001b[1;33m]\u001b[0m\u001b[1;33m,\u001b[0m\u001b[0mca_search_coords\u001b[0m\u001b[1;33m[\u001b[0m\u001b[1;34m'Latitude'\u001b[0m\u001b[1;33m]\u001b[0m\u001b[1;33m,\u001b[0m \u001b[0mc\u001b[0m\u001b[1;33m=\u001b[0m\u001b[1;34m'green'\u001b[0m\u001b[1;33m,\u001b[0m\u001b[0mlabel\u001b[0m\u001b[1;33m=\u001b[0m\u001b[1;34m'California Equidistant Coordinates'\u001b[0m\u001b[1;33m)\u001b[0m\u001b[1;33m\u001b[0m\u001b[1;33m\u001b[0m\u001b[0m\n\u001b[0;32m      6\u001b[0m \u001b[1;33m\u001b[0m\u001b[0m\n",
      "\u001b[1;31mNameError\u001b[0m: name 'ca_range_coords' is not defined"
     ]
    },
    {
     "data": {
      "image/png": "[encoded data removed]",
      "text/plain": [
       "<Figure size 648x504 with 1 Axes>"
      ]
     },
     "metadata": {
      "needs_background": "light"
     },
     "output_type": "display_data"
    }
   ],
   "source": [
    "plt.figure(figsize=(9,7))\n",
    "\n",
    "plt.plot(json_df['Longitude'],json_df['Latitude'])\n",
    "plt.scatter(ca_range_coords['Longitude'],ca_range_coords['Latitude'],c='red',label='Initial Equidistant Coordinates')\n",
    "plt.scatter(ca_search_coords['Longitude'],ca_search_coords['Latitude'], c='green',label='California Equidistant Coordinates')\n",
    "\n",
    "plt.xlabel('Longitude (°)',weight='bold')\n",
    "plt.ylabel('Latitude (°)',weight='bold')\n",
    "plt.title('Equidistant Coordinate Map',size=20,weight='bold')\n",
    "\n",
    "plt.legend()\n",
    "\n",
    "plt.savefig('images/equidistant_coordinate_map.png')\n",
    "plt.show()"
   ]
  },
  {
   "cell_type": "code",
   "execution_count": 11,
   "metadata": {},
   "outputs": [
    {
     "data": {
      "image/png": "[encoded data removed]",
      "text/plain": [
       "<Figure size 648x504 with 1 Axes>"
      ]
     },
     "metadata": {
      "needs_background": "light"
     },
     "output_type": "display_data"
    },
    {
     "data": {
      "text/plain": [
       "<Figure size 432x288 with 0 Axes>"
      ]
     },
     "metadata": {},
     "output_type": "display_data"
    }
   ],
   "source": [
    "plt.figure(figsize=(9,7))\n",
    "\n",
    "plt.plot(json_df['Longitude'],json_df['Latitude'])\n",
    "plt.scatter(ca_zips['Longitude'],ca_zips['Latitude'],c='red',label='CA Zip Code Locations')\n",
    "plt.scatter(ca_search_coords['Longitude'],ca_search_coords['Latitude'], c='green',label='Equidistant Coordinates')\n",
    "\n",
    "plt.xlabel('Longitude (°)',weight='bold')\n",
    "plt.ylabel('Latitude (°)',weight='bold')\n",
    "plt.title('Equidistant and Zip Code Coordinates Overlay',size=20,weight='bold')\n",
    "\n",
    "plt.legend()\n",
    "\n",
    "plt.savefig('images/ca_25mi_equidistant.png')\n",
    "plt.show()\n",
    "\n",
    "plt.savefig('overlay.png')"
   ]
  },
  {
   "cell_type": "markdown",
   "metadata": {},
   "source": [
    "---"
   ]
  },
  {
   "cell_type": "markdown",
   "metadata": {},
   "source": [
    "## Yelp Search"
   ]
  },
  {
   "cell_type": "code",
   "execution_count": null,
   "metadata": {},
   "outputs": [],
   "source": [
    "#Yelp searchs are limited to 50 results per search and by default return 20 hits within a 25 mile radius\n",
    "\n",
    "yelp_result = []\n",
    "\n",
    "yelp_base_url = \"https://api.yelp.com/v3/businesses/search\"\n",
    "headers = {\n",
    "    'Authorization': \"Bearer %s\" % api_keys.yelp_key,\n",
    "}\n",
    "\n",
    "#--- Set search_term for Yelp search #---\n",
    "                                     #---\n",
    "search_term = 'museum'               #---\n",
    "                                     #---\n",
    "#--- Set search_term for Yelp search #---\n",
    "\n",
    "for coord in range(ca_search_coords.shape[0]):   #Cycle through every CA search coordinate\n",
    "\n",
    "    print(f'--- {coord + 1} ---\\nlat: {ca_search_coords.loc[coord,\"Latitude\"]}\\nlon: {ca_search_coords.loc[coord,\"Longitude\"]}')\n",
    "    \n",
    "    #   Initial hits and offset values ensure at least one search cycle will occur using a while loop\n",
    "    hits = 50\n",
    "    offset = -50\n",
    "    \n",
    "    while hits == 50:\n",
    "        \n",
    "        offset += hits\n",
    "        print(f'ofset = {offset}')\n",
    "        \n",
    "        params = {\n",
    "            'latitude': ca_search_coords.loc[coord,'Latitude'],\n",
    "            'longitude': ca_search_coords.loc[coord,'Longitude'],\n",
    "            #'location': \"Los Angeles\",\n",
    "            'term': search_term,\n",
    "            'offset': offset,\n",
    "            'limit': 50\n",
    "        }\n",
    "\n",
    "        \n",
    "        #print(requests.get(yelp_base_url, headers=headers, params=params).url)\n",
    "        \n",
    "        response = requests.get(yelp_base_url, headers=headers, params=params).json()\n",
    "        \n",
    "        try:\n",
    "            for i in range(len(response['businesses'])):\n",
    "                yelp_result.append(response['businesses'][i])\n",
    "            hits = len(response['businesses'])\n",
    "            print(f'results = {len(response[\"businesses\"])}')\n",
    "        except:\n",
    "            break\n",
    "\n",
    "    print(f'Total results: {len(yelp_result)}')"
   ]
  },
  {
   "cell_type": "code",
   "execution_count": 8,
   "metadata": {},
   "outputs": [],
   "source": [
    "#   Put all search results in DataFrame and save to CSV file\n",
    "\n",
    "yelp_result_list = []\n",
    "\n",
    "for hit in range(len(yelp_result)):\n",
    "    try:\n",
    "        yelp_result_list.append \\\n",
    "        ([\n",
    "            yelp_result[hit]['id'],   #ID\n",
    "            yelp_result[hit]['name'],   #Name\n",
    "            yelp_result[hit]['categories'][0]['alias'],   #Category search alias\n",
    "            yelp_result[hit]['categories'][0]['title'],   #Category title\n",
    "            yelp_result[hit]['coordinates']['latitude'],   #Latitude\n",
    "            yelp_result[hit]['coordinates']['longitude'],   #Longitude\n",
    "            yelp_result[hit]['location']['address1'],   #Address\n",
    "            yelp_result[hit]['location']['city'],   #City\n",
    "            yelp_result[hit]['location']['state'],   #State\n",
    "            int(yelp_result[hit]['location']['zip_code']),   #Zip code\n",
    "        ])\n",
    "    except:\n",
    "        next\n",
    "        \n",
    "yelp_result_df = pd.DataFrame \\\n",
    "(\n",
    "    yelp_result_list,\n",
    "    columns = \\\n",
    "    [\n",
    "        'ID',\n",
    "        'Name',\n",
    "        'Search Alias',\n",
    "        'Category',\n",
    "        'Latitude',\n",
    "        'Longitude',\n",
    "        'Address',\n",
    "        'City',\n",
    "        'State',\n",
    "        'Zip Code'\n",
    "    ]\n",
    ")\n",
    "\n",
    "results_file_path = 'exported_data/yelp_search_results_' + d.datetime.today().strftime(\"%Y-%m-%d-%H%M%S\") + '.csv'\n",
    "\n",
    "yelp_result_df.to_csv(results_file_path)"
   ]
  },
  {
   "cell_type": "markdown",
   "metadata": {},
   "source": [
    "---"
   ]
  },
  {
   "cell_type": "markdown",
   "metadata": {},
   "source": [
    "## Search Results Data Cleanup"
   ]
  },
  {
   "cell_type": "code",
   "execution_count": 9,
   "metadata": {},
   "outputs": [
    {
     "data": {
      "text/plain": [
       "3686"
      ]
     },
     "execution_count": 9,
     "metadata": {},
     "output_type": "execute_result"
    }
   ],
   "source": [
    "#Number of duplicate rows due to overlap in search radius\n",
    "\n",
    "yelp_result_df.duplicated().sum()"
   ]
  },
  {
   "cell_type": "code",
   "execution_count": 10,
   "metadata": {},
   "outputs": [],
   "source": [
    "#Remove rows that are exact duplicates\n",
    "\n",
    "yelp_result_df = yelp_result_df.drop_duplicates()"
   ]
  },
  {
   "cell_type": "code",
   "execution_count": 11,
   "metadata": {},
   "outputs": [],
   "source": [
    "#Keep only results in California\n",
    "#search_result = yelp_result_df[yelp_result_df['State'] == 'CA']\n",
    "\n",
    "#Keep all results\n",
    "search_result = yelp_result_df"
   ]
  },
  {
   "cell_type": "code",
   "execution_count": 12,
   "metadata": {},
   "outputs": [
    {
     "name": "stdout",
     "output_type": "stream",
     "text": [
      "<class 'pandas.core.frame.DataFrame'>\n",
      "Int64Index: 2226 entries, 0 to 5908\n",
      "Data columns (total 10 columns):\n",
      "ID              2226 non-null object\n",
      "Name            2226 non-null object\n",
      "Search Alias    2226 non-null object\n",
      "Category        2226 non-null object\n",
      "Latitude        2226 non-null float64\n",
      "Longitude       2226 non-null float64\n",
      "Address         2199 non-null object\n",
      "City            2226 non-null object\n",
      "State           2226 non-null object\n",
      "Zip Code        2226 non-null int64\n",
      "dtypes: float64(2), int64(1), object(7)\n",
      "memory usage: 191.3+ KB\n"
     ]
    }
   ],
   "source": [
    "search_result.info()"
   ]
  },
  {
   "cell_type": "markdown",
   "metadata": {},
   "source": [
    "---"
   ]
  },
  {
   "cell_type": "markdown",
   "metadata": {},
   "source": [
    "## Life Expectancy Data Cleanup"
   ]
  },
  {
   "cell_type": "code",
   "execution_count": 13,
   "metadata": {},
   "outputs": [
    {
     "name": "stdout",
     "output_type": "stream",
     "text": [
      "<class 'pandas.core.frame.DataFrame'>\n",
      "RangeIndex: 7516 entries, 0 to 7515\n",
      "Data columns (total 5 columns):\n",
      "Unnamed: 0    7516 non-null int64\n",
      "Tract ID      7516 non-null int64\n",
      "e(0)          7516 non-null float64\n",
      "se(e(0))      7516 non-null float64\n",
      "Zip Code      7516 non-null int64\n",
      "dtypes: float64(2), int64(3)\n",
      "memory usage: 293.7 KB\n"
     ]
    }
   ],
   "source": [
    "life_exp_data.info()"
   ]
  },
  {
   "cell_type": "code",
   "execution_count": 14,
   "metadata": {},
   "outputs": [],
   "source": [
    "#Remove extraneous columns\n",
    "\n",
    "life_exp_data = life_exp_data[['Tract ID','e(0)','se(e(0))','Zip Code']]"
   ]
  },
  {
   "cell_type": "code",
   "execution_count": 15,
   "metadata": {},
   "outputs": [],
   "source": [
    "#Rename columns\n",
    "\n",
    "life_exp_data = life_exp_data.rename(columns={'e(0)':'Life Expectancy','se(e(0))':'Standard Error'})"
   ]
  },
  {
   "cell_type": "code",
   "execution_count": 16,
   "metadata": {},
   "outputs": [],
   "source": [
    "#Since multiple life expectancies are given for some Zip Codes, they are averaged\n",
    "\n",
    "zip_grouped_life = life_exp_data.groupby(['Zip Code'])['Life Expectancy'].mean()"
   ]
  },
  {
   "cell_type": "code",
   "execution_count": 17,
   "metadata": {},
   "outputs": [],
   "source": [
    "#Make into DataFrame again since .groupby meathod results in series\n",
    "\n",
    "zip_life_df = pd.DataFrame(zip_grouped_life)"
   ]
  },
  {
   "cell_type": "code",
   "execution_count": 18,
   "metadata": {},
   "outputs": [],
   "source": [
    "#Make Zip Codes a column instead of index\n",
    "\n",
    "zip_life_df = zip_life_df.reset_index()"
   ]
  },
  {
   "cell_type": "code",
   "execution_count": 19,
   "metadata": {},
   "outputs": [],
   "source": [
    "#Create column to mark count of search items for each zip code\n",
    "\n",
    "zip_life_df['Count'] = [0 for i in range(zip_life_df.shape[0])]\n",
    "life_v_search = zip_life_df"
   ]
  },
  {
   "cell_type": "markdown",
   "metadata": {},
   "source": [
    "---"
   ]
  },
  {
   "cell_type": "markdown",
   "metadata": {},
   "source": [
    "## Count number of search items within specified distance of each zip code in life expectancy data"
   ]
  },
  {
   "cell_type": "code",
   "execution_count": 20,
   "metadata": {},
   "outputs": [
    {
     "name": "stdout",
     "output_type": "stream",
     "text": [
      "<class 'pandas.core.frame.DataFrame'>\n",
      "RangeIndex: 43191 entries, 0 to 43190\n",
      "Data columns (total 8 columns):\n",
      "Zip                           43191 non-null int64\n",
      "City                          43191 non-null object\n",
      "State                         43191 non-null object\n",
      "Latitude                      43191 non-null float64\n",
      "Longitude                     43191 non-null float64\n",
      "Timezone                      43191 non-null int64\n",
      "Daylight savings time flag    43191 non-null int64\n",
      "geopoint                      43191 non-null object\n",
      "dtypes: float64(2), int64(3), object(3)\n",
      "memory usage: 2.6+ MB\n"
     ]
    }
   ],
   "source": [
    "zip_coord.info()"
   ]
  },
  {
   "cell_type": "code",
   "execution_count": 21,
   "metadata": {},
   "outputs": [
    {
     "name": "stdout",
     "output_type": "stream",
     "text": [
      "<class 'pandas.core.frame.DataFrame'>\n",
      "Int64Index: 2226 entries, 0 to 5908\n",
      "Data columns (total 10 columns):\n",
      "ID              2226 non-null object\n",
      "Name            2226 non-null object\n",
      "Search Alias    2226 non-null object\n",
      "Category        2226 non-null object\n",
      "Latitude        2226 non-null float64\n",
      "Longitude       2226 non-null float64\n",
      "Address         2199 non-null object\n",
      "City            2226 non-null object\n",
      "State           2226 non-null object\n",
      "Zip Code        2226 non-null int64\n",
      "dtypes: float64(2), int64(1), object(7)\n",
      "memory usage: 191.3+ KB\n"
     ]
    }
   ],
   "source": [
    "search_result.info()"
   ]
  },
  {
   "cell_type": "code",
   "execution_count": 22,
   "metadata": {},
   "outputs": [
    {
     "name": "stdout",
     "output_type": "stream",
     "text": [
      "<class 'pandas.core.frame.DataFrame'>\n",
      "RangeIndex: 1527 entries, 0 to 1526\n",
      "Data columns (total 3 columns):\n",
      "Zip Code           1527 non-null int64\n",
      "Life Expectancy    1527 non-null float64\n",
      "Count              1527 non-null int64\n",
      "dtypes: float64(1), int64(2)\n",
      "memory usage: 35.9 KB\n"
     ]
    }
   ],
   "source": [
    "life_v_search.info()"
   ]
  },
  {
   "cell_type": "code",
   "execution_count": null,
   "metadata": {},
   "outputs": [],
   "source": [
    "#Go through each Zip Code in life expectancy data and count how many search results are within the defined search distance\n",
    "#!!! This can take a few to several minutes depending on how many search results and life expectancy data there are !!!\n",
    "\n",
    "#Change search_radius\n",
    "search_radius = 25   #Number of miles away in order to count a search result\n",
    "life_v_search_result = life_v_search   #Make new DataFrame to prevent overwrite of original\n",
    "\n",
    "for index_num in range(life_v_search.shape[0]):\n",
    "    print(f'---- {index_num} ----')   #Print current index to monitor progress\n",
    "    try:   #Record latitude and longitude for each Zip Code in life expectancy data, using Zip Code/coordinate comparison data\n",
    "        lat_o = zip_coord.loc[zip_coord[zip_coord['Zip'] == life_v_search.loc[index_num, 'Zip Code']].index.values[0], 'Latitude']\n",
    "        lon_o = zip_coord.loc[zip_coord[zip_coord['Zip'] == life_v_search.loc[index_num, 'Zip Code']].index.values[0], 'Longitude']\n",
    "        origin = (lat_o, lon_o)\n",
    "        \n",
    "        for result in search_result.itertuples():   #Cycle through each search result\n",
    "            destination = (result[5], result[6])   #Record coordinates of search result\n",
    "            if distance.distance(origin, destination).miles <= search_radius:   #If distance between life expectancy Zip Code and search result are less than or equal to defined search distance...\n",
    "                life_v_search_result.loc[index_num, 'Count'] += 1   #... add one to count for that row\n",
    "    except:\n",
    "        next\n",
    "            \n",
    "\n",
    "count_file_path = 'exported_data/life_expectancy_vs_museum_' + str(search_radius) + 'mi_' + d.datetime.today().strftime(\"%Y-%m-%d-%H%M%S\") + '.csv'\n",
    "life_v_search_result.to_csv(count_file_path)"
   ]
  },
  {
   "cell_type": "markdown",
   "metadata": {},
   "source": [
    "---"
   ]
  },
  {
   "cell_type": "markdown",
   "metadata": {},
   "source": [
    "## Regresion Analysis"
   ]
  },
  {
   "cell_type": "code",
   "execution_count": 30,
   "metadata": {},
   "outputs": [
    {
     "name": "stdout",
     "output_type": "stream",
     "text": [
      "Correlation Coefficient: 0.2927973453057407\n",
      "t-statistic = 22.417435570087964\n",
      "p-value = 3.6627631634578735e-103\n",
      "                            OLS Regression Results                            \n",
      "==============================================================================\n",
      "Dep. Variable:                      y   R-squared:                       0.086\n",
      "Model:                            OLS   Adj. R-squared:                  0.085\n",
      "Method:                 Least Squares   F-statistic:                     143.0\n",
      "Date:                Mon, 28 Oct 2019   Prob (F-statistic):           1.44e-31\n",
      "Time:                        19:07:49   Log-Likelihood:                -3727.9\n",
      "No. Observations:                1527   AIC:                             7460.\n",
      "Df Residuals:                    1525   BIC:                             7470.\n",
      "Df Model:                           1                                         \n",
      "Covariance Type:            nonrobust                                         \n",
      "==============================================================================\n",
      "                 coef    std err          t      P>|t|      [0.025      0.975]\n",
      "------------------------------------------------------------------------------\n",
      "const         79.3065      0.102    780.298      0.000      79.107      79.506\n",
      "x1             0.0047      0.000     11.958      0.000       0.004       0.006\n",
      "==============================================================================\n",
      "Omnibus:                       40.178   Durbin-Watson:                   1.285\n",
      "Prob(Omnibus):                  0.000   Jarque-Bera (JB):               51.213\n",
      "Skew:                          -0.309   Prob(JB):                     7.57e-12\n",
      "Kurtosis:                       3.651   Cond. No.                         367.\n",
      "==============================================================================\n",
      "\n",
      "Warnings:\n",
      "[1] Standard Errors assume that the covariance matrix of the errors is correctly specified.\n"
     ]
    }
   ],
   "source": [
    "#----------------------------------- ALL ZIP CODES, ALL PARKS --------------------------------------------\n",
    "\n",
    "# Correlation Coefficient:\n",
    "r = np.corrcoef(life_v_search['Count'].values,life_v_search['Life Expectancy'].values)\n",
    "corr_coeff_all = r[1,0]\n",
    "print(f'Correlation Coefficient: {corr_coeff_all}')\n",
    "\n",
    "x_count = life_v_search['Count'].values\n",
    "y_life = life_v_search['Life Expectancy'].values\n",
    "\n",
    "## Cross Checking with the internal scipy function\n",
    "t2_all, p2_all = stats.ttest_ind(x_count,y_life)\n",
    "print(\"t-statistic = \" + str(t2_all))\n",
    "print(\"p-value = \" + str(p2_all))\n",
    "\n",
    "# Print the OLS Regression Results:\n",
    "results = sm.OLS(y_life,sm.add_constant(x_count)).fit()\n",
    "print(results.summary())"
   ]
  },
  {
   "cell_type": "code",
   "execution_count": 120,
   "metadata": {},
   "outputs": [
    {
     "data": {
      "image/png": "[encoded data removed]",
      "text/plain": [
       "<Figure size 720x432 with 1 Axes>"
      ]
     },
     "metadata": {
      "needs_background": "light"
     },
     "output_type": "display_data"
    }
   ],
   "source": [
    "# Set figure size\n",
    "fig, ax = plt.subplots(figsize=(10,6))\n",
    "\n",
    "# Scatter plot of life expectancy verses number of parks, set marker size to 4\n",
    "ax.scatter(life_v_search['Count'].values,life_v_search['Life Expectancy'].values,4,edgecolor='darkblue')\n",
    "\n",
    "# Label axes, add title\n",
    "ax.set_xlabel('Museum Count (25 Mile Radius)', weight='bold')\n",
    "ax.set_ylabel('Life Expectancy (Years)', weight='bold')\n",
    "ax.set_title('Life Expectancy by Zip Code\\nvs.\\nNumber of Museums within a 25 Mile Radius',size=20, weight='bold')\n",
    "ax.set_xlim(0,550)\n",
    "#plt.xticks(np.arange(0,100,5))\n",
    "#plt.yticks(np.arange(0,1000,100))\n",
    "ax.grid()\n",
    "\n",
    "\n",
    "# Calculate and add trendline\n",
    "z = np.polyfit(life_v_search['Count'].values, life_v_search['Life Expectancy'].values, 1)\n",
    "\n",
    "p = np.poly1d(z)\n",
    "\n",
    "props = dict(boxstyle='round', facecolor='lightgrey', alpha=0.5)\n",
    "\n",
    "# Plot the trendline equation to graph\n",
    "ax.text(330,74,\"y=%.5fx - %.1f\"%(z[0],abs(z[1])), ha='right',size=12, bbox=props)\n",
    "\n",
    "# plot the p-value and correlation coefficient to graph\n",
    "ax.text(215,70,f\"p-value = {'{:.2e}'.format(p2_all)}\\n $R^2$ = {'{:.3f}'.format(corr_coeff_all)}\",size=12,bbox=props)\n",
    "\n",
    "# Plot trendline\n",
    "plb.plot(life_v_search['Count'].values, p(life_v_search['Count'].values), 'm-',linewidth=.75)\n",
    "\n",
    "# Add legend\n",
    "ax.legend(['Trendline'],fontsize=12)\n",
    "\n",
    "# Save the figure\n",
    "figure_file_path = 'images/life_expectancy_vs_museum_' + str(search_radius) + 'mi_' + d.datetime.today().strftime(\"%Y-%m-%d-%H%M%S\") + '.png'\n",
    "plt.savefig(figure_file_path,bbox_inches=\"tight\")\n",
    "plt.show()"
   ]
  }
 ],
 "metadata": {
  "hide_input": false,
  "kernelspec": {
   "display_name": "Python 3",
   "language": "python",
   "name": "python3"
  },
  "language_info": {
   "codemirror_mode": {
    "name": "ipython",
    "version": 3
   },
   "file_extension": ".py",
   "mimetype": "text/x-python",
   "name": "python",
   "nbconvert_exporter": "python",
   "pygments_lexer": "ipython3",
   "version": "3.7.3"
  },
  "toc": {
   "base_numbering": 1,
   "nav_menu": {},
   "number_sections": true,
   "sideBar": true,
   "skip_h1_title": false,
   "title_cell": "Table of Contents",
   "title_sidebar": "Contents",
   "toc_cell": false,
   "toc_position": {},
   "toc_section_display": true,
   "toc_window_display": false
  },
  "varInspector": {
   "cols": {
    "lenName": 16,
    "lenType": 16,
    "lenVar": 40
   },
   "kernels_config": {
    "python": {
     "delete_cmd_postfix": "",
     "delete_cmd_prefix": "del ",
     "library": "var_list.py",
     "varRefreshCmd": "print(var_dic_list())"
    },
    "r": {
     "delete_cmd_postfix": ") ",
     "delete_cmd_prefix": "rm(",
     "library": "var_list.r",
     "varRefreshCmd": "cat(var_dic_list()) "
    }
   },
   "types_to_exclude": [
    "module",
    "function",
    "builtin_function_or_method",
    "instance",
    "_Feature"
   ],
   "window_display": false
  }
 },
 "nbformat": 4,
 "nbformat_minor": 4
}
