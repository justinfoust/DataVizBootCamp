{
 "cells": [
  {
   "cell_type": "code",
   "execution_count": 2,
   "metadata": {},
   "outputs": [],
   "source": [
    "import pandas as pd\n",
    "import numpy as np\n",
    "import matplotlib.pyplot as plt\n",
    "from scipy.stats import linregress\n",
    "import requests\n",
    "import json\n",
    "import geopy\n",
    "from geopy import distance\n",
    "import datetime as d\n",
    "import matplotlib.pylab as plb\n",
    "from scipy import stats\n",
    "import statsmodels.api as sm\n",
    "from mpl_toolkits.mplot3d import Axes3D"
   ]
  },
  {
   "cell_type": "code",
   "execution_count": 17,
   "metadata": {},
   "outputs": [],
   "source": [
    "foo = pd.read_csv('life_expectancy_vs_museum_30mi_2019-10-28-183959.csv')\n",
    "zip_coord = pd.read_csv('zip_coord.csv')"
   ]
  },
  {
   "cell_type": "code",
   "execution_count": 18,
   "metadata": {},
   "outputs": [],
   "source": [
    "foo['Longitude'] = [0 for i in range(foo.shape[0])]"
   ]
  },
  {
   "cell_type": "code",
   "execution_count": 19,
   "metadata": {},
   "outputs": [
    {
     "name": "stdout",
     "output_type": "stream",
     "text": [
      "<class 'pandas.core.frame.DataFrame'>\n",
      "RangeIndex: 1527 entries, 0 to 1526\n",
      "Data columns (total 5 columns):\n",
      "Unnamed: 0         1527 non-null int64\n",
      "Zip Code           1527 non-null int64\n",
      "Life Expectancy    1527 non-null float64\n",
      "Count              1527 non-null int64\n",
      "Longitude          1527 non-null int64\n",
      "dtypes: float64(1), int64(4)\n",
      "memory usage: 59.8 KB\n"
     ]
    }
   ],
   "source": [
    "foo.info()"
   ]
  },
  {
   "cell_type": "code",
   "execution_count": 20,
   "metadata": {},
   "outputs": [
    {
     "data": {
      "text/html": [
       "<div>\n",
       "<style scoped>\n",
       "    .dataframe tbody tr th:only-of-type {\n",
       "        vertical-align: middle;\n",
       "    }\n",
       "\n",
       "    .dataframe tbody tr th {\n",
       "        vertical-align: top;\n",
       "    }\n",
       "\n",
       "    .dataframe thead th {\n",
       "        text-align: right;\n",
       "    }\n",
       "</style>\n",
       "<table border=\"1\" class=\"dataframe\">\n",
       "  <thead>\n",
       "    <tr style=\"text-align: right;\">\n",
       "      <th></th>\n",
       "      <th>Zip</th>\n",
       "      <th>City</th>\n",
       "      <th>State</th>\n",
       "      <th>Latitude</th>\n",
       "      <th>Longitude</th>\n",
       "      <th>Timezone</th>\n",
       "      <th>Daylight savings time flag</th>\n",
       "      <th>geopoint</th>\n",
       "    </tr>\n",
       "  </thead>\n",
       "  <tbody>\n",
       "    <tr>\n",
       "      <td>0</td>\n",
       "      <td>71937</td>\n",
       "      <td>Cove</td>\n",
       "      <td>AR</td>\n",
       "      <td>34.398483</td>\n",
       "      <td>-94.39398</td>\n",
       "      <td>-6</td>\n",
       "      <td>1</td>\n",
       "      <td>34.398483,-94.39398</td>\n",
       "    </tr>\n",
       "    <tr>\n",
       "      <td>1</td>\n",
       "      <td>72044</td>\n",
       "      <td>Edgemont</td>\n",
       "      <td>AR</td>\n",
       "      <td>35.624351</td>\n",
       "      <td>-92.16056</td>\n",
       "      <td>-6</td>\n",
       "      <td>1</td>\n",
       "      <td>35.624351,-92.16056</td>\n",
       "    </tr>\n",
       "    <tr>\n",
       "      <td>2</td>\n",
       "      <td>56171</td>\n",
       "      <td>Sherburn</td>\n",
       "      <td>MN</td>\n",
       "      <td>43.660847</td>\n",
       "      <td>-94.74357</td>\n",
       "      <td>-6</td>\n",
       "      <td>1</td>\n",
       "      <td>43.660847,-94.74357</td>\n",
       "    </tr>\n",
       "    <tr>\n",
       "      <td>3</td>\n",
       "      <td>49430</td>\n",
       "      <td>Lamont</td>\n",
       "      <td>MI</td>\n",
       "      <td>43.010337</td>\n",
       "      <td>-85.89754</td>\n",
       "      <td>-5</td>\n",
       "      <td>1</td>\n",
       "      <td>43.010337,-85.89754</td>\n",
       "    </tr>\n",
       "    <tr>\n",
       "      <td>4</td>\n",
       "      <td>52585</td>\n",
       "      <td>Richland</td>\n",
       "      <td>IA</td>\n",
       "      <td>41.194129</td>\n",
       "      <td>-91.98027</td>\n",
       "      <td>-6</td>\n",
       "      <td>1</td>\n",
       "      <td>41.194129,-91.98027</td>\n",
       "    </tr>\n",
       "    <tr>\n",
       "      <td>...</td>\n",
       "      <td>...</td>\n",
       "      <td>...</td>\n",
       "      <td>...</td>\n",
       "      <td>...</td>\n",
       "      <td>...</td>\n",
       "      <td>...</td>\n",
       "      <td>...</td>\n",
       "      <td>...</td>\n",
       "    </tr>\n",
       "    <tr>\n",
       "      <td>43186</td>\n",
       "      <td>66860</td>\n",
       "      <td>Madison</td>\n",
       "      <td>KS</td>\n",
       "      <td>38.126728</td>\n",
       "      <td>-96.16635</td>\n",
       "      <td>-6</td>\n",
       "      <td>1</td>\n",
       "      <td>38.126728,-96.16635</td>\n",
       "    </tr>\n",
       "    <tr>\n",
       "      <td>43187</td>\n",
       "      <td>59602</td>\n",
       "      <td>Helena</td>\n",
       "      <td>MT</td>\n",
       "      <td>46.696501</td>\n",
       "      <td>-111.96895</td>\n",
       "      <td>-7</td>\n",
       "      <td>1</td>\n",
       "      <td>46.696501,-111.96895</td>\n",
       "    </tr>\n",
       "    <tr>\n",
       "      <td>43188</td>\n",
       "      <td>16063</td>\n",
       "      <td>Zelienople</td>\n",
       "      <td>PA</td>\n",
       "      <td>40.783001</td>\n",
       "      <td>-80.13343</td>\n",
       "      <td>-5</td>\n",
       "      <td>1</td>\n",
       "      <td>40.783001,-80.13343</td>\n",
       "    </tr>\n",
       "    <tr>\n",
       "      <td>43189</td>\n",
       "      <td>18913</td>\n",
       "      <td>Carversville</td>\n",
       "      <td>PA</td>\n",
       "      <td>40.376499</td>\n",
       "      <td>-75.04129</td>\n",
       "      <td>-5</td>\n",
       "      <td>1</td>\n",
       "      <td>40.376499,-75.04129</td>\n",
       "    </tr>\n",
       "    <tr>\n",
       "      <td>43190</td>\n",
       "      <td>25901</td>\n",
       "      <td>Oak Hill</td>\n",
       "      <td>WV</td>\n",
       "      <td>37.982775</td>\n",
       "      <td>-81.14533</td>\n",
       "      <td>-5</td>\n",
       "      <td>1</td>\n",
       "      <td>37.982775,-81.14533</td>\n",
       "    </tr>\n",
       "  </tbody>\n",
       "</table>\n",
       "<p>43191 rows × 8 columns</p>\n",
       "</div>"
      ],
      "text/plain": [
       "         Zip          City State   Latitude  Longitude  Timezone  \\\n",
       "0      71937          Cove    AR  34.398483  -94.39398        -6   \n",
       "1      72044      Edgemont    AR  35.624351  -92.16056        -6   \n",
       "2      56171      Sherburn    MN  43.660847  -94.74357        -6   \n",
       "3      49430        Lamont    MI  43.010337  -85.89754        -5   \n",
       "4      52585      Richland    IA  41.194129  -91.98027        -6   \n",
       "...      ...           ...   ...        ...        ...       ...   \n",
       "43186  66860       Madison    KS  38.126728  -96.16635        -6   \n",
       "43187  59602        Helena    MT  46.696501 -111.96895        -7   \n",
       "43188  16063    Zelienople    PA  40.783001  -80.13343        -5   \n",
       "43189  18913  Carversville    PA  40.376499  -75.04129        -5   \n",
       "43190  25901      Oak Hill    WV  37.982775  -81.14533        -5   \n",
       "\n",
       "       Daylight savings time flag              geopoint  \n",
       "0                               1   34.398483,-94.39398  \n",
       "1                               1   35.624351,-92.16056  \n",
       "2                               1   43.660847,-94.74357  \n",
       "3                               1   43.010337,-85.89754  \n",
       "4                               1   41.194129,-91.98027  \n",
       "...                           ...                   ...  \n",
       "43186                           1   38.126728,-96.16635  \n",
       "43187                           1  46.696501,-111.96895  \n",
       "43188                           1   40.783001,-80.13343  \n",
       "43189                           1   40.376499,-75.04129  \n",
       "43190                           1   37.982775,-81.14533  \n",
       "\n",
       "[43191 rows x 8 columns]"
      ]
     },
     "execution_count": 20,
     "metadata": {},
     "output_type": "execute_result"
    }
   ],
   "source": [
    "zip_coord"
   ]
  },
  {
   "cell_type": "code",
   "execution_count": 21,
   "metadata": {},
   "outputs": [],
   "source": [
    "ca_zips = zip_coord[(zip_coord['Zip'] <= 96100) & (zip_coord['Zip'] >= 90000)]"
   ]
  },
  {
   "cell_type": "code",
   "execution_count": 25,
   "metadata": {},
   "outputs": [
    {
     "name": "stdout",
     "output_type": "stream",
     "text": [
      "<class 'pandas.core.frame.DataFrame'>\n",
      "Int64Index: 2659 entries, 58 to 43148\n",
      "Data columns (total 8 columns):\n",
      "Zip                           2659 non-null int64\n",
      "City                          2659 non-null object\n",
      "State                         2659 non-null object\n",
      "Latitude                      2659 non-null float64\n",
      "Longitude                     2659 non-null float64\n",
      "Timezone                      2659 non-null int64\n",
      "Daylight savings time flag    2659 non-null int64\n",
      "geopoint                      2659 non-null object\n",
      "dtypes: float64(2), int64(3), object(3)\n",
      "memory usage: 267.0+ KB\n"
     ]
    }
   ],
   "source": [
    "ca_zips.info()"
   ]
  },
  {
   "cell_type": "code",
   "execution_count": null,
   "metadata": {},
   "outputs": [],
   "source": [
    "for i in range(foo.shape[0]):\n",
    "    print(i)\n",
    "    for j in range(ca_zips.shape[0]):\n",
    "        try:\n",
    "            if ca_zips.loc[j,'Zip'] == foo.loc[i,'Zip Code']:\n",
    "                foo.loc[i,'Latitude'] = ca_zips.loc[j,'Latitude']\n",
    "                foo.loc[i,'Longitude'] = ca_zips.loc[j,'Longitude']\n",
    "        except:\n",
    "            next"
   ]
  },
  {
   "cell_type": "code",
   "execution_count": 24,
   "metadata": {},
   "outputs": [
    {
     "name": "stdout",
     "output_type": "stream",
     "text": [
      "<class 'pandas.core.frame.DataFrame'>\n",
      "RangeIndex: 1527 entries, 0 to 1526\n",
      "Data columns (total 6 columns):\n",
      "Unnamed: 0         1527 non-null int64\n",
      "Zip Code           1527 non-null int64\n",
      "Life Expectancy    1527 non-null float64\n",
      "Count              1527 non-null int64\n",
      "Longitude          1527 non-null float64\n",
      "Latitude           97 non-null float64\n",
      "dtypes: float64(3), int64(3)\n",
      "memory usage: 71.7 KB\n"
     ]
    }
   ],
   "source": [
    "foo.info()"
   ]
  }
 ],
 "metadata": {
  "kernelspec": {
   "display_name": "Python 3",
   "language": "python",
   "name": "python3"
  },
  "language_info": {
   "codemirror_mode": {
    "name": "ipython",
    "version": 3
   },
   "file_extension": ".py",
   "mimetype": "text/x-python",
   "name": "python",
   "nbconvert_exporter": "python",
   "pygments_lexer": "ipython3",
   "version": "3.7.3"
  }
 },
 "nbformat": 4,
 "nbformat_minor": 4
}
