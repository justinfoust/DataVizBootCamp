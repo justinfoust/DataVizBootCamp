{
 "cells": [
  {
   "cell_type": "code",
   "execution_count": 1,
   "metadata": {},
   "outputs": [],
   "source": [
    "# Dependencies\n",
    "import pandas as pd\n",
    "import numpy as np\n",
    "import matplotlib.pyplot as plt\n",
    "import requests\n",
    "import json\n",
    "import geopy\n",
    "\n",
    "#API keys\n",
    "import api_keys"
   ]
  },
  {
   "cell_type": "code",
   "execution_count": 2,
   "metadata": {},
   "outputs": [],
   "source": [
    "def geo_dist(lat1,lon1,lat2,lon2):\n",
    "    R = 6371   #Earth's radius is km\n",
    "    \n",
    "    lat1 = float(lat1)\n",
    "    lat2 = float(lat2)\n",
    "    lon1 = float(lon1)\n",
    "    lon2 = float(lon2)\n",
    "    \n",
    "    phi1 = np.radians(lat1)\n",
    "    phi2 = np.radians(lat2)\n",
    "    del_phi = np.radians(lat2-lat1)\n",
    "    del_lam = np.radians(lon2-lon1)\n",
    "    \n",
    "    a = np.sin(del_phi/2)**2 + np.cos(phi1) * np.cos(phi2) * np.sin(del_lam/2)**2\n",
    "    c = 2 * np.arctan2(np.sqrt(a), np.sqrt(1 - a))\n",
    "    d = R * c\n",
    "    return(d / 1.6)"
   ]
  },
  {
   "cell_type": "code",
   "execution_count": null,
   "metadata": {},
   "outputs": [],
   "source": [
    "#Longitude Range: -126 to -113.5\n",
    "#Latitude Range: 42.5 to 32\n",
    "\n",
    "ca_range_coords = [[-126,42.5]]\n",
    "search_radius = 25\n",
    "\n",
    "while ca_range_coords[-1][0] < -113.5:\n",
    "    origin = geopy.Point(ca_range_coords[-1][1], ca_range_coords[-1][0])\n",
    "    coord_dist = geopy.distance.geodesic(miles=search_radius).destination(origin, 90)\n",
    "    ca_range_coords.append([coord_dist[1],coord_dist[0]])\n",
    "    \n",
    "while ca_range_coords[-1][1] > 32:\n",
    "\n",
    "    origin = geopy.Point(ca_range_coords[-1][1], ca_range_coords[-1][0])\n",
    "    coord_dist = geopy.distance.geodesic(miles=search_radius).destination(origin, 150)\n",
    "    ca_range_coords.append([coord_dist[1],coord_dist[0]])\n",
    "    \n",
    "    while ca_range_coords[-1][0] >= -126:\n",
    "        origin = geopy.Point(ca_range_coords[-1][1], ca_range_coords[-1][0])\n",
    "        coord_dist = geopy.distance.geodesic(miles=search_radius).destination(origin, 270)\n",
    "        ca_range_coords.append([coord_dist[1],coord_dist[0]])\n",
    "    \n",
    "    origin = geopy.Point(ca_range_coords[-1][1], ca_range_coords[-1][0])\n",
    "    coord_dist = geopy.distance.geodesic(miles=search_radius).destination(origin, 150)\n",
    "    ca_range_coords.append([coord_dist[1],coord_dist[0]])\n",
    "    \n",
    "    while ca_range_coords[-1][0] < -113.5:\n",
    "        origin = geopy.Point(ca_range_coords[-1][1], ca_range_coords[-1][0])\n",
    "        coord_dist = geopy.distance.geodesic(miles=search_radius).destination(origin, 90)\n",
    "        ca_range_coords.append([coord_dist[1],coord_dist[0]])\n",
    "            \n"
   ]
  },
  {
   "cell_type": "code",
   "execution_count": null,
   "metadata": {},
   "outputs": [],
   "source": [
    "ca_range_coords_df = pd.DataFrame(ca_range_coords, columns=('Longitude','Latitude'))"
   ]
  }
 ],
 "metadata": {
  "kernelspec": {
   "display_name": "Python 3",
   "language": "python",
   "name": "python3"
  },
  "language_info": {
   "codemirror_mode": {
    "name": "ipython",
    "version": 3
   },
   "file_extension": ".py",
   "mimetype": "text/x-python",
   "name": "python",
   "nbconvert_exporter": "python",
   "pygments_lexer": "ipython3",
   "version": "3.7.3"
  }
 },
 "nbformat": 4,
 "nbformat_minor": 4
}
