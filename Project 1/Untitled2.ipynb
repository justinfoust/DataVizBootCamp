{
 "cells": [
  {
   "cell_type": "code",
   "execution_count": 2,
   "metadata": {},
   "outputs": [],
   "source": [
    "# Dependencies\n",
    "import pandas as pd\n",
    "import numpy as np\n",
    "import matplotlib.pyplot as plt\n",
    "from scipy.stats import linregress\n",
    "import requests\n",
    "import json\n",
    "import geopy\n",
    "from geopy import distance\n",
    "import datetime as d\n",
    "import matplotlib.pylab as plb\n",
    "from scipy import stats\n",
    "import statsmodels.api as sm\n",
    "from mpl_toolkits.mplot3d import Axes3D\n",
    "\n",
    "#API keys\n",
    "import api_keys"
   ]
  },
  {
   "cell_type": "code",
   "execution_count": 5,
   "metadata": {},
   "outputs": [],
   "source": [
    "life_exp_data = pd.read_csv('imported_data/ca_life_exp.csv')   #Life expectancy by Zip Code\n",
    "ca_search_coords = pd.read_csv('imported_data/ca_search_coords.csv')   #Coordinates within California in hexagonal pattern 25 miles away from all neighboring points\n",
    "zip_tract = pd.read_csv('imported_data/tract_zip.csv')   #Zip Codes for US Census tracts\n",
    "zip_coord = pd.read_csv('imported_data/zip_coord.csv')   #Coordinates of Zip Codes"
   ]
  },
  {
   "cell_type": "code",
   "execution_count": 30,
   "metadata": {},
   "outputs": [],
   "source": [
    "with open('ca_boundaries_geojson.json', 'r') as j:\n",
    "    json_data = json.load(j)\n",
    "    \n",
    "json_df = pd.DataFrame(json_data['geometries'][0]['coordinates'][0][0], columns=['Longitude','Latitude'])"
   ]
  },
  {
   "cell_type": "code",
   "execution_count": 6,
   "metadata": {},
   "outputs": [],
   "source": [
    "results_data = pd.read_csv('exported_data/life_expectancy_vs_museum_30mi_2019-10-28-183959.csv')"
   ]
  },
  {
   "cell_type": "code",
   "execution_count": 11,
   "metadata": {},
   "outputs": [],
   "source": [
    "results_data = results_data.drop([0])\n",
    "results_data = results_data.drop('Unnamed: 0', axis=1)"
   ]
  },
  {
   "cell_type": "code",
   "execution_count": 12,
   "metadata": {},
   "outputs": [
    {
     "data": {
      "text/html": [
       "<div>\n",
       "<style scoped>\n",
       "    .dataframe tbody tr th:only-of-type {\n",
       "        vertical-align: middle;\n",
       "    }\n",
       "\n",
       "    .dataframe tbody tr th {\n",
       "        vertical-align: top;\n",
       "    }\n",
       "\n",
       "    .dataframe thead th {\n",
       "        text-align: right;\n",
       "    }\n",
       "</style>\n",
       "<table border=\"1\" class=\"dataframe\">\n",
       "  <thead>\n",
       "    <tr style=\"text-align: right;\">\n",
       "      <th></th>\n",
       "      <th>Zip Code</th>\n",
       "      <th>Life Expectancy</th>\n",
       "      <th>Count</th>\n",
       "    </tr>\n",
       "  </thead>\n",
       "  <tbody>\n",
       "    <tr>\n",
       "      <td>1</td>\n",
       "      <td>90001</td>\n",
       "      <td>78.544444</td>\n",
       "      <td>462</td>\n",
       "    </tr>\n",
       "    <tr>\n",
       "      <td>2</td>\n",
       "      <td>90002</td>\n",
       "      <td>76.327273</td>\n",
       "      <td>468</td>\n",
       "    </tr>\n",
       "    <tr>\n",
       "      <td>3</td>\n",
       "      <td>90003</td>\n",
       "      <td>76.020000</td>\n",
       "      <td>436</td>\n",
       "    </tr>\n",
       "    <tr>\n",
       "      <td>4</td>\n",
       "      <td>90004</td>\n",
       "      <td>82.366667</td>\n",
       "      <td>392</td>\n",
       "    </tr>\n",
       "    <tr>\n",
       "      <td>5</td>\n",
       "      <td>90005</td>\n",
       "      <td>80.590000</td>\n",
       "      <td>394</td>\n",
       "    </tr>\n",
       "  </tbody>\n",
       "</table>\n",
       "</div>"
      ],
      "text/plain": [
       "   Zip Code  Life Expectancy  Count\n",
       "1     90001        78.544444    462\n",
       "2     90002        76.327273    468\n",
       "3     90003        76.020000    436\n",
       "4     90004        82.366667    392\n",
       "5     90005        80.590000    394"
      ]
     },
     "execution_count": 12,
     "metadata": {},
     "output_type": "execute_result"
    }
   ],
   "source": [
    "results_data.head()"
   ]
  },
  {
   "cell_type": "code",
   "execution_count": 19,
   "metadata": {},
   "outputs": [
    {
     "name": "stdout",
     "output_type": "stream",
     "text": [
      "<class 'pandas.core.frame.DataFrame'>\n",
      "Int64Index: 1526 entries, 1 to 1526\n",
      "Data columns (total 3 columns):\n",
      "Zip Code           1526 non-null int64\n",
      "Life Expectancy    1526 non-null float64\n",
      "Count              1526 non-null int64\n",
      "dtypes: float64(1), int64(2)\n",
      "memory usage: 47.7 KB\n"
     ]
    }
   ],
   "source": [
    "results_data.info()"
   ]
  },
  {
   "cell_type": "code",
   "execution_count": 61,
   "metadata": {},
   "outputs": [
    {
     "data": {
      "text/html": [
       "<div>\n",
       "<style scoped>\n",
       "    .dataframe tbody tr th:only-of-type {\n",
       "        vertical-align: middle;\n",
       "    }\n",
       "\n",
       "    .dataframe tbody tr th {\n",
       "        vertical-align: top;\n",
       "    }\n",
       "\n",
       "    .dataframe thead th {\n",
       "        text-align: right;\n",
       "    }\n",
       "</style>\n",
       "<table border=\"1\" class=\"dataframe\">\n",
       "  <thead>\n",
       "    <tr style=\"text-align: right;\">\n",
       "      <th></th>\n",
       "      <th>Life Expectancy</th>\n",
       "      <th>Count</th>\n",
       "    </tr>\n",
       "  </thead>\n",
       "  <tbody>\n",
       "    <tr>\n",
       "      <td>count</td>\n",
       "      <td>1526.000000</td>\n",
       "      <td>1526.000000</td>\n",
       "    </tr>\n",
       "    <tr>\n",
       "      <td>mean</td>\n",
       "      <td>80.171402</td>\n",
       "      <td>183.645478</td>\n",
       "    </tr>\n",
       "    <tr>\n",
       "      <td>std</td>\n",
       "      <td>2.907326</td>\n",
       "      <td>180.130465</td>\n",
       "    </tr>\n",
       "    <tr>\n",
       "      <td>min</td>\n",
       "      <td>67.950000</td>\n",
       "      <td>0.000000</td>\n",
       "    </tr>\n",
       "    <tr>\n",
       "      <td>25%</td>\n",
       "      <td>78.378333</td>\n",
       "      <td>31.000000</td>\n",
       "    </tr>\n",
       "    <tr>\n",
       "      <td>50%</td>\n",
       "      <td>80.400000</td>\n",
       "      <td>82.000000</td>\n",
       "    </tr>\n",
       "    <tr>\n",
       "      <td>75%</td>\n",
       "      <td>82.073750</td>\n",
       "      <td>387.000000</td>\n",
       "    </tr>\n",
       "    <tr>\n",
       "      <td>max</td>\n",
       "      <td>88.900000</td>\n",
       "      <td>555.000000</td>\n",
       "    </tr>\n",
       "  </tbody>\n",
       "</table>\n",
       "</div>"
      ],
      "text/plain": [
       "       Life Expectancy        Count\n",
       "count      1526.000000  1526.000000\n",
       "mean         80.171402   183.645478\n",
       "std           2.907326   180.130465\n",
       "min          67.950000     0.000000\n",
       "25%          78.378333    31.000000\n",
       "50%          80.400000    82.000000\n",
       "75%          82.073750   387.000000\n",
       "max          88.900000   555.000000"
      ]
     },
     "execution_count": 61,
     "metadata": {},
     "output_type": "execute_result"
    }
   ],
   "source": [
    "results_data[['Life Expectancy','Count']].describe()"
   ]
  },
  {
   "cell_type": "code",
   "execution_count": 15,
   "metadata": {},
   "outputs": [
    {
     "data": {
      "text/html": [
       "<div>\n",
       "<style scoped>\n",
       "    .dataframe tbody tr th:only-of-type {\n",
       "        vertical-align: middle;\n",
       "    }\n",
       "\n",
       "    .dataframe tbody tr th {\n",
       "        vertical-align: top;\n",
       "    }\n",
       "\n",
       "    .dataframe thead th {\n",
       "        text-align: right;\n",
       "    }\n",
       "</style>\n",
       "<table border=\"1\" class=\"dataframe\">\n",
       "  <thead>\n",
       "    <tr style=\"text-align: right;\">\n",
       "      <th></th>\n",
       "      <th>Zip</th>\n",
       "      <th>City</th>\n",
       "      <th>State</th>\n",
       "      <th>Latitude</th>\n",
       "      <th>Longitude</th>\n",
       "      <th>Timezone</th>\n",
       "      <th>Daylight savings time flag</th>\n",
       "      <th>geopoint</th>\n",
       "    </tr>\n",
       "  </thead>\n",
       "  <tbody>\n",
       "    <tr>\n",
       "      <td>0</td>\n",
       "      <td>71937</td>\n",
       "      <td>Cove</td>\n",
       "      <td>AR</td>\n",
       "      <td>34.398483</td>\n",
       "      <td>-94.39398</td>\n",
       "      <td>-6</td>\n",
       "      <td>1</td>\n",
       "      <td>34.398483,-94.39398</td>\n",
       "    </tr>\n",
       "    <tr>\n",
       "      <td>1</td>\n",
       "      <td>72044</td>\n",
       "      <td>Edgemont</td>\n",
       "      <td>AR</td>\n",
       "      <td>35.624351</td>\n",
       "      <td>-92.16056</td>\n",
       "      <td>-6</td>\n",
       "      <td>1</td>\n",
       "      <td>35.624351,-92.16056</td>\n",
       "    </tr>\n",
       "    <tr>\n",
       "      <td>2</td>\n",
       "      <td>56171</td>\n",
       "      <td>Sherburn</td>\n",
       "      <td>MN</td>\n",
       "      <td>43.660847</td>\n",
       "      <td>-94.74357</td>\n",
       "      <td>-6</td>\n",
       "      <td>1</td>\n",
       "      <td>43.660847,-94.74357</td>\n",
       "    </tr>\n",
       "    <tr>\n",
       "      <td>3</td>\n",
       "      <td>49430</td>\n",
       "      <td>Lamont</td>\n",
       "      <td>MI</td>\n",
       "      <td>43.010337</td>\n",
       "      <td>-85.89754</td>\n",
       "      <td>-5</td>\n",
       "      <td>1</td>\n",
       "      <td>43.010337,-85.89754</td>\n",
       "    </tr>\n",
       "    <tr>\n",
       "      <td>4</td>\n",
       "      <td>52585</td>\n",
       "      <td>Richland</td>\n",
       "      <td>IA</td>\n",
       "      <td>41.194129</td>\n",
       "      <td>-91.98027</td>\n",
       "      <td>-6</td>\n",
       "      <td>1</td>\n",
       "      <td>41.194129,-91.98027</td>\n",
       "    </tr>\n",
       "  </tbody>\n",
       "</table>\n",
       "</div>"
      ],
      "text/plain": [
       "     Zip      City State   Latitude  Longitude  Timezone  \\\n",
       "0  71937      Cove    AR  34.398483  -94.39398        -6   \n",
       "1  72044  Edgemont    AR  35.624351  -92.16056        -6   \n",
       "2  56171  Sherburn    MN  43.660847  -94.74357        -6   \n",
       "3  49430    Lamont    MI  43.010337  -85.89754        -5   \n",
       "4  52585  Richland    IA  41.194129  -91.98027        -6   \n",
       "\n",
       "   Daylight savings time flag             geopoint  \n",
       "0                           1  34.398483,-94.39398  \n",
       "1                           1  35.624351,-92.16056  \n",
       "2                           1  43.660847,-94.74357  \n",
       "3                           1  43.010337,-85.89754  \n",
       "4                           1  41.194129,-91.98027  "
      ]
     },
     "execution_count": 15,
     "metadata": {},
     "output_type": "execute_result"
    }
   ],
   "source": [
    "zip_coord.head()"
   ]
  },
  {
   "cell_type": "code",
   "execution_count": 16,
   "metadata": {},
   "outputs": [],
   "source": [
    "ca_zip_coord = zip_coord[zip_coord['State'] == 'CA']"
   ]
  },
  {
   "cell_type": "code",
   "execution_count": 18,
   "metadata": {},
   "outputs": [
    {
     "name": "stdout",
     "output_type": "stream",
     "text": [
      "<class 'pandas.core.frame.DataFrame'>\n",
      "Int64Index: 2716 entries, 58 to 43148\n",
      "Data columns (total 8 columns):\n",
      "Zip                           2716 non-null int64\n",
      "City                          2716 non-null object\n",
      "State                         2716 non-null object\n",
      "Latitude                      2716 non-null float64\n",
      "Longitude                     2716 non-null float64\n",
      "Timezone                      2716 non-null int64\n",
      "Daylight savings time flag    2716 non-null int64\n",
      "geopoint                      2716 non-null object\n",
      "dtypes: float64(2), int64(3), object(3)\n",
      "memory usage: 191.0+ KB\n"
     ]
    }
   ],
   "source": [
    "ca_zip_coord.info()"
   ]
  },
  {
   "cell_type": "code",
   "execution_count": 20,
   "metadata": {},
   "outputs": [
    {
     "name": "stdout",
     "output_type": "stream",
     "text": [
      "<class 'pandas.core.frame.DataFrame'>\n",
      "Int64Index: 1505 entries, 0 to 1504\n",
      "Data columns (total 11 columns):\n",
      "Zip                           1505 non-null int64\n",
      "City                          1505 non-null object\n",
      "State                         1505 non-null object\n",
      "Latitude                      1505 non-null float64\n",
      "Longitude                     1505 non-null float64\n",
      "Timezone                      1505 non-null int64\n",
      "Daylight savings time flag    1505 non-null int64\n",
      "geopoint                      1505 non-null object\n",
      "Zip Code                      1505 non-null int64\n",
      "Life Expectancy               1505 non-null float64\n",
      "Count                         1505 non-null int64\n",
      "dtypes: float64(3), int64(5), object(3)\n",
      "memory usage: 141.1+ KB\n"
     ]
    }
   ],
   "source": [
    "combined = ca_zip_coord.merge(results_data, left_on='Zip', right_on='Zip Code')\n",
    "combined.info()"
   ]
  },
  {
   "cell_type": "code",
   "execution_count": 21,
   "metadata": {},
   "outputs": [
    {
     "data": {
      "text/html": [
       "<div>\n",
       "<style scoped>\n",
       "    .dataframe tbody tr th:only-of-type {\n",
       "        vertical-align: middle;\n",
       "    }\n",
       "\n",
       "    .dataframe tbody tr th {\n",
       "        vertical-align: top;\n",
       "    }\n",
       "\n",
       "    .dataframe thead th {\n",
       "        text-align: right;\n",
       "    }\n",
       "</style>\n",
       "<table border=\"1\" class=\"dataframe\">\n",
       "  <thead>\n",
       "    <tr style=\"text-align: right;\">\n",
       "      <th></th>\n",
       "      <th>Zip</th>\n",
       "      <th>City</th>\n",
       "      <th>State</th>\n",
       "      <th>Latitude</th>\n",
       "      <th>Longitude</th>\n",
       "      <th>Timezone</th>\n",
       "      <th>Daylight savings time flag</th>\n",
       "      <th>geopoint</th>\n",
       "      <th>Zip Code</th>\n",
       "      <th>Life Expectancy</th>\n",
       "      <th>Count</th>\n",
       "    </tr>\n",
       "  </thead>\n",
       "  <tbody>\n",
       "    <tr>\n",
       "      <td>0</td>\n",
       "      <td>93234</td>\n",
       "      <td>Huron</td>\n",
       "      <td>CA</td>\n",
       "      <td>36.209815</td>\n",
       "      <td>-120.08470</td>\n",
       "      <td>-8</td>\n",
       "      <td>1</td>\n",
       "      <td>36.209815,-120.0847</td>\n",
       "      <td>93234</td>\n",
       "      <td>79.100000</td>\n",
       "      <td>6</td>\n",
       "    </tr>\n",
       "    <tr>\n",
       "      <td>1</td>\n",
       "      <td>94931</td>\n",
       "      <td>Cotati</td>\n",
       "      <td>CA</td>\n",
       "      <td>38.328614</td>\n",
       "      <td>-122.71044</td>\n",
       "      <td>-8</td>\n",
       "      <td>1</td>\n",
       "      <td>38.328614,-122.71044</td>\n",
       "      <td>94931</td>\n",
       "      <td>81.133333</td>\n",
       "      <td>113</td>\n",
       "    </tr>\n",
       "    <tr>\n",
       "      <td>2</td>\n",
       "      <td>95322</td>\n",
       "      <td>Gustine</td>\n",
       "      <td>CA</td>\n",
       "      <td>37.187494</td>\n",
       "      <td>-121.03232</td>\n",
       "      <td>-8</td>\n",
       "      <td>1</td>\n",
       "      <td>37.187494,-121.03232</td>\n",
       "      <td>95322</td>\n",
       "      <td>77.800000</td>\n",
       "      <td>7</td>\n",
       "    </tr>\n",
       "    <tr>\n",
       "      <td>3</td>\n",
       "      <td>90038</td>\n",
       "      <td>Los Angeles</td>\n",
       "      <td>CA</td>\n",
       "      <td>34.089459</td>\n",
       "      <td>-118.32850</td>\n",
       "      <td>-8</td>\n",
       "      <td>1</td>\n",
       "      <td>34.089459,-118.3285</td>\n",
       "      <td>90038</td>\n",
       "      <td>81.183333</td>\n",
       "      <td>397</td>\n",
       "    </tr>\n",
       "    <tr>\n",
       "      <td>4</td>\n",
       "      <td>90063</td>\n",
       "      <td>Los Angeles</td>\n",
       "      <td>CA</td>\n",
       "      <td>34.045161</td>\n",
       "      <td>-118.18650</td>\n",
       "      <td>-8</td>\n",
       "      <td>1</td>\n",
       "      <td>34.045161,-118.1865</td>\n",
       "      <td>90063</td>\n",
       "      <td>79.253846</td>\n",
       "      <td>473</td>\n",
       "    </tr>\n",
       "  </tbody>\n",
       "</table>\n",
       "</div>"
      ],
      "text/plain": [
       "     Zip         City State   Latitude  Longitude  Timezone  \\\n",
       "0  93234        Huron    CA  36.209815 -120.08470        -8   \n",
       "1  94931       Cotati    CA  38.328614 -122.71044        -8   \n",
       "2  95322      Gustine    CA  37.187494 -121.03232        -8   \n",
       "3  90038  Los Angeles    CA  34.089459 -118.32850        -8   \n",
       "4  90063  Los Angeles    CA  34.045161 -118.18650        -8   \n",
       "\n",
       "   Daylight savings time flag              geopoint  Zip Code  \\\n",
       "0                           1   36.209815,-120.0847     93234   \n",
       "1                           1  38.328614,-122.71044     94931   \n",
       "2                           1  37.187494,-121.03232     95322   \n",
       "3                           1   34.089459,-118.3285     90038   \n",
       "4                           1   34.045161,-118.1865     90063   \n",
       "\n",
       "   Life Expectancy  Count  \n",
       "0        79.100000      6  \n",
       "1        81.133333    113  \n",
       "2        77.800000      7  \n",
       "3        81.183333    397  \n",
       "4        79.253846    473  "
      ]
     },
     "execution_count": 21,
     "metadata": {},
     "output_type": "execute_result"
    }
   ],
   "source": [
    "combined.head()"
   ]
  },
  {
   "cell_type": "code",
   "execution_count": 32,
   "metadata": {},
   "outputs": [
    {
     "data": {
      "image/png": "[encoded data removed]",
      "text/plain": [
       "<Figure size 432x288 with 1 Axes>"
      ]
     },
     "metadata": {
      "needs_background": "light"
     },
     "output_type": "display_data"
    }
   ],
   "source": [
    "plt.scatter(combined['Longitude'],combined['Latitude'])\n",
    "plt.plot(json_df['Longitude'],json_df['Latitude'])\n",
    "\n",
    "plt.show()"
   ]
  },
  {
   "cell_type": "code",
   "execution_count": 56,
   "metadata": {},
   "outputs": [
    {
     "data": {
      "image/png": "[encoded data removed]",
      "text/plain": [
       "<Figure size 720x720 with 1 Axes>"
      ]
     },
     "metadata": {
      "needs_background": "light"
     },
     "output_type": "display_data"
    }
   ],
   "source": [
    "fig, ax = plt.subplots(figsize=(10,10))\n",
    "#ax = fig.add_subplot(111, projection='3d')\n",
    "ax.scatter(combined['Longitude'],combined['Latitude'],combined['Count'])\n",
    "ax.plot(json_df['Longitude'],json_df['Latitude'])\n",
    "\n",
    "plt.show()"
   ]
  },
  {
   "cell_type": "code",
   "execution_count": 42,
   "metadata": {},
   "outputs": [
    {
     "ename": "TypeError",
     "evalue": "scatter() missing 1 required positional argument: 'self'",
     "output_type": "error",
     "traceback": [
      "\u001b[1;31m---------------------------------------------------------------------------\u001b[0m",
      "\u001b[1;31mTypeError\u001b[0m                                 Traceback (most recent call last)",
      "\u001b[1;32m<ipython-input-42-6f76fd752b87>\u001b[0m in \u001b[0;36m<module>\u001b[1;34m\u001b[0m\n\u001b[1;32m----> 1\u001b[1;33m \u001b[0mAxes3D\u001b[0m\u001b[1;33m.\u001b[0m\u001b[0mscatter\u001b[0m\u001b[1;33m(\u001b[0m\u001b[0mxs\u001b[0m\u001b[1;33m=\u001b[0m\u001b[0mcombined\u001b[0m\u001b[1;33m[\u001b[0m\u001b[1;34m'Latitude'\u001b[0m\u001b[1;33m]\u001b[0m\u001b[1;33m,\u001b[0m\u001b[0mys\u001b[0m\u001b[1;33m=\u001b[0m\u001b[0mcombined\u001b[0m\u001b[1;33m[\u001b[0m\u001b[1;34m'Longitude'\u001b[0m\u001b[1;33m]\u001b[0m\u001b[1;33m)\u001b[0m\u001b[1;33m\u001b[0m\u001b[1;33m\u001b[0m\u001b[0m\n\u001b[0m\u001b[0;32m      2\u001b[0m \u001b[1;33m\u001b[0m\u001b[0m\n\u001b[0;32m      3\u001b[0m \u001b[0mplt\u001b[0m\u001b[1;33m.\u001b[0m\u001b[0mshow\u001b[0m\u001b[1;33m(\u001b[0m\u001b[1;33m)\u001b[0m\u001b[1;33m\u001b[0m\u001b[1;33m\u001b[0m\u001b[0m\n",
      "\u001b[1;31mTypeError\u001b[0m: scatter() missing 1 required positional argument: 'self'"
     ]
    }
   ],
   "source": [
    "Axes3D.bar(xs=combined['Latitude'],ys=combined['Longitude'])\n",
    "\n",
    "plt.show()"
   ]
  },
  {
   "cell_type": "code",
   "execution_count": 67,
   "metadata": {},
   "outputs": [
    {
     "data": {
      "text/plain": [
       "array([[ 1,  2,  3,  4,  5,  6,  7,  8,  9],\n",
       "       [ 2,  4,  6,  8, 10, 12, 14, 16, 18],\n",
       "       [ 3,  6,  9, 12, 15, 18, 21, 24, 27],\n",
       "       [ 4,  8, 12, 16, 20, 24, 28, 32, 36],\n",
       "       [ 5, 10, 15, 20, 25, 30, 35, 40, 45],\n",
       "       [ 6, 12, 18, 24, 30, 36, 42, 48, 54],\n",
       "       [ 7, 14, 21, 28, 35, 42, 49, 56, 63],\n",
       "       [ 8, 16, 24, 32, 40, 48, 56, 64, 72],\n",
       "       [ 9, 18, 27, 36, 45, 54, 63, 72, 81]])"
      ]
     },
     "execution_count": 67,
     "metadata": {},
     "output_type": "execute_result"
    }
   ],
   "source": [
    "h"
   ]
  },
  {
   "cell_type": "code",
   "execution_count": 69,
   "metadata": {},
   "outputs": [
    {
     "data": {
      "image/png": "[encoded data removed]",
      "text/plain": [
       "<Figure size 432x288 with 1 Axes>"
      ]
     },
     "metadata": {
      "needs_background": "light"
     },
     "output_type": "display_data"
    }
   ],
   "source": [
    "x = np.arange(1, 10)\n",
    "y = x.reshape(-1, 1)\n",
    "h = x * y\n",
    "\n",
    "cs = plt.contourf([combined['Longitude'],combined['Latitude']], levels=[10, 30, 50],\n",
    "                 colors=['#808080', '#A0A0A0', '#C0C0C0'], extend='both')\n",
    "cs.cmap.set_over('red')\n",
    "cs.cmap.set_under('blue')\n",
    "cs.changed()"
   ]
  }
 ],
 "metadata": {
  "kernelspec": {
   "display_name": "Python 3",
   "language": "python",
   "name": "python3"
  },
  "language_info": {
   "codemirror_mode": {
    "name": "ipython",
    "version": 3
   },
   "file_extension": ".py",
   "mimetype": "text/x-python",
   "name": "python",
   "nbconvert_exporter": "python",
   "pygments_lexer": "ipython3",
   "version": "3.7.3"
  }
 },
 "nbformat": 4,
 "nbformat_minor": 4
}
