{
 "cells": [
  {
   "cell_type": "code",
   "execution_count": 5,
   "metadata": {},
   "outputs": [],
   "source": [
    "# Define the Surfer Class\n",
    "class Surfer():\n",
    "    \n",
    "    def __init__(self, name, hometown, rank, wipeouts):\n",
    "        self.name = name\n",
    "        self.hometown = hometown\n",
    "        self.rank = rank\n",
    "        self.wipeouts = wipeouts\n",
    "        \n",
    "    def speak(self):\n",
    "        print(f'Hangs loose, bruh!')\n",
    "        \n",
    "    def biography(self):\n",
    "        print(f'Surfer {self.name} is from {self.hometown}')\n",
    "        \n",
    "    def cheer(self):\n",
    "        if self.wipeouts == 0:\n",
    "            print(f'I totally rock man, no wipeouts!')\n",
    "        elif self.wipeouts > 0:\n",
    "            print(f'Bummer bruh, keep on keeping on!')"
   ]
  },
  {
   "cell_type": "code",
   "execution_count": 11,
   "metadata": {},
   "outputs": [
    {
     "name": "stdout",
     "output_type": "stream",
     "text": [
      "\n",
      "Tiki Joe, Beach City USA, 7, 3\n",
      "Hangs loose, bruh!\n",
      "Surfer Tiki Joe is from Beach City USA\n",
      "Bummer bruh, keep on keeping on!\n",
      "\n",
      "Abe Ape, Tubular Tahiti, 2, 0\n",
      "Hangs loose, bruh!\n",
      "Surfer Abe Ape is from Tubular Tahiti\n",
      "I totally rock man, no wipeouts!\n"
     ]
    }
   ],
   "source": [
    "# Create Surfers\n",
    "# --------------------------------------------------------------------------------\n",
    "surfer_1 = Surfer('Tiki Joe','Beach City USA',7,3)\n",
    "surfer_2 = Surfer('Abe Ape','Tubular Tahiti',2,0)\n",
    "\n",
    "print(f'\\n{surfer_1.name}, {surfer_1.hometown}, {surfer_1.rank}, {surfer_1.wipeouts}')\n",
    "Surfer.speak(surfer_1)\n",
    "Surfer.biography(surfer_1)\n",
    "Surfer.cheer(surfer_1)\n",
    "\n",
    "print(f'\\n{surfer_2.name}, {surfer_2.hometown}, {surfer_2.rank}, {surfer_2.wipeouts}')\n",
    "Surfer.speak(surfer_2)\n",
    "Surfer.biography(surfer_2)\n",
    "Surfer.cheer(surfer_2)"
   ]
  },
  {
   "cell_type": "code",
   "execution_count": null,
   "metadata": {},
   "outputs": [],
   "source": []
  }
 ],
 "metadata": {
  "kernelspec": {
   "display_name": "Python 3",
   "language": "python",
   "name": "python3"
  },
  "language_info": {
   "codemirror_mode": {
    "name": "ipython",
    "version": 3
   },
   "file_extension": ".py",
   "mimetype": "text/x-python",
   "name": "python",
   "nbconvert_exporter": "python",
   "pygments_lexer": "ipython3",
   "version": "3.7.3"
  },
  "toc": {
   "base_numbering": 1,
   "nav_menu": {},
   "number_sections": true,
   "sideBar": true,
   "skip_h1_title": false,
   "title_cell": "Table of Contents",
   "title_sidebar": "Contents",
   "toc_cell": false,
   "toc_position": {},
   "toc_section_display": true,
   "toc_window_display": false
  },
  "varInspector": {
   "cols": {
    "lenName": 16,
    "lenType": 16,
    "lenVar": 40
   },
   "kernels_config": {
    "python": {
     "delete_cmd_postfix": "",
     "delete_cmd_prefix": "del ",
     "library": "var_list.py",
     "varRefreshCmd": "print(var_dic_list())"
    },
    "r": {
     "delete_cmd_postfix": ") ",
     "delete_cmd_prefix": "rm(",
     "library": "var_list.r",
     "varRefreshCmd": "cat(var_dic_list()) "
    }
   },
   "types_to_exclude": [
    "module",
    "function",
    "builtin_function_or_method",
    "instance",
    "_Feature"
   ],
   "window_display": false
  }
 },
 "nbformat": 4,
 "nbformat_minor": 2
}
