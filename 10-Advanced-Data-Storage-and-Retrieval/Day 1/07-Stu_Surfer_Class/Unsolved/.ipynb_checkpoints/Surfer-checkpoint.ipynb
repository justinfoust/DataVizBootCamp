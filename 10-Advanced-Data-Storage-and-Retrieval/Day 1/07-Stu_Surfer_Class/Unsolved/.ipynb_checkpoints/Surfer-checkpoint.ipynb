{
 "cells": [
  {
   "cell_type": "code",
   "execution_count": 5,
   "metadata": {},
   "outputs": [],
   "source": [
    "# Define the Surfer Class\n",
    "class Surfer():\n",
    "    \n",
    "    def __init__(self, name, hometown, rank):\n",
    "        self.name = name\n",
    "        self.hometown = hometown\n",
    "        self.rank = rank\n",
    "        \n",
    "    def attr(self):\n",
    "        print(f'{self.name} {self.hometown} {self.rank}')\n",
    "        "
   ]
  },
  {
   "cell_type": "code",
   "execution_count": 6,
   "metadata": {},
   "outputs": [],
   "source": [
    "# Create an instance of the Surfer Class\n",
    "surfer = Surfer('Joe','Santa Ana','5')"
   ]
  },
  {
   "cell_type": "code",
   "execution_count": 7,
   "metadata": {},
   "outputs": [
    {
     "name": "stdout",
     "output_type": "stream",
     "text": [
      "Joe Santa Ana 5\n"
     ]
    }
   ],
   "source": [
    "# Print the object's attributes\n",
    "surfer.attr()"
   ]
  },
  {
   "cell_type": "code",
   "execution_count": 10,
   "metadata": {},
   "outputs": [
    {
     "name": "stdin",
     "output_type": "stream",
     "text": [
      "Surfer Name:  Joe\n",
      "Surfer Hometown:  LA\n",
      "Surfer Rank:  5\n"
     ]
    },
    {
     "name": "stdout",
     "output_type": "stream",
     "text": [
      "Joe LA 5\n"
     ]
    },
    {
     "name": "stdin",
     "output_type": "stream",
     "text": [
      "To stop, type \"stop\" no\n",
      "Surfer Name:  John\n",
      "Surfer Hometown:  Oakland\n",
      "Surfer Rank:  234\n"
     ]
    },
    {
     "name": "stdout",
     "output_type": "stream",
     "text": [
      "John Oakland 234\n"
     ]
    },
    {
     "name": "stdin",
     "output_type": "stream",
     "text": [
      "To stop, type \"stop\" no\n",
      "Surfer Name:  asdf\n",
      "Surfer Hometown:  asdf\n",
      "Surfer Rank:  asdf\n"
     ]
    },
    {
     "name": "stdout",
     "output_type": "stream",
     "text": [
      "asdf asdf asdf\n"
     ]
    },
    {
     "name": "stdin",
     "output_type": "stream",
     "text": [
      "To stop, type \"stop\" \n",
      "Surfer Name:  stop\n",
      "Surfer Hometown:  stop\n",
      "Surfer Rank:  stop\n"
     ]
    },
    {
     "name": "stdout",
     "output_type": "stream",
     "text": [
      "stop stop stop\n"
     ]
    },
    {
     "name": "stdin",
     "output_type": "stream",
     "text": [
      "To stop, type \"stop\" stop\n"
     ]
    }
   ],
   "source": [
    "# ----BONUS----\n",
    "# Variable to keep track of changes to while loop\n",
    "user_input = ''\n",
    "while user_input != 'stop':\n",
    "    input_name = input('Surfer Name: ')\n",
    "    input_hometown = input('Surfer Hometown: ')\n",
    "    input_rank = input('Surfer Rank: ')\n",
    "    \n",
    "    surfer = Surfer(input_name,input_hometown,input_rank)\n",
    "    surfer.attr()\n",
    "    \n",
    "    user_input = input('To stop, type \"stop\"')"
   ]
  },
  {
   "cell_type": "code",
   "execution_count": null,
   "metadata": {},
   "outputs": [],
   "source": []
  }
 ],
 "metadata": {
  "kernelspec": {
   "display_name": "Python 3",
   "language": "python",
   "name": "python3"
  },
  "language_info": {
   "codemirror_mode": {
    "name": "ipython",
    "version": 3
   },
   "file_extension": ".py",
   "mimetype": "text/x-python",
   "name": "python",
   "nbconvert_exporter": "python",
   "pygments_lexer": "ipython3",
   "version": "3.7.3"
  },
  "varInspector": {
   "cols": {
    "lenName": 16,
    "lenType": 16,
    "lenVar": 40
   },
   "kernels_config": {
    "python": {
     "delete_cmd_postfix": "",
     "delete_cmd_prefix": "del ",
     "library": "var_list.py",
     "varRefreshCmd": "print(var_dic_list())"
    },
    "r": {
     "delete_cmd_postfix": ") ",
     "delete_cmd_prefix": "rm(",
     "library": "var_list.r",
     "varRefreshCmd": "cat(var_dic_list()) "
    }
   },
   "types_to_exclude": [
    "module",
    "function",
    "builtin_function_or_method",
    "instance",
    "_Feature"
   ],
   "window_display": false
  }
 },
 "nbformat": 4,
 "nbformat_minor": 4
}
