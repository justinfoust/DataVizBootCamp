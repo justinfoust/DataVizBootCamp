{
 "cells": [
  {
   "cell_type": "markdown",
   "metadata": {},
   "source": [
    "# SQLAlchemy Joins"
   ]
  },
  {
   "cell_type": "markdown",
   "metadata": {},
   "source": [
    "## Setup"
   ]
  },
  {
   "cell_type": "code",
   "execution_count": 7,
   "metadata": {},
   "outputs": [],
   "source": [
    "# Python SQL toolkit and Object Relational Mapper\n",
    "import sqlalchemy\n",
    "from sqlalchemy.ext.automap import automap_base\n",
    "from sqlalchemy.orm import Session\n",
    "from sqlalchemy import create_engine, inspect\n",
    "import pandas as pd"
   ]
  },
  {
   "cell_type": "code",
   "execution_count": 2,
   "metadata": {},
   "outputs": [],
   "source": [
    "engine = create_engine(\"sqlite:///../Resources/mammal_masses.sqlite\", echo=False)"
   ]
  },
  {
   "cell_type": "code",
   "execution_count": 3,
   "metadata": {},
   "outputs": [
    {
     "data": {
      "text/plain": [
       "['ea', 'na']"
      ]
     },
     "execution_count": 3,
     "metadata": {},
     "output_type": "execute_result"
    }
   ],
   "source": [
    "# Reflect Database into ORM classes\n",
    "Base = automap_base()\n",
    "Base.prepare(engine, reflect=True)\n",
    "Base.classes.keys()"
   ]
  },
  {
   "cell_type": "code",
   "execution_count": 4,
   "metadata": {},
   "outputs": [],
   "source": [
    "# Map Europe class\n",
    "EA = Base.classes.ea"
   ]
  },
  {
   "cell_type": "code",
   "execution_count": 9,
   "metadata": {},
   "outputs": [
    {
     "ename": "ValueError",
     "evalue": "DataFrame constructor not properly called!",
     "output_type": "error",
     "traceback": [
      "\u001b[1;31m---------------------------------------------------------------------------\u001b[0m",
      "\u001b[1;31mValueError\u001b[0m                                Traceback (most recent call last)",
      "\u001b[1;32m<ipython-input-9-f34ef375a0f7>\u001b[0m in \u001b[0;36m<module>\u001b[1;34m\u001b[0m\n\u001b[1;32m----> 1\u001b[1;33m \u001b[0mpd\u001b[0m\u001b[1;33m.\u001b[0m\u001b[0mDataFrame\u001b[0m\u001b[1;33m(\u001b[0m\u001b[0minspect\u001b[0m\u001b[1;33m(\u001b[0m\u001b[0mEA\u001b[0m\u001b[1;33m)\u001b[0m\u001b[1;33m)\u001b[0m\u001b[1;33m\u001b[0m\u001b[1;33m\u001b[0m\u001b[0m\n\u001b[0m",
      "\u001b[1;32m~\\AppData\\Local\\Continuum\\anaconda3\\lib\\site-packages\\pandas\\core\\frame.py\u001b[0m in \u001b[0;36m__init__\u001b[1;34m(self, data, index, columns, dtype, copy)\u001b[0m\n\u001b[0;32m    483\u001b[0m                 )\n\u001b[0;32m    484\u001b[0m             \u001b[1;32melse\u001b[0m\u001b[1;33m:\u001b[0m\u001b[1;33m\u001b[0m\u001b[1;33m\u001b[0m\u001b[0m\n\u001b[1;32m--> 485\u001b[1;33m                 \u001b[1;32mraise\u001b[0m \u001b[0mValueError\u001b[0m\u001b[1;33m(\u001b[0m\u001b[1;34m\"DataFrame constructor not properly called!\"\u001b[0m\u001b[1;33m)\u001b[0m\u001b[1;33m\u001b[0m\u001b[1;33m\u001b[0m\u001b[0m\n\u001b[0m\u001b[0;32m    486\u001b[0m \u001b[1;33m\u001b[0m\u001b[0m\n\u001b[0;32m    487\u001b[0m         \u001b[0mNDFrame\u001b[0m\u001b[1;33m.\u001b[0m\u001b[0m__init__\u001b[0m\u001b[1;33m(\u001b[0m\u001b[0mself\u001b[0m\u001b[1;33m,\u001b[0m \u001b[0mmgr\u001b[0m\u001b[1;33m,\u001b[0m \u001b[0mfastpath\u001b[0m\u001b[1;33m=\u001b[0m\u001b[1;32mTrue\u001b[0m\u001b[1;33m)\u001b[0m\u001b[1;33m\u001b[0m\u001b[1;33m\u001b[0m\u001b[0m\n",
      "\u001b[1;31mValueError\u001b[0m: DataFrame constructor not properly called!"
     ]
    }
   ],
   "source": [
    "pd.DataFrame(inspect(EA))"
   ]
  },
  {
   "cell_type": "code",
   "execution_count": 5,
   "metadata": {},
   "outputs": [],
   "source": [
    "# Map North American class\n",
    "NA = Base.classes.na"
   ]
  },
  {
   "cell_type": "code",
   "execution_count": 6,
   "metadata": {},
   "outputs": [],
   "source": [
    "# create a session\n",
    "session = Session(engine)"
   ]
  },
  {
   "cell_type": "markdown",
   "metadata": {},
   "source": [
    "## Filtering Review"
   ]
  },
  {
   "cell_type": "markdown",
   "metadata": {
    "collapsed": true
   },
   "source": [
    "Filters are the \"WHERE\" clause for your select statement. "
   ]
  },
  {
   "cell_type": "code",
   "execution_count": 7,
   "metadata": {},
   "outputs": [
    {
     "name": "stdout",
     "output_type": "stream",
     "text": [
      "Family: Antilocapridae, Genus: Antilocapra\n"
     ]
    }
   ],
   "source": [
    "# filter North American mammals whose genus is \"Antilocapra\"\n",
    "# query, loop over and print out animals.\n",
    "mammals = session.query(NA).filter(NA.genus == 'Antilocapra').all()\n",
    "for mammal in mammals:\n",
    "    print(\"Family: {0}, Genus: {1}\".format(mammal.family, mammal.genus))"
   ]
  },
  {
   "cell_type": "markdown",
   "metadata": {},
   "source": [
    "## Joins"
   ]
  },
  {
   "cell_type": "markdown",
   "metadata": {
    "collapsed": true
   },
   "source": [
    "A SQL join combines columns from one or more tables in a relational database. \n",
    "\n",
    "It creates a set that can be saved as a table or used as it is. \n",
    "\n",
    "A JOIN is a means for combining columns from one (self-table) or more tables by using values common to each."
   ]
  },
  {
   "cell_type": "code",
   "execution_count": 8,
   "metadata": {},
   "outputs": [
    {
     "data": {
      "text/plain": [
       "['ea', 'na']"
      ]
     },
     "execution_count": 8,
     "metadata": {},
     "output_type": "execute_result"
    }
   ],
   "source": [
    "inspector = inspect(engine)\n",
    "inspector.get_table_names()"
   ]
  },
  {
   "cell_type": "code",
   "execution_count": 9,
   "metadata": {
    "scrolled": true
   },
   "outputs": [
    {
     "name": "stdout",
     "output_type": "stream",
     "text": [
      "id INTEGER\n",
      "record_id INTEGER\n",
      "continent TEXT\n",
      "status TEXT\n",
      "sporder TEXT\n",
      "family TEXT\n",
      "genus TEXT\n",
      "species TEXT\n",
      "log_mass_g FLOAT\n",
      "comb_mass_g FLOAT\n",
      "reference TEXT\n"
     ]
    }
   ],
   "source": [
    "# Get a list of column names and types\n",
    "columns = inspector.get_columns('ea')\n",
    "for c in columns:\n",
    "    print(c['name'], c[\"type\"])"
   ]
  },
  {
   "cell_type": "code",
   "execution_count": 10,
   "metadata": {
    "scrolled": false
   },
   "outputs": [
    {
     "data": {
      "text/plain": [
       "[('Artiodactyla', 'Artiodactyla'),\n",
       " ('Artiodactyla', 'Artiodactyla'),\n",
       " ('Artiodactyla', 'Artiodactyla'),\n",
       " ('Artiodactyla', 'Artiodactyla'),\n",
       " ('Artiodactyla', 'Artiodactyla'),\n",
       " ('Artiodactyla', 'Artiodactyla'),\n",
       " ('Artiodactyla', 'Artiodactyla'),\n",
       " ('Artiodactyla', 'Artiodactyla'),\n",
       " ('Artiodactyla', 'Artiodactyla'),\n",
       " ('Artiodactyla', 'Artiodactyla'),\n",
       " ('Artiodactyla', 'Artiodactyla'),\n",
       " ('Artiodactyla', 'Artiodactyla'),\n",
       " ('Artiodactyla', 'Artiodactyla'),\n",
       " ('Artiodactyla', 'Artiodactyla'),\n",
       " ('Artiodactyla', 'Artiodactyla'),\n",
       " ('Artiodactyla', 'Artiodactyla'),\n",
       " ('Artiodactyla', 'Artiodactyla'),\n",
       " ('Artiodactyla', 'Artiodactyla'),\n",
       " ('Artiodactyla', 'Artiodactyla'),\n",
       " ('Artiodactyla', 'Artiodactyla'),\n",
       " ('Artiodactyla', 'Artiodactyla'),\n",
       " ('Artiodactyla', 'Artiodactyla'),\n",
       " ('Artiodactyla', 'Artiodactyla'),\n",
       " ('Artiodactyla', 'Artiodactyla'),\n",
       " ('Artiodactyla', 'Artiodactyla'),\n",
       " ('Artiodactyla', 'Artiodactyla'),\n",
       " ('Artiodactyla', 'Artiodactyla'),\n",
       " ('Artiodactyla', 'Artiodactyla'),\n",
       " ('Artiodactyla', 'Artiodactyla'),\n",
       " ('Artiodactyla', 'Artiodactyla'),\n",
       " ('Artiodactyla', 'Artiodactyla'),\n",
       " ('Artiodactyla', 'Artiodactyla'),\n",
       " ('Artiodactyla', 'Artiodactyla'),\n",
       " ('Artiodactyla', 'Artiodactyla'),\n",
       " ('Artiodactyla', 'Artiodactyla'),\n",
       " ('Artiodactyla', 'Artiodactyla'),\n",
       " ('Artiodactyla', 'Carnivora'),\n",
       " ('Artiodactyla', 'Carnivora'),\n",
       " ('Artiodactyla', 'Carnivora'),\n",
       " ('Artiodactyla', 'Carnivora'),\n",
       " ('Artiodactyla', 'Carnivora'),\n",
       " ('Artiodactyla', 'Carnivora'),\n",
       " ('Artiodactyla', 'Carnivora'),\n",
       " ('Artiodactyla', 'Carnivora'),\n",
       " ('Artiodactyla', 'Carnivora'),\n",
       " ('Artiodactyla', 'Carnivora'),\n",
       " ('Artiodactyla', 'Carnivora'),\n",
       " ('Artiodactyla', 'Carnivora'),\n",
       " ('Artiodactyla', 'Carnivora'),\n",
       " ('Artiodactyla', 'Carnivora'),\n",
       " ('Artiodactyla', 'Carnivora'),\n",
       " ('Artiodactyla', 'Carnivora'),\n",
       " ('Artiodactyla', 'Carnivora'),\n",
       " ('Artiodactyla', 'Carnivora'),\n",
       " ('Artiodactyla', 'Carnivora'),\n",
       " ('Artiodactyla', 'Carnivora'),\n",
       " ('Artiodactyla', 'Carnivora'),\n",
       " ('Artiodactyla', 'Carnivora'),\n",
       " ('Artiodactyla', 'Carnivora'),\n",
       " ('Artiodactyla', 'Carnivora'),\n",
       " ('Artiodactyla', 'Carnivora'),\n",
       " ('Artiodactyla', 'Carnivora'),\n",
       " ('Artiodactyla', 'Carnivora'),\n",
       " ('Artiodactyla', 'Carnivora'),\n",
       " ('Artiodactyla', 'Carnivora'),\n",
       " ('Artiodactyla', 'Carnivora'),\n",
       " ('Artiodactyla', 'Carnivora'),\n",
       " ('Artiodactyla', 'Carnivora'),\n",
       " ('Artiodactyla', 'Carnivora'),\n",
       " ('Artiodactyla', 'Carnivora'),\n",
       " ('Artiodactyla', 'Carnivora'),\n",
       " ('Artiodactyla', 'Carnivora'),\n",
       " ('Artiodactyla', 'Carnivora'),\n",
       " ('Artiodactyla', 'Carnivora'),\n",
       " ('Artiodactyla', 'Carnivora'),\n",
       " ('Artiodactyla', 'Carnivora'),\n",
       " ('Artiodactyla', 'Carnivora'),\n",
       " ('Artiodactyla', 'Carnivora'),\n",
       " ('Artiodactyla', 'Carnivora'),\n",
       " ('Artiodactyla', 'Carnivora'),\n",
       " ('Artiodactyla', 'Carnivora'),\n",
       " ('Artiodactyla', 'Carnivora'),\n",
       " ('Artiodactyla', 'Carnivora'),\n",
       " ('Artiodactyla', 'Carnivora'),\n",
       " ('Artiodactyla', 'Carnivora'),\n",
       " ('Artiodactyla', 'Carnivora'),\n",
       " ('Artiodactyla', 'Carnivora'),\n",
       " ('Artiodactyla', 'Carnivora'),\n",
       " ('Artiodactyla', 'Carnivora'),\n",
       " ('Artiodactyla', 'Carnivora'),\n",
       " ('Artiodactyla', 'Carnivora'),\n",
       " ('Artiodactyla', 'Carnivora'),\n",
       " ('Artiodactyla', 'Carnivora'),\n",
       " ('Artiodactyla', 'Carnivora'),\n",
       " ('Artiodactyla', 'Carnivora'),\n",
       " ('Artiodactyla', 'Carnivora'),\n",
       " ('Artiodactyla', 'Carnivora'),\n",
       " ('Artiodactyla', 'Carnivora'),\n",
       " ('Artiodactyla', 'Carnivora'),\n",
       " ('Artiodactyla', 'Carnivora')]"
      ]
     },
     "execution_count": 10,
     "metadata": {},
     "output_type": "execute_result"
    }
   ],
   "source": [
    "session.query(EA.sporder, NA.sporder).limit(100).all()"
   ]
  },
  {
   "cell_type": "code",
   "execution_count": 11,
   "metadata": {},
   "outputs": [
    {
     "name": "stdout",
     "output_type": "stream",
     "text": [
      "Artiodactyla\n",
      "Artiodactyla\n",
      "Artiodactyla\n",
      "Artiodactyla\n",
      "Artiodactyla\n",
      "Artiodactyla\n",
      "Artiodactyla\n",
      "Artiodactyla\n",
      "Artiodactyla\n",
      "Artiodactyla\n",
      "Artiodactyla\n",
      "Artiodactyla\n",
      "Artiodactyla\n",
      "Artiodactyla\n",
      "Artiodactyla\n",
      "Artiodactyla\n",
      "Artiodactyla\n",
      "Artiodactyla\n",
      "Artiodactyla\n",
      "Artiodactyla\n"
     ]
    }
   ],
   "source": [
    "same_sporder = session.query(EA, NA).filter(EA.sporder == NA.sporder).limit(10).all()\n",
    "\n",
    "\n",
    "for record in same_sporder:\n",
    "    (ea, na) = record\n",
    "    print(ea.sporder)\n",
    "    print(na.sporder)"
   ]
  },
  {
   "cell_type": "code",
   "execution_count": 12,
   "metadata": {},
   "outputs": [
    {
     "name": "stdout",
     "output_type": "stream",
     "text": [
      "The European animal 'Bovidae Antilope cervicapra'belongs to the same sporder as the North American animal 'Antilocapridae Antilocapra americana'.\n",
      "The European animal 'Bovidae Antilope cervicapra'belongs to the same sporder as the North American animal 'Antilocapridae Capromeryx mexicana'.\n",
      "The European animal 'Bovidae Antilope cervicapra'belongs to the same sporder as the North American animal 'Antilocapridae Capromeryx minor'.\n",
      "The European animal 'Bovidae Antilope cervicapra'belongs to the same sporder as the North American animal 'Antilocapridae Stockoceros conklingi'.\n",
      "The European animal 'Bovidae Antilope cervicapra'belongs to the same sporder as the North American animal 'Antilocapridae Stockoceros onusrosagris'.\n",
      "The European animal 'Bovidae Antilope cervicapra'belongs to the same sporder as the North American animal 'Antilocapridae Tetrameryx shuleri'.\n",
      "The European animal 'Bovidae Antilope cervicapra'belongs to the same sporder as the North American animal 'Bovidae Bison bison'.\n",
      "The European animal 'Bovidae Antilope cervicapra'belongs to the same sporder as the North American animal 'Bovidae Bison latifrons'.\n",
      "The European animal 'Bovidae Antilope cervicapra'belongs to the same sporder as the North American animal 'Bovidae Bison priscus'.\n",
      "The European animal 'Bovidae Antilope cervicapra'belongs to the same sporder as the North American animal 'Bovidae Bootherium bombifrons'.\n"
     ]
    }
   ],
   "source": [
    "# Return all animals from EA and NA belonging to the same sporder.\n",
    "# This JOINs the data in the two tables together into a single dataset (here in the form of a tuple).\n",
    "# Note: We are going to limit the results to 10 for printing\n",
    "sel = [EA.family, EA.genus, EA.species, NA.family, NA.genus, NA.species]\n",
    "same_sporder = session.query(*sel).filter(EA.sporder == NA.sporder).limit(10).all()\n",
    "\n",
    "for record in same_sporder:\n",
    "    (ea_fam, ea_gen, ea_spec, na_fam, na_gen, na_spec) = record\n",
    "    print(\n",
    "        f\"The European animal '{ea_fam} {ea_gen} {ea_spec}'\"\n",
    "        f\"belongs to the same sporder as the North American animal '{na_fam} {na_gen} {na_spec}'.\")"
   ]
  }
 ],
 "metadata": {
  "kernelspec": {
   "display_name": "Python 3",
   "language": "python",
   "name": "python3"
  },
  "language_info": {
   "codemirror_mode": {
    "name": "ipython",
    "version": 3
   },
   "file_extension": ".py",
   "mimetype": "text/x-python",
   "name": "python",
   "nbconvert_exporter": "python",
   "pygments_lexer": "ipython3",
   "version": "3.7.3"
  },
  "toc": {
   "base_numbering": 1,
   "nav_menu": {},
   "number_sections": true,
   "sideBar": true,
   "skip_h1_title": false,
   "title_cell": "Table of Contents",
   "title_sidebar": "Contents",
   "toc_cell": false,
   "toc_position": {},
   "toc_section_display": true,
   "toc_window_display": false
  },
  "varInspector": {
   "cols": {
    "lenName": 16,
    "lenType": 16,
    "lenVar": 40
   },
   "kernels_config": {
    "python": {
     "delete_cmd_postfix": "",
     "delete_cmd_prefix": "del ",
     "library": "var_list.py",
     "varRefreshCmd": "print(var_dic_list())"
    },
    "r": {
     "delete_cmd_postfix": ") ",
     "delete_cmd_prefix": "rm(",
     "library": "var_list.r",
     "varRefreshCmd": "cat(var_dic_list()) "
    }
   },
   "types_to_exclude": [
    "module",
    "function",
    "builtin_function_or_method",
    "instance",
    "_Feature"
   ],
   "window_display": false
  }
 },
 "nbformat": 4,
 "nbformat_minor": 2
}
