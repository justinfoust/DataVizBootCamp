{
 "cells": [
  {
   "cell_type": "markdown",
   "metadata": {},
   "source": [
    "# SQLAlchemy Joins"
   ]
  },
  {
   "cell_type": "markdown",
   "metadata": {},
   "source": [
    "## Setup"
   ]
  },
  {
   "cell_type": "code",
   "execution_count": 7,
   "metadata": {},
   "outputs": [],
   "source": [
    "# Python SQL toolkit and Object Relational Mapper\n",
    "import sqlalchemy\n",
    "from sqlalchemy.ext.automap import automap_base\n",
    "from sqlalchemy.orm import Session\n",
    "from sqlalchemy import create_engine, inspect\n",
    "import pandas as pd"
   ]
  },
  {
   "cell_type": "code",
   "execution_count": 2,
   "metadata": {},
   "outputs": [],
   "source": [
    "engine = create_engine(\"sqlite:///../Resources/mammal_masses.sqlite\", echo=False)"
   ]
  },
  {
   "cell_type": "code",
   "execution_count": 3,
   "metadata": {},
   "outputs": [
    {
     "data": {
      "text/plain": [
       "['ea', 'na']"
      ]
     },
     "execution_count": 3,
     "metadata": {},
     "output_type": "execute_result"
    }
   ],
   "source": [
    "# Reflect Database into ORM classes\n",
    "Base = automap_base()\n",
    "Base.prepare(engine, reflect=True)\n",
    "Base.classes.keys()"
   ]
  },
  {
   "cell_type": "code",
   "execution_count": 4,
   "metadata": {},
   "outputs": [],
   "source": [
    "# Map Europe class\n",
    "EA = Base.classes.ea"
   ]
  },
  {
   "cell_type": "code",
   "execution_count": 10,
   "metadata": {},
   "outputs": [
    {
     "data": {
      "text/html": [
       "<div>\n",
       "<style scoped>\n",
       "    .dataframe tbody tr th:only-of-type {\n",
       "        vertical-align: middle;\n",
       "    }\n",
       "\n",
       "    .dataframe tbody tr th {\n",
       "        vertical-align: top;\n",
       "    }\n",
       "\n",
       "    .dataframe thead th {\n",
       "        text-align: right;\n",
       "    }\n",
       "</style>\n",
       "<table border=\"1\" class=\"dataframe\">\n",
       "  <thead>\n",
       "    <tr style=\"text-align: right;\">\n",
       "      <th></th>\n",
       "      <th>name</th>\n",
       "      <th>type</th>\n",
       "      <th>nullable</th>\n",
       "      <th>default</th>\n",
       "      <th>autoincrement</th>\n",
       "      <th>primary_key</th>\n",
       "    </tr>\n",
       "  </thead>\n",
       "  <tbody>\n",
       "    <tr>\n",
       "      <td>0</td>\n",
       "      <td>id</td>\n",
       "      <td>INTEGER</td>\n",
       "      <td>False</td>\n",
       "      <td>None</td>\n",
       "      <td>auto</td>\n",
       "      <td>1</td>\n",
       "    </tr>\n",
       "    <tr>\n",
       "      <td>1</td>\n",
       "      <td>record_id</td>\n",
       "      <td>INTEGER</td>\n",
       "      <td>True</td>\n",
       "      <td>None</td>\n",
       "      <td>auto</td>\n",
       "      <td>0</td>\n",
       "    </tr>\n",
       "    <tr>\n",
       "      <td>2</td>\n",
       "      <td>continent</td>\n",
       "      <td>TEXT</td>\n",
       "      <td>True</td>\n",
       "      <td>None</td>\n",
       "      <td>auto</td>\n",
       "      <td>0</td>\n",
       "    </tr>\n",
       "    <tr>\n",
       "      <td>3</td>\n",
       "      <td>status</td>\n",
       "      <td>TEXT</td>\n",
       "      <td>True</td>\n",
       "      <td>None</td>\n",
       "      <td>auto</td>\n",
       "      <td>0</td>\n",
       "    </tr>\n",
       "    <tr>\n",
       "      <td>4</td>\n",
       "      <td>sporder</td>\n",
       "      <td>TEXT</td>\n",
       "      <td>True</td>\n",
       "      <td>None</td>\n",
       "      <td>auto</td>\n",
       "      <td>0</td>\n",
       "    </tr>\n",
       "    <tr>\n",
       "      <td>5</td>\n",
       "      <td>family</td>\n",
       "      <td>TEXT</td>\n",
       "      <td>True</td>\n",
       "      <td>None</td>\n",
       "      <td>auto</td>\n",
       "      <td>0</td>\n",
       "    </tr>\n",
       "    <tr>\n",
       "      <td>6</td>\n",
       "      <td>genus</td>\n",
       "      <td>TEXT</td>\n",
       "      <td>True</td>\n",
       "      <td>None</td>\n",
       "      <td>auto</td>\n",
       "      <td>0</td>\n",
       "    </tr>\n",
       "    <tr>\n",
       "      <td>7</td>\n",
       "      <td>species</td>\n",
       "      <td>TEXT</td>\n",
       "      <td>True</td>\n",
       "      <td>None</td>\n",
       "      <td>auto</td>\n",
       "      <td>0</td>\n",
       "    </tr>\n",
       "    <tr>\n",
       "      <td>8</td>\n",
       "      <td>log_mass_g</td>\n",
       "      <td>FLOAT</td>\n",
       "      <td>True</td>\n",
       "      <td>None</td>\n",
       "      <td>auto</td>\n",
       "      <td>0</td>\n",
       "    </tr>\n",
       "    <tr>\n",
       "      <td>9</td>\n",
       "      <td>comb_mass_g</td>\n",
       "      <td>FLOAT</td>\n",
       "      <td>True</td>\n",
       "      <td>None</td>\n",
       "      <td>auto</td>\n",
       "      <td>0</td>\n",
       "    </tr>\n",
       "    <tr>\n",
       "      <td>10</td>\n",
       "      <td>reference</td>\n",
       "      <td>TEXT</td>\n",
       "      <td>True</td>\n",
       "      <td>None</td>\n",
       "      <td>auto</td>\n",
       "      <td>0</td>\n",
       "    </tr>\n",
       "  </tbody>\n",
       "</table>\n",
       "</div>"
      ],
      "text/plain": [
       "           name     type  nullable default autoincrement  primary_key\n",
       "0            id  INTEGER     False    None          auto            1\n",
       "1     record_id  INTEGER      True    None          auto            0\n",
       "2     continent     TEXT      True    None          auto            0\n",
       "3        status     TEXT      True    None          auto            0\n",
       "4       sporder     TEXT      True    None          auto            0\n",
       "5        family     TEXT      True    None          auto            0\n",
       "6         genus     TEXT      True    None          auto            0\n",
       "7       species     TEXT      True    None          auto            0\n",
       "8    log_mass_g    FLOAT      True    None          auto            0\n",
       "9   comb_mass_g    FLOAT      True    None          auto            0\n",
       "10    reference     TEXT      True    None          auto            0"
      ]
     },
     "execution_count": 10,
     "metadata": {},
     "output_type": "execute_result"
    }
   ],
   "source": [
    "pd.DataFrame(inspect(engine).get_columns('ea'))"
   ]
  },
  {
   "cell_type": "code",
   "execution_count": 5,
   "metadata": {},
   "outputs": [],
   "source": [
    "# Map North American class\n",
    "NA = Base.classes.na"
   ]
  },
  {
   "cell_type": "code",
   "execution_count": 6,
   "metadata": {},
   "outputs": [],
   "source": [
    "# create a session\n",
    "session = Session(engine)"
   ]
  },
  {
   "cell_type": "markdown",
   "metadata": {},
   "source": [
    "## Filtering Review"
   ]
  },
  {
   "cell_type": "markdown",
   "metadata": {
    "collapsed": true
   },
   "source": [
    "Filters are the \"WHERE\" clause for your select statement. "
   ]
  },
  {
   "cell_type": "code",
   "execution_count": 11,
   "metadata": {},
   "outputs": [
    {
     "name": "stdout",
     "output_type": "stream",
     "text": [
      "Family: Antilocapridae, Genus: Antilocapra\n"
     ]
    }
   ],
   "source": [
    "# filter North American mammals whose genus is \"Antilocapra\"\n",
    "# query, loop over and print out animals.\n",
    "mammals = session.query(NA).filter(NA.genus == 'Antilocapra').all()\n",
    "for mammal in mammals:\n",
    "    print(\"Family: {0}, Genus: {1}\".format(mammal.family, mammal.genus))"
   ]
  },
  {
   "cell_type": "markdown",
   "metadata": {},
   "source": [
    "## Joins"
   ]
  },
  {
   "cell_type": "markdown",
   "metadata": {
    "collapsed": true
   },
   "source": [
    "A SQL join combines columns from one or more tables in a relational database. \n",
    "\n",
    "It creates a set that can be saved as a table or used as it is. \n",
    "\n",
    "A JOIN is a means for combining columns from one (self-table) or more tables by using values common to each."
   ]
  },
  {
   "cell_type": "code",
   "execution_count": 12,
   "metadata": {},
   "outputs": [
    {
     "data": {
      "text/plain": [
       "['ea', 'na']"
      ]
     },
     "execution_count": 12,
     "metadata": {},
     "output_type": "execute_result"
    }
   ],
   "source": [
    "inspector = inspect(engine)\n",
    "inspector.get_table_names()"
   ]
  },
  {
   "cell_type": "code",
   "execution_count": 13,
   "metadata": {
    "scrolled": true
   },
   "outputs": [
    {
     "name": "stdout",
     "output_type": "stream",
     "text": [
      "id INTEGER\n",
      "record_id INTEGER\n",
      "continent TEXT\n",
      "status TEXT\n",
      "sporder TEXT\n",
      "family TEXT\n",
      "genus TEXT\n",
      "species TEXT\n",
      "log_mass_g FLOAT\n",
      "comb_mass_g FLOAT\n",
      "reference TEXT\n"
     ]
    }
   ],
   "source": [
    "# Get a list of column names and types\n",
    "columns = inspector.get_columns('ea')\n",
    "for c in columns:\n",
    "    print(c['name'], c[\"type\"])"
   ]
  },
  {
   "cell_type": "code",
   "execution_count": 10,
   "metadata": {
    "scrolled": false
   },
   "outputs": [
    {
     "data": {
      "text/plain": [
       "[('Artiodactyla', 'Artiodactyla'),\n",
       " ('Artiodactyla', 'Artiodactyla'),\n",
       " ('Artiodactyla', 'Artiodactyla'),\n",
       " ('Artiodactyla', 'Artiodactyla'),\n",
       " ('Artiodactyla', 'Artiodactyla'),\n",
       " ('Artiodactyla', 'Artiodactyla'),\n",
       " ('Artiodactyla', 'Artiodactyla'),\n",
       " ('Artiodactyla', 'Artiodactyla'),\n",
       " ('Artiodactyla', 'Artiodactyla'),\n",
       " ('Artiodactyla', 'Artiodactyla'),\n",
       " ('Artiodactyla', 'Artiodactyla'),\n",
       " ('Artiodactyla', 'Artiodactyla'),\n",
       " ('Artiodactyla', 'Artiodactyla'),\n",
       " ('Artiodactyla', 'Artiodactyla'),\n",
       " ('Artiodactyla', 'Artiodactyla'),\n",
       " ('Artiodactyla', 'Artiodactyla'),\n",
       " ('Artiodactyla', 'Artiodactyla'),\n",
       " ('Artiodactyla', 'Artiodactyla'),\n",
       " ('Artiodactyla', 'Artiodactyla'),\n",
       " ('Artiodactyla', 'Artiodactyla'),\n",
       " ('Artiodactyla', 'Artiodactyla'),\n",
       " ('Artiodactyla', 'Artiodactyla'),\n",
       " ('Artiodactyla', 'Artiodactyla'),\n",
       " ('Artiodactyla', 'Artiodactyla'),\n",
       " ('Artiodactyla', 'Artiodactyla'),\n",
       " ('Artiodactyla', 'Artiodactyla'),\n",
       " ('Artiodactyla', 'Artiodactyla'),\n",
       " ('Artiodactyla', 'Artiodactyla'),\n",
       " ('Artiodactyla', 'Artiodactyla'),\n",
       " ('Artiodactyla', 'Artiodactyla'),\n",
       " ('Artiodactyla', 'Artiodactyla'),\n",
       " ('Artiodactyla', 'Artiodactyla'),\n",
       " ('Artiodactyla', 'Artiodactyla'),\n",
       " ('Artiodactyla', 'Artiodactyla'),\n",
       " ('Artiodactyla', 'Artiodactyla'),\n",
       " ('Artiodactyla', 'Artiodactyla'),\n",
       " ('Artiodactyla', 'Carnivora'),\n",
       " ('Artiodactyla', 'Carnivora'),\n",
       " ('Artiodactyla', 'Carnivora'),\n",
       " ('Artiodactyla', 'Carnivora'),\n",
       " ('Artiodactyla', 'Carnivora'),\n",
       " ('Artiodactyla', 'Carnivora'),\n",
       " ('Artiodactyla', 'Carnivora'),\n",
       " ('Artiodactyla', 'Carnivora'),\n",
       " ('Artiodactyla', 'Carnivora'),\n",
       " ('Artiodactyla', 'Carnivora'),\n",
       " ('Artiodactyla', 'Carnivora'),\n",
       " ('Artiodactyla', 'Carnivora'),\n",
       " ('Artiodactyla', 'Carnivora'),\n",
       " ('Artiodactyla', 'Carnivora'),\n",
       " ('Artiodactyla', 'Carnivora'),\n",
       " ('Artiodactyla', 'Carnivora'),\n",
       " ('Artiodactyla', 'Carnivora'),\n",
       " ('Artiodactyla', 'Carnivora'),\n",
       " ('Artiodactyla', 'Carnivora'),\n",
       " ('Artiodactyla', 'Carnivora'),\n",
       " ('Artiodactyla', 'Carnivora'),\n",
       " ('Artiodactyla', 'Carnivora'),\n",
       " ('Artiodactyla', 'Carnivora'),\n",
       " ('Artiodactyla', 'Carnivora'),\n",
       " ('Artiodactyla', 'Carnivora'),\n",
       " ('Artiodactyla', 'Carnivora'),\n",
       " ('Artiodactyla', 'Carnivora'),\n",
       " ('Artiodactyla', 'Carnivora'),\n",
       " ('Artiodactyla', 'Carnivora'),\n",
       " ('Artiodactyla', 'Carnivora'),\n",
       " ('Artiodactyla', 'Carnivora'),\n",
       " ('Artiodactyla', 'Carnivora'),\n",
       " ('Artiodactyla', 'Carnivora'),\n",
       " ('Artiodactyla', 'Carnivora'),\n",
       " ('Artiodactyla', 'Carnivora'),\n",
       " ('Artiodactyla', 'Carnivora'),\n",
       " ('Artiodactyla', 'Carnivora'),\n",
       " ('Artiodactyla', 'Carnivora'),\n",
       " ('Artiodactyla', 'Carnivora'),\n",
       " ('Artiodactyla', 'Carnivora'),\n",
       " ('Artiodactyla', 'Carnivora'),\n",
       " ('Artiodactyla', 'Carnivora'),\n",
       " ('Artiodactyla', 'Carnivora'),\n",
       " ('Artiodactyla', 'Carnivora'),\n",
       " ('Artiodactyla', 'Carnivora'),\n",
       " ('Artiodactyla', 'Carnivora'),\n",
       " ('Artiodactyla', 'Carnivora'),\n",
       " ('Artiodactyla', 'Carnivora'),\n",
       " ('Artiodactyla', 'Carnivora'),\n",
       " ('Artiodactyla', 'Carnivora'),\n",
       " ('Artiodactyla', 'Carnivora'),\n",
       " ('Artiodactyla', 'Carnivora'),\n",
       " ('Artiodactyla', 'Carnivora'),\n",
       " ('Artiodactyla', 'Carnivora'),\n",
       " ('Artiodactyla', 'Carnivora'),\n",
       " ('Artiodactyla', 'Carnivora'),\n",
       " ('Artiodactyla', 'Carnivora'),\n",
       " ('Artiodactyla', 'Carnivora'),\n",
       " ('Artiodactyla', 'Carnivora'),\n",
       " ('Artiodactyla', 'Carnivora'),\n",
       " ('Artiodactyla', 'Carnivora'),\n",
       " ('Artiodactyla', 'Carnivora'),\n",
       " ('Artiodactyla', 'Carnivora'),\n",
       " ('Artiodactyla', 'Carnivora')]"
      ]
     },
     "execution_count": 10,
     "metadata": {},
     "output_type": "execute_result"
    }
   ],
   "source": [
    "session.query(EA.sporder, NA.sporder).limit(100).all()"
   ]
  },
  {
   "cell_type": "code",
   "execution_count": 11,
   "metadata": {},
   "outputs": [
    {
     "name": "stdout",
     "output_type": "stream",
     "text": [
      "Artiodactyla\n",
      "Artiodactyla\n",
      "Artiodactyla\n",
      "Artiodactyla\n",
      "Artiodactyla\n",
      "Artiodactyla\n",
      "Artiodactyla\n",
      "Artiodactyla\n",
      "Artiodactyla\n",
      "Artiodactyla\n",
      "Artiodactyla\n",
      "Artiodactyla\n",
      "Artiodactyla\n",
      "Artiodactyla\n",
      "Artiodactyla\n",
      "Artiodactyla\n",
      "Artiodactyla\n",
      "Artiodactyla\n",
      "Artiodactyla\n",
      "Artiodactyla\n"
     ]
    }
   ],
   "source": [
    "same_sporder = session.query(EA, NA).filter(EA.sporder == NA.sporder).limit(10).all()\n",
    "\n",
    "\n",
    "for record in same_sporder:\n",
    "    (ea, na) = record\n",
    "    print(ea.sporder)\n",
    "    print(na.sporder)"
   ]
  },
  {
   "cell_type": "code",
   "execution_count": 14,
   "metadata": {},
   "outputs": [
    {
     "name": "stdout",
     "output_type": "stream",
     "text": [
      "SELECT ea.id AS ea_id, ea.record_id AS ea_record_id, ea.continent AS ea_continent, ea.status AS ea_status, ea.sporder AS ea_sporder, ea.family AS ea_family, ea.genus AS ea_genus, ea.species AS ea_species, ea.log_mass_g AS ea_log_mass_g, ea.comb_mass_g AS ea_comb_mass_g, ea.reference AS ea_reference, na.id AS na_id, na.record_id AS na_record_id, na.continent AS na_continent, na.status AS na_status, na.sporder AS na_sporder, na.family AS na_family, na.genus AS na_genus, na.species AS na_species, na.log_mass_g AS na_log_mass_g, na.comb_mass_g AS na_comb_mass_g, na.reference AS na_reference \n",
      "FROM ea, na \n",
      "WHERE ea.sporder = na.sporder\n",
      " LIMIT ? OFFSET ?\n"
     ]
    }
   ],
   "source": [
    "print(session.query(EA, NA).filter(EA.sporder == NA.sporder).limit(10))"
   ]
  },
  {
   "cell_type": "code",
   "execution_count": 12,
   "metadata": {},
   "outputs": [
    {
     "name": "stdout",
     "output_type": "stream",
     "text": [
      "The European animal 'Bovidae Antilope cervicapra'belongs to the same sporder as the North American animal 'Antilocapridae Antilocapra americana'.\n",
      "The European animal 'Bovidae Antilope cervicapra'belongs to the same sporder as the North American animal 'Antilocapridae Capromeryx mexicana'.\n",
      "The European animal 'Bovidae Antilope cervicapra'belongs to the same sporder as the North American animal 'Antilocapridae Capromeryx minor'.\n",
      "The European animal 'Bovidae Antilope cervicapra'belongs to the same sporder as the North American animal 'Antilocapridae Stockoceros conklingi'.\n",
      "The European animal 'Bovidae Antilope cervicapra'belongs to the same sporder as the North American animal 'Antilocapridae Stockoceros onusrosagris'.\n",
      "The European animal 'Bovidae Antilope cervicapra'belongs to the same sporder as the North American animal 'Antilocapridae Tetrameryx shuleri'.\n",
      "The European animal 'Bovidae Antilope cervicapra'belongs to the same sporder as the North American animal 'Bovidae Bison bison'.\n",
      "The European animal 'Bovidae Antilope cervicapra'belongs to the same sporder as the North American animal 'Bovidae Bison latifrons'.\n",
      "The European animal 'Bovidae Antilope cervicapra'belongs to the same sporder as the North American animal 'Bovidae Bison priscus'.\n",
      "The European animal 'Bovidae Antilope cervicapra'belongs to the same sporder as the North American animal 'Bovidae Bootherium bombifrons'.\n"
     ]
    }
   ],
   "source": [
    "# Return all animals from EA and NA belonging to the same sporder.\n",
    "# This JOINs the data in the two tables together into a single dataset (here in the form of a tuple).\n",
    "# Note: We are going to limit the results to 10 for printing\n",
    "sel = [EA.family, EA.genus, EA.species, NA.family, NA.genus, NA.species]\n",
    "same_sporder = session.query(*sel).filter(EA.sporder == NA.sporder).limit(10).all()\n",
    "\n",
    "for record in same_sporder:\n",
    "    (ea_fam, ea_gen, ea_spec, na_fam, na_gen, na_spec) = record\n",
    "    print(\n",
    "        f\"The European animal '{ea_fam} {ea_gen} {ea_spec}'\"\n",
    "        f\"belongs to the same sporder as the North American animal '{na_fam} {na_gen} {na_spec}'.\")"
   ]
  }
 ],
 "metadata": {
  "hide_input": false,
  "kernelspec": {
   "display_name": "Python 3",
   "language": "python",
   "name": "python3"
  },
  "language_info": {
   "codemirror_mode": {
    "name": "ipython",
    "version": 3
   },
   "file_extension": ".py",
   "mimetype": "text/x-python",
   "name": "python",
   "nbconvert_exporter": "python",
   "pygments_lexer": "ipython3",
   "version": "3.7.3"
  },
  "toc": {
   "base_numbering": 1,
   "nav_menu": {},
   "number_sections": true,
   "sideBar": true,
   "skip_h1_title": false,
   "title_cell": "Table of Contents",
   "title_sidebar": "Contents",
   "toc_cell": false,
   "toc_position": {},
   "toc_section_display": true,
   "toc_window_display": false
  },
  "varInspector": {
   "cols": {
    "lenName": 16,
    "lenType": 16,
    "lenVar": 40
   },
   "kernels_config": {
    "python": {
     "delete_cmd_postfix": "",
     "delete_cmd_prefix": "del ",
     "library": "var_list.py",
     "varRefreshCmd": "print(var_dic_list())"
    },
    "r": {
     "delete_cmd_postfix": ") ",
     "delete_cmd_prefix": "rm(",
     "library": "var_list.r",
     "varRefreshCmd": "cat(var_dic_list()) "
    }
   },
   "types_to_exclude": [
    "module",
    "function",
    "builtin_function_or_method",
    "instance",
    "_Feature"
   ],
   "window_display": false
  }
 },
 "nbformat": 4,
 "nbformat_minor": 2
}
