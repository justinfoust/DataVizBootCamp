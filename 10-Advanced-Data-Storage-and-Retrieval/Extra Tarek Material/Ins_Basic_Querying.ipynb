{
 "cells": [
  {
   "cell_type": "code",
   "execution_count": 1,
   "metadata": {},
   "outputs": [],
   "source": [
    "from sqlalchemy import create_engine, Column, Integer, String, Float\n",
    "\n",
    "from sqlalchemy.ext.declarative import declarative_base\n",
    "Base = declarative_base()"
   ]
  },
  {
   "cell_type": "code",
   "execution_count": 8,
   "metadata": {},
   "outputs": [],
   "source": [
    "from sqlalchemy import inspect"
   ]
  },
  {
   "cell_type": "code",
   "execution_count": 13,
   "metadata": {},
   "outputs": [
    {
     "data": {
      "text/plain": [
       "['BaseballPlayers',\n",
       " 'all_star',\n",
       " 'appearances',\n",
       " 'batting',\n",
       " 'batting_postseason',\n",
       " 'college',\n",
       " 'fielding',\n",
       " 'fielding_outfield',\n",
       " 'fielding_postseason',\n",
       " 'hall_of_fame',\n",
       " 'home_game',\n",
       " 'manager',\n",
       " 'manager_award',\n",
       " 'manager_award_vote',\n",
       " 'manager_half',\n",
       " 'park',\n",
       " 'pitching',\n",
       " 'pitching_postseason',\n",
       " 'player',\n",
       " 'player_award',\n",
       " 'player_award_vote',\n",
       " 'player_college',\n",
       " 'postseason',\n",
       " 'salary',\n",
       " 'team',\n",
       " 'team_franchise',\n",
       " 'team_half']"
      ]
     },
     "execution_count": 13,
     "metadata": {},
     "output_type": "execute_result"
    }
   ],
   "source": [
    "from sqlalchemy import inspect\n",
    "inspector = inspect(engine)\n",
    "inspector.get_table_names()"
   ]
  },
  {
   "cell_type": "code",
   "execution_count": 14,
   "metadata": {},
   "outputs": [
    {
     "data": {
      "text/plain": [
       "immutabledict({'player': Table('player', MetaData(bind=None), Column('player_id', String(), table=<player>, primary_key=True, nullable=False), Column('birth_year', Integer(), table=<player>), Column('birth_month', Integer(), table=<player>), Column('birth_day', Integer(), table=<player>), Column('birth_country', String(), table=<player>), Column('birth_state', String(), table=<player>), Column('birth_city', String(), table=<player>), Column('name_first', String(), table=<player>), Column('name_last', String(), table=<player>), Column('name_given', String(), table=<player>), Column('weight', Integer(), table=<player>), Column('height', Integer(), table=<player>), Column('bats', String(), table=<player>), Column('throws', String(), table=<player>), Column('debut', String(), table=<player>), Column('final_game', String(), table=<player>), schema=None)})"
      ]
     },
     "execution_count": 14,
     "metadata": {},
     "output_type": "execute_result"
    }
   ],
   "source": [
    "Base.metadata.tables"
   ]
  },
  {
   "cell_type": "code",
   "execution_count": 6,
   "metadata": {},
   "outputs": [],
   "source": [
    "class BaseballPlayer(Base):\n",
    "    __tablename__ = \"player\"\n",
    "    player_id = Column(String, primary_key=True)\n",
    "    birth_year = Column(Integer)\n",
    "    birth_month = Column(Integer)\n",
    "    birth_day = Column(Integer)\n",
    "    birth_country = Column(String)\n",
    "    birth_state = Column(String)\n",
    "    birth_city = Column(String)\n",
    "    name_first = Column(String)\n",
    "    name_last = Column(String)\n",
    "    name_given = Column(String)\n",
    "    weight = Column(Integer)\n",
    "    height = Column(Integer)\n",
    "    bats = Column(String)\n",
    "    throws = Column(String)\n",
    "    debut = Column(String)\n",
    "    final_game = Column(String)"
   ]
  },
  {
   "cell_type": "code",
   "execution_count": 4,
   "metadata": {},
   "outputs": [],
   "source": [
    "# Create Database Connection\n",
    "engine = create_engine('sqlite:///../Resources/database.sqlite')\n",
    "Base.metadata.create_all(engine)"
   ]
  },
  {
   "cell_type": "code",
   "execution_count": 5,
   "metadata": {},
   "outputs": [],
   "source": [
    "from sqlalchemy.orm import Session\n",
    "session = Session(bind=engine)"
   ]
  },
  {
   "cell_type": "code",
   "execution_count": null,
   "metadata": {},
   "outputs": [],
   "source": [
    "play"
   ]
  },
  {
   "cell_type": "code",
   "execution_count": null,
   "metadata": {},
   "outputs": [],
   "source": [
    "# Print all of the player names in the database\n",
    "players = session.query(BaseballPlayer)\n",
    "for player in players:\n",
    "    print(player.name_given)"
   ]
  },
  {
   "cell_type": "code",
   "execution_count": 30,
   "metadata": {},
   "outputs": [
    {
     "name": "stdout",
     "output_type": "stream",
     "text": [
      "SELECT player.player_id AS player_player_id, player.birth_year AS player_birth_year, player.birth_month AS player_birth_month, player.birth_day AS player_birth_day, player.birth_country AS player_birth_country, player.birth_state AS player_birth_state, player.birth_city AS player_birth_city, player.name_first AS player_name_first, player.name_last AS player_name_last, player.name_given AS player_name_given, player.weight AS player_weight, player.height AS player_height, player.bats AS player_bats, player.throws AS player_throws, player.debut AS player_debut, player.final_game AS player_final_game \n",
      "FROM player \n",
      "WHERE player.birth_year < ?\n"
     ]
    }
   ],
   "source": [
    "print(session.query(BaseballPlayer).filter(BaseballPlayer.birth_year < 1990))"
   ]
  },
  {
   "cell_type": "code",
   "execution_count": 11,
   "metadata": {},
   "outputs": [
    {
     "name": "stdout",
     "output_type": "stream",
     "text": [
      "player\n"
     ]
    }
   ],
   "source": [
    "for i in Base.metadata.sorted_tables:\n",
    "    print(i.name)"
   ]
  },
  {
   "cell_type": "code",
   "execution_count": 16,
   "metadata": {
    "scrolled": true
   },
   "outputs": [
    {
     "data": {
      "text/plain": [
       "[{'name': 'BaseballPlayer',\n",
       "  'type': __main__.BaseballPlayer,\n",
       "  'aliased': False,\n",
       "  'expr': __main__.BaseballPlayer,\n",
       "  'entity': __main__.BaseballPlayer}]"
      ]
     },
     "execution_count": 16,
     "metadata": {},
     "output_type": "execute_result"
    }
   ],
   "source": [
    "players.column_descriptions"
   ]
  },
  {
   "cell_type": "code",
   "execution_count": null,
   "metadata": {},
   "outputs": [],
   "source": []
  },
  {
   "cell_type": "code",
   "execution_count": 16,
   "metadata": {},
   "outputs": [
    {
     "name": "stdout",
     "output_type": "stream",
     "text": [
      "There are 16504 players from the USA\n"
     ]
    }
   ],
   "source": [
    "# Find the number of players from the USA\n",
    "usa = session.query(BaseballPlayer).\\\n",
    "    filter(BaseballPlayer.birth_country == 'USA').count()\n",
    "print(\"There are {} players from the USA\".format(usa))"
   ]
  },
  {
   "cell_type": "code",
   "execution_count": 17,
   "metadata": {},
   "outputs": [
    {
     "name": "stdout",
     "output_type": "stream",
     "text": [
      "18335 players were born before 1990\n"
     ]
    }
   ],
   "source": [
    "# Find those players who were born before 1990\n",
    "born_before_1990 = session.query(BaseballPlayer).\\\n",
    "    filter(BaseballPlayer.birth_year < 1990).count()\n",
    "    \n",
    "print(\"{} players were born before 1990\".format(born_before_1990))"
   ]
  },
  {
   "cell_type": "markdown",
   "metadata": {},
   "source": [
    "## AND , OR Queries Example"
   ]
  },
  {
   "cell_type": "markdown",
   "metadata": {},
   "source": [
    "### AND "
   ]
  },
  {
   "cell_type": "code",
   "execution_count": 18,
   "metadata": {},
   "outputs": [
    {
     "name": "stdout",
     "output_type": "stream",
     "text": [
      "300 USA players were born after 1989\n"
     ]
    }
   ],
   "source": [
    "# Find those players from the USA who were born after 1989\n",
    "born_after_1989 = session.query(BaseballPlayer).\\\n",
    "    filter(BaseballPlayer.birth_year > 1989).filter(BaseballPlayer.birth_country == \"USA\").\\\n",
    "    count()\n",
    "print(\"{} USA players were born after 1989\".format(born_after_1989))"
   ]
  },
  {
   "cell_type": "code",
   "execution_count": 29,
   "metadata": {},
   "outputs": [
    {
     "name": "stdout",
     "output_type": "stream",
     "text": [
      "300 USA players were born after 1989\n"
     ]
    }
   ],
   "source": [
    "# Find those players from the USA who were born after 1989\n",
    "born_after_1989 = session.query(BaseballPlayer).\\\n",
    "    filter(BaseballPlayer.birth_year > 1989, BaseballPlayer.birth_country == \"USA\").\\\n",
    "    count()\n",
    "print(\"{} USA players were born after 1989\".format(born_after_1989))"
   ]
  },
  {
   "cell_type": "code",
   "execution_count": 20,
   "metadata": {},
   "outputs": [],
   "source": [
    "from sqlalchemy import and_, or_"
   ]
  },
  {
   "cell_type": "code",
   "execution_count": 22,
   "metadata": {},
   "outputs": [
    {
     "name": "stdout",
     "output_type": "stream",
     "text": [
      "300 USA players were born after 1989\n"
     ]
    }
   ],
   "source": [
    "# Find those players from the USA who were born after 1989\n",
    "born_after_1989 = session.query(BaseballPlayer).\\\n",
    "    filter(and_(BaseballPlayer.birth_year > 1989, BaseballPlayer.birth_country == \"USA\")).\\\n",
    "    count()\n",
    "print(\"{} USA players were born after 1989\".format(born_after_1989))"
   ]
  },
  {
   "cell_type": "markdown",
   "metadata": {},
   "source": [
    "### OR"
   ]
  },
  {
   "cell_type": "code",
   "execution_count": 25,
   "metadata": {},
   "outputs": [
    {
     "name": "stdout",
     "output_type": "stream",
     "text": [
      "16715 USA players were born after 1989\n"
     ]
    }
   ],
   "source": [
    "# Find those players from the USA who were born after 1989\n",
    "born_after_1989 = session.query(BaseballPlayer).\\\n",
    "    filter(or_(BaseballPlayer.birth_year > 1989, BaseballPlayer.birth_country == \"USA\")).\\\n",
    "    count()\n",
    "print(\"{} USA players were born after 1989\".format(born_after_1989))"
   ]
  },
  {
   "cell_type": "markdown",
   "metadata": {},
   "source": [
    "### Using `IN` clause"
   ]
  },
  {
   "cell_type": "code",
   "execution_count": 24,
   "metadata": {},
   "outputs": [
    {
     "name": "stdout",
     "output_type": "stream",
     "text": [
      "302 USA players were born after 1989\n"
     ]
    }
   ],
   "source": [
    "# Find those players from the USA who were born after 1989\n",
    "born_after_1989 = session.query(BaseballPlayer).\\\n",
    "    filter(BaseballPlayer.birth_year > 1989, BaseballPlayer.birth_country.in_([\"USA\", \"CAN\"])).\\\n",
    "    count()\n",
    "print(\"{} USA players were born after 1989\".format(born_after_1989))"
   ]
  },
  {
   "cell_type": "markdown",
   "metadata": {},
   "source": [
    "### Using `Like` clause"
   ]
  },
  {
   "cell_type": "code",
   "execution_count": null,
   "metadata": {},
   "outputs": [],
   "source": [
    "# Find those players from the USA who were born after 1989\n",
    "born_after_1989 = session.query(BaseballPlayer).\\\n",
    "    filter(BaseballPlayer.birth_year > 1989, BaseballPlayer.name_given.like('Jam%') ).\\\n",
    "    count()\n",
    "print(\"{} USA players were born after 1989\".format(born_after_1989))"
   ]
  },
  {
   "cell_type": "code",
   "execution_count": null,
   "metadata": {},
   "outputs": [],
   "source": []
  }
 ],
 "metadata": {
  "hide_input": false,
  "kernelspec": {
   "display_name": "Python 3",
   "language": "python",
   "name": "python3"
  },
  "language_info": {
   "codemirror_mode": {
    "name": "ipython",
    "version": 3
   },
   "file_extension": ".py",
   "mimetype": "text/x-python",
   "name": "python",
   "nbconvert_exporter": "python",
   "pygments_lexer": "ipython3",
   "version": "3.7.3"
  },
  "toc": {
   "base_numbering": 1,
   "nav_menu": {},
   "number_sections": true,
   "sideBar": true,
   "skip_h1_title": false,
   "title_cell": "Table of Contents",
   "title_sidebar": "Contents",
   "toc_cell": false,
   "toc_position": {},
   "toc_section_display": true,
   "toc_window_display": false
  },
  "varInspector": {
   "cols": {
    "lenName": 16,
    "lenType": 16,
    "lenVar": 40
   },
   "kernels_config": {
    "python": {
     "delete_cmd_postfix": "",
     "delete_cmd_prefix": "del ",
     "library": "var_list.py",
     "varRefreshCmd": "print(var_dic_list())"
    },
    "r": {
     "delete_cmd_postfix": ") ",
     "delete_cmd_prefix": "rm(",
     "library": "var_list.r",
     "varRefreshCmd": "cat(var_dic_list()) "
    }
   },
   "types_to_exclude": [
    "module",
    "function",
    "builtin_function_or_method",
    "instance",
    "_Feature"
   ],
   "window_display": false
  }
 },
 "nbformat": 4,
 "nbformat_minor": 4
}
