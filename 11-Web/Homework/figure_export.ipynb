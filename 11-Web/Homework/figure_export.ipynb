{
 "cells": [
  {
   "cell_type": "code",
   "execution_count": 2,
   "metadata": {},
   "outputs": [],
   "source": [
    "import pandas as pd\n",
    "import numpy as np\n",
    "import matplotlib.pyplot as plt"
   ]
  },
  {
   "cell_type": "code",
   "execution_count": 13,
   "metadata": {},
   "outputs": [],
   "source": [
    "foo = pd.read_csv('data/hosp_2.csv')\n",
    "bar = pd.read_csv('data/csv_parkNames_1.csv')"
   ]
  },
  {
   "cell_type": "code",
   "execution_count": 4,
   "metadata": {},
   "outputs": [
    {
     "data": {
      "text/html": [
       "<div>\n",
       "<style scoped>\n",
       "    .dataframe tbody tr th:only-of-type {\n",
       "        vertical-align: middle;\n",
       "    }\n",
       "\n",
       "    .dataframe tbody tr th {\n",
       "        vertical-align: top;\n",
       "    }\n",
       "\n",
       "    .dataframe thead th {\n",
       "        text-align: right;\n",
       "    }\n",
       "</style>\n",
       "<table border=\"1\" class=\"dataframe\">\n",
       "  <thead>\n",
       "    <tr style=\"text-align: right;\">\n",
       "      <th></th>\n",
       "      <th>93062</th>\n",
       "      <th>[76.3]</th>\n",
       "      <th>14</th>\n",
       "      <th>['Aspen Outpatient Imaging', 'Adventist Health Simi Valley', 'Adventist Health Simi Valley', 'Saxon Surgical Center', 'Los Robles Hospital', 'Livingston Memorial Visiting Nurse Association', 'Thousand Oaks Surgical Hospital', 'WESTLAKE SURGICAL CENTER', 'West Hills Hospital &amp; Medical Center', \"Women's Diagnostic Center At West Hills Hospital &amp; Medical Cente\", 'Mary Health of the Sick', 'Community Memorial Hospital', 'Fillmore Medical Center', 'Kaiser Permanente Woodland Hills Medical Center']</th>\n",
       "    </tr>\n",
       "  </thead>\n",
       "  <tbody>\n",
       "    <tr>\n",
       "      <td>0</td>\n",
       "      <td>93063</td>\n",
       "      <td>[81.01428571]</td>\n",
       "      <td>21</td>\n",
       "      <td>['Adventist Health Simi Valley', 'Adventist He...</td>\n",
       "    </tr>\n",
       "    <tr>\n",
       "      <td>1</td>\n",
       "      <td>93064</td>\n",
       "      <td>[82.8]</td>\n",
       "      <td>5</td>\n",
       "      <td>['Aspen Outpatient Imaging', 'Adventist Health...</td>\n",
       "    </tr>\n",
       "    <tr>\n",
       "      <td>2</td>\n",
       "      <td>93065</td>\n",
       "      <td>[80.53333333]</td>\n",
       "      <td>14</td>\n",
       "      <td>['Aspen Outpatient Imaging', 'Adventist Health...</td>\n",
       "    </tr>\n",
       "    <tr>\n",
       "      <td>3</td>\n",
       "      <td>93066</td>\n",
       "      <td>[80.66666667]</td>\n",
       "      <td>20</td>\n",
       "      <td>['Humphrey Giacopuzzi &amp; Associates Equine Hosp...</td>\n",
       "    </tr>\n",
       "    <tr>\n",
       "      <td>4</td>\n",
       "      <td>93067</td>\n",
       "      <td>[81.6]</td>\n",
       "      <td>35</td>\n",
       "      <td>['Santa Barbara Cottage Hospital', 'Premier Su...</td>\n",
       "    </tr>\n",
       "    <tr>\n",
       "      <td>...</td>\n",
       "      <td>...</td>\n",
       "      <td>...</td>\n",
       "      <td>...</td>\n",
       "      <td>...</td>\n",
       "    </tr>\n",
       "    <tr>\n",
       "      <td>1371</td>\n",
       "      <td>96151</td>\n",
       "      <td>[80.1]</td>\n",
       "      <td>20</td>\n",
       "      <td>['Barton Memorial Hospital', 'Lake Tahoe Surge...</td>\n",
       "    </tr>\n",
       "    <tr>\n",
       "      <td>1372</td>\n",
       "      <td>96155</td>\n",
       "      <td>[80.4]</td>\n",
       "      <td>17</td>\n",
       "      <td>['Barton Memorial Hospital', 'Lake Tahoe Surge...</td>\n",
       "    </tr>\n",
       "    <tr>\n",
       "      <td>1373</td>\n",
       "      <td>96158</td>\n",
       "      <td>[74.6]</td>\n",
       "      <td>20</td>\n",
       "      <td>['Barton Memorial Hospital', 'Lake Tahoe Surge...</td>\n",
       "    </tr>\n",
       "    <tr>\n",
       "      <td>1374</td>\n",
       "      <td>96160</td>\n",
       "      <td>[78.1]</td>\n",
       "      <td>21</td>\n",
       "      <td>['Truckee Surgery Center', 'Tahoe Forest Pharm...</td>\n",
       "    </tr>\n",
       "    <tr>\n",
       "      <td>1375</td>\n",
       "      <td>96161</td>\n",
       "      <td>[80.78]</td>\n",
       "      <td>24</td>\n",
       "      <td>['Tahoe Forest Hospital', 'Tahoe Forest Pharma...</td>\n",
       "    </tr>\n",
       "  </tbody>\n",
       "</table>\n",
       "<p>1376 rows × 4 columns</p>\n",
       "</div>"
      ],
      "text/plain": [
       "      93062         [76.3]  14  \\\n",
       "0     93063  [81.01428571]  21   \n",
       "1     93064         [82.8]   5   \n",
       "2     93065  [80.53333333]  14   \n",
       "3     93066  [80.66666667]  20   \n",
       "4     93067         [81.6]  35   \n",
       "...     ...            ...  ..   \n",
       "1371  96151         [80.1]  20   \n",
       "1372  96155         [80.4]  17   \n",
       "1373  96158         [74.6]  20   \n",
       "1374  96160         [78.1]  21   \n",
       "1375  96161        [80.78]  24   \n",
       "\n",
       "     ['Aspen Outpatient Imaging', 'Adventist Health Simi Valley', 'Adventist Health Simi Valley', 'Saxon Surgical Center', 'Los Robles Hospital', 'Livingston Memorial Visiting Nurse Association', 'Thousand Oaks Surgical Hospital', 'WESTLAKE SURGICAL CENTER', 'West Hills Hospital & Medical Center', \"Women's Diagnostic Center At West Hills Hospital & Medical Cente\", 'Mary Health of the Sick', 'Community Memorial Hospital', 'Fillmore Medical Center', 'Kaiser Permanente Woodland Hills Medical Center']  \n",
       "0     ['Adventist Health Simi Valley', 'Adventist He...                                                                                                                                                                                                                                                                                                                                                                                                                                                                 \n",
       "1     ['Aspen Outpatient Imaging', 'Adventist Health...                                                                                                                                                                                                                                                                                                                                                                                                                                                                 \n",
       "2     ['Aspen Outpatient Imaging', 'Adventist Health...                                                                                                                                                                                                                                                                                                                                                                                                                                                                 \n",
       "3     ['Humphrey Giacopuzzi & Associates Equine Hosp...                                                                                                                                                                                                                                                                                                                                                                                                                                                                 \n",
       "4     ['Santa Barbara Cottage Hospital', 'Premier Su...                                                                                                                                                                                                                                                                                                                                                                                                                                                                 \n",
       "...                                                 ...                                                                                                                                                                                                                                                                                                                                                                                                                                                                 \n",
       "1371  ['Barton Memorial Hospital', 'Lake Tahoe Surge...                                                                                                                                                                                                                                                                                                                                                                                                                                                                 \n",
       "1372  ['Barton Memorial Hospital', 'Lake Tahoe Surge...                                                                                                                                                                                                                                                                                                                                                                                                                                                                 \n",
       "1373  ['Barton Memorial Hospital', 'Lake Tahoe Surge...                                                                                                                                                                                                                                                                                                                                                                                                                                                                 \n",
       "1374  ['Truckee Surgery Center', 'Tahoe Forest Pharm...                                                                                                                                                                                                                                                                                                                                                                                                                                                                 \n",
       "1375  ['Tahoe Forest Hospital', 'Tahoe Forest Pharma...                                                                                                                                                                                                                                                                                                                                                                                                                                                                 \n",
       "\n",
       "[1376 rows x 4 columns]"
      ]
     },
     "execution_count": 4,
     "metadata": {},
     "output_type": "execute_result"
    }
   ],
   "source": [
    "foo"
   ]
  },
  {
   "cell_type": "code",
   "execution_count": 14,
   "metadata": {},
   "outputs": [],
   "source": [
    "hospitals = foo.iloc[:,[1,2]].replace(regex=r'\\[', value='').replace(regex=r'\\]', value='')\n",
    "parks = bar.iloc[:,[1,2]].replace(regex=r'\\[', value='').replace(regex=r'\\]', value='')"
   ]
  },
  {
   "cell_type": "code",
   "execution_count": 22,
   "metadata": {},
   "outputs": [
    {
     "data": {
      "text/plain": [
       "0      76.537500\n",
       "1      76.560606\n",
       "2      81.928571\n",
       "3      80.481818\n",
       "4      78.624138\n",
       "         ...    \n",
       "994    83.300000\n",
       "995    79.520000\n",
       "996    79.400000\n",
       "997    79.550000\n",
       "998    78.200000\n",
       "Name: [77.73333333], Length: 999, dtype: float64"
      ]
     },
     "execution_count": 22,
     "metadata": {},
     "output_type": "execute_result"
    }
   ],
   "source": [
    "parks.iloc[:,0].astype('float')"
   ]
  },
  {
   "cell_type": "code",
   "execution_count": 21,
   "metadata": {},
   "outputs": [
    {
     "data": {
      "text/plain": [
       "0       19\n",
       "1       19\n",
       "2      182\n",
       "3      178\n",
       "4       45\n",
       "      ... \n",
       "994     12\n",
       "995     70\n",
       "996      5\n",
       "997    174\n",
       "998     70\n",
       "Name: 19, Length: 999, dtype: int64"
      ]
     },
     "execution_count": 21,
     "metadata": {},
     "output_type": "execute_result"
    }
   ],
   "source": [
    "parks.iloc[:,1]"
   ]
  },
  {
   "cell_type": "code",
   "execution_count": 24,
   "metadata": {},
   "outputs": [
    {
     "data": {
      "image/png": "[encoded data removed]",
      "text/plain": [
       "<Figure size 432x288 with 1 Axes>"
      ]
     },
     "metadata": {
      "needs_background": "light"
     },
     "output_type": "display_data"
    }
   ],
   "source": [
    "plt.scatter(parks.iloc[:,1],parks.iloc[:,0].astype('float'))\n",
    "\n",
    "plt.show()"
   ]
  },
  {
   "cell_type": "code",
   "execution_count": 25,
   "metadata": {},
   "outputs": [
    {
     "data": {
      "image/png": "[encoded data removed]",
      "text/plain": [
       "<Figure size 432x288 with 1 Axes>"
      ]
     },
     "metadata": {
      "needs_background": "light"
     },
     "output_type": "display_data"
    }
   ],
   "source": [
    "plt.scatter(hospitals.iloc[:,1],hospitals.iloc[:,0].astype('float'))\n",
    "\n",
    "plt.show()"
   ]
  }
 ],
 "metadata": {
  "hide_input": false,
  "kernelspec": {
   "display_name": "Python 3",
   "language": "python",
   "name": "python3"
  },
  "language_info": {
   "codemirror_mode": {
    "name": "ipython",
    "version": 3
   },
   "file_extension": ".py",
   "mimetype": "text/x-python",
   "name": "python",
   "nbconvert_exporter": "python",
   "pygments_lexer": "ipython3",
   "version": "3.7.3"
  },
  "toc": {
   "base_numbering": 1,
   "nav_menu": {},
   "number_sections": true,
   "sideBar": true,
   "skip_h1_title": false,
   "title_cell": "Table of Contents",
   "title_sidebar": "Contents",
   "toc_cell": false,
   "toc_position": {},
   "toc_section_display": true,
   "toc_window_display": false
  },
  "varInspector": {
   "cols": {
    "lenName": 16,
    "lenType": 16,
    "lenVar": 40
   },
   "kernels_config": {
    "python": {
     "delete_cmd_postfix": "",
     "delete_cmd_prefix": "del ",
     "library": "var_list.py",
     "varRefreshCmd": "print(var_dic_list())"
    },
    "r": {
     "delete_cmd_postfix": ") ",
     "delete_cmd_prefix": "rm(",
     "library": "var_list.r",
     "varRefreshCmd": "cat(var_dic_list()) "
    }
   },
   "types_to_exclude": [
    "module",
    "function",
    "builtin_function_or_method",
    "instance",
    "_Feature"
   ],
   "window_display": false
  }
 },
 "nbformat": 4,
 "nbformat_minor": 2
}
