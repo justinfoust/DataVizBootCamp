{
 "cells": [
  {
   "cell_type": "markdown",
   "metadata": {},
   "source": [
    "![img](success.jpg)"
   ]
  },
  {
   "cell_type": "markdown",
   "metadata": {},
   "source": [
    "<h1>Python <font color=red>Day 2 </font></h1>\n",
    "\n",
    "* Review Day 1 Topics and Activities\n",
    "    * Variables\n",
    "    * Printing\n",
    "        * `f-string`\n",
    "    * `input()`\n",
    "    * Casting \n",
    "* Day 2 Topics\n",
    "<ul><b>\n",
    "    <font color=green>\n",
    "    <li>Conditionals</li>\n",
    "    <li>Looping</li>\n",
    "    <li>Reading Files</li>\n",
    "    <li>Writing Files</li>\n",
    "    <li>Functions</li>\n",
    "    </font>\n",
    "    </b>\n",
    "</ul>\n",
    "\n"
   ]
  },
  {
   "cell_type": "markdown",
   "metadata": {},
   "source": [
    "# Remember\n",
    "<div class=\"alert alert-warning\" role=\"alert\">\n",
    "    When executing a <strong>.py</strong> file from the terminal we run the python command\n",
    "</div>\n",
    "\n",
    "```shell\n",
    "python somefile.py\n",
    "```"
   ]
  },
  {
   "cell_type": "code",
   "execution_count": null,
   "metadata": {},
   "outputs": [],
   "source": []
  },
  {
   "cell_type": "markdown",
   "metadata": {},
   "source": [
    "# Working with <font color=red>Variables</font>"
   ]
  },
  {
   "cell_type": "code",
   "execution_count": 1,
   "metadata": {},
   "outputs": [
    {
     "name": "stdout",
     "output_type": "stream",
     "text": [
      "Nick is a professional Frankfurter\n",
      "He has been coding for 80 years\n",
      "Expert status: True\n",
      "Expert status: True\n"
     ]
    }
   ],
   "source": [
    "# Creates a variable with a string \"Frankfurter\"\n",
    "title = \"Frankfurter\"\n",
    "\n",
    "# Creates a variable with an integer 80\n",
    "years = 80\n",
    "\n",
    "# Creates a variable with the boolean value of True\n",
    "expert_status = True \n",
    "\n",
    "# Prints a statement adding the variable\n",
    "print(\"Nick is a professional \" + title)\n",
    "\n",
    "# Convert the integer years into a string and prints\n",
    "print(\"He has been coding for \" + str(years) + \" years\")\n",
    "\n",
    "# Converts a boolean into a string and prints\n",
    "print(\"Expert status: \" + str(expert_status))\n",
    "\n",
    "# An f-string accepts all data types without conversion\n",
    "print(f\"Expert status: {expert_status}\")"
   ]
  },
  {
   "cell_type": "code",
   "execution_count": 2,
   "metadata": {},
   "outputs": [
    {
     "name": "stdout",
     "output_type": "stream",
     "text": [
      "Jack smith\n"
     ]
    }
   ],
   "source": [
    "firstname = \"Jack\"\n",
    "lastname = \"smith\"\n",
    "\n",
    "full_name = firstname + \" \" + lastname\n",
    "print(full_name)"
   ]
  },
  {
   "cell_type": "markdown",
   "metadata": {},
   "source": [
    "<h1><span class=\"badge badge-secondary\">In Class Activity</span></h1>\n",
    "\n",
    "## Instructions\n",
    "- Create two variables called name and country that will hold strings.\n",
    "- Create two variables called age and hourly_wage that will hold integers.\n",
    "- Create a variable called satisfied which will hold a boolean.\n",
    "- Create a variable called daily_wage that will hold the value of hourly_wage multiplied by 8.\n",
    "- Use traditional string concatenation to print the name, country, age, and hourly_wage variables.\n",
    "- With an f-string, print the daily_wage and satisfied variables.\n",
    "\n",
    "## Hint\n",
    "* For additional help with f-strings, visit Python 3's f-Strings.\n",
    "\n",
    "```python\n",
    "print(f\"hello {var1} and {var2})\n",
    "age = 27\n",
    "print(Age)\n",
    "```"
   ]
  },
  {
   "cell_type": "code",
   "execution_count": null,
   "metadata": {},
   "outputs": [],
   "source": []
  },
  {
   "cell_type": "markdown",
   "metadata": {},
   "source": [
    "## Solution"
   ]
  },
  {
   "cell_type": "code",
   "execution_count": 5,
   "metadata": {
    "scrolled": true
   },
   "outputs": [
    {
     "name": "stdout",
     "output_type": "stream",
     "text": [
      "Hello Jacob Deming!\n",
      "You live in United States\n",
      "You are 25 years old\n",
      "You make 120 per day\n",
      "Are you satisfied with your current wage? True\n"
     ]
    }
   ],
   "source": [
    "# Create a variable called 'name' that holds a string\n",
    "name = \"Jacob Deming\"\n",
    "\n",
    "# Create a variable called 'country' that holds a string\n",
    "country = \"United States\"\n",
    "\n",
    "# Create a variable called 'age' that holds an integer\n",
    "age = 25\n",
    "\n",
    "# Create a variable called 'hourly_wage' that holds an integer\n",
    "hourly_wage = 15\n",
    "\n",
    "# Calculate the daily wage for the user\n",
    "daily_wage = hourly_wage * 8\n",
    "\n",
    "# Create a variable called 'satisfied' that holds a boolean\n",
    "satisfied = True\n",
    "\n",
    "# Print out \"Hello <name>!\"\n",
    "print(\"Hello \" + name + \"!\")\n",
    "\n",
    "# Print out what country the user entered\n",
    "print(\"You live in \" + country)\n",
    "\n",
    "# Print out the user's age\n",
    "print(\"You are \" + str(age) + \" years old\")\n",
    "\n",
    "# With an f-string, print out the daily wage that was calculated\n",
    "print(f\"You make {daily_wage} per day\")\n",
    "\n",
    "# With an f-string, print out whether the users were satisfied\n",
    "print(f\"Are you satisfied with your current wage? {satisfied}\")\n"
   ]
  },
  {
   "cell_type": "markdown",
   "metadata": {},
   "source": [
    "# User <font color=red>Inputs</font> in Python"
   ]
  },
  {
   "cell_type": "code",
   "execution_count": 15,
   "metadata": {},
   "outputs": [
    {
     "name": "stdout",
     "output_type": "stream",
     "text": [
      "What is your name? Jack Ryan\n",
      "How old are you? 23\n",
      "Is the input truthy? yes\n",
      "My name is Jack Ryan\n",
      "I will be 24 next year.\n",
      "The input was converted to True\n"
     ]
    }
   ],
   "source": [
    "# Collects the user's input for the prompt \"What is your name?\"\n",
    "name = input(\"What is your name? \")\n",
    "\n",
    "# Collects the user's input for the prompt \"How old are you?\" and converts the string to an integer.\n",
    "age = int(input(\"How old are you? \"))\n",
    "\n",
    "# Collects the user's input for the prompt \"Is input truthy?\" and converts it to a boolean. Note that non-zero,\n",
    "#   non-empty objects are truth-y.\n",
    "trueOrFalse = bool(input(\"Is the input truthy? \"))\n",
    "\n",
    "# Creates three print statements that to respond with the output.\n",
    "print(\"My name is \" + str(name))\n",
    "print(\"I will be \" + str(age + 1) + \" next year.\")\n",
    "print(\"The input was converted to \" + str(trueOrFalse))\n"
   ]
  },
  {
   "cell_type": "markdown",
   "metadata": {},
   "source": [
    "<h1><span class=\"badge badge-secondary\">In Class Activity</span></h1>\n",
    "\n",
    "## Instructions\n",
    "\n",
    "- Create two different variables that will take the input of your first name and your neighbor's first name.\n",
    "- Create two more inputs that will ask how many months each of you has been coding.\n",
    "- Finally, display a result with both your names and the total amount of months coding.\n"
   ]
  },
  {
   "cell_type": "code",
   "execution_count": 19,
   "metadata": {},
   "outputs": [
    {
     "name": "stdout",
     "output_type": "stream",
     "text": [
      "What is your name? Jimmy\n",
      "What is your neighbor's name? Sam\n",
      "How many months have you been coding? 12\n",
      "How many months has your neighbor been coding? 9\n",
      "I am Jimmy and my neighbor is Sam\n",
      "Together we have been coding for 21 months!\n"
     ]
    }
   ],
   "source": [
    "# Take input of you and your neighbor\n",
    "your_first_name = input(\"What is your name? \")\n",
    "neighbor_first_name = input(\"What is your neighbor's name? \")\n",
    "\n",
    "# Take how long each of you have been coding\n",
    "months_you_coded = input(\"How many months have you been coding? \")\n",
    "months_neighbor_coded = input(\"How many months has your neighbor been coding? \")\n",
    "\n",
    "# Add total month\n",
    "total_months_coded = int(months_you_coded) + int(months_neighbor_coded)\n",
    "\n",
    "# Print results\n",
    "print(\"I am \" + your_first_name + \" and my neighbor is \" + neighbor_first_name)\n",
    "print(\"Together we have been coding for \" + str(total_months_coded) + \" months!\")\n"
   ]
  },
  {
   "cell_type": "code",
   "execution_count": 22,
   "metadata": {},
   "outputs": [
    {
     "name": "stdout",
     "output_type": "stream",
     "text": [
      "<class 'int'>\n"
     ]
    }
   ],
   "source": [
    "print(type(total_months_coded))"
   ]
  },
  {
   "cell_type": "code",
   "execution_count": null,
   "metadata": {},
   "outputs": [],
   "source": []
  },
  {
   "cell_type": "markdown",
   "metadata": {},
   "source": [
    "# <font color=red>Conditionals</font> `if`, `elif`, `else`"
   ]
  },
  {
   "cell_type": "code",
   "execution_count": 23,
   "metadata": {},
   "outputs": [
    {
     "name": "stdout",
     "output_type": "stream",
     "text": [
      "x is equal to 1\n",
      "y is not equal to 1\n",
      "x is less than y\n",
      "y is greater than x\n",
      "x is greater than or equal to 1\n",
      "Both values returned true\n",
      "One or more of the statements were true\n",
      "x is less than 10 and y is greater than 5\n"
     ]
    }
   ],
   "source": [
    "x = 1\n",
    "y = 10\n",
    "\n",
    "# Checks if one value is equal to another\n",
    "if x == 1:\n",
    "    print(\"x is equal to 1\")\n",
    "\n",
    "# Checks if one value is NOT equal to another\n",
    "if y != 1:\n",
    "    print(\"y is not equal to 1\")\n",
    "\n",
    "# Checks if one value is less than another\n",
    "if x < y:\n",
    "    print(\"x is less than y\")\n",
    "\n",
    "# Checks if one value is greater than another\n",
    "if y > x:\n",
    "    print(\"y is greater than x\")\n",
    "\n",
    "# Checks if a value is less than or equal to another\n",
    "if x >= 1:\n",
    "    print(\"x is greater than or equal to 1\")\n",
    "\n",
    "# Checks for two conditions to be met using \"and\"\n",
    "if x == 1 and y == 10:\n",
    "    print(\"Both values returned true\")\n",
    "\n",
    "# Checks if either of two conditions is met\n",
    "if x < 45 or y < 5:\n",
    "    print(\"One or more of the statements were true\")\n",
    "\n",
    "# Nested if statements\n",
    "if x < 10:\n",
    "    if y < 5:\n",
    "        print(\"x is less than 10 and y is less than 5\")\n",
    "    elif y == 5:\n",
    "        print(\"x is less than 10 and y is equal to 5\")\n",
    "    else:\n",
    "        print(\"x is less than 10 and y is greater than 5\")\n",
    "        \n"
   ]
  },
  {
   "cell_type": "markdown",
   "metadata": {},
   "source": [
    "<h1>The conditional puzzle<span class=\"badge badge-secondary\">In Class Activity</span></h1>\n",
    "\n",
    "\n",
    "## Instructions\n",
    "\n",
    "- Look through the examples and figure out what line will print.\n",
    "- Do not run the code at first, see if you can follow the thought process and guess.\n"
   ]
  },
  {
   "cell_type": "code",
   "execution_count": 32,
   "metadata": {},
   "outputs": [
    {
     "name": "stdout",
     "output_type": "stream",
     "text": [
      "oooo needs some work\n",
      "Question 2 works!\n",
      "GOT QUESTION 3!\n",
      "Dan is in group three\n",
      "Can ride bumper cars\n"
     ]
    }
   ],
   "source": [
    "# 1.\n",
    "x = 5\n",
    "y = 10\n",
    "if 2 * x > 10:\n",
    "    print(\"Question 1 works!\")\n",
    "else:\n",
    "    print(\"oooo needs some work\")\n",
    "\n",
    "\n",
    "# 2.\n",
    "x = 5\n",
    "y = 10\n",
    "if len(\"Dog\") < x:\n",
    "    print(\"Question 2 works!\")\n",
    "else:\n",
    "    print(\"Still missing out\")\n",
    "\n",
    "# 3.\n",
    "x = 2\n",
    "y = 5\n",
    "if (x ** 3 >= y) and (y ** 2 < 26):\n",
    "    print(\"GOT QUESTION 3!\")\n",
    "else:\n",
    "    print(\"Oh good you can count\")\n",
    "\n",
    "# 4.\n",
    "name = \"Dan\"\n",
    "group_one = [\"Greg\", \"Tony\", \"Susan\"]\n",
    "group_two = [\"Gerald\", \"Paul\", \"Ryder\"]\n",
    "group_three = [\"Carla\", \"Dan\", \"Jefferson\"]\n",
    "\n",
    "if name in group_one:\n",
    "    print(name + \" is in the first group\")\n",
    "elif name in group_two:\n",
    "    print(name + \" is in group two\")\n",
    "elif name in group_three:\n",
    "    print(name + \" is in group three\")\n",
    "else:\n",
    "    print(name + \" does not have a group\")\n",
    "\n",
    "\n",
    "# 5.\n",
    "height = 66\n",
    "age = 16\n",
    "adult_permission = True\n",
    "\n",
    "if (height > 70) and (age >= 18):\n",
    "    print(\"Can ride all the roller coasters\")\n",
    "elif (height > 65) and (age >= 18):\n",
    "    print(\"Can ride moderate roller coasters\")\n",
    "elif (height > 60) and (age >= 18):\n",
    "    print(\"Can ride light roller coasters\")\n",
    "elif ((height > 50) and (age >= 18)) or ((adult_permission) and (height > 50)):\n",
    "    print(\"Can ride bumper cars\")\n",
    "else:\n",
    "    print(\"Stick to lazy river\")\n"
   ]
  },
  {
   "cell_type": "markdown",
   "metadata": {},
   "source": [
    "### Boolean "
   ]
  },
  {
   "cell_type": "code",
   "execution_count": 33,
   "metadata": {},
   "outputs": [
    {
     "data": {
      "text/plain": [
       "False"
      ]
     },
     "execution_count": 33,
     "metadata": {},
     "output_type": "execute_result"
    }
   ],
   "source": [
    "False and True"
   ]
  },
  {
   "cell_type": "code",
   "execution_count": 34,
   "metadata": {},
   "outputs": [
    {
     "data": {
      "text/plain": [
       "True"
      ]
     },
     "execution_count": 34,
     "metadata": {},
     "output_type": "execute_result"
    }
   ],
   "source": [
    "True and True"
   ]
  },
  {
   "cell_type": "code",
   "execution_count": 35,
   "metadata": {
    "scrolled": true
   },
   "outputs": [
    {
     "data": {
      "text/plain": [
       "False"
      ]
     },
     "execution_count": 35,
     "metadata": {},
     "output_type": "execute_result"
    }
   ],
   "source": [
    "True and False"
   ]
  },
  {
   "cell_type": "code",
   "execution_count": 36,
   "metadata": {},
   "outputs": [
    {
     "data": {
      "text/plain": [
       "False"
      ]
     },
     "execution_count": 36,
     "metadata": {},
     "output_type": "execute_result"
    }
   ],
   "source": [
    "False and False"
   ]
  },
  {
   "cell_type": "code",
   "execution_count": 37,
   "metadata": {},
   "outputs": [
    {
     "data": {
      "text/plain": [
       "True"
      ]
     },
     "execution_count": 37,
     "metadata": {},
     "output_type": "execute_result"
    }
   ],
   "source": [
    "False or True"
   ]
  },
  {
   "cell_type": "code",
   "execution_count": 38,
   "metadata": {},
   "outputs": [
    {
     "data": {
      "text/plain": [
       "True"
      ]
     },
     "execution_count": 38,
     "metadata": {},
     "output_type": "execute_result"
    }
   ],
   "source": [
    "True or False"
   ]
  },
  {
   "cell_type": "code",
   "execution_count": 39,
   "metadata": {},
   "outputs": [
    {
     "data": {
      "text/plain": [
       "False"
      ]
     },
     "execution_count": 39,
     "metadata": {},
     "output_type": "execute_result"
    }
   ],
   "source": [
    "False or False"
   ]
  },
  {
   "cell_type": "code",
   "execution_count": 40,
   "metadata": {},
   "outputs": [
    {
     "data": {
      "text/plain": [
       "True"
      ]
     },
     "execution_count": 40,
     "metadata": {},
     "output_type": "execute_result"
    }
   ],
   "source": [
    "True or True"
   ]
  },
  {
   "cell_type": "code",
   "execution_count": 41,
   "metadata": {},
   "outputs": [
    {
     "data": {
      "text/plain": [
       "True"
      ]
     },
     "execution_count": 41,
     "metadata": {},
     "output_type": "execute_result"
    }
   ],
   "source": [
    "(True and False) or (False or True)"
   ]
  },
  {
   "cell_type": "markdown",
   "metadata": {},
   "source": [
    "# <font color=red>Collections</font>: Lists  and Tuples\n",
    "There are different collection types in python including:\n",
    "* Lists\n",
    "* Tuples\n",
    "* Dictionaries\n",
    "* Sets"
   ]
  },
  {
   "cell_type": "code",
   "execution_count": 46,
   "metadata": {},
   "outputs": [
    {
     "name": "stdout",
     "output_type": "stream",
     "text": [
      "True\n",
      "True\n",
      "<class 'list'>\n"
     ]
    }
   ],
   "source": [
    "names = [\"Mike\", \"Tony\", \"Jack\", \"Smith\"]\n",
    "\n",
    "prices = [23, 45, 60, 99]\n",
    "\n",
    "print(len(names) == len(prices))\n",
    "\n",
    "print(type(names) == type(prices))\n",
    "\n",
    "print(type(prices))"
   ]
  },
  {
   "cell_type": "code",
   "execution_count": 52,
   "metadata": {},
   "outputs": [
    {
     "name": "stdout",
     "output_type": "stream",
     "text": [
      "['Mike', 23, True, 15.6, 'Happy Person']\n",
      "<class 'str'>\n",
      "<class 'int'>\n",
      "<class 'bool'>\n",
      "<class 'float'>\n",
      "<class 'str'>\n"
     ]
    }
   ],
   "source": [
    "list_a = [\"Mike\", 23, True, 15.6, \"Happy Person\"]\n",
    "print(list_a)\n",
    "\n",
    "for content in list_a:\n",
    "    print(type(content))"
   ]
  },
  {
   "cell_type": "code",
   "execution_count": 53,
   "metadata": {},
   "outputs": [
    {
     "data": {
      "text/plain": [
       "'Mike'"
      ]
     },
     "execution_count": 53,
     "metadata": {},
     "output_type": "execute_result"
    }
   ],
   "source": [
    "list_a[0]"
   ]
  },
  {
   "cell_type": "code",
   "execution_count": 55,
   "metadata": {},
   "outputs": [
    {
     "data": {
      "text/plain": [
       "'Happy Person'"
      ]
     },
     "execution_count": 55,
     "metadata": {},
     "output_type": "execute_result"
    }
   ],
   "source": [
    "list_a[4]"
   ]
  },
  {
   "cell_type": "code",
   "execution_count": 56,
   "metadata": {},
   "outputs": [
    {
     "name": "stdout",
     "output_type": "stream",
     "text": [
      "['Mike', 23, True, 15.6, 'Happy Person', 'Susan']\n"
     ]
    }
   ],
   "source": [
    "list_a.append(\"Susan\")\n",
    "print(list_a)"
   ]
  },
  {
   "cell_type": "code",
   "execution_count": 59,
   "metadata": {},
   "outputs": [],
   "source": [
    "popped_item = list_a.pop()"
   ]
  },
  {
   "cell_type": "code",
   "execution_count": 60,
   "metadata": {},
   "outputs": [
    {
     "name": "stdout",
     "output_type": "stream",
     "text": [
      "['Mike', 23, True, 15.6, 'Happy Person']\n"
     ]
    }
   ],
   "source": [
    "print(list_a)"
   ]
  },
  {
   "cell_type": "code",
   "execution_count": 61,
   "metadata": {},
   "outputs": [
    {
     "data": {
      "text/plain": [
       "'Susan'"
      ]
     },
     "execution_count": 61,
     "metadata": {},
     "output_type": "execute_result"
    }
   ],
   "source": [
    "popped_item"
   ]
  },
  {
   "cell_type": "code",
   "execution_count": 62,
   "metadata": {},
   "outputs": [
    {
     "data": {
      "text/plain": [
       "'Mike'"
      ]
     },
     "execution_count": 62,
     "metadata": {},
     "output_type": "execute_result"
    }
   ],
   "source": [
    "list_a.pop(0)"
   ]
  },
  {
   "cell_type": "code",
   "execution_count": 63,
   "metadata": {},
   "outputs": [
    {
     "name": "stdout",
     "output_type": "stream",
     "text": [
      "[23, True, 15.6, 'Happy Person']\n"
     ]
    }
   ],
   "source": [
    "print(list_a)"
   ]
  },
  {
   "cell_type": "code",
   "execution_count": 64,
   "metadata": {},
   "outputs": [],
   "source": [
    "list_a.remove('Happy Person')"
   ]
  },
  {
   "cell_type": "code",
   "execution_count": 65,
   "metadata": {
    "scrolled": true
   },
   "outputs": [
    {
     "name": "stdout",
     "output_type": "stream",
     "text": [
      "[23, True, 15.6]\n"
     ]
    }
   ],
   "source": [
    "print(list_a)"
   ]
  },
  {
   "cell_type": "code",
   "execution_count": 67,
   "metadata": {},
   "outputs": [
    {
     "name": "stdout",
     "output_type": "stream",
     "text": [
      "['John', 'Mike', 'John', 23, True]\n"
     ]
    }
   ],
   "source": [
    "list_b = [\"Mike\", \"John\", \"Mike\", \"John\", 23, True]\n",
    "list_b.remove(\"Mike\")\n",
    "\n",
    "print(list_b)"
   ]
  },
  {
   "cell_type": "code",
   "execution_count": 68,
   "metadata": {},
   "outputs": [
    {
     "name": "stdout",
     "output_type": "stream",
     "text": [
      "['John', 'Mike', 'John', 23, True, False]\n"
     ]
    }
   ],
   "source": [
    "list_b.append(False)\n",
    "print(list_b)"
   ]
  },
  {
   "cell_type": "code",
   "execution_count": null,
   "metadata": {},
   "outputs": [],
   "source": []
  },
  {
   "cell_type": "code",
   "execution_count": 69,
   "metadata": {
    "scrolled": true
   },
   "outputs": [
    {
     "name": "stdout",
     "output_type": "stream",
     "text": [
      "['Jacob', 25, 'Ahmed', 80]\n",
      "['Jacob', 25, 'Ahmed', 80, 'Matt']\n",
      "4\n",
      "['Jacob', 25, 'Ahmed', 85, 'Matt']\n",
      "5\n",
      "['Jacob', 25, 'Ahmed', 85]\n",
      "['Ahmed', 85]\n",
      "('Python', 100, 'VBA', False)\n"
     ]
    }
   ],
   "source": [
    "# Create a variable and set it as an List\n",
    "myList = [\"Jacob\", 25, \"Ahmed\", 80]\n",
    "print(myList)\n",
    "\n",
    "# Adds an element onto the end of a List\n",
    "myList.append(\"Matt\")\n",
    "print(myList)\n",
    "\n",
    "# Returns the index of the first object with a matching value\n",
    "print(myList.index(\"Matt\"))\n",
    "\n",
    "# Changes a specified element within an List at the given index\n",
    "myList[3] = 85\n",
    "print(myList)\n",
    "\n",
    "# Returns the length of the List\n",
    "print(len(myList))\n",
    "\n",
    "# Removes a specified object from an List\n",
    "myList.remove(\"Matt\")\n",
    "print(myList)\n",
    "\n",
    "# Removes the object at the index specified\n",
    "myList.pop(0)\n",
    "myList.pop(0)\n",
    "print(myList)\n",
    "\n",
    "# Creates a tuple, a sequence of immutable Python objects that cannot be changed\n",
    "myTuple = ('Python', 100, 'VBA', False)\n",
    "print(myTuple)\n"
   ]
  },
  {
   "cell_type": "code",
   "execution_count": 75,
   "metadata": {},
   "outputs": [
    {
     "name": "stdout",
     "output_type": "stream",
     "text": [
      "2\n",
      "2\n",
      "Hello\n"
     ]
    }
   ],
   "source": [
    "# this is a list\n",
    "list_a = [\"Hello\", \"World\"]\n",
    "tuple_a = (\"Hello\", \"World\")\n",
    "\n",
    "print(len(list_a))\n",
    "print(len(tuple_a))\n",
    "\n",
    "print(tuple_a[0])"
   ]
  },
  {
   "cell_type": "code",
   "execution_count": 82,
   "metadata": {},
   "outputs": [
    {
     "name": "stdout",
     "output_type": "stream",
     "text": [
      "<class 'list'>\n",
      "<class 'tuple'>\n",
      "['c', 'b']\n"
     ]
    }
   ],
   "source": [
    "print(type(list_a))\n",
    "print(type(tuple_a))\n",
    "\n",
    "tuple_a = (\"a\", \"b\")\n",
    "list_a = [\"a\", \"b\"]\n",
    "\n",
    "list_a[0] = \"c\"\n",
    "print(list_a)\n",
    "\n"
   ]
  },
  {
   "cell_type": "code",
   "execution_count": 86,
   "metadata": {},
   "outputs": [
    {
     "data": {
      "text/plain": [
       "3"
      ]
     },
     "execution_count": 86,
     "metadata": {},
     "output_type": "execute_result"
    }
   ],
   "source": [
    "nested_lists = [[\"a\", \"b\"], [\"c\", \"d\"], [\"e\", \"f\"]]\n",
    "len(nested_lists)"
   ]
  },
  {
   "cell_type": "code",
   "execution_count": 88,
   "metadata": {},
   "outputs": [
    {
     "data": {
      "text/plain": [
       "3"
      ]
     },
     "execution_count": 88,
     "metadata": {},
     "output_type": "execute_result"
    }
   ],
   "source": [
    "tuple_b = ([\"a\", \"b\"], True, \"Jack\")\n",
    "len(tuple_b)"
   ]
  },
  {
   "cell_type": "code",
   "execution_count": 89,
   "metadata": {},
   "outputs": [
    {
     "name": "stdout",
     "output_type": "stream",
     "text": [
      "<class 'tuple'>\n",
      "<class 'list'>\n"
     ]
    }
   ],
   "source": [
    "names = (\"Jack\", \"Smith\")\n",
    "places = [\"Corona\", \"San Francisco\"]\n",
    "\n",
    "print(type(names))\n",
    "print(type(places))"
   ]
  },
  {
   "cell_type": "code",
   "execution_count": 95,
   "metadata": {},
   "outputs": [
    {
     "name": "stdout",
     "output_type": "stream",
     "text": [
      "['Jack', 'Smith']\n",
      "<class 'list'>\n",
      "['Jack', 'Smith', 'Susan']\n",
      "('Jack', 'Smith')\n"
     ]
    }
   ],
   "source": [
    "names_list = list(names)\n",
    "print(names_list)\n",
    "print(type(names_list))\n",
    "names_list.append(\"Susan\")\n",
    "print(names_list)\n",
    "print(names)"
   ]
  },
  {
   "cell_type": "markdown",
   "metadata": {},
   "source": [
    "<h1>Rock, Paper, Scissors, Shoot<span class=\"badge badge-secondary\">In Class Activity</span></h1>\n",
    "\n",
    "\n",
    "\n",
    "Create a RPS game that takes user input from the command line and plays against the computer.\n",
    "\n",
    "## Instructions\n",
    "\n",
    "- Using the terminal, take an input of r, p or s which will stand for rock, paper, and scissors.\n",
    "- Have the computer randomly pick one of these three choices.\n",
    "- Compare the user's input to the computer's choice to determine if the user won, lost, or tied.\n",
    "\n",
    "## Hints\n",
    "\n",
    "- Look into this [stackoverflow](https://stackoverflow.com/questions/306400/how-to-randomly-select-an-item-from-a-list) question for usage.\n",
    "\n",
    "\n"
   ]
  },
  {
   "cell_type": "code",
   "execution_count": null,
   "metadata": {},
   "outputs": [],
   "source": [
    "# Incorporate the random library\n",
    "import random\n",
    "\n",
    "# Print Title\n",
    "print(\"Let's Play Rock Paper Scissors!\")\n",
    "\n",
    "# Specify the three options\n",
    "options = [\"r\", \"p\", \"s\"]\n",
    "\n",
    "# Computer Selection\n",
    "computer_choice = random.choice(options)\n",
    "\n",
    "# User Selection\n",
    "user_choice = input(\"Make your Choice: (r)ock, (p)aper, (s)cissors? \")\n",
    "\n",
    "# Run Conditionals\n"
   ]
  },
  {
   "cell_type": "code",
   "execution_count": null,
   "metadata": {},
   "outputs": [],
   "source": []
  },
  {
   "cell_type": "markdown",
   "metadata": {},
   "source": [
    "## Solution"
   ]
  },
  {
   "cell_type": "code",
   "execution_count": null,
   "metadata": {},
   "outputs": [],
   "source": [
    "# Incorporate the random library\n",
    "import random\n",
    "\n",
    "# Print Title\n",
    "print(\"Let's Play Rock Paper Scissors!\")\n",
    "\n",
    "# Specify the three options\n",
    "options = [\"r\", \"p\", \"s\"]\n",
    "\n",
    "# Computer Selection\n",
    "computer_choice = random.choice(options)\n",
    "\n",
    "# User Selection\n",
    "user_choice = input(\"Make your Choice: (r)ock, (p)aper, (s)cissors? \")\n",
    "\n",
    "# Run Conditionals\n",
    "if (user_choice == \"r\" and computer_choice == \"p\"):\n",
    "    print(\"You chose rock. The computer chose paper.\")\n",
    "    print(\"Sorry. You lose.\")\n",
    "\n",
    "elif (user_choice == \"r\" and computer_choice == \"s\"):\n",
    "    print(\"You chose rock. The computer chose scissors.\")\n",
    "    print(\"Yay! You won.\")\n",
    "\n",
    "elif (user_choice == \"r\" and computer_choice == \"r\"):\n",
    "    print(\"You chose rock. The computer chose rock.\")\n",
    "    print(\"A smashing tie!\")\n",
    "\n",
    "elif (user_choice == \"p\" and computer_choice == \"p\"):\n",
    "    print(\"You chose paper. The computer chose paper.\")\n",
    "    print(\"A smashing tie!\")\n",
    "\n",
    "elif (user_choice == \"p\" and computer_choice == \"s\"):\n",
    "    print(\"You chose paper. The computer chose scissors.\")\n",
    "    print(\"Sorry. You lose.\")\n",
    "\n",
    "elif (user_choice == \"p\" and computer_choice == \"r\"):\n",
    "    print(\"You chose paper. The computer chose rock.\")\n",
    "    print(\"Yay! You won.\")\n",
    "\n",
    "elif (user_choice == \"s\" and computer_choice == \"p\"):\n",
    "    print(\"You chose scissors. The computer chose paper.\")\n",
    "    print(\"Yay! You won.\")\n",
    "\n",
    "elif (user_choice == \"s\" and computer_choice == \"s\"):\n",
    "    print(\"You chose scissors. The computer chose scissors.\")\n",
    "    print(\"A smashing tie!\")\n",
    "\n",
    "elif (user_choice == \"s\" and computer_choice == \"r\"):\n",
    "    print(\"You chose scissors. The computer chose rock.\")\n",
    "    print(\"Sorry. You lose.\")\n",
    "\n",
    "else:\n",
    "    print(\"I don't understand that!\")\n",
    "    print(\"Next time, choose from 'r', 'p', or 's'.\")\n"
   ]
  },
  {
   "cell_type": "code",
   "execution_count": 97,
   "metadata": {},
   "outputs": [
    {
     "name": "stdout",
     "output_type": "stream",
     "text": [
      "x is less than 20\n",
      "x is greater than y\n"
     ]
    }
   ],
   "source": [
    "x = 10\n",
    "y = 5\n",
    "\n",
    "if x < 20:\n",
    "    print(\"x is less than 20\")\n",
    "\n",
    "if x > y:\n",
    "    print(\"x is greater than y\")\n",
    "    \n",
    "if x == y:\n",
    "    print(\"x equals y\")\n",
    "    \n"
   ]
  },
  {
   "cell_type": "code",
   "execution_count": 98,
   "metadata": {},
   "outputs": [
    {
     "name": "stdout",
     "output_type": "stream",
     "text": [
      "x is less than 20\n"
     ]
    }
   ],
   "source": [
    "if x < 20:\n",
    "    print(\"x is less than 20\")\n",
    "elif x > y:\n",
    "    print(\"x is greater than y\")\n",
    "elif x == y:\n",
    "    print(\"x euals y\")"
   ]
  },
  {
   "cell_type": "markdown",
   "metadata": {},
   "source": [
    "# <font color=red>Looping</font> in Python: `for` and `while` loops"
   ]
  },
  {
   "cell_type": "code",
   "execution_count": 101,
   "metadata": {},
   "outputs": [
    {
     "name": "stdout",
     "output_type": "stream",
     "text": [
      "Los Angeles\n",
      "Newport Beach\n"
     ]
    }
   ],
   "source": [
    "cities = [\"Los Angeles\", \"Corona\", \"Pomona\", \"Newport Beach\"]\n",
    "\n",
    "for i in cities:\n",
    "    if len(i) > 6:\n",
    "        print(i)"
   ]
  },
  {
   "cell_type": "code",
   "execution_count": 102,
   "metadata": {},
   "outputs": [
    {
     "name": "stdout",
     "output_type": "stream",
     "text": [
      "0\n",
      "1\n",
      "2\n",
      "3\n",
      "4\n"
     ]
    }
   ],
   "source": [
    "for v in range(5):\n",
    "    print(v)"
   ]
  },
  {
   "cell_type": "code",
   "execution_count": 141,
   "metadata": {},
   "outputs": [
    {
     "name": "stdout",
     "output_type": "stream",
     "text": [
      "1\n",
      "3\n",
      "5\n",
      "7\n",
      "9\n"
     ]
    }
   ],
   "source": [
    "# range wiht start, end and skip values\n",
    "for v in range(1, 10, 2):\n",
    "    print(v)"
   ]
  },
  {
   "cell_type": "code",
   "execution_count": null,
   "metadata": {},
   "outputs": [],
   "source": []
  },
  {
   "cell_type": "code",
   "execution_count": 104,
   "metadata": {},
   "outputs": [
    {
     "name": "stdout",
     "output_type": "stream",
     "text": [
      "0\n",
      "1\n",
      "2\n",
      "3\n",
      "4\n",
      "-----------------------------------------\n",
      "2\n",
      "3\n",
      "4\n",
      "5\n",
      "6\n",
      "----------------------------------------\n",
      "P\n",
      "e\n",
      "a\n",
      "c\n",
      "e\n",
      "----------------------------------------\n",
      "cow\n",
      "dog\n",
      "bee\n",
      "zebra\n",
      "----------------------------------------\n",
      "Hi!\n",
      "To run again. Enter 'y'y\n",
      "Hi!\n",
      "To run again. Enter 'y'y\n",
      "Hi!\n",
      "To run again. Enter 'y'cool\n"
     ]
    }
   ],
   "source": [
    "# Loop through a range of numbers (0 through 4)\n",
    "for x in range(5):\n",
    "    print(x)\n",
    "\n",
    "print(\"-----------------------------------------\")\n",
    "\n",
    "# Loop through a range of numbers (2 through 6 - yes 6! Up to, but not including, 7)\n",
    "for x in range(2, 7):\n",
    "    print(x)\n",
    "\n",
    "print(\"----------------------------------------\")\n",
    "\n",
    "# Iterate through letters in a string\n",
    "word = \"Peace\"\n",
    "for letters in word:\n",
    "    print(letters)\n",
    "\n",
    "print(\"----------------------------------------\")\n",
    "\n",
    "# Iterate through a list\n",
    "zoo = [\"cow\", \"dog\", \"bee\", \"zebra\"]\n",
    "for animal in zoo:\n",
    "    print(animal)\n",
    "\n",
    "print(\"----------------------------------------\")\n",
    "\n",
    "# Loop while a condition is being met\n",
    "run = \"y\"\n",
    "\n",
    "while run == \"y\":\n",
    "    print(\"Hi!\")\n",
    "    run = input(\"To run again. Enter 'y'\")\n"
   ]
  },
  {
   "cell_type": "markdown",
   "metadata": {},
   "source": [
    "<h1>Number Chain<span class=\"badge badge-secondary\">In Class Activity</span></h1>\n",
    "\n",
    "\n",
    "## Chain up the numbers\n",
    "\n",
    "## Instructions\n",
    "\n",
    "- Using a while loop, ask the user \"How many numbers?\", then print out a chain of ascending numbers, starting at 0.\n",
    "- After the results have printed ask the user if they would like to continue.\n",
    "  - If \"y\", restart the process, starting at 0 again.\n",
    "  - If \"n\", exit the chain.\n",
    "\n",
    "## Bonus\n",
    "\n",
    "- Rather than just displaying numbers constantly starting at 0, have the numbers begin at the end of the previous chain.\n"
   ]
  },
  {
   "cell_type": "code",
   "execution_count": null,
   "metadata": {},
   "outputs": [],
   "source": []
  },
  {
   "cell_type": "code",
   "execution_count": null,
   "metadata": {},
   "outputs": [],
   "source": []
  },
  {
   "cell_type": "markdown",
   "metadata": {},
   "source": [
    "## Solution"
   ]
  },
  {
   "cell_type": "code",
   "execution_count": 105,
   "metadata": {},
   "outputs": [
    {
     "name": "stdout",
     "output_type": "stream",
     "text": [
      "How many numbers? 3\n",
      "0\n",
      "1\n",
      "2\n",
      "Continue: (y)es or (n)o? y\n",
      "How many numbers? 5\n",
      "0\n",
      "1\n",
      "2\n",
      "3\n",
      "4\n",
      "Continue: (y)es or (n)o? n\n"
     ]
    }
   ],
   "source": [
    "# Initial variable to track game play\n",
    "user_play = \"y\"\n",
    "\n",
    "# While we are still playing...\n",
    "while user_play == \"y\":\n",
    "\n",
    "    # Ask the user how many numbers to loop through\n",
    "    user_number = int(input(\"How many numbers? \"))\n",
    "\n",
    "    # Loop through the numbers. (Be sure to cast the string into an integer.)\n",
    "    for x in range(user_number):\n",
    "\n",
    "        # Print each number in the range\n",
    "        print(x)\n",
    "\n",
    "    # Once complete...\n",
    "    user_play = input(\"Continue: (y)es or (n)o? \")\n"
   ]
  },
  {
   "cell_type": "markdown",
   "metadata": {},
   "source": [
    "## Bonus Solution"
   ]
  },
  {
   "cell_type": "code",
   "execution_count": 106,
   "metadata": {},
   "outputs": [
    {
     "name": "stdout",
     "output_type": "stream",
     "text": [
      "How many numbers? 3\n",
      "0\n",
      "1\n",
      "2\n",
      "Continue the chain: (y)es or (n)o? y\n",
      "How many numbers? 4\n",
      "3\n",
      "4\n",
      "5\n",
      "6\n",
      "Continue the chain: (y)es or (n)o? y\n",
      "How many numbers? 5\n",
      "7\n",
      "8\n",
      "9\n",
      "10\n",
      "11\n",
      "Continue the chain: (y)es or (n)o? n\n"
     ]
    }
   ],
   "source": [
    "# Initial variable to track game play\n",
    "user_play = \"y\"\n",
    "\n",
    "# Set start and last number\n",
    "start_number = 0\n",
    "\n",
    "# While we are still playing...\n",
    "while user_play == \"y\":\n",
    "\n",
    "    # Ask the user how many numbers to loop through\n",
    "    user_number = input(\"How many numbers? \")\n",
    "\n",
    "    # Loop through the numbers. (Be sure to cast the string into an integer.)\n",
    "    for x in range(start_number, int(user_number) + start_number):\n",
    "\n",
    "        # Print each number in the range\n",
    "        print(x)\n",
    "\n",
    "    # Set the next start number as the last number of the loop\n",
    "    start_number = start_number + int(user_number)\n",
    "\n",
    "    # Once complete...\n",
    "    user_play = input(\"Continue the chain: (y)es or (n)o? \")\n"
   ]
  },
  {
   "cell_type": "code",
   "execution_count": null,
   "metadata": {},
   "outputs": [],
   "source": []
  },
  {
   "cell_type": "markdown",
   "metadata": {},
   "source": [
    "# More Loop Examples"
   ]
  },
  {
   "cell_type": "code",
   "execution_count": 107,
   "metadata": {},
   "outputs": [
    {
     "name": "stdout",
     "output_type": "stream",
     "text": [
      "0\n",
      "1\n",
      "2\n",
      "3\n",
      "4\n",
      "5\n",
      "6\n",
      "7\n",
      "8\n",
      "9\n",
      "20\n",
      "21\n",
      "22\n",
      "23\n",
      "24\n",
      "25\n",
      "26\n",
      "27\n",
      "28\n",
      "29\n",
      "Peanut\n",
      "Butter\n",
      "Jelly\n",
      "Time\n",
      "Is\n",
      "Now\n",
      "Whee! Merry-Go-Rounds are great!\n",
      "Would you like to go on the Merry-Go-Round again? yes\n"
     ]
    }
   ],
   "source": [
    "# A For loop moves through a given range of numbers\n",
    "# If only one number is provided it will loop from 0 to that number\n",
    "for x in range(10):\n",
    "    print(x)\n",
    "\n",
    "# If two numbers are provided then a For loop will loop from the first number up until it reaches the second number\n",
    "for x in range(20, 30):\n",
    "    print(x)\n",
    "\n",
    "# If a list is provided, then the For loop will loop through each element within the list\n",
    "words = [\"Peanut\", \"Butter\", \"Jelly\", \"Time\", \"Is\", \"Now\"]\n",
    "for word in words:\n",
    "    print(word)\n",
    "\n",
    "# A While Loop will continue to loop through the code contained within it until some condition is met\n",
    "x = \"Yes\"\n",
    "while x == \"Yes\":\n",
    "    print(\"Whee! Merry-Go-Rounds are great!\")\n",
    "    x = input(\"Would you like to go on the Merry-Go-Round again? \")\n"
   ]
  },
  {
   "cell_type": "code",
   "execution_count": null,
   "metadata": {},
   "outputs": [],
   "source": []
  },
  {
   "cell_type": "markdown",
   "metadata": {},
   "source": [
    "<h1>Kid in a Candy Store<span class=\"badge badge-secondary\">In Class Activity</span></h1>\n",
    "\n",
    "\n",
    "In this activity, you are creating the code a candy store will use in their state of the art candy vending machine!\n",
    "\n",
    "### Instructions\n",
    "\n",
    "- Create a loop that prints all of the candies in the store to the terminal with their index stored in brackets beside them.\n",
    "  - For example: \"[0] Snickers\"\n",
    "- Create a second loop that runs for a set number of times as determined by the variable allowance.\n",
    "  - For example: If allowance is equal to five, the loop should run five times.\n",
    "  - Each time this loop runs, take in a user's input - preferably a number - and then add the candy with a matching index to the variable candy_cart.\n",
    "  - For example: If the user enters \"0\" as their input, \"Snickers\" should be added into the candy_cart list.\n",
    "- Create a final loop to print all of the candies selected to the terminal.\n",
    "\n",
    "### Bonus\n",
    "\n",
    "- Create a version of the same code which allows a user to select as much candy as they want up until they say they do not want any more.\n"
   ]
  },
  {
   "cell_type": "code",
   "execution_count": null,
   "metadata": {},
   "outputs": [],
   "source": [
    "# The list of candies to print to the screen\n",
    "candyList = [\"Snickers\", \"Kit Kat\", \"Sour Patch Kids\", \"Juicy Fruit\", \"Swedish Fish\",\n",
    "             \"Skittles\", \"Hershey Bar\", \"Starbursts\", \"M&Ms\"]\n",
    "\n",
    "# The amount of candy the user will be allowed to choose\n",
    "allowance = 5\n",
    "\n",
    "# The list used to store all of the candies selected inside of\n",
    "candyCart = []\n",
    "\n",
    "# Print out options\n",
    "for i in range(len(candyList)):\n",
    "    print(\"[\" + str(i) + \"] \" + candyList[i])\n"
   ]
  },
  {
   "cell_type": "code",
   "execution_count": null,
   "metadata": {},
   "outputs": [],
   "source": []
  },
  {
   "cell_type": "markdown",
   "metadata": {},
   "source": [
    "## Solution"
   ]
  },
  {
   "cell_type": "code",
   "execution_count": 110,
   "metadata": {},
   "outputs": [
    {
     "name": "stdout",
     "output_type": "stream",
     "text": [
      "[0] Snickers\n",
      "[1] Kit Kat\n",
      "[2] Sour Patch Kids\n",
      "[3] Juicy Fruit\n",
      "[4] Swedish Fish\n",
      "[5] Skittles\n",
      "[6] Hershey Bar\n",
      "[7] Starbursts\n",
      "[8] M&Ms\n",
      "Which candy would you like to bring home?\n",
      "Input the number of the candy you want: 3\n",
      "Input the number of the candy you want: 1\n",
      "I brought home with me...\n",
      "Juicy Fruit\n",
      "Kit Kat\n"
     ]
    }
   ],
   "source": [
    "# The list of candies to print to the screen\n",
    "candy_list = [\n",
    "    \"Snickers\",\n",
    "    \"Kit Kat\",\n",
    "    \"Sour Patch Kids\",\n",
    "    \"Juicy Fruit\",\n",
    "    \"Swedish Fish\",\n",
    "    \"Skittles\",\n",
    "    \"Hershey Bar\",\n",
    "    \"Starbursts\",\n",
    "    \"M&Ms\"\n",
    "]\n",
    "\n",
    "# The amount of candy the user will be allowed to choose\n",
    "allowance = 2\n",
    "\n",
    "# The list used to store all of the candies selected inside of\n",
    "candy_cart = []\n",
    "\n",
    "# Print all of the candies to the screen and their index in brackets\n",
    "for candy in candy_list:\n",
    "    print(f'[{str(candy_list.index(candy))}] {candy}')\n",
    "\n",
    "# Another option to run the for loop involves Python's enumerate method\n",
    "# This method obtains both the index and the value of an item during a for loop\n",
    "# for index, candy in candy_list:\n",
    "#     print(index, candy)\n",
    "\n",
    "# Run through a loop which allows the user to choose which candies to take home with them\n",
    "print(\"Which candy would you like to bring home?\")\n",
    "for x in range(allowance):\n",
    "    selected = input(\"Input the number of the candy you want: \")\n",
    "\n",
    "    # Add the candy at the index chosen to the candy_cart list\n",
    "    candy_cart.append(candy_list[int(selected)])\n",
    "\n",
    "# Loop through the candy_cart to say what candies were brought home\n",
    "print(\"I brought home with me...\")\n",
    "for candy in candy_cart:\n",
    "    print(candy)\n"
   ]
  },
  {
   "cell_type": "markdown",
   "metadata": {},
   "source": [
    "## Bonus Solution"
   ]
  },
  {
   "cell_type": "code",
   "execution_count": 112,
   "metadata": {},
   "outputs": [
    {
     "name": "stdout",
     "output_type": "stream",
     "text": [
      "[0] Snickers\n",
      "[1] Kit Kat\n",
      "[2] Sour Patch Kids\n",
      "[3] Juicy Fruit\n",
      "[4] Swedish Fish\n",
      "[5] Skittles\n",
      "[6] Hershey Bar\n",
      "[7] Starbursts\n",
      "[8] M&Ms\n",
      "Which candy would you like to bring home?\n",
      "Input the number of the candy you want: 1\n",
      "Would you like to make another selection? ('yes' or 'no') no\n",
      "I brought home with me...\n",
      "Kit Kat\n"
     ]
    }
   ],
   "source": [
    "# The list of candies to print to the screen\n",
    "candy_list = [\n",
    "    \"Snickers\",\n",
    "    \"Kit Kat\",\n",
    "    \"Sour Patch Kids\",\n",
    "    \"Juicy Fruit\",\n",
    "    \"Swedish Fish\",\n",
    "    \"Skittles\",\n",
    "    \"Hershey Bar\",\n",
    "    \"Starbursts\",\n",
    "    \"M&Ms\"\n",
    "]\n",
    "\n",
    "# The amount of candy the user will be allowed to choose\n",
    "# allowance = 5\n",
    "\n",
    "# The list used to store all of the candies selected inside of\n",
    "candy_cart = []\n",
    "\n",
    "# Print all of the candies to the screen and their index in brackets\n",
    "for i in range(len(candy_list)):\n",
    "    print(\"[\" + str(i) + \"] \" + candy_list[i])\n",
    "\n",
    "\n",
    "# Set answer to \"yes\" for while loop\n",
    "answer = \"yes\"\n",
    "\n",
    "\n",
    "while answer == \"yes\":\n",
    "\n",
    "    # Ask which candy the user would like to bring ho\n",
    "    print(\"Which candy would you like to bring home?\")\n",
    "    selected = input(\"Input the number of the candy you want: \")\n",
    "\n",
    "    # Add the candy at the index chosen to the candy_cart list\n",
    "    candy_cart.append(candy_list[int(selected)])\n",
    "\n",
    "    # ask the user if they want more candy\n",
    "    answer = input(\"Would you like to make another selection? ('yes' or 'no') \")\n",
    "\n",
    "\n",
    "# Loop through the candy_cart to say what candies were brought home\n",
    "print(\"I brought home with me...\")\n",
    "for candy in candy_cart:\n",
    "    print(candy)\n"
   ]
  },
  {
   "cell_type": "markdown",
   "metadata": {},
   "source": [
    "<h1>House Of Pies<span class=\"badge badge-secondary\">In Class Activity</span></h1>\n",
    "\n",
    "\n",
    "### Instructions\n",
    "\n",
    "### Part 1\n",
    "\n",
    "- Create an order form that will display a list of pies to the user in the following way:\n",
    "\n",
    "```bash\n",
    "    Welcome to the House of Pies! Here are our pies:\n",
    "    \n",
    "    ---------------------------------------------------------------------\n",
    "    (1) Pecan, (2) Apple Crisp, (3) Bean, (4) Banoffee,  (5) Black Bun, (6) Blueberry, (7) Buko, (8) Burek,  (9) Tamale, (10) Steak\n",
    "```\n",
    "\n",
    "- Then prompt the user to select which pie they'd like to order via number.\n",
    "- Immediately after, follow the order with `Great! We'll have that <PIE NAME> right out for you`. and then ask if they would like to make another order. If so, repeat the process.\n",
    "- Once the user is done purchasing pies, print the total number of pies ordered.\n",
    "\n",
    "### Part 2 (Very Challenging!)\n",
    "\n",
    "- Modify the application once again, this time conclude the user's purchases by listing out the total pie count broken by each pie.\n",
    "\n",
    "```bash\n",
    "    You purchased:\n",
    "    0 Pecan\n",
    "    0 Apple Crisp\n",
    "    0 Bean\n",
    "    2 Banoffee\n",
    "    0 Black Bun\n",
    "    0 Blueberry\n",
    "    0 Buko\n",
    "    0 Burek\n",
    "    0 Tamale\n",
    "    1 Steak\n",
    "```"
   ]
  },
  {
   "cell_type": "code",
   "execution_count": null,
   "metadata": {},
   "outputs": [],
   "source": []
  },
  {
   "cell_type": "markdown",
   "metadata": {},
   "source": [
    "## Solution"
   ]
  },
  {
   "cell_type": "code",
   "execution_count": 118,
   "metadata": {
    "scrolled": true
   },
   "outputs": [
    {
     "name": "stdout",
     "output_type": "stream",
     "text": [
      "Welcome to the House of Pies! Here are our pies:\n",
      "---------------------------------------------------------------------\n",
      "(1) Pecan, (2) Apple Crisp, (3) Bean, (4) Banoffee,  (5) Black Bun, (6) Blueberry, (7) Buko, (8) Burek,  (9) Tamale, (10) Steak \n",
      "Which would you like? 1\n",
      "------------------------------------------------------------------------\n",
      "Great! We'll have that Pecan right out for you.\n",
      "Would you like to make another purchase: (y)es or (n)o? y\n",
      "---------------------------------------------------------------------\n",
      "(1) Pecan, (2) Apple Crisp, (3) Bean, (4) Banoffee,  (5) Black Bun, (6) Blueberry, (7) Buko, (8) Burek,  (9) Tamale, (10) Steak \n",
      "Which would you like? 5\n",
      "------------------------------------------------------------------------\n",
      "Great! We'll have that Black Bun right out for you.\n",
      "Would you like to make another purchase: (y)es or (n)o? n\n",
      "------------------------------------------------------------------------\n",
      "You purchased a total of 2.\n"
     ]
    }
   ],
   "source": [
    "# Initial variable to track shopping status\n",
    "shopping = 'y'\n",
    "\n",
    "# List to track pie purchases\n",
    "pie_purchases = []\n",
    "\n",
    "# Pie List\n",
    "pie_list = [\"Pecan\", \"Apple Crisp\", \"Bean\", \"Banoffee\", \"Black Bun\",\n",
    "            \"Blueberry\", \"Buko\", \"Burek\", \"Tamale\", \"Steak\"]\n",
    "\n",
    "# Display initial message\n",
    "print(\"Welcome to the House of Pies! Here are our pies:\")\n",
    "\n",
    "# While we are still shopping...\n",
    "while shopping == \"y\":\n",
    "\n",
    "    # Show pie selection prompt\n",
    "    print(\"---------------------------------------------------------------------\")\n",
    "    print(\"(1) Pecan, (2) Apple Crisp, (3) Bean, (4) Banoffee, \" +\n",
    "          \" (5) Black Bun, (6) Blueberry, (7) Buko, (8) Burek, \" +\n",
    "          \" (9) Tamale, (10) Steak \")\n",
    "\n",
    "    pie_choice = input(\"Which would you like? \")\n",
    "\n",
    "    # Add pie to the pie list\n",
    "    pie_purchases.append(pie_choice)\n",
    "\n",
    "    print(\"------------------------------------------------------------------------\")\n",
    "\n",
    "    # Inform the customer of the pie purchase\n",
    "    print(\"Great! We'll have that \" + pie_list[int(pie_choice) - 1] + \" right out for you.\")\n",
    "\n",
    "    # Provide exit option\n",
    "    shopping = input(\"Would you like to make another purchase: (y)es or (n)o? \")\n",
    "\n",
    "# Once the pie list is complete\n",
    "print(\"------------------------------------------------------------------------\")\n",
    "print(\"You purchased a total of \" + str(len(pie_purchases)) + \".\")\n"
   ]
  },
  {
   "cell_type": "code",
   "execution_count": null,
   "metadata": {},
   "outputs": [],
   "source": []
  },
  {
   "cell_type": "markdown",
   "metadata": {},
   "source": [
    "## Bonus Solution"
   ]
  },
  {
   "cell_type": "code",
   "execution_count": null,
   "metadata": {},
   "outputs": [],
   "source": [
    "# Initial variable to track shopping status\n",
    "shopping = 'y'\n",
    "\n",
    "# List to track pie purchases\n",
    "pie_purchases = [0, 0, 0, 0, 0, 0, 0, 0, 0, 0]\n",
    "\n",
    "# Pie List\n",
    "pie_list = [\"Pecan\", \"Apple Crisp\", \"Bean\", \"Banoffee\", \"Black Bun\",\n",
    "            \"Blueberry\", \"Buko\", \"Burek\", \"Tamale\", \"Steak\"]\n",
    "\n",
    "# Display initial message\n",
    "print(\"Welcome to the House of Pies! Here are our pies:\")\n",
    "\n",
    "# While we are still shopping...\n",
    "while shopping == \"y\":\n",
    "\n",
    "    # Show pie selection prompt\n",
    "    print(\"---------------------------------------------------------------------\")\n",
    "    print(\"(1) Pecan, (2) Apple Crisp, (3) Bean, (4) Banoffee, \" +\n",
    "          \" (5) Black Bun, (6) Blueberry, (7) Buko, (8) Burek, \" +\n",
    "          \" (9) Tamale, (10) Steak \")\n",
    "\n",
    "    pie_choice = input(\"Which would you like? \")\n",
    "\n",
    "    # Get index of the pie from the selected number\n",
    "    choice_index = int(pie_choice) - 1\n",
    "\n",
    "    # Add pie to the pie list by finding the matching index and adding one to its value\n",
    "    pie_purchases[choice_index] += 1\n",
    "\n",
    "    print(\"------------------------------------------------------------------------\")\n",
    "\n",
    "    # Inform the customer of the pie purchase\n",
    "    print(\"Great! We'll have that \" + pie_list[choice_index] + \" right out for you.\")\n",
    "\n",
    "    # Provide exit option\n",
    "    shopping = input(\"Would you like to make another purchase: (y)es or (n)o? \")\n",
    "\n",
    "# Once the pie list is complete\n",
    "print(\"------------------------------------------------------------------------\")\n",
    "\n",
    "# Count instances of each pie\n",
    "print(\"You purchased: \")\n",
    "\n",
    "# Loop through the full pie list\n",
    "for pie_index in range(len(pie_list)):\n",
    "    pie_count = str(pie_purchases[pie_index])\n",
    "    pie_name = str(pie_list[pie_index])\n",
    "\n",
    "    # Gather the count of each pie in the pie list and print them alongside the pies\n",
    "    print(pie_count + \" \" + pie_name)\n"
   ]
  },
  {
   "cell_type": "markdown",
   "metadata": {},
   "source": [
    "# <font color=red>Working with Files</font>: \n",
    "\n",
    "## Reading `.txt` files"
   ]
  },
  {
   "cell_type": "code",
   "execution_count": null,
   "metadata": {},
   "outputs": [],
   "source": [
    "# Store the file path associated with the file (note the backslash may be OS specific)\n",
    "file = '../Resources/input.txt'\n",
    "\n",
    "# Open the file in \"read\" mode ('r') and store the contents in the variable \"text\"\n",
    "with open(file, 'r') as text:\n",
    "\n",
    "    # This stores a reference to a file stream\n",
    "    print(text)\n",
    "\n",
    "    # Store all of the text inside a variable called \"lines\"\n",
    "    lines = text.read()\n",
    "\n",
    "    # Print the contents of the text file\n",
    "    print(lines)\n"
   ]
  },
  {
   "cell_type": "markdown",
   "metadata": {},
   "source": [
    "## Modules"
   ]
  },
  {
   "cell_type": "code",
   "execution_count": 130,
   "metadata": {},
   "outputs": [
    {
     "name": "stdout",
     "output_type": "stream",
     "text": [
      "abcdefghijklmnopqrstuvwxyzABCDEFGHIJKLMNOPQRSTUVWXYZ\n",
      "10\n",
      "5\n",
      "9\n",
      "1\n",
      "2\n",
      "8\n",
      "8\n",
      "3\n",
      "4\n",
      "6\n"
     ]
    }
   ],
   "source": [
    "# Import the random and string Module\n",
    "import random\n",
    "import string\n",
    "\n",
    "\n",
    "# Utilize the string module's custom method: \".ascii_letters\"\n",
    "print(string.ascii_letters)\n",
    "\n",
    "# Utilize the random module's custom method randint\n",
    "for x in range(10):\n",
    "    print(random.randint(1, 10))\n"
   ]
  },
  {
   "cell_type": "markdown",
   "metadata": {},
   "source": []
  },
  {
   "cell_type": "markdown",
   "metadata": {},
   "source": [
    "## Reading `.csv` files"
   ]
  },
  {
   "cell_type": "code",
   "execution_count": 140,
   "metadata": {},
   "outputs": [
    {
     "name": "stdout",
     "output_type": "stream",
     "text": [
      "../Resources/accounting.csv\n",
      "['First Name', 'Last Name', 'SSN']\n",
      "['Tina', 'Fleming', '619-16-7988']\n",
      "['Erica', 'Shah', '164-51-7615']\n",
      "========================\n",
      "['Paula', 'Ortiz', '051-83-3290']\n",
      "['James', 'Hendricks', '776-83-2884']\n",
      "['Lauren', 'King', '197-94-2398']\n",
      "['David', 'Cowan', '252-92-1832']\n",
      "['Andrew', 'Burton', '296-23-6842']\n",
      "['Julian', 'Baker', '337-40-7543']\n",
      "['Scott', 'Castro', '399-46-5595']\n",
      "['Billy', 'Rodriguez', '014-18-2503']\n",
      "['Darrell', 'Leblanc', '005-82-7918']\n",
      "['David', 'Hammond', '561-17-6312']\n"
     ]
    }
   ],
   "source": [
    "# First we'll import the os module\n",
    "# This will allow us to create file paths across operating systems\n",
    "import os\n",
    "\n",
    "# Module for reading CSV files\n",
    "import csv\n",
    "\n",
    "csvpath = os.path.join('..', 'Resources', 'accounting.csv')\n",
    "print(csvpath)\n",
    "\n",
    "# # Method 1: Plain Reading of CSV files\n",
    "# with open(csvpath, 'r') as file_handler:\n",
    "#     lines = file_handler.read()\n",
    "#     print(lines)\n",
    "#     print(type(lines))\n",
    "\n",
    "\n",
    "# Method 2: Improved Reading using CSV module\n",
    "\n",
    "with open(csvpath, newline='') as csvfile:\n",
    "\n",
    "    # CSV reader specifies delimiter and variable that holds contents\n",
    "    csvreader = csv.reader(csvfile, delimiter=',')\n",
    "\n",
    "    print(next(csvreader))\n",
    "    print(next(csvreader))\n",
    "    print(next(csvreader))\n",
    "    print(\"========================\")\n",
    "    \n",
    "    for crazy in csvreader:\n",
    "        print(crazy)\n",
    "\n",
    "#     # Read the header row first (skip this step if there is now header)\n",
    "# #     csv_header = next(csvreader)\n",
    "# #     print(f\"CSV Header: {csv_header}\")\n",
    "#     print(next(csvreader))\n",
    "# #     print(next(csvreader))\n",
    "\n",
    "#     # Read each row of data after the header\n",
    "# #     for row in csvreader:\n",
    "# #         print(row)\n"
   ]
  },
  {
   "cell_type": "code",
   "execution_count": null,
   "metadata": {},
   "outputs": [],
   "source": []
  },
  {
   "cell_type": "code",
   "execution_count": null,
   "metadata": {},
   "outputs": [],
   "source": []
  },
  {
   "cell_type": "code",
   "execution_count": null,
   "metadata": {},
   "outputs": [],
   "source": []
  }
 ],
 "metadata": {
  "kernelspec": {
   "display_name": "Python 3",
   "language": "python",
   "name": "python3"
  },
  "language_info": {
   "codemirror_mode": {
    "name": "ipython",
    "version": 3
   },
   "file_extension": ".py",
   "mimetype": "text/x-python",
   "name": "python",
   "nbconvert_exporter": "python",
   "pygments_lexer": "ipython3",
   "version": "3.6.7"
  }
 },
 "nbformat": 4,
 "nbformat_minor": 2
}
