{
 "cells": [
  {
   "cell_type": "markdown",
   "metadata": {},
   "source": [
    "# 03 -- Python -- HW -- PyBank"
   ]
  },
  {
   "cell_type": "markdown",
   "metadata": {},
   "source": [
    "### Total number of months included in the dataset"
   ]
  },
  {
   "cell_type": "code",
   "execution_count": 17,
   "metadata": {},
   "outputs": [
    {
     "name": "stdout",
     "output_type": "stream",
     "text": [
      "Total Months: 86\n"
     ]
    }
   ],
   "source": [
    "import os\n",
    "import csv\n",
    "\n",
    "dataFile = os.path.join('resources','budget_data.csv')\n",
    "\n",
    "with open(dataFile, mode='r') as csvFile:\n",
    "    csvReader = csv.reader(csvFile, delimiter=',')\n",
    "    \n",
    "    header = next(csvReader)\n",
    "    \n",
    "    monthTotal = 0\n",
    "    \n",
    "    for line in csvReader:\n",
    "        monthTotal += 1\n",
    "        \n",
    "    print(f'Total Months: {monthTotal}')\n",
    "        "
   ]
  },
  {
   "cell_type": "markdown",
   "metadata": {},
   "source": [
    "### Net total amount of \"Profit/Losses\" over the entire period"
   ]
  },
  {
   "cell_type": "code",
   "execution_count": 21,
   "metadata": {},
   "outputs": [
    {
     "name": "stdout",
     "output_type": "stream",
     "text": [
      "Total: $38382578\n"
     ]
    }
   ],
   "source": [
    "import os\n",
    "import csv\n",
    "\n",
    "dataFile = os.path.join('resources','budget_data.csv')\n",
    "\n",
    "with open(dataFile, mode='r') as csvFile:\n",
    "    csvReader = csv.reader(csvFile, delimiter=',')\n",
    "    \n",
    "    header = next(csvReader)\n",
    "    \n",
    "    netChange = 0\n",
    "    \n",
    "    for line in csvReader:\n",
    "        netChange += int(line[1])\n",
    "        \n",
    "    print(f'Total: ${netChange}')"
   ]
  },
  {
   "cell_type": "markdown",
   "metadata": {},
   "source": [
    "### Average of the changes in \"Profit/Losses\" over the entire period"
   ]
  },
  {
   "cell_type": "code",
   "execution_count": 29,
   "metadata": {},
   "outputs": [
    {
     "name": "stdout",
     "output_type": "stream",
     "text": [
      "    Total Months: 86 \n",
      "    Total: $38382578 \n",
      "    Average Change: $446309\n"
     ]
    }
   ],
   "source": [
    "import os\n",
    "import csv\n",
    "\n",
    "dataFile = os.path.join('resources','budget_data.csv')\n",
    "\n",
    "with open(dataFile, mode='r') as csvFile:\n",
    "    csvReader = csv.reader(csvFile, delimiter=',')\n",
    "    \n",
    "    header = next(csvReader)\n",
    "    \n",
    "    monthTotal = 0\n",
    "    netChange = 0\n",
    "    \n",
    "    for line in csvReader:\n",
    "        monthTotal += 1\n",
    "        netChange += int(line[1])\n",
    "        \n",
    "    print(f'\\\n",
    "    Total Months: {monthTotal} \\n\\\n",
    "    Total: ${netChange} \\n\\\n",
    "    Average Change: ${int(netChange/monthTotal)}')\n",
    "    "
   ]
  },
  {
   "cell_type": "markdown",
   "metadata": {},
   "source": [
    "### Greatest increase in profits (date and amount) over the entire period"
   ]
  },
  {
   "cell_type": "code",
   "execution_count": 39,
   "metadata": {},
   "outputs": [
    {
     "name": "stdout",
     "output_type": "stream",
     "text": [
      "    Total Months: 86 \n",
      "    Total: $38382578 \n",
      "    Average Change: $446309 \n",
      "    Greatest Increase in Profits: Feb-2012 ($1170593)\n"
     ]
    }
   ],
   "source": [
    "import os\n",
    "import csv\n",
    "\n",
    "dataFile = os.path.join('resources','budget_data.csv')\n",
    "\n",
    "with open(dataFile, mode='r') as csvFile:\n",
    "    csvReader = csv.reader(csvFile, delimiter=',')\n",
    "    \n",
    "    header = next(csvReader)\n",
    "    \n",
    "    monthTotal = 0\n",
    "    netChange = 0\n",
    "    greatestIncrease = {\n",
    "        'value': 0,\n",
    "        'date': ''\n",
    "    }\n",
    "    \n",
    "    for line in csvReader:\n",
    "        monthTotal += 1\n",
    "        netChange += int(line[1])\n",
    "        if int(line[1]) > greatestIncrease['value']:\n",
    "            greatestIncrease['value'] = int(line[1])\n",
    "            greatestIncrease['date'] = line[0]\n",
    "        \n",
    "    print(f'\\\n",
    "    Total Months: {monthTotal} \\n\\\n",
    "    Total: ${netChange} \\n\\\n",
    "    Average Change: ${int(netChange/monthTotal)} \\n\\\n",
    "    Greatest Increase in Profits: {greatestIncrease[\"date\"]} (${greatestIncrease[\"value\"]})')\n",
    "    "
   ]
  },
  {
   "cell_type": "markdown",
   "metadata": {},
   "source": [
    "### Greatest decrease in losses (date and amount) over the entire periods"
   ]
  },
  {
   "cell_type": "code",
   "execution_count": 40,
   "metadata": {},
   "outputs": [
    {
     "name": "stdout",
     "output_type": "stream",
     "text": [
      "    Total Months: 86 \n",
      "    Total: $38382578 \n",
      "    Average Change: $446309 \n",
      "    Greatest Increase in Profits: Feb-2012 ($1170593) \n",
      "    Greatest Decrease in Profits: Sep-2013 ($-1196225)\n"
     ]
    }
   ],
   "source": [
    "import os\n",
    "import csv\n",
    "\n",
    "dataFile = os.path.join('resources','budget_data.csv')\n",
    "\n",
    "with open(dataFile, mode='r') as csvFile:\n",
    "    csvReader = csv.reader(csvFile, delimiter=',')\n",
    "    \n",
    "    header = next(csvReader)\n",
    "    \n",
    "    monthTotal = 0\n",
    "    netChange = 0\n",
    "    greatestChange = {\n",
    "        'iValue': 0,\n",
    "        'iDate': '',\n",
    "        'dValue': 0,\n",
    "        'dDate': ''\n",
    "    }\n",
    "    \n",
    "    for line in csvReader:\n",
    "        monthTotal += 1\n",
    "        netChange += int(line[1])\n",
    "        if int(line[1]) > greatestChange['iValue']:\n",
    "            greatestChange['iValue'] = int(line[1])\n",
    "            greatestChange['iDate'] = line[0]\n",
    "        elif int(line[1]) < greatestChange['dValue']:\n",
    "            greatestChange['dValue'] = int(line[1])\n",
    "            greatestChange['dDate'] = line[0]\n",
    "        \n",
    "    print(f'\\\n",
    "    Total Months: {monthTotal} \\n\\\n",
    "    Total: ${netChange} \\n\\\n",
    "    Average Change: ${int(netChange/monthTotal)} \\n\\\n",
    "    Greatest Increase in Profits: {greatestChange[\"iDate\"]} (${greatestChange[\"iValue\"]}) \\n\\\n",
    "    Greatest Decrease in Profits: {greatestChange[\"dDate\"]} (${greatestChange[\"dValue\"]})')\n",
    "    "
   ]
  },
  {
   "cell_type": "markdown",
   "metadata": {},
   "source": [
    "### In addition to printing in console, write results to file"
   ]
  },
  {
   "cell_type": "code",
   "execution_count": 55,
   "metadata": {},
   "outputs": [
    {
     "ename": "TypeError",
     "evalue": "can only concatenate str (not \"int\") to str",
     "output_type": "error",
     "traceback": [
      "\u001b[1;31m---------------------------------------------------------------------------\u001b[0m",
      "\u001b[1;31mTypeError\u001b[0m                                 Traceback (most recent call last)",
      "\u001b[1;32m<ipython-input-55-a07b68c48cde>\u001b[0m in \u001b[0;36m<module>\u001b[1;34m\u001b[0m\n\u001b[0;32m     35\u001b[0m     \u001b[1;34m'Average Change: $'\u001b[0m\u001b[1;33m+\u001b[0m\u001b[0mstr\u001b[0m\u001b[1;33m(\u001b[0m\u001b[0mint\u001b[0m\u001b[1;33m(\u001b[0m\u001b[0mnetChange\u001b[0m\u001b[1;33m/\u001b[0m\u001b[0mmonthTotal\u001b[0m\u001b[1;33m)\u001b[0m\u001b[1;33m)\u001b[0m\u001b[1;33m+\u001b[0m\u001b[0;31m\\\u001b[0m\u001b[1;33m\u001b[0m\u001b[1;33m\u001b[0m\u001b[0m\n\u001b[0;32m     36\u001b[0m     \u001b[1;34m'Greatest Increase in Profits: '\u001b[0m\u001b[1;33m+\u001b[0m\u001b[0mgreatestChange\u001b[0m\u001b[1;33m[\u001b[0m\u001b[1;34m\"iDate\"\u001b[0m\u001b[1;33m]\u001b[0m\u001b[1;33m+\u001b[0m\u001b[1;34m' ($'\u001b[0m\u001b[1;33m+\u001b[0m\u001b[0mstr\u001b[0m\u001b[1;33m(\u001b[0m\u001b[0mgreatestChange\u001b[0m\u001b[1;33m[\u001b[0m\u001b[1;34m\"iValue\"\u001b[0m\u001b[1;33m]\u001b[0m\u001b[1;33m)\u001b[0m\u001b[1;33m+\u001b[0m\u001b[0;31m\\\u001b[0m\u001b[1;33m\u001b[0m\u001b[1;33m\u001b[0m\u001b[0m\n\u001b[1;32m---> 37\u001b[1;33m     'Greatest Decrease in Profits: '+str(greatestChange[\"dDate\"])+' ($'+str(greatestChange[\"dValue\"]))\n\u001b[0m\u001b[0;32m     38\u001b[0m \u001b[1;33m\u001b[0m\u001b[0m\n\u001b[0;32m     39\u001b[0m     \u001b[0mprint\u001b[0m\u001b[1;33m(\u001b[0m\u001b[0mresults\u001b[0m\u001b[1;33m)\u001b[0m\u001b[1;33m\u001b[0m\u001b[1;33m\u001b[0m\u001b[0m\n",
      "\u001b[1;31mTypeError\u001b[0m: can only concatenate str (not \"int\") to str"
     ]
    }
   ],
   "source": [
    "import os\n",
    "import csv\n",
    "\n",
    "dataFile = os.path.join('resources','budget_data.csv')\n",
    "writeFile = os.path.join('budget_data_analysis.csv')\n",
    "\n",
    "with open(dataFile, mode='r') as csvFile:\n",
    "    csvReader = csv.reader(csvFile, delimiter=',')\n",
    "    \n",
    "    header = next(csvReader)\n",
    "    \n",
    "    monthTotal = 0\n",
    "    netChange = 0\n",
    "    greatestChange = {\n",
    "        'iValue': 0,\n",
    "        'iDate': '',\n",
    "        'dValue': 0,\n",
    "        'dDate': ''\n",
    "    }\n",
    "    results = []\n",
    "    \n",
    "    for line in csvReader:\n",
    "        monthTotal += 1\n",
    "        netChange += int(line[1])\n",
    "        if int(line[1]) > greatestChange['iValue']:\n",
    "            greatestChange['iValue'] = int(line[1])\n",
    "            greatestChange['iDate'] = line[0]\n",
    "        elif int(line[1]) < greatestChange['dValue']:\n",
    "            greatestChange['dValue'] = int(line[1])\n",
    "            greatestChange['dDate'] = line[0]\n",
    "        \n",
    "    results.append(\\\n",
    "    'Total Months: '+monthTotal+\\\n",
    "    'Total: $'+netChange+\\\n",
    "    'Average Change: $'+str(int(netChange/monthTotal))+\\\n",
    "    'Greatest Increase in Profits: '+greatestChange[\"iDate\"]+' ($'+str(greatestChange[\"iValue\"])+\\\n",
    "    'Greatest Decrease in Profits: '+str(greatestChange[\"dDate\"])+' ($'+str(greatestChange[\"dValue\"]))\n",
    "\n",
    "    print(results)"
   ]
  },
  {
   "cell_type": "code",
   "execution_count": null,
   "metadata": {},
   "outputs": [],
   "source": []
  }
 ],
 "metadata": {
  "kernelspec": {
   "display_name": "Python 3",
   "language": "python",
   "name": "python3"
  },
  "language_info": {
   "codemirror_mode": {
    "name": "ipython",
    "version": 3
   },
   "file_extension": ".py",
   "mimetype": "text/x-python",
   "name": "python",
   "nbconvert_exporter": "python",
   "pygments_lexer": "ipython3",
   "version": "3.7.3"
  }
 },
 "nbformat": 4,
 "nbformat_minor": 4
}
