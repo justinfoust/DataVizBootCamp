{
 "cells": [
  {
   "cell_type": "markdown",
   "metadata": {},
   "source": [
    "# 03 -- Python -- HW -- PyBank"
   ]
  },
  {
   "cell_type": "markdown",
   "metadata": {},
   "source": [
    "### Total number of months included in the dataset"
   ]
  },
  {
   "cell_type": "code",
   "execution_count": 17,
   "metadata": {},
   "outputs": [
    {
     "name": "stdout",
     "output_type": "stream",
     "text": [
      "Total Months: 86\n"
     ]
    }
   ],
   "source": [
    "import os\n",
    "import csv\n",
    "\n",
    "dataFile = os.path.join('resources','budget_data.csv')\n",
    "\n",
    "with open(dataFile, mode='r') as csvFile:\n",
    "    csvReader = csv.reader(csvFile, delimiter=',')\n",
    "    \n",
    "    header = next(csvReader)\n",
    "    \n",
    "    monthTotal = 0\n",
    "    \n",
    "    for line in csvReader:\n",
    "        monthTotal += 1\n",
    "        \n",
    "    print(f'Total Months: {monthTotal}')\n",
    "        "
   ]
  },
  {
   "cell_type": "markdown",
   "metadata": {},
   "source": [
    "### Net total amount of \"Profit/Losses\" over the entire period"
   ]
  },
  {
   "cell_type": "code",
   "execution_count": 21,
   "metadata": {},
   "outputs": [
    {
     "name": "stdout",
     "output_type": "stream",
     "text": [
      "Total: $38382578\n"
     ]
    }
   ],
   "source": [
    "import os\n",
    "import csv\n",
    "\n",
    "dataFile = os.path.join('resources','budget_data.csv')\n",
    "\n",
    "with open(dataFile, mode='r') as csvFile:\n",
    "    csvReader = csv.reader(csvFile, delimiter=',')\n",
    "    \n",
    "    header = next(csvReader)\n",
    "    \n",
    "    netChange = 0\n",
    "    \n",
    "    for line in csvReader:\n",
    "        netChange += int(line[1])\n",
    "        \n",
    "    print(f'Total: ${netChange}')"
   ]
  },
  {
   "cell_type": "markdown",
   "metadata": {},
   "source": [
    "### Average of the changes in \"Profit/Losses\" over the entire period"
   ]
  },
  {
   "cell_type": "code",
   "execution_count": 29,
   "metadata": {},
   "outputs": [
    {
     "name": "stdout",
     "output_type": "stream",
     "text": [
      "    Total Months: 86 \n",
      "    Total: $38382578 \n",
      "    Average Change: $446309\n"
     ]
    }
   ],
   "source": [
    "import os\n",
    "import csv\n",
    "\n",
    "dataFile = os.path.join('resources','budget_data.csv')\n",
    "\n",
    "with open(dataFile, mode='r') as csvFile:\n",
    "    csvReader = csv.reader(csvFile, delimiter=',')\n",
    "    \n",
    "    header = next(csvReader)\n",
    "    \n",
    "    monthTotal = 0\n",
    "    netChange = 0\n",
    "    \n",
    "    for line in csvReader:\n",
    "        monthTotal += 1\n",
    "        netChange += int(line[1])\n",
    "        \n",
    "    print(f'\\\n",
    "    Total Months: {monthTotal} \\n\\\n",
    "    Total: ${netChange} \\n\\\n",
    "    Average Change: ${int(netChange/monthTotal)}')\n",
    "    "
   ]
  },
  {
   "cell_type": "markdown",
   "metadata": {},
   "source": [
    "### Greatest increase in profits (date and amount) over the entire period"
   ]
  },
  {
   "cell_type": "code",
   "execution_count": 39,
   "metadata": {},
   "outputs": [
    {
     "name": "stdout",
     "output_type": "stream",
     "text": [
      "    Total Months: 86 \n",
      "    Total: $38382578 \n",
      "    Average Change: $446309 \n",
      "    Greatest Increase in Profits: Feb-2012 ($1170593)\n"
     ]
    }
   ],
   "source": [
    "import os\n",
    "import csv\n",
    "\n",
    "dataFile = os.path.join('resources','budget_data.csv')\n",
    "\n",
    "with open(dataFile, mode='r') as csvFile:\n",
    "    csvReader = csv.reader(csvFile, delimiter=',')\n",
    "    \n",
    "    header = next(csvReader)\n",
    "    \n",
    "    monthTotal = 0\n",
    "    netChange = 0\n",
    "    greatestIncrease = {\n",
    "        'value': 0,\n",
    "        'date': ''\n",
    "    }\n",
    "    \n",
    "    for line in csvReader:\n",
    "        monthTotal += 1\n",
    "        netChange += int(line[1])\n",
    "        if int(line[1]) > greatestIncrease['value']:\n",
    "            greatestIncrease['value'] = int(line[1])\n",
    "            greatestIncrease['date'] = line[0]\n",
    "        \n",
    "    print(f'\\\n",
    "    Total Months: {monthTotal} \\n\\\n",
    "    Total: ${netChange} \\n\\\n",
    "    Average Change: ${int(netChange/monthTotal)} \\n\\\n",
    "    Greatest Increase in Profits: {greatestIncrease[\"date\"]} (${greatestIncrease[\"value\"]})')\n",
    "    "
   ]
  },
  {
   "cell_type": "markdown",
   "metadata": {},
   "source": [
    "### Greatest decrease in losses (date and amount) over the entire periods"
   ]
  },
  {
   "cell_type": "code",
   "execution_count": 40,
   "metadata": {},
   "outputs": [
    {
     "name": "stdout",
     "output_type": "stream",
     "text": [
      "    Total Months: 86 \n",
      "    Total: $38382578 \n",
      "    Average Change: $446309 \n",
      "    Greatest Increase in Profits: Feb-2012 ($1170593) \n",
      "    Greatest Decrease in Profits: Sep-2013 ($-1196225)\n"
     ]
    }
   ],
   "source": [
    "import os\n",
    "import csv\n",
    "\n",
    "dataFile = os.path.join('resources','budget_data.csv')\n",
    "\n",
    "with open(dataFile, mode='r') as csvFile:\n",
    "    csvReader = csv.reader(csvFile, delimiter=',')\n",
    "    \n",
    "    header = next(csvReader)\n",
    "    \n",
    "    monthTotal = 0\n",
    "    netChange = 0\n",
    "    greatestChange = {\n",
    "        'iValue': 0,\n",
    "        'iDate': '',\n",
    "        'dValue': 0,\n",
    "        'dDate': ''\n",
    "    }\n",
    "    \n",
    "    for line in csvReader:\n",
    "        monthTotal += 1\n",
    "        netChange += int(line[1])\n",
    "        if int(line[1]) > greatestChange['iValue']:\n",
    "            greatestChange['iValue'] = int(line[1])\n",
    "            greatestChange['iDate'] = line[0]\n",
    "        elif int(line[1]) < greatestChange['dValue']:\n",
    "            greatestChange['dValue'] = int(line[1])\n",
    "            greatestChange['dDate'] = line[0]\n",
    "        \n",
    "    print(f'\\\n",
    "    Total Months: {monthTotal} \\n\\\n",
    "    Total: ${netChange} \\n\\\n",
    "    Average Change: ${int(netChange/monthTotal)} \\n\\\n",
    "    Greatest Increase in Profits: {greatestChange[\"iDate\"]} (${greatestChange[\"iValue\"]}) \\n\\\n",
    "    Greatest Decrease in Profits: {greatestChange[\"dDate\"]} (${greatestChange[\"dValue\"]})')\n",
    "    "
   ]
  },
  {
   "cell_type": "markdown",
   "metadata": {},
   "source": [
    "### In addition to printing in console, write results to file"
   ]
  },
  {
   "cell_type": "code",
   "execution_count": 28,
   "metadata": {},
   "outputs": [
    {
     "name": "stdout",
     "output_type": "stream",
     "text": [
      "Total Months: 86\n",
      "Total: $38382578\n",
      "Average Change: $446309.0465116279\n",
      "Greatest Increase in Profits: Feb-2012 ($1170593\n",
      "Greatest Decrease in Profits: Sep-2013 ($-1196225)\n"
     ]
    }
   ],
   "source": [
    "import os\n",
    "import csv\n",
    "\n",
    "dataFile = os.path.join('resources','budget_data.csv')\n",
    "writeFile = os.path.join('budget_data_analysis.txt')\n",
    "\n",
    "with open(dataFile, mode='r') as csvFile:\n",
    "    csvReader = csv.reader(csvFile, delimiter=',')\n",
    "    \n",
    "    header = next(csvReader)\n",
    "    \n",
    "    monthTotal = 0\n",
    "    netChange = 0\n",
    "    greatestChange = {\n",
    "        'iValue': 0,\n",
    "        'iDate': '',\n",
    "        'dValue': 0,\n",
    "        'dDate': ''\n",
    "    }\n",
    "    results = []\n",
    "    \n",
    "    for line in csvReader:\n",
    "        monthTotal += 1\n",
    "        netChange += int(line[1])\n",
    "        if int(line[1]) > greatestChange['iValue']:\n",
    "            greatestChange['iValue'] = int(line[1])\n",
    "            greatestChange['iDate'] = line[0]\n",
    "        elif int(line[1]) < greatestChange['dValue']:\n",
    "            greatestChange['dValue'] = int(line[1])\n",
    "            greatestChange['dDate'] = line[0]\n",
    "        \n",
    "    results = [\\\n",
    "        'Total Months: ' + str(monthTotal) + '\\n', \\\n",
    "        'Total: $' + str(netChange) + '\\n', \\\n",
    "        'Average Change: $' + str(netChange/monthTotal) + '\\n', \\\n",
    "        'Greatest Increase in Profits: ' + greatestChange[\"iDate\"] + ' ($'+str(greatestChange[\"iValue\"]) + '\\n', \\\n",
    "        'Greatest Decrease in Profits: ' + str(greatestChange[\"dDate\"]) + ' ($' + str(greatestChange[\"dValue\"]) + ')' \\\n",
    "    ]\n",
    "\n",
    "with open(writeFile, mode='w') as txtFile:\n",
    "    txtFile.writelines(results)\n",
    "\n",
    "with open(writeFile, mode='r') as txtFile:\n",
    "    print(txtFile.read())\n",
    "    "
   ]
  },
  {
   "cell_type": "code",
   "execution_count": null,
   "metadata": {},
   "outputs": [],
   "source": []
  }
 ],
 "metadata": {
  "kernelspec": {
   "display_name": "Python 3",
   "language": "python",
   "name": "python3"
  },
  "language_info": {
   "codemirror_mode": {
    "name": "ipython",
    "version": 3
   },
   "file_extension": ".py",
   "mimetype": "text/x-python",
   "name": "python",
   "nbconvert_exporter": "python",
   "pygments_lexer": "ipython3",
   "version": "3.7.3"
  }
 },
 "nbformat": 4,
 "nbformat_minor": 4
}
