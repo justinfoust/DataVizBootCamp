{
 "cells": [
  {
   "cell_type": "code",
   "execution_count": 10,
   "metadata": {},
   "outputs": [
    {
     "name": "stdout",
     "output_type": "stream",
     "text": [
      "[10, 15, 20, 30, 30, 20, 15]\n",
      "[10, 15, 20, 30, 30, 20, 15]\n"
     ]
    }
   ],
   "source": [
    "# Python code t get difference of two lists \n",
    "# Not using set() \n",
    "\n",
    "li_dif = [i for i in li1 + li2 if i not in li1 or i not in li2] \n",
    "print(li_dif) \n",
    "\n",
    "# Driver Code \n",
    "li1 = [10, 15, 20, 25, 30, 35, 40, 30, 20, 15] \n",
    "li2 = [25, 40, 35] \n",
    "li3 = Diff(li1, li2) \n",
    "print(li3) \n"
   ]
  },
  {
   "cell_type": "code",
   "execution_count": null,
   "metadata": {},
   "outputs": [],
   "source": []
  }
 ],
 "metadata": {
  "kernelspec": {
   "display_name": "Python 3",
   "language": "python",
   "name": "python3"
  },
  "language_info": {
   "codemirror_mode": {
    "name": "ipython",
    "version": 3
   },
   "file_extension": ".py",
   "mimetype": "text/x-python",
   "name": "python",
   "nbconvert_exporter": "python",
   "pygments_lexer": "ipython3",
   "version": "3.7.3"
  }
 },
 "nbformat": 4,
 "nbformat_minor": 4
}
