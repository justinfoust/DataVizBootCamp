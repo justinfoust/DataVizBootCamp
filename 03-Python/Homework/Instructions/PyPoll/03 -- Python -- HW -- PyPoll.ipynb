{
 "cells": [
  {
   "cell_type": "markdown",
   "metadata": {},
   "source": [
    "# 03 -- Python -- HW -- PyPoll"
   ]
  },
  {
   "cell_type": "markdown",
   "metadata": {},
   "source": [
    "### Total number of votes cast"
   ]
  },
  {
   "cell_type": "code",
   "execution_count": 2,
   "metadata": {},
   "outputs": [
    {
     "name": "stdout",
     "output_type": "stream",
     "text": [
      "3521001\n"
     ]
    }
   ],
   "source": [
    "import os\n",
    "import csv\n",
    "\n",
    "dataFile = os.path.join('resources','election_data.csv')\n",
    "\n",
    "with open(dataFile, mode='r') as csvFile:\n",
    "    csvReader = csv.reader(csvFile, delimiter=',')\n",
    "    \n",
    "    header = next(csvReader)\n",
    "    \n",
    "    totalVotes = 0\n",
    "    \n",
    "    for line in csvReader:\n",
    "        totalVotes += 1\n",
    "        \n",
    "    print(totalVotes)"
   ]
  },
  {
   "cell_type": "markdown",
   "metadata": {},
   "source": [
    "### Complete list of candidates who received votes"
   ]
  },
  {
   "cell_type": "code",
   "execution_count": 61,
   "metadata": {},
   "outputs": [
    {
     "name": "stdout",
     "output_type": "stream",
     "text": [
      "['Khan', 'Correy', 'Li', \"O'Tooley\"]\n"
     ]
    }
   ],
   "source": [
    "import os\n",
    "import csv\n",
    "\n",
    "dataFile = os.path.join('resources','election_data.csv')\n",
    "\n",
    "with open(dataFile, mode='r') as csvFile:\n",
    "    csvReader = csv.reader(csvFile, delimiter=',')\n",
    "    \n",
    "    header = next(csvReader)\n",
    "    candidateList = []\n",
    "    \n",
    "    for line in csvReader:\n",
    "        if line[2] not in candidateList:\n",
    "            candidateList.append(line[2])\n",
    "    \n",
    "    print(candidateList)\n",
    "    "
   ]
  },
  {
   "cell_type": "markdown",
   "metadata": {},
   "source": [
    "### Total number of votes each candidate won"
   ]
  },
  {
   "cell_type": "code",
   "execution_count": 69,
   "metadata": {},
   "outputs": [
    {
     "name": "stdout",
     "output_type": "stream",
     "text": [
      "{'totalVotes': 117, 'Khan': {'numVotes': 82, 'percentVotes': 0}, 'Correy': {'numVotes': 22, 'percentVotes': 0}, 'Li': {'numVotes': 11, 'percentVotes': 0}, \"O'Tooley\": {'numVotes': 2, 'percentVotes': 0}}\n",
      "117\n"
     ]
    }
   ],
   "source": [
    "import os\n",
    "import csv\n",
    "\n",
    "dataFile = os.path.join('resources','election_data.csv')\n",
    "\n",
    "with open(dataFile, mode='r') as csvFile:\n",
    "    csvReader = csv.reader(csvFile, delimiter=',')\n",
    "    \n",
    "    header = next(csvReader)\n",
    "    candidateList = []\n",
    "    resultsList = {'totalVotes': 0}\n",
    "\n",
    "    for line in csvReader:\n",
    "        resultsList['totalVotes'] += 1    \n",
    "        if line[2] not in resultsList.keys():\n",
    "            resultsList[line[2]] = {'numVotes': 0, 'percentVotes': 0}\n",
    "        if line[2] in resultsList.keys():\n",
    "            resultsList[line[2]]['numVotes'] += 1\n",
    "     \n",
    "    print(resultsList)"
   ]
  },
  {
   "cell_type": "markdown",
   "metadata": {},
   "source": [
    "### Percentage of votes each candidate won"
   ]
  },
  {
   "cell_type": "code",
   "execution_count": 120,
   "metadata": {},
   "outputs": [
    {
     "name": "stdout",
     "output_type": "stream",
     "text": [
      "117\n",
      "{'Khan': {'numVotes': 82, 'percentVotes': 70}, 'Correy': {'numVotes': 22, 'percentVotes': 18}, 'Li': {'numVotes': 11, 'percentVotes': 9}, \"O'Tooley\": {'numVotes': 2, 'percentVotes': 1}}\n"
     ]
    }
   ],
   "source": [
    "import os\n",
    "import csv\n",
    "\n",
    "dataFile = os.path.join('resources','election_data.csv')\n",
    "\n",
    "with open(dataFile, mode='r') as csvFile:\n",
    "    csvReader = csv.reader(csvFile, delimiter=',')\n",
    "    \n",
    "    header = next(csvReader)\n",
    "    totalVotes = 0\n",
    "    resultsList = {}\n",
    "\n",
    "    for line in csvReader:\n",
    "        totalVotes += 1    \n",
    "        if line[2] not in resultsList.keys():\n",
    "            resultsList[line[2]] = {'numVotes': 0, 'percentVotes': 0}\n",
    "        if line[2] in resultsList.keys():\n",
    "            resultsList[line[2]]['numVotes'] += 1\n",
    "            \n",
    "            \n",
    "    print(totalVotes)\n",
    "    \n",
    "    for candidate in resultsList.keys():\n",
    "        resultsList[candidate]['percentVotes'] = int(resultsList[candidate]['numVotes'] / totalVotes * 100)\n",
    "        \n",
    "    print(resultsList)"
   ]
  },
  {
   "cell_type": "markdown",
   "metadata": {},
   "source": [
    "### Winner of the election based on popular vote"
   ]
  },
  {
   "cell_type": "code",
   "execution_count": 122,
   "metadata": {},
   "outputs": [
    {
     "name": "stdout",
     "output_type": "stream",
     "text": [
      "117\n",
      "{'Khan': {'numVotes': 82, 'percentVotes': 70}, 'Correy': {'numVotes': 22, 'percentVotes': 18}, 'Li': {'numVotes': 11, 'percentVotes': 9}, \"O'Tooley\": {'numVotes': 2, 'percentVotes': 1}}\n",
      "{'name': 'Khan', 'votes': 82}\n"
     ]
    }
   ],
   "source": [
    "import os\n",
    "import csv\n",
    "\n",
    "dataFile = os.path.join('resources','election_data.csv')\n",
    "\n",
    "with open(dataFile, mode='r') as csvFile:\n",
    "    csvReader = csv.reader(csvFile, delimiter=',')\n",
    "    \n",
    "    header = next(csvReader)\n",
    "    totalVotes = 0\n",
    "    resultsList = {}\n",
    "    winner = {'name': '', 'votes': 0}\n",
    "\n",
    "    for line in csvReader:\n",
    "        totalVotes += 1    \n",
    "        if line[2] not in resultsList.keys():\n",
    "            resultsList[line[2]] = {'numVotes': 0, 'percentVotes': 0}\n",
    "        if line[2] in resultsList.keys():\n",
    "            resultsList[line[2]]['numVotes'] += 1\n",
    "            \n",
    "            \n",
    "    print(totalVotes)\n",
    "    \n",
    "    for candidate in resultsList.keys():\n",
    "        resultsList[candidate]['percentVotes'] = int(resultsList[candidate]['numVotes'] / totalVotes * 100)\n",
    "        if resultsList[candidate]['numVotes'] > winner['votes']:\n",
    "            winner['name'] = candidate\n",
    "            winner['votes'] = resultsList[candidate]['numVotes']\n",
    "        \n",
    "    print(resultsList)\n",
    "    print(winner)"
   ]
  },
  {
   "cell_type": "markdown",
   "metadata": {},
   "source": [
    "### In addition to printing in console, print to file"
   ]
  },
  {
   "cell_type": "code",
   "execution_count": 151,
   "metadata": {},
   "outputs": [
    {
     "name": "stdout",
     "output_type": "stream",
     "text": [
      "Total Votes: 3521001\n",
      "Khan: 63.000% (2218231) Correy: 19.000% (704200) Li: 13.000% (492940) O'Tooley: 2.000% (105630) \n",
      "Winner: Khan\n"
     ]
    }
   ],
   "source": [
    "import os\n",
    "import csv\n",
    "\n",
    "dataFile = os.path.join('resources','election_data.csv')\n",
    "writeFile = os.path.join('election_results.txt')\n",
    "\n",
    "with open(dataFile, mode='r') as csvFile:\n",
    "    csvReader = csv.reader(csvFile, delimiter=',')\n",
    "    \n",
    "    header = next(csvReader)\n",
    "    totalVotes = 0\n",
    "    resultsList = {}\n",
    "    winner = {'name': '', 'votes': 0}\n",
    "\n",
    "    for line in csvReader:\n",
    "        totalVotes += 1    \n",
    "        if line[2] not in resultsList.keys():\n",
    "            resultsList[line[2]] = {'numVotes': 0, 'percentVotes': 0}\n",
    "        if line[2] in resultsList.keys():\n",
    "            resultsList[line[2]]['numVotes'] += 1\n",
    "\n",
    "    resultsSummary = ['Total Votes: ' + str(totalVotes) + '\\n']            \n",
    "    \n",
    "    for candidate in resultsList.keys():\n",
    "        resultsList[candidate]['percentVotes'] = int(resultsList[candidate]['numVotes'] / totalVotes * 100)\n",
    "        if resultsList[candidate]['numVotes'] > winner['votes']:\n",
    "            winner['name'] = candidate\n",
    "            winner['votes'] = resultsList[candidate]['numVotes']\n",
    "        resultsSummary.append(\\\n",
    "            candidate + ': ' + \\\n",
    "            \"{:.3f}\".format(resultsList[candidate]['percentVotes']) + '% (' + \\\n",
    "            str(resultsList[candidate]['numVotes']) + ') ')\n",
    "\n",
    "    resultsSummary.append('\\nWinner: ' + winner['name'])    \n",
    "    \n",
    "    with open(writeFile, mode='w') as txtFile:\n",
    "        txtFile.writelines(resultsSummary)\n",
    "\n",
    "    with open(writeFile, mode='r') as txtFile:\n",
    "        print(txtFile.read())"
   ]
  },
  {
   "cell_type": "code",
   "execution_count": 131,
   "metadata": {},
   "outputs": [
    {
     "name": "stdout",
     "output_type": "stream",
     "text": [
      " pi = 3.14\n"
     ]
    }
   ],
   "source": [
    "pi = 3.14159\n",
    "print(\" pi = {:.2f}\".format( pi ))"
   ]
  },
  {
   "cell_type": "code",
   "execution_count": null,
   "metadata": {},
   "outputs": [],
   "source": []
  }
 ],
 "metadata": {
  "kernelspec": {
   "display_name": "Python 3",
   "language": "python",
   "name": "python3"
  },
  "language_info": {
   "codemirror_mode": {
    "name": "ipython",
    "version": 3
   },
   "file_extension": ".py",
   "mimetype": "text/x-python",
   "name": "python",
   "nbconvert_exporter": "python",
   "pygments_lexer": "ipython3",
   "version": "3.7.3"
  }
 },
 "nbformat": 4,
 "nbformat_minor": 4
}
