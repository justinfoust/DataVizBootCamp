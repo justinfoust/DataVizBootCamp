{
 "cells": [
  {
   "cell_type": "markdown",
   "metadata": {},
   "source": [
    "# 03 -- Python -- HW -- PyBoss"
   ]
  },
  {
   "cell_type": "markdown",
   "metadata": {},
   "source": [
    "### Name column shoul dbe split into two separate columns for first and last names"
   ]
  },
  {
   "cell_type": "code",
   "execution_count": null,
   "metadata": {},
   "outputs": [],
   "source": [
    "import os\n",
    "import csv\n",
    "\n",
    "dataFilePath = os.path.join('employee_data.csv')\n",
    "\n",
    "with open(dataFilePath, mode='r') as csvFile:\n",
    "    csvReader = csv.reader(csvFile, delimiter=',')\n",
    "    \n",
    "    next(csvReader)\n",
    "    resultsList = ['Emp, First Name, Last Name, DOB, SSN, State']\n",
    "    \n",
    "    for line in csvReader:\n",
    "        resultsList.append(line[0] + ', ' + \\\n",
    "        line[1].split(' ')[0] + ', ' + \\\n",
    "        line[1].split(' ')[1])\n",
    "        \n",
    "    for employee in resultsList:\n",
    "        print(employee)"
   ]
  },
  {
   "cell_type": "markdown",
   "metadata": {},
   "source": [
    "### DOB data should be in MM/DD/YYYY format"
   ]
  },
  {
   "cell_type": "code",
   "execution_count": null,
   "metadata": {},
   "outputs": [],
   "source": [
    "import os\n",
    "import csv\n",
    "\n",
    "dataFilePath = os.path.join('employee_data.csv')\n",
    "\n",
    "with open(dataFilePath, mode='r') as csvFile:\n",
    "    csvReader = csv.reader(csvFile, delimiter=',')\n",
    "    \n",
    "    next(csvReader)\n",
    "    resultsList = ['Emp, First Name, Last Name, DOB, SSN, State']\n",
    "    \n",
    "    for line in csvReader:\n",
    "        resultsList.append(line[0] + ', ' + \\\n",
    "        line[1].split(' ')[0] + ', ' + \\\n",
    "        line[1].split(' ')[1] + ', ' + \\\n",
    "        line[2].split('-')[1] + '/' + line[2].split('-')[2] + '/' + line[2].split('-')[0] \\\n",
    "    )\n",
    "        \n",
    "    for employee in resultsList:\n",
    "        print(employee)"
   ]
  },
  {
   "cell_type": "markdown",
   "metadata": {},
   "source": [
    "### SSN data should be re-written so first 5 digits are '#'"
   ]
  },
  {
   "cell_type": "code",
   "execution_count": null,
   "metadata": {},
   "outputs": [],
   "source": [
    "import os\n",
    "import csv\n",
    "\n",
    "dataFilePath = os.path.join('employee_data.csv')\n",
    "\n",
    "resultsList = [['Emp', 'First Name', 'Last Name', 'DOB', 'SSN', 'State']]\n",
    "\n",
    "with open(dataFilePath, mode='r') as csvFile:\n",
    "    csvReader = csv.reader(csvFile, delimiter=',')\n",
    "    \n",
    "    next(csvReader)\n",
    "    resultsList[0] = ['Emp, First Name, Last Name, DOB, SSN, State']\n",
    "    \n",
    "    for line in csvReader:\n",
    "        resultsRow = []\n",
    "        resultsRow.append(line[0])\n",
    "        resultsRow.append(line[1].split(' ')[0])\n",
    "        resultsRow.append(line[1].split(' ')[1])\n",
    "        resultsRow.append(line[2].split('-')[1] + '/' + line[2].split('-')[2] + '/' + line[2].split('-')[0])\n",
    "        resultsRow.append('###-##-' + line[3].split('-')[2])\n",
    "        resultsList.append(resultsRow)\n",
    "    \n",
    "    #print(resultsList)\n",
    "    \n",
    "    for line in resultsList:\n",
    "        print(line)"
   ]
  },
  {
   "cell_type": "markdown",
   "metadata": {},
   "source": [
    "### State data should be re-written as abbreviations"
   ]
  },
  {
   "cell_type": "code",
   "execution_count": null,
   "metadata": {},
   "outputs": [],
   "source": [
    "import os\n",
    "import csv\n",
    "\n",
    "dataFilePath = os.path.join('employee_data.csv')\n",
    "writeFilePath = os.path.join('employee_data_converted.csv')\n",
    "\n",
    "us_state_abbrev = {\n",
    "    'Alabama': 'AL',\n",
    "    'Alaska': 'AK',\n",
    "    'Arizona': 'AZ',\n",
    "    'Arkansas': 'AR',\n",
    "    'California': 'CA',\n",
    "    'Colorado': 'CO',\n",
    "    'Connecticut': 'CT',\n",
    "    'Delaware': 'DE',\n",
    "    'Florida': 'FL',\n",
    "    'Georgia': 'GA',\n",
    "    'Hawaii': 'HI',\n",
    "    'Idaho': 'ID',\n",
    "    'Illinois': 'IL',\n",
    "    'Indiana': 'IN',\n",
    "    'Iowa': 'IA',\n",
    "    'Kansas': 'KS',\n",
    "    'Kentucky': 'KY',\n",
    "    'Louisiana': 'LA',\n",
    "    'Maine': 'ME',\n",
    "    'Maryland': 'MD',\n",
    "    'Massachusetts': 'MA',\n",
    "    'Michigan': 'MI',\n",
    "    'Minnesota': 'MN',\n",
    "    'Mississippi': 'MS',\n",
    "    'Missouri': 'MO',\n",
    "    'Montana': 'MT',\n",
    "    'Nebraska': 'NE',\n",
    "    'Nevada': 'NV',\n",
    "    'New Hampshire': 'NH',\n",
    "    'New Jersey': 'NJ',\n",
    "    'New Mexico': 'NM',\n",
    "    'New York': 'NY',\n",
    "    'North Carolina': 'NC',\n",
    "    'North Dakota': 'ND',\n",
    "    'Ohio': 'OH',\n",
    "    'Oklahoma': 'OK',\n",
    "    'Oregon': 'OR',\n",
    "    'Pennsylvania': 'PA',\n",
    "    'Rhode Island': 'RI',\n",
    "    'South Carolina': 'SC',\n",
    "    'South Dakota': 'SD',\n",
    "    'Tennessee': 'TN',\n",
    "    'Texas': 'TX',\n",
    "    'Utah': 'UT',\n",
    "    'Vermont': 'VT',\n",
    "    'Virginia': 'VA',\n",
    "    'Washington': 'WA',\n",
    "    'West Virginia': 'WV',\n",
    "    'Wisconsin': 'WI',\n",
    "    'Wyoming': 'WY',\n",
    "}\n",
    "\n",
    "resultsList = [['Emp', 'First Name', 'Last Name', 'DOB', 'SSN', 'State']]\n",
    "\n",
    "with open(dataFilePath, mode='r') as csvFile:\n",
    "    csvReader = csv.reader(csvFile, delimiter=',')\n",
    "    \n",
    "    next(csvReader)\n",
    "    \n",
    "    for line in csvReader:\n",
    "        resultsRow = []\n",
    "        resultsRow.append(line[0])\n",
    "        resultsRow.append(line[1].split(' ')[0])\n",
    "        resultsRow.append(line[1].split(' ')[1])\n",
    "        resultsRow.append(line[2].split('-')[1] + '/' + line[2].split('-')[2] + '/' + line[2].split('-')[0])\n",
    "        resultsRow.append('###-##-' + line[3].split('-')[2])\n",
    "        resultsRow.append(us_state_abbrev[line[4]])\n",
    "        resultsList.append(resultsRow)\n",
    "\n",
    "        \n",
    "with open(writeFilePath, 'w', newline='') as csvFile:\n",
    "    csvWriter = csv.writer(csvFile)\n",
    "    csvWriter.writerows(resultsList)\n",
    "        \n",
    "with open(writeFilePath, mode='r') as csvFile:\n",
    "    csvReader = csv.reader(csvFile, delimiter=',')\n",
    "    for line in csvReader:\n",
    "        print(line)"
   ]
  },
  {
   "cell_type": "code",
   "execution_count": null,
   "metadata": {},
   "outputs": [],
   "source": []
  }
 ],
 "metadata": {
  "kernelspec": {
   "display_name": "Python 3",
   "language": "python",
   "name": "python3"
  },
  "language_info": {
   "codemirror_mode": {
    "name": "ipython",
    "version": 3
   },
   "file_extension": ".py",
   "mimetype": "text/x-python",
   "name": "python",
   "nbconvert_exporter": "python",
   "pygments_lexer": "ipython3",
   "version": "3.7.3"
  }
 },
 "nbformat": 4,
 "nbformat_minor": 4
}
