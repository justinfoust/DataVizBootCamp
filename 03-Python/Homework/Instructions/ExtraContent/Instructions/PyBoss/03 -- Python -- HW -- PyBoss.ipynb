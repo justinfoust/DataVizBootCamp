{
 "cells": [
  {
   "cell_type": "markdown",
   "metadata": {},
   "source": [
    "# 03 -- Python -- HW -- PyBoss"
   ]
  },
  {
   "cell_type": "markdown",
   "metadata": {},
   "source": [
    "### Name column shoul dbe split into two separate columns for first and last names"
   ]
  },
  {
   "cell_type": "code",
   "execution_count": null,
   "metadata": {},
   "outputs": [],
   "source": [
    "import os\n",
    "import csv\n",
    "\n",
    "dataFilePath = os.path.join('employee_data.csv')\n",
    "\n",
    "with open(dataFilePath, mode='r') as csvFile:\n",
    "    csvReader = csv.reader(csvFile, delimiter=',')\n",
    "    \n",
    "    next(csvReader)\n",
    "    resultsList = ['Emp, First Name, Last Name, DOB, SSN, State']\n",
    "    \n",
    "    for line in csvReader:\n",
    "        resultsList.append(line[0] + ', ' + \\\n",
    "        line[1].split(' ')[0] + ', ' + \\\n",
    "        line[1].split(' ')[1])\n",
    "        \n",
    "    for employee in resultsList:\n",
    "        print(employee)"
   ]
  },
  {
   "cell_type": "markdown",
   "metadata": {},
   "source": [
    "### DOB data should be in MM/DD/YYYY format"
   ]
  },
  {
   "cell_type": "code",
   "execution_count": 2,
   "metadata": {},
   "outputs": [],
   "source": [
    "import os\n",
    "import csv\n",
    "\n",
    "dataFilePath = os.path.join('employee_data.csv')\n",
    "\n",
    "with open(dataFilePath, mode='r') as csvFile:\n",
    "    csvReader = csv.reader(csvFile, delimiter=',')\n",
    "    \n",
    "    next(csvReader)\n",
    "    resultsList = ['Emp, First Name, Last Name, DOB, SSN, State']\n",
    "    \n",
    "    for line in csvReader:\n",
    "        resultsList.append(line[0] + ', ' + \\\n",
    "        line[1].split(' ')[0] + ', ' + \\\n",
    "        line[1].split(' ')[1] + ', ' + \\\n",
    "        line[2].split('-')[1] + '/' + line[2].split('-')[2] + '/' + line[2].split('-')[0] \\\n",
    "    )\n",
    "        \n",
    "    for employee in resultsList:\n",
    "        print(employee)"
   ]
  },
  {
   "cell_type": "markdown",
   "metadata": {},
   "source": [
    "### SSN data should be re-written so first 5 digits are '#'"
   ]
  },
  {
   "cell_type": "code",
   "execution_count": null,
   "metadata": {},
   "outputs": [],
   "source": []
  },
  {
   "cell_type": "markdown",
   "metadata": {},
   "source": [
    "### State data should be re-written as abbreviations"
   ]
  },
  {
   "cell_type": "code",
   "execution_count": null,
   "metadata": {},
   "outputs": [],
   "source": []
  }
 ],
 "metadata": {
  "kernelspec": {
   "display_name": "Python 3",
   "language": "python",
   "name": "python3"
  },
  "language_info": {
   "codemirror_mode": {
    "name": "ipython",
    "version": 3
   },
   "file_extension": ".py",
   "mimetype": "text/x-python",
   "name": "python",
   "nbconvert_exporter": "python",
   "pygments_lexer": "ipython3",
   "version": "3.7.3"
  }
 },
 "nbformat": 4,
 "nbformat_minor": 4
}
