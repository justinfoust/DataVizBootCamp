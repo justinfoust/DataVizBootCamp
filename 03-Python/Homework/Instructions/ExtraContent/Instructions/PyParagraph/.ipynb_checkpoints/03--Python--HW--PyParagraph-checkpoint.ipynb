{
 "cells": [
  {
   "cell_type": "markdown",
   "metadata": {},
   "source": [
    "# 03 -- Python -- HW -- PyParagraph"
   ]
  },
  {
   "cell_type": "markdown",
   "metadata": {},
   "source": [
    "### Approximate word count"
   ]
  },
  {
   "cell_type": "code",
   "execution_count": null,
   "metadata": {},
   "outputs": [],
   "source": [
    "import os   #file pointing functions\n",
    "import re   #RegEx functionality\n",
    "\n",
    "readFilePath = os.path.join('raw_data','paragraph_1.txt')   #Path to text file to analyze\n",
    "\n",
    "wordCount = 0   #Set initial word count\n",
    "\n",
    "with open(readFilePath, 'r') as txtFile:   #Open file and set it as 'txtFile' variable\n",
    "    paragraph = txtFile.read()   #Set contents of opened file as 'paragraph'\n",
    "    \n",
    "    wordPattern = re.compile(r'\\w+', flags=re.A)   #Set variable 'wordPattern' as RegEx search pattern looking for 1 or more non-white space characters\n",
    "    \n",
    "    for string in re.split(r' +', paragraph):   #Split contents of file when encountering 1 or more spaces\n",
    "        if wordPattern.search(string):  #If search pattern is encountered...\n",
    "            wordCount += 1   #...increment word count by 1\n",
    "    print(wordCount)   #print word count\n"
   ]
  },
  {
   "cell_type": "markdown",
   "metadata": {},
   "source": [
    "### Approximate sentence count"
   ]
  },
  {
   "cell_type": "code",
   "execution_count": null,
   "metadata": {},
   "outputs": [],
   "source": [
    "import os   #file pointing functions\n",
    "import re   #RegEx functionality\n",
    "\n",
    "readFilePath = os.path.join('raw_data','paragraph_1.txt')   #Path to text file to analyze\n",
    "\n",
    "wordCount = 0   #Set initial word count\n",
    "sentenceCount = 0   #Set initial sentence count\n",
    "\n",
    "with open(readFilePath, 'r') as txtFile:   #Open file and set it as 'txtFile' variable\n",
    "    paragraph = txtFile.read()   #Set contents of opened file as 'paragraph'\n",
    "    \n",
    "    wordPattern = re.compile(r'\\w+')   #Set variable 'wordPattern' as RegEx search pattern looking for 1 or more non-white-space characters\n",
    "    sentencePattern = re.compile(r'\\.')   #Set variable 'sentencePattern' as RegEx search pattern looking for . followed by 1 or more space characters\n",
    "    \n",
    "    for string in re.split(r' +', paragraph):   #Split contents of file when encountering 1 or more spaces\n",
    "        if wordPattern.search(string):  #If search pattern is encountered...\n",
    "            wordCount += 1   #...increment word count by 1\n",
    "    print(f'Word Count:  {wordCount}')   #print word count\n",
    "    \n",
    "    print(f'Sentence Count:  {len(sentencePattern.findall(paragraph))}')   #Find all sentecePattern matches, return into tuple, and print the length of it\n",
    "    \n",
    "        \n"
   ]
  },
  {
   "cell_type": "markdown",
   "metadata": {},
   "source": [
    "### Approximate letter count (per word)"
   ]
  },
  {
   "cell_type": "code",
   "execution_count": null,
   "metadata": {},
   "outputs": [],
   "source": [
    "import os   #file pointing functions\n",
    "import re   #RegEx functionality\n",
    "from statistics import mean  #statistical func\n",
    "\n",
    "readFilePath = os.path.join('raw_data','paragraph_1.txt')   #Path to text file to analyze\n",
    "\n",
    "wordCount = 0   #Set initial word count\n",
    "sentenceCount = 0   #Set initial sentence count\n",
    "charNum = []   #Create array to hold letter count of each word encountered\n",
    "\n",
    "with open(readFilePath, 'r') as txtFile:   #Open file and set it as 'txtFile' variable\n",
    "    paragraph = txtFile.read()   #Set contents of opened file as 'paragraph'\n",
    "    \n",
    "    wordPattern = re.compile(r'\\w+')   #Set variable 'wordPattern' as RegEx search pattern looking for 1 or more non-white-space characters\n",
    "    sentencePattern = re.compile(r'\\.')   #Set variable 'sentencePattern' as RegEx search pattern looking for . followed by 1 or more space characters\n",
    "    characterPattern = re.compile(r'\\w')   #Set variable 'characterPattern' as RegEx search for single non-white-space character\n",
    "    \n",
    "    for string in re.split(r' +', paragraph):   #Split contents of file when encountering 1 or more spaces\n",
    "        if wordPattern.search(string):  #If one or more non-white-space characters are encountered...\n",
    "            wordCount += 1   #...increment word count by 1\n",
    "            charNum.append(len(characterPattern.findall(string)))   #Find all non-white-space characters in word, return into tuple, and append tuple length into array\n",
    "    \n",
    "    print(f'Average Characters per Word:  {round(mean(charNum))}')   #Print rounded average of character counts per word\n",
    "    \n",
    "    print(f'Word Count:  {wordCount}')   #print word count\n",
    "    \n",
    "    print(f'Sentence Count:  {len(sentencePattern.findall(paragraph))}')   #Find all sentecePattern matches, return into tuple, and print the length of it\n",
    "    \n",
    "        \n"
   ]
  },
  {
   "cell_type": "markdown",
   "metadata": {},
   "source": [
    "### Average sentence length (in words)"
   ]
  },
  {
   "cell_type": "code",
   "execution_count": 198,
   "metadata": {},
   "outputs": [
    {
     "name": "stdout",
     "output_type": "stream",
     "text": [
      "Word Count:  276\n",
      "Sentence Count:  10\n",
      "Average Characters per Word:  5\n",
      "Average Words per Sentence:  29\n"
     ]
    }
   ],
   "source": [
    "import os   #file pointing functions\n",
    "import re   #RegEx functionality\n",
    "from statistics import mean  #statistical func\n",
    "\n",
    "readFilePath = os.path.join('raw_data','paragraph_2.txt')   #Path to text file to analyze\n",
    "\n",
    "wordCount = 0   #Set initial word count\n",
    "sentenceCount = 0   #Set initial sentence count\n",
    "wordCharCounts = []   #Create array to hold letter count of each word encountered\n",
    "sentenceWordCounts = []   #Create array to hold word count for each sentence encountered\n",
    "\n",
    "\n",
    "with open(readFilePath, 'r') as txtFile:   #Open file and set it as 'txtFile' variable\n",
    "    paragraph = txtFile.read()   #Set contents of opened file as 'paragraph'\n",
    "    \n",
    "    wordPattern = re.compile(r'\\w+')   #Set variable 'wordPattern' as RegEx search pattern looking for 1 or more non-whitespace characters\n",
    "    sentencePattern = re.compile(r'(?<=[a-z][.!?])\\W+')   #Set variable 'sentencePattern' as RegEx search pattern looking for lowercase letter followed by either [. ! ?] followed by 1 or more whitespace characters\n",
    "    characterPattern = re.compile(r'\\w')   #Set variable 'characterPattern' as RegEx search for single non-whitespace character\n",
    "    \n",
    "    for string in re.split(r' +', paragraph):   #Split contents of file when encountering 1 or more spaces\n",
    "        if wordPattern.search(string):  #If one or more non-whitespace characters are encountered...\n",
    "            wordCount += 1   #...increment word count by 1\n",
    "            wordCharCounts.append(len(characterPattern.findall(string)))   #Find all non-whitespace characters in word, return into tuple, and append tuple length into array\n",
    "    \n",
    "    for string in re.split(sentencePattern, paragraph):   #Split contents of file when either [. ! ?] followed by one or more spaces is encounterd\n",
    "        sentenceCount += 1   #Increment sentence count by 1\n",
    "        sentenceWordCounts.append(len(wordPattern.findall(string)))   #Find all strings of non-whitespace characters, return into tuple, and append tuple length into array\n",
    "    \n",
    "    print(f'Word Count:  {wordCount}')   #print word count\n",
    "    \n",
    "    print(f'Sentence Count:  {sentenceCount}')   #print sentence count\n",
    "    \n",
    "    print(f'Average Characters per Word:  {round(mean(wordCharCounts))}')   #Print rounded average of character counts per word\n",
    "    \n",
    "    print(f'Average Words per Sentence:  {round(mean(sentenceWordCounts))}')   #Print the rounded average of words per sentence\n",
    "        \n"
   ]
  },
  {
   "cell_type": "code",
   "execution_count": null,
   "metadata": {},
   "outputs": [],
   "source": []
  },
  {
   "cell_type": "code",
   "execution_count": null,
   "metadata": {},
   "outputs": [],
   "source": []
  },
  {
   "cell_type": "code",
   "execution_count": null,
   "metadata": {},
   "outputs": [],
   "source": []
  },
  {
   "cell_type": "code",
   "execution_count": null,
   "metadata": {},
   "outputs": [],
   "source": []
  },
  {
   "cell_type": "code",
   "execution_count": 29,
   "metadata": {},
   "outputs": [
    {
     "name": "stdout",
     "output_type": "stream",
     "text": [
      "pport@dbc.c\n",
      "ort\n",
      "dbc.c\n"
     ]
    }
   ],
   "source": [
    "emailAddress = 'Please contact us at: support@dbc.com'\n",
    "match = re.search(r'..(...)@(.{3,5})+', emailAddress)\n",
    "\n",
    "print(match.group())\n",
    "print(match.group(1))\n",
    "print(match.group(2))"
   ]
  },
  {
   "cell_type": "code",
   "execution_count": 36,
   "metadata": {},
   "outputs": [
    {
     "data": {
      "text/plain": [
       "'<h1>'"
      ]
     },
     "execution_count": 36,
     "metadata": {},
     "output_type": "execute_result"
    }
   ],
   "source": [
    "heading = r'<h1>TITLE</h1>'\n",
    "re.match(r'<.*?>', heading).group()"
   ]
  },
  {
   "cell_type": "code",
   "execution_count": 134,
   "metadata": {},
   "outputs": [
    {
     "name": "stdout",
     "output_type": "stream",
     "text": [
      "support@dbc.adb.com\n",
      "None\n",
      "support@dbc.adb.com\n"
     ]
    }
   ],
   "source": [
    "emailAddress = 'Please contact us at: <support@dbc.adb.com'\n",
    "match = re.search(r'(?P<foo>..)?(\\w+@\\w+(?:\\.\\w+)+)(?(1)>|$)', emailAddress)\n",
    "\n",
    "print(match.group(0))\n",
    "print(match.group(1))\n",
    "print(match.group(2))\n",
    "#print(match.group(3))"
   ]
  },
  {
   "cell_type": "code",
   "execution_count": 189,
   "metadata": {},
   "outputs": [
    {
     "name": "stdout",
     "output_type": "stream",
     "text": [
      "aa\n"
     ]
    }
   ],
   "source": [
    "bar = re.sub(r'([AC])(.)','a','ABCD')\n",
    "print(bar)"
   ]
  }
 ],
 "metadata": {
  "kernelspec": {
   "display_name": "Python 3",
   "language": "python",
   "name": "python3"
  },
  "language_info": {
   "codemirror_mode": {
    "name": "ipython",
    "version": 3
   },
   "file_extension": ".py",
   "mimetype": "text/x-python",
   "name": "python",
   "nbconvert_exporter": "python",
   "pygments_lexer": "ipython3",
   "version": "3.7.3"
  }
 },
 "nbformat": 4,
 "nbformat_minor": 4
}
