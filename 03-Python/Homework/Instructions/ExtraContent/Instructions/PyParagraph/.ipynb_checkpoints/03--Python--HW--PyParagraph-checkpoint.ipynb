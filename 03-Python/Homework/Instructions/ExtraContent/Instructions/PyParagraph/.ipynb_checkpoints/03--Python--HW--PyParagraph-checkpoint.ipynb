{
 "cells": [
  {
   "cell_type": "markdown",
   "metadata": {},
   "source": [
    "# 03 -- Python -- HW -- PyParagraph"
   ]
  },
  {
   "cell_type": "markdown",
   "metadata": {},
   "source": [
    "### Approximate word count"
   ]
  },
  {
   "cell_type": "code",
   "execution_count": 23,
   "metadata": {},
   "outputs": [
    {
     "name": "stdout",
     "output_type": "stream",
     "text": [
      "130\n"
     ]
    }
   ],
   "source": [
    "import os   #file pointing functions\n",
    "import re   #RegEx functionality\n",
    "\n",
    "readFilePath = os.path.join('raw_data','paragraph_1.txt')   #Path to text file to analyze\n",
    "\n",
    "wordCount = 0   #Set initial word count\n",
    "\n",
    "with open(readFilePath, 'r') as txtFile:   #Open file and set it as 'txtFile' variable\n",
    "    paragraph = txtFile.read()   #Set contents of opened file as 'paragraph'\n",
    "    \n",
    "    wordPattern = re.compile(r'\\w+', flags=re.A)   #Set variable 'wordPattern' as RegEx search pattern looking for 1 or more non-white space characters\n",
    "    \n",
    "    for string in re.split(r' +', paragraph):   #Split contents of file when encountering 1 or more spaces\n",
    "        if wordPattern.search(string):  #If search pattern is encountered...\n",
    "            wordCount += 1   #...increment word count by 1\n",
    "    print(wordCount)   #print word count\n"
   ]
  },
  {
   "cell_type": "markdown",
   "metadata": {},
   "source": [
    "### Approximate sentence count"
   ]
  },
  {
   "cell_type": "code",
   "execution_count": 40,
   "metadata": {},
   "outputs": [
    {
     "name": "stdout",
     "output_type": "stream",
     "text": [
      "Word Count:  130\n",
      "Sentence Count:  5\n"
     ]
    }
   ],
   "source": [
    "import os   #file pointing functions\n",
    "import re   #RegEx functionality\n",
    "\n",
    "readFilePath = os.path.join('raw_data','paragraph_1.txt')   #Path to text file to analyze\n",
    "\n",
    "wordCount = 0   #Set initial word count\n",
    "sentenceCount = 0   #Set initial sentence count\n",
    "\n",
    "with open(readFilePath, 'r') as txtFile:   #Open file and set it as 'txtFile' variable\n",
    "    paragraph = txtFile.read()   #Set contents of opened file as 'paragraph'\n",
    "    \n",
    "    wordPattern = re.compile(r'\\w+')   #Set variable 'wordPattern' as RegEx search pattern looking for 1 or more non-white-space characters\n",
    "    sentencePattern = re.compile(r'\\.')   #Set variable 'sentencePattern' as RegEx search pattern looking for . followed by 1 or more space characters\n",
    "    \n",
    "    for string in re.split(r' +', paragraph):   #Split contents of file when encountering 1 or more spaces\n",
    "        if wordPattern.search(string):  #If search pattern is encountered...\n",
    "            wordCount += 1   #...increment word count by 1\n",
    "    print(f'Word Count:  {wordCount}')   #print word count\n",
    "    \n",
    "    print(f'Sentence Count:  {len(sentencePattern.findall(paragraph))}')   #Find all sentecePattern matches, return into tuple, and print the length of it\n",
    "    \n",
    "        \n"
   ]
  },
  {
   "cell_type": "markdown",
   "metadata": {},
   "source": [
    "### Approximate letter count (per word)"
   ]
  },
  {
   "cell_type": "code",
   "execution_count": 47,
   "metadata": {},
   "outputs": [
    {
     "name": "stdout",
     "output_type": "stream",
     "text": [
      "Average Characters per Word:  6\n",
      "Word Count:  130\n",
      "Sentence Count:  5\n"
     ]
    }
   ],
   "source": [
    "import os   #file pointing functions\n",
    "import re   #RegEx functionality\n",
    "from statistics import mean  #statistical func\n",
    "\n",
    "readFilePath = os.path.join('raw_data','paragraph_1.txt')   #Path to text file to analyze\n",
    "\n",
    "wordCount = 0   #Set initial word count\n",
    "sentenceCount = 0   #Set initial sentence count\n",
    "charNum = []   #Create array to hold letter count of each word encountered\n",
    "\n",
    "with open(readFilePath, 'r') as txtFile:   #Open file and set it as 'txtFile' variable\n",
    "    paragraph = txtFile.read()   #Set contents of opened file as 'paragraph'\n",
    "    \n",
    "    wordPattern = re.compile(r'\\w+')   #Set variable 'wordPattern' as RegEx search pattern looking for 1 or more non-white-space characters\n",
    "    sentencePattern = re.compile(r'\\.')   #Set variable 'sentencePattern' as RegEx search pattern looking for . followed by 1 or more space characters\n",
    "    characterPattern = re.compile(r'\\w')   #Set variable 'characterPattern' as RegEx search for single non-white-space character\n",
    "    \n",
    "    for string in re.split(r' +', paragraph):   #Split contents of file when encountering 1 or more spaces\n",
    "        if wordPattern.search(string):  #If one or more non-white-space characters are encountered...\n",
    "            wordCount += 1   #...increment word count by 1\n",
    "            charNum.append(len(characterPattern.findall(string)))   #Find all non-white-space characters in word, return into tuple, and append tuple length into array\n",
    "    \n",
    "    print(f'Average Characters per Word:  {round(mean(charNum))}')   #Print rounded average of character counts per word\n",
    "    \n",
    "    print(f'Word Count:  {wordCount}')   #print word count\n",
    "    \n",
    "    print(f'Sentence Count:  {len(sentencePattern.findall(paragraph))}')   #Find all sentecePattern matches, return into tuple, and print the length of it\n",
    "    \n",
    "        \n"
   ]
  },
  {
   "cell_type": "markdown",
   "metadata": {},
   "source": [
    "### Average sentence length (in words)"
   ]
  },
  {
   "cell_type": "code",
   "execution_count": 99,
   "metadata": {},
   "outputs": [
    {
     "name": "stdout",
     "output_type": "stream",
     "text": [
      "Word Count:  130\n",
      "Sentence Count:  4\n",
      "Average Characters per Word:  6\n",
      "Average Words per Sentence:  27\n"
     ]
    }
   ],
   "source": [
    "import os   #file pointing functions\n",
    "import re   #RegEx functionality\n",
    "from statistics import mean  #statistical func\n",
    "\n",
    "readFilePath = os.path.join('raw_data','paragraph_1.txt')   #Path to text file to analyze\n",
    "\n",
    "wordCount = 0   #Set initial word count\n",
    "sentenceCount = 0   #Set initial sentence count\n",
    "wordCharCounts = []   #Create array to hold letter count of each word encountered\n",
    "sentenceWordCounts = []   #Create array to hold word count for each sentence encountered\n",
    "\n",
    "\n",
    "with open(readFilePath, 'r') as txtFile:   #Open file and set it as 'txtFile' variable\n",
    "    paragraph = txtFile.read()   #Set contents of opened file as 'paragraph'\n",
    "    \n",
    "    wordPattern = re.compile(r'\\w+')   #Set variable 'wordPattern' as RegEx search pattern looking for 1 or more non-whitespace characters\n",
    "    sentencePattern = re.compile(r'(?<=[.!?])\\W+')   #Set variable 'sentencePattern' as RegEx search pattern looking for either [. ! ?] followed by 1 or more \n",
    "    characterPattern = re.compile(r'\\w')   #Set variable 'characterPattern' as RegEx search for single non-whitespace character\n",
    "    \n",
    "    for string in re.split(r' +', paragraph):   #Split contents of file when encountering 1 or more spaces\n",
    "        if wordPattern.search(string):  #If one or more non-whitespace characters are encountered...\n",
    "            wordCount += 1   #...increment word count by 1\n",
    "            wordCharCounts.append(len(characterPattern.findall(string)))   #Find all non-whitespace characters in word, return into tuple, and append tuple length into array\n",
    "    \n",
    "    for string in re.split(sentencePattern, paragraph):   #Split contents of file when either [. ! ?] followed by one or more spaces is encounterd\n",
    "        sentenceWordCounts.append(len(wordPattern.findall(string)))   #Find all strings of non-whitespace characters, return into tuple, and append tuple length into array\n",
    "    \n",
    "    print(f'Word Count:  {wordCount}')   #print word count\n",
    "    \n",
    "    print(f'Sentence Count:  {len(sentencePattern.findall(paragraph))}')   #Find all sentecePattern matches, return into tuple, and print the length of it\n",
    "        \n",
    "    print(f'Average Characters per Word:  {round(mean(wordCharCounts))}')   #Print rounded average of character counts per word\n",
    "    \n",
    "    print(f'Average Words per Sentence:  {round(mean(sentenceWordCounts))}')   #Print the rounded average of words per sentence\n",
    "        \n"
   ]
  },
  {
   "cell_type": "code",
   "execution_count": null,
   "metadata": {},
   "outputs": [],
   "source": []
  }
 ],
 "metadata": {
  "kernelspec": {
   "display_name": "Python 3",
   "language": "python",
   "name": "python3"
  },
  "language_info": {
   "codemirror_mode": {
    "name": "ipython",
    "version": 3
   },
   "file_extension": ".py",
   "mimetype": "text/x-python",
   "name": "python",
   "nbconvert_exporter": "python",
   "pygments_lexer": "ipython3",
   "version": "3.7.3"
  }
 },
 "nbformat": 4,
 "nbformat_minor": 4
}
