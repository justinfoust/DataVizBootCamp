{
 "cells": [
  {
   "cell_type": "markdown",
   "metadata": {},
   "source": [
    "# 03 -- Python -- HW -- PyParagraph"
   ]
  },
  {
   "cell_type": "markdown",
   "metadata": {},
   "source": [
    "### Approximate word count"
   ]
  },
  {
   "cell_type": "code",
   "execution_count": 87,
   "metadata": {},
   "outputs": [
    {
     "name": "stdout",
     "output_type": "stream",
     "text": [
      ",\n",
      "disease,\n",
      ".\n",
      "unknown.\n",
      "-\n",
      "high-throughput\n",
      "(\n",
      "(CRISPR)\n",
      "(\n",
      "(CRISPRi)\n",
      ".\n",
      "genes.\n",
      ">\n",
      ">1\n",
      ",\n",
      "factors,\n",
      ",\n",
      "GATA1,\n",
      ".\n",
      "proliferation.\n",
      ",\n",
      "not,\n",
      "â€“\n",
      "enhancerâ€“promoter\n",
      ".\n",
      "connectivity.\n",
      "-\n",
      "CRISPRi-based\n",
      ".\n",
      "disease.\n"
     ]
    }
   ],
   "source": [
    "import os\n",
    "import re\n",
    "\n",
    "readFilePath = os.path.join('raw_data','paragraph_1.txt')\n",
    "\n",
    "wordCount = 1\n",
    "\n",
    "with open(readFilePath, 'r') as txtFile:\n",
    "    paragraph = txtFile.read()\n",
    "    \n",
    "    prog = re.compile(r'\\W+', flags=re.A)\n",
    "    \n",
    "    for string in re.split(r' +', paragraph):\n",
    "        if prog.search(string):\n",
    "            string2 = prog.sub(string)\n",
    "            print(string2.group(0))\n",
    "            print(string)\n"
   ]
  },
  {
   "cell_type": "markdown",
   "metadata": {},
   "source": [
    "### Approximate sentence count"
   ]
  },
  {
   "cell_type": "code",
   "execution_count": null,
   "metadata": {},
   "outputs": [],
   "source": []
  },
  {
   "cell_type": "markdown",
   "metadata": {},
   "source": [
    "### Approximate letter count (per word)"
   ]
  },
  {
   "cell_type": "code",
   "execution_count": null,
   "metadata": {},
   "outputs": [],
   "source": []
  },
  {
   "cell_type": "markdown",
   "metadata": {},
   "source": [
    "### Average sentence length (in words)"
   ]
  },
  {
   "cell_type": "code",
   "execution_count": null,
   "metadata": {},
   "outputs": [],
   "source": []
  }
 ],
 "metadata": {
  "kernelspec": {
   "display_name": "Python 3",
   "language": "python",
   "name": "python3"
  },
  "language_info": {
   "codemirror_mode": {
    "name": "ipython",
    "version": 3
   },
   "file_extension": ".py",
   "mimetype": "text/x-python",
   "name": "python",
   "nbconvert_exporter": "python",
   "pygments_lexer": "ipython3",
   "version": "3.7.3"
  }
 },
 "nbformat": 4,
 "nbformat_minor": 4
}
