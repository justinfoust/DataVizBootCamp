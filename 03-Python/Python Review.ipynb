{
 "cells": [
  {
   "cell_type": "markdown",
   "metadata": {},
   "source": [
    "# Python Quick Review"
   ]
  },
  {
   "cell_type": "code",
   "execution_count": 1,
   "metadata": {},
   "outputs": [
    {
     "name": "stdout",
     "output_type": "stream",
     "text": [
      "['L', 'o', 's', ' ', 'A', 'n', 'g', 'e', 'l', 'e', 's']\n"
     ]
    }
   ],
   "source": [
    "city = \"Los Angeles\"\n",
    "\n",
    "charactes = [x for x in city]\n",
    "print(charactes)"
   ]
  },
  {
   "cell_type": "code",
   "execution_count": 4,
   "metadata": {},
   "outputs": [
    {
     "name": "stdout",
     "output_type": "stream",
     "text": [
      "Max = 15\n",
      "Min = 6\n",
      "Sum = 128\n",
      "Count = 12\n",
      "Average = 10.67\n"
     ]
    }
   ],
   "source": [
    "grades = [12, 10, 11, 15, 8, 9, 10, 7, 14, 15, 11, 6]\n",
    "\n",
    "print(f'Max = {max(grades)}')\n",
    "print(f'Min = {min(grades)}')\n",
    "print(f'Sum = {sum(grades)}')\n",
    "print(f'Count = {len(grades)}')\n",
    "print(f'Average = {round(sum(grades)/len(grades),2)}')"
   ]
  },
  {
   "cell_type": "markdown",
   "metadata": {},
   "source": [
    "## Using `in`"
   ]
  },
  {
   "cell_type": "code",
   "execution_count": 6,
   "metadata": {},
   "outputs": [
    {
     "name": "stdout",
     "output_type": "stream",
     "text": [
      "I found a match\n"
     ]
    }
   ],
   "source": [
    "cities = [\"Los Angeles\", \"Memphis\", \"New York\", \"London\", \"Seattle\", \"Madrid\"]\n",
    "\n",
    "mycity = \"Los Angeles\"\n",
    "\n",
    "if mycity in cities:\n",
    "    print(\"I found a match\")\n",
    "else:\n",
    "    print(\"It is not in the list\")\n"
   ]
  },
  {
   "cell_type": "markdown",
   "metadata": {},
   "source": [
    "## Matching"
   ]
  },
  {
   "cell_type": "code",
   "execution_count": 16,
   "metadata": {},
   "outputs": [
    {
     "data": {
      "text/plain": [
       "False"
      ]
     },
     "execution_count": 16,
     "metadata": {},
     "output_type": "execute_result"
    }
   ],
   "source": [
    "Students = [\"Mark\", \"mark\", \"MArK\", \"Jim\"]\n",
    "\n",
    "\"maRk\" in Students"
   ]
  },
  {
   "cell_type": "code",
   "execution_count": 17,
   "metadata": {},
   "outputs": [
    {
     "data": {
      "text/plain": [
       "True"
      ]
     },
     "execution_count": 17,
     "metadata": {},
     "output_type": "execute_result"
    }
   ],
   "source": [
    "\"maRk\".upper() in [x.upper() for x in Students]"
   ]
  },
  {
   "cell_type": "code",
   "execution_count": 18,
   "metadata": {},
   "outputs": [
    {
     "data": {
      "text/plain": [
       "['MARK', 'MARK', 'MARK', 'JIM']"
      ]
     },
     "execution_count": 18,
     "metadata": {},
     "output_type": "execute_result"
    }
   ],
   "source": [
    "[x.upper() for x in Students]"
   ]
  },
  {
   "cell_type": "code",
   "execution_count": 20,
   "metadata": {},
   "outputs": [
    {
     "name": "stdout",
     "output_type": "stream",
     "text": [
      "True\n",
      "True\n",
      "True\n",
      "False\n"
     ]
    }
   ],
   "source": [
    "for name in Students:\n",
    "    if \"maRk\".upper() == name.upper():\n",
    "        print(True)\n",
    "    else:\n",
    "        print(False)"
   ]
  },
  {
   "cell_type": "markdown",
   "metadata": {},
   "source": [
    "## Printing and Formatting: `\\n` for new line"
   ]
  },
  {
   "cell_type": "code",
   "execution_count": 24,
   "metadata": {},
   "outputs": [
    {
     "data": {
      "text/plain": [
       "'Mark went on a hike.\\nThen he came back late.\\nHe got in Trouble'"
      ]
     },
     "execution_count": 24,
     "metadata": {},
     "output_type": "execute_result"
    }
   ],
   "source": [
    "sometext = \"Mark went on a hike.\\nThen he came back late.\\nHe got in Trouble\"\n",
    "sometext"
   ]
  },
  {
   "cell_type": "code",
   "execution_count": 25,
   "metadata": {},
   "outputs": [
    {
     "name": "stdout",
     "output_type": "stream",
     "text": [
      "Mark went on a hike.\n",
      "Then he came back late.\n",
      "He got in Trouble\n"
     ]
    }
   ],
   "source": [
    "print(sometext)"
   ]
  },
  {
   "cell_type": "code",
   "execution_count": 28,
   "metadata": {},
   "outputs": [],
   "source": [
    "name = \"Jack\"\n",
    "age = 12\n",
    "anothertext = (\n",
    "    f\"\\nMy analysis\\n\"\n",
    "    f\"-------------\\n\"\n",
    "    f\"The name is {name}\\n\"\n",
    "    f\"The age = {age}\\n\")"
   ]
  },
  {
   "cell_type": "code",
   "execution_count": 29,
   "metadata": {},
   "outputs": [
    {
     "data": {
      "text/plain": [
       "'\\nMy analysis\\n-------------\\nThe name is Jack\\nThe age = 12\\n'"
      ]
     },
     "execution_count": 29,
     "metadata": {},
     "output_type": "execute_result"
    }
   ],
   "source": [
    "anothertext"
   ]
  },
  {
   "cell_type": "code",
   "execution_count": 30,
   "metadata": {},
   "outputs": [
    {
     "name": "stdout",
     "output_type": "stream",
     "text": [
      "\n",
      "My analysis\n",
      "-------------\n",
      "The name is Jack\n",
      "The age = 12\n",
      "\n"
     ]
    }
   ],
   "source": [
    "print(anothertext)"
   ]
  },
  {
   "cell_type": "code",
   "execution_count": 31,
   "metadata": {},
   "outputs": [
    {
     "data": {
      "text/plain": [
       "str"
      ]
     },
     "execution_count": 31,
     "metadata": {},
     "output_type": "execute_result"
    }
   ],
   "source": [
    "type(anothertext)"
   ]
  },
  {
   "cell_type": "markdown",
   "metadata": {},
   "source": [
    "## Using f-string is not just for printing"
   ]
  },
  {
   "cell_type": "code",
   "execution_count": 34,
   "metadata": {},
   "outputs": [
    {
     "name": "stdout",
     "output_type": "stream",
     "text": [
      "my name is Jack and I am 12 years old\n"
     ]
    }
   ],
   "source": [
    "fullsentence = f\"my name is {name} and I am {age} years old\"\n",
    "print(fullsentence)"
   ]
  },
  {
   "cell_type": "markdown",
   "metadata": {},
   "source": [
    "same as above but adding some formatting with `\\n` for new lines"
   ]
  },
  {
   "cell_type": "code",
   "execution_count": 38,
   "metadata": {},
   "outputs": [
    {
     "name": "stdout",
     "output_type": "stream",
     "text": [
      "my name is Jack\n",
      "and I am 12 years old\n"
     ]
    }
   ],
   "source": [
    "fullsentence = f\"my name is {name}\\nand I am {age} years old\"\n",
    "print(fullsentence)"
   ]
  },
  {
   "cell_type": "markdown",
   "metadata": {},
   "source": [
    "## More on Dictionaries"
   ]
  },
  {
   "cell_type": "code",
   "execution_count": 11,
   "metadata": {},
   "outputs": [],
   "source": [
    "profiles = [\n",
    "    {\n",
    "        \"name\": \"John Smith\",\n",
    "        \"followers\": 123,\n",
    "        \"following\": 100,\n",
    "        \"active\": True,\n",
    "        \"city\": \"Los Angeles\"\n",
    "    },\n",
    "    {\n",
    "        \"name\": \"Mark Twain\",\n",
    "        \"followers\": 90,\n",
    "        \"following\": 5,\n",
    "        \"active\": True,\n",
    "        \"city\": \"Seattle\"\n",
    "    },\n",
    "    {\n",
    "        \"name\": \"Samantha Collins\",\n",
    "        \"followers\": 500,\n",
    "        \"following\": 640,\n",
    "        \"active\": True,\n",
    "        \"city\": \"Las Vegas\"\n",
    "    },\n",
    "    {\n",
    "        \"name\": \"Susan Smith\",\n",
    "        \"followers\": 120,\n",
    "        \"following\": 4,\n",
    "        \"active\": False,\n",
    "        \"city\": \"Los Angeles\"\n",
    "    },\n",
    "        {\n",
    "        \"name\": \"Margret John\",\n",
    "        \"followers\": 23,\n",
    "        \"following\": 23,\n",
    "        \"active\": False,\n",
    "        \"city\": \"Los Angeles\"\n",
    "    },\n",
    "        {\n",
    "        \"name\": \"Mike McDonald\",\n",
    "        \"followers\": 620,\n",
    "        \"following\": 400,\n",
    "        \"active\": False,\n",
    "        \"city\": \"Seattle\"\n",
    "    }\n",
    "    \n",
    "]"
   ]
  },
  {
   "cell_type": "code",
   "execution_count": 13,
   "metadata": {},
   "outputs": [
    {
     "data": {
      "text/plain": [
       "6"
      ]
     },
     "execution_count": 13,
     "metadata": {},
     "output_type": "execute_result"
    }
   ],
   "source": [
    "len(profiles)"
   ]
  },
  {
   "cell_type": "code",
   "execution_count": 15,
   "metadata": {},
   "outputs": [
    {
     "name": "stdout",
     "output_type": "stream",
     "text": [
      "John Smith\n",
      "Mark Twain\n",
      "Samantha Collins\n",
      "Susan Smith\n",
      "Margret John\n",
      "Mike McDonald\n"
     ]
    }
   ],
   "source": [
    "for i in profiles:\n",
    "    print(i[\"name\"])"
   ]
  },
  {
   "cell_type": "code",
   "execution_count": 16,
   "metadata": {},
   "outputs": [
    {
     "name": "stdout",
     "output_type": "stream",
     "text": [
      "1476\n"
     ]
    }
   ],
   "source": [
    "count = 0\n",
    "for i in profiles:\n",
    "    count += i[\"followers\"]\n",
    "print(count)"
   ]
  },
  {
   "cell_type": "code",
   "execution_count": 17,
   "metadata": {},
   "outputs": [
    {
     "name": "stdout",
     "output_type": "stream",
     "text": [
      "['Los Angeles', 'Seattle', 'Las Vegas']\n"
     ]
    }
   ],
   "source": [
    "cities = []\n",
    "\n",
    "for i in profiles:\n",
    "    if i[\"city\"] not in cities:\n",
    "        cities.append(i[\"city\"])\n",
    "\n",
    "print(cities)"
   ]
  },
  {
   "cell_type": "markdown",
   "metadata": {},
   "source": [
    "## Using `OS` Module"
   ]
  },
  {
   "cell_type": "code",
   "execution_count": 21,
   "metadata": {},
   "outputs": [
    {
     "data": {
      "text/plain": [
       "'/Users/tarekatwan/Desktop/13- Combined Notebook/Notebook'"
      ]
     },
     "execution_count": 21,
     "metadata": {},
     "output_type": "execute_result"
    }
   ],
   "source": [
    "import os\n",
    "os.getcwd()"
   ]
  },
  {
   "cell_type": "code",
   "execution_count": 29,
   "metadata": {},
   "outputs": [
    {
     "data": {
      "text/plain": [
       "'../Resources/employees.csv'"
      ]
     },
     "execution_count": 29,
     "metadata": {},
     "output_type": "execute_result"
    }
   ],
   "source": [
    "# point to employees.csv in the Resources folder\n",
    "filepath = os.path.join(\"..\", \"Resources\", \"employees.csv\")\n",
    "filepath"
   ]
  },
  {
   "cell_type": "code",
   "execution_count": 34,
   "metadata": {},
   "outputs": [
    {
     "name": "stdout",
     "output_type": "stream",
     "text": [
      "<_csv.reader object at 0x10acd96d8>\n",
      "Tina\n",
      "Erica\n",
      "Paula\n",
      "James\n",
      "Lauren\n",
      "David\n",
      "Andrew\n",
      "Julian\n",
      "Scott\n",
      "Billy\n",
      "Darrell\n",
      "David\n"
     ]
    }
   ],
   "source": [
    "import csv\n",
    "with open(filepath, 'r', newline='') as csvfile:\n",
    "    csvcontent = csv.reader(csvfile, delimiter=',')\n",
    "    \n",
    "    print(csvcontent)\n",
    "    header = next(csvcontent)\n",
    "    for i in csvcontent:\n",
    "        print(i[0])"
   ]
  },
  {
   "cell_type": "markdown",
   "metadata": {},
   "source": [
    "## Another way with `OS`"
   ]
  },
  {
   "cell_type": "code",
   "execution_count": 35,
   "metadata": {},
   "outputs": [
    {
     "data": {
      "text/plain": [
       "'/Users/tarekatwan/Desktop/13- Combined Notebook/Resources'"
      ]
     },
     "execution_count": 35,
     "metadata": {},
     "output_type": "execute_result"
    }
   ],
   "source": [
    "os.chdir('../Resources')\n",
    "os.getcwd()"
   ]
  },
  {
   "cell_type": "code",
   "execution_count": 36,
   "metadata": {},
   "outputs": [
    {
     "name": "stdout",
     "output_type": "stream",
     "text": [
      "<_csv.reader object at 0x10acd9a58>\n",
      "Tina\n",
      "Erica\n",
      "Paula\n",
      "James\n",
      "Lauren\n",
      "David\n",
      "Andrew\n",
      "Julian\n",
      "Scott\n",
      "Billy\n",
      "Darrell\n",
      "David\n"
     ]
    }
   ],
   "source": [
    "import csv\n",
    "with open('employees.csv', 'r', newline='') as csvfile:\n",
    "    csvcontent = csv.reader(csvfile, delimiter=',')\n",
    "    \n",
    "    print(csvcontent)\n",
    "    header = next(csvcontent)\n",
    "    for i in csvcontent:\n",
    "        print(i[0])"
   ]
  },
  {
   "cell_type": "code",
   "execution_count": null,
   "metadata": {},
   "outputs": [],
   "source": []
  }
 ],
 "metadata": {
  "kernelspec": {
   "display_name": "Python 3",
   "language": "python",
   "name": "python3"
  },
  "language_info": {
   "codemirror_mode": {
    "name": "ipython",
    "version": 3
   },
   "file_extension": ".py",
   "mimetype": "text/x-python",
   "name": "python",
   "nbconvert_exporter": "python",
   "pygments_lexer": "ipython3",
   "version": "3.6.7"
  }
 },
 "nbformat": 4,
 "nbformat_minor": 4
}
