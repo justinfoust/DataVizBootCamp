{
 "cells": [
  {
   "cell_type": "markdown",
   "metadata": {},
   "source": [
    "# 03 -- Python -- Day 3 -- Activities"
   ]
  },
  {
   "cell_type": "markdown",
   "metadata": {},
   "source": [
    "---\n",
    "### 03 -- Python -- Day 2 -- 07-Ins_ReadCSV"
   ]
  },
  {
   "cell_type": "code",
   "execution_count": 9,
   "metadata": {},
   "outputs": [
    {
     "name": "stdout",
     "output_type": "stream",
     "text": [
      "..\\..\\Day 2\\07-Ins_ReadCSV\\Resources\\accounting.csv\n",
      "['Tina', 'Fleming', '619-16-7988']\n",
      "['Erica', 'Shah', '164-51-7615']\n",
      "['Paula', 'Ortiz', '051-83-3290']\n",
      "['James', 'Hendricks', '776-83-2884']\n",
      "['Lauren', 'King', '197-94-2398']\n",
      "['David', 'Cowan', '252-92-1832']\n",
      "['Andrew', 'Burton', '296-23-6842']\n",
      "['Julian', 'Baker', '337-40-7543']\n",
      "['Scott', 'Castro', '399-46-5595']\n",
      "['Billy', 'Rodriguez', '014-18-2503']\n",
      "['Darrell', 'Leblanc', '005-82-7918']\n",
      "['David', 'Hammond', '561-17-6312']\n"
     ]
    }
   ],
   "source": [
    "import os\n",
    "import csv\n",
    "\n",
    "file = os.path.join('..','..','Day 2','07-Ins_ReadCSV','Resources','accounting.csv')\n",
    "print(file)\n",
    "\n",
    "with open(file, newline='') as csvfile:\n",
    "    \n",
    "    csvreader = csv.reader(csvfile, delimiter=',')\n",
    "    \n",
    "    #Skips the first line\n",
    "    header = next(csvreader)\n",
    "    \n",
    "    for line in csvreader:\n",
    "        print(line)\n"
   ]
  },
  {
   "cell_type": "markdown",
   "metadata": {},
   "source": [
    "---\n",
    "## 03 -- Python -- Day 2 -- 08-Stu_ReadNetFlix"
   ]
  },
  {
   "cell_type": "code",
   "execution_count": 35,
   "metadata": {},
   "outputs": [
    {
     "name": "stdin",
     "output_type": "stream",
     "text": [
      "Type in a movie choice: Narcos\n"
     ]
    }
   ],
   "source": [
    "import os\n",
    "import csv\n",
    "\n",
    "userChoice = input('Type in a movie choice:')\n",
    "\n",
    "file = os.path.join('..','..','Day 2','08-Stu_ReadNetFlix','Resources','netflix_ratings.csv')\n",
    "wFile = os.path.join('..','..','Day 2','08-Stu_ReadNetFlix','Resources','netflix_result.csv')\n",
    "\n",
    "movieFound = False\n",
    "result = []\n",
    "\n",
    "with open(file, newline='') as csvfile:\n",
    "    \n",
    "    csvreader = csv.reader(csvfile, delimiter=',')\n",
    "    \n",
    "    header = next(csvreader)\n",
    "    \n",
    "    for line in csvreader:\n",
    "        if line[0] == userChoice:\n",
    "            result.append(line[0] + ' is rated ' + line[1] + ' with a rating of ' + line[3])\n",
    "            found = True\n",
    "            break\n",
    "\n",
    "    if found == False:\n",
    "        print('Movie was not found')\n",
    "        \n",
    "with open(wFile, newline='', mode='w') as csvresult:\n",
    "    \n",
    "    csvwriter = csv.writer(csvresult, delimiter=',')\n",
    "    csvwriter.writerow(result)\n",
    "        "
   ]
  },
  {
   "cell_type": "markdown",
   "metadata": {},
   "source": [
    "---\n",
    "### 03 -- Python -- Day 3 -- 01-Stu_CerialCleaner"
   ]
  },
  {
   "cell_type": "code",
   "execution_count": 43,
   "metadata": {},
   "outputs": [
    {
     "name": "stdout",
     "output_type": "stream",
     "text": [
      "Header: ['ï»¿name', 'mfr', 'type', 'calories', 'protein', 'fat', 'sodium', 'fiber', 'carbo', 'sugars', 'potass', 'vitamins', 'shelf', 'weight', 'cups', 'rating']\n",
      "['100% Bran', 'N', 'C', '70', '4', '1', '130', '10', '5', '6', '280', '25', '3', '1', '0.33', '68.402973']\n",
      "['All-Bran', 'K', 'C', '70', '4', '1', '260', '9', '7', '5', '320', '25', '3', '1', '0.33', '59.425505']\n",
      "['All-Bran with Extra Fiber', 'K', 'C', '50', '4', '0', '140', '14', '8', '0', '330', '25', '3', '1', '0.5', '93.704912']\n",
      "['Bran Flakes', 'P', 'C', '90', '3', '0', '210', '5', '13', '5', '190', '25', '3', '1', '0.67', '53.313813']\n",
      "['Fruit & Fibre Dates; Walnuts; and Oats', 'P', 'C', '120', '3', '2', '160', '5', '12', '10', '200', '25', '3', '1.25', '0.67', '40.917047']\n",
      "['Fruitful Bran', 'K', 'C', '120', '3', '0', '240', '5', '14', '12', '190', '25', '3', '1.33', '0.67', '41.015492']\n",
      "['Post Nat. Raisin Bran', 'P', 'C', '120', '3', '1', '200', '6', '11', '14', '260', '25', '3', '1.33', '0.67', '37.840594']\n",
      "['Raisin Bran', 'K', 'C', '120', '3', '1', '210', '5', '14', '12', '240', '25', '2', '1.33', '0.75', '39.259197']\n"
     ]
    }
   ],
   "source": [
    "import os\n",
    "import csv\n",
    "\n",
    "file = os.path.join('..','..','Day 3','Activities','01-Stu_CerealCleaner','Resources','cereal.csv')\n",
    "\n",
    "with open(file, newline='') as csvFile:\n",
    "    \n",
    "    csvReader = csv.reader(csvFile, delimiter=',')\n",
    "    \n",
    "    header = next(csvReader)\n",
    "    print(f'Header: {header}')\n",
    "    \n",
    "    for cerial in csvReader:\n",
    "        if float(cerial[7]) >= 5:\n",
    "            print(cerial)"
   ]
  },
  {
   "cell_type": "markdown",
   "metadata": {},
   "source": [
    "---\n",
    "### 03 -- Python -- Day 3 -- 03-Stu_HobbyBook"
   ]
  },
  {
   "cell_type": "code",
   "execution_count": 64,
   "metadata": {},
   "outputs": [
    {
     "name": "stdout",
     "output_type": "stream",
     "text": [
      "Justin 37 2\n"
     ]
    }
   ],
   "source": [
    "hobbies = {'name': 'Justin',\n",
    "          'age': 37,\n",
    "          'hobby': [\n",
    "              'origami',\n",
    "              '3D printing'\n",
    "          ]}\n",
    "\n",
    "print(f\"{hobbies['name']} {hobbies['age']} {len(hobbies['hobby'])}\")"
   ]
  },
  {
   "cell_type": "markdown",
   "metadata": {},
   "source": [
    "---\n",
    "### 03 -- Python -- Day 3 -- 05-Stu_List_Comprehensions"
   ]
  },
  {
   "cell_type": "code",
   "execution_count": 66,
   "metadata": {},
   "outputs": [
    {
     "name": "stdin",
     "output_type": "stream",
     "text": [
      "Please enter the name of someone you know.  d\n",
      "Please enter the name of someone you know.  f\n",
      "Please enter the name of someone you know.  g\n",
      "Please enter the name of someone you know.  e\n",
      "Please enter the name of someone you know.  s\n"
     ]
    },
    {
     "name": "stdout",
     "output_type": "stream",
     "text": [
      "Dear YOUR CODE HERE!, please come to the wedding this Saturday!\n"
     ]
    }
   ],
   "source": [
    "names = []\n",
    "for _ in range(5):\n",
    "    name = input(\"Please enter the name of someone you know. \")\n",
    "    names.append(name)\n",
    "\n",
    "# @TODO: Use a list comprehension to create a list of lowercased names\n",
    "lowercased = [\"YOUR CODE HERE!\"]\n",
    "\n",
    "# @TODO: Use a list comprehension to create a list of titlecased names\n",
    "# https://www.tutorialspoint.com/python/string_title.htm\n",
    "titlecased = [\"YOUR CODE HERE!\"]\n",
    "\n",
    "invitations = [\n",
    "    f\"Dear {name}, please come to the wedding this Saturday!\" for name in titlecased]\n",
    "\n",
    "for invitation in invitations:\n",
    "    print(invitation)\n"
   ]
  },
  {
   "cell_type": "code",
   "execution_count": null,
   "metadata": {},
   "outputs": [],
   "source": []
  }
 ],
 "metadata": {
  "kernelspec": {
   "display_name": "Python 3",
   "language": "python",
   "name": "python3"
  },
  "language_info": {
   "codemirror_mode": {
    "name": "ipython",
    "version": 3
   },
   "file_extension": ".py",
   "mimetype": "text/x-python",
   "name": "python",
   "nbconvert_exporter": "python",
   "pygments_lexer": "ipython3",
   "version": "3.7.3"
  }
 },
 "nbformat": 4,
 "nbformat_minor": 4
}
