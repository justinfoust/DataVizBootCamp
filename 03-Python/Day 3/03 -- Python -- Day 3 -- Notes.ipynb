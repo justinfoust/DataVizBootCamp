{
 "cells": [
  {
   "cell_type": "markdown",
   "metadata": {},
   "source": [
    "# 03 -- Python -- Day 3 -- Notes"
   ]
  },
  {
   "cell_type": "markdown",
   "metadata": {},
   "source": [
    "---\n",
    "### Warmup exercises from HackerRank"
   ]
  },
  {
   "cell_type": "code",
   "execution_count": 12,
   "metadata": {},
   "outputs": [],
   "source": [
    "list_of_items = (14.5,'Apple','Chocolate',23.50,'Vanilla',26.15,'Berry',13.15,10.99)\n",
    "\n",
    "pies = []\n",
    "cost = []\n",
    "\n",
    "for item in list_of_items:\n",
    "    \n",
    "    if type(item) == float:\n",
    "        cost.append(item)\n",
    "    elif type(item) == str:\n",
    "        pies.append(item)"
   ]
  },
  {
   "cell_type": "markdown",
   "metadata": {},
   "source": [
    "## Task  \n",
    "\n",
    "Read an integer *N* for all non-negative integers i < *N*, print i^2\n",
    "\n",
    "## Input Format  \n",
    "\n",
    "The first and only line contains the integer, *N*.\n",
    "\n",
    "## Output  \n",
    "Print *N* lines, one corresponding to each *i*\n",
    "\n",
    "Example:  \n",
    "\n",
    "    input = 5\n",
    "    \n",
    "    output\n",
    "    \n",
    "    0\n",
    "    1\n",
    "    4\n",
    "    9\n",
    "    16"
   ]
  },
  {
   "cell_type": "code",
   "execution_count": 15,
   "metadata": {},
   "outputs": [
    {
     "name": "stdout",
     "output_type": "stream",
     "text": [
      "Enter a non-negative integer9\n",
      "0\n",
      "1\n",
      "4\n",
      "9\n",
      "16\n",
      "25\n",
      "36\n",
      "49\n",
      "64\n"
     ]
    }
   ],
   "source": [
    "userNum = int(input('Enter a non-negative integer'))\n",
    "\n",
    "for num in range(userNum):\n",
    "    print(num**2)"
   ]
  },
  {
   "cell_type": "code",
   "execution_count": 18,
   "metadata": {},
   "outputs": [
    {
     "name": "stdout",
     "output_type": "stream",
     "text": [
      "Enter a non-negative integer88\n",
      "Not Weird\n"
     ]
    }
   ],
   "source": [
    "userNum = int(input('Enter a non-negative integer'))\n",
    "\n",
    "if userNum % 2 == 1:\n",
    "    print('Weird')\n",
    "elif (2 <= userNum <= 5) and (userNum % 2 == 0):\n",
    "    print('Not Weird')\n",
    "elif (6 <= userNum <= 20) and (userNum % 2 == 0):\n",
    "    print('Weird')\n",
    "elif (userNum > 20) and (userNum % 2 == 0):\n",
    "    print('Not Weird')"
   ]
  },
  {
   "cell_type": "markdown",
   "metadata": {},
   "source": [
    "---\n",
    "## <font color=red>Working with Files</font>"
   ]
  },
  {
   "cell_type": "markdown",
   "metadata": {},
   "source": [
    "If you are accessing a file you have to open it and close it when you are done\n",
    "\n",
    "``` python\n",
    "file = '<file path>'\n",
    "\n",
    "f = open(file, 'r')\n",
    "\n",
    "for i in f:\n",
    "    pritn(i)\n",
    "   \n",
    "f.close()\n",
    "```\n",
    "\n",
    "To not have to worry about closing an open file, use the with statement\n",
    "\n",
    "``` python\n",
    "with open(file, 'r') as i:\n",
    "    \n",
    "    <code goes here>\n",
    "```"
   ]
  },
  {
   "cell_type": "markdown",
   "metadata": {},
   "source": [
    "---\n",
    "## <font color=red>Working with .csv Files</font>"
   ]
  },
  {
   "cell_type": "markdown",
   "metadata": {},
   "source": [
    "Need to import module first in order to work with CSV files\n",
    "\n",
    "``` python\n",
    "import os\n",
    "\n",
    "#Important in order to have the proper path naming convension used for specific OS\n",
    "os.path.join('..', 'Desktop', 'DataViz', 'Homework.py')\n",
    "```\n",
    "\n",
    "Use next() to cycle to the next item in the list.  Additionally it create a pointer to where it left off for use in a *for* loop \n",
    "\n",
    "After opening the file a reader or writer can be invoked.  Need to specify the delimiter in order for it to know how to parse the file.\n",
    "\n",
    ">```python\n",
    "with open(<file path>, mode='r') as csvFile:\n",
    "    csvreader = csv.reader(csvFile, delimiter=',')\n",
    "```\n",
    "    \n",
    ">```python\n",
    "with open(<file path>, mode='w') as csvFile:\n",
    "    csvwriter = csv.writer(csvFile, delimiter=',')\n",
    "    csvwriter.writerow(<data to write>)\n",
    "```"
   ]
  },
  {
   "cell_type": "markdown",
   "metadata": {},
   "source": [
    "---\n",
    "## <font color=red>Functions</font>"
   ]
  },
  {
   "cell_type": "markdown",
   "metadata": {},
   "source": [
    "Defining a funcion is done using *def*, followed by a name and arguments\n",
    "\n",
    "```python\n",
    "def name(arg):\n",
    "    <code>\n",
    "```"
   ]
  },
  {
   "cell_type": "markdown",
   "metadata": {},
   "source": [
    "Defining a function with no arguments:\n",
    "```python\n",
    "def hello():\n",
    "    print('Hello World')\n",
    "```"
   ]
  },
  {
   "cell_type": "markdown",
   "metadata": {},
   "source": [
    "Defining a functino with two arguments:\n",
    "```python\n",
    "def adding(x, y):\n",
    "    print(x + y)\n",
    "```"
   ]
  },
  {
   "cell_type": "markdown",
   "metadata": {},
   "source": [
    "If an argument is definied in the function, it is made the default if not specified with calling the function:\n",
    "```python\n",
    "def emotions(rating, feelings='happy'):\n",
    "    print(feelings, rating)\n",
    "```\n",
    "Because the argument *feelings* was specified, it will give that vaule if not specified."
   ]
  },
  {
   "cell_type": "code",
   "execution_count": 28,
   "metadata": {},
   "outputs": [
    {
     "name": "stdout",
     "output_type": "stream",
     "text": [
      "happy 1\n"
     ]
    }
   ],
   "source": [
    "def emotions(rating, feelings='happy'):\n",
    "    '''\n",
    "    rating = integer\n",
    "    '''\n",
    "    print(feelings, rating)\n",
    "emotions(1)"
   ]
  },
  {
   "cell_type": "code",
   "execution_count": null,
   "metadata": {},
   "outputs": [],
   "source": [
    "emotions()"
   ]
  },
  {
   "cell_type": "markdown",
   "metadata": {},
   "source": [
    "A docstring description can be added to your function using `'''` pairs and typing information between them: \n",
    "```python\n",
    "def emotions(rating, feelings='happy'):\n",
    "    '''\n",
    "    rating = integer\n",
    "    feelings = string\n",
    "    \n",
    "    This function gives the rating and feelings\n",
    "    '''\n",
    "    print(feelings, rating)\n",
    "```\n",
    "The infomation between `'''` pairs will be displayed if you look up information on the function."
   ]
  },
  {
   "cell_type": "markdown",
   "metadata": {},
   "source": [
    "---\n",
    "## <font color=red>Dictionaries</font>"
   ]
  },
  {
   "cell_type": "markdown",
   "metadata": {},
   "source": [
    "Dictionaries will create a list of key-value pairs:\n",
    "```python\n",
    "collection_name = {\n",
    "    'key1': value1,\n",
    "    'key2': value2,\n",
    "    'key3': [\n",
    "        item1,\n",
    "        item2,\n",
    "        item3]\n",
    "}\n",
    "```\n",
    "The key always has to be a string, an item can be a list itself  \n",
    "\n",
    "To call an item in the dictionary use the key:\n",
    "```python\n",
    "print(collection_name['key2'])\n",
    "```"
   ]
  },
  {
   "cell_type": "code",
   "execution_count": 30,
   "metadata": {},
   "outputs": [
    {
     "name": "stdout",
     "output_type": "stream",
     "text": [
      "Tom Cruse\n"
     ]
    }
   ],
   "source": [
    "actor = {'name': 'Tom Cruse'}\n",
    "print(actor['name'])"
   ]
  },
  {
   "cell_type": "code",
   "execution_count": 36,
   "metadata": {},
   "outputs": [
    {
     "name": "stdout",
     "output_type": "stream",
     "text": [
      "['g', 'o', 'o', 's', 'e', 'p', 'u', 'm', 'p', 's']\n"
     ]
    }
   ],
   "source": [
    "bookTitle = 'goosepumps'\n",
    "\n",
    "newList = []\n",
    "\n",
    "for i in bookTitle:\n",
    "    newList.append(i)\n",
    "    \n",
    "newList2 = [i for i in bookTitle]\n",
    "print(newList2)"
   ]
  },
  {
   "cell_type": "code",
   "execution_count": null,
   "metadata": {},
   "outputs": [],
   "source": []
  }
 ],
 "metadata": {
  "kernelspec": {
   "display_name": "Python 3",
   "language": "python",
   "name": "python3"
  },
  "language_info": {
   "codemirror_mode": {
    "name": "ipython",
    "version": 3
   },
   "file_extension": ".py",
   "mimetype": "text/x-python",
   "name": "python",
   "nbconvert_exporter": "python",
   "pygments_lexer": "ipython3",
   "version": "3.7.3"
  }
 },
 "nbformat": 4,
 "nbformat_minor": 4
}
