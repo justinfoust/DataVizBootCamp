{
 "cells": [
  {
   "cell_type": "code",
   "execution_count": 11,
   "metadata": {},
   "outputs": [
    {
     "name": "stdout",
     "output_type": "stream",
     "text": [
      "[['Nikhil', 'COE', '2', '9.0'], ['Sanchit', 'COE', '2', '9.1'], ['Aditya', 'IT', '2', '9.3'], ['Sagar', 'SE', '1', '9.5'], ['Prateek', 'MCE', '3', '7.8'], ['Sahil', 'EP', '2', '9.1']]\n",
      "['Nikhil', 'COE', '2', '9.0']\n",
      "['Sanchit', 'COE', '2', '9.1']\n",
      "['Aditya', 'IT', '2', '9.3']\n",
      "['Sagar', 'SE', '1', '9.5']\n",
      "['Prateek', 'MCE', '3', '7.8']\n",
      "['Sahil', 'EP', '2', '9.1']\n",
      "['Name', 'Branch', 'Year', 'CGPA']\n",
      "[]\n",
      "['Nikhil', 'COE', '2', '9.0']\n",
      "[]\n",
      "['Sanchit', 'COE', '2', '9.1']\n",
      "[]\n",
      "['Aditya', 'IT', '2', '9.3']\n",
      "[]\n",
      "['Sagar', 'SE', '1', '9.5']\n",
      "[]\n",
      "['Prateek', 'MCE', '3', '7.8']\n",
      "[]\n",
      "['Sahil', 'EP', '2', '9.1']\n",
      "[]\n"
     ]
    }
   ],
   "source": [
    "# importing the csv module \n",
    "import csv \n",
    "\n",
    "# field names \n",
    "fields = ['Name', 'Branch', 'Year', 'CGPA'] \n",
    "\n",
    "# data rows of csv file \n",
    "rows = [ ['Nikhil', 'COE', '2', '9.0'], \n",
    "\t\t['Sanchit', 'COE', '2', '9.1'], \n",
    "\t\t['Aditya', 'IT', '2', '9.3'], \n",
    "\t\t['Sagar', 'SE', '1', '9.5'], \n",
    "\t\t['Prateek', 'MCE', '3', '7.8'], \n",
    "\t\t['Sahil', 'EP', '2', '9.1']] \n",
    "\n",
    "print(rows)\n",
    "for line in rows:\n",
    "    print(line)\n",
    "\n",
    "# name of csv file \n",
    "filename = \"university_records.csv\"\n",
    "\n",
    "# writing to csv file \n",
    "with open(filename, 'w') as csvfile: \n",
    "\t# creating a csv writer object \n",
    "\tcsvwriter = csv.writer(csvfile) \n",
    "\t\n",
    "\t# writing the fields \n",
    "\tcsvwriter.writerow(fields) \n",
    "\t\n",
    "\t# writing the data rows \n",
    "\tcsvwriter.writerows(rows)\n",
    "\n",
    "with open(filename, 'r') as csvfile:\n",
    "    csvreader = csv.reader(csvfile)\n",
    "    for line in csvreader:\n",
    "        print(line)\n",
    "    "
   ]
  },
  {
   "cell_type": "code",
   "execution_count": 14,
   "metadata": {},
   "outputs": [
    {
     "name": "stdout",
     "output_type": "stream",
     "text": [
      "Nikhil\n",
      "COE\n",
      "2\n",
      "9.0\n",
      "Sanchit\n",
      "COE\n",
      "2\n",
      "9.1\n",
      "Aditya\n",
      "IT\n",
      "2\n",
      "9.3\n",
      "Sagar\n",
      "SE\n",
      "1\n",
      "9.5\n",
      "Prateek\n",
      "MCE\n",
      "3\n",
      "7.8\n",
      "Sahil\n",
      "EP\n",
      "2\n",
      "9.1\n"
     ]
    }
   ],
   "source": [
    "fields = ['Name', 'Branch', 'Year', 'CGPA'] \n",
    "\n",
    "# data rows of csv file \n",
    "rows = [ ['Nikhil', 'COE', '2', '9.0'], \n",
    "        ['Sanchit', 'COE', '2', '9.1'], \n",
    "        ['Aditya', 'IT', '2', '9.3'], \n",
    "        ['Sagar', 'SE', '1', '9.5'], \n",
    "        ['Prateek', 'MCE', '3', '7.8'], \n",
    "        ['Sahil', 'EP', '2', '9.1']] \n",
    "\n",
    "for line in rows:\n",
    "    for item in line:\n",
    "        print(item)"
   ]
  },
  {
   "cell_type": "code",
   "execution_count": null,
   "metadata": {},
   "outputs": [],
   "source": []
  }
 ],
 "metadata": {
  "kernelspec": {
   "display_name": "Python 3",
   "language": "python",
   "name": "python3"
  },
  "language_info": {
   "codemirror_mode": {
    "name": "ipython",
    "version": 3
   },
   "file_extension": ".py",
   "mimetype": "text/x-python",
   "name": "python",
   "nbconvert_exporter": "python",
   "pygments_lexer": "ipython3",
   "version": "3.7.3"
  }
 },
 "nbformat": 4,
 "nbformat_minor": 4
}
